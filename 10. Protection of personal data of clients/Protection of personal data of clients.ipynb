{
 "cells": [
  {
   "cell_type": "markdown",
   "metadata": {
    "toc": true
   },
   "source": [
    "<h1>Содержание<span class=\"tocSkip\"></span></h1>\n",
    "<div class=\"toc\"><ul class=\"toc-item\"><li><span><a href=\"#Загрузка-данных\" data-toc-modified-id=\"Загрузка-данных-1\"><span class=\"toc-item-num\">1&nbsp;&nbsp;</span>Загрузка данных</a></span></li><li><span><a href=\"#Умножение-матриц\" data-toc-modified-id=\"Умножение-матриц-2\"><span class=\"toc-item-num\">2&nbsp;&nbsp;</span>Умножение матриц</a></span></li><li><span><a href=\"#Алгоритм-преобразования\" data-toc-modified-id=\"Алгоритм-преобразования-3\"><span class=\"toc-item-num\">3&nbsp;&nbsp;</span>Алгоритм преобразования</a></span></li><li><span><a href=\"#Проверка-алгоритма\" data-toc-modified-id=\"Проверка-алгоритма-4\"><span class=\"toc-item-num\">4&nbsp;&nbsp;</span>Проверка алгоритма</a></span></li><li><span><a href=\"#Чек-лист-проверки\" data-toc-modified-id=\"Чек-лист-проверки-5\"><span class=\"toc-item-num\">5&nbsp;&nbsp;</span>Чек-лист проверки</a></span></li></ul></div>"
   ]
  },
  {
   "cell_type": "markdown",
   "metadata": {},
   "source": [
    "# Защита персональных данных клиентов"
   ]
  },
  {
   "cell_type": "markdown",
   "metadata": {},
   "source": [
    "Вам нужно защитить данные клиентов страховой компании «Хоть потоп». Разработайте такой метод преобразования данных, чтобы по ним было сложно восстановить персональную информацию. Обоснуйте корректность его работы.\n",
    "\n",
    "Нужно защитить данные, чтобы при преобразовании качество моделей машинного обучения не ухудшилось. Подбирать наилучшую модель не требуется."
   ]
  },
  {
   "cell_type": "markdown",
   "metadata": {},
   "source": [
    "## Загрузка данных"
   ]
  },
  {
   "cell_type": "markdown",
   "metadata": {},
   "source": [
    "Загружаем необходимые библиотеки "
   ]
  },
  {
   "cell_type": "code",
   "execution_count": 1,
   "metadata": {},
   "outputs": [],
   "source": [
    "import pandas as pd\n",
    "import numpy as np\n",
    "from sklearn.linear_model import LinearRegression\n",
    "from sklearn.metrics import r2_score\n",
    "import matplotlib.pyplot as plt  \n",
    "import pandas as pd  \n",
    "import seaborn as sns  \n",
    "from sklearn.model_selection import train_test_split\n",
    "from random import randint\n",
    "\n"
   ]
  },
  {
   "cell_type": "markdown",
   "metadata": {},
   "source": [
    "Загружаем дата сет"
   ]
  },
  {
   "cell_type": "code",
   "execution_count": 2,
   "metadata": {},
   "outputs": [],
   "source": [
    "data = pd.read_csv('/datasets/insurance.csv')"
   ]
  },
  {
   "cell_type": "markdown",
   "metadata": {},
   "source": [
    "Проверяем дата сет"
   ]
  },
  {
   "cell_type": "code",
   "execution_count": 3,
   "metadata": {},
   "outputs": [
    {
     "name": "stdout",
     "output_type": "stream",
     "text": [
      "<class 'pandas.core.frame.DataFrame'>\n",
      "RangeIndex: 5000 entries, 0 to 4999\n",
      "Data columns (total 5 columns):\n",
      " #   Column             Non-Null Count  Dtype  \n",
      "---  ------             --------------  -----  \n",
      " 0   Пол                5000 non-null   int64  \n",
      " 1   Возраст            5000 non-null   float64\n",
      " 2   Зарплата           5000 non-null   float64\n",
      " 3   Члены семьи        5000 non-null   int64  \n",
      " 4   Страховые выплаты  5000 non-null   int64  \n",
      "dtypes: float64(2), int64(3)\n",
      "memory usage: 195.4 KB\n",
      "\n",
      "<class 'pandas.core.frame.DataFrame'>\n",
      "RangeIndex: 5000 entries, 0 to 4999\n",
      "Data columns (total 5 columns):\n",
      " #   Column             Non-Null Count  Dtype  \n",
      "---  ------             --------------  -----  \n",
      " 0   Пол                5000 non-null   int64  \n",
      " 1   Возраст            5000 non-null   float64\n",
      " 2   Зарплата           5000 non-null   float64\n",
      " 3   Члены семьи        5000 non-null   int64  \n",
      " 4   Страховые выплаты  5000 non-null   int64  \n",
      "dtypes: float64(2), int64(3)\n",
      "memory usage: 195.4 KB\n"
     ]
    }
   ],
   "source": [
    "data.info()\n",
    "data.drop_duplicates()\n",
    "print()\n",
    "data.info()\n"
   ]
  },
  {
   "cell_type": "code",
   "execution_count": 4,
   "metadata": {},
   "outputs": [
    {
     "name": "stdout",
     "output_type": "stream",
     "text": [
      "   Пол  Возраст  Зарплата  Члены семьи  Страховые выплаты\n",
      "0    1     41.0   49600.0            1                  0\n",
      "1    0     46.0   38000.0            1                  1\n",
      "2    0     29.0   21000.0            0                  0\n",
      "3    0     21.0   41700.0            2                  0\n",
      "4    1     28.0   26100.0            0                  0\n"
     ]
    }
   ],
   "source": [
    "print(data.head())"
   ]
  },
  {
   "cell_type": "markdown",
   "metadata": {},
   "source": [
    "Смотрим зависимость признаков"
   ]
  },
  {
   "cell_type": "code",
   "execution_count": 5,
   "metadata": {
    "scrolled": true
   },
   "outputs": [
    {
     "name": "stdout",
     "output_type": "stream",
     "text": [
      "                        Пол   Возраст  Зарплата  Члены семьи  \\\n",
      "Пол                1.000000  0.002074  0.014910    -0.008991   \n",
      "Возраст            0.002074  1.000000 -0.019093    -0.006692   \n",
      "Зарплата           0.014910 -0.019093  1.000000    -0.030296   \n",
      "Члены семьи       -0.008991 -0.006692 -0.030296     1.000000   \n",
      "Страховые выплаты  0.010140  0.651030 -0.014963    -0.036290   \n",
      "\n",
      "                   Страховые выплаты  \n",
      "Пол                         0.010140  \n",
      "Возраст                     0.651030  \n",
      "Зарплата                   -0.014963  \n",
      "Члены семьи                -0.036290  \n",
      "Страховые выплаты           1.000000  \n"
     ]
    },
    {
     "data": {
      "image/png": "[encoded data removed]",
      "text/plain": [
       "<Figure size 432x288 with 2 Axes>"
      ]
     },
     "metadata": {
      "needs_background": "light"
     },
     "output_type": "display_data"
    }
   ],
   "source": [
    "print(data.corr())  \n",
    "data_plot = sns.heatmap(data.corr(), cmap=\"YlGnBu\", annot=True)  \n",
    "\n",
    "plt.show()"
   ]
  },
  {
   "cell_type": "markdown",
   "metadata": {},
   "source": [
    "Наибольшая зависимость в данных есть только между возрастом и страховыми выплатами"
   ]
  },
  {
   "cell_type": "markdown",
   "metadata": {},
   "source": [
    "## Умножение матриц"
   ]
  },
  {
   "cell_type": "markdown",
   "metadata": {},
   "source": [
    "В этом задании вы можете записывать формулы в *Jupyter Notebook.*\n",
    "\n",
    "Чтобы записать формулу внутри текста, окружите её символами доллара \\\\$; если снаружи —  двойными символами \\\\$\\\\$. Эти формулы записываются на языке вёрстки *LaTeX.* \n",
    "\n",
    "Для примера мы записали формулы линейной регрессии. Можете их скопировать и отредактировать, чтобы решить задачу.\n",
    "\n",
    "Работать в *LaTeX* необязательно."
   ]
  },
  {
   "cell_type": "markdown",
   "metadata": {},
   "source": [
    "Обозначения:\n",
    "\n",
    "- $X$ — матрица признаков (нулевой столбец состоит из единиц)\n",
    "\n",
    "- $y$ — вектор целевого признака\n",
    "\n",
    "- $P$ — матрица, на которую умножаются признаки\n",
    "\n",
    "- $w$ — вектор весов линейной регрессии (нулевой элемент равен сдвигу)"
   ]
  },
  {
   "cell_type": "markdown",
   "metadata": {},
   "source": [
    "Предсказания:\n",
    "\n",
    "$$\n",
    "a = Xw\n",
    "$$\n",
    "\n",
    "Задача обучения:\n",
    "\n",
    "$$\n",
    "w = \\arg\\min_w MSE(Xw, y)\n",
    "$$\n",
    "\n",
    "Формула обучения:\n",
    "\n",
    "$$\n",
    "w = (X^T X)^{-1} X^T y\n",
    "$$"
   ]
  },
  {
   "cell_type": "markdown",
   "metadata": {},
   "source": [
    "**Ответ:** b \n",
    "\n",
    "Предсказания\n",
    "\n",
    "$a = X w$\n",
    "\n",
    "Формула обучения линейной регрессии\n",
    "\n",
    "$w = (X^TX)^{-1}X^Tx$\n",
    "\n",
    "Преобразуем выражение для w':\n",
    "\n",
    "$w' = (Y^TY)^{-1} Y^Ty =$\n",
    "\n",
    "$= ((XP)^T(XP))^{-1} (XP)^Ty =$\n",
    "\n",
    "$= P^{-1}((XP)^{T}X)^{-1} (XP)^Ty =$\n",
    "\n",
    "$= P^{-1}((XP)^{T}X)^{-1} P^TX^Ty =$\n",
    "\n",
    "$= P^{-1}(P^TX^TX)^{-1} P^TX^Ty =$\n",
    "\n",
    "$= P^{-1}(X^TX)^{-1}(P^T)^{-1} P^TX^Ty$\n",
    "\n",
    "Сократим\n",
    "\n",
    "$(P^{T})^{-1} P^T = P^{-1}(X^TX)^{-1} X^Ty$\n",
    "\n",
    "\n",
    "Произведем замену\n",
    "\n",
    "$w = (X^TX)^{-1}X^Ty = P^{-1}w$\n",
    "\n",
    "\n",
    "Тогда: $w(y)= P^{-1}w$\n",
    "\n",
    "Подставим для X' и w' в формулу для расчета a':\n",
    "\n",
    "$a'=X'w' = XPP^{-1}w = Xw = a$\n",
    "\n",
    "\n",
    "Выражения тождественны. Векторы предсказаний совпали."
   ]
  },
  {
   "cell_type": "markdown",
   "metadata": {},
   "source": [
    "## Алгоритм преобразования"
   ]
  },
  {
   "cell_type": "markdown",
   "metadata": {},
   "source": [
    "**Алгоритм**\n",
    "\n",
    "Выделяем features, target\n",
    "\n",
    "Создадим квадратную матрицу как ключ\n",
    "\n",
    "Подставляем и вычесляем модель\n",
    "\n",
    "При необходимости дешифруем обратно датасет\n"
   ]
  },
  {
   "cell_type": "markdown",
   "metadata": {},
   "source": [
    "**Обоснование**\n",
    "Доказательство неизменности данных описано выше, где даказано, что a_1 = a, поэтому можно использовать матрицу как ключ.\n"
   ]
  },
  {
   "cell_type": "markdown",
   "metadata": {},
   "source": [
    "## Проверка алгоритма"
   ]
  },
  {
   "cell_type": "code",
   "execution_count": 6,
   "metadata": {},
   "outputs": [],
   "source": [
    "features = data.drop('Страховые выплаты', axis=1)\n",
    "target = data['Страховые выплаты']\n",
    "\n",
    "features_train, features_test, target_train, target_test = train_test_split(features, target,test_size=0.25, random_state=12345)\n",
    "\n"
   ]
  },
  {
   "cell_type": "code",
   "execution_count": 7,
   "metadata": {
    "scrolled": true
   },
   "outputs": [
    {
     "name": "stdout",
     "output_type": "stream",
     "text": [
      "0.43522757127026546\n"
     ]
    }
   ],
   "source": [
    "model = LinearRegression().fit(features_train, target_train)\n",
    "predictions = model.predict(features_test)\n",
    "print(r2_score(target_test, predictions))"
   ]
  },
  {
   "cell_type": "markdown",
   "metadata": {},
   "source": [
    "Для шифрования возьмем матрицу (можно любую, если она обратимая и совпадает по размерности)  обратную к нашей исходной. \n"
   ]
  },
  {
   "cell_type": "code",
   "execution_count": 8,
   "metadata": {},
   "outputs": [
    {
     "data": {
      "text/plain": [
       "array([[ 1.00000000e+00,  0.00000000e+00,  9.02056208e-17,\n",
       "        -8.32667268e-17],\n",
       "       [ 1.11022302e-16,  1.00000000e+00, -8.32667268e-17,\n",
       "        -1.11022302e-16],\n",
       "       [ 2.77555756e-17,  5.55111512e-17,  1.00000000e+00,\n",
       "        -2.77555756e-17],\n",
       "       [ 2.77555756e-17,  5.55111512e-17, -5.06539255e-16,\n",
       "         1.00000000e+00]])"
      ]
     },
     "execution_count": 8,
     "metadata": {},
     "output_type": "execute_result"
    }
   ],
   "source": [
    "random = ([[randint(1,4) for j in range(4)] for i in range(4)])\n",
    "random\n",
    "inverse = np.linalg.inv(random)\n",
    "np.array(random@inverse)\n"
   ]
  },
  {
   "cell_type": "code",
   "execution_count": 9,
   "metadata": {},
   "outputs": [],
   "source": [
    "features_1 = data.drop('Страховые выплаты', axis=1)\n",
    "features_1 = features_1.values@random\n",
    "target_1 = data['Страховые выплаты']\n",
    "\n",
    "features_train_1, features_test_1, target_train_1, target_test_1 = train_test_split(features_1, target_1,test_size=0.25, random_state=12345)"
   ]
  },
  {
   "cell_type": "code",
   "execution_count": 10,
   "metadata": {
    "scrolled": true
   },
   "outputs": [
    {
     "name": "stdout",
     "output_type": "stream",
     "text": [
      "0.43522757127025724\n"
     ]
    }
   ],
   "source": [
    "model = LinearRegression().fit(features_train_1, target_train_1)\n",
    "predictions_1 = model.predict(features_test_1)\n",
    "print(r2_score(target_test_1, predictions_1))"
   ]
  },
  {
   "cell_type": "markdown",
   "metadata": {},
   "source": [
    "Видно, что метрики не отличаются"
   ]
  },
  {
   "cell_type": "markdown",
   "metadata": {},
   "source": [
    "Общий вывод:\n",
    "\n",
    "    Данный проект направлен на создание алгоритма шифрования для модели обучения. \n",
    "    \n",
    "    Это необходимо для сохранения данных, так как чистые данные важный источник информации. \n",
    "    \n",
    "    В данном проекте предложен алгоритм шифрования построенный на умножении исходных данных на квадратную, обратную матрицу. \n",
    "    \n",
    "    Днный алгоритм проверен и доказано, что такой способ шифрования не влияет на качество модели. \n",
    "    "
   ]
  }
 ],
 "metadata": {
  "ExecuteTimeLog": [
   {
    "duration": 409,
    "start_time": "2022-12-19T07:16:56.907Z"
   },
   {
    "duration": 83,
    "start_time": "2022-12-19T07:16:57.321Z"
   },
   {
    "duration": 14,
    "start_time": "2022-12-19T07:18:05.137Z"
   },
   {
    "duration": 59,
    "start_time": "2022-12-19T07:18:29.610Z"
   },
   {
    "duration": 8,
    "start_time": "2022-12-19T07:18:39.522Z"
   },
   {
    "duration": 19,
    "start_time": "2022-12-19T07:20:10.722Z"
   },
   {
    "duration": 17,
    "start_time": "2022-12-19T07:20:21.722Z"
   },
   {
    "duration": 5,
    "start_time": "2022-12-19T07:20:26.947Z"
   },
   {
    "duration": 1065,
    "start_time": "2022-12-20T06:31:36.733Z"
   },
   {
    "duration": 84,
    "start_time": "2022-12-20T06:31:37.800Z"
   },
   {
    "duration": 25,
    "start_time": "2022-12-20T06:31:37.886Z"
   },
   {
    "duration": 7,
    "start_time": "2022-12-20T06:31:37.914Z"
   },
   {
    "duration": 105,
    "start_time": "2022-12-20T06:31:37.923Z"
   },
   {
    "duration": 190,
    "start_time": "2022-12-20T06:31:39.625Z"
   },
   {
    "duration": 53,
    "start_time": "2022-12-20T06:32:18.065Z"
   },
   {
    "duration": 1759,
    "start_time": "2022-12-20T07:23:13.833Z"
   },
   {
    "duration": 29,
    "start_time": "2022-12-20T07:23:15.594Z"
   },
   {
    "duration": 19,
    "start_time": "2022-12-20T07:23:15.625Z"
   },
   {
    "duration": 7,
    "start_time": "2022-12-20T07:23:15.646Z"
   },
   {
    "duration": 109,
    "start_time": "2022-12-20T07:23:15.655Z"
   },
   {
    "duration": 0,
    "start_time": "2022-12-20T07:23:15.766Z"
   },
   {
    "duration": 443,
    "start_time": "2022-12-20T11:58:46.169Z"
   },
   {
    "duration": 29,
    "start_time": "2022-12-20T11:58:46.615Z"
   },
   {
    "duration": 19,
    "start_time": "2022-12-20T11:58:47.245Z"
   },
   {
    "duration": 8,
    "start_time": "2022-12-20T11:58:47.701Z"
   },
   {
    "duration": 29,
    "start_time": "2022-12-20T11:58:48.484Z"
   },
   {
    "duration": 443,
    "start_time": "2022-12-20T11:59:04.485Z"
   },
   {
    "duration": 1706,
    "start_time": "2022-12-22T12:44:08.141Z"
   },
   {
    "duration": 79,
    "start_time": "2022-12-22T12:44:09.850Z"
   },
   {
    "duration": 22,
    "start_time": "2022-12-22T12:44:09.930Z"
   },
   {
    "duration": 8,
    "start_time": "2022-12-22T12:44:09.954Z"
   },
   {
    "duration": 466,
    "start_time": "2022-12-22T12:44:09.964Z"
   },
   {
    "duration": 114,
    "start_time": "2022-12-22T12:44:12.624Z"
   },
   {
    "duration": 11,
    "start_time": "2022-12-22T12:44:13.040Z"
   },
   {
    "duration": 19,
    "start_time": "2022-12-22T12:44:25.209Z"
   },
   {
    "duration": 4,
    "start_time": "2022-12-22T12:44:40.809Z"
   },
   {
    "duration": 28,
    "start_time": "2022-12-22T12:44:40.975Z"
   },
   {
    "duration": 22,
    "start_time": "2022-12-22T12:44:41.144Z"
   },
   {
    "duration": 6,
    "start_time": "2022-12-22T12:44:41.328Z"
   },
   {
    "duration": 380,
    "start_time": "2022-12-22T12:44:41.520Z"
   },
   {
    "duration": 7,
    "start_time": "2022-12-22T12:44:44.688Z"
   },
   {
    "duration": 218,
    "start_time": "2022-12-22T12:44:44.904Z"
   },
   {
    "duration": 10,
    "start_time": "2022-12-22T12:45:09.993Z"
   },
   {
    "duration": 7,
    "start_time": "2022-12-22T12:45:18.696Z"
   },
   {
    "duration": 10,
    "start_time": "2022-12-22T12:45:18.912Z"
   },
   {
    "duration": 960,
    "start_time": "2022-12-22T12:50:49.082Z"
   },
   {
    "duration": 823,
    "start_time": "2022-12-22T12:51:16.834Z"
   },
   {
    "duration": 205863,
    "start_time": "2022-12-22T12:51:17.659Z"
   },
   {
    "duration": 14,
    "start_time": "2022-12-22T12:56:16.751Z"
   },
   {
    "duration": 8,
    "start_time": "2022-12-22T12:56:37.379Z"
   },
   {
    "duration": 17,
    "start_time": "2022-12-22T12:56:38.522Z"
   },
   {
    "duration": 13,
    "start_time": "2022-12-22T12:56:55.802Z"
   },
   {
    "duration": 632,
    "start_time": "2022-12-22T12:57:13.835Z"
   },
   {
    "duration": 222660,
    "start_time": "2022-12-22T12:57:15.859Z"
   },
   {
    "duration": 3,
    "start_time": "2022-12-22T13:01:45.387Z"
   },
   {
    "duration": 3,
    "start_time": "2022-12-22T13:01:50.860Z"
   },
   {
    "duration": 7,
    "start_time": "2022-12-22T13:02:23.830Z"
   },
   {
    "duration": 9,
    "start_time": "2022-12-22T13:02:36.691Z"
   },
   {
    "duration": 7,
    "start_time": "2022-12-22T13:02:51.075Z"
   },
   {
    "duration": 6,
    "start_time": "2022-12-22T13:03:21.900Z"
   },
   {
    "duration": 62,
    "start_time": "2022-12-22T13:03:44.036Z"
   },
   {
    "duration": 6,
    "start_time": "2022-12-22T13:03:49.972Z"
   },
   {
    "duration": 12,
    "start_time": "2022-12-22T13:04:35.645Z"
   },
   {
    "duration": 4,
    "start_time": "2022-12-22T13:09:18.605Z"
   },
   {
    "duration": 36,
    "start_time": "2022-12-22T13:09:19.997Z"
   },
   {
    "duration": 21,
    "start_time": "2022-12-22T13:09:20.230Z"
   },
   {
    "duration": 7,
    "start_time": "2022-12-22T13:09:20.433Z"
   },
   {
    "duration": 401,
    "start_time": "2022-12-22T13:09:20.611Z"
   },
   {
    "duration": 7,
    "start_time": "2022-12-22T13:09:26.397Z"
   },
   {
    "duration": 8,
    "start_time": "2022-12-22T13:09:27.885Z"
   },
   {
    "duration": 7,
    "start_time": "2022-12-22T13:09:29.381Z"
   },
   {
    "duration": 12,
    "start_time": "2022-12-22T13:09:39.725Z"
   },
   {
    "duration": 7,
    "start_time": "2022-12-22T13:09:52.654Z"
   },
   {
    "duration": 7,
    "start_time": "2022-12-22T13:09:54.758Z"
   },
   {
    "duration": 7,
    "start_time": "2022-12-22T13:09:56.733Z"
   },
   {
    "duration": 23,
    "start_time": "2022-12-22T13:12:17.278Z"
   },
   {
    "duration": 356,
    "start_time": "2022-12-22T13:12:52.942Z"
   },
   {
    "duration": 7,
    "start_time": "2022-12-22T13:14:50.048Z"
   },
   {
    "duration": 9,
    "start_time": "2022-12-22T13:14:50.532Z"
   },
   {
    "duration": 7,
    "start_time": "2022-12-22T13:14:52.599Z"
   },
   {
    "duration": 6,
    "start_time": "2022-12-22T13:14:54.166Z"
   },
   {
    "duration": 7,
    "start_time": "2022-12-22T13:14:55.685Z"
   },
   {
    "duration": 2105,
    "start_time": "2022-12-22T16:35:39.505Z"
   },
   {
    "duration": 28,
    "start_time": "2022-12-22T16:35:41.612Z"
   },
   {
    "duration": 27,
    "start_time": "2022-12-22T16:35:41.642Z"
   },
   {
    "duration": 9,
    "start_time": "2022-12-22T16:35:41.672Z"
   },
   {
    "duration": 408,
    "start_time": "2022-12-22T16:35:41.683Z"
   },
   {
    "duration": 13,
    "start_time": "2022-12-22T16:35:42.093Z"
   },
   {
    "duration": 12,
    "start_time": "2022-12-22T16:35:42.107Z"
   },
   {
    "duration": 10,
    "start_time": "2022-12-22T16:35:42.120Z"
   },
   {
    "duration": 76,
    "start_time": "2022-12-22T16:35:42.132Z"
   },
   {
    "duration": 7,
    "start_time": "2022-12-22T16:35:42.213Z"
   }
  ],
  "kernelspec": {
   "display_name": "Python 3 (ipykernel)",
   "language": "python",
   "name": "python3"
  },
  "language_info": {
   "codemirror_mode": {
    "name": "ipython",
    "version": 3
   },
   "file_extension": ".py",
   "mimetype": "text/x-python",
   "name": "python",
   "nbconvert_exporter": "python",
   "pygments_lexer": "ipython3",
   "version": "3.9.12"
  },
  "toc": {
   "base_numbering": 1,
   "nav_menu": {},
   "number_sections": true,
   "sideBar": true,
   "skip_h1_title": true,
   "title_cell": "Содержание",
   "title_sidebar": "Contents",
   "toc_cell": true,
   "toc_position": {},
   "toc_section_display": true,
   "toc_window_display": false
  }
 },
 "nbformat": 4,
 "nbformat_minor": 2
}
