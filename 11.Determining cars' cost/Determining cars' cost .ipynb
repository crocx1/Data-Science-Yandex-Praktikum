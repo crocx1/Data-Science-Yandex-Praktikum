{
 "cells": [
  {
   "cell_type": "markdown",
   "metadata": {},
   "source": [
    "# Определение стоимости автомобилей"
   ]
  },
  {
   "cell_type": "markdown",
   "metadata": {},
   "source": [
    "Сервис по продаже автомобилей с пробегом «Не бит, не крашен» разрабатывает приложение для привлечения новых клиентов. В нём можно быстро узнать рыночную стоимость своего автомобиля. В вашем распоряжении исторические данные: технические характеристики, комплектации и цены автомобилей. Вам нужно построить модель для определения стоимости. \n",
    "\n",
    "Заказчику важны:\n",
    "\n",
    "- качество предсказания;\n",
    "- скорость предсказания;\n",
    "- время обучения."
   ]
  },
  {
   "cell_type": "markdown",
   "metadata": {},
   "source": [
    "Данный проект направлен на поиск модели, которая будет наиболее точно определять соимость автомобиля. "
   ]
  },
  {
   "cell_type": "markdown",
   "metadata": {},
   "source": [
    "## Подготовка данных"
   ]
  },
  {
   "cell_type": "markdown",
   "metadata": {},
   "source": [
    "Подключаем библиотеки"
   ]
  },
  {
   "cell_type": "code",
   "execution_count": 1,
   "metadata": {},
   "outputs": [],
   "source": [
    "import pandas as pd\n",
    "import numpy as np\n",
    "import seaborn as sns \n",
    "import matplotlib.pyplot as plt  \n",
    "from sklearn.impute import SimpleImputer\n",
    "from sklearn.preprocessing import OrdinalEncoder, StandardScaler\n",
    "from sklearn.metrics import mean_absolute_error, make_scorer, confusion_matrix, fbeta_score, mean_squared_error\n",
    "from scipy import stats as st\n",
    "from sklearn.linear_model import LinearRegression\n",
    "from sklearn import datasets, linear_model\n",
    "from sklearn.svm import LinearSVC\n",
    "from sklearn.ensemble import RandomForestRegressor\n",
    "from sklearn.model_selection import GridSearchCV, RandomizedSearchCV, StratifiedKFold, cross_val_score, cross_validate, train_test_split\n",
    "from sklearn.dummy import DummyRegressor\n",
    "import lightgbm as lgb\n",
    "from sklearn.datasets import load_boston\n",
    "import matplotlib.pyplot as plt\n",
    "from pandas import DataFrame\n",
    "import matplotlib.pyplot as plt\n",
    "import time \n",
    "import lightgbm\n",
    "from lightgbm import LGBMRegressor\n",
    "\n",
    "\n",
    "\n"
   ]
  },
  {
   "cell_type": "markdown",
   "metadata": {},
   "source": [
    "Скачиваем данные"
   ]
  },
  {
   "cell_type": "code",
   "execution_count": 2,
   "metadata": {
    "scrolled": true
   },
   "outputs": [
    {
     "data": {
      "text/html": [
       "<div>\n",
       "<style scoped>\n",
       "    .dataframe tbody tr th:only-of-type {\n",
       "        vertical-align: middle;\n",
       "    }\n",
       "\n",
       "    .dataframe tbody tr th {\n",
       "        vertical-align: top;\n",
       "    }\n",
       "\n",
       "    .dataframe thead th {\n",
       "        text-align: right;\n",
       "    }\n",
       "</style>\n",
       "<table border=\"1\" class=\"dataframe\">\n",
       "  <thead>\n",
       "    <tr style=\"text-align: right;\">\n",
       "      <th></th>\n",
       "      <th>DateCrawled</th>\n",
       "      <th>Price</th>\n",
       "      <th>VehicleType</th>\n",
       "      <th>RegistrationYear</th>\n",
       "      <th>Gearbox</th>\n",
       "      <th>Power</th>\n",
       "      <th>Model</th>\n",
       "      <th>Kilometer</th>\n",
       "      <th>RegistrationMonth</th>\n",
       "      <th>FuelType</th>\n",
       "      <th>Brand</th>\n",
       "      <th>Repaired</th>\n",
       "      <th>DateCreated</th>\n",
       "      <th>NumberOfPictures</th>\n",
       "      <th>PostalCode</th>\n",
       "      <th>LastSeen</th>\n",
       "    </tr>\n",
       "  </thead>\n",
       "  <tbody>\n",
       "    <tr>\n",
       "      <th>0</th>\n",
       "      <td>2016-03-24 11:52:17</td>\n",
       "      <td>480</td>\n",
       "      <td>NaN</td>\n",
       "      <td>1993</td>\n",
       "      <td>manual</td>\n",
       "      <td>0</td>\n",
       "      <td>golf</td>\n",
       "      <td>150000</td>\n",
       "      <td>0</td>\n",
       "      <td>petrol</td>\n",
       "      <td>volkswagen</td>\n",
       "      <td>NaN</td>\n",
       "      <td>2016-03-24 00:00:00</td>\n",
       "      <td>0</td>\n",
       "      <td>70435</td>\n",
       "      <td>2016-04-07 03:16:57</td>\n",
       "    </tr>\n",
       "    <tr>\n",
       "      <th>1</th>\n",
       "      <td>2016-03-24 10:58:45</td>\n",
       "      <td>18300</td>\n",
       "      <td>coupe</td>\n",
       "      <td>2011</td>\n",
       "      <td>manual</td>\n",
       "      <td>190</td>\n",
       "      <td>NaN</td>\n",
       "      <td>125000</td>\n",
       "      <td>5</td>\n",
       "      <td>gasoline</td>\n",
       "      <td>audi</td>\n",
       "      <td>yes</td>\n",
       "      <td>2016-03-24 00:00:00</td>\n",
       "      <td>0</td>\n",
       "      <td>66954</td>\n",
       "      <td>2016-04-07 01:46:50</td>\n",
       "    </tr>\n",
       "    <tr>\n",
       "      <th>2</th>\n",
       "      <td>2016-03-14 12:52:21</td>\n",
       "      <td>9800</td>\n",
       "      <td>suv</td>\n",
       "      <td>2004</td>\n",
       "      <td>auto</td>\n",
       "      <td>163</td>\n",
       "      <td>grand</td>\n",
       "      <td>125000</td>\n",
       "      <td>8</td>\n",
       "      <td>gasoline</td>\n",
       "      <td>jeep</td>\n",
       "      <td>NaN</td>\n",
       "      <td>2016-03-14 00:00:00</td>\n",
       "      <td>0</td>\n",
       "      <td>90480</td>\n",
       "      <td>2016-04-05 12:47:46</td>\n",
       "    </tr>\n",
       "    <tr>\n",
       "      <th>3</th>\n",
       "      <td>2016-03-17 16:54:04</td>\n",
       "      <td>1500</td>\n",
       "      <td>small</td>\n",
       "      <td>2001</td>\n",
       "      <td>manual</td>\n",
       "      <td>75</td>\n",
       "      <td>golf</td>\n",
       "      <td>150000</td>\n",
       "      <td>6</td>\n",
       "      <td>petrol</td>\n",
       "      <td>volkswagen</td>\n",
       "      <td>no</td>\n",
       "      <td>2016-03-17 00:00:00</td>\n",
       "      <td>0</td>\n",
       "      <td>91074</td>\n",
       "      <td>2016-03-17 17:40:17</td>\n",
       "    </tr>\n",
       "    <tr>\n",
       "      <th>4</th>\n",
       "      <td>2016-03-31 17:25:20</td>\n",
       "      <td>3600</td>\n",
       "      <td>small</td>\n",
       "      <td>2008</td>\n",
       "      <td>manual</td>\n",
       "      <td>69</td>\n",
       "      <td>fabia</td>\n",
       "      <td>90000</td>\n",
       "      <td>7</td>\n",
       "      <td>gasoline</td>\n",
       "      <td>skoda</td>\n",
       "      <td>no</td>\n",
       "      <td>2016-03-31 00:00:00</td>\n",
       "      <td>0</td>\n",
       "      <td>60437</td>\n",
       "      <td>2016-04-06 10:17:21</td>\n",
       "    </tr>\n",
       "    <tr>\n",
       "      <th>...</th>\n",
       "      <td>...</td>\n",
       "      <td>...</td>\n",
       "      <td>...</td>\n",
       "      <td>...</td>\n",
       "      <td>...</td>\n",
       "      <td>...</td>\n",
       "      <td>...</td>\n",
       "      <td>...</td>\n",
       "      <td>...</td>\n",
       "      <td>...</td>\n",
       "      <td>...</td>\n",
       "      <td>...</td>\n",
       "      <td>...</td>\n",
       "      <td>...</td>\n",
       "      <td>...</td>\n",
       "      <td>...</td>\n",
       "    </tr>\n",
       "    <tr>\n",
       "      <th>354364</th>\n",
       "      <td>2016-03-21 09:50:58</td>\n",
       "      <td>0</td>\n",
       "      <td>NaN</td>\n",
       "      <td>2005</td>\n",
       "      <td>manual</td>\n",
       "      <td>0</td>\n",
       "      <td>colt</td>\n",
       "      <td>150000</td>\n",
       "      <td>7</td>\n",
       "      <td>petrol</td>\n",
       "      <td>mitsubishi</td>\n",
       "      <td>yes</td>\n",
       "      <td>2016-03-21 00:00:00</td>\n",
       "      <td>0</td>\n",
       "      <td>2694</td>\n",
       "      <td>2016-03-21 10:42:49</td>\n",
       "    </tr>\n",
       "    <tr>\n",
       "      <th>354365</th>\n",
       "      <td>2016-03-14 17:48:27</td>\n",
       "      <td>2200</td>\n",
       "      <td>NaN</td>\n",
       "      <td>2005</td>\n",
       "      <td>NaN</td>\n",
       "      <td>0</td>\n",
       "      <td>NaN</td>\n",
       "      <td>20000</td>\n",
       "      <td>1</td>\n",
       "      <td>NaN</td>\n",
       "      <td>sonstige_autos</td>\n",
       "      <td>NaN</td>\n",
       "      <td>2016-03-14 00:00:00</td>\n",
       "      <td>0</td>\n",
       "      <td>39576</td>\n",
       "      <td>2016-04-06 00:46:52</td>\n",
       "    </tr>\n",
       "    <tr>\n",
       "      <th>354366</th>\n",
       "      <td>2016-03-05 19:56:21</td>\n",
       "      <td>1199</td>\n",
       "      <td>convertible</td>\n",
       "      <td>2000</td>\n",
       "      <td>auto</td>\n",
       "      <td>101</td>\n",
       "      <td>fortwo</td>\n",
       "      <td>125000</td>\n",
       "      <td>3</td>\n",
       "      <td>petrol</td>\n",
       "      <td>smart</td>\n",
       "      <td>no</td>\n",
       "      <td>2016-03-05 00:00:00</td>\n",
       "      <td>0</td>\n",
       "      <td>26135</td>\n",
       "      <td>2016-03-11 18:17:12</td>\n",
       "    </tr>\n",
       "    <tr>\n",
       "      <th>354367</th>\n",
       "      <td>2016-03-19 18:57:12</td>\n",
       "      <td>9200</td>\n",
       "      <td>bus</td>\n",
       "      <td>1996</td>\n",
       "      <td>manual</td>\n",
       "      <td>102</td>\n",
       "      <td>transporter</td>\n",
       "      <td>150000</td>\n",
       "      <td>3</td>\n",
       "      <td>gasoline</td>\n",
       "      <td>volkswagen</td>\n",
       "      <td>no</td>\n",
       "      <td>2016-03-19 00:00:00</td>\n",
       "      <td>0</td>\n",
       "      <td>87439</td>\n",
       "      <td>2016-04-07 07:15:26</td>\n",
       "    </tr>\n",
       "    <tr>\n",
       "      <th>354368</th>\n",
       "      <td>2016-03-20 19:41:08</td>\n",
       "      <td>3400</td>\n",
       "      <td>wagon</td>\n",
       "      <td>2002</td>\n",
       "      <td>manual</td>\n",
       "      <td>100</td>\n",
       "      <td>golf</td>\n",
       "      <td>150000</td>\n",
       "      <td>6</td>\n",
       "      <td>gasoline</td>\n",
       "      <td>volkswagen</td>\n",
       "      <td>NaN</td>\n",
       "      <td>2016-03-20 00:00:00</td>\n",
       "      <td>0</td>\n",
       "      <td>40764</td>\n",
       "      <td>2016-03-24 12:45:21</td>\n",
       "    </tr>\n",
       "  </tbody>\n",
       "</table>\n",
       "<p>354365 rows × 16 columns</p>\n",
       "</div>"
      ],
      "text/plain": [
       "                DateCrawled  Price  VehicleType  RegistrationYear Gearbox  \\\n",
       "0       2016-03-24 11:52:17    480          NaN              1993  manual   \n",
       "1       2016-03-24 10:58:45  18300        coupe              2011  manual   \n",
       "2       2016-03-14 12:52:21   9800          suv              2004    auto   \n",
       "3       2016-03-17 16:54:04   1500        small              2001  manual   \n",
       "4       2016-03-31 17:25:20   3600        small              2008  manual   \n",
       "...                     ...    ...          ...               ...     ...   \n",
       "354364  2016-03-21 09:50:58      0          NaN              2005  manual   \n",
       "354365  2016-03-14 17:48:27   2200          NaN              2005     NaN   \n",
       "354366  2016-03-05 19:56:21   1199  convertible              2000    auto   \n",
       "354367  2016-03-19 18:57:12   9200          bus              1996  manual   \n",
       "354368  2016-03-20 19:41:08   3400        wagon              2002  manual   \n",
       "\n",
       "        Power        Model  Kilometer  RegistrationMonth  FuelType  \\\n",
       "0           0         golf     150000                  0    petrol   \n",
       "1         190          NaN     125000                  5  gasoline   \n",
       "2         163        grand     125000                  8  gasoline   \n",
       "3          75         golf     150000                  6    petrol   \n",
       "4          69        fabia      90000                  7  gasoline   \n",
       "...       ...          ...        ...                ...       ...   \n",
       "354364      0         colt     150000                  7    petrol   \n",
       "354365      0          NaN      20000                  1       NaN   \n",
       "354366    101       fortwo     125000                  3    petrol   \n",
       "354367    102  transporter     150000                  3  gasoline   \n",
       "354368    100         golf     150000                  6  gasoline   \n",
       "\n",
       "                 Brand Repaired          DateCreated  NumberOfPictures  \\\n",
       "0           volkswagen      NaN  2016-03-24 00:00:00                 0   \n",
       "1                 audi      yes  2016-03-24 00:00:00                 0   \n",
       "2                 jeep      NaN  2016-03-14 00:00:00                 0   \n",
       "3           volkswagen       no  2016-03-17 00:00:00                 0   \n",
       "4                skoda       no  2016-03-31 00:00:00                 0   \n",
       "...                ...      ...                  ...               ...   \n",
       "354364      mitsubishi      yes  2016-03-21 00:00:00                 0   \n",
       "354365  sonstige_autos      NaN  2016-03-14 00:00:00                 0   \n",
       "354366           smart       no  2016-03-05 00:00:00                 0   \n",
       "354367      volkswagen       no  2016-03-19 00:00:00                 0   \n",
       "354368      volkswagen      NaN  2016-03-20 00:00:00                 0   \n",
       "\n",
       "        PostalCode             LastSeen  \n",
       "0            70435  2016-04-07 03:16:57  \n",
       "1            66954  2016-04-07 01:46:50  \n",
       "2            90480  2016-04-05 12:47:46  \n",
       "3            91074  2016-03-17 17:40:17  \n",
       "4            60437  2016-04-06 10:17:21  \n",
       "...            ...                  ...  \n",
       "354364        2694  2016-03-21 10:42:49  \n",
       "354365       39576  2016-04-06 00:46:52  \n",
       "354366       26135  2016-03-11 18:17:12  \n",
       "354367       87439  2016-04-07 07:15:26  \n",
       "354368       40764  2016-03-24 12:45:21  \n",
       "\n",
       "[354365 rows x 16 columns]"
      ]
     },
     "execution_count": 2,
     "metadata": {},
     "output_type": "execute_result"
    }
   ],
   "source": [
    "data = pd.read_csv('/datasets/autos.csv')\n",
    "data.drop_duplicates()\n"
   ]
  },
  {
   "cell_type": "code",
   "execution_count": 3,
   "metadata": {
    "scrolled": true
   },
   "outputs": [
    {
     "name": "stdout",
     "output_type": "stream",
     "text": [
      "<class 'pandas.core.frame.DataFrame'>\n",
      "RangeIndex: 354369 entries, 0 to 354368\n",
      "Data columns (total 16 columns):\n",
      " #   Column             Non-Null Count   Dtype \n",
      "---  ------             --------------   ----- \n",
      " 0   DateCrawled        354369 non-null  object\n",
      " 1   Price              354369 non-null  int64 \n",
      " 2   VehicleType        316879 non-null  object\n",
      " 3   RegistrationYear   354369 non-null  int64 \n",
      " 4   Gearbox            334536 non-null  object\n",
      " 5   Power              354369 non-null  int64 \n",
      " 6   Model              334664 non-null  object\n",
      " 7   Kilometer          354369 non-null  int64 \n",
      " 8   RegistrationMonth  354369 non-null  int64 \n",
      " 9   FuelType           321474 non-null  object\n",
      " 10  Brand              354369 non-null  object\n",
      " 11  Repaired           283215 non-null  object\n",
      " 12  DateCreated        354369 non-null  object\n",
      " 13  NumberOfPictures   354369 non-null  int64 \n",
      " 14  PostalCode         354369 non-null  int64 \n",
      " 15  LastSeen           354369 non-null  object\n",
      "dtypes: int64(7), object(9)\n",
      "memory usage: 43.3+ MB\n"
     ]
    }
   ],
   "source": [
    "data.info()"
   ]
  },
  {
   "cell_type": "code",
   "execution_count": 4,
   "metadata": {
    "scrolled": true
   },
   "outputs": [
    {
     "data": {
      "text/plain": [
       "(354369, 16)"
      ]
     },
     "execution_count": 4,
     "metadata": {},
     "output_type": "execute_result"
    }
   ],
   "source": [
    "data.shape"
   ]
  },
  {
   "cell_type": "code",
   "execution_count": 5,
   "metadata": {
    "scrolled": true
   },
   "outputs": [
    {
     "data": {
      "text/plain": [
       "<bound method DataFrame.info of                 DateCrawled  Price  VehicleType  RegistrationYear Gearbox  \\\n",
       "0       2016-03-24 11:52:17    480          NaN              1993  manual   \n",
       "1       2016-03-24 10:58:45  18300        coupe              2011  manual   \n",
       "2       2016-03-14 12:52:21   9800          suv              2004    auto   \n",
       "3       2016-03-17 16:54:04   1500        small              2001  manual   \n",
       "4       2016-03-31 17:25:20   3600        small              2008  manual   \n",
       "...                     ...    ...          ...               ...     ...   \n",
       "354364  2016-03-21 09:50:58      0          NaN              2005  manual   \n",
       "354365  2016-03-14 17:48:27   2200          NaN              2005     NaN   \n",
       "354366  2016-03-05 19:56:21   1199  convertible              2000    auto   \n",
       "354367  2016-03-19 18:57:12   9200          bus              1996  manual   \n",
       "354368  2016-03-20 19:41:08   3400        wagon              2002  manual   \n",
       "\n",
       "        Power        Model  Kilometer  RegistrationMonth  FuelType  \\\n",
       "0           0         golf     150000                  0    petrol   \n",
       "1         190          NaN     125000                  5  gasoline   \n",
       "2         163        grand     125000                  8  gasoline   \n",
       "3          75         golf     150000                  6    petrol   \n",
       "4          69        fabia      90000                  7  gasoline   \n",
       "...       ...          ...        ...                ...       ...   \n",
       "354364      0         colt     150000                  7    petrol   \n",
       "354365      0          NaN      20000                  1       NaN   \n",
       "354366    101       fortwo     125000                  3    petrol   \n",
       "354367    102  transporter     150000                  3  gasoline   \n",
       "354368    100         golf     150000                  6  gasoline   \n",
       "\n",
       "                 Brand Repaired          DateCreated  NumberOfPictures  \\\n",
       "0           volkswagen      NaN  2016-03-24 00:00:00                 0   \n",
       "1                 audi      yes  2016-03-24 00:00:00                 0   \n",
       "2                 jeep      NaN  2016-03-14 00:00:00                 0   \n",
       "3           volkswagen       no  2016-03-17 00:00:00                 0   \n",
       "4                skoda       no  2016-03-31 00:00:00                 0   \n",
       "...                ...      ...                  ...               ...   \n",
       "354364      mitsubishi      yes  2016-03-21 00:00:00                 0   \n",
       "354365  sonstige_autos      NaN  2016-03-14 00:00:00                 0   \n",
       "354366           smart       no  2016-03-05 00:00:00                 0   \n",
       "354367      volkswagen       no  2016-03-19 00:00:00                 0   \n",
       "354368      volkswagen      NaN  2016-03-20 00:00:00                 0   \n",
       "\n",
       "        PostalCode             LastSeen  \n",
       "0            70435  2016-04-07 03:16:57  \n",
       "1            66954  2016-04-07 01:46:50  \n",
       "2            90480  2016-04-05 12:47:46  \n",
       "3            91074  2016-03-17 17:40:17  \n",
       "4            60437  2016-04-06 10:17:21  \n",
       "...            ...                  ...  \n",
       "354364        2694  2016-03-21 10:42:49  \n",
       "354365       39576  2016-04-06 00:46:52  \n",
       "354366       26135  2016-03-11 18:17:12  \n",
       "354367       87439  2016-04-07 07:15:26  \n",
       "354368       40764  2016-03-24 12:45:21  \n",
       "\n",
       "[354369 rows x 16 columns]>"
      ]
     },
     "execution_count": 5,
     "metadata": {},
     "output_type": "execute_result"
    }
   ],
   "source": [
    "data.info"
   ]
  },
  {
   "cell_type": "markdown",
   "metadata": {},
   "source": [
    "Сторим матрицу корреляции данных"
   ]
  },
  {
   "cell_type": "code",
   "execution_count": 6,
   "metadata": {},
   "outputs": [
    {
     "name": "stdout",
     "output_type": "stream",
     "text": [
      "                      Price  RegistrationYear     Power  Kilometer  \\\n",
      "Price              1.000000          0.026916  0.158872  -0.333199   \n",
      "RegistrationYear   0.026916          1.000000 -0.000828  -0.053447   \n",
      "Power              0.158872         -0.000828  1.000000   0.024002   \n",
      "Kilometer         -0.333199         -0.053447  0.024002   1.000000   \n",
      "RegistrationMonth  0.110581         -0.011619  0.043380   0.009571   \n",
      "PostalCode         0.076055         -0.003459  0.021665  -0.007698   \n",
      "\n",
      "                   RegistrationMonth  PostalCode  \n",
      "Price                       0.110581    0.076055  \n",
      "RegistrationYear           -0.011619   -0.003459  \n",
      "Power                       0.043380    0.021665  \n",
      "Kilometer                   0.009571   -0.007698  \n",
      "RegistrationMonth           1.000000    0.013995  \n",
      "PostalCode                  0.013995    1.000000  \n"
     ]
    },
    {
     "data": {
      "image/png": "[encoded data removed]",
      "text/plain": [
       "<Figure size 432x288 with 2 Axes>"
      ]
     },
     "metadata": {
      "needs_background": "light"
     },
     "output_type": "display_data"
    }
   ],
   "source": [
    "data_с = data.drop(['NumberOfPictures'], axis=1)\n",
    "print(data_с.corr())  \n",
    "data_plot = sns.heatmap(data_с.corr(), cmap=\"YlGnBu\", annot=True)  \n",
    "\n",
    "plt.show()"
   ]
  },
  {
   "cell_type": "markdown",
   "metadata": {},
   "source": [
    "Для того, чтобы понять, какие признаки нам нужны, а какие нет, нужно понять условие заказчика, чтобы удалив ненужные признаки более точно заполнить информацию в столбцах.\n",
    "\n"
   ]
  },
  {
   "cell_type": "markdown",
   "metadata": {},
   "source": [
    "Основная задача -  В нём можно будет узнать рыночную стоимость своего автомобиля. "
   ]
  },
  {
   "cell_type": "markdown",
   "metadata": {},
   "source": [
    "Постройте модель, которая умеет её определять. В вашем распоряжении данные о технических характеристиках, комплектации и ценах других автомобилей.\n",
    "Критерии, которые важны заказчику: \n",
    "\n",
    "качество предсказания;\n",
    "\n",
    "время обучения модели;\n",
    "\n",
    "время предсказания модели."
   ]
  },
  {
   "cell_type": "markdown",
   "metadata": {},
   "source": [
    "Список столбцов для изучения:\\\n",
    "DateCrawled — дата скачивания анкеты из базы\\\n",
    "VehicleType — тип автомобильного кузова\\\n",
    "RegistrationYear — год регистрации автомобиля\\\n",
    "Gearbox — тип коробки передач\\\n",
    "Power — мощность (л. с.)\\\n",
    "Model — модель автомобиля\\\n",
    "Kilometer — пробег (км)\\\n",
    "RegistrationMonth — месяц регистрации автомобиля\\\n",
    "FuelType — тип топлива\\\n",
    "Brand — марка автомобиля\\\n",
    "Repaired — была машина в ремонте или нет\\\n",
    "DateCreated — дата создания анкеты\\\n",
    "NumberOfPictures — количество фотографий автомобиля\\\n",
    "PostalCode — почтовый индекс владельца анкеты (пользователя)\\\n",
    "LastSeen — дата последней активности пользователя"
   ]
  },
  {
   "cell_type": "markdown",
   "metadata": {},
   "source": [
    "Столбцы, которые я считаю лишними для узечения модели:\\\n",
    "    То, что касается не автомоиля, а работы ресурса с данными:\\\n",
    "        DateCrawled - нам не важно, когда скачали анкету, потомучто мы оцениваем автомобиль.\\\n",
    "        DateCreated - теже причины\\\n",
    "        PostalCode - теже причины\\\n",
    "        LastSeen - теже причины\\\n",
    "    То, что касается автомобиля, но не его рыночной стоимости:\\\n",
    "            NumberOfPictures - я считаю, что это косвенный признак, который не нужен для расчетов стоимости. Для клиента это важный параметр, однако для модели бесполезный.\n",
    "            "
   ]
  },
  {
   "cell_type": "markdown",
   "metadata": {},
   "source": [
    "Итого - необходимые данные:\\\n",
    "VehicleType — тип автомобильного кузова\\\n",
    "RegistrationYear — год регистрации автомобиля\\\n",
    "Gearbox — тип коробки передач\\\n",
    "Power — мощность (л. с.)\\\n",
    "Model — модель автомобиля\\\n",
    "Kilometer — пробег (км)\\\n",
    "RegistrationMonth — месяц регистрации автомобиля\\\n",
    "FuelType — тип топлива\\\n",
    "Brand — марка автомобиля\\\n",
    "Repaired — была машина в ремонте или нет\n"
   ]
  },
  {
   "cell_type": "code",
   "execution_count": 7,
   "metadata": {},
   "outputs": [
    {
     "name": "stdout",
     "output_type": "stream",
     "text": [
      "323825    2016-04-07 00:00:00\n",
      "238423    2016-04-07 00:00:00\n",
      "218464    2016-04-07 00:00:00\n",
      "8823      2016-04-07 00:00:00\n",
      "136456    2016-04-07 00:00:00\n",
      "                 ...         \n",
      "175103    2015-08-10 00:00:00\n",
      "86601     2015-08-07 00:00:00\n",
      "342275    2015-06-18 00:00:00\n",
      "4001      2015-03-20 00:00:00\n",
      "61207     2014-03-10 00:00:00\n",
      "Name: DateCreated, Length: 354369, dtype: object\n"
     ]
    }
   ],
   "source": [
    "print(data['DateCreated'].sort_values(ascending=False))"
   ]
  },
  {
   "cell_type": "code",
   "execution_count": 8,
   "metadata": {},
   "outputs": [],
   "source": [
    "data = data[['VehicleType', 'RegistrationYear','Gearbox','Power', 'Model','Kilometer','RegistrationMonth','FuelType','Brand','Repaired','Price']] \n",
    "data.drop_duplicates().dropna().reset_index(inplace=True, drop=True)\n"
   ]
  },
  {
   "cell_type": "code",
   "execution_count": 9,
   "metadata": {},
   "outputs": [
    {
     "name": "stdout",
     "output_type": "stream",
     "text": [
      "<class 'pandas.core.frame.DataFrame'>\n",
      "RangeIndex: 354369 entries, 0 to 354368\n",
      "Data columns (total 11 columns):\n",
      " #   Column             Non-Null Count   Dtype \n",
      "---  ------             --------------   ----- \n",
      " 0   VehicleType        316879 non-null  object\n",
      " 1   RegistrationYear   354369 non-null  int64 \n",
      " 2   Gearbox            334536 non-null  object\n",
      " 3   Power              354369 non-null  int64 \n",
      " 4   Model              334664 non-null  object\n",
      " 5   Kilometer          354369 non-null  int64 \n",
      " 6   RegistrationMonth  354369 non-null  int64 \n",
      " 7   FuelType           321474 non-null  object\n",
      " 8   Brand              354369 non-null  object\n",
      " 9   Repaired           283215 non-null  object\n",
      " 10  Price              354369 non-null  int64 \n",
      "dtypes: int64(5), object(6)\n",
      "memory usage: 29.7+ MB\n"
     ]
    }
   ],
   "source": [
    "data.info()\n"
   ]
  },
  {
   "cell_type": "code",
   "execution_count": 10,
   "metadata": {},
   "outputs": [
    {
     "data": {
      "text/plain": [
       "(354369, 11)"
      ]
     },
     "execution_count": 10,
     "metadata": {},
     "output_type": "execute_result"
    }
   ],
   "source": [
    "data.shape"
   ]
  },
  {
   "cell_type": "code",
   "execution_count": 11,
   "metadata": {
    "scrolled": true
   },
   "outputs": [
    {
     "data": {
      "text/plain": [
       "<bound method DataFrame.info of         VehicleType  RegistrationYear Gearbox  Power        Model  Kilometer  \\\n",
       "0               NaN              1993  manual      0         golf     150000   \n",
       "1             coupe              2011  manual    190          NaN     125000   \n",
       "2               suv              2004    auto    163        grand     125000   \n",
       "3             small              2001  manual     75         golf     150000   \n",
       "4             small              2008  manual     69        fabia      90000   \n",
       "...             ...               ...     ...    ...          ...        ...   \n",
       "354364          NaN              2005  manual      0         colt     150000   \n",
       "354365          NaN              2005     NaN      0          NaN      20000   \n",
       "354366  convertible              2000    auto    101       fortwo     125000   \n",
       "354367          bus              1996  manual    102  transporter     150000   \n",
       "354368        wagon              2002  manual    100         golf     150000   \n",
       "\n",
       "        RegistrationMonth  FuelType           Brand Repaired  Price  \n",
       "0                       0    petrol      volkswagen      NaN    480  \n",
       "1                       5  gasoline            audi      yes  18300  \n",
       "2                       8  gasoline            jeep      NaN   9800  \n",
       "3                       6    petrol      volkswagen       no   1500  \n",
       "4                       7  gasoline           skoda       no   3600  \n",
       "...                   ...       ...             ...      ...    ...  \n",
       "354364                  7    petrol      mitsubishi      yes      0  \n",
       "354365                  1       NaN  sonstige_autos      NaN   2200  \n",
       "354366                  3    petrol           smart       no   1199  \n",
       "354367                  3  gasoline      volkswagen       no   9200  \n",
       "354368                  6  gasoline      volkswagen      NaN   3400  \n",
       "\n",
       "[354369 rows x 11 columns]>"
      ]
     },
     "execution_count": 11,
     "metadata": {},
     "output_type": "execute_result"
    }
   ],
   "source": [
    "data.info"
   ]
  },
  {
   "cell_type": "code",
   "execution_count": 12,
   "metadata": {},
   "outputs": [
    {
     "name": "stdout",
     "output_type": "stream",
     "text": [
      "                   RegistrationYear     Power  Kilometer  RegistrationMonth  \\\n",
      "RegistrationYear           1.000000 -0.000828  -0.053447          -0.011619   \n",
      "Power                     -0.000828  1.000000   0.024002           0.043380   \n",
      "Kilometer                 -0.053447  0.024002   1.000000           0.009571   \n",
      "RegistrationMonth         -0.011619  0.043380   0.009571           1.000000   \n",
      "Price                      0.026916  0.158872  -0.333199           0.110581   \n",
      "\n",
      "                      Price  \n",
      "RegistrationYear   0.026916  \n",
      "Power              0.158872  \n",
      "Kilometer         -0.333199  \n",
      "RegistrationMonth  0.110581  \n",
      "Price              1.000000  \n"
     ]
    },
    {
     "data": {
      "image/png": "[encoded data removed]",
      "text/plain": [
       "<Figure size 432x288 with 2 Axes>"
      ]
     },
     "metadata": {
      "needs_background": "light"
     },
     "output_type": "display_data"
    }
   ],
   "source": [
    "print(data.corr())  \n",
    "data_plot = sns.heatmap(data.corr(), cmap=\"YlGnBu\", annot=True)  \n",
    "\n",
    "plt.show()"
   ]
  },
  {
   "cell_type": "code",
   "execution_count": 13,
   "metadata": {
    "scrolled": true
   },
   "outputs": [
    {
     "data": {
      "text/plain": [
       "VehicleType          37490\n",
       "RegistrationYear         0\n",
       "Gearbox              19833\n",
       "Power                    0\n",
       "Model                19705\n",
       "Kilometer                0\n",
       "RegistrationMonth        0\n",
       "FuelType             32895\n",
       "Brand                    0\n",
       "Repaired             71154\n",
       "Price                    0\n",
       "dtype: int64"
      ]
     },
     "execution_count": 13,
     "metadata": {},
     "output_type": "execute_result"
    }
   ],
   "source": [
    "data.isnull().sum()"
   ]
  },
  {
   "cell_type": "code",
   "execution_count": 14,
   "metadata": {
    "scrolled": false
   },
   "outputs": [
    {
     "name": "stdout",
     "output_type": "stream",
     "text": [
      "['manual' 'auto' nan]\n"
     ]
    }
   ],
   "source": [
    "print(data['Gearbox'].unique())"
   ]
  },
  {
   "cell_type": "markdown",
   "metadata": {},
   "source": [
    "Поиск аномалий "
   ]
  },
  {
   "cell_type": "markdown",
   "metadata": {},
   "source": [
    "VehicleType\\\n",
    "RegistrationYear\\\n",
    "Gearbox\\\n",
    "Power\\\n",
    "Model\\\n",
    "Kilometer\\\n",
    "FuelType\\\n",
    "Brand\\\n",
    "Repaired\\\n",
    "Price"
   ]
  },
  {
   "cell_type": "code",
   "execution_count": 15,
   "metadata": {},
   "outputs": [
    {
     "name": "stdout",
     "output_type": "stream",
     "text": [
      "[9999 9996 9450 9229 9000 8888 8500 8455 8200 8000 7800 7500 7100 7000\n",
      " 6500 6000 5911 5900 5600 5555 5300 5000 4800 4500 4100 4000 3800 3700\n",
      " 3500 3200 3000 2900 2800 2500 2290 2222 2200 2066 2019 2018 2017 2016\n",
      " 2015 2014 2013 2012 2011 2010 2009 2008 2007 2006 2005 2004 2003 2002\n",
      " 2001 2000 1999 1998 1997 1996 1995 1994 1993 1992 1991 1990 1989 1988\n",
      " 1987 1986 1985 1984 1983 1982 1981 1980 1979 1978 1977 1976 1975 1974\n",
      " 1973 1972 1971 1970 1969 1968 1967 1966 1965 1964 1963 1962 1961 1960\n",
      " 1959 1958 1957 1956 1955 1954 1953 1952 1951 1950 1949 1948 1947 1946\n",
      " 1945 1944 1943 1942 1941 1940 1938 1937 1936 1935 1934 1933 1932 1931\n",
      " 1930 1929 1928 1927 1925 1923 1920 1919 1915 1910 1800 1688 1602 1600\n",
      " 1500 1400 1300 1255 1253 1234 1200 1111 1039 1001 1000]\n"
     ]
    }
   ],
   "source": [
    "print(data['RegistrationYear'].sort_values(ascending=False).unique())"
   ]
  },
  {
   "cell_type": "markdown",
   "metadata": {},
   "source": [
    "Есть года, которые не могут существовать. Это надо изменить. Наиболее правильный способ замены найти средний год выпуска похожих автомобилей. "
   ]
  },
  {
   "cell_type": "code",
   "execution_count": 16,
   "metadata": {},
   "outputs": [
    {
     "name": "stdout",
     "output_type": "stream",
     "text": [
      "[12 11 10  9  8  7  6  5  4  3  2  1  0]\n"
     ]
    }
   ],
   "source": [
    "print(data['RegistrationMonth'].sort_values(ascending=False).unique())"
   ]
  },
  {
   "cell_type": "markdown",
   "metadata": {},
   "source": [
    "Сразу проверим месяца, так как замена года и месяца схожи по параметрам."
   ]
  },
  {
   "cell_type": "markdown",
   "metadata": {},
   "source": [
    "Посмторим данные, которые для этого необходимы. "
   ]
  },
  {
   "cell_type": "markdown",
   "metadata": {},
   "source": [
    "VehicleType — тип автомобильного кузова\\\n",
    "Gearbox — тип коробки передач\\\n",
    "Power — мощность (л. с.)\\\n",
    "Brand — марка автомобиля\\\n"
   ]
  },
  {
   "cell_type": "code",
   "execution_count": 17,
   "metadata": {
    "scrolled": true
   },
   "outputs": [
    {
     "name": "stdout",
     "output_type": "stream",
     "text": [
      "[2016. 2015. 2014. 2013. 2012. 2011. 2010. 2009. 2008. 2007. 2006. 2005.\n",
      " 2004. 2003. 2002. 2001. 2000. 1999. 1998. 1997. 1996. 1995. 1994. 1993.\n",
      " 1992. 1991. 1990. 1989. 1988. 1987. 1986. 1985. 1984. 1983. 1982. 1981.\n",
      " 1980. 1979. 1978. 1977. 1976. 1975. 1974. 1973. 1972. 1971. 1970. 1969.\n",
      " 1968. 1967. 1966. 1965. 1964. 1963. 1962. 1961. 1960. 1959. 1958. 1957.\n",
      " 1956. 1955. 1954. 1953. 1952. 1951. 1950. 1949. 1948. 1947. 1946. 1945.\n",
      " 1944. 1943. 1942. 1941. 1940. 1938. 1937. 1936. 1935. 1934. 1933. 1932.\n",
      " 1931. 1930. 1929. 1928. 1927. 1925. 1923. 1920. 1919. 1915. 1910.   nan]\n",
      "[12. 11. 10.  9.  8.  7.  6.  5.  4.  3.  2.  1. nan]\n"
     ]
    },
    {
     "name": "stderr",
     "output_type": "stream",
     "text": [
      "/opt/conda/lib/python3.9/site-packages/pandas/core/indexing.py:1720: SettingWithCopyWarning: \n",
      "A value is trying to be set on a copy of a slice from a DataFrame.\n",
      "Try using .loc[row_indexer,col_indexer] = value instead\n",
      "\n",
      "See the caveats in the documentation: https://pandas.pydata.org/pandas-docs/stable/user_guide/indexing.html#returning-a-view-versus-a-copy\n",
      "  self._setitem_single_column(loc, value, pi)\n",
      "/opt/conda/lib/python3.9/site-packages/pandas/core/indexing.py:1720: SettingWithCopyWarning: \n",
      "A value is trying to be set on a copy of a slice from a DataFrame.\n",
      "Try using .loc[row_indexer,col_indexer] = value instead\n",
      "\n",
      "See the caveats in the documentation: https://pandas.pydata.org/pandas-docs/stable/user_guide/indexing.html#returning-a-view-versus-a-copy\n",
      "  self._setitem_single_column(loc, value, pi)\n",
      "/opt/conda/lib/python3.9/site-packages/pandas/core/indexing.py:1720: SettingWithCopyWarning: \n",
      "A value is trying to be set on a copy of a slice from a DataFrame.\n",
      "Try using .loc[row_indexer,col_indexer] = value instead\n",
      "\n",
      "See the caveats in the documentation: https://pandas.pydata.org/pandas-docs/stable/user_guide/indexing.html#returning-a-view-versus-a-copy\n",
      "  self._setitem_single_column(loc, value, pi)\n"
     ]
    }
   ],
   "source": [
    "data.loc[(data['RegistrationYear'] > 2016), ('RegistrationYear')] = np.nan\n",
    "data.loc[(data['RegistrationYear'] < 1910), ('RegistrationYear')] = np.nan\n",
    "print(data['RegistrationYear'].sort_values(ascending=False).unique())\n",
    "data.loc[(data['RegistrationMonth'] == 0), ('RegistrationMonth')] = np.nan\n",
    "print(data['RegistrationMonth'].sort_values(ascending=False).unique())\n"
   ]
  },
  {
   "cell_type": "code",
   "execution_count": 18,
   "metadata": {},
   "outputs": [
    {
     "name": "stderr",
     "output_type": "stream",
     "text": [
      "/tmp/ipykernel_111/3360368892.py:3: SettingWithCopyWarning: \n",
      "A value is trying to be set on a copy of a slice from a DataFrame.\n",
      "Try using .loc[row_indexer,col_indexer] = value instead\n",
      "\n",
      "See the caveats in the documentation: https://pandas.pydata.org/pandas-docs/stable/user_guide/indexing.html#returning-a-view-versus-a-copy\n",
      "  data['RegistrationYear'] = imputer.transform(data[['RegistrationYear']])\n"
     ]
    },
    {
     "data": {
      "text/plain": [
       "array([1993., 2011., 2004., 2001., 2008., 1995., 1980., 2014., 1998.,\n",
       "       2005., 1910., 2016., 2007., 2009., 2002., 2003., 1997., 1990.,\n",
       "       1981., 1994., 1991., 1984., 2006., 1999., 2012., 2010., 2000.,\n",
       "       1992., 2013., 1996., 1985., 1989., 2015., 1982., 1976., 1983.,\n",
       "       1973., 1969., 1971., 1987., 1986., 1988., 1970., 1965., 1945.,\n",
       "       1925., 1974., 1979., 1955., 1978., 1972., 1968., 1977., 1961.,\n",
       "       1960., 1966., 1975., 1963., 1964., 1954., 1958., 1967., 1959.,\n",
       "       1956., 1941., 1962., 1929., 1957., 1940., 1949., 1937., 1951.,\n",
       "       1953., 1933., 1950., 1948., 1952., 1932., 1942., 1935., 1936.,\n",
       "       1923., 1930., 1944., 1943., 1934., 1938., 1928., 1919., 1931.,\n",
       "       1915., 1920., 1947., 1927., 1946.])"
      ]
     },
     "execution_count": 18,
     "metadata": {},
     "output_type": "execute_result"
    }
   ],
   "source": [
    "imputer = SimpleImputer(strategy='median', missing_values=np.nan)\n",
    "imputer = imputer.fit(data[['RegistrationYear']])\n",
    "data['RegistrationYear'] = imputer.transform(data[['RegistrationYear']])\n",
    "\n",
    "data['RegistrationYear'].unique()\n",
    "\n"
   ]
  },
  {
   "cell_type": "code",
   "execution_count": 19,
   "metadata": {},
   "outputs": [
    {
     "name": "stderr",
     "output_type": "stream",
     "text": [
      "/tmp/ipykernel_111/4179912079.py:3: SettingWithCopyWarning: \n",
      "A value is trying to be set on a copy of a slice from a DataFrame.\n",
      "Try using .loc[row_indexer,col_indexer] = value instead\n",
      "\n",
      "See the caveats in the documentation: https://pandas.pydata.org/pandas-docs/stable/user_guide/indexing.html#returning-a-view-versus-a-copy\n",
      "  data['RegistrationMonth'] = imputer.transform(data[['RegistrationMonth']])\n"
     ]
    },
    {
     "data": {
      "text/plain": [
       "array([ 6.,  5.,  8.,  7., 10., 12., 11.,  2.,  3.,  1.,  4.,  9.])"
      ]
     },
     "execution_count": 19,
     "metadata": {},
     "output_type": "execute_result"
    }
   ],
   "source": [
    "imputer = SimpleImputer(strategy='median', missing_values=np.nan)\n",
    "imputer = imputer.fit(data[['RegistrationMonth']])\n",
    "data['RegistrationMonth'] = imputer.transform(data[['RegistrationMonth']])\n",
    "data['RegistrationMonth'].unique()"
   ]
  },
  {
   "cell_type": "code",
   "execution_count": 20,
   "metadata": {
    "scrolled": true
   },
   "outputs": [
    {
     "data": {
      "text/plain": [
       "VehicleType          37490\n",
       "RegistrationYear         0\n",
       "Gearbox              19833\n",
       "Power                    0\n",
       "Model                19705\n",
       "Kilometer                0\n",
       "RegistrationMonth        0\n",
       "FuelType             32895\n",
       "Brand                    0\n",
       "Repaired             71154\n",
       "Price                    0\n",
       "dtype: int64"
      ]
     },
     "execution_count": 20,
     "metadata": {},
     "output_type": "execute_result"
    }
   ],
   "source": [
    "data.isnull().sum()"
   ]
  },
  {
   "cell_type": "code",
   "execution_count": 21,
   "metadata": {},
   "outputs": [
    {
     "name": "stdout",
     "output_type": "stream",
     "text": [
      "<bound method DataFrame.drop_duplicates of                  Brand        Model\n",
      "0           volkswagen         golf\n",
      "1                 audi          NaN\n",
      "2                 jeep        grand\n",
      "3           volkswagen         golf\n",
      "4                skoda        fabia\n",
      "...                ...          ...\n",
      "354364      mitsubishi         colt\n",
      "354365  sonstige_autos          NaN\n",
      "354366           smart       fortwo\n",
      "354367      volkswagen  transporter\n",
      "354368      volkswagen         golf\n",
      "\n",
      "[354369 rows x 2 columns]>\n",
      "Brand    40\n",
      "dtype: int64\n"
     ]
    }
   ],
   "source": [
    "data_m = data[['Brand','Model']].drop_duplicates\n",
    "print(data_m)\n",
    "data_b = data[['Brand']].drop_duplicates().count()\n",
    "print(data_b)\n"
   ]
  },
  {
   "cell_type": "code",
   "execution_count": 22,
   "metadata": {
    "scrolled": false
   },
   "outputs": [
    {
     "name": "stdout",
     "output_type": "stream",
     "text": [
      "    VehicleType  RegistrationYear Gearbox  Power    Model  Kilometer  \\\n",
      "0           NaN            1993.0  manual      0     golf     150000   \n",
      "1         coupe            2011.0  manual    190      NaN     125000   \n",
      "2           suv            2004.0    auto    163    grand     125000   \n",
      "3         small            2001.0  manual     75     golf     150000   \n",
      "4         small            2008.0  manual     69    fabia      90000   \n",
      "5         sedan            1995.0  manual    102      3er     150000   \n",
      "6   convertible            2004.0  manual    109  2_reihe     150000   \n",
      "7         sedan            1980.0  manual     50    other      40000   \n",
      "8           bus            2014.0  manual    125    c_max      30000   \n",
      "9         small            1998.0  manual    101     golf     150000   \n",
      "10        sedan            2004.0  manual    105  3_reihe     150000   \n",
      "11        wagon            2005.0  manual    140   passat     150000   \n",
      "12        wagon            1995.0  manual    115   passat     150000   \n",
      "13        wagon            2004.0  manual    131   passat     150000   \n",
      "14          suv            2011.0  manual    190   navara      70000   \n",
      "\n",
      "    RegistrationMonth  FuelType       Brand Repaired  Price  \n",
      "0                 6.0    petrol  volkswagen      NaN    480  \n",
      "1                 5.0  gasoline        audi      yes  18300  \n",
      "2                 8.0  gasoline        jeep      NaN   9800  \n",
      "3                 6.0    petrol  volkswagen       no   1500  \n",
      "4                 7.0  gasoline       skoda       no   3600  \n",
      "5                10.0    petrol         bmw      yes    650  \n",
      "6                 8.0    petrol     peugeot       no   2200  \n",
      "7                 7.0    petrol  volkswagen       no      0  \n",
      "8                 8.0    petrol        ford      NaN  14500  \n",
      "9                 6.0       NaN  volkswagen      NaN    999  \n",
      "10               12.0    petrol       mazda       no   2000  \n",
      "11               12.0  gasoline  volkswagen      yes   2799  \n",
      "12               11.0    petrol  volkswagen      NaN    999  \n",
      "13                2.0       NaN  volkswagen       no   2500  \n",
      "14                3.0  gasoline      nissan       no  17999  \n"
     ]
    },
    {
     "data": {
      "text/plain": [
       "(354369, 11)"
      ]
     },
     "execution_count": 22,
     "metadata": {},
     "output_type": "execute_result"
    }
   ],
   "source": [
    "print(data.head(15))\n",
    "data.shape\n"
   ]
  },
  {
   "cell_type": "code",
   "execution_count": 23,
   "metadata": {
    "scrolled": true
   },
   "outputs": [
    {
     "name": "stdout",
     "output_type": "stream",
     "text": [
      "[    0     1     2 ... 19998 19999 20000]\n"
     ]
    },
    {
     "data": {
      "text/plain": [
       "<AxesSubplot:>"
      ]
     },
     "execution_count": 23,
     "metadata": {},
     "output_type": "execute_result"
    },
    {
     "data": {
      "image/png": "[encoded data removed]",
      "text/plain": [
       "<Figure size 432x288 with 1 Axes>"
      ]
     },
     "metadata": {
      "needs_background": "light"
     },
     "output_type": "display_data"
    }
   ],
   "source": [
    "print(data['Price'].sort_values().unique())\n",
    "data['Price'].hist(bins=300)"
   ]
  },
  {
   "cell_type": "markdown",
   "metadata": {},
   "source": [
    "Цена не может быть 0вая, заменим 0е значения."
   ]
  },
  {
   "cell_type": "code",
   "execution_count": 24,
   "metadata": {
    "scrolled": true
   },
   "outputs": [
    {
     "name": "stdout",
     "output_type": "stream",
     "text": [
      "[    0     1     2     3     4     5     6     7     8     9    10    11\n",
      "    12    13    14    15    16    17    18    19    20    21    22    23\n",
      "    24    25    26    27    28    29    30    31    32    33    34    35\n",
      "    36    37    38    39    40    41    42    43    44    45    46    47\n",
      "    48    49    50    51    52    53    54    55    56    57    58    59\n",
      "    60    61    62    63    64    65    66    67    68    69    70    71\n",
      "    72    73    74    75    76    77    78    79    80    81    82    83\n",
      "    84    85    86    87    88    89    90    91    92    93    94    95\n",
      "    96    97    98    99   100   101   102   103   104   105   106   107\n",
      "   108   109   110   111   112   113   114   115   116   117   118   119\n",
      "   120   121   122   123   124   125   126   127   128   129   130   131\n",
      "   132   133   134   135   136   137   138   139   140   141   142   143\n",
      "   144   145   146   147   148   149   150   151   152   153   154   155\n",
      "   156   157   158   159   160   161   162   163   164   165   166   167\n",
      "   168   169   170   171   172   173   174   175   176   177   178   179\n",
      "   180   181   182   183   184   185   186   187   188   189   190   191\n",
      "   192   193   194   195   196   197   198   199   200   201   202   203\n",
      "   204   205   206   207   208   209   210   211   212   213   214   215\n",
      "   216   217   218   219   220   221   222   223   224   225   226   227\n",
      "   228   229   230   231   232   233   234   235   236   237   238   239\n",
      "   240   241   242   243   244   245   246   247   248   249   250   251\n",
      "   252   253   254   255   256   257   258   259   260   261   262   264\n",
      "   265   266   267   268   269   270   271   272   273   274   275   276\n",
      "   277   278   279   280   281   282   283   284   285   286   287   288\n",
      "   289   290   292   293   294   295   296   297   298   299   300   301\n",
      "   303   304   305   306   307   308   309   310   311   313   314   315\n",
      "   316   317   318   320   321   322   323   324   325   326   327   328\n",
      "   329   330   331   332   333   334   335   336   337   338   339   340\n",
      "   341   343   344   345   346   347   348   349   350   351   352   353\n",
      "   354   355   356   357   358   360   361   362   363   364   365   367\n",
      "   368   370   371   374   375   376   377   379   380   381   382   385\n",
      "   386   387   388   390   392   394   396   398   399   400   401   402\n",
      "   405   408   409   411   416   420   421   425   426   428   430   431\n",
      "   435   440   442   445   449   450   454   457   459   460   475   476\n",
      "   485   487   489   490   500   504   505   507   508   510   514   515\n",
      "   517   519   520   521   525   530   540   541   544   550   551   553\n",
      "   560   572   574   579   580   584   585   599   600   601   602   603\n",
      "   604   606   607   610   612   620   640   645   650   651   671   678\n",
      "   682   685   696   700   702   703   732   743   750   751   754   771\n",
      "   776   800   805   808   850   851   871   900   901   902   903   907\n",
      "   909   923   950   952   953   960   998   999  1000  1001  1002  1003\n",
      "  1004  1005  1011  1012  1016  1017  1021  1024  1054  1055  1056  1062\n",
      "  1079  1082  1090  1100  1102  1103  1105  1111  1115  1120  1149  1151\n",
      "  1158  1160  1162  1164  1199  1200  1202  1221  1223  1230  1239  1240\n",
      "  1241  1250  1252  1256  1275  1288  1299  1300  1312  1317  1324  1339\n",
      "  1351  1360  1362  1363  1367  1390  1394  1398  1399  1400  1401  1403\n",
      "  1405  1416  1432  1433  1436  1500  1501  1502  1503  1506  1521  1548\n",
      "  1595  1596  1597  1598  1600  1625  1631  1653  1659  1689  1700  1701\n",
      "  1703  1704  1707  1753  1771  1779  1780  1781  1783  1793  1796  1799\n",
      "  1800  1801  1870  1895  1896  1900  1910  1920  1922  1933  1937  1968\n",
      "  1986  1988  1992  1993  1995  1998  1999  2000  2004  2005  2007  2009\n",
      "  2016  2017  2018  2172  2200  2201  2331  2340  2389  2402  2461  2598\n",
      "  2729  2789  2792  2799  3000  3199  3454  3500  3750  4400  4507  4700\n",
      "  5000  5411  5420  5575  5809  5815  5867  6006  6010  6011  6012  6018\n",
      "  6045  6062  6226  6512  6920  7508  7511  7512  7515  7518  7529  7544\n",
      "  8011  8259  8404  8500  9000  9007  9010  9011  9012  9013  9710 10000\n",
      " 10110 10218 10311 10317 10520 10522 10710 10910 10912 11011 11025 11111\n",
      " 11509 11530 11635 12012 12510 12512 12684 13616 13636 14009 15001 15016\n",
      " 15017 15020 15033 16011 16051 16311 16312 17011 17019 17410 17700 17932\n",
      " 19208 19211 19312 20000]\n"
     ]
    },
    {
     "data": {
      "text/plain": [
       "<AxesSubplot:>"
      ]
     },
     "execution_count": 24,
     "metadata": {},
     "output_type": "execute_result"
    },
    {
     "data": {
      "image/png": "[encoded data removed]",
      "text/plain": [
       "<Figure size 432x288 with 1 Axes>"
      ]
     },
     "metadata": {
      "needs_background": "light"
     },
     "output_type": "display_data"
    }
   ],
   "source": [
    "print(data['Power'].sort_values().unique())\n",
    "hist = data[data['Power'] <500]\n",
    "hist['Power'].hist(bins=100)"
   ]
  },
  {
   "cell_type": "markdown",
   "metadata": {},
   "source": [
    "Также мощность не может быть 0й и вышее 500 лс уже вызывает подозрения. Заменим значения < 30  и > 500"
   ]
  },
  {
   "cell_type": "code",
   "execution_count": 25,
   "metadata": {
    "scrolled": true
   },
   "outputs": [
    {
     "name": "stderr",
     "output_type": "stream",
     "text": [
      "/opt/conda/lib/python3.9/site-packages/pandas/core/indexing.py:1720: SettingWithCopyWarning: \n",
      "A value is trying to be set on a copy of a slice from a DataFrame.\n",
      "Try using .loc[row_indexer,col_indexer] = value instead\n",
      "\n",
      "See the caveats in the documentation: https://pandas.pydata.org/pandas-docs/stable/user_guide/indexing.html#returning-a-view-versus-a-copy\n",
      "  self._setitem_single_column(loc, value, pi)\n",
      "/opt/conda/lib/python3.9/site-packages/pandas/core/indexing.py:1720: SettingWithCopyWarning: \n",
      "A value is trying to be set on a copy of a slice from a DataFrame.\n",
      "Try using .loc[row_indexer,col_indexer] = value instead\n",
      "\n",
      "See the caveats in the documentation: https://pandas.pydata.org/pandas-docs/stable/user_guide/indexing.html#returning-a-view-versus-a-copy\n",
      "  self._setitem_single_column(loc, value, pi)\n",
      "/opt/conda/lib/python3.9/site-packages/pandas/core/indexing.py:1720: SettingWithCopyWarning: \n",
      "A value is trying to be set on a copy of a slice from a DataFrame.\n",
      "Try using .loc[row_indexer,col_indexer] = value instead\n",
      "\n",
      "See the caveats in the documentation: https://pandas.pydata.org/pandas-docs/stable/user_guide/indexing.html#returning-a-view-versus-a-copy\n",
      "  self._setitem_single_column(loc, value, pi)\n",
      "/tmp/ipykernel_111/3040473567.py:7: SettingWithCopyWarning: \n",
      "A value is trying to be set on a copy of a slice from a DataFrame.\n",
      "Try using .loc[row_indexer,col_indexer] = value instead\n",
      "\n",
      "See the caveats in the documentation: https://pandas.pydata.org/pandas-docs/stable/user_guide/indexing.html#returning-a-view-versus-a-copy\n",
      "  data['Price'] = imputer.transform(data[['Price']])\n",
      "/tmp/ipykernel_111/3040473567.py:11: SettingWithCopyWarning: \n",
      "A value is trying to be set on a copy of a slice from a DataFrame.\n",
      "Try using .loc[row_indexer,col_indexer] = value instead\n",
      "\n",
      "See the caveats in the documentation: https://pandas.pydata.org/pandas-docs/stable/user_guide/indexing.html#returning-a-view-versus-a-copy\n",
      "  data['Power'] = imputer.transform(data[['Power']])\n"
     ]
    }
   ],
   "source": [
    "data.loc[(data['Price'] == 0), ('Price')] = np.nan\n",
    "data.loc[(data['Power'] < 30), ('Power')] = np.nan\n",
    "data.loc[(data['Power'] > 500), ('Power')] = np.nan\n",
    "\n",
    "imputer = SimpleImputer(strategy='median', missing_values=np.nan)\n",
    "imputer = imputer.fit(data[['Price']])\n",
    "data['Price'] = imputer.transform(data[['Price']])\n",
    "\n",
    "imputer = SimpleImputer(strategy='median', missing_values=np.nan)\n",
    "imputer = imputer.fit(data[['Power']])\n",
    "data['Power'] = imputer.transform(data[['Power']])\n"
   ]
  },
  {
   "cell_type": "code",
   "execution_count": 26,
   "metadata": {
    "scrolled": true
   },
   "outputs": [
    {
     "data": {
      "text/plain": [
       "<AxesSubplot:>"
      ]
     },
     "execution_count": 26,
     "metadata": {},
     "output_type": "execute_result"
    },
    {
     "data": {
      "image/png": "[encoded data removed]",
      "text/plain": [
       "<Figure size 432x288 with 1 Axes>"
      ]
     },
     "metadata": {
      "needs_background": "light"
     },
     "output_type": "display_data"
    }
   ],
   "source": [
    "\n",
    "data['Power'].hist(bins=100)"
   ]
  },
  {
   "cell_type": "code",
   "execution_count": 27,
   "metadata": {
    "scrolled": true
   },
   "outputs": [
    {
     "name": "stdout",
     "output_type": "stream",
     "text": [
      "(354369, 11)\n"
     ]
    }
   ],
   "source": [
    "data.isnull().sum()\n",
    "print(data.shape)"
   ]
  },
  {
   "cell_type": "code",
   "execution_count": 28,
   "metadata": {
    "scrolled": true
   },
   "outputs": [
    {
     "name": "stdout",
     "output_type": "stream",
     "text": [
      "[nan 'coupe' 'suv' 'small' 'sedan' 'convertible' 'bus' 'wagon' 'other']\n",
      "['manual' 'auto' nan]\n",
      "['golf' nan 'grand' 'fabia' '3er' '2_reihe' 'other' 'c_max' '3_reihe'\n",
      " 'passat' 'navara' 'ka' 'polo' 'twingo' 'a_klasse' 'scirocco' '5er'\n",
      " 'meriva' 'arosa' 'c4' 'civic' 'transporter' 'punto' 'e_klasse' 'clio'\n",
      " 'kadett' 'kangoo' 'corsa' 'one' 'fortwo' '1er' 'b_klasse' 'signum'\n",
      " 'astra' 'a8' 'jetta' 'fiesta' 'c_klasse' 'micra' 'vito' 'sprinter' '156'\n",
      " 'escort' 'forester' 'xc_reihe' 'scenic' 'a4' 'a1' 'insignia' 'combo'\n",
      " 'focus' 'tt' 'a6' 'jazz' 'omega' 'slk' '7er' '80' '147' '100' 'z_reihe'\n",
      " 'sportage' 'sorento' 'v40' 'ibiza' 'mustang' 'eos' 'touran' 'getz' 'a3'\n",
      " 'almera' 'megane' 'lupo' 'r19' 'zafira' 'caddy' 'mondeo' 'cordoba' 'colt'\n",
      " 'impreza' 'vectra' 'berlingo' 'tiguan' 'i_reihe' 'espace' 'sharan'\n",
      " '6_reihe' 'panda' 'up' 'seicento' 'ceed' '5_reihe' 'yeti' 'octavia' 'mii'\n",
      " 'rx_reihe' '6er' 'modus' 'fox' 'matiz' 'beetle' 'c1' 'rio' 'touareg'\n",
      " 'logan' 'spider' 'cuore' 's_max' 'a2' 'galaxy' 'c3' 'viano' 's_klasse'\n",
      " '1_reihe' 'avensis' 'roomster' 'sl' 'kaefer' 'santa' 'cooper' 'leon'\n",
      " '4_reihe' 'a5' '500' 'laguna' 'ptcruiser' 'clk' 'primera' 'x_reihe'\n",
      " 'exeo' '159' 'transit' 'juke' 'qashqai' 'carisma' 'accord' 'corolla'\n",
      " 'lanos' 'phaeton' 'verso' 'swift' 'rav' 'picanto' 'boxster' 'kalos'\n",
      " 'superb' 'stilo' 'alhambra' 'mx_reihe' 'roadster' 'ypsilon' 'cayenne'\n",
      " 'galant' 'justy' '90' 'sirion' 'crossfire' 'agila' 'duster' 'cr_reihe'\n",
      " 'v50' 'c_reihe' 'v_klasse' 'm_klasse' 'yaris' 'c5' 'aygo' 'cc' 'carnival'\n",
      " 'fusion' '911' 'bora' 'forfour' 'm_reihe' 'cl' 'tigra' '300c' 'spark'\n",
      " 'v70' 'kuga' 'x_type' 'ducato' 's_type' 'x_trail' 'toledo' 'altea'\n",
      " 'voyager' 'calibra' 'bravo' 'antara' 'tucson' 'citigo' 'jimny' 'wrangler'\n",
      " 'lybra' 'q7' 'lancer' 'captiva' 'c2' 'discovery' 'freelander' 'sandero'\n",
      " 'note' '900' 'cherokee' 'clubman' 'samara' 'defender' '601' 'cx_reihe'\n",
      " 'legacy' 'pajero' 'auris' 'niva' 's60' 'nubira' 'vivaro' 'g_klasse'\n",
      " 'lodgy' '850' 'range_rover' 'q3' 'serie_2' 'glk' 'charade' 'croma'\n",
      " 'outlander' 'doblo' 'musa' 'move' '9000' 'v60' '145' 'aveo' '200' 'b_max'\n",
      " 'range_rover_sport' 'terios' 'rangerover' 'q5' 'range_rover_evoque'\n",
      " 'materia' 'delta' 'gl' 'kalina' 'amarok' 'elefantino' 'i3' 'kappa'\n",
      " 'serie_3' 'serie_1']\n",
      "['petrol' 'gasoline' nan 'lpg' 'other' 'hybrid' 'cng' 'electric']\n",
      "[nan 'yes' 'no']\n"
     ]
    }
   ],
   "source": [
    "print(data['VehicleType'].unique())\n",
    "print(data['Gearbox'].unique())\n",
    "print(data['Model'].unique())\n",
    "print(data['FuelType'].unique())\n",
    "print(data['Repaired'].unique())"
   ]
  },
  {
   "cell_type": "code",
   "execution_count": 29,
   "metadata": {
    "scrolled": true
   },
   "outputs": [
    {
     "name": "stderr",
     "output_type": "stream",
     "text": [
      "/tmp/ipykernel_111/3415496181.py:2: SettingWithCopyWarning: \n",
      "A value is trying to be set on a copy of a slice from a DataFrame.\n",
      "Try using .loc[row_indexer,col_indexer] = value instead\n",
      "\n",
      "See the caveats in the documentation: https://pandas.pydata.org/pandas-docs/stable/user_guide/indexing.html#returning-a-view-versus-a-copy\n",
      "  data['Model'] = data.groupby('Brand', dropna=False)['Model'].transform(f)\n",
      "/tmp/ipykernel_111/3415496181.py:3: SettingWithCopyWarning: \n",
      "A value is trying to be set on a copy of a slice from a DataFrame.\n",
      "Try using .loc[row_indexer,col_indexer] = value instead\n",
      "\n",
      "See the caveats in the documentation: https://pandas.pydata.org/pandas-docs/stable/user_guide/indexing.html#returning-a-view-versus-a-copy\n",
      "  data['VehicleType'] = data.groupby('Model', dropna=False)['VehicleType'].transform(f)\n",
      "/tmp/ipykernel_111/3415496181.py:4: SettingWithCopyWarning: \n",
      "A value is trying to be set on a copy of a slice from a DataFrame.\n",
      "Try using .loc[row_indexer,col_indexer] = value instead\n",
      "\n",
      "See the caveats in the documentation: https://pandas.pydata.org/pandas-docs/stable/user_guide/indexing.html#returning-a-view-versus-a-copy\n",
      "  data['Gearbox'] = data.groupby('Model', dropna=False)['Gearbox'].transform(f)\n",
      "/tmp/ipykernel_111/3415496181.py:5: SettingWithCopyWarning: \n",
      "A value is trying to be set on a copy of a slice from a DataFrame.\n",
      "Try using .loc[row_indexer,col_indexer] = value instead\n",
      "\n",
      "See the caveats in the documentation: https://pandas.pydata.org/pandas-docs/stable/user_guide/indexing.html#returning-a-view-versus-a-copy\n",
      "  data['FuelType'] = data.groupby('Model', dropna=False)['FuelType'].transform(f)\n",
      "/tmp/ipykernel_111/3415496181.py:6: SettingWithCopyWarning: \n",
      "A value is trying to be set on a copy of a slice from a DataFrame.\n",
      "Try using .loc[row_indexer,col_indexer] = value instead\n",
      "\n",
      "See the caveats in the documentation: https://pandas.pydata.org/pandas-docs/stable/user_guide/indexing.html#returning-a-view-versus-a-copy\n",
      "  data['Repaired'] = data['Repaired'].fillna('non_stated')\n"
     ]
    },
    {
     "data": {
      "text/plain": [
       "VehicleType             0\n",
       "RegistrationYear        0\n",
       "Gearbox                 0\n",
       "Power                   0\n",
       "Model                3374\n",
       "Kilometer               0\n",
       "RegistrationMonth       0\n",
       "FuelType                0\n",
       "Brand                   0\n",
       "Repaired                0\n",
       "Price                   0\n",
       "dtype: int64"
      ]
     },
     "execution_count": 29,
     "metadata": {},
     "output_type": "execute_result"
    }
   ],
   "source": [
    "f = lambda x: x.mode().iat[0] if x.notna().any() else np.nan    \n",
    "data['Model'] = data.groupby('Brand', dropna=False)['Model'].transform(f)\n",
    "data['VehicleType'] = data.groupby('Model', dropna=False)['VehicleType'].transform(f)\n",
    "data['Gearbox'] = data.groupby('Model', dropna=False)['Gearbox'].transform(f)\n",
    "data['FuelType'] = data.groupby('Model', dropna=False)['FuelType'].transform(f)\n",
    "data['Repaired'] = data['Repaired'].fillna('non_stated')\n",
    "\n",
    "\n",
    "data.isnull().sum()\n"
   ]
  },
  {
   "cell_type": "markdown",
   "metadata": {},
   "source": [
    "Способ замены - выбор наиболее распространненого признака относительно \n",
    "\n",
    "После замены остались еще строки, в которых есть незаполненные пропуски, их удалим из выборки. "
   ]
  },
  {
   "cell_type": "code",
   "execution_count": 30,
   "metadata": {
    "scrolled": true
   },
   "outputs": [
    {
     "name": "stdout",
     "output_type": "stream",
     "text": [
      "(354369, 11)\n"
     ]
    },
    {
     "data": {
      "text/plain": [
       "VehicleType          0\n",
       "RegistrationYear     0\n",
       "Gearbox              0\n",
       "Power                0\n",
       "Model                0\n",
       "Kilometer            0\n",
       "RegistrationMonth    0\n",
       "FuelType             0\n",
       "Brand                0\n",
       "Repaired             0\n",
       "Price                0\n",
       "dtype: int64"
      ]
     },
     "execution_count": 30,
     "metadata": {},
     "output_type": "execute_result"
    }
   ],
   "source": [
    "print(data.shape)\n",
    "data = data.dropna()\n",
    "data.isnull().sum()"
   ]
  },
  {
   "cell_type": "code",
   "execution_count": 31,
   "metadata": {},
   "outputs": [
    {
     "data": {
      "text/plain": [
       "(350995, 11)"
      ]
     },
     "execution_count": 31,
     "metadata": {},
     "output_type": "execute_result"
    }
   ],
   "source": [
    "data.shape"
   ]
  },
  {
   "cell_type": "markdown",
   "metadata": {},
   "source": [
    "Во время предобработки данных:\n",
    "    1 Установлены необходимые библиотеки\n",
    "    2 Обработаны данные\n",
    "    3 Удалены лишние признаки\n",
    "    4 Заполнены пропуски\n"
   ]
  },
  {
   "cell_type": "markdown",
   "metadata": {},
   "source": [
    "## Обучение моделей"
   ]
  },
  {
   "cell_type": "markdown",
   "metadata": {},
   "source": [
    "Создаем признаки и таргет"
   ]
  },
  {
   "cell_type": "code",
   "execution_count": 32,
   "metadata": {},
   "outputs": [],
   "source": [
    "features = data.drop(['Price'], axis = 1)\n",
    "target = data['Price']\n",
    "\n",
    "features_train, features_test, target_train, target_test = train_test_split(features, target,test_size=0.25, random_state=12345)\n",
    "\n",
    "encoder = OrdinalEncoder(handle_unknown='ignore')\n",
    "encoder.fit(features_train)\n",
    "features_train = pd.DataFrame(encoder.transform(features_train))\n",
    "features_test =  pd.DataFrame(encoder.transform(features_test))\n",
    "\n"
   ]
  },
  {
   "cell_type": "markdown",
   "metadata": {},
   "source": [
    "Настраиваем 1 модель"
   ]
  },
  {
   "cell_type": "code",
   "execution_count": 33,
   "metadata": {},
   "outputs": [
    {
     "name": "stdout",
     "output_type": "stream",
     "text": [
      "Fitting 2 folds for each of 9 candidates, totalling 18 fits\n",
      "[CV] END bootstrap=True, max_depth=10, max_features=3, n_estimators=80; total time=   5.9s\n",
      "[CV] END bootstrap=True, max_depth=10, max_features=3, n_estimators=80; total time=   5.6s\n",
      "[CV] END bootstrap=True, max_depth=10, max_features=3, n_estimators=100; total time=   7.2s\n",
      "[CV] END bootstrap=True, max_depth=10, max_features=3, n_estimators=100; total time=   7.1s\n",
      "[CV] END bootstrap=True, max_depth=10, max_features=3, n_estimators=120; total time=   8.5s\n",
      "[CV] END bootstrap=True, max_depth=10, max_features=3, n_estimators=120; total time=   8.1s\n",
      "[CV] END bootstrap=True, max_depth=15, max_features=3, n_estimators=80; total time=   8.1s\n",
      "[CV] END bootstrap=True, max_depth=15, max_features=3, n_estimators=80; total time=   8.0s\n",
      "[CV] END bootstrap=True, max_depth=15, max_features=3, n_estimators=100; total time=  10.0s\n",
      "[CV] END bootstrap=True, max_depth=15, max_features=3, n_estimators=100; total time=   9.8s\n",
      "[CV] END bootstrap=True, max_depth=15, max_features=3, n_estimators=120; total time=  12.0s\n",
      "[CV] END bootstrap=True, max_depth=15, max_features=3, n_estimators=120; total time=  12.5s\n",
      "[CV] END bootstrap=True, max_depth=20, max_features=3, n_estimators=80; total time=  11.5s\n",
      "[CV] END bootstrap=True, max_depth=20, max_features=3, n_estimators=80; total time=  11.5s\n",
      "[CV] END bootstrap=True, max_depth=20, max_features=3, n_estimators=100; total time=  14.3s\n",
      "[CV] END bootstrap=True, max_depth=20, max_features=3, n_estimators=100; total time=  14.7s\n",
      "[CV] END bootstrap=True, max_depth=20, max_features=3, n_estimators=120; total time=  17.7s\n",
      "[CV] END bootstrap=True, max_depth=20, max_features=3, n_estimators=120; total time=  16.9s\n",
      "Время работы модели Fit: 210.74288296699524\n",
      "{'bootstrap': True, 'max_depth': 15, 'max_features': 3, 'n_estimators': 120}\n",
      "1866.8967125396573\n",
      "Время работы модели Predict: 4.804383277893066\n"
     ]
    }
   ],
   "source": [
    "param_grid = {\n",
    "    'bootstrap': [True],\n",
    "    'max_depth': [10, 15, 20 ],\n",
    "    'max_features': [3],\n",
    "    'n_estimators': [80, 100, 120]\n",
    "}\n",
    "\n",
    "rf = RandomForestRegressor()\n",
    "start = time.time()\n",
    "grid_search_final = GridSearchCV(estimator = rf, param_grid = param_grid, scoring= 'neg_mean_squared_error', cv = 2, n_jobs = -1, verbose = 2).fit(features_train, target_train)\n",
    "end_fit_rfr = time.time() - start\n",
    "print(\"Время работы модели Fit:\", end_fit_rfr)\n",
    "best_parameters_final = grid_search_final.best_params_\n",
    "best_estimator_final = grid_search_final.best_estimator_\n",
    "cv_rfc_final = cross_val_score(best_estimator_final,features_train, target_train, scoring= 'neg_mean_squared_error' , cv=4).mean()\n",
    "print(best_parameters_final)\n",
    "print(abs(cv_rfc_final)**(0.5))\n",
    "\n",
    "start = time.time()\n",
    "bf = best_estimator_final.predict(features_train)\n",
    "end_predict_rfr = time.time() - start\n",
    "print(\"Время работы модели Predict:\", end_predict_rfr)\n"
   ]
  },
  {
   "cell_type": "markdown",
   "metadata": {},
   "source": [
    "Настраиваем модель LightGBM"
   ]
  },
  {
   "cell_type": "code",
   "execution_count": 34,
   "metadata": {},
   "outputs": [],
   "source": [
    "train_data = lightgbm.Dataset(features_train, label=target_train, \n",
    "                              free_raw_data=False,\n",
    "                             )\n",
    "\n",
    "param_grid = {'learning_rate': [0.1, 0.3],\n",
    "              'max_depth': [15, 20],\n",
    "             }\n",
    "\n",
    "lgbm = lightgbm.LGBMRegressor(n_jobs = 4)\n",
    "\n",
    "# инициализируем GridSearchCV\n",
    "grid_search = GridSearchCV(estimator = lgbm, \n",
    "                           param_grid = param_grid, \n",
    "                           cv = 3,\n",
    "                           n_jobs = -1, \n",
    "                           verbose = 0, \n",
    "                           scoring = 'neg_mean_squared_error',\n",
    "                          )\n",
    "\n",
    "\n"
   ]
  },
  {
   "cell_type": "code",
   "execution_count": 35,
   "metadata": {},
   "outputs": [
    {
     "name": "stdout",
     "output_type": "stream",
     "text": [
      "{'learning_rate': 0.3, 'max_depth': 15}\n",
      "RMSE для LightGBM модели на валидационной выборке: 1904.77\n"
     ]
    }
   ],
   "source": [
    "start = time.time()\n",
    "grid_search.fit(features_train, target_train)\n",
    "end_fit_lgbm = time.time() - start\n",
    "print(grid_search.best_params_)\n",
    "\n",
    "print('RMSE для LightGBM модели на валидационной выборке: {:.2f}'.format((-grid_search.best_score_) ** 0.5))\n",
    "start = time.time()\n",
    "prediction = grid_search.predict(features_train)\n",
    "end_prdict_lgbm = time.time() - start"
   ]
  },
  {
   "cell_type": "code",
   "execution_count": 36,
   "metadata": {},
   "outputs": [
    {
     "name": "stdout",
     "output_type": "stream",
     "text": [
      "MSE: 3368757.31\n",
      "RMSE: 1835.42\n",
      "Время работы модели Fit: 35.366201877593994\n",
      "Время работы модели Predict: 1.4982447624206543\n"
     ]
    }
   ],
   "source": [
    "\n",
    "mse = mean_squared_error(target_train, prediction)\n",
    "rmse = mse**(0.5)\n",
    "print(\"MSE: %.2f\" % mse)\n",
    "print(\"RMSE: %.2f\" % rmse)\n",
    "print(\"Время работы модели Fit:\", end_fit_lgbm)\n",
    "print(\"Время работы модели Predict:\", end_prdict_lgbm)\n"
   ]
  },
  {
   "cell_type": "markdown",
   "metadata": {},
   "source": [
    "Основные показатели моделей. "
   ]
  },
  {
   "cell_type": "code",
   "execution_count": 37,
   "metadata": {},
   "outputs": [
    {
     "name": "stdout",
     "output_type": "stream",
     "text": [
      "Модель RandomForest\n",
      "Время работы модели Fit: 210.74288296699524\n",
      "1866.8967125396573\n",
      "Время работы модели Predict: 4.804383277893066\n",
      "\n",
      "Модель LGBM\n",
      "RMSE: 1835.42\n",
      "Время работы модели Fit: 35.366201877593994\n",
      "Время работы модели Predict: 1.4982447624206543\n"
     ]
    }
   ],
   "source": [
    "print('Модель RandomForest')\n",
    "print(\"Время работы модели Fit:\", end_fit_rfr)\n",
    "print(abs(cv_rfc_final)**(0.5))\n",
    "print(\"Время работы модели Predict:\", end_predict_rfr)\n",
    "print()\n",
    "print('Модель LGBM')\n",
    "print(\"RMSE: %.2f\" % rmse)\n",
    "print(\"Время работы модели Fit:\", end_fit_lgbm)\n",
    "print(\"Время работы модели Predict:\", end_prdict_lgbm)"
   ]
  },
  {
   "cell_type": "markdown",
   "metadata": {},
   "source": [
    "## Анализ моделей"
   ]
  },
  {
   "cell_type": "markdown",
   "metadata": {},
   "source": [
    "Модель с наименьшим RSME - LightGBMRegressor. Проверим на тест данных."
   ]
  },
  {
   "cell_type": "code",
   "execution_count": 38,
   "metadata": {},
   "outputs": [
    {
     "name": "stdout",
     "output_type": "stream",
     "text": [
      "1901.968849094846\n",
      "RMSE dummy: 4452.857878337614\n"
     ]
    }
   ],
   "source": [
    "bf = grid_search.predict(features_test)\n",
    "result = mean_squared_error(target_test, bf)**0.5 \n",
    "print(result)\n",
    "\n",
    "dummy_regr = DummyRegressor(strategy=\"mean\")\n",
    "fin = dummy_regr.fit(features_train, target_train)\n",
    "fin = fin.predict(features_test)\n",
    "result = mean_squared_error(target_test, fin)**0.5 \n",
    "print(\"RMSE dummy:\", result)"
   ]
  },
  {
   "cell_type": "markdown",
   "metadata": {},
   "source": [
    "Итог:\n",
    "    \n",
    "Наша модель лучше, чем модель дамми. \n",
    "\n",
    "В данном проекте были обработаны данные по продажам автомобилям. \n",
    "Обработаны данные для корректного прогнозирования модели\n",
    "Проверено 2 модели - RandomForestRegressor и LightGBM\n",
    "Выбрана 1 лучшая модель - LightGBMRegressor\n",
    "\n"
   ]
  }
 ],
 "metadata": {
  "ExecuteTimeLog": [
   {
    "duration": 58,
    "start_time": "2023-01-15T10:32:08.331Z"
   },
   {
    "duration": 6,
    "start_time": "2023-01-15T10:32:08.658Z"
   },
   {
    "duration": 364,
    "start_time": "2023-01-15T10:32:13.282Z"
   },
   {
    "duration": 969,
    "start_time": "2023-01-15T10:32:13.648Z"
   },
   {
    "duration": 27,
    "start_time": "2023-01-15T10:32:33.465Z"
   },
   {
    "duration": 137,
    "start_time": "2023-01-15T10:32:50.984Z"
   },
   {
    "duration": 12,
    "start_time": "2023-01-15T10:33:08.129Z"
   },
   {
    "duration": 4,
    "start_time": "2023-01-15T10:33:25.489Z"
   },
   {
    "duration": 1291,
    "start_time": "2023-01-15T10:36:00.884Z"
   },
   {
    "duration": 128,
    "start_time": "2023-01-15T10:36:02.177Z"
   },
   {
    "duration": 14,
    "start_time": "2023-01-15T10:36:02.307Z"
   },
   {
    "duration": 19,
    "start_time": "2023-01-15T10:36:02.371Z"
   },
   {
    "duration": 1193,
    "start_time": "2023-01-15T10:36:10.875Z"
   },
   {
    "duration": 46,
    "start_time": "2023-01-15T10:39:55.977Z"
   },
   {
    "duration": 46,
    "start_time": "2023-01-15T10:48:48.209Z"
   },
   {
    "duration": 29,
    "start_time": "2023-01-15T10:51:10.001Z"
   },
   {
    "duration": 207,
    "start_time": "2023-01-15T10:51:24.807Z"
   },
   {
    "duration": 88,
    "start_time": "2023-01-15T10:51:58.487Z"
   },
   {
    "duration": 4,
    "start_time": "2023-01-15T10:52:09.355Z"
   },
   {
    "duration": 10,
    "start_time": "2023-01-15T10:52:18.982Z"
   },
   {
    "duration": 46,
    "start_time": "2023-01-15T10:52:43.382Z"
   },
   {
    "duration": 855,
    "start_time": "2023-01-15T10:52:59.871Z"
   },
   {
    "duration": 1186,
    "start_time": "2023-01-15T10:53:00.728Z"
   },
   {
    "duration": 125,
    "start_time": "2023-01-15T10:53:01.921Z"
   },
   {
    "duration": 4,
    "start_time": "2023-01-15T10:53:02.049Z"
   },
   {
    "duration": 19,
    "start_time": "2023-01-15T10:53:02.055Z"
   },
   {
    "duration": 733,
    "start_time": "2023-01-15T10:53:02.076Z"
   },
   {
    "duration": 2,
    "start_time": "2023-01-15T10:53:16.687Z"
   },
   {
    "duration": 1064,
    "start_time": "2023-01-15T10:53:16.858Z"
   },
   {
    "duration": 126,
    "start_time": "2023-01-15T10:53:17.924Z"
   },
   {
    "duration": 5,
    "start_time": "2023-01-15T10:53:18.051Z"
   },
   {
    "duration": 29,
    "start_time": "2023-01-15T10:53:18.058Z"
   },
   {
    "duration": 638,
    "start_time": "2023-01-15T10:53:18.089Z"
   },
   {
    "duration": 3,
    "start_time": "2023-01-15T10:53:41.774Z"
   },
   {
    "duration": 1194,
    "start_time": "2023-01-15T10:53:41.928Z"
   },
   {
    "duration": 138,
    "start_time": "2023-01-15T10:53:43.124Z"
   },
   {
    "duration": 8,
    "start_time": "2023-01-15T10:53:43.264Z"
   },
   {
    "duration": 17,
    "start_time": "2023-01-15T10:53:43.275Z"
   },
   {
    "duration": 655,
    "start_time": "2023-01-15T10:53:43.293Z"
   },
   {
    "duration": 199,
    "start_time": "2023-01-15T10:53:43.950Z"
   },
   {
    "duration": 150,
    "start_time": "2023-01-15T10:53:44.152Z"
   },
   {
    "duration": 5,
    "start_time": "2023-01-15T10:53:44.567Z"
   },
   {
    "duration": 20,
    "start_time": "2023-01-15T10:53:44.769Z"
   },
   {
    "duration": 81,
    "start_time": "2023-01-15T10:54:11.006Z"
   },
   {
    "duration": 81,
    "start_time": "2023-01-15T10:54:16.911Z"
   },
   {
    "duration": 333,
    "start_time": "2023-01-15T10:54:41.750Z"
   },
   {
    "duration": 13,
    "start_time": "2023-01-15T10:55:42.889Z"
   },
   {
    "duration": 79,
    "start_time": "2023-01-15T10:55:43.297Z"
   },
   {
    "duration": 3,
    "start_time": "2023-01-15T10:55:47.649Z"
   },
   {
    "duration": 1129,
    "start_time": "2023-01-15T10:55:47.793Z"
   },
   {
    "duration": 131,
    "start_time": "2023-01-15T10:55:48.924Z"
   },
   {
    "duration": 4,
    "start_time": "2023-01-15T10:55:49.057Z"
   },
   {
    "duration": 15,
    "start_time": "2023-01-15T10:55:49.064Z"
   },
   {
    "duration": 615,
    "start_time": "2023-01-15T10:55:49.081Z"
   },
   {
    "duration": 203,
    "start_time": "2023-01-15T10:55:49.698Z"
   },
   {
    "duration": 81,
    "start_time": "2023-01-15T10:55:50.095Z"
   },
   {
    "duration": 3,
    "start_time": "2023-01-15T10:55:50.301Z"
   },
   {
    "duration": 9,
    "start_time": "2023-01-15T10:55:50.487Z"
   },
   {
    "duration": 432,
    "start_time": "2023-01-15T10:55:50.677Z"
   },
   {
    "duration": 79,
    "start_time": "2023-01-15T10:58:47.647Z"
   },
   {
    "duration": 86,
    "start_time": "2023-01-15T10:58:54.044Z"
   },
   {
    "duration": 75,
    "start_time": "2023-01-15T10:59:02.006Z"
   },
   {
    "duration": 291,
    "start_time": "2023-01-15T11:00:12.481Z"
   },
   {
    "duration": 82,
    "start_time": "2023-01-15T11:00:15.441Z"
   },
   {
    "duration": 5,
    "start_time": "2023-01-15T11:00:16.009Z"
   },
   {
    "duration": 12,
    "start_time": "2023-01-15T11:00:16.561Z"
   },
   {
    "duration": 374,
    "start_time": "2023-01-15T11:00:17.287Z"
   },
   {
    "duration": 76,
    "start_time": "2023-01-15T11:00:20.424Z"
   },
   {
    "duration": 5,
    "start_time": "2023-01-15T11:01:06.337Z"
   },
   {
    "duration": 5,
    "start_time": "2023-01-15T11:02:55.459Z"
   },
   {
    "duration": 177,
    "start_time": "2023-01-15T11:03:17.848Z"
   },
   {
    "duration": 8,
    "start_time": "2023-01-15T11:03:45.786Z"
   },
   {
    "duration": 156,
    "start_time": "2023-01-15T11:03:51.049Z"
   },
   {
    "duration": 4,
    "start_time": "2023-01-15T11:04:26.490Z"
   },
   {
    "duration": 25,
    "start_time": "2023-01-15T11:04:40.769Z"
   },
   {
    "duration": 4,
    "start_time": "2023-01-15T11:04:56.760Z"
   },
   {
    "duration": 3,
    "start_time": "2023-01-15T11:05:20.097Z"
   },
   {
    "duration": 1161,
    "start_time": "2023-01-15T11:05:20.267Z"
   },
   {
    "duration": 151,
    "start_time": "2023-01-15T11:05:21.429Z"
   },
   {
    "duration": 4,
    "start_time": "2023-01-15T11:05:21.581Z"
   },
   {
    "duration": 13,
    "start_time": "2023-01-15T11:05:21.587Z"
   },
   {
    "duration": 597,
    "start_time": "2023-01-15T11:05:21.602Z"
   },
   {
    "duration": 280,
    "start_time": "2023-01-15T11:05:22.200Z"
   },
   {
    "duration": 88,
    "start_time": "2023-01-15T11:05:22.482Z"
   },
   {
    "duration": 4,
    "start_time": "2023-01-15T11:05:22.572Z"
   },
   {
    "duration": 10,
    "start_time": "2023-01-15T11:05:22.633Z"
   },
   {
    "duration": 346,
    "start_time": "2023-01-15T11:05:22.831Z"
   },
   {
    "duration": 81,
    "start_time": "2023-01-15T11:05:23.179Z"
   },
   {
    "duration": 4,
    "start_time": "2023-01-15T11:05:23.262Z"
   },
   {
    "duration": 198,
    "start_time": "2023-01-15T11:05:23.383Z"
   },
   {
    "duration": 4,
    "start_time": "2023-01-15T11:05:23.583Z"
   },
   {
    "duration": 65,
    "start_time": "2023-01-15T11:06:40.946Z"
   },
   {
    "duration": 46,
    "start_time": "2023-01-15T11:08:09.809Z"
   },
   {
    "duration": 19,
    "start_time": "2023-01-15T11:09:36.401Z"
   },
   {
    "duration": 5,
    "start_time": "2023-01-15T11:10:18.042Z"
   },
   {
    "duration": 10,
    "start_time": "2023-01-15T11:11:30.717Z"
   },
   {
    "duration": 9,
    "start_time": "2023-01-15T11:12:28.249Z"
   },
   {
    "duration": 27,
    "start_time": "2023-01-15T11:13:00.697Z"
   },
   {
    "duration": 27,
    "start_time": "2023-01-15T11:13:03.755Z"
   },
   {
    "duration": 29,
    "start_time": "2023-01-15T11:13:21.249Z"
   },
   {
    "duration": 43,
    "start_time": "2023-01-15T11:13:43.177Z"
   },
   {
    "duration": 12,
    "start_time": "2023-01-15T11:15:40.706Z"
   },
   {
    "duration": 2,
    "start_time": "2023-01-15T11:15:44.364Z"
   },
   {
    "duration": 1169,
    "start_time": "2023-01-15T11:15:44.515Z"
   },
   {
    "duration": 124,
    "start_time": "2023-01-15T11:15:45.686Z"
   },
   {
    "duration": 9,
    "start_time": "2023-01-15T11:15:45.812Z"
   },
   {
    "duration": 13,
    "start_time": "2023-01-15T11:15:45.823Z"
   },
   {
    "duration": 596,
    "start_time": "2023-01-15T11:15:45.838Z"
   },
   {
    "duration": 287,
    "start_time": "2023-01-15T11:15:46.436Z"
   },
   {
    "duration": 81,
    "start_time": "2023-01-15T11:15:46.725Z"
   },
   {
    "duration": 4,
    "start_time": "2023-01-15T11:15:46.821Z"
   },
   {
    "duration": 10,
    "start_time": "2023-01-15T11:15:46.966Z"
   },
   {
    "duration": 413,
    "start_time": "2023-01-15T11:15:47.154Z"
   },
   {
    "duration": 81,
    "start_time": "2023-01-15T11:15:47.569Z"
   },
   {
    "duration": 4,
    "start_time": "2023-01-15T11:15:47.652Z"
   },
   {
    "duration": 161,
    "start_time": "2023-01-15T11:15:47.683Z"
   },
   {
    "duration": 64,
    "start_time": "2023-01-15T11:15:47.864Z"
   },
   {
    "duration": 19,
    "start_time": "2023-01-15T11:15:48.410Z"
   },
   {
    "duration": 26,
    "start_time": "2023-01-15T11:15:48.601Z"
   },
   {
    "duration": 2,
    "start_time": "2023-01-15T11:18:41.091Z"
   },
   {
    "duration": 46,
    "start_time": "2023-01-15T11:19:27.050Z"
   },
   {
    "duration": 9,
    "start_time": "2023-01-15T11:21:26.994Z"
   },
   {
    "duration": 11,
    "start_time": "2023-01-15T11:21:58.978Z"
   },
   {
    "duration": 23,
    "start_time": "2023-01-15T11:22:09.212Z"
   },
   {
    "duration": 44,
    "start_time": "2023-01-15T11:22:55.483Z"
   },
   {
    "duration": 11,
    "start_time": "2023-01-15T11:23:06.276Z"
   },
   {
    "duration": 15,
    "start_time": "2023-01-15T11:26:25.573Z"
   },
   {
    "duration": 17,
    "start_time": "2023-01-15T11:26:38.629Z"
   },
   {
    "duration": 20,
    "start_time": "2023-01-15T11:26:53.589Z"
   },
   {
    "duration": 26,
    "start_time": "2023-01-15T11:27:04.444Z"
   },
   {
    "duration": 16,
    "start_time": "2023-01-15T11:27:50.524Z"
   },
   {
    "duration": 19,
    "start_time": "2023-01-15T11:28:00.381Z"
   },
   {
    "duration": 16,
    "start_time": "2023-01-15T11:30:53.989Z"
   },
   {
    "duration": 41,
    "start_time": "2023-01-15T11:32:28.822Z"
   },
   {
    "duration": 46,
    "start_time": "2023-01-15T11:32:43.229Z"
   },
   {
    "duration": 18,
    "start_time": "2023-01-15T11:32:51.317Z"
   },
   {
    "duration": 116,
    "start_time": "2023-01-15T11:33:15.326Z"
   },
   {
    "duration": 114,
    "start_time": "2023-01-15T11:33:29.799Z"
   },
   {
    "duration": 109,
    "start_time": "2023-01-15T11:33:46.958Z"
   },
   {
    "duration": 111,
    "start_time": "2023-01-15T11:34:10.253Z"
   },
   {
    "duration": 100,
    "start_time": "2023-01-15T11:36:31.887Z"
   },
   {
    "duration": 102,
    "start_time": "2023-01-15T11:37:03.481Z"
   },
   {
    "duration": 94,
    "start_time": "2023-01-15T12:44:50.398Z"
   },
   {
    "duration": 109,
    "start_time": "2023-01-15T12:44:57.932Z"
   },
   {
    "duration": 318,
    "start_time": "2023-01-15T12:49:24.252Z"
   },
   {
    "duration": 1142,
    "start_time": "2023-01-15T12:49:24.572Z"
   },
   {
    "duration": 127,
    "start_time": "2023-01-15T12:49:25.717Z"
   },
   {
    "duration": 4,
    "start_time": "2023-01-15T12:49:25.845Z"
   },
   {
    "duration": 21,
    "start_time": "2023-01-15T12:49:25.851Z"
   },
   {
    "duration": 627,
    "start_time": "2023-01-15T12:49:25.873Z"
   },
   {
    "duration": 303,
    "start_time": "2023-01-15T12:49:26.502Z"
   },
   {
    "duration": 89,
    "start_time": "2023-01-15T12:49:26.806Z"
   },
   {
    "duration": 4,
    "start_time": "2023-01-15T12:49:26.896Z"
   },
   {
    "duration": 16,
    "start_time": "2023-01-15T12:49:26.910Z"
   },
   {
    "duration": 408,
    "start_time": "2023-01-15T12:49:27.074Z"
   },
   {
    "duration": 85,
    "start_time": "2023-01-15T12:49:27.483Z"
   },
   {
    "duration": 5,
    "start_time": "2023-01-15T12:49:27.673Z"
   },
   {
    "duration": 167,
    "start_time": "2023-01-15T12:49:27.849Z"
   },
   {
    "duration": 65,
    "start_time": "2023-01-15T12:49:28.027Z"
   },
   {
    "duration": 19,
    "start_time": "2023-01-15T12:49:28.579Z"
   },
   {
    "duration": 26,
    "start_time": "2023-01-15T12:49:28.764Z"
   },
   {
    "duration": 24,
    "start_time": "2023-01-15T12:49:29.107Z"
   },
   {
    "duration": 94,
    "start_time": "2023-01-15T12:49:30.388Z"
   },
   {
    "duration": 19,
    "start_time": "2023-01-15T12:51:07.179Z"
   },
   {
    "duration": 20,
    "start_time": "2023-01-15T12:51:16.897Z"
   },
   {
    "duration": 24,
    "start_time": "2023-01-15T12:51:28.373Z"
   },
   {
    "duration": 161,
    "start_time": "2023-01-15T12:51:29.107Z"
   },
   {
    "duration": 21,
    "start_time": "2023-01-15T12:51:29.455Z"
   },
   {
    "duration": 5,
    "start_time": "2023-01-15T12:51:33.066Z"
   },
   {
    "duration": 1152,
    "start_time": "2023-01-15T12:51:33.202Z"
   },
   {
    "duration": 134,
    "start_time": "2023-01-15T12:51:34.356Z"
   },
   {
    "duration": 4,
    "start_time": "2023-01-15T12:51:34.492Z"
   },
   {
    "duration": 34,
    "start_time": "2023-01-15T12:51:34.498Z"
   },
   {
    "duration": 618,
    "start_time": "2023-01-15T12:51:34.534Z"
   },
   {
    "duration": 346,
    "start_time": "2023-01-15T12:51:35.154Z"
   },
   {
    "duration": 87,
    "start_time": "2023-01-15T12:51:35.501Z"
   },
   {
    "duration": 6,
    "start_time": "2023-01-15T12:51:35.589Z"
   },
   {
    "duration": 9,
    "start_time": "2023-01-15T12:51:35.672Z"
   },
   {
    "duration": 415,
    "start_time": "2023-01-15T12:51:36.011Z"
   },
   {
    "duration": 80,
    "start_time": "2023-01-15T12:51:36.428Z"
   },
   {
    "duration": 17,
    "start_time": "2023-01-15T12:51:36.580Z"
   },
   {
    "duration": 165,
    "start_time": "2023-01-15T12:51:36.778Z"
   },
   {
    "duration": 19,
    "start_time": "2023-01-15T12:51:36.970Z"
   },
   {
    "duration": 64,
    "start_time": "2023-01-15T12:51:37.170Z"
   },
   {
    "duration": 19,
    "start_time": "2023-01-15T12:51:37.740Z"
   },
   {
    "duration": 31,
    "start_time": "2023-01-15T12:51:37.939Z"
   },
   {
    "duration": 33,
    "start_time": "2023-01-15T12:51:38.301Z"
   },
   {
    "duration": 93,
    "start_time": "2023-01-15T12:51:39.475Z"
   },
   {
    "duration": 3,
    "start_time": "2023-01-15T12:52:40.253Z"
   },
   {
    "duration": 1126,
    "start_time": "2023-01-15T12:52:40.398Z"
   },
   {
    "duration": 161,
    "start_time": "2023-01-15T12:52:41.526Z"
   },
   {
    "duration": 4,
    "start_time": "2023-01-15T12:52:41.688Z"
   },
   {
    "duration": 29,
    "start_time": "2023-01-15T12:52:41.694Z"
   },
   {
    "duration": 616,
    "start_time": "2023-01-15T12:52:41.724Z"
   },
   {
    "duration": 298,
    "start_time": "2023-01-15T12:52:42.372Z"
   },
   {
    "duration": 91,
    "start_time": "2023-01-15T12:52:42.672Z"
   },
   {
    "duration": 4,
    "start_time": "2023-01-15T12:52:42.926Z"
   },
   {
    "duration": 10,
    "start_time": "2023-01-15T12:52:43.116Z"
   },
   {
    "duration": 431,
    "start_time": "2023-01-15T12:52:43.314Z"
   },
   {
    "duration": 88,
    "start_time": "2023-01-15T12:52:43.747Z"
   },
   {
    "duration": 19,
    "start_time": "2023-01-15T12:52:43.905Z"
   },
   {
    "duration": 2,
    "start_time": "2023-01-15T12:52:44.104Z"
   },
   {
    "duration": 29,
    "start_time": "2023-01-15T12:52:44.661Z"
   },
   {
    "duration": 24,
    "start_time": "2023-01-15T12:52:45.028Z"
   },
   {
    "duration": 107,
    "start_time": "2023-01-15T12:52:45.988Z"
   },
   {
    "duration": 3,
    "start_time": "2023-01-15T12:54:22.364Z"
   },
   {
    "duration": 45,
    "start_time": "2023-01-15T13:00:31.534Z"
   },
   {
    "duration": 37,
    "start_time": "2023-01-15T13:00:59.601Z"
   },
   {
    "duration": 24,
    "start_time": "2023-01-15T13:04:45.190Z"
   },
   {
    "duration": 106,
    "start_time": "2023-01-15T13:06:55.575Z"
   },
   {
    "duration": 115,
    "start_time": "2023-01-15T13:07:16.733Z"
   },
   {
    "duration": 3,
    "start_time": "2023-01-15T13:07:25.152Z"
   },
   {
    "duration": 1161,
    "start_time": "2023-01-15T13:07:25.310Z"
   },
   {
    "duration": 132,
    "start_time": "2023-01-15T13:07:26.472Z"
   },
   {
    "duration": 4,
    "start_time": "2023-01-15T13:07:26.605Z"
   },
   {
    "duration": 12,
    "start_time": "2023-01-15T13:07:26.621Z"
   },
   {
    "duration": 615,
    "start_time": "2023-01-15T13:07:26.634Z"
   },
   {
    "duration": 286,
    "start_time": "2023-01-15T13:07:27.251Z"
   },
   {
    "duration": 92,
    "start_time": "2023-01-15T13:07:27.538Z"
   },
   {
    "duration": 4,
    "start_time": "2023-01-15T13:07:27.632Z"
   },
   {
    "duration": 10,
    "start_time": "2023-01-15T13:07:27.748Z"
   },
   {
    "duration": 527,
    "start_time": "2023-01-15T13:07:27.934Z"
   },
   {
    "duration": 85,
    "start_time": "2023-01-15T13:07:28.463Z"
   },
   {
    "duration": 18,
    "start_time": "2023-01-15T13:07:28.549Z"
   },
   {
    "duration": 26,
    "start_time": "2023-01-15T13:07:28.878Z"
   },
   {
    "duration": 26,
    "start_time": "2023-01-15T13:07:29.253Z"
   },
   {
    "duration": 43,
    "start_time": "2023-01-15T13:07:30.004Z"
   },
   {
    "duration": 99,
    "start_time": "2023-01-15T13:07:30.200Z"
   },
   {
    "duration": 97,
    "start_time": "2023-01-15T13:07:31.183Z"
   },
   {
    "duration": 38,
    "start_time": "2023-01-15T13:07:59.901Z"
   },
   {
    "duration": 105,
    "start_time": "2023-01-15T13:08:00.247Z"
   },
   {
    "duration": 99,
    "start_time": "2023-01-15T13:09:25.849Z"
   },
   {
    "duration": 706,
    "start_time": "2023-01-15T13:10:08.104Z"
   },
   {
    "duration": 47,
    "start_time": "2023-01-15T13:10:27.046Z"
   },
   {
    "duration": 4,
    "start_time": "2023-01-15T13:20:57.800Z"
   },
   {
    "duration": 1155,
    "start_time": "2023-01-15T13:20:57.969Z"
   },
   {
    "duration": 127,
    "start_time": "2023-01-15T13:20:59.126Z"
   },
   {
    "duration": 4,
    "start_time": "2023-01-15T13:20:59.255Z"
   },
   {
    "duration": 13,
    "start_time": "2023-01-15T13:20:59.260Z"
   },
   {
    "duration": 638,
    "start_time": "2023-01-15T13:20:59.275Z"
   },
   {
    "duration": 301,
    "start_time": "2023-01-15T13:20:59.922Z"
   },
   {
    "duration": 97,
    "start_time": "2023-01-15T13:21:00.224Z"
   },
   {
    "duration": 9,
    "start_time": "2023-01-15T13:21:00.323Z"
   },
   {
    "duration": 10,
    "start_time": "2023-01-15T13:21:00.491Z"
   },
   {
    "duration": 435,
    "start_time": "2023-01-15T13:21:00.673Z"
   },
   {
    "duration": 95,
    "start_time": "2023-01-15T13:21:01.110Z"
   },
   {
    "duration": 29,
    "start_time": "2023-01-15T13:21:01.207Z"
   },
   {
    "duration": 30,
    "start_time": "2023-01-15T13:21:01.609Z"
   },
   {
    "duration": 25,
    "start_time": "2023-01-15T13:21:01.984Z"
   },
   {
    "duration": 42,
    "start_time": "2023-01-15T13:21:02.728Z"
   },
   {
    "duration": 31,
    "start_time": "2023-01-15T13:21:02.933Z"
   },
   {
    "duration": 51,
    "start_time": "2023-01-15T13:21:03.107Z"
   },
   {
    "duration": 107,
    "start_time": "2023-01-15T13:21:03.482Z"
   },
   {
    "duration": 3,
    "start_time": "2023-01-15T13:21:03.655Z"
   },
   {
    "duration": 26,
    "start_time": "2023-01-15T13:22:07.793Z"
   },
   {
    "duration": 377,
    "start_time": "2023-01-15T13:22:53.057Z"
   },
   {
    "duration": 34,
    "start_time": "2023-01-15T13:23:17.002Z"
   },
   {
    "duration": 10,
    "start_time": "2023-01-15T13:49:41.019Z"
   },
   {
    "duration": 4,
    "start_time": "2023-01-15T13:49:44.590Z"
   },
   {
    "duration": 1164,
    "start_time": "2023-01-15T13:49:44.722Z"
   },
   {
    "duration": 138,
    "start_time": "2023-01-15T13:49:45.888Z"
   },
   {
    "duration": 4,
    "start_time": "2023-01-15T13:49:46.027Z"
   },
   {
    "duration": 14,
    "start_time": "2023-01-15T13:49:46.033Z"
   },
   {
    "duration": 646,
    "start_time": "2023-01-15T13:49:46.049Z"
   },
   {
    "duration": 287,
    "start_time": "2023-01-15T13:49:46.697Z"
   },
   {
    "duration": 87,
    "start_time": "2023-01-15T13:49:46.986Z"
   },
   {
    "duration": 4,
    "start_time": "2023-01-15T13:49:47.074Z"
   },
   {
    "duration": 10,
    "start_time": "2023-01-15T13:49:47.129Z"
   },
   {
    "duration": 427,
    "start_time": "2023-01-15T13:49:47.307Z"
   },
   {
    "duration": 87,
    "start_time": "2023-01-15T13:49:47.735Z"
   },
   {
    "duration": 18,
    "start_time": "2023-01-15T13:49:47.823Z"
   },
   {
    "duration": 27,
    "start_time": "2023-01-15T13:49:48.250Z"
   },
   {
    "duration": 25,
    "start_time": "2023-01-15T13:49:48.618Z"
   },
   {
    "duration": 43,
    "start_time": "2023-01-15T13:49:49.372Z"
   },
   {
    "duration": 20,
    "start_time": "2023-01-15T13:49:49.884Z"
   },
   {
    "duration": 49,
    "start_time": "2023-01-15T13:49:50.070Z"
   },
   {
    "duration": 107,
    "start_time": "2023-01-15T13:49:50.466Z"
   },
   {
    "duration": 2,
    "start_time": "2023-01-15T13:49:50.627Z"
   },
   {
    "duration": 115,
    "start_time": "2023-01-15T13:50:44.706Z"
   },
   {
    "duration": 3,
    "start_time": "2023-01-15T13:51:43.469Z"
   },
   {
    "duration": 1113,
    "start_time": "2023-01-15T13:51:43.630Z"
   },
   {
    "duration": 123,
    "start_time": "2023-01-15T13:51:44.744Z"
   },
   {
    "duration": 4,
    "start_time": "2023-01-15T13:51:44.869Z"
   },
   {
    "duration": 19,
    "start_time": "2023-01-15T13:51:44.875Z"
   },
   {
    "duration": 663,
    "start_time": "2023-01-15T13:51:44.896Z"
   },
   {
    "duration": 285,
    "start_time": "2023-01-15T13:51:45.685Z"
   },
   {
    "duration": 82,
    "start_time": "2023-01-15T13:51:45.972Z"
   },
   {
    "duration": 4,
    "start_time": "2023-01-15T13:51:46.059Z"
   },
   {
    "duration": 10,
    "start_time": "2023-01-15T13:51:46.274Z"
   },
   {
    "duration": 387,
    "start_time": "2023-01-15T13:51:46.490Z"
   },
   {
    "duration": 83,
    "start_time": "2023-01-15T13:51:46.879Z"
   },
   {
    "duration": 17,
    "start_time": "2023-01-15T13:51:46.964Z"
   },
   {
    "duration": 26,
    "start_time": "2023-01-15T13:51:47.516Z"
   },
   {
    "duration": 25,
    "start_time": "2023-01-15T13:51:47.891Z"
   },
   {
    "duration": 110,
    "start_time": "2023-01-15T13:51:54.258Z"
   },
   {
    "duration": 181,
    "start_time": "2023-01-15T13:52:33.158Z"
   },
   {
    "duration": 120,
    "start_time": "2023-01-15T13:53:36.447Z"
   },
   {
    "duration": 570,
    "start_time": "2023-01-15T13:54:31.430Z"
   },
   {
    "duration": 2,
    "start_time": "2023-01-15T13:54:37.156Z"
   },
   {
    "duration": 1138,
    "start_time": "2023-01-15T13:54:37.323Z"
   },
   {
    "duration": 129,
    "start_time": "2023-01-15T13:54:38.463Z"
   },
   {
    "duration": 4,
    "start_time": "2023-01-15T13:54:38.594Z"
   },
   {
    "duration": 27,
    "start_time": "2023-01-15T13:54:38.600Z"
   },
   {
    "duration": 608,
    "start_time": "2023-01-15T13:54:38.629Z"
   },
   {
    "duration": 283,
    "start_time": "2023-01-15T13:54:39.259Z"
   },
   {
    "duration": 87,
    "start_time": "2023-01-15T13:54:39.544Z"
   },
   {
    "duration": 4,
    "start_time": "2023-01-15T13:54:39.633Z"
   },
   {
    "duration": 11,
    "start_time": "2023-01-15T13:54:39.794Z"
   },
   {
    "duration": 499,
    "start_time": "2023-01-15T13:54:39.984Z"
   },
   {
    "duration": 91,
    "start_time": "2023-01-15T13:54:40.484Z"
   },
   {
    "duration": 24,
    "start_time": "2023-01-15T13:54:40.577Z"
   },
   {
    "duration": 29,
    "start_time": "2023-01-15T13:54:40.859Z"
   },
   {
    "duration": 26,
    "start_time": "2023-01-15T13:54:41.220Z"
   },
   {
    "duration": 42,
    "start_time": "2023-01-15T13:54:41.948Z"
   },
   {
    "duration": 583,
    "start_time": "2023-01-15T13:54:42.142Z"
   },
   {
    "duration": 52,
    "start_time": "2023-01-15T13:54:42.727Z"
   },
   {
    "duration": 0,
    "start_time": "2023-01-15T13:54:42.781Z"
   },
   {
    "duration": 3,
    "start_time": "2023-01-15T13:54:42.866Z"
   },
   {
    "duration": 63,
    "start_time": "2023-01-15T13:55:07.949Z"
   },
   {
    "duration": 73,
    "start_time": "2023-01-15T13:55:21.974Z"
   },
   {
    "duration": 70,
    "start_time": "2023-01-15T13:56:36.867Z"
   },
   {
    "duration": 5,
    "start_time": "2023-01-15T13:56:42.222Z"
   },
   {
    "duration": 1166,
    "start_time": "2023-01-15T13:56:42.381Z"
   },
   {
    "duration": 128,
    "start_time": "2023-01-15T13:56:43.550Z"
   },
   {
    "duration": 4,
    "start_time": "2023-01-15T13:56:43.680Z"
   },
   {
    "duration": 43,
    "start_time": "2023-01-15T13:56:43.685Z"
   },
   {
    "duration": 655,
    "start_time": "2023-01-15T13:56:43.730Z"
   },
   {
    "duration": 314,
    "start_time": "2023-01-15T13:56:44.387Z"
   },
   {
    "duration": 89,
    "start_time": "2023-01-15T13:56:44.703Z"
   },
   {
    "duration": 28,
    "start_time": "2023-01-15T13:56:44.795Z"
   },
   {
    "duration": 11,
    "start_time": "2023-01-15T13:56:44.844Z"
   },
   {
    "duration": 509,
    "start_time": "2023-01-15T13:56:45.044Z"
   },
   {
    "duration": 119,
    "start_time": "2023-01-15T13:56:45.555Z"
   },
   {
    "duration": 18,
    "start_time": "2023-01-15T13:56:45.676Z"
   },
   {
    "duration": 27,
    "start_time": "2023-01-15T13:56:45.964Z"
   },
   {
    "duration": 24,
    "start_time": "2023-01-15T13:56:46.326Z"
   },
   {
    "duration": 44,
    "start_time": "2023-01-15T13:56:47.061Z"
   },
   {
    "duration": 603,
    "start_time": "2023-01-15T13:56:47.251Z"
   },
   {
    "duration": 76,
    "start_time": "2023-01-15T13:56:47.857Z"
   },
   {
    "duration": 0,
    "start_time": "2023-01-15T13:56:47.934Z"
   },
   {
    "duration": 2,
    "start_time": "2023-01-15T13:56:47.988Z"
   },
   {
    "duration": 582,
    "start_time": "2023-01-15T13:57:28.679Z"
   },
   {
    "duration": 611,
    "start_time": "2023-01-15T13:57:35.092Z"
   },
   {
    "duration": 291,
    "start_time": "2023-01-15T13:57:46.764Z"
   },
   {
    "duration": 3,
    "start_time": "2023-01-15T13:57:54.800Z"
   },
   {
    "duration": 1233,
    "start_time": "2023-01-15T13:57:54.958Z"
   },
   {
    "duration": 130,
    "start_time": "2023-01-15T13:57:56.193Z"
   },
   {
    "duration": 5,
    "start_time": "2023-01-15T13:57:56.324Z"
   },
   {
    "duration": 14,
    "start_time": "2023-01-15T13:57:56.331Z"
   },
   {
    "duration": 657,
    "start_time": "2023-01-15T13:57:56.346Z"
   },
   {
    "duration": 288,
    "start_time": "2023-01-15T13:57:57.005Z"
   },
   {
    "duration": 89,
    "start_time": "2023-01-15T13:57:57.295Z"
   },
   {
    "duration": 4,
    "start_time": "2023-01-15T13:57:57.386Z"
   },
   {
    "duration": 28,
    "start_time": "2023-01-15T13:57:57.396Z"
   },
   {
    "duration": 414,
    "start_time": "2023-01-15T13:57:57.582Z"
   },
   {
    "duration": 87,
    "start_time": "2023-01-15T13:57:57.998Z"
   },
   {
    "duration": 18,
    "start_time": "2023-01-15T13:57:58.086Z"
   },
   {
    "duration": 27,
    "start_time": "2023-01-15T13:57:58.501Z"
   },
   {
    "duration": 24,
    "start_time": "2023-01-15T13:57:58.870Z"
   },
   {
    "duration": 41,
    "start_time": "2023-01-15T13:57:59.806Z"
   },
   {
    "duration": 585,
    "start_time": "2023-01-15T13:57:59.997Z"
   },
   {
    "duration": 306,
    "start_time": "2023-01-15T13:58:00.585Z"
   },
   {
    "duration": 0,
    "start_time": "2023-01-15T13:58:00.893Z"
   },
   {
    "duration": 298,
    "start_time": "2023-01-15T13:58:47.544Z"
   },
   {
    "duration": 376,
    "start_time": "2023-01-15T13:59:07.673Z"
   },
   {
    "duration": 363,
    "start_time": "2023-01-15T13:59:54.216Z"
   },
   {
    "duration": 294,
    "start_time": "2023-01-15T14:00:17.112Z"
   },
   {
    "duration": 13,
    "start_time": "2023-01-15T14:01:56.179Z"
   },
   {
    "duration": 334,
    "start_time": "2023-01-15T14:02:18.657Z"
   },
   {
    "duration": 311,
    "start_time": "2023-01-15T14:02:32.881Z"
   },
   {
    "duration": 299,
    "start_time": "2023-01-15T14:02:39.850Z"
   },
   {
    "duration": 51,
    "start_time": "2023-01-15T14:04:59.546Z"
   },
   {
    "duration": 42,
    "start_time": "2023-01-15T14:05:16.689Z"
   },
   {
    "duration": 3,
    "start_time": "2023-01-15T14:05:31.393Z"
   },
   {
    "duration": 1158,
    "start_time": "2023-01-15T14:05:31.555Z"
   },
   {
    "duration": 145,
    "start_time": "2023-01-15T14:05:32.720Z"
   },
   {
    "duration": 5,
    "start_time": "2023-01-15T14:05:32.867Z"
   },
   {
    "duration": 16,
    "start_time": "2023-01-15T14:05:32.874Z"
   },
   {
    "duration": 616,
    "start_time": "2023-01-15T14:05:32.892Z"
   },
   {
    "duration": 305,
    "start_time": "2023-01-15T14:05:33.617Z"
   },
   {
    "duration": 82,
    "start_time": "2023-01-15T14:05:33.924Z"
   },
   {
    "duration": 4,
    "start_time": "2023-01-15T14:05:34.022Z"
   },
   {
    "duration": 10,
    "start_time": "2023-01-15T14:05:34.185Z"
   },
   {
    "duration": 420,
    "start_time": "2023-01-15T14:05:34.361Z"
   },
   {
    "duration": 82,
    "start_time": "2023-01-15T14:05:34.783Z"
   },
   {
    "duration": 18,
    "start_time": "2023-01-15T14:05:34.866Z"
   },
   {
    "duration": 27,
    "start_time": "2023-01-15T14:05:35.275Z"
   },
   {
    "duration": 26,
    "start_time": "2023-01-15T14:05:35.656Z"
   },
   {
    "duration": 42,
    "start_time": "2023-01-15T14:05:36.423Z"
   },
   {
    "duration": 42,
    "start_time": "2023-01-15T14:05:36.783Z"
   },
   {
    "duration": 110,
    "start_time": "2023-01-15T14:05:37.159Z"
   },
   {
    "duration": 3,
    "start_time": "2023-01-15T14:05:37.350Z"
   },
   {
    "duration": 59,
    "start_time": "2023-01-15T15:46:33.309Z"
   },
   {
    "duration": 67,
    "start_time": "2023-01-15T15:46:38.430Z"
   },
   {
    "duration": 93,
    "start_time": "2023-01-15T15:47:01.980Z"
   },
   {
    "duration": 850,
    "start_time": "2023-01-15T15:47:21.910Z"
   },
   {
    "duration": 48,
    "start_time": "2023-01-15T15:47:46.390Z"
   },
   {
    "duration": 1358,
    "start_time": "2023-01-15T15:48:11.428Z"
   },
   {
    "duration": 1544,
    "start_time": "2023-01-15T15:48:12.788Z"
   },
   {
    "duration": 130,
    "start_time": "2023-01-15T15:48:14.334Z"
   },
   {
    "duration": 7,
    "start_time": "2023-01-15T15:48:14.466Z"
   },
   {
    "duration": 31,
    "start_time": "2023-01-15T15:48:14.475Z"
   },
   {
    "duration": 631,
    "start_time": "2023-01-15T15:48:14.507Z"
   },
   {
    "duration": 430,
    "start_time": "2023-01-15T15:48:15.140Z"
   },
   {
    "duration": 85,
    "start_time": "2023-01-15T15:48:15.572Z"
   },
   {
    "duration": 7,
    "start_time": "2023-01-15T15:48:15.658Z"
   },
   {
    "duration": 39,
    "start_time": "2023-01-15T15:48:15.667Z"
   },
   {
    "duration": 442,
    "start_time": "2023-01-15T15:48:15.708Z"
   },
   {
    "duration": 80,
    "start_time": "2023-01-15T15:48:16.152Z"
   },
   {
    "duration": 28,
    "start_time": "2023-01-15T15:48:16.234Z"
   },
   {
    "duration": 43,
    "start_time": "2023-01-15T15:48:16.264Z"
   },
   {
    "duration": 42,
    "start_time": "2023-01-15T15:48:16.310Z"
   },
   {
    "duration": 80,
    "start_time": "2023-01-15T15:48:16.515Z"
   },
   {
    "duration": 77,
    "start_time": "2023-01-15T15:48:16.717Z"
   },
   {
    "duration": 3,
    "start_time": "2023-01-15T15:48:17.150Z"
   },
   {
    "duration": 43,
    "start_time": "2023-01-15T15:48:34.725Z"
   },
   {
    "duration": 40,
    "start_time": "2023-01-15T15:48:34.915Z"
   },
   {
    "duration": 78,
    "start_time": "2023-01-15T16:16:19.471Z"
   },
   {
    "duration": 1631,
    "start_time": "2023-01-17T09:45:26.504Z"
   },
   {
    "duration": 1569,
    "start_time": "2023-01-17T09:45:28.138Z"
   },
   {
    "duration": 2,
    "start_time": "2023-01-17T09:45:34.353Z"
   },
   {
    "duration": 1285,
    "start_time": "2023-01-17T09:45:34.528Z"
   },
   {
    "duration": 134,
    "start_time": "2023-01-17T09:45:35.816Z"
   },
   {
    "duration": 4,
    "start_time": "2023-01-17T09:45:35.952Z"
   },
   {
    "duration": 14,
    "start_time": "2023-01-17T09:45:35.957Z"
   },
   {
    "duration": 732,
    "start_time": "2023-01-17T09:45:35.972Z"
   },
   {
    "duration": 318,
    "start_time": "2023-01-17T09:45:36.706Z"
   },
   {
    "duration": 93,
    "start_time": "2023-01-17T09:45:37.025Z"
   },
   {
    "duration": 4,
    "start_time": "2023-01-17T09:45:37.120Z"
   },
   {
    "duration": 11,
    "start_time": "2023-01-17T09:45:37.126Z"
   },
   {
    "duration": 500,
    "start_time": "2023-01-17T09:45:37.304Z"
   },
   {
    "duration": 84,
    "start_time": "2023-01-17T09:45:37.806Z"
   },
   {
    "duration": 27,
    "start_time": "2023-01-17T09:45:37.891Z"
   },
   {
    "duration": 30,
    "start_time": "2023-01-17T09:45:38.208Z"
   },
   {
    "duration": 25,
    "start_time": "2023-01-17T09:45:38.575Z"
   },
   {
    "duration": 82,
    "start_time": "2023-01-17T09:45:39.352Z"
   },
   {
    "duration": 47,
    "start_time": "2023-01-17T09:45:39.551Z"
   },
   {
    "duration": 42,
    "start_time": "2023-01-17T09:45:39.744Z"
   },
   {
    "duration": 77,
    "start_time": "2023-01-17T09:45:39.936Z"
   },
   {
    "duration": 130,
    "start_time": "2023-01-17T09:45:40.137Z"
   },
   {
    "duration": 2,
    "start_time": "2023-01-17T09:45:40.366Z"
   },
   {
    "duration": 9,
    "start_time": "2023-01-17T09:49:06.953Z"
   },
   {
    "duration": 44,
    "start_time": "2023-01-17T09:50:27.075Z"
   },
   {
    "duration": 8,
    "start_time": "2023-01-17T09:50:59.298Z"
   },
   {
    "duration": 8,
    "start_time": "2023-01-17T09:51:05.908Z"
   },
   {
    "duration": 7,
    "start_time": "2023-01-17T09:51:16.787Z"
   },
   {
    "duration": 8,
    "start_time": "2023-01-17T09:51:40.015Z"
   },
   {
    "duration": 13,
    "start_time": "2023-01-17T09:52:03.210Z"
   },
   {
    "duration": 14,
    "start_time": "2023-01-17T09:52:08.052Z"
   },
   {
    "duration": 14,
    "start_time": "2023-01-17T09:52:25.661Z"
   },
   {
    "duration": 14,
    "start_time": "2023-01-17T09:52:52.502Z"
   },
   {
    "duration": 9,
    "start_time": "2023-01-17T09:53:43.045Z"
   },
   {
    "duration": 12,
    "start_time": "2023-01-17T09:53:46.722Z"
   },
   {
    "duration": 8,
    "start_time": "2023-01-17T09:53:51.517Z"
   },
   {
    "duration": 47,
    "start_time": "2023-01-17T09:54:05.484Z"
   },
   {
    "duration": 13,
    "start_time": "2023-01-17T09:54:23.597Z"
   },
   {
    "duration": 11,
    "start_time": "2023-01-17T09:55:07.389Z"
   },
   {
    "duration": 64,
    "start_time": "2023-01-17T09:55:20.669Z"
   },
   {
    "duration": 86,
    "start_time": "2023-01-17T09:56:19.485Z"
   },
   {
    "duration": 84,
    "start_time": "2023-01-17T09:56:28.829Z"
   },
   {
    "duration": 3,
    "start_time": "2023-01-17T10:22:22.531Z"
   },
   {
    "duration": 1146,
    "start_time": "2023-01-17T10:22:22.737Z"
   },
   {
    "duration": 131,
    "start_time": "2023-01-17T10:22:23.884Z"
   },
   {
    "duration": 3,
    "start_time": "2023-01-17T10:22:24.017Z"
   },
   {
    "duration": 16,
    "start_time": "2023-01-17T10:22:24.022Z"
   },
   {
    "duration": 662,
    "start_time": "2023-01-17T10:22:24.040Z"
   },
   {
    "duration": 298,
    "start_time": "2023-01-17T10:22:24.785Z"
   },
   {
    "duration": 88,
    "start_time": "2023-01-17T10:22:25.085Z"
   },
   {
    "duration": 4,
    "start_time": "2023-01-17T10:22:25.174Z"
   },
   {
    "duration": 10,
    "start_time": "2023-01-17T10:22:25.306Z"
   },
   {
    "duration": 492,
    "start_time": "2023-01-17T10:22:25.504Z"
   },
   {
    "duration": 86,
    "start_time": "2023-01-17T10:22:25.998Z"
   },
   {
    "duration": 31,
    "start_time": "2023-01-17T10:22:26.086Z"
   },
   {
    "duration": 30,
    "start_time": "2023-01-17T10:22:26.459Z"
   },
   {
    "duration": 24,
    "start_time": "2023-01-17T10:22:26.842Z"
   },
   {
    "duration": 89,
    "start_time": "2023-01-17T10:22:27.618Z"
   },
   {
    "duration": 46,
    "start_time": "2023-01-17T10:22:27.811Z"
   },
   {
    "duration": 46,
    "start_time": "2023-01-17T10:22:28.022Z"
   },
   {
    "duration": 92,
    "start_time": "2023-01-17T10:22:28.211Z"
   },
   {
    "duration": 46,
    "start_time": "2023-01-17T10:22:28.411Z"
   },
   {
    "duration": 3,
    "start_time": "2023-01-17T10:22:28.621Z"
   },
   {
    "duration": 4,
    "start_time": "2023-01-17T10:23:06.992Z"
   },
   {
    "duration": 22,
    "start_time": "2023-01-17T10:28:58.844Z"
   },
   {
    "duration": 32,
    "start_time": "2023-01-17T10:33:44.334Z"
   },
   {
    "duration": 3,
    "start_time": "2023-01-17T10:33:56.252Z"
   },
   {
    "duration": 1177,
    "start_time": "2023-01-17T10:33:56.430Z"
   },
   {
    "duration": 135,
    "start_time": "2023-01-17T10:33:57.609Z"
   },
   {
    "duration": 18,
    "start_time": "2023-01-17T10:33:57.746Z"
   },
   {
    "duration": 19,
    "start_time": "2023-01-17T10:33:57.766Z"
   },
   {
    "duration": 622,
    "start_time": "2023-01-17T10:33:57.787Z"
   },
   {
    "duration": 319,
    "start_time": "2023-01-17T10:33:58.412Z"
   },
   {
    "duration": 88,
    "start_time": "2023-01-17T10:33:58.733Z"
   },
   {
    "duration": 80,
    "start_time": "2023-01-17T10:33:58.822Z"
   },
   {
    "duration": 10,
    "start_time": "2023-01-17T10:33:58.925Z"
   },
   {
    "duration": 446,
    "start_time": "2023-01-17T10:33:59.113Z"
   },
   {
    "duration": 85,
    "start_time": "2023-01-17T10:33:59.561Z"
   },
   {
    "duration": 17,
    "start_time": "2023-01-17T10:33:59.648Z"
   },
   {
    "duration": 29,
    "start_time": "2023-01-17T10:34:00.038Z"
   },
   {
    "duration": 25,
    "start_time": "2023-01-17T10:34:00.421Z"
   },
   {
    "duration": 74,
    "start_time": "2023-01-17T10:34:01.221Z"
   },
   {
    "duration": 46,
    "start_time": "2023-01-17T10:34:01.419Z"
   },
   {
    "duration": 44,
    "start_time": "2023-01-17T10:34:01.604Z"
   },
   {
    "duration": 82,
    "start_time": "2023-01-17T10:34:01.804Z"
   },
   {
    "duration": 41,
    "start_time": "2023-01-17T10:34:02.003Z"
   },
   {
    "duration": 4,
    "start_time": "2023-01-17T10:34:02.206Z"
   },
   {
    "duration": 75,
    "start_time": "2023-01-17T10:34:02.420Z"
   },
   {
    "duration": 84,
    "start_time": "2023-01-17T10:34:03.014Z"
   },
   {
    "duration": 5,
    "start_time": "2023-01-17T11:18:09.090Z"
   },
   {
    "duration": 1176,
    "start_time": "2023-01-17T11:18:09.651Z"
   },
   {
    "duration": 130,
    "start_time": "2023-01-17T11:18:10.829Z"
   },
   {
    "duration": 4,
    "start_time": "2023-01-17T11:18:10.960Z"
   },
   {
    "duration": 29,
    "start_time": "2023-01-17T11:18:10.966Z"
   },
   {
    "duration": 609,
    "start_time": "2023-01-17T11:18:10.997Z"
   },
   {
    "duration": 303,
    "start_time": "2023-01-17T11:18:11.719Z"
   },
   {
    "duration": 94,
    "start_time": "2023-01-17T11:18:12.024Z"
   },
   {
    "duration": 3,
    "start_time": "2023-01-17T11:18:12.120Z"
   },
   {
    "duration": 10,
    "start_time": "2023-01-17T11:18:12.314Z"
   },
   {
    "duration": 414,
    "start_time": "2023-01-17T11:18:12.538Z"
   },
   {
    "duration": 87,
    "start_time": "2023-01-17T11:18:12.954Z"
   },
   {
    "duration": 19,
    "start_time": "2023-01-17T11:18:13.043Z"
   },
   {
    "duration": 28,
    "start_time": "2023-01-17T11:18:13.583Z"
   },
   {
    "duration": 26,
    "start_time": "2023-01-17T11:18:14.008Z"
   },
   {
    "duration": 75,
    "start_time": "2023-01-17T11:18:14.822Z"
   },
   {
    "duration": 47,
    "start_time": "2023-01-17T11:18:15.031Z"
   },
   {
    "duration": 40,
    "start_time": "2023-01-17T11:18:15.234Z"
   },
   {
    "duration": 80,
    "start_time": "2023-01-17T11:18:15.451Z"
   },
   {
    "duration": 36,
    "start_time": "2023-01-17T11:18:15.660Z"
   },
   {
    "duration": 4,
    "start_time": "2023-01-17T11:18:15.876Z"
   },
   {
    "duration": 73,
    "start_time": "2023-01-17T11:18:16.094Z"
   },
   {
    "duration": 91,
    "start_time": "2023-01-17T11:18:16.776Z"
   },
   {
    "duration": 18,
    "start_time": "2023-01-17T11:18:16.992Z"
   },
   {
    "duration": 12,
    "start_time": "2023-01-17T11:21:11.053Z"
   },
   {
    "duration": 11,
    "start_time": "2023-01-17T11:21:34.660Z"
   },
   {
    "duration": 1289,
    "start_time": "2023-01-17T11:22:47.779Z"
   },
   {
    "duration": 153,
    "start_time": "2023-01-17T11:24:14.315Z"
   },
   {
    "duration": 507,
    "start_time": "2023-01-17T11:24:29.180Z"
   },
   {
    "duration": 5,
    "start_time": "2023-01-17T11:24:33.741Z"
   },
   {
    "duration": 1169,
    "start_time": "2023-01-17T11:24:33.920Z"
   },
   {
    "duration": 127,
    "start_time": "2023-01-17T11:24:35.091Z"
   },
   {
    "duration": 9,
    "start_time": "2023-01-17T11:24:35.220Z"
   },
   {
    "duration": 27,
    "start_time": "2023-01-17T11:24:35.231Z"
   },
   {
    "duration": 757,
    "start_time": "2023-01-17T11:24:35.259Z"
   },
   {
    "duration": 314,
    "start_time": "2023-01-17T11:24:36.018Z"
   },
   {
    "duration": 89,
    "start_time": "2023-01-17T11:24:36.333Z"
   },
   {
    "duration": 4,
    "start_time": "2023-01-17T11:24:36.424Z"
   },
   {
    "duration": 11,
    "start_time": "2023-01-17T11:24:36.467Z"
   },
   {
    "duration": 423,
    "start_time": "2023-01-17T11:24:36.669Z"
   },
   {
    "duration": 90,
    "start_time": "2023-01-17T11:24:37.094Z"
   },
   {
    "duration": 30,
    "start_time": "2023-01-17T11:24:37.186Z"
   },
   {
    "duration": 35,
    "start_time": "2023-01-17T11:24:37.611Z"
   },
   {
    "duration": 25,
    "start_time": "2023-01-17T11:24:37.981Z"
   },
   {
    "duration": 77,
    "start_time": "2023-01-17T11:24:38.773Z"
   },
   {
    "duration": 48,
    "start_time": "2023-01-17T11:24:38.949Z"
   },
   {
    "duration": 44,
    "start_time": "2023-01-17T11:24:39.155Z"
   },
   {
    "duration": 85,
    "start_time": "2023-01-17T11:24:39.367Z"
   },
   {
    "duration": 39,
    "start_time": "2023-01-17T11:24:39.573Z"
   },
   {
    "duration": 4,
    "start_time": "2023-01-17T11:24:39.789Z"
   },
   {
    "duration": 149,
    "start_time": "2023-01-17T11:24:40.194Z"
   },
   {
    "duration": 494,
    "start_time": "2023-01-17T11:24:40.396Z"
   },
   {
    "duration": 68,
    "start_time": "2023-01-17T11:24:40.892Z"
   },
   {
    "duration": 793,
    "start_time": "2023-01-17T11:24:40.981Z"
   },
   {
    "duration": 524,
    "start_time": "2023-01-17T11:26:26.710Z"
   },
   {
    "duration": 37,
    "start_time": "2023-01-17T11:26:28.276Z"
   },
   {
    "duration": 113276,
    "start_time": "2023-01-17T11:26:28.750Z"
   },
   {
    "duration": 147814,
    "start_time": "2023-01-17T11:32:16.319Z"
   },
   {
    "duration": 5,
    "start_time": "2023-01-17T12:29:02.837Z"
   },
   {
    "duration": 1224,
    "start_time": "2023-01-17T12:29:03.019Z"
   },
   {
    "duration": 135,
    "start_time": "2023-01-17T12:29:04.245Z"
   },
   {
    "duration": 3,
    "start_time": "2023-01-17T12:29:04.382Z"
   },
   {
    "duration": 23,
    "start_time": "2023-01-17T12:29:04.387Z"
   },
   {
    "duration": 651,
    "start_time": "2023-01-17T12:29:04.412Z"
   },
   {
    "duration": 306,
    "start_time": "2023-01-17T12:29:05.065Z"
   },
   {
    "duration": 94,
    "start_time": "2023-01-17T12:29:05.373Z"
   },
   {
    "duration": 3,
    "start_time": "2023-01-17T12:29:05.469Z"
   },
   {
    "duration": 11,
    "start_time": "2023-01-17T12:29:05.635Z"
   },
   {
    "duration": 454,
    "start_time": "2023-01-17T12:29:05.842Z"
   },
   {
    "duration": 86,
    "start_time": "2023-01-17T12:29:06.298Z"
   },
   {
    "duration": 31,
    "start_time": "2023-01-17T12:29:06.385Z"
   },
   {
    "duration": 29,
    "start_time": "2023-01-17T12:29:06.874Z"
   },
   {
    "duration": 26,
    "start_time": "2023-01-17T12:29:07.274Z"
   },
   {
    "duration": 95,
    "start_time": "2023-01-17T12:29:08.121Z"
   },
   {
    "duration": 52,
    "start_time": "2023-01-17T12:29:08.347Z"
   },
   {
    "duration": 50,
    "start_time": "2023-01-17T12:29:08.554Z"
   },
   {
    "duration": 81,
    "start_time": "2023-01-17T12:29:08.752Z"
   },
   {
    "duration": 49,
    "start_time": "2023-01-17T12:29:08.960Z"
   },
   {
    "duration": 4,
    "start_time": "2023-01-17T12:29:09.161Z"
   },
   {
    "duration": 157,
    "start_time": "2023-01-17T12:29:09.586Z"
   },
   {
    "duration": 581,
    "start_time": "2023-01-17T12:29:09.770Z"
   },
   {
    "duration": 53,
    "start_time": "2023-01-17T12:29:10.353Z"
   },
   {
    "duration": 72,
    "start_time": "2023-01-17T12:29:10.409Z"
   },
   {
    "duration": 121655,
    "start_time": "2023-01-17T12:29:38.568Z"
   },
   {
    "duration": 6,
    "start_time": "2023-01-17T12:32:04.272Z"
   },
   {
    "duration": 1252,
    "start_time": "2023-01-17T12:32:04.450Z"
   },
   {
    "duration": 139,
    "start_time": "2023-01-17T12:32:05.704Z"
   },
   {
    "duration": 5,
    "start_time": "2023-01-17T12:32:05.845Z"
   },
   {
    "duration": 28,
    "start_time": "2023-01-17T12:32:05.852Z"
   },
   {
    "duration": 673,
    "start_time": "2023-01-17T12:32:05.882Z"
   },
   {
    "duration": 343,
    "start_time": "2023-01-17T12:32:06.557Z"
   },
   {
    "duration": 113,
    "start_time": "2023-01-17T12:32:06.905Z"
   },
   {
    "duration": 5,
    "start_time": "2023-01-17T12:32:07.019Z"
   },
   {
    "duration": 16,
    "start_time": "2023-01-17T12:32:07.032Z"
   },
   {
    "duration": 513,
    "start_time": "2023-01-17T12:32:07.220Z"
   },
   {
    "duration": 101,
    "start_time": "2023-01-17T12:32:07.734Z"
   },
   {
    "duration": 30,
    "start_time": "2023-01-17T12:32:07.836Z"
   },
   {
    "duration": 33,
    "start_time": "2023-01-17T12:32:08.163Z"
   },
   {
    "duration": 26,
    "start_time": "2023-01-17T12:32:08.562Z"
   },
   {
    "duration": 79,
    "start_time": "2023-01-17T12:32:09.378Z"
   },
   {
    "duration": 48,
    "start_time": "2023-01-17T12:32:09.538Z"
   },
   {
    "duration": 48,
    "start_time": "2023-01-17T12:32:09.747Z"
   },
   {
    "duration": 83,
    "start_time": "2023-01-17T12:32:09.947Z"
   },
   {
    "duration": 42,
    "start_time": "2023-01-17T12:32:10.147Z"
   },
   {
    "duration": 4,
    "start_time": "2023-01-17T12:32:10.345Z"
   },
   {
    "duration": 158,
    "start_time": "2023-01-17T12:32:10.768Z"
   },
   {
    "duration": 526,
    "start_time": "2023-01-17T12:32:10.986Z"
   },
   {
    "duration": 38,
    "start_time": "2023-01-17T12:32:11.514Z"
   },
   {
    "duration": 153095,
    "start_time": "2023-01-17T12:32:11.572Z"
   },
   {
    "duration": 14,
    "start_time": "2023-01-17T12:35:16.214Z"
   },
   {
    "duration": 26,
    "start_time": "2023-01-17T12:35:24.018Z"
   },
   {
    "duration": 1346,
    "start_time": "2023-01-17T12:35:24.204Z"
   },
   {
    "duration": 131,
    "start_time": "2023-01-17T12:35:25.552Z"
   },
   {
    "duration": 4,
    "start_time": "2023-01-17T12:35:25.685Z"
   },
   {
    "duration": 15,
    "start_time": "2023-01-17T12:35:25.705Z"
   },
   {
    "duration": 706,
    "start_time": "2023-01-17T12:35:25.722Z"
   },
   {
    "duration": 332,
    "start_time": "2023-01-17T12:35:26.430Z"
   },
   {
    "duration": 99,
    "start_time": "2023-01-17T12:35:26.764Z"
   },
   {
    "duration": 4,
    "start_time": "2023-01-17T12:35:26.866Z"
   },
   {
    "duration": 24,
    "start_time": "2023-01-17T12:35:26.872Z"
   },
   {
    "duration": 426,
    "start_time": "2023-01-17T12:35:26.954Z"
   },
   {
    "duration": 89,
    "start_time": "2023-01-17T12:35:27.382Z"
   },
   {
    "duration": 36,
    "start_time": "2023-01-17T12:35:27.472Z"
   },
   {
    "duration": 33,
    "start_time": "2023-01-17T12:35:27.915Z"
   },
   {
    "duration": 28,
    "start_time": "2023-01-17T12:35:28.306Z"
   },
   {
    "duration": 78,
    "start_time": "2023-01-17T12:35:29.091Z"
   },
   {
    "duration": 49,
    "start_time": "2023-01-17T12:35:29.306Z"
   },
   {
    "duration": 44,
    "start_time": "2023-01-17T12:35:29.491Z"
   },
   {
    "duration": 80,
    "start_time": "2023-01-17T12:35:29.691Z"
   },
   {
    "duration": 39,
    "start_time": "2023-01-17T12:35:29.886Z"
   },
   {
    "duration": 4,
    "start_time": "2023-01-17T12:35:30.093Z"
   },
   {
    "duration": 143,
    "start_time": "2023-01-17T12:35:30.492Z"
   },
   {
    "duration": 497,
    "start_time": "2023-01-17T12:35:30.690Z"
   },
   {
    "duration": 38,
    "start_time": "2023-01-17T12:35:31.188Z"
   },
   {
    "duration": 147691,
    "start_time": "2023-01-17T12:35:31.283Z"
   },
   {
    "duration": 4736,
    "start_time": "2023-01-17T12:37:58.976Z"
   },
   {
    "duration": 142803,
    "start_time": "2023-01-17T12:40:09.908Z"
   },
   {
    "duration": 144254,
    "start_time": "2023-01-17T12:50:13.749Z"
   },
   {
    "duration": 144903,
    "start_time": "2023-01-17T12:52:47.110Z"
   },
   {
    "duration": 145785,
    "start_time": "2023-01-17T12:56:25.544Z"
   },
   {
    "duration": 144576,
    "start_time": "2023-01-17T13:01:14.391Z"
   },
   {
    "duration": 101,
    "start_time": "2023-01-17T13:33:53.798Z"
   },
   {
    "duration": 10,
    "start_time": "2023-01-17T13:37:45.668Z"
   },
   {
    "duration": 5,
    "start_time": "2023-01-17T13:37:50.876Z"
   },
   {
    "duration": 1131,
    "start_time": "2023-01-17T13:37:51.236Z"
   },
   {
    "duration": 173,
    "start_time": "2023-01-17T13:37:52.370Z"
   },
   {
    "duration": 5,
    "start_time": "2023-01-17T13:37:52.545Z"
   },
   {
    "duration": 15,
    "start_time": "2023-01-17T13:37:52.552Z"
   },
   {
    "duration": 671,
    "start_time": "2023-01-17T13:37:52.569Z"
   },
   {
    "duration": 301,
    "start_time": "2023-01-17T13:37:53.416Z"
   },
   {
    "duration": 93,
    "start_time": "2023-01-17T13:37:53.719Z"
   },
   {
    "duration": 4,
    "start_time": "2023-01-17T13:37:53.814Z"
   },
   {
    "duration": 11,
    "start_time": "2023-01-17T13:37:53.981Z"
   },
   {
    "duration": 442,
    "start_time": "2023-01-17T13:37:54.188Z"
   },
   {
    "duration": 88,
    "start_time": "2023-01-17T13:37:54.632Z"
   },
   {
    "duration": 20,
    "start_time": "2023-01-17T13:37:54.722Z"
   },
   {
    "duration": 27,
    "start_time": "2023-01-17T13:37:55.233Z"
   },
   {
    "duration": 26,
    "start_time": "2023-01-17T13:37:55.620Z"
   },
   {
    "duration": 107,
    "start_time": "2023-01-17T13:37:56.412Z"
   },
   {
    "duration": 67,
    "start_time": "2023-01-17T13:37:56.619Z"
   },
   {
    "duration": 65,
    "start_time": "2023-01-17T13:37:56.818Z"
   },
   {
    "duration": 87,
    "start_time": "2023-01-17T13:37:56.978Z"
   },
   {
    "duration": 39,
    "start_time": "2023-01-17T13:37:57.208Z"
   },
   {
    "duration": 4,
    "start_time": "2023-01-17T13:37:57.418Z"
   },
   {
    "duration": 160,
    "start_time": "2023-01-17T13:37:57.840Z"
   },
   {
    "duration": 526,
    "start_time": "2023-01-17T13:37:58.047Z"
   },
   {
    "duration": 32,
    "start_time": "2023-01-17T13:37:58.703Z"
   },
   {
    "duration": 145508,
    "start_time": "2023-01-17T13:37:59.122Z"
   },
   {
    "duration": 8194,
    "start_time": "2023-01-17T13:40:24.632Z"
   },
   {
    "duration": 84,
    "start_time": "2023-01-17T13:40:32.828Z"
   },
   {
    "duration": 1041,
    "start_time": "2023-01-17T13:40:58.590Z"
   },
   {
    "duration": 9,
    "start_time": "2023-01-17T13:41:03.971Z"
   },
   {
    "duration": 11,
    "start_time": "2023-01-17T13:46:32.132Z"
   },
   {
    "duration": 5,
    "start_time": "2023-01-17T13:47:23.621Z"
   },
   {
    "duration": 1091,
    "start_time": "2023-01-17T13:47:23.955Z"
   },
   {
    "duration": 130,
    "start_time": "2023-01-17T13:47:25.048Z"
   },
   {
    "duration": 19,
    "start_time": "2023-01-17T13:47:25.179Z"
   },
   {
    "duration": 33,
    "start_time": "2023-01-17T13:47:25.199Z"
   },
   {
    "duration": 672,
    "start_time": "2023-01-17T13:47:25.234Z"
   },
   {
    "duration": 298,
    "start_time": "2023-01-17T13:47:26.106Z"
   },
   {
    "duration": 84,
    "start_time": "2023-01-17T13:47:26.405Z"
   },
   {
    "duration": 15,
    "start_time": "2023-01-17T13:47:26.491Z"
   },
   {
    "duration": 10,
    "start_time": "2023-01-17T13:47:26.682Z"
   },
   {
    "duration": 412,
    "start_time": "2023-01-17T13:47:26.850Z"
   },
   {
    "duration": 81,
    "start_time": "2023-01-17T13:47:27.264Z"
   },
   {
    "duration": 26,
    "start_time": "2023-01-17T13:47:27.347Z"
   },
   {
    "duration": 28,
    "start_time": "2023-01-17T13:47:27.947Z"
   },
   {
    "duration": 25,
    "start_time": "2023-01-17T13:47:28.322Z"
   },
   {
    "duration": 76,
    "start_time": "2023-01-17T13:47:29.124Z"
   },
   {
    "duration": 47,
    "start_time": "2023-01-17T13:47:29.296Z"
   },
   {
    "duration": 46,
    "start_time": "2023-01-17T13:47:29.477Z"
   },
   {
    "duration": 78,
    "start_time": "2023-01-17T13:47:29.708Z"
   },
   {
    "duration": 39,
    "start_time": "2023-01-17T13:47:29.897Z"
   },
   {
    "duration": 4,
    "start_time": "2023-01-17T13:47:30.085Z"
   },
   {
    "duration": 152,
    "start_time": "2023-01-17T13:47:30.644Z"
   },
   {
    "duration": 491,
    "start_time": "2023-01-17T13:47:30.843Z"
   },
   {
    "duration": 34,
    "start_time": "2023-01-17T13:47:31.412Z"
   },
   {
    "duration": 146011,
    "start_time": "2023-01-17T13:47:31.819Z"
   },
   {
    "duration": 4483,
    "start_time": "2023-01-17T13:49:57.832Z"
   },
   {
    "duration": 1074,
    "start_time": "2023-01-17T13:50:02.318Z"
   },
   {
    "duration": 10,
    "start_time": "2023-01-17T13:52:40.964Z"
   },
   {
    "duration": 5,
    "start_time": "2023-01-17T13:53:09.987Z"
   },
   {
    "duration": 1124,
    "start_time": "2023-01-17T13:53:10.339Z"
   },
   {
    "duration": 123,
    "start_time": "2023-01-17T13:53:11.465Z"
   },
   {
    "duration": 16,
    "start_time": "2023-01-17T13:53:11.589Z"
   },
   {
    "duration": 15,
    "start_time": "2023-01-17T13:53:11.607Z"
   },
   {
    "duration": 610,
    "start_time": "2023-01-17T13:53:11.623Z"
   },
   {
    "duration": 283,
    "start_time": "2023-01-17T13:53:12.944Z"
   },
   {
    "duration": 83,
    "start_time": "2023-01-17T13:53:13.229Z"
   },
   {
    "duration": 3,
    "start_time": "2023-01-17T13:53:13.314Z"
   },
   {
    "duration": 14,
    "start_time": "2023-01-17T13:53:13.318Z"
   },
   {
    "duration": 430,
    "start_time": "2023-01-17T13:53:13.335Z"
   },
   {
    "duration": 87,
    "start_time": "2023-01-17T13:53:13.767Z"
   },
   {
    "duration": 21,
    "start_time": "2023-01-17T13:53:13.856Z"
   },
   {
    "duration": 27,
    "start_time": "2023-01-17T13:53:14.245Z"
   },
   {
    "duration": 26,
    "start_time": "2023-01-17T13:53:14.605Z"
   },
   {
    "duration": 74,
    "start_time": "2023-01-17T13:53:15.357Z"
   },
   {
    "duration": 49,
    "start_time": "2023-01-17T13:53:15.548Z"
   },
   {
    "duration": 45,
    "start_time": "2023-01-17T13:53:15.749Z"
   },
   {
    "duration": 88,
    "start_time": "2023-01-17T13:53:15.926Z"
   },
   {
    "duration": 43,
    "start_time": "2023-01-17T13:53:16.142Z"
   },
   {
    "duration": 4,
    "start_time": "2023-01-17T13:53:16.333Z"
   },
   {
    "duration": 158,
    "start_time": "2023-01-17T13:53:16.708Z"
   },
   {
    "duration": 514,
    "start_time": "2023-01-17T13:53:16.908Z"
   },
   {
    "duration": 39,
    "start_time": "2023-01-17T13:53:17.517Z"
   },
   {
    "duration": 145088,
    "start_time": "2023-01-17T13:53:17.912Z"
   },
   {
    "duration": 4702,
    "start_time": "2023-01-17T13:55:43.004Z"
   },
   {
    "duration": 1124,
    "start_time": "2023-01-17T13:55:47.708Z"
   },
   {
    "duration": 1073,
    "start_time": "2023-01-17T13:55:50.902Z"
   },
   {
    "duration": 1070,
    "start_time": "2023-01-17T13:56:00.445Z"
   },
   {
    "duration": 1015,
    "start_time": "2023-01-17T13:56:23.173Z"
   },
   {
    "duration": 1092,
    "start_time": "2023-01-17T13:56:49.382Z"
   },
   {
    "duration": 1081,
    "start_time": "2023-01-17T13:56:54.535Z"
   },
   {
    "duration": 1052,
    "start_time": "2023-01-17T13:57:12.959Z"
   },
   {
    "duration": 5,
    "start_time": "2023-01-17T13:57:25.208Z"
   },
   {
    "duration": 1209,
    "start_time": "2023-01-17T13:57:25.567Z"
   },
   {
    "duration": 141,
    "start_time": "2023-01-17T13:57:26.777Z"
   },
   {
    "duration": 4,
    "start_time": "2023-01-17T13:57:26.919Z"
   },
   {
    "duration": 14,
    "start_time": "2023-01-17T13:57:26.924Z"
   },
   {
    "duration": 746,
    "start_time": "2023-01-17T13:57:26.939Z"
   },
   {
    "duration": 286,
    "start_time": "2023-01-17T13:57:27.831Z"
   },
   {
    "duration": 99,
    "start_time": "2023-01-17T13:57:28.119Z"
   },
   {
    "duration": 20,
    "start_time": "2023-01-17T13:57:28.220Z"
   },
   {
    "duration": 14,
    "start_time": "2023-01-17T13:57:28.415Z"
   },
   {
    "duration": 447,
    "start_time": "2023-01-17T13:57:28.619Z"
   },
   {
    "duration": 93,
    "start_time": "2023-01-17T13:57:29.068Z"
   },
   {
    "duration": 21,
    "start_time": "2023-01-17T13:57:29.236Z"
   },
   {
    "duration": 28,
    "start_time": "2023-01-17T13:57:30.047Z"
   },
   {
    "duration": 25,
    "start_time": "2023-01-17T13:57:30.437Z"
   },
   {
    "duration": 72,
    "start_time": "2023-01-17T13:57:31.267Z"
   },
   {
    "duration": 46,
    "start_time": "2023-01-17T13:57:31.460Z"
   },
   {
    "duration": 42,
    "start_time": "2023-01-17T13:57:31.670Z"
   },
   {
    "duration": 78,
    "start_time": "2023-01-17T13:57:31.838Z"
   },
   {
    "duration": 37,
    "start_time": "2023-01-17T13:57:32.047Z"
   },
   {
    "duration": 4,
    "start_time": "2023-01-17T13:57:32.257Z"
   },
   {
    "duration": 147,
    "start_time": "2023-01-17T13:57:32.654Z"
   },
   {
    "duration": 485,
    "start_time": "2023-01-17T13:57:32.835Z"
   },
   {
    "duration": 34,
    "start_time": "2023-01-17T13:57:33.462Z"
   },
   {
    "duration": 144028,
    "start_time": "2023-01-17T13:57:33.876Z"
   },
   {
    "duration": 4510,
    "start_time": "2023-01-17T13:59:57.906Z"
   },
   {
    "duration": 0,
    "start_time": "2023-01-17T14:00:03.558Z"
   },
   {
    "duration": 1090,
    "start_time": "2023-01-17T14:00:08.127Z"
   },
   {
    "duration": 1515,
    "start_time": "2023-01-18T09:59:22.254Z"
   },
   {
    "duration": 1431,
    "start_time": "2023-01-18T09:59:23.772Z"
   },
   {
    "duration": 144,
    "start_time": "2023-01-18T09:59:25.205Z"
   },
   {
    "duration": 19,
    "start_time": "2023-01-18T09:59:25.350Z"
   },
   {
    "duration": 30,
    "start_time": "2023-01-18T09:59:25.371Z"
   },
   {
    "duration": 697,
    "start_time": "2023-01-18T09:59:25.402Z"
   },
   {
    "duration": 385,
    "start_time": "2023-01-18T09:59:26.101Z"
   },
   {
    "duration": 95,
    "start_time": "2023-01-18T09:59:26.488Z"
   },
   {
    "duration": 4,
    "start_time": "2023-01-18T09:59:26.584Z"
   },
   {
    "duration": 25,
    "start_time": "2023-01-18T09:59:26.590Z"
   },
   {
    "duration": 470,
    "start_time": "2023-01-18T09:59:26.617Z"
   },
   {
    "duration": 90,
    "start_time": "2023-01-18T09:59:27.088Z"
   },
   {
    "duration": 21,
    "start_time": "2023-01-18T09:59:27.180Z"
   },
   {
    "duration": 47,
    "start_time": "2023-01-18T09:59:27.205Z"
   },
   {
    "duration": 28,
    "start_time": "2023-01-18T09:59:27.254Z"
   },
   {
    "duration": 104,
    "start_time": "2023-01-18T09:59:27.283Z"
   },
   {
    "duration": 63,
    "start_time": "2023-01-18T09:59:27.389Z"
   },
   {
    "duration": 48,
    "start_time": "2023-01-18T09:59:27.454Z"
   },
   {
    "duration": 112,
    "start_time": "2023-01-18T09:59:27.504Z"
   },
   {
    "duration": 52,
    "start_time": "2023-01-18T09:59:27.618Z"
   },
   {
    "duration": 4,
    "start_time": "2023-01-18T09:59:27.673Z"
   },
   {
    "duration": 197,
    "start_time": "2023-01-18T09:59:27.679Z"
   },
   {
    "duration": 550,
    "start_time": "2023-01-18T09:59:27.877Z"
   },
   {
    "duration": 47,
    "start_time": "2023-01-18T09:59:28.429Z"
   },
   {
    "duration": 161618,
    "start_time": "2023-01-18T09:59:28.478Z"
   },
   {
    "duration": 5653,
    "start_time": "2023-01-18T10:02:10.097Z"
   },
   {
    "duration": 1201,
    "start_time": "2023-01-18T10:02:15.752Z"
   },
   {
    "duration": 114,
    "start_time": "2023-01-18T10:02:16.955Z"
   },
   {
    "duration": 4,
    "start_time": "2023-01-18T10:35:53.251Z"
   },
   {
    "duration": 1592,
    "start_time": "2023-01-18T10:54:12.136Z"
   },
   {
    "duration": 1449,
    "start_time": "2023-01-18T10:54:13.730Z"
   },
   {
    "duration": 146,
    "start_time": "2023-01-18T10:54:15.181Z"
   },
   {
    "duration": 4,
    "start_time": "2023-01-18T10:54:15.337Z"
   },
   {
    "duration": 19,
    "start_time": "2023-01-18T10:54:15.343Z"
   },
   {
    "duration": 793,
    "start_time": "2023-01-18T10:54:15.364Z"
   },
   {
    "duration": 404,
    "start_time": "2023-01-18T10:54:16.159Z"
   },
   {
    "duration": 97,
    "start_time": "2023-01-18T10:54:16.565Z"
   },
   {
    "duration": 19,
    "start_time": "2023-01-18T10:54:16.664Z"
   },
   {
    "duration": 19,
    "start_time": "2023-01-18T10:54:16.686Z"
   },
   {
    "duration": 496,
    "start_time": "2023-01-18T10:54:16.707Z"
   },
   {
    "duration": 94,
    "start_time": "2023-01-18T10:54:17.204Z"
   },
   {
    "duration": 40,
    "start_time": "2023-01-18T10:54:17.300Z"
   },
   {
    "duration": 64,
    "start_time": "2023-01-18T10:54:17.342Z"
   },
   {
    "duration": 27,
    "start_time": "2023-01-18T10:54:17.408Z"
   },
   {
    "duration": 82,
    "start_time": "2023-01-18T10:54:17.437Z"
   },
   {
    "duration": 63,
    "start_time": "2023-01-18T10:54:17.520Z"
   },
   {
    "duration": 53,
    "start_time": "2023-01-18T10:54:17.585Z"
   },
   {
    "duration": 101,
    "start_time": "2023-01-18T10:54:17.640Z"
   },
   {
    "duration": 39,
    "start_time": "2023-01-18T10:54:17.743Z"
   },
   {
    "duration": 4,
    "start_time": "2023-01-18T10:54:17.784Z"
   },
   {
    "duration": 214,
    "start_time": "2023-01-18T10:54:17.790Z"
   },
   {
    "duration": 4,
    "start_time": "2023-01-18T10:54:18.006Z"
   },
   {
    "duration": 547,
    "start_time": "2023-01-18T10:54:18.011Z"
   },
   {
    "duration": 41,
    "start_time": "2023-01-18T10:54:18.560Z"
   },
   {
    "duration": 160528,
    "start_time": "2023-01-18T10:54:18.603Z"
   },
   {
    "duration": 5105,
    "start_time": "2023-01-18T10:56:59.137Z"
   },
   {
    "duration": 1254,
    "start_time": "2023-01-18T10:57:04.245Z"
   },
   {
    "duration": 87,
    "start_time": "2023-01-18T10:57:05.501Z"
   },
   {
    "duration": 1764,
    "start_time": "2023-01-18T12:09:20.554Z"
   },
   {
    "duration": 3419,
    "start_time": "2023-01-18T12:09:22.320Z"
   },
   {
    "duration": 148,
    "start_time": "2023-01-18T12:09:25.740Z"
   },
   {
    "duration": 4,
    "start_time": "2023-01-18T12:09:25.890Z"
   },
   {
    "duration": 17,
    "start_time": "2023-01-18T12:09:25.896Z"
   },
   {
    "duration": 777,
    "start_time": "2023-01-18T12:09:25.915Z"
   },
   {
    "duration": 375,
    "start_time": "2023-01-18T12:09:26.693Z"
   },
   {
    "duration": 91,
    "start_time": "2023-01-18T12:09:27.070Z"
   },
   {
    "duration": 3,
    "start_time": "2023-01-18T12:09:27.163Z"
   },
   {
    "duration": 17,
    "start_time": "2023-01-18T12:09:27.169Z"
   },
   {
    "duration": 436,
    "start_time": "2023-01-18T12:09:27.187Z"
   },
   {
    "duration": 99,
    "start_time": "2023-01-18T12:09:27.625Z"
   },
   {
    "duration": 27,
    "start_time": "2023-01-18T12:09:27.725Z"
   },
   {
    "duration": 32,
    "start_time": "2023-01-18T12:09:27.754Z"
   },
   {
    "duration": 27,
    "start_time": "2023-01-18T12:09:27.787Z"
   },
   {
    "duration": 81,
    "start_time": "2023-01-18T12:09:27.837Z"
   },
   {
    "duration": 50,
    "start_time": "2023-01-18T12:09:27.991Z"
   },
   {
    "duration": 46,
    "start_time": "2023-01-18T12:09:28.214Z"
   },
   {
    "duration": 84,
    "start_time": "2023-01-18T12:09:28.612Z"
   },
   {
    "duration": 37,
    "start_time": "2023-01-18T12:09:28.839Z"
   },
   {
    "duration": 4,
    "start_time": "2023-01-18T12:09:29.062Z"
   },
   {
    "duration": 150,
    "start_time": "2023-01-18T12:09:29.496Z"
   },
   {
    "duration": 3,
    "start_time": "2023-01-18T12:09:29.904Z"
   },
   {
    "duration": 473,
    "start_time": "2023-01-18T12:09:30.095Z"
   },
   {
    "duration": 38,
    "start_time": "2023-01-18T12:09:31.184Z"
   },
   {
    "duration": 155579,
    "start_time": "2023-01-18T12:09:31.593Z"
   },
   {
    "duration": 95070,
    "start_time": "2023-01-18T12:12:07.174Z"
   },
   {
    "duration": 0,
    "start_time": "2023-01-18T12:13:42.245Z"
   },
   {
    "duration": 0,
    "start_time": "2023-01-18T12:13:42.247Z"
   },
   {
    "duration": 0,
    "start_time": "2023-01-18T12:13:42.249Z"
   },
   {
    "duration": 17,
    "start_time": "2023-01-18T12:14:31.823Z"
   },
   {
    "duration": 6,
    "start_time": "2023-01-18T12:15:29.451Z"
   },
   {
    "duration": 1272,
    "start_time": "2023-01-18T12:15:30.179Z"
   },
   {
    "duration": 141,
    "start_time": "2023-01-18T12:15:31.454Z"
   },
   {
    "duration": 28,
    "start_time": "2023-01-18T12:15:31.597Z"
   },
   {
    "duration": 32,
    "start_time": "2023-01-18T12:15:31.627Z"
   },
   {
    "duration": 783,
    "start_time": "2023-01-18T12:15:31.661Z"
   },
   {
    "duration": 320,
    "start_time": "2023-01-18T12:15:40.271Z"
   },
   {
    "duration": 83,
    "start_time": "2023-01-18T12:15:41.286Z"
   },
   {
    "duration": 4,
    "start_time": "2023-01-18T12:15:41.711Z"
   },
   {
    "duration": 11,
    "start_time": "2023-01-18T12:15:42.799Z"
   },
   {
    "duration": 440,
    "start_time": "2023-01-18T12:15:43.215Z"
   },
   {
    "duration": 6,
    "start_time": "2023-01-18T12:20:18.153Z"
   },
   {
    "duration": 1381,
    "start_time": "2023-01-18T12:20:19.012Z"
   },
   {
    "duration": 155,
    "start_time": "2023-01-18T12:20:20.395Z"
   },
   {
    "duration": 7,
    "start_time": "2023-01-18T12:20:20.552Z"
   },
   {
    "duration": 37,
    "start_time": "2023-01-18T12:20:20.562Z"
   },
   {
    "duration": 692,
    "start_time": "2023-01-18T12:20:20.601Z"
   },
   {
    "duration": 86,
    "start_time": "2023-01-18T12:20:22.001Z"
   },
   {
    "duration": 14,
    "start_time": "2023-01-18T12:23:15.060Z"
   },
   {
    "duration": 12,
    "start_time": "2023-01-18T12:23:51.395Z"
   },
   {
    "duration": 5,
    "start_time": "2023-01-18T12:25:37.387Z"
   },
   {
    "duration": 5,
    "start_time": "2023-01-18T12:25:53.868Z"
   },
   {
    "duration": 184,
    "start_time": "2023-01-18T12:26:02.291Z"
   },
   {
    "duration": 49,
    "start_time": "2023-01-18T12:26:10.764Z"
   },
   {
    "duration": 5,
    "start_time": "2023-01-18T12:27:18.347Z"
   },
   {
    "duration": 73,
    "start_time": "2023-01-18T12:27:30.676Z"
   },
   {
    "duration": 14,
    "start_time": "2023-01-18T12:27:37.140Z"
   },
   {
    "duration": 821,
    "start_time": "2023-01-18T12:29:08.027Z"
   },
   {
    "duration": 951,
    "start_time": "2023-01-18T12:29:12.754Z"
   },
   {
    "duration": 834,
    "start_time": "2023-01-18T12:29:23.366Z"
   },
   {
    "duration": 14,
    "start_time": "2023-01-18T12:29:33.996Z"
   },
   {
    "duration": 16,
    "start_time": "2023-01-18T12:30:21.431Z"
   },
   {
    "duration": 916,
    "start_time": "2023-01-18T12:30:24.864Z"
   },
   {
    "duration": 40,
    "start_time": "2023-01-18T12:35:35.134Z"
   },
   {
    "duration": 12,
    "start_time": "2023-01-18T12:35:55.864Z"
   },
   {
    "duration": 10,
    "start_time": "2023-01-18T12:40:10.213Z"
   },
   {
    "duration": 12,
    "start_time": "2023-01-18T12:40:50.053Z"
   },
   {
    "duration": 311,
    "start_time": "2023-01-18T12:41:22.110Z"
   },
   {
    "duration": 296,
    "start_time": "2023-01-18T12:41:36.262Z"
   },
   {
    "duration": 5,
    "start_time": "2023-01-18T12:41:56.031Z"
   },
   {
    "duration": 1257,
    "start_time": "2023-01-18T12:41:56.694Z"
   },
   {
    "duration": 153,
    "start_time": "2023-01-18T12:41:57.952Z"
   },
   {
    "duration": 4,
    "start_time": "2023-01-18T12:41:58.107Z"
   },
   {
    "duration": 44,
    "start_time": "2023-01-18T12:41:58.113Z"
   },
   {
    "duration": 705,
    "start_time": "2023-01-18T12:41:58.159Z"
   },
   {
    "duration": 295,
    "start_time": "2023-01-18T12:41:59.159Z"
   },
   {
    "duration": 355,
    "start_time": "2023-01-18T12:41:59.456Z"
   },
   {
    "duration": 88,
    "start_time": "2023-01-18T12:41:59.813Z"
   },
   {
    "duration": 3,
    "start_time": "2023-01-18T12:41:59.916Z"
   },
   {
    "duration": 11,
    "start_time": "2023-01-18T12:42:00.086Z"
   },
   {
    "duration": 445,
    "start_time": "2023-01-18T12:42:00.274Z"
   },
   {
    "duration": 83,
    "start_time": "2023-01-18T12:42:00.721Z"
   },
   {
    "duration": 19,
    "start_time": "2023-01-18T12:42:00.829Z"
   },
   {
    "duration": 28,
    "start_time": "2023-01-18T12:42:01.564Z"
   },
   {
    "duration": 27,
    "start_time": "2023-01-18T12:42:01.951Z"
   },
   {
    "duration": 82,
    "start_time": "2023-01-18T12:42:02.663Z"
   },
   {
    "duration": 51,
    "start_time": "2023-01-18T12:42:03.029Z"
   },
   {
    "duration": 45,
    "start_time": "2023-01-18T12:42:03.207Z"
   },
   {
    "duration": 89,
    "start_time": "2023-01-18T12:42:03.566Z"
   },
   {
    "duration": 50,
    "start_time": "2023-01-18T12:42:03.748Z"
   },
   {
    "duration": 4,
    "start_time": "2023-01-18T12:42:03.932Z"
   },
   {
    "duration": 165,
    "start_time": "2023-01-18T12:42:04.311Z"
   },
   {
    "duration": 4,
    "start_time": "2023-01-18T12:42:04.676Z"
   },
   {
    "duration": 524,
    "start_time": "2023-01-18T12:42:04.878Z"
   },
   {
    "duration": 38,
    "start_time": "2023-01-18T12:42:05.888Z"
   },
   {
    "duration": 159942,
    "start_time": "2023-01-18T12:42:06.292Z"
   },
   {
    "duration": 115618,
    "start_time": "2023-01-18T12:44:46.238Z"
   },
   {
    "duration": 0,
    "start_time": "2023-01-18T12:46:41.858Z"
   },
   {
    "duration": 10,
    "start_time": "2023-01-18T12:47:17.454Z"
   },
   {
    "duration": 18,
    "start_time": "2023-01-18T12:47:22.736Z"
   },
   {
    "duration": 5,
    "start_time": "2023-01-18T12:47:39.457Z"
   },
   {
    "duration": 1302,
    "start_time": "2023-01-18T12:47:40.122Z"
   },
   {
    "duration": 148,
    "start_time": "2023-01-18T12:47:41.427Z"
   },
   {
    "duration": 5,
    "start_time": "2023-01-18T12:47:41.578Z"
   },
   {
    "duration": 27,
    "start_time": "2023-01-18T12:47:41.586Z"
   },
   {
    "duration": 726,
    "start_time": "2023-01-18T12:47:41.615Z"
   },
   {
    "duration": 328,
    "start_time": "2023-01-18T12:47:42.670Z"
   },
   {
    "duration": 324,
    "start_time": "2023-01-18T12:47:43.001Z"
   },
   {
    "duration": 100,
    "start_time": "2023-01-18T12:47:43.327Z"
   },
   {
    "duration": 4,
    "start_time": "2023-01-18T12:47:43.441Z"
   },
   {
    "duration": 12,
    "start_time": "2023-01-18T12:47:43.639Z"
   },
   {
    "duration": 506,
    "start_time": "2023-01-18T12:47:43.840Z"
   },
   {
    "duration": 99,
    "start_time": "2023-01-18T12:47:44.348Z"
   },
   {
    "duration": 22,
    "start_time": "2023-01-18T12:47:44.449Z"
   },
   {
    "duration": 30,
    "start_time": "2023-01-18T12:47:44.976Z"
   },
   {
    "duration": 28,
    "start_time": "2023-01-18T12:47:45.368Z"
   },
   {
    "duration": 78,
    "start_time": "2023-01-18T12:47:46.148Z"
   },
   {
    "duration": 49,
    "start_time": "2023-01-18T12:47:46.528Z"
   },
   {
    "duration": 46,
    "start_time": "2023-01-18T12:47:46.734Z"
   },
   {
    "duration": 85,
    "start_time": "2023-01-18T12:47:47.117Z"
   },
   {
    "duration": 38,
    "start_time": "2023-01-18T12:47:47.311Z"
   },
   {
    "duration": 10,
    "start_time": "2023-01-18T12:47:47.497Z"
   },
   {
    "duration": 170,
    "start_time": "2023-01-18T12:47:47.880Z"
   },
   {
    "duration": 4,
    "start_time": "2023-01-18T12:47:50.136Z"
   },
   {
    "duration": 507,
    "start_time": "2023-01-18T12:47:50.323Z"
   },
   {
    "duration": 822,
    "start_time": "2023-01-18T12:49:26.623Z"
   },
   {
    "duration": 8,
    "start_time": "2023-01-18T12:49:35.489Z"
   },
   {
    "duration": 4,
    "start_time": "2023-01-18T12:50:00.911Z"
   },
   {
    "duration": 1315,
    "start_time": "2023-01-18T12:50:01.584Z"
   },
   {
    "duration": 129,
    "start_time": "2023-01-18T12:50:02.901Z"
   },
   {
    "duration": 3,
    "start_time": "2023-01-18T12:50:03.038Z"
   },
   {
    "duration": 19,
    "start_time": "2023-01-18T12:50:03.043Z"
   },
   {
    "duration": 669,
    "start_time": "2023-01-18T12:50:03.063Z"
   },
   {
    "duration": 293,
    "start_time": "2023-01-18T12:50:04.209Z"
   },
   {
    "duration": 317,
    "start_time": "2023-01-18T12:50:04.504Z"
   },
   {
    "duration": 88,
    "start_time": "2023-01-18T12:50:04.830Z"
   },
   {
    "duration": 5,
    "start_time": "2023-01-18T12:50:05.046Z"
   },
   {
    "duration": 11,
    "start_time": "2023-01-18T12:50:05.289Z"
   },
   {
    "duration": 447,
    "start_time": "2023-01-18T12:50:05.752Z"
   },
   {
    "duration": 86,
    "start_time": "2023-01-18T12:50:06.536Z"
   },
   {
    "duration": 21,
    "start_time": "2023-01-18T12:50:06.960Z"
   },
   {
    "duration": 30,
    "start_time": "2023-01-18T12:50:09.840Z"
   },
   {
    "duration": 28,
    "start_time": "2023-01-18T12:50:10.624Z"
   },
   {
    "duration": 84,
    "start_time": "2023-01-18T12:50:11.361Z"
   },
   {
    "duration": 66,
    "start_time": "2023-01-18T12:50:12.575Z"
   },
   {
    "duration": 47,
    "start_time": "2023-01-18T12:50:14.536Z"
   },
   {
    "duration": 87,
    "start_time": "2023-01-18T12:50:17.217Z"
   },
   {
    "duration": 42,
    "start_time": "2023-01-18T12:50:18.607Z"
   },
   {
    "duration": 12,
    "start_time": "2023-01-18T12:50:20.509Z"
   },
   {
    "duration": 12,
    "start_time": "2023-01-18T12:50:21.262Z"
   },
   {
    "duration": 39,
    "start_time": "2023-01-18T12:50:31.719Z"
   },
   {
    "duration": 32,
    "start_time": "2023-01-18T12:51:03.433Z"
   },
   {
    "duration": 53,
    "start_time": "2023-01-18T12:53:23.881Z"
   },
   {
    "duration": 5,
    "start_time": "2023-01-18T12:53:44.408Z"
   },
   {
    "duration": 1299,
    "start_time": "2023-01-18T12:53:45.087Z"
   },
   {
    "duration": 131,
    "start_time": "2023-01-18T12:53:46.388Z"
   },
   {
    "duration": 24,
    "start_time": "2023-01-18T12:53:46.520Z"
   },
   {
    "duration": 31,
    "start_time": "2023-01-18T12:53:46.546Z"
   },
   {
    "duration": 683,
    "start_time": "2023-01-18T12:53:46.579Z"
   },
   {
    "duration": 380,
    "start_time": "2023-01-18T12:53:47.647Z"
   },
   {
    "duration": 368,
    "start_time": "2023-01-18T12:53:48.030Z"
   },
   {
    "duration": 101,
    "start_time": "2023-01-18T12:53:48.401Z"
   },
   {
    "duration": 11,
    "start_time": "2023-01-18T12:53:48.504Z"
   },
   {
    "duration": 12,
    "start_time": "2023-01-18T12:53:48.567Z"
   },
   {
    "duration": 462,
    "start_time": "2023-01-18T12:53:48.751Z"
   },
   {
    "duration": 90,
    "start_time": "2023-01-18T12:53:49.215Z"
   },
   {
    "duration": 33,
    "start_time": "2023-01-18T12:53:49.377Z"
   },
   {
    "duration": 37,
    "start_time": "2023-01-18T12:53:49.960Z"
   },
   {
    "duration": 28,
    "start_time": "2023-01-18T12:53:50.320Z"
   },
   {
    "duration": 83,
    "start_time": "2023-01-18T12:53:51.062Z"
   },
   {
    "duration": 49,
    "start_time": "2023-01-18T12:53:51.447Z"
   },
   {
    "duration": 45,
    "start_time": "2023-01-18T12:53:51.624Z"
   },
   {
    "duration": 85,
    "start_time": "2023-01-18T12:53:51.984Z"
   },
   {
    "duration": 40,
    "start_time": "2023-01-18T12:53:52.215Z"
   },
   {
    "duration": 11,
    "start_time": "2023-01-18T12:53:52.861Z"
   },
   {
    "duration": 50,
    "start_time": "2023-01-18T12:53:53.472Z"
   },
   {
    "duration": 35,
    "start_time": "2023-01-18T12:53:54.156Z"
   },
   {
    "duration": 48,
    "start_time": "2023-01-18T12:54:08.462Z"
   },
   {
    "duration": 243,
    "start_time": "2023-01-18T12:55:32.419Z"
   },
   {
    "duration": 442,
    "start_time": "2023-01-18T12:55:44.587Z"
   },
   {
    "duration": 1524,
    "start_time": "2023-01-18T12:55:54.425Z"
   },
   {
    "duration": 568,
    "start_time": "2023-01-18T12:56:08.858Z"
   },
   {
    "duration": 612,
    "start_time": "2023-01-18T12:56:23.393Z"
   },
   {
    "duration": 183,
    "start_time": "2023-01-18T12:57:00.871Z"
   },
   {
    "duration": 3021,
    "start_time": "2023-01-18T12:57:09.199Z"
   },
   {
    "duration": 688,
    "start_time": "2023-01-18T12:58:24.296Z"
   },
   {
    "duration": 636,
    "start_time": "2023-01-18T13:01:51.665Z"
   },
   {
    "duration": 2078,
    "start_time": "2023-01-18T13:02:02.692Z"
   },
   {
    "duration": 2071,
    "start_time": "2023-01-18T13:03:19.249Z"
   },
   {
    "duration": 205,
    "start_time": "2023-01-18T13:03:40.875Z"
   },
   {
    "duration": 221,
    "start_time": "2023-01-18T13:03:53.704Z"
   },
   {
    "duration": 421,
    "start_time": "2023-01-18T13:04:51.386Z"
   },
   {
    "duration": 792,
    "start_time": "2023-01-18T13:05:02.436Z"
   },
   {
    "duration": 356,
    "start_time": "2023-01-18T13:05:14.122Z"
   },
   {
    "duration": 325,
    "start_time": "2023-01-18T13:05:27.498Z"
   },
   {
    "duration": 306,
    "start_time": "2023-01-18T13:05:46.322Z"
   },
   {
    "duration": 675,
    "start_time": "2023-01-18T13:25:15.865Z"
   },
   {
    "duration": 118,
    "start_time": "2023-01-18T13:25:26.970Z"
   },
   {
    "duration": 6,
    "start_time": "2023-01-18T13:26:18.150Z"
   },
   {
    "duration": 1227,
    "start_time": "2023-01-18T13:26:18.858Z"
   },
   {
    "duration": 145,
    "start_time": "2023-01-18T13:26:20.086Z"
   },
   {
    "duration": 10,
    "start_time": "2023-01-18T13:26:20.238Z"
   },
   {
    "duration": 26,
    "start_time": "2023-01-18T13:26:20.251Z"
   },
   {
    "duration": 693,
    "start_time": "2023-01-18T13:26:20.279Z"
   },
   {
    "duration": 331,
    "start_time": "2023-01-18T13:26:21.426Z"
   },
   {
    "duration": 324,
    "start_time": "2023-01-18T13:26:21.760Z"
   },
   {
    "duration": 98,
    "start_time": "2023-01-18T13:26:22.086Z"
   },
   {
    "duration": 11,
    "start_time": "2023-01-18T13:26:22.186Z"
   },
   {
    "duration": 11,
    "start_time": "2023-01-18T13:26:22.375Z"
   },
   {
    "duration": 476,
    "start_time": "2023-01-18T13:26:22.561Z"
   },
   {
    "duration": 101,
    "start_time": "2023-01-18T13:26:23.040Z"
   },
   {
    "duration": 21,
    "start_time": "2023-01-18T13:26:23.144Z"
   },
   {
    "duration": 30,
    "start_time": "2023-01-18T13:26:23.665Z"
   },
   {
    "duration": 29,
    "start_time": "2023-01-18T13:26:24.025Z"
   },
   {
    "duration": 80,
    "start_time": "2023-01-18T13:26:24.769Z"
   },
   {
    "duration": 53,
    "start_time": "2023-01-18T13:26:25.135Z"
   },
   {
    "duration": 47,
    "start_time": "2023-01-18T13:26:25.313Z"
   },
   {
    "duration": 92,
    "start_time": "2023-01-18T13:26:25.700Z"
   },
   {
    "duration": 44,
    "start_time": "2023-01-18T13:26:25.873Z"
   },
   {
    "duration": 13,
    "start_time": "2023-01-18T13:26:26.073Z"
   },
   {
    "duration": 565,
    "start_time": "2023-01-18T13:26:26.434Z"
   },
   {
    "duration": 326,
    "start_time": "2023-01-18T13:26:27.001Z"
   },
   {
    "duration": 131,
    "start_time": "2023-01-18T13:26:27.330Z"
   },
   {
    "duration": 406,
    "start_time": "2023-01-18T13:28:32.379Z"
   },
   {
    "duration": 87,
    "start_time": "2023-01-18T13:29:58.250Z"
   },
   {
    "duration": 23,
    "start_time": "2023-01-18T13:30:50.195Z"
   },
   {
    "duration": 75,
    "start_time": "2023-01-18T13:32:43.819Z"
   },
   {
    "duration": 108,
    "start_time": "2023-01-18T13:33:08.369Z"
   },
   {
    "duration": 13,
    "start_time": "2023-01-18T13:38:10.746Z"
   },
   {
    "duration": 40,
    "start_time": "2023-01-18T13:38:19.118Z"
   },
   {
    "duration": 43,
    "start_time": "2023-01-18T13:38:28.604Z"
   },
   {
    "duration": 127,
    "start_time": "2023-01-18T13:40:26.466Z"
   },
   {
    "duration": 43,
    "start_time": "2023-01-18T13:40:46.283Z"
   },
   {
    "duration": 40,
    "start_time": "2023-01-18T13:40:48.914Z"
   },
   {
    "duration": 175,
    "start_time": "2023-01-18T13:40:49.235Z"
   },
   {
    "duration": 5,
    "start_time": "2023-01-18T13:42:25.697Z"
   },
   {
    "duration": 1289,
    "start_time": "2023-01-18T13:42:26.381Z"
   },
   {
    "duration": 146,
    "start_time": "2023-01-18T13:42:27.673Z"
   },
   {
    "duration": 20,
    "start_time": "2023-01-18T13:42:27.821Z"
   },
   {
    "duration": 24,
    "start_time": "2023-01-18T13:42:27.843Z"
   },
   {
    "duration": 707,
    "start_time": "2023-01-18T13:42:27.869Z"
   },
   {
    "duration": 292,
    "start_time": "2023-01-18T13:42:29.002Z"
   },
   {
    "duration": 348,
    "start_time": "2023-01-18T13:42:29.296Z"
   },
   {
    "duration": 106,
    "start_time": "2023-01-18T13:42:29.647Z"
   },
   {
    "duration": 5,
    "start_time": "2023-01-18T13:42:29.777Z"
   },
   {
    "duration": 11,
    "start_time": "2023-01-18T13:42:29.963Z"
   },
   {
    "duration": 452,
    "start_time": "2023-01-18T13:42:30.172Z"
   },
   {
    "duration": 92,
    "start_time": "2023-01-18T13:42:30.626Z"
   },
   {
    "duration": 20,
    "start_time": "2023-01-18T13:42:30.788Z"
   },
   {
    "duration": 31,
    "start_time": "2023-01-18T13:42:31.393Z"
   },
   {
    "duration": 28,
    "start_time": "2023-01-18T13:42:31.786Z"
   },
   {
    "duration": 93,
    "start_time": "2023-01-18T13:42:32.610Z"
   },
   {
    "duration": 51,
    "start_time": "2023-01-18T13:42:33.017Z"
   },
   {
    "duration": 45,
    "start_time": "2023-01-18T13:42:33.223Z"
   },
   {
    "duration": 94,
    "start_time": "2023-01-18T13:42:33.621Z"
   },
   {
    "duration": 42,
    "start_time": "2023-01-18T13:42:33.836Z"
   },
   {
    "duration": 11,
    "start_time": "2023-01-18T13:42:34.032Z"
   },
   {
    "duration": 566,
    "start_time": "2023-01-18T13:42:34.276Z"
   },
   {
    "duration": 315,
    "start_time": "2023-01-18T13:42:35.589Z"
   },
   {
    "duration": 113,
    "start_time": "2023-01-18T13:42:35.995Z"
   },
   {
    "duration": 248,
    "start_time": "2023-01-18T13:42:36.186Z"
   },
   {
    "duration": 88,
    "start_time": "2023-01-18T13:42:36.438Z"
   },
   {
    "duration": 101,
    "start_time": "2023-01-18T13:42:36.589Z"
   },
   {
    "duration": 213,
    "start_time": "2023-01-18T13:42:36.795Z"
   },
   {
    "duration": 175,
    "start_time": "2023-01-18T13:42:37.179Z"
   },
   {
    "duration": 137,
    "start_time": "2023-01-18T13:43:57.493Z"
   },
   {
    "duration": 6,
    "start_time": "2023-01-18T13:44:02.493Z"
   },
   {
    "duration": 1270,
    "start_time": "2023-01-18T13:44:03.213Z"
   },
   {
    "duration": 137,
    "start_time": "2023-01-18T13:44:04.485Z"
   },
   {
    "duration": 4,
    "start_time": "2023-01-18T13:44:04.624Z"
   },
   {
    "duration": 25,
    "start_time": "2023-01-18T13:44:04.629Z"
   },
   {
    "duration": 693,
    "start_time": "2023-01-18T13:44:04.656Z"
   },
   {
    "duration": 290,
    "start_time": "2023-01-18T13:44:05.860Z"
   },
   {
    "duration": 322,
    "start_time": "2023-01-18T13:44:06.151Z"
   },
   {
    "duration": 95,
    "start_time": "2023-01-18T13:44:06.476Z"
   },
   {
    "duration": 13,
    "start_time": "2023-01-18T13:44:06.596Z"
   },
   {
    "duration": 16,
    "start_time": "2023-01-18T13:44:06.775Z"
   },
   {
    "duration": 484,
    "start_time": "2023-01-18T13:44:06.948Z"
   },
   {
    "duration": 104,
    "start_time": "2023-01-18T13:44:07.434Z"
   },
   {
    "duration": 22,
    "start_time": "2023-01-18T13:44:07.540Z"
   },
   {
    "duration": 31,
    "start_time": "2023-01-18T13:44:08.042Z"
   },
   {
    "duration": 27,
    "start_time": "2023-01-18T13:44:08.421Z"
   },
   {
    "duration": 90,
    "start_time": "2023-01-18T13:44:09.204Z"
   },
   {
    "duration": 48,
    "start_time": "2023-01-18T13:44:09.613Z"
   },
   {
    "duration": 47,
    "start_time": "2023-01-18T13:44:09.796Z"
   },
   {
    "duration": 90,
    "start_time": "2023-01-18T13:44:10.205Z"
   },
   {
    "duration": 42,
    "start_time": "2023-01-18T13:44:10.404Z"
   },
   {
    "duration": 10,
    "start_time": "2023-01-18T13:44:10.605Z"
   },
   {
    "duration": 1000,
    "start_time": "2023-01-18T13:44:11.210Z"
   },
   {
    "duration": 370,
    "start_time": "2023-01-18T13:44:12.211Z"
   },
   {
    "duration": 139,
    "start_time": "2023-01-18T13:44:12.585Z"
   },
   {
    "duration": 245,
    "start_time": "2023-01-18T13:44:13.099Z"
   },
   {
    "duration": 88,
    "start_time": "2023-01-18T13:44:14.582Z"
   },
   {
    "duration": 94,
    "start_time": "2023-01-18T13:44:16.210Z"
   },
   {
    "duration": 208,
    "start_time": "2023-01-18T13:44:16.916Z"
   },
   {
    "duration": 256,
    "start_time": "2023-01-18T13:44:19.948Z"
   },
   {
    "duration": 4,
    "start_time": "2023-01-18T13:44:23.851Z"
   },
   {
    "duration": 820,
    "start_time": "2023-01-18T13:44:24.546Z"
   },
   {
    "duration": 6,
    "start_time": "2023-01-18T13:53:47.619Z"
   },
   {
    "duration": 1282,
    "start_time": "2023-01-18T13:53:48.221Z"
   },
   {
    "duration": 173,
    "start_time": "2023-01-18T13:53:49.506Z"
   },
   {
    "duration": 4,
    "start_time": "2023-01-18T13:53:49.681Z"
   },
   {
    "duration": 25,
    "start_time": "2023-01-18T13:53:49.687Z"
   },
   {
    "duration": 703,
    "start_time": "2023-01-18T13:53:49.714Z"
   },
   {
    "duration": 430,
    "start_time": "2023-01-18T13:53:50.977Z"
   },
   {
    "duration": 369,
    "start_time": "2023-01-18T13:53:51.409Z"
   },
   {
    "duration": 102,
    "start_time": "2023-01-18T13:53:51.781Z"
   },
   {
    "duration": 20,
    "start_time": "2023-01-18T13:53:51.886Z"
   },
   {
    "duration": 43,
    "start_time": "2023-01-18T13:53:51.909Z"
   },
   {
    "duration": 495,
    "start_time": "2023-01-18T13:53:52.079Z"
   },
   {
    "duration": 123,
    "start_time": "2023-01-18T13:53:52.577Z"
   },
   {
    "duration": 41,
    "start_time": "2023-01-18T13:53:52.702Z"
   },
   {
    "duration": 29,
    "start_time": "2023-01-18T13:53:53.229Z"
   },
   {
    "duration": 26,
    "start_time": "2023-01-18T13:53:53.627Z"
   },
   {
    "duration": 83,
    "start_time": "2023-01-18T13:53:54.379Z"
   },
   {
    "duration": 51,
    "start_time": "2023-01-18T13:53:55.035Z"
   },
   {
    "duration": 56,
    "start_time": "2023-01-18T13:53:55.227Z"
   },
   {
    "duration": 83,
    "start_time": "2023-01-18T13:53:55.611Z"
   },
   {
    "duration": 49,
    "start_time": "2023-01-18T13:53:55.788Z"
   },
   {
    "duration": 10,
    "start_time": "2023-01-18T13:53:55.983Z"
   },
   {
    "duration": 552,
    "start_time": "2023-01-18T13:53:56.180Z"
   },
   {
    "duration": 322,
    "start_time": "2023-01-18T13:53:56.737Z"
   },
   {
    "duration": 121,
    "start_time": "2023-01-18T13:53:57.062Z"
   },
   {
    "duration": 268,
    "start_time": "2023-01-18T13:53:57.186Z"
   },
   {
    "duration": 100,
    "start_time": "2023-01-18T13:53:57.456Z"
   },
   {
    "duration": 97,
    "start_time": "2023-01-18T13:53:57.558Z"
   },
   {
    "duration": 195,
    "start_time": "2023-01-18T13:53:57.717Z"
   },
   {
    "duration": 286,
    "start_time": "2023-01-18T13:53:58.087Z"
   },
   {
    "duration": 4,
    "start_time": "2023-01-18T13:53:58.473Z"
   },
   {
    "duration": 638,
    "start_time": "2023-01-18T13:53:59.590Z"
   },
   {
    "duration": 0,
    "start_time": "2023-01-18T13:54:00.230Z"
   },
   {
    "duration": 727,
    "start_time": "2023-01-18T13:54:24.432Z"
   },
   {
    "duration": 924,
    "start_time": "2023-01-18T13:55:51.017Z"
   },
   {
    "duration": 850,
    "start_time": "2023-01-18T13:56:05.932Z"
   },
   {
    "duration": 839,
    "start_time": "2023-01-18T13:56:49.175Z"
   },
   {
    "duration": 250678,
    "start_time": "2023-01-18T13:56:53.607Z"
   },
   {
    "duration": 114,
    "start_time": "2023-01-18T14:10:05.123Z"
   },
   {
    "duration": 241066,
    "start_time": "2023-01-18T14:10:16.938Z"
   },
   {
    "duration": 137433,
    "start_time": "2023-01-18T14:18:42.530Z"
   },
   {
    "duration": 5,
    "start_time": "2023-01-18T14:21:18.602Z"
   },
   {
    "duration": 1307,
    "start_time": "2023-01-18T14:21:19.304Z"
   },
   {
    "duration": 193,
    "start_time": "2023-01-18T14:21:20.614Z"
   },
   {
    "duration": 4,
    "start_time": "2023-01-18T14:21:20.809Z"
   },
   {
    "duration": 33,
    "start_time": "2023-01-18T14:21:20.815Z"
   },
   {
    "duration": 699,
    "start_time": "2023-01-18T14:21:20.850Z"
   },
   {
    "duration": 299,
    "start_time": "2023-01-18T14:21:21.808Z"
   },
   {
    "duration": 328,
    "start_time": "2023-01-18T14:21:22.109Z"
   },
   {
    "duration": 120,
    "start_time": "2023-01-18T14:21:22.439Z"
   },
   {
    "duration": 12,
    "start_time": "2023-01-18T14:21:22.581Z"
   },
   {
    "duration": 12,
    "start_time": "2023-01-18T14:21:22.779Z"
   },
   {
    "duration": 483,
    "start_time": "2023-01-18T14:21:22.956Z"
   },
   {
    "duration": 84,
    "start_time": "2023-01-18T14:21:23.579Z"
   },
   {
    "duration": 24,
    "start_time": "2023-01-18T14:21:23.665Z"
   },
   {
    "duration": 32,
    "start_time": "2023-01-18T14:21:24.107Z"
   },
   {
    "duration": 29,
    "start_time": "2023-01-18T14:21:24.480Z"
   },
   {
    "duration": 78,
    "start_time": "2023-01-18T14:21:25.251Z"
   },
   {
    "duration": 52,
    "start_time": "2023-01-18T14:21:25.628Z"
   },
   {
    "duration": 46,
    "start_time": "2023-01-18T14:21:25.826Z"
   },
   {
    "duration": 87,
    "start_time": "2023-01-18T14:21:26.218Z"
   },
   {
    "duration": 40,
    "start_time": "2023-01-18T14:21:26.405Z"
   },
   {
    "duration": 11,
    "start_time": "2023-01-18T14:21:26.594Z"
   },
   {
    "duration": 569,
    "start_time": "2023-01-18T14:21:26.789Z"
   },
   {
    "duration": 336,
    "start_time": "2023-01-18T14:21:27.360Z"
   },
   {
    "duration": 122,
    "start_time": "2023-01-18T14:21:27.699Z"
   },
   {
    "duration": 291,
    "start_time": "2023-01-18T14:21:27.824Z"
   },
   {
    "duration": 146,
    "start_time": "2023-01-18T14:21:28.118Z"
   },
   {
    "duration": 112,
    "start_time": "2023-01-18T14:21:28.266Z"
   },
   {
    "duration": 189,
    "start_time": "2023-01-18T14:21:28.380Z"
   },
   {
    "duration": 210,
    "start_time": "2023-01-18T14:21:28.801Z"
   },
   {
    "duration": 5,
    "start_time": "2023-01-18T14:21:29.196Z"
   },
   {
    "duration": 802,
    "start_time": "2023-01-18T14:21:30.436Z"
   },
   {
    "duration": 243435,
    "start_time": "2023-01-18T14:21:31.240Z"
   },
   {
    "duration": 134061,
    "start_time": "2023-01-18T14:25:34.678Z"
   },
   {
    "duration": 1,
    "start_time": "2023-01-18T14:27:48.740Z"
   },
   {
    "duration": 6,
    "start_time": "2023-01-18T14:30:47.384Z"
   },
   {
    "duration": 1334,
    "start_time": "2023-01-18T14:30:48.031Z"
   },
   {
    "duration": 144,
    "start_time": "2023-01-18T14:30:49.367Z"
   },
   {
    "duration": 4,
    "start_time": "2023-01-18T14:30:49.513Z"
   },
   {
    "duration": 28,
    "start_time": "2023-01-18T14:30:49.520Z"
   },
   {
    "duration": 687,
    "start_time": "2023-01-18T14:30:49.549Z"
   },
   {
    "duration": 299,
    "start_time": "2023-01-18T14:30:50.687Z"
   },
   {
    "duration": 324,
    "start_time": "2023-01-18T14:30:50.988Z"
   },
   {
    "duration": 104,
    "start_time": "2023-01-18T14:30:51.314Z"
   },
   {
    "duration": 6,
    "start_time": "2023-01-18T14:30:51.445Z"
   },
   {
    "duration": 11,
    "start_time": "2023-01-18T14:30:51.838Z"
   },
   {
    "duration": 553,
    "start_time": "2023-01-18T14:30:52.036Z"
   },
   {
    "duration": 153,
    "start_time": "2023-01-18T14:30:52.592Z"
   },
   {
    "duration": 27,
    "start_time": "2023-01-18T14:30:52.747Z"
   },
   {
    "duration": 31,
    "start_time": "2023-01-18T14:30:53.184Z"
   },
   {
    "duration": 28,
    "start_time": "2023-01-18T14:30:53.550Z"
   },
   {
    "duration": 83,
    "start_time": "2023-01-18T14:30:54.326Z"
   },
   {
    "duration": 53,
    "start_time": "2023-01-18T14:30:54.716Z"
   },
   {
    "duration": 46,
    "start_time": "2023-01-18T14:30:54.915Z"
   },
   {
    "duration": 92,
    "start_time": "2023-01-18T14:30:55.317Z"
   },
   {
    "duration": 42,
    "start_time": "2023-01-18T14:30:55.526Z"
   },
   {
    "duration": 12,
    "start_time": "2023-01-18T14:30:55.727Z"
   },
   {
    "duration": 1107,
    "start_time": "2023-01-18T14:30:55.923Z"
   },
   {
    "duration": 335,
    "start_time": "2023-01-18T14:30:57.032Z"
   },
   {
    "duration": 127,
    "start_time": "2023-01-18T14:30:57.369Z"
   },
   {
    "duration": 267,
    "start_time": "2023-01-18T14:30:57.499Z"
   },
   {
    "duration": 98,
    "start_time": "2023-01-18T14:30:57.768Z"
   },
   {
    "duration": 114,
    "start_time": "2023-01-18T14:30:57.868Z"
   },
   {
    "duration": 232,
    "start_time": "2023-01-18T14:30:57.985Z"
   },
   {
    "duration": 221,
    "start_time": "2023-01-18T14:30:58.219Z"
   },
   {
    "duration": 4,
    "start_time": "2023-01-18T14:30:58.443Z"
   },
   {
    "duration": 842,
    "start_time": "2023-01-18T14:30:59.636Z"
   },
   {
    "duration": 1628,
    "start_time": "2023-01-18T14:33:29.735Z"
   },
   {
    "duration": 3716,
    "start_time": "2023-01-18T14:33:31.365Z"
   },
   {
    "duration": 166,
    "start_time": "2023-01-18T14:33:35.084Z"
   },
   {
    "duration": 4,
    "start_time": "2023-01-18T14:33:35.253Z"
   },
   {
    "duration": 35,
    "start_time": "2023-01-18T14:33:35.259Z"
   },
   {
    "duration": 719,
    "start_time": "2023-01-18T14:33:35.296Z"
   },
   {
    "duration": 321,
    "start_time": "2023-01-18T14:33:36.017Z"
   },
   {
    "duration": 428,
    "start_time": "2023-01-18T14:33:36.340Z"
   },
   {
    "duration": 99,
    "start_time": "2023-01-18T14:33:36.770Z"
   },
   {
    "duration": 4,
    "start_time": "2023-01-18T14:33:36.872Z"
   },
   {
    "duration": 23,
    "start_time": "2023-01-18T14:33:36.878Z"
   },
   {
    "duration": 506,
    "start_time": "2023-01-18T14:33:36.903Z"
   },
   {
    "duration": 103,
    "start_time": "2023-01-18T14:33:37.412Z"
   },
   {
    "duration": 33,
    "start_time": "2023-01-18T14:33:37.517Z"
   },
   {
    "duration": 31,
    "start_time": "2023-01-18T14:33:37.552Z"
   },
   {
    "duration": 29,
    "start_time": "2023-01-18T14:33:37.584Z"
   },
   {
    "duration": 99,
    "start_time": "2023-01-18T14:33:37.639Z"
   },
   {
    "duration": 56,
    "start_time": "2023-01-18T14:33:37.740Z"
   },
   {
    "duration": 69,
    "start_time": "2023-01-18T14:33:37.798Z"
   },
   {
    "duration": 108,
    "start_time": "2023-01-18T14:33:37.869Z"
   },
   {
    "duration": 43,
    "start_time": "2023-01-18T14:33:37.978Z"
   },
   {
    "duration": 24,
    "start_time": "2023-01-18T14:33:38.023Z"
   },
   {
    "duration": 703,
    "start_time": "2023-01-18T14:33:38.218Z"
   },
   {
    "duration": 343,
    "start_time": "2023-01-18T14:33:38.923Z"
   },
   {
    "duration": 132,
    "start_time": "2023-01-18T14:33:39.268Z"
   },
   {
    "duration": 266,
    "start_time": "2023-01-18T14:33:39.402Z"
   },
   {
    "duration": 99,
    "start_time": "2023-01-18T14:33:39.670Z"
   },
   {
    "duration": 97,
    "start_time": "2023-01-18T14:33:39.788Z"
   },
   {
    "duration": 206,
    "start_time": "2023-01-18T14:33:39.986Z"
   },
   {
    "duration": 262,
    "start_time": "2023-01-18T14:33:40.380Z"
   },
   {
    "duration": 4,
    "start_time": "2023-01-18T14:33:40.771Z"
   },
   {
    "duration": 931,
    "start_time": "2023-01-18T14:33:41.916Z"
   },
   {
    "duration": 258999,
    "start_time": "2023-01-18T14:33:42.849Z"
   },
   {
    "duration": 131742,
    "start_time": "2023-01-18T14:38:01.850Z"
   },
   {
    "duration": 1167,
    "start_time": "2023-01-18T14:40:13.594Z"
   },
   {
    "duration": 6,
    "start_time": "2023-01-18T14:43:57.679Z"
   },
   {
    "duration": 5,
    "start_time": "2023-01-18T14:46:28.496Z"
   },
   {
    "duration": 1319,
    "start_time": "2023-01-18T14:46:29.178Z"
   },
   {
    "duration": 144,
    "start_time": "2023-01-18T14:46:30.500Z"
   },
   {
    "duration": 14,
    "start_time": "2023-01-18T14:46:30.646Z"
   },
   {
    "duration": 46,
    "start_time": "2023-01-18T14:46:30.662Z"
   },
   {
    "duration": 760,
    "start_time": "2023-01-18T14:46:30.710Z"
   },
   {
    "duration": 312,
    "start_time": "2023-01-18T14:46:31.712Z"
   },
   {
    "duration": 361,
    "start_time": "2023-01-18T14:46:32.027Z"
   },
   {
    "duration": 134,
    "start_time": "2023-01-18T14:46:32.390Z"
   },
   {
    "duration": 31,
    "start_time": "2023-01-18T14:46:32.527Z"
   },
   {
    "duration": 14,
    "start_time": "2023-01-18T14:46:32.623Z"
   },
   {
    "duration": 492,
    "start_time": "2023-01-18T14:46:32.832Z"
   },
   {
    "duration": 106,
    "start_time": "2023-01-18T14:46:33.337Z"
   },
   {
    "duration": 40,
    "start_time": "2023-01-18T14:46:33.446Z"
   },
   {
    "duration": 29,
    "start_time": "2023-01-18T14:46:33.946Z"
   },
   {
    "duration": 27,
    "start_time": "2023-01-18T14:46:34.312Z"
   },
   {
    "duration": 86,
    "start_time": "2023-01-18T14:46:35.137Z"
   },
   {
    "duration": 52,
    "start_time": "2023-01-18T14:46:35.521Z"
   },
   {
    "duration": 48,
    "start_time": "2023-01-18T14:46:35.745Z"
   },
   {
    "duration": 93,
    "start_time": "2023-01-18T14:46:36.105Z"
   },
   {
    "duration": 52,
    "start_time": "2023-01-18T14:46:36.319Z"
   },
   {
    "duration": 13,
    "start_time": "2023-01-18T14:46:36.520Z"
   },
   {
    "duration": 732,
    "start_time": "2023-01-18T14:46:36.711Z"
   },
   {
    "duration": 358,
    "start_time": "2023-01-18T14:46:37.447Z"
   },
   {
    "duration": 121,
    "start_time": "2023-01-18T14:46:37.807Z"
   },
   {
    "duration": 300,
    "start_time": "2023-01-18T14:46:37.930Z"
   },
   {
    "duration": 94,
    "start_time": "2023-01-18T14:46:38.233Z"
   },
   {
    "duration": 113,
    "start_time": "2023-01-18T14:46:38.338Z"
   },
   {
    "duration": 232,
    "start_time": "2023-01-18T14:46:38.453Z"
   },
   {
    "duration": 268,
    "start_time": "2023-01-18T14:46:38.687Z"
   },
   {
    "duration": 4,
    "start_time": "2023-01-18T14:46:39.075Z"
   },
   {
    "duration": 829,
    "start_time": "2023-01-18T14:46:40.225Z"
   },
   {
    "duration": 260246,
    "start_time": "2023-01-18T14:46:41.056Z"
   },
   {
    "duration": 41932,
    "start_time": "2023-01-18T14:51:01.305Z"
   },
   {
    "duration": 0,
    "start_time": "2023-01-18T14:51:43.241Z"
   },
   {
    "duration": 0,
    "start_time": "2023-01-18T14:51:43.243Z"
   },
   {
    "duration": 6,
    "start_time": "2023-01-18T14:51:48.349Z"
   },
   {
    "duration": 1368,
    "start_time": "2023-01-18T14:51:49.018Z"
   },
   {
    "duration": 167,
    "start_time": "2023-01-18T14:51:50.388Z"
   },
   {
    "duration": 5,
    "start_time": "2023-01-18T14:51:50.557Z"
   },
   {
    "duration": 20,
    "start_time": "2023-01-18T14:51:50.565Z"
   },
   {
    "duration": 698,
    "start_time": "2023-01-18T14:51:50.587Z"
   },
   {
    "duration": 347,
    "start_time": "2023-01-18T14:51:51.528Z"
   },
   {
    "duration": 337,
    "start_time": "2023-01-18T14:51:51.877Z"
   },
   {
    "duration": 103,
    "start_time": "2023-01-18T14:51:52.217Z"
   },
   {
    "duration": 41,
    "start_time": "2023-01-18T14:51:52.322Z"
   },
   {
    "duration": 17,
    "start_time": "2023-01-18T14:51:52.641Z"
   },
   {
    "duration": 500,
    "start_time": "2023-01-18T14:51:52.834Z"
   },
   {
    "duration": 100,
    "start_time": "2023-01-18T14:51:53.339Z"
   },
   {
    "duration": 26,
    "start_time": "2023-01-18T14:51:53.442Z"
   },
   {
    "duration": 33,
    "start_time": "2023-01-18T14:51:53.992Z"
   },
   {
    "duration": 28,
    "start_time": "2023-01-18T14:51:54.370Z"
   },
   {
    "duration": 102,
    "start_time": "2023-01-18T14:51:55.341Z"
   },
   {
    "duration": 59,
    "start_time": "2023-01-18T14:51:55.708Z"
   },
   {
    "duration": 48,
    "start_time": "2023-01-18T14:51:55.887Z"
   },
   {
    "duration": 98,
    "start_time": "2023-01-18T14:51:56.271Z"
   },
   {
    "duration": 43,
    "start_time": "2023-01-18T14:51:56.470Z"
   },
   {
    "duration": 11,
    "start_time": "2023-01-18T14:51:56.655Z"
   },
   {
    "duration": 717,
    "start_time": "2023-01-18T14:51:56.870Z"
   },
   {
    "duration": 365,
    "start_time": "2023-01-18T14:51:57.590Z"
   },
   {
    "duration": 140,
    "start_time": "2023-01-18T14:51:57.959Z"
   },
   {
    "duration": 290,
    "start_time": "2023-01-18T14:51:58.101Z"
   },
   {
    "duration": 101,
    "start_time": "2023-01-18T14:51:58.393Z"
   },
   {
    "duration": 111,
    "start_time": "2023-01-18T14:51:58.496Z"
   },
   {
    "duration": 220,
    "start_time": "2023-01-18T14:51:58.609Z"
   },
   {
    "duration": 227,
    "start_time": "2023-01-18T14:51:58.850Z"
   },
   {
    "duration": 5,
    "start_time": "2023-01-18T14:51:59.270Z"
   },
   {
    "duration": 860,
    "start_time": "2023-01-18T14:52:00.482Z"
   },
   {
    "duration": 1802276,
    "start_time": "2023-01-18T14:52:01.346Z"
   },
   {
    "duration": 9138,
    "start_time": "2023-01-18T15:22:03.624Z"
   },
   {
    "duration": 7,
    "start_time": "2023-01-18T15:22:12.765Z"
   },
   {
    "duration": 2564,
    "start_time": "2023-01-18T15:22:12.774Z"
   },
   {
    "duration": 1449,
    "start_time": "2023-01-18T22:59:19.654Z"
   },
   {
    "duration": 1588,
    "start_time": "2023-01-18T22:59:21.105Z"
   },
   {
    "duration": 119,
    "start_time": "2023-01-18T22:59:22.694Z"
   },
   {
    "duration": 3,
    "start_time": "2023-01-18T22:59:22.815Z"
   },
   {
    "duration": 25,
    "start_time": "2023-01-18T22:59:22.820Z"
   },
   {
    "duration": 624,
    "start_time": "2023-01-18T22:59:22.847Z"
   },
   {
    "duration": 257,
    "start_time": "2023-01-18T22:59:23.473Z"
   },
   {
    "duration": 380,
    "start_time": "2023-01-18T22:59:23.731Z"
   },
   {
    "duration": 106,
    "start_time": "2023-01-18T22:59:24.113Z"
   },
   {
    "duration": 4,
    "start_time": "2023-01-18T22:59:24.220Z"
   },
   {
    "duration": 18,
    "start_time": "2023-01-18T22:59:24.225Z"
   },
   {
    "duration": 401,
    "start_time": "2023-01-18T22:59:24.244Z"
   },
   {
    "duration": 83,
    "start_time": "2023-01-18T22:59:24.647Z"
   },
   {
    "duration": 20,
    "start_time": "2023-01-18T22:59:24.733Z"
   },
   {
    "duration": 47,
    "start_time": "2023-01-18T22:59:24.755Z"
   },
   {
    "duration": 25,
    "start_time": "2023-01-18T22:59:24.804Z"
   },
   {
    "duration": 91,
    "start_time": "2023-01-18T22:59:24.831Z"
   },
   {
    "duration": 47,
    "start_time": "2023-01-18T22:59:24.924Z"
   },
   {
    "duration": 45,
    "start_time": "2023-01-18T22:59:24.993Z"
   },
   {
    "duration": 86,
    "start_time": "2023-01-18T22:59:25.039Z"
   },
   {
    "duration": 36,
    "start_time": "2023-01-18T22:59:25.127Z"
   },
   {
    "duration": 9,
    "start_time": "2023-01-18T22:59:25.164Z"
   },
   {
    "duration": 595,
    "start_time": "2023-01-18T22:59:25.175Z"
   },
   {
    "duration": 278,
    "start_time": "2023-01-18T22:59:25.771Z"
   },
   {
    "duration": 112,
    "start_time": "2023-01-18T22:59:26.051Z"
   },
   {
    "duration": 228,
    "start_time": "2023-01-18T22:59:26.165Z"
   },
   {
    "duration": 76,
    "start_time": "2023-01-18T22:59:26.395Z"
   },
   {
    "duration": 98,
    "start_time": "2023-01-18T22:59:26.473Z"
   },
   {
    "duration": 191,
    "start_time": "2023-01-18T22:59:26.573Z"
   },
   {
    "duration": 237,
    "start_time": "2023-01-18T22:59:26.766Z"
   },
   {
    "duration": 4,
    "start_time": "2023-01-18T22:59:27.004Z"
   },
   {
    "duration": 751,
    "start_time": "2023-01-18T22:59:27.009Z"
   },
   {
    "duration": 607583,
    "start_time": "2023-01-18T22:59:27.762Z"
   },
   {
    "duration": 7564,
    "start_time": "2023-01-18T23:09:35.347Z"
   },
   {
    "duration": 5,
    "start_time": "2023-01-18T23:09:42.912Z"
   },
   {
    "duration": 1333,
    "start_time": "2023-01-18T23:09:42.919Z"
   },
   {
    "duration": 66,
    "start_time": "2023-01-19T06:34:07.603Z"
   },
   {
    "duration": 1623,
    "start_time": "2023-01-19T06:34:38.298Z"
   },
   {
    "duration": 3436,
    "start_time": "2023-01-19T06:34:39.923Z"
   },
   {
    "duration": 160,
    "start_time": "2023-01-19T06:34:43.361Z"
   },
   {
    "duration": 4,
    "start_time": "2023-01-19T06:34:43.523Z"
   },
   {
    "duration": 27,
    "start_time": "2023-01-19T06:34:43.529Z"
   },
   {
    "duration": 741,
    "start_time": "2023-01-19T06:34:43.558Z"
   },
   {
    "duration": 299,
    "start_time": "2023-01-19T06:34:44.301Z"
   },
   {
    "duration": 366,
    "start_time": "2023-01-19T06:34:44.601Z"
   },
   {
    "duration": 90,
    "start_time": "2023-01-19T06:34:44.968Z"
   },
   {
    "duration": 4,
    "start_time": "2023-01-19T06:34:45.060Z"
   },
   {
    "duration": 97,
    "start_time": "2023-01-19T06:34:45.065Z"
   },
   {
    "duration": 451,
    "start_time": "2023-01-19T06:34:45.164Z"
   },
   {
    "duration": 97,
    "start_time": "2023-01-19T06:34:45.617Z"
   },
   {
    "duration": 19,
    "start_time": "2023-01-19T06:34:45.715Z"
   },
   {
    "duration": 38,
    "start_time": "2023-01-19T06:34:45.736Z"
   },
   {
    "duration": 25,
    "start_time": "2023-01-19T06:34:45.776Z"
   },
   {
    "duration": 96,
    "start_time": "2023-01-19T06:34:45.803Z"
   },
   {
    "duration": 54,
    "start_time": "2023-01-19T06:34:45.900Z"
   },
   {
    "duration": 45,
    "start_time": "2023-01-19T06:34:45.956Z"
   },
   {
    "duration": 109,
    "start_time": "2023-01-19T06:34:46.329Z"
   },
   {
    "duration": 39,
    "start_time": "2023-01-19T06:34:46.744Z"
   },
   {
    "duration": 10,
    "start_time": "2023-01-19T06:34:48.827Z"
   },
   {
    "duration": 529,
    "start_time": "2023-01-19T06:34:49.574Z"
   },
   {
    "duration": 343,
    "start_time": "2023-01-19T06:34:50.105Z"
   },
   {
    "duration": 128,
    "start_time": "2023-01-19T06:34:50.451Z"
   },
   {
    "duration": 229,
    "start_time": "2023-01-19T06:34:50.627Z"
   },
   {
    "duration": 81,
    "start_time": "2023-01-19T06:34:51.586Z"
   },
   {
    "duration": 90,
    "start_time": "2023-01-19T06:34:52.666Z"
   },
   {
    "duration": 52,
    "start_time": "2023-01-19T06:34:53.147Z"
   },
   {
    "duration": 564,
    "start_time": "2023-01-19T06:37:33.842Z"
   },
   {
    "duration": 4,
    "start_time": "2023-01-19T06:37:51.972Z"
   },
   {
    "duration": 1213,
    "start_time": "2023-01-19T06:37:52.670Z"
   },
   {
    "duration": 128,
    "start_time": "2023-01-19T06:37:53.885Z"
   },
   {
    "duration": 4,
    "start_time": "2023-01-19T06:37:54.015Z"
   },
   {
    "duration": 33,
    "start_time": "2023-01-19T06:37:54.021Z"
   },
   {
    "duration": 643,
    "start_time": "2023-01-19T06:37:54.056Z"
   },
   {
    "duration": 302,
    "start_time": "2023-01-19T06:37:55.242Z"
   },
   {
    "duration": 305,
    "start_time": "2023-01-19T06:37:55.545Z"
   },
   {
    "duration": 84,
    "start_time": "2023-01-19T06:37:55.852Z"
   },
   {
    "duration": 3,
    "start_time": "2023-01-19T06:37:56.009Z"
   },
   {
    "duration": 10,
    "start_time": "2023-01-19T06:37:56.210Z"
   },
   {
    "duration": 523,
    "start_time": "2023-01-19T06:37:56.412Z"
   },
   {
    "duration": 79,
    "start_time": "2023-01-19T06:37:56.937Z"
   },
   {
    "duration": 31,
    "start_time": "2023-01-19T06:37:57.018Z"
   },
   {
    "duration": 28,
    "start_time": "2023-01-19T06:37:57.714Z"
   },
   {
    "duration": 25,
    "start_time": "2023-01-19T06:37:58.129Z"
   },
   {
    "duration": 74,
    "start_time": "2023-01-19T06:37:59.835Z"
   },
   {
    "duration": 48,
    "start_time": "2023-01-19T06:38:00.269Z"
   },
   {
    "duration": 44,
    "start_time": "2023-01-19T06:38:00.981Z"
   },
   {
    "duration": 84,
    "start_time": "2023-01-19T06:38:02.272Z"
   },
   {
    "duration": 40,
    "start_time": "2023-01-19T06:38:02.577Z"
   },
   {
    "duration": 13,
    "start_time": "2023-01-19T06:38:03.417Z"
   },
   {
    "duration": 560,
    "start_time": "2023-01-19T06:38:03.971Z"
   },
   {
    "duration": 310,
    "start_time": "2023-01-19T06:38:05.877Z"
   },
   {
    "duration": 105,
    "start_time": "2023-01-19T06:38:07.723Z"
   },
   {
    "duration": 230,
    "start_time": "2023-01-19T06:38:08.387Z"
   },
   {
    "duration": 86,
    "start_time": "2023-01-19T06:38:10.172Z"
   },
   {
    "duration": 89,
    "start_time": "2023-01-19T06:38:10.907Z"
   },
   {
    "duration": 407,
    "start_time": "2023-01-19T06:38:11.827Z"
   },
   {
    "duration": 5,
    "start_time": "2023-01-19T06:39:31.023Z"
   },
   {
    "duration": 1172,
    "start_time": "2023-01-19T06:39:31.698Z"
   },
   {
    "duration": 128,
    "start_time": "2023-01-19T06:39:32.872Z"
   },
   {
    "duration": 4,
    "start_time": "2023-01-19T06:39:33.002Z"
   },
   {
    "duration": 14,
    "start_time": "2023-01-19T06:39:33.007Z"
   },
   {
    "duration": 645,
    "start_time": "2023-01-19T06:39:33.023Z"
   },
   {
    "duration": 267,
    "start_time": "2023-01-19T06:39:34.166Z"
   },
   {
    "duration": 306,
    "start_time": "2023-01-19T06:39:34.434Z"
   },
   {
    "duration": 87,
    "start_time": "2023-01-19T06:39:36.466Z"
   },
   {
    "duration": 4,
    "start_time": "2023-01-19T06:39:36.704Z"
   },
   {
    "duration": 11,
    "start_time": "2023-01-19T06:39:36.825Z"
   },
   {
    "duration": 520,
    "start_time": "2023-01-19T06:39:37.001Z"
   },
   {
    "duration": 85,
    "start_time": "2023-01-19T06:39:37.523Z"
   },
   {
    "duration": 19,
    "start_time": "2023-01-19T06:39:37.691Z"
   },
   {
    "duration": 28,
    "start_time": "2023-01-19T06:39:38.289Z"
   },
   {
    "duration": 28,
    "start_time": "2023-01-19T06:39:38.641Z"
   },
   {
    "duration": 75,
    "start_time": "2023-01-19T06:39:39.426Z"
   },
   {
    "duration": 50,
    "start_time": "2023-01-19T06:39:39.820Z"
   },
   {
    "duration": 44,
    "start_time": "2023-01-19T06:39:39.992Z"
   },
   {
    "duration": 81,
    "start_time": "2023-01-19T06:39:40.425Z"
   },
   {
    "duration": 39,
    "start_time": "2023-01-19T06:39:40.571Z"
   },
   {
    "duration": 11,
    "start_time": "2023-01-19T06:39:40.762Z"
   },
   {
    "duration": 538,
    "start_time": "2023-01-19T06:39:40.976Z"
   },
   {
    "duration": 288,
    "start_time": "2023-01-19T06:39:41.558Z"
   },
   {
    "duration": 98,
    "start_time": "2023-01-19T06:39:41.971Z"
   },
   {
    "duration": 223,
    "start_time": "2023-01-19T06:39:42.138Z"
   },
   {
    "duration": 84,
    "start_time": "2023-01-19T06:39:42.368Z"
   },
   {
    "duration": 96,
    "start_time": "2023-01-19T06:39:42.561Z"
   },
   {
    "duration": 455,
    "start_time": "2023-01-19T06:39:42.772Z"
   },
   {
    "duration": 425,
    "start_time": "2023-01-19T06:40:26.814Z"
   },
   {
    "duration": 418,
    "start_time": "2023-01-19T06:43:24.723Z"
   },
   {
    "duration": 472,
    "start_time": "2023-01-19T06:44:11.360Z"
   },
   {
    "duration": 319,
    "start_time": "2023-01-19T06:46:44.220Z"
   },
   {
    "duration": 584,
    "start_time": "2023-01-19T06:47:07.512Z"
   },
   {
    "duration": 5,
    "start_time": "2023-01-19T06:49:08.961Z"
   },
   {
    "duration": 1185,
    "start_time": "2023-01-19T06:49:11.425Z"
   },
   {
    "duration": 454,
    "start_time": "2023-01-19T06:49:13.824Z"
   },
   {
    "duration": 14,
    "start_time": "2023-01-19T06:51:21.243Z"
   },
   {
    "duration": 101,
    "start_time": "2023-01-19T06:51:37.211Z"
   },
   {
    "duration": 232,
    "start_time": "2023-01-19T06:52:28.972Z"
   },
   {
    "duration": 6,
    "start_time": "2023-01-19T06:52:53.805Z"
   },
   {
    "duration": 1173,
    "start_time": "2023-01-19T06:52:54.621Z"
   },
   {
    "duration": 134,
    "start_time": "2023-01-19T06:52:55.796Z"
   },
   {
    "duration": 3,
    "start_time": "2023-01-19T06:52:55.931Z"
   },
   {
    "duration": 11,
    "start_time": "2023-01-19T06:52:55.949Z"
   },
   {
    "duration": 661,
    "start_time": "2023-01-19T06:52:56.100Z"
   },
   {
    "duration": 264,
    "start_time": "2023-01-19T06:52:57.604Z"
   },
   {
    "duration": 293,
    "start_time": "2023-01-19T06:52:57.870Z"
   },
   {
    "duration": 93,
    "start_time": "2023-01-19T06:52:58.165Z"
   },
   {
    "duration": 4,
    "start_time": "2023-01-19T06:52:58.313Z"
   },
   {
    "duration": 12,
    "start_time": "2023-01-19T06:52:58.505Z"
   },
   {
    "duration": 422,
    "start_time": "2023-01-19T06:52:58.699Z"
   },
   {
    "duration": 87,
    "start_time": "2023-01-19T06:52:59.123Z"
   },
   {
    "duration": 20,
    "start_time": "2023-01-19T06:52:59.262Z"
   },
   {
    "duration": 28,
    "start_time": "2023-01-19T06:52:59.828Z"
   },
   {
    "duration": 25,
    "start_time": "2023-01-19T06:53:00.211Z"
   },
   {
    "duration": 80,
    "start_time": "2023-01-19T06:53:00.982Z"
   },
   {
    "duration": 52,
    "start_time": "2023-01-19T06:53:01.400Z"
   },
   {
    "duration": 44,
    "start_time": "2023-01-19T06:53:01.594Z"
   },
   {
    "duration": 80,
    "start_time": "2023-01-19T06:53:02.009Z"
   },
   {
    "duration": 38,
    "start_time": "2023-01-19T06:53:02.220Z"
   },
   {
    "duration": 13,
    "start_time": "2023-01-19T06:53:02.418Z"
   },
   {
    "duration": 528,
    "start_time": "2023-01-19T06:53:02.637Z"
   },
   {
    "duration": 320,
    "start_time": "2023-01-19T06:53:03.283Z"
   },
   {
    "duration": 105,
    "start_time": "2023-01-19T06:53:03.641Z"
   },
   {
    "duration": 254,
    "start_time": "2023-01-19T06:53:03.883Z"
   },
   {
    "duration": 81,
    "start_time": "2023-01-19T06:53:04.372Z"
   },
   {
    "duration": 86,
    "start_time": "2023-01-19T06:53:04.569Z"
   },
   {
    "duration": 711,
    "start_time": "2023-01-19T06:53:04.802Z"
   },
   {
    "duration": 160,
    "start_time": "2023-01-19T06:53:06.707Z"
   },
   {
    "duration": 5,
    "start_time": "2023-01-19T06:53:25.466Z"
   },
   {
    "duration": 1206,
    "start_time": "2023-01-19T06:53:26.082Z"
   },
   {
    "duration": 141,
    "start_time": "2023-01-19T06:53:27.291Z"
   },
   {
    "duration": 15,
    "start_time": "2023-01-19T06:53:27.433Z"
   },
   {
    "duration": 12,
    "start_time": "2023-01-19T06:53:27.450Z"
   },
   {
    "duration": 816,
    "start_time": "2023-01-19T06:53:27.464Z"
   },
   {
    "duration": 260,
    "start_time": "2023-01-19T06:53:28.809Z"
   },
   {
    "duration": 281,
    "start_time": "2023-01-19T06:53:29.071Z"
   },
   {
    "duration": 84,
    "start_time": "2023-01-19T06:53:29.394Z"
   },
   {
    "duration": 4,
    "start_time": "2023-01-19T06:53:29.594Z"
   },
   {
    "duration": 11,
    "start_time": "2023-01-19T06:53:29.785Z"
   },
   {
    "duration": 482,
    "start_time": "2023-01-19T06:53:29.966Z"
   },
   {
    "duration": 84,
    "start_time": "2023-01-19T06:53:30.450Z"
   },
   {
    "duration": 40,
    "start_time": "2023-01-19T06:53:30.548Z"
   },
   {
    "duration": 30,
    "start_time": "2023-01-19T06:53:31.083Z"
   },
   {
    "duration": 26,
    "start_time": "2023-01-19T06:53:31.427Z"
   },
   {
    "duration": 86,
    "start_time": "2023-01-19T06:53:33.367Z"
   },
   {
    "duration": 46,
    "start_time": "2023-01-19T06:53:34.077Z"
   },
   {
    "duration": 44,
    "start_time": "2023-01-19T06:53:36.188Z"
   },
   {
    "duration": 87,
    "start_time": "2023-01-19T06:53:39.234Z"
   },
   {
    "duration": 38,
    "start_time": "2023-01-19T06:53:40.908Z"
   },
   {
    "duration": 10,
    "start_time": "2023-01-19T06:53:42.043Z"
   },
   {
    "duration": 569,
    "start_time": "2023-01-19T06:53:43.603Z"
   },
   {
    "duration": 320,
    "start_time": "2023-01-19T06:53:44.174Z"
   },
   {
    "duration": 107,
    "start_time": "2023-01-19T06:53:46.635Z"
   },
   {
    "duration": 234,
    "start_time": "2023-01-19T06:53:48.090Z"
   },
   {
    "duration": 87,
    "start_time": "2023-01-19T06:53:50.229Z"
   },
   {
    "duration": 91,
    "start_time": "2023-01-19T06:53:51.148Z"
   },
   {
    "duration": 813,
    "start_time": "2023-01-19T06:53:53.067Z"
   },
   {
    "duration": 4,
    "start_time": "2023-01-19T06:55:54.829Z"
   },
   {
    "duration": 1316,
    "start_time": "2023-01-19T06:55:55.516Z"
   },
   {
    "duration": 229,
    "start_time": "2023-01-19T06:55:56.834Z"
   },
   {
    "duration": 4,
    "start_time": "2023-01-19T06:55:57.065Z"
   },
   {
    "duration": 18,
    "start_time": "2023-01-19T06:55:57.071Z"
   },
   {
    "duration": 658,
    "start_time": "2023-01-19T06:55:57.091Z"
   },
   {
    "duration": 267,
    "start_time": "2023-01-19T06:55:58.191Z"
   },
   {
    "duration": 284,
    "start_time": "2023-01-19T06:55:58.460Z"
   },
   {
    "duration": 84,
    "start_time": "2023-01-19T06:55:58.746Z"
   },
   {
    "duration": 4,
    "start_time": "2023-01-19T06:55:58.913Z"
   },
   {
    "duration": 12,
    "start_time": "2023-01-19T06:55:59.116Z"
   },
   {
    "duration": 442,
    "start_time": "2023-01-19T06:55:59.279Z"
   },
   {
    "duration": 87,
    "start_time": "2023-01-19T06:55:59.723Z"
   },
   {
    "duration": 19,
    "start_time": "2023-01-19T06:55:59.817Z"
   },
   {
    "duration": 30,
    "start_time": "2023-01-19T06:56:00.379Z"
   },
   {
    "duration": 27,
    "start_time": "2023-01-19T06:56:00.729Z"
   },
   {
    "duration": 78,
    "start_time": "2023-01-19T06:56:01.475Z"
   },
   {
    "duration": 46,
    "start_time": "2023-01-19T06:56:01.849Z"
   },
   {
    "duration": 41,
    "start_time": "2023-01-19T06:56:02.026Z"
   },
   {
    "duration": 81,
    "start_time": "2023-01-19T06:56:04.315Z"
   },
   {
    "duration": 39,
    "start_time": "2023-01-19T06:56:05.690Z"
   },
   {
    "duration": 11,
    "start_time": "2023-01-19T06:56:06.178Z"
   },
   {
    "duration": 668,
    "start_time": "2023-01-19T06:56:06.690Z"
   },
   {
    "duration": 313,
    "start_time": "2023-01-19T06:56:07.532Z"
   },
   {
    "duration": 102,
    "start_time": "2023-01-19T06:56:08.264Z"
   },
   {
    "duration": 233,
    "start_time": "2023-01-19T06:56:09.843Z"
   },
   {
    "duration": 83,
    "start_time": "2023-01-19T06:56:10.298Z"
   },
   {
    "duration": 86,
    "start_time": "2023-01-19T06:56:10.979Z"
   },
   {
    "duration": 1293,
    "start_time": "2023-01-19T06:56:11.636Z"
   },
   {
    "duration": 530,
    "start_time": "2023-01-19T06:56:28.901Z"
   },
   {
    "duration": 205,
    "start_time": "2023-01-19T06:57:03.184Z"
   },
   {
    "duration": 4,
    "start_time": "2023-01-19T06:57:05.243Z"
   },
   {
    "duration": 5,
    "start_time": "2023-01-19T06:58:14.222Z"
   },
   {
    "duration": 699,
    "start_time": "2023-01-19T06:58:32.235Z"
   },
   {
    "duration": 619,
    "start_time": "2023-01-19T07:01:50.827Z"
   },
   {
    "duration": 600,
    "start_time": "2023-01-19T07:03:09.086Z"
   },
   {
    "duration": 875,
    "start_time": "2023-01-19T07:03:41.204Z"
   },
   {
    "duration": 98,
    "start_time": "2023-01-19T07:05:32.206Z"
   },
   {
    "duration": 700,
    "start_time": "2023-01-19T07:05:39.197Z"
   },
   {
    "duration": 575,
    "start_time": "2023-01-19T07:05:47.318Z"
   },
   {
    "duration": 610,
    "start_time": "2023-01-19T07:07:56.321Z"
   },
   {
    "duration": 589,
    "start_time": "2023-01-19T07:08:17.564Z"
   },
   {
    "duration": 569,
    "start_time": "2023-01-19T07:09:48.536Z"
   },
   {
    "duration": 609,
    "start_time": "2023-01-19T07:10:18.444Z"
   },
   {
    "duration": 5,
    "start_time": "2023-01-19T07:11:43.837Z"
   },
   {
    "duration": 1189,
    "start_time": "2023-01-19T07:11:44.509Z"
   },
   {
    "duration": 133,
    "start_time": "2023-01-19T07:11:45.701Z"
   },
   {
    "duration": 13,
    "start_time": "2023-01-19T07:11:45.836Z"
   },
   {
    "duration": 14,
    "start_time": "2023-01-19T07:11:45.852Z"
   },
   {
    "duration": 699,
    "start_time": "2023-01-19T07:11:45.868Z"
   },
   {
    "duration": 257,
    "start_time": "2023-01-19T07:11:47.117Z"
   },
   {
    "duration": 298,
    "start_time": "2023-01-19T07:11:47.375Z"
   },
   {
    "duration": 82,
    "start_time": "2023-01-19T07:11:47.819Z"
   },
   {
    "duration": 4,
    "start_time": "2023-01-19T07:11:48.019Z"
   },
   {
    "duration": 11,
    "start_time": "2023-01-19T07:11:48.187Z"
   },
   {
    "duration": 442,
    "start_time": "2023-01-19T07:11:48.393Z"
   },
   {
    "duration": 86,
    "start_time": "2023-01-19T07:11:48.837Z"
   },
   {
    "duration": 19,
    "start_time": "2023-01-19T07:11:48.947Z"
   },
   {
    "duration": 29,
    "start_time": "2023-01-19T07:11:49.508Z"
   },
   {
    "duration": 26,
    "start_time": "2023-01-19T07:11:49.883Z"
   },
   {
    "duration": 74,
    "start_time": "2023-01-19T07:11:50.581Z"
   },
   {
    "duration": 48,
    "start_time": "2023-01-19T07:11:50.940Z"
   },
   {
    "duration": 43,
    "start_time": "2023-01-19T07:11:51.123Z"
   },
   {
    "duration": 81,
    "start_time": "2023-01-19T07:11:51.499Z"
   },
   {
    "duration": 38,
    "start_time": "2023-01-19T07:11:51.675Z"
   },
   {
    "duration": 10,
    "start_time": "2023-01-19T07:11:51.859Z"
   },
   {
    "duration": 520,
    "start_time": "2023-01-19T07:11:52.062Z"
   },
   {
    "duration": 303,
    "start_time": "2023-01-19T07:11:52.585Z"
   },
   {
    "duration": 113,
    "start_time": "2023-01-19T07:11:52.891Z"
   },
   {
    "duration": 450,
    "start_time": "2023-01-19T07:11:53.011Z"
   },
   {
    "duration": 93,
    "start_time": "2023-01-19T07:11:53.463Z"
   },
   {
    "duration": 94,
    "start_time": "2023-01-19T07:11:53.558Z"
   },
   {
    "duration": 542,
    "start_time": "2023-01-19T07:11:53.654Z"
   },
   {
    "duration": 187,
    "start_time": "2023-01-19T07:11:54.198Z"
   },
   {
    "duration": 3,
    "start_time": "2023-01-19T07:11:54.387Z"
   },
   {
    "duration": 168,
    "start_time": "2023-01-19T07:11:58.408Z"
   },
   {
    "duration": 587,
    "start_time": "2023-01-19T07:12:54.630Z"
   },
   {
    "duration": 617,
    "start_time": "2023-01-19T07:13:01.333Z"
   },
   {
    "duration": 624,
    "start_time": "2023-01-19T07:13:07.772Z"
   },
   {
    "duration": 666,
    "start_time": "2023-01-19T07:13:13.587Z"
   },
   {
    "duration": 614,
    "start_time": "2023-01-19T07:13:18.749Z"
   },
   {
    "duration": 684,
    "start_time": "2023-01-19T07:14:23.396Z"
   },
   {
    "duration": 695,
    "start_time": "2023-01-19T07:14:29.913Z"
   },
   {
    "duration": 530274,
    "start_time": "2023-01-19T07:14:35.540Z"
   },
   {
    "duration": 13,
    "start_time": "2023-01-19T07:23:32.990Z"
   },
   {
    "duration": 5,
    "start_time": "2023-01-19T07:24:42.311Z"
   },
   {
    "duration": 12,
    "start_time": "2023-01-19T07:25:01.217Z"
   },
   {
    "duration": 12,
    "start_time": "2023-01-19T07:25:23.208Z"
   },
   {
    "duration": 12,
    "start_time": "2023-01-19T07:31:11.364Z"
   },
   {
    "duration": 258890,
    "start_time": "2023-01-19T07:31:46.366Z"
   },
   {
    "duration": 0,
    "start_time": "2023-01-19T08:06:29.754Z"
   },
   {
    "duration": 0,
    "start_time": "2023-01-19T08:06:29.755Z"
   },
   {
    "duration": 0,
    "start_time": "2023-01-19T08:06:29.756Z"
   },
   {
    "duration": 0,
    "start_time": "2023-01-19T08:06:29.757Z"
   },
   {
    "duration": 0,
    "start_time": "2023-01-19T08:06:29.759Z"
   },
   {
    "duration": 0,
    "start_time": "2023-01-19T08:06:29.760Z"
   },
   {
    "duration": 0,
    "start_time": "2023-01-19T08:06:29.761Z"
   },
   {
    "duration": 0,
    "start_time": "2023-01-19T08:06:29.762Z"
   },
   {
    "duration": 0,
    "start_time": "2023-01-19T08:06:29.763Z"
   },
   {
    "duration": 0,
    "start_time": "2023-01-19T08:06:29.764Z"
   },
   {
    "duration": 0,
    "start_time": "2023-01-19T08:06:29.766Z"
   },
   {
    "duration": 0,
    "start_time": "2023-01-19T08:06:29.766Z"
   },
   {
    "duration": 0,
    "start_time": "2023-01-19T08:06:29.767Z"
   },
   {
    "duration": 0,
    "start_time": "2023-01-19T08:06:29.768Z"
   },
   {
    "duration": 0,
    "start_time": "2023-01-19T08:06:29.769Z"
   },
   {
    "duration": 0,
    "start_time": "2023-01-19T08:06:29.770Z"
   },
   {
    "duration": 0,
    "start_time": "2023-01-19T08:06:29.772Z"
   },
   {
    "duration": 0,
    "start_time": "2023-01-19T08:06:29.773Z"
   },
   {
    "duration": 0,
    "start_time": "2023-01-19T08:06:29.774Z"
   },
   {
    "duration": 0,
    "start_time": "2023-01-19T08:06:29.775Z"
   },
   {
    "duration": 0,
    "start_time": "2023-01-19T08:06:29.777Z"
   },
   {
    "duration": 0,
    "start_time": "2023-01-19T08:06:29.778Z"
   },
   {
    "duration": 0,
    "start_time": "2023-01-19T08:06:29.779Z"
   },
   {
    "duration": 0,
    "start_time": "2023-01-19T08:06:29.780Z"
   },
   {
    "duration": 0,
    "start_time": "2023-01-19T08:06:29.781Z"
   },
   {
    "duration": 0,
    "start_time": "2023-01-19T08:06:29.784Z"
   },
   {
    "duration": 0,
    "start_time": "2023-01-19T08:06:29.786Z"
   },
   {
    "duration": 0,
    "start_time": "2023-01-19T08:06:29.849Z"
   },
   {
    "duration": 0,
    "start_time": "2023-01-19T08:06:29.850Z"
   },
   {
    "duration": 0,
    "start_time": "2023-01-19T08:06:29.851Z"
   },
   {
    "duration": 0,
    "start_time": "2023-01-19T08:06:29.853Z"
   },
   {
    "duration": 0,
    "start_time": "2023-01-19T08:06:29.853Z"
   },
   {
    "duration": 0,
    "start_time": "2023-01-19T08:06:29.858Z"
   },
   {
    "duration": 0,
    "start_time": "2023-01-19T08:06:29.860Z"
   },
   {
    "duration": 0,
    "start_time": "2023-01-19T08:06:29.861Z"
   },
   {
    "duration": 0,
    "start_time": "2023-01-19T08:06:29.862Z"
   },
   {
    "duration": 5,
    "start_time": "2023-01-19T08:06:33.053Z"
   },
   {
    "duration": 6,
    "start_time": "2023-01-19T08:06:36.477Z"
   },
   {
    "duration": 5,
    "start_time": "2023-01-19T08:06:40.626Z"
   },
   {
    "duration": 1291,
    "start_time": "2023-01-19T08:06:40.633Z"
   },
   {
    "duration": 131,
    "start_time": "2023-01-19T08:06:41.926Z"
   },
   {
    "duration": 4,
    "start_time": "2023-01-19T08:06:42.059Z"
   },
   {
    "duration": 18,
    "start_time": "2023-01-19T08:06:42.066Z"
   },
   {
    "duration": 660,
    "start_time": "2023-01-19T08:06:42.086Z"
   },
   {
    "duration": 273,
    "start_time": "2023-01-19T08:06:42.747Z"
   },
   {
    "duration": 320,
    "start_time": "2023-01-19T08:06:43.022Z"
   },
   {
    "duration": 89,
    "start_time": "2023-01-19T08:06:43.343Z"
   },
   {
    "duration": 16,
    "start_time": "2023-01-19T08:06:43.434Z"
   },
   {
    "duration": 11,
    "start_time": "2023-01-19T08:06:43.452Z"
   },
   {
    "duration": 467,
    "start_time": "2023-01-19T08:06:43.464Z"
   },
   {
    "duration": 102,
    "start_time": "2023-01-19T08:06:43.934Z"
   },
   {
    "duration": 22,
    "start_time": "2023-01-19T08:06:44.038Z"
   },
   {
    "duration": 29,
    "start_time": "2023-01-19T08:06:44.062Z"
   },
   {
    "duration": 24,
    "start_time": "2023-01-19T08:06:44.093Z"
   },
   {
    "duration": 92,
    "start_time": "2023-01-19T08:06:44.118Z"
   },
   {
    "duration": 56,
    "start_time": "2023-01-19T08:06:44.212Z"
   },
   {
    "duration": 41,
    "start_time": "2023-01-19T08:06:44.269Z"
   },
   {
    "duration": 103,
    "start_time": "2023-01-19T08:06:44.312Z"
   },
   {
    "duration": 47,
    "start_time": "2023-01-19T08:06:44.416Z"
   },
   {
    "duration": 10,
    "start_time": "2023-01-19T08:06:44.465Z"
   },
   {
    "duration": 530,
    "start_time": "2023-01-19T08:06:44.477Z"
   },
   {
    "duration": 308,
    "start_time": "2023-01-19T08:06:45.008Z"
   },
   {
    "duration": 128,
    "start_time": "2023-01-19T08:06:45.319Z"
   },
   {
    "duration": 265,
    "start_time": "2023-01-19T08:06:45.449Z"
   },
   {
    "duration": 89,
    "start_time": "2023-01-19T08:06:45.717Z"
   },
   {
    "duration": 95,
    "start_time": "2023-01-19T08:06:45.808Z"
   },
   {
    "duration": 664,
    "start_time": "2023-01-19T08:06:45.907Z"
   },
   {
    "duration": 194,
    "start_time": "2023-01-19T08:06:46.572Z"
   },
   {
    "duration": 4,
    "start_time": "2023-01-19T08:06:46.767Z"
   },
   {
    "duration": 699,
    "start_time": "2023-01-19T08:06:46.772Z"
   },
   {
    "duration": 539936,
    "start_time": "2023-01-19T08:06:47.473Z"
   },
   {
    "duration": 2531152,
    "start_time": "2023-01-19T08:15:47.412Z"
   },
   {
    "duration": 0,
    "start_time": "2023-01-19T08:57:58.566Z"
   },
   {
    "duration": 0,
    "start_time": "2023-01-19T08:57:58.567Z"
   },
   {
    "duration": 1494,
    "start_time": "2023-01-19T08:59:00.239Z"
   },
   {
    "duration": 1320,
    "start_time": "2023-01-19T08:59:01.735Z"
   },
   {
    "duration": 146,
    "start_time": "2023-01-19T08:59:03.057Z"
   },
   {
    "duration": 4,
    "start_time": "2023-01-19T08:59:03.206Z"
   },
   {
    "duration": 19,
    "start_time": "2023-01-19T08:59:03.211Z"
   },
   {
    "duration": 721,
    "start_time": "2023-01-19T08:59:03.231Z"
   },
   {
    "duration": 309,
    "start_time": "2023-01-19T08:59:03.954Z"
   },
   {
    "duration": 358,
    "start_time": "2023-01-19T08:59:04.264Z"
   },
   {
    "duration": 88,
    "start_time": "2023-01-19T08:59:04.624Z"
   },
   {
    "duration": 4,
    "start_time": "2023-01-19T08:59:04.716Z"
   },
   {
    "duration": 33,
    "start_time": "2023-01-19T08:59:04.721Z"
   },
   {
    "duration": 460,
    "start_time": "2023-01-19T08:59:04.756Z"
   },
   {
    "duration": 88,
    "start_time": "2023-01-19T08:59:05.218Z"
   },
   {
    "duration": 22,
    "start_time": "2023-01-19T08:59:05.308Z"
   },
   {
    "duration": 37,
    "start_time": "2023-01-19T08:59:05.334Z"
   },
   {
    "duration": 27,
    "start_time": "2023-01-19T08:59:05.373Z"
   },
   {
    "duration": 96,
    "start_time": "2023-01-19T08:59:05.402Z"
   },
   {
    "duration": 60,
    "start_time": "2023-01-19T08:59:05.500Z"
   },
   {
    "duration": 57,
    "start_time": "2023-01-19T08:59:05.562Z"
   },
   {
    "duration": 143,
    "start_time": "2023-01-19T08:59:05.620Z"
   },
   {
    "duration": 38,
    "start_time": "2023-01-19T08:59:05.765Z"
   },
   {
    "duration": 10,
    "start_time": "2023-01-19T08:59:05.805Z"
   },
   {
    "duration": 695,
    "start_time": "2023-01-19T08:59:05.817Z"
   },
   {
    "duration": 319,
    "start_time": "2023-01-19T08:59:06.514Z"
   },
   {
    "duration": 114,
    "start_time": "2023-01-19T08:59:06.835Z"
   },
   {
    "duration": 239,
    "start_time": "2023-01-19T08:59:06.950Z"
   },
   {
    "duration": 99,
    "start_time": "2023-01-19T08:59:07.191Z"
   },
   {
    "duration": 97,
    "start_time": "2023-01-19T08:59:07.293Z"
   },
   {
    "duration": 586,
    "start_time": "2023-01-19T08:59:07.391Z"
   },
   {
    "duration": 189,
    "start_time": "2023-01-19T08:59:07.979Z"
   },
   {
    "duration": 4,
    "start_time": "2023-01-19T08:59:08.170Z"
   },
   {
    "duration": 724,
    "start_time": "2023-01-19T08:59:08.176Z"
   },
   {
    "duration": 550169,
    "start_time": "2023-01-19T08:59:08.902Z"
   },
   {
    "duration": 4,
    "start_time": "2023-01-19T09:08:19.073Z"
   },
   {
    "duration": 37006,
    "start_time": "2023-01-19T09:08:19.079Z"
   },
   {
    "duration": 66,
    "start_time": "2023-01-19T09:08:56.087Z"
   },
   {
    "duration": 7,
    "start_time": "2023-01-19T09:08:56.154Z"
   },
   {
    "duration": 2094,
    "start_time": "2023-01-19T09:08:56.162Z"
   },
   {
    "duration": 284165,
    "start_time": "2023-01-19T09:11:38.626Z"
   },
   {
    "duration": 5,
    "start_time": "2023-01-19T09:23:36.030Z"
   },
   {
    "duration": 91,
    "start_time": "2023-01-19T09:47:56.469Z"
   },
   {
    "duration": 5,
    "start_time": "2023-01-19T09:48:00.083Z"
   },
   {
    "duration": 1176,
    "start_time": "2023-01-19T09:48:00.778Z"
   },
   {
    "duration": 123,
    "start_time": "2023-01-19T09:48:01.955Z"
   },
   {
    "duration": 4,
    "start_time": "2023-01-19T09:48:02.126Z"
   },
   {
    "duration": 12,
    "start_time": "2023-01-19T09:48:02.370Z"
   },
   {
    "duration": 710,
    "start_time": "2023-01-19T09:48:03.303Z"
   },
   {
    "duration": 275,
    "start_time": "2023-01-19T09:48:05.925Z"
   },
   {
    "duration": 302,
    "start_time": "2023-01-19T09:48:06.201Z"
   },
   {
    "duration": 122,
    "start_time": "2023-01-19T09:48:06.506Z"
   },
   {
    "duration": 4,
    "start_time": "2023-01-19T09:48:07.015Z"
   },
   {
    "duration": 11,
    "start_time": "2023-01-19T09:48:07.286Z"
   },
   {
    "duration": 512,
    "start_time": "2023-01-19T09:48:07.927Z"
   },
   {
    "duration": 82,
    "start_time": "2023-01-19T09:48:10.361Z"
   },
   {
    "duration": 19,
    "start_time": "2023-01-19T09:48:10.574Z"
   },
   {
    "duration": 29,
    "start_time": "2023-01-19T09:48:11.997Z"
   },
   {
    "duration": 26,
    "start_time": "2023-01-19T09:48:12.349Z"
   },
   {
    "duration": 75,
    "start_time": "2023-01-19T09:48:13.093Z"
   },
   {
    "duration": 49,
    "start_time": "2023-01-19T09:48:13.879Z"
   },
   {
    "duration": 42,
    "start_time": "2023-01-19T09:48:14.678Z"
   },
   {
    "duration": 82,
    "start_time": "2023-01-19T09:48:17.533Z"
   },
   {
    "duration": 38,
    "start_time": "2023-01-19T09:48:19.267Z"
   },
   {
    "duration": 11,
    "start_time": "2023-01-19T09:48:21.824Z"
   },
   {
    "duration": 507,
    "start_time": "2023-01-19T09:48:23.815Z"
   },
   {
    "duration": 300,
    "start_time": "2023-01-19T09:48:26.004Z"
   },
   {
    "duration": 102,
    "start_time": "2023-01-19T09:48:27.918Z"
   },
   {
    "duration": 223,
    "start_time": "2023-01-19T09:48:29.161Z"
   },
   {
    "duration": 83,
    "start_time": "2023-01-19T09:48:31.961Z"
   },
   {
    "duration": 85,
    "start_time": "2023-01-19T09:48:47.247Z"
   },
   {
    "duration": 85,
    "start_time": "2023-01-19T09:49:04.140Z"
   },
   {
    "duration": 99,
    "start_time": "2023-01-19T09:49:04.735Z"
   },
   {
    "duration": 564,
    "start_time": "2023-01-19T09:49:09.489Z"
   },
   {
    "duration": 183,
    "start_time": "2023-01-19T09:49:26.700Z"
   },
   {
    "duration": 181,
    "start_time": "2023-01-19T09:49:35.997Z"
   },
   {
    "duration": 4,
    "start_time": "2023-01-19T09:49:37.511Z"
   },
   {
    "duration": 1449,
    "start_time": "2023-01-19T09:54:56.431Z"
   },
   {
    "duration": 5,
    "start_time": "2023-01-19T09:55:00.969Z"
   },
   {
    "duration": 6,
    "start_time": "2023-01-19T09:55:04.289Z"
   },
   {
    "duration": 1372,
    "start_time": "2023-01-19T09:55:04.297Z"
   },
   {
    "duration": 136,
    "start_time": "2023-01-19T09:55:05.671Z"
   },
   {
    "duration": 4,
    "start_time": "2023-01-19T09:55:05.809Z"
   },
   {
    "duration": 14,
    "start_time": "2023-01-19T09:55:05.815Z"
   },
   {
    "duration": 730,
    "start_time": "2023-01-19T09:55:05.848Z"
   },
   {
    "duration": 286,
    "start_time": "2023-01-19T09:55:06.580Z"
   },
   {
    "duration": 348,
    "start_time": "2023-01-19T09:55:06.868Z"
   },
   {
    "duration": 86,
    "start_time": "2023-01-19T09:55:07.218Z"
   },
   {
    "duration": 4,
    "start_time": "2023-01-19T09:55:07.305Z"
   },
   {
    "duration": 35,
    "start_time": "2023-01-19T09:55:07.311Z"
   },
   {
    "duration": 462,
    "start_time": "2023-01-19T09:55:07.347Z"
   },
   {
    "duration": 91,
    "start_time": "2023-01-19T09:55:07.810Z"
   },
   {
    "duration": 25,
    "start_time": "2023-01-19T09:55:07.903Z"
   },
   {
    "duration": 42,
    "start_time": "2023-01-19T09:55:07.930Z"
   },
   {
    "duration": 25,
    "start_time": "2023-01-19T09:55:07.974Z"
   },
   {
    "duration": 99,
    "start_time": "2023-01-19T09:55:08.001Z"
   },
   {
    "duration": 58,
    "start_time": "2023-01-19T09:55:08.102Z"
   },
   {
    "duration": 45,
    "start_time": "2023-01-19T09:55:08.162Z"
   },
   {
    "duration": 105,
    "start_time": "2023-01-19T09:55:08.209Z"
   },
   {
    "duration": 47,
    "start_time": "2023-01-19T09:55:08.316Z"
   },
   {
    "duration": 9,
    "start_time": "2023-01-19T09:55:08.365Z"
   },
   {
    "duration": 628,
    "start_time": "2023-01-19T09:55:08.376Z"
   },
   {
    "duration": 309,
    "start_time": "2023-01-19T09:55:09.005Z"
   },
   {
    "duration": 117,
    "start_time": "2023-01-19T09:55:09.316Z"
   },
   {
    "duration": 245,
    "start_time": "2023-01-19T09:55:09.436Z"
   },
   {
    "duration": 89,
    "start_time": "2023-01-19T09:55:09.683Z"
   },
   {
    "duration": 110,
    "start_time": "2023-01-19T09:55:09.773Z"
   },
   {
    "duration": 601,
    "start_time": "2023-01-19T09:55:09.887Z"
   },
   {
    "duration": 200,
    "start_time": "2023-01-19T09:55:10.491Z"
   },
   {
    "duration": 4,
    "start_time": "2023-01-19T09:55:10.693Z"
   },
   {
    "duration": 771,
    "start_time": "2023-01-19T09:55:10.699Z"
   },
   {
    "duration": 287973,
    "start_time": "2023-01-19T09:55:11.473Z"
   },
   {
    "duration": 4,
    "start_time": "2023-01-19T09:59:59.448Z"
   },
   {
    "duration": 34096,
    "start_time": "2023-01-19T09:59:59.453Z"
   },
   {
    "duration": 7,
    "start_time": "2023-01-19T10:00:33.550Z"
   },
   {
    "duration": 14,
    "start_time": "2023-01-19T10:00:33.558Z"
   },
   {
    "duration": 393,
    "start_time": "2023-01-19T10:00:33.574Z"
   },
   {
    "duration": 1685,
    "start_time": "2023-01-19T18:05:55.912Z"
   },
   {
    "duration": 1436,
    "start_time": "2023-01-19T18:05:57.599Z"
   },
   {
    "duration": 149,
    "start_time": "2023-01-19T18:05:59.037Z"
   },
   {
    "duration": 11,
    "start_time": "2023-01-19T18:05:59.189Z"
   },
   {
    "duration": 26,
    "start_time": "2023-01-19T18:05:59.202Z"
   },
   {
    "duration": 656,
    "start_time": "2023-01-19T18:05:59.229Z"
   },
   {
    "duration": 305,
    "start_time": "2023-01-19T18:05:59.888Z"
   },
   {
    "duration": 365,
    "start_time": "2023-01-19T18:06:00.195Z"
   },
   {
    "duration": 93,
    "start_time": "2023-01-19T18:06:00.562Z"
   },
   {
    "duration": 16,
    "start_time": "2023-01-19T18:06:00.667Z"
   },
   {
    "duration": 19,
    "start_time": "2023-01-19T18:06:00.685Z"
   },
   {
    "duration": 515,
    "start_time": "2023-01-19T18:06:00.706Z"
   },
   {
    "duration": 97,
    "start_time": "2023-01-19T18:06:01.223Z"
   },
   {
    "duration": 23,
    "start_time": "2023-01-19T18:06:01.322Z"
   },
   {
    "duration": 50,
    "start_time": "2023-01-19T18:06:01.346Z"
   },
   {
    "duration": 26,
    "start_time": "2023-01-19T18:06:01.398Z"
   },
   {
    "duration": 96,
    "start_time": "2023-01-19T18:06:01.426Z"
   },
   {
    "duration": 63,
    "start_time": "2023-01-19T18:06:01.524Z"
   },
   {
    "duration": 45,
    "start_time": "2023-01-19T18:06:01.589Z"
   },
   {
    "duration": 103,
    "start_time": "2023-01-19T18:06:01.636Z"
   },
   {
    "duration": 51,
    "start_time": "2023-01-19T18:06:01.741Z"
   },
   {
    "duration": 10,
    "start_time": "2023-01-19T18:06:01.794Z"
   },
   {
    "duration": 668,
    "start_time": "2023-01-19T18:06:01.806Z"
   },
   {
    "duration": 317,
    "start_time": "2023-01-19T18:06:02.476Z"
   },
   {
    "duration": 118,
    "start_time": "2023-01-19T18:06:02.795Z"
   },
   {
    "duration": 255,
    "start_time": "2023-01-19T18:06:02.915Z"
   },
   {
    "duration": 97,
    "start_time": "2023-01-19T18:06:03.171Z"
   },
   {
    "duration": 102,
    "start_time": "2023-01-19T18:06:03.272Z"
   },
   {
    "duration": 630,
    "start_time": "2023-01-19T18:06:03.376Z"
   },
   {
    "duration": 208,
    "start_time": "2023-01-19T18:06:04.008Z"
   },
   {
    "duration": 3,
    "start_time": "2023-01-19T18:06:04.218Z"
   },
   {
    "duration": 844,
    "start_time": "2023-01-19T18:06:04.223Z"
   },
   {
    "duration": 280728,
    "start_time": "2023-01-19T18:06:05.069Z"
   },
   {
    "duration": 5,
    "start_time": "2023-01-19T18:10:45.799Z"
   },
   {
    "duration": 36871,
    "start_time": "2023-01-19T18:10:45.806Z"
   },
   {
    "duration": 6,
    "start_time": "2023-01-19T18:11:22.680Z"
   },
   {
    "duration": 8,
    "start_time": "2023-01-19T18:11:22.688Z"
   },
   {
    "duration": 492,
    "start_time": "2023-01-19T18:11:22.698Z"
   }
  ],
  "kernelspec": {
   "display_name": "Python 3 (ipykernel)",
   "language": "python",
   "name": "python3"
  },
  "language_info": {
   "codemirror_mode": {
    "name": "ipython",
    "version": 3
   },
   "file_extension": ".py",
   "mimetype": "text/x-python",
   "name": "python",
   "nbconvert_exporter": "python",
   "pygments_lexer": "ipython3",
   "version": "3.9.12"
  },
  "toc": {
   "base_numbering": 1,
   "nav_menu": {},
   "number_sections": true,
   "sideBar": true,
   "skip_h1_title": true,
   "title_cell": "Table of Contents",
   "title_sidebar": "Contents",
   "toc_cell": false,
   "toc_position": {},
   "toc_section_display": true,
   "toc_window_display": false
  }
 },
 "nbformat": 4,
 "nbformat_minor": 2
}
