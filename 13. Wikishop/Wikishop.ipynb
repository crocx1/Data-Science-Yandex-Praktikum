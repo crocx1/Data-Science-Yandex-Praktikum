{
 "cells": [
  {
   "cell_type": "markdown",
   "metadata": {
    "toc": true
   },
   "source": [
    "<h1>Содержание<span class=\"tocSkip\"></span></h1>\n",
    "<div class=\"toc\"><ul class=\"toc-item\"><li><span><a href=\"#Подготовка\" data-toc-modified-id=\"Подготовка-1\"><span class=\"toc-item-num\">1&nbsp;&nbsp;</span>Подготовка</a></span></li><li><span><a href=\"#Обучение\" data-toc-modified-id=\"Обучение-2\"><span class=\"toc-item-num\">2&nbsp;&nbsp;</span>Обучение</a></span></li><li><span><a href=\"#Выводы\" data-toc-modified-id=\"Выводы-3\"><span class=\"toc-item-num\">3&nbsp;&nbsp;</span>Выводы</a></span></li><li><span><a href=\"#Чек-лист-проверки\" data-toc-modified-id=\"Чек-лист-проверки-4\"><span class=\"toc-item-num\">4&nbsp;&nbsp;</span>Чек-лист проверки</a></span></li></ul></div>"
   ]
  },
  {
   "cell_type": "markdown",
   "metadata": {},
   "source": [
    "# Проект для «Викишоп»"
   ]
  },
  {
   "cell_type": "markdown",
   "metadata": {},
   "source": [
    "Интернет-магазин «Викишоп» запускает новый сервис. Теперь пользователи могут редактировать и дополнять описания товаров, как в вики-сообществах. То есть клиенты предлагают свои правки и комментируют изменения других. Магазину нужен инструмент, который будет искать токсичные комментарии и отправлять их на модерацию. \n",
    "\n",
    "Обучите модель классифицировать комментарии на позитивные и негативные. В вашем распоряжении набор данных с разметкой о токсичности правок.\n",
    "\n",
    "Постройте модель со значением метрики качества *F1* не меньше 0.75. \n",
    "\n",
    "**Инструкция по выполнению проекта**\n",
    "\n",
    "1. Загрузите и подготовьте данные.\n",
    "2. Обучите разные модели. \n",
    "3. Сделайте выводы.\n",
    "\n",
    "Для выполнения проекта применять *BERT* необязательно, но вы можете попробовать.\n",
    "\n",
    "**Описание данных**\n",
    "\n",
    "Данные находятся в файле `toxic_comments.csv`. Столбец *text* в нём содержит текст комментария, а *toxic* — целевой признак."
   ]
  },
  {
   "cell_type": "markdown",
   "metadata": {},
   "source": [
    "Данный проект направлен на построение модели, которая сможет отфильтровывать комменарии с неподходящей, для платформы, лексикой. "
   ]
  },
  {
   "cell_type": "markdown",
   "metadata": {},
   "source": [
    "## Подготовка"
   ]
  },
  {
   "cell_type": "markdown",
   "metadata": {},
   "source": [
    "Устанавливаем необходимые библиотеки."
   ]
  },
  {
   "cell_type": "code",
   "execution_count": 1,
   "metadata": {},
   "outputs": [
    {
     "name": "stdout",
     "output_type": "stream",
     "text": [
      "Requirement already satisfied: spacy in /opt/conda/lib/python3.9/site-packages (3.2.0)\n",
      "Requirement already satisfied: setuptools in /opt/conda/lib/python3.9/site-packages (from spacy) (49.6.0.post20210108)\n",
      "Requirement already satisfied: cymem<2.1.0,>=2.0.2 in /opt/conda/lib/python3.9/site-packages (from spacy) (2.0.6)\n",
      "Requirement already satisfied: thinc<8.1.0,>=8.0.12 in /opt/conda/lib/python3.9/site-packages (from spacy) (8.0.17)\n",
      "Requirement already satisfied: catalogue<2.1.0,>=2.0.6 in /opt/conda/lib/python3.9/site-packages (from spacy) (2.0.8)\n",
      "Requirement already satisfied: typer<0.5.0,>=0.3.0 in /opt/conda/lib/python3.9/site-packages (from spacy) (0.4.2)\n",
      "Requirement already satisfied: murmurhash<1.1.0,>=0.28.0 in /opt/conda/lib/python3.9/site-packages (from spacy) (1.0.8)\n",
      "Requirement already satisfied: spacy-legacy<3.1.0,>=3.0.8 in /opt/conda/lib/python3.9/site-packages (from spacy) (3.0.10)\n",
      "Requirement already satisfied: packaging>=20.0 in /opt/conda/lib/python3.9/site-packages (from spacy) (21.3)\n",
      "Requirement already satisfied: numpy>=1.15.0 in /opt/conda/lib/python3.9/site-packages (from spacy) (1.21.1)\n",
      "Requirement already satisfied: tqdm<5.0.0,>=4.38.0 in /opt/conda/lib/python3.9/site-packages (from spacy) (4.61.2)\n",
      "Requirement already satisfied: langcodes<4.0.0,>=3.2.0 in /opt/conda/lib/python3.9/site-packages (from spacy) (3.3.0)\n",
      "Requirement already satisfied: srsly<3.0.0,>=2.4.1 in /opt/conda/lib/python3.9/site-packages (from spacy) (2.4.4)\n",
      "Requirement already satisfied: preshed<3.1.0,>=3.0.2 in /opt/conda/lib/python3.9/site-packages (from spacy) (3.0.7)\n",
      "Requirement already satisfied: wasabi<1.1.0,>=0.8.1 in /opt/conda/lib/python3.9/site-packages (from spacy) (0.10.1)\n",
      "Requirement already satisfied: spacy-loggers<2.0.0,>=1.0.0 in /opt/conda/lib/python3.9/site-packages (from spacy) (1.0.3)\n",
      "Requirement already satisfied: pathy>=0.3.5 in /opt/conda/lib/python3.9/site-packages (from spacy) (0.6.2)\n",
      "Requirement already satisfied: requests<3.0.0,>=2.13.0 in /opt/conda/lib/python3.9/site-packages (from spacy) (2.25.1)\n",
      "Requirement already satisfied: pydantic!=1.8,!=1.8.1,<1.9.0,>=1.7.4 in /opt/conda/lib/python3.9/site-packages (from spacy) (1.8.2)\n",
      "Requirement already satisfied: blis<0.8.0,>=0.4.0 in /opt/conda/lib/python3.9/site-packages (from spacy) (0.7.8)\n",
      "Requirement already satisfied: jinja2 in /opt/conda/lib/python3.9/site-packages (from spacy) (3.0.1)\n",
      "Requirement already satisfied: pyparsing!=3.0.5,>=2.0.2 in /opt/conda/lib/python3.9/site-packages (from packaging>=20.0->spacy) (2.4.7)\n",
      "Requirement already satisfied: smart-open<6.0.0,>=5.2.1 in /opt/conda/lib/python3.9/site-packages (from pathy>=0.3.5->spacy) (5.2.1)\n",
      "Requirement already satisfied: typing-extensions>=3.7.4.3 in /opt/conda/lib/python3.9/site-packages (from pydantic!=1.8,!=1.8.1,<1.9.0,>=1.7.4->spacy) (4.3.0)\n",
      "Requirement already satisfied: certifi>=2017.4.17 in /opt/conda/lib/python3.9/site-packages (from requests<3.0.0,>=2.13.0->spacy) (2022.6.15)\n",
      "Requirement already satisfied: urllib3<1.27,>=1.21.1 in /opt/conda/lib/python3.9/site-packages (from requests<3.0.0,>=2.13.0->spacy) (1.26.6)\n",
      "Requirement already satisfied: chardet<5,>=3.0.2 in /opt/conda/lib/python3.9/site-packages (from requests<3.0.0,>=2.13.0->spacy) (4.0.0)\n",
      "Requirement already satisfied: idna<3,>=2.5 in /opt/conda/lib/python3.9/site-packages (from requests<3.0.0,>=2.13.0->spacy) (2.10)\n",
      "Requirement already satisfied: click<9.0.0,>=7.1.1 in /opt/conda/lib/python3.9/site-packages (from typer<0.5.0,>=0.3.0->spacy) (8.1.3)\n",
      "Requirement already satisfied: MarkupSafe>=2.0 in /opt/conda/lib/python3.9/site-packages (from jinja2->spacy) (2.1.1)\n",
      "\u001b[38;5;3m⚠ As of spaCy v3.0, shortcuts like 'en' are deprecated. Please use the\n",
      "full pipeline package name 'en_core_web_sm' instead.\u001b[0m\n",
      "Collecting en-core-web-sm==3.2.0\n",
      "  Downloading https://github.com/explosion/spacy-models/releases/download/en_core_web_sm-3.2.0/en_core_web_sm-3.2.0-py3-none-any.whl (13.9 MB)\n",
      "\u001b[K     |████████████████████████████████| 13.9 MB 2.4 MB/s eta 0:00:01    |▉                               | 348 kB 2.4 MB/s eta 0:00:06\n",
      "\u001b[?25hRequirement already satisfied: spacy<3.3.0,>=3.2.0 in /opt/conda/lib/python3.9/site-packages (from en-core-web-sm==3.2.0) (3.2.0)\n",
      "Requirement already satisfied: spacy-loggers<2.0.0,>=1.0.0 in /opt/conda/lib/python3.9/site-packages (from spacy<3.3.0,>=3.2.0->en-core-web-sm==3.2.0) (1.0.3)\n",
      "Requirement already satisfied: setuptools in /opt/conda/lib/python3.9/site-packages (from spacy<3.3.0,>=3.2.0->en-core-web-sm==3.2.0) (49.6.0.post20210108)\n",
      "Requirement already satisfied: jinja2 in /opt/conda/lib/python3.9/site-packages (from spacy<3.3.0,>=3.2.0->en-core-web-sm==3.2.0) (3.0.1)\n",
      "Requirement already satisfied: typer<0.5.0,>=0.3.0 in /opt/conda/lib/python3.9/site-packages (from spacy<3.3.0,>=3.2.0->en-core-web-sm==3.2.0) (0.4.2)\n",
      "Requirement already satisfied: pydantic!=1.8,!=1.8.1,<1.9.0,>=1.7.4 in /opt/conda/lib/python3.9/site-packages (from spacy<3.3.0,>=3.2.0->en-core-web-sm==3.2.0) (1.8.2)\n",
      "Requirement already satisfied: catalogue<2.1.0,>=2.0.6 in /opt/conda/lib/python3.9/site-packages (from spacy<3.3.0,>=3.2.0->en-core-web-sm==3.2.0) (2.0.8)\n",
      "Requirement already satisfied: spacy-legacy<3.1.0,>=3.0.8 in /opt/conda/lib/python3.9/site-packages (from spacy<3.3.0,>=3.2.0->en-core-web-sm==3.2.0) (3.0.10)\n",
      "Requirement already satisfied: srsly<3.0.0,>=2.4.1 in /opt/conda/lib/python3.9/site-packages (from spacy<3.3.0,>=3.2.0->en-core-web-sm==3.2.0) (2.4.4)\n",
      "Requirement already satisfied: preshed<3.1.0,>=3.0.2 in /opt/conda/lib/python3.9/site-packages (from spacy<3.3.0,>=3.2.0->en-core-web-sm==3.2.0) (3.0.7)\n",
      "Requirement already satisfied: pathy>=0.3.5 in /opt/conda/lib/python3.9/site-packages (from spacy<3.3.0,>=3.2.0->en-core-web-sm==3.2.0) (0.6.2)\n",
      "Requirement already satisfied: murmurhash<1.1.0,>=0.28.0 in /opt/conda/lib/python3.9/site-packages (from spacy<3.3.0,>=3.2.0->en-core-web-sm==3.2.0) (1.0.8)\n",
      "Requirement already satisfied: blis<0.8.0,>=0.4.0 in /opt/conda/lib/python3.9/site-packages (from spacy<3.3.0,>=3.2.0->en-core-web-sm==3.2.0) (0.7.8)\n",
      "Requirement already satisfied: tqdm<5.0.0,>=4.38.0 in /opt/conda/lib/python3.9/site-packages (from spacy<3.3.0,>=3.2.0->en-core-web-sm==3.2.0) (4.61.2)\n",
      "Requirement already satisfied: thinc<8.1.0,>=8.0.12 in /opt/conda/lib/python3.9/site-packages (from spacy<3.3.0,>=3.2.0->en-core-web-sm==3.2.0) (8.0.17)\n",
      "Requirement already satisfied: wasabi<1.1.0,>=0.8.1 in /opt/conda/lib/python3.9/site-packages (from spacy<3.3.0,>=3.2.0->en-core-web-sm==3.2.0) (0.10.1)\n",
      "Requirement already satisfied: langcodes<4.0.0,>=3.2.0 in /opt/conda/lib/python3.9/site-packages (from spacy<3.3.0,>=3.2.0->en-core-web-sm==3.2.0) (3.3.0)\n",
      "Requirement already satisfied: cymem<2.1.0,>=2.0.2 in /opt/conda/lib/python3.9/site-packages (from spacy<3.3.0,>=3.2.0->en-core-web-sm==3.2.0) (2.0.6)\n",
      "Requirement already satisfied: packaging>=20.0 in /opt/conda/lib/python3.9/site-packages (from spacy<3.3.0,>=3.2.0->en-core-web-sm==3.2.0) (21.3)\n",
      "Requirement already satisfied: numpy>=1.15.0 in /opt/conda/lib/python3.9/site-packages (from spacy<3.3.0,>=3.2.0->en-core-web-sm==3.2.0) (1.21.1)\n",
      "Requirement already satisfied: requests<3.0.0,>=2.13.0 in /opt/conda/lib/python3.9/site-packages (from spacy<3.3.0,>=3.2.0->en-core-web-sm==3.2.0) (2.25.1)\n",
      "Requirement already satisfied: pyparsing!=3.0.5,>=2.0.2 in /opt/conda/lib/python3.9/site-packages (from packaging>=20.0->spacy<3.3.0,>=3.2.0->en-core-web-sm==3.2.0) (2.4.7)\n",
      "Requirement already satisfied: smart-open<6.0.0,>=5.2.1 in /opt/conda/lib/python3.9/site-packages (from pathy>=0.3.5->spacy<3.3.0,>=3.2.0->en-core-web-sm==3.2.0) (5.2.1)\n",
      "Requirement already satisfied: typing-extensions>=3.7.4.3 in /opt/conda/lib/python3.9/site-packages (from pydantic!=1.8,!=1.8.1,<1.9.0,>=1.7.4->spacy<3.3.0,>=3.2.0->en-core-web-sm==3.2.0) (4.3.0)\n",
      "Requirement already satisfied: certifi>=2017.4.17 in /opt/conda/lib/python3.9/site-packages (from requests<3.0.0,>=2.13.0->spacy<3.3.0,>=3.2.0->en-core-web-sm==3.2.0) (2022.6.15)\n",
      "Requirement already satisfied: idna<3,>=2.5 in /opt/conda/lib/python3.9/site-packages (from requests<3.0.0,>=2.13.0->spacy<3.3.0,>=3.2.0->en-core-web-sm==3.2.0) (2.10)\n",
      "Requirement already satisfied: urllib3<1.27,>=1.21.1 in /opt/conda/lib/python3.9/site-packages (from requests<3.0.0,>=2.13.0->spacy<3.3.0,>=3.2.0->en-core-web-sm==3.2.0) (1.26.6)\n",
      "Requirement already satisfied: chardet<5,>=3.0.2 in /opt/conda/lib/python3.9/site-packages (from requests<3.0.0,>=2.13.0->spacy<3.3.0,>=3.2.0->en-core-web-sm==3.2.0) (4.0.0)\n",
      "Requirement already satisfied: click<9.0.0,>=7.1.1 in /opt/conda/lib/python3.9/site-packages (from typer<0.5.0,>=0.3.0->spacy<3.3.0,>=3.2.0->en-core-web-sm==3.2.0) (8.1.3)\n",
      "Requirement already satisfied: MarkupSafe>=2.0 in /opt/conda/lib/python3.9/site-packages (from jinja2->spacy<3.3.0,>=3.2.0->en-core-web-sm==3.2.0) (2.1.1)\n",
      "\u001b[38;5;2m✔ Download and installation successful\u001b[0m\n",
      "You can now load the package via spacy.load('en_core_web_sm')\n"
     ]
    }
   ],
   "source": [
    "import sys\n",
    "!{sys.executable} -m pip install spacy\n",
    "!{sys.executable} -m spacy download en"
   ]
  },
  {
   "cell_type": "code",
   "execution_count": 2,
   "metadata": {},
   "outputs": [],
   "source": [
    "import re\n",
    "import numpy as np\n",
    "import pandas as pd\n",
    "from tqdm import tqdm\n",
    "from sklearn.model_selection import train_test_split\n",
    "from sklearn.metrics import classification_report, f1_score\n",
    "from sklearn.feature_extraction.text import CountVectorizer\n",
    "from sklearn.feature_extraction.text import TfidfVectorizer\n",
    "from sklearn.metrics import accuracy_score\n",
    "import numpy as np\n",
    "import re\n",
    "import nltk\n",
    "from sklearn.datasets import load_files\n",
    "from pymystem3 import Mystem\n",
    "from sklearn.linear_model import LogisticRegression\n",
    "from sklearn.linear_model import LogisticRegressionCV\n",
    "from sklearn.metrics import f1_score\n",
    "from sklearn.dummy import DummyRegressor\n",
    "from nltk.stem import WordNetLemmatizer \n",
    "\n",
    "import pickle\n",
    "from nltk.corpus import stopwords\n",
    "\n",
    "from spacy.tokenizer import Tokenizer\n",
    "from spacy.lang.en import English\n",
    "from sklearn.model_selection import GridSearchCV\n",
    "from sklearn.svm import LinearSVC\n",
    "import spacy\n",
    "\n",
    "\n",
    "\n"
   ]
  },
  {
   "cell_type": "markdown",
   "metadata": {},
   "source": [
    "Скачиваем данные"
   ]
  },
  {
   "cell_type": "code",
   "execution_count": 3,
   "metadata": {},
   "outputs": [],
   "source": [
    "data = pd.read_csv(\"/datasets/toxic_comments.csv\");"
   ]
  },
  {
   "cell_type": "markdown",
   "metadata": {},
   "source": [
    "Порверяем на вылеты, пустые данные, некорректные данные"
   ]
  },
  {
   "cell_type": "code",
   "execution_count": 4,
   "metadata": {
    "scrolled": true
   },
   "outputs": [
    {
     "name": "stdout",
     "output_type": "stream",
     "text": [
      "<class 'pandas.core.frame.DataFrame'>\n",
      "RangeIndex: 159292 entries, 0 to 159291\n",
      "Data columns (total 3 columns):\n",
      " #   Column      Non-Null Count   Dtype \n",
      "---  ------      --------------   ----- \n",
      " 0   Unnamed: 0  159292 non-null  int64 \n",
      " 1   text        159292 non-null  object\n",
      " 2   toxic       159292 non-null  int64 \n",
      "dtypes: int64(2), object(1)\n",
      "memory usage: 3.6+ MB\n"
     ]
    }
   ],
   "source": [
    "data.info()"
   ]
  },
  {
   "cell_type": "code",
   "execution_count": 5,
   "metadata": {},
   "outputs": [
    {
     "data": {
      "text/html": [
       "<div>\n",
       "<style scoped>\n",
       "    .dataframe tbody tr th:only-of-type {\n",
       "        vertical-align: middle;\n",
       "    }\n",
       "\n",
       "    .dataframe tbody tr th {\n",
       "        vertical-align: top;\n",
       "    }\n",
       "\n",
       "    .dataframe thead th {\n",
       "        text-align: right;\n",
       "    }\n",
       "</style>\n",
       "<table border=\"1\" class=\"dataframe\">\n",
       "  <thead>\n",
       "    <tr style=\"text-align: right;\">\n",
       "      <th></th>\n",
       "      <th>Unnamed: 0</th>\n",
       "      <th>text</th>\n",
       "      <th>toxic</th>\n",
       "    </tr>\n",
       "  </thead>\n",
       "  <tbody>\n",
       "    <tr>\n",
       "      <th>0</th>\n",
       "      <td>0</td>\n",
       "      <td>Explanation\\nWhy the edits made under my usern...</td>\n",
       "      <td>0</td>\n",
       "    </tr>\n",
       "    <tr>\n",
       "      <th>1</th>\n",
       "      <td>1</td>\n",
       "      <td>D'aww! He matches this background colour I'm s...</td>\n",
       "      <td>0</td>\n",
       "    </tr>\n",
       "    <tr>\n",
       "      <th>2</th>\n",
       "      <td>2</td>\n",
       "      <td>Hey man, I'm really not trying to edit war. It...</td>\n",
       "      <td>0</td>\n",
       "    </tr>\n",
       "    <tr>\n",
       "      <th>3</th>\n",
       "      <td>3</td>\n",
       "      <td>\"\\nMore\\nI can't make any real suggestions on ...</td>\n",
       "      <td>0</td>\n",
       "    </tr>\n",
       "    <tr>\n",
       "      <th>4</th>\n",
       "      <td>4</td>\n",
       "      <td>You, sir, are my hero. Any chance you remember...</td>\n",
       "      <td>0</td>\n",
       "    </tr>\n",
       "  </tbody>\n",
       "</table>\n",
       "</div>"
      ],
      "text/plain": [
       "   Unnamed: 0                                               text  toxic\n",
       "0           0  Explanation\\nWhy the edits made under my usern...      0\n",
       "1           1  D'aww! He matches this background colour I'm s...      0\n",
       "2           2  Hey man, I'm really not trying to edit war. It...      0\n",
       "3           3  \"\\nMore\\nI can't make any real suggestions on ...      0\n",
       "4           4  You, sir, are my hero. Any chance you remember...      0"
      ]
     },
     "execution_count": 5,
     "metadata": {},
     "output_type": "execute_result"
    }
   ],
   "source": [
    "data.head(5)"
   ]
  },
  {
   "cell_type": "code",
   "execution_count": 6,
   "metadata": {},
   "outputs": [
    {
     "data": {
      "text/plain": [
       "(159292, 3)"
      ]
     },
     "execution_count": 6,
     "metadata": {},
     "output_type": "execute_result"
    }
   ],
   "source": [
    "data.shape"
   ]
  },
  {
   "cell_type": "code",
   "execution_count": 7,
   "metadata": {
    "scrolled": true
   },
   "outputs": [
    {
     "data": {
      "text/plain": [
       "Unnamed: 0    0\n",
       "text          0\n",
       "toxic         0\n",
       "dtype: int64"
      ]
     },
     "execution_count": 7,
     "metadata": {},
     "output_type": "execute_result"
    }
   ],
   "source": [
    "data.isnull().sum()"
   ]
  },
  {
   "cell_type": "code",
   "execution_count": 8,
   "metadata": {
    "scrolled": true
   },
   "outputs": [
    {
     "data": {
      "text/plain": [
       "(159292, 3)"
      ]
     },
     "execution_count": 8,
     "metadata": {},
     "output_type": "execute_result"
    }
   ],
   "source": [
    "data = data.drop_duplicates()\n",
    "data.shape"
   ]
  },
  {
   "cell_type": "code",
   "execution_count": 9,
   "metadata": {
    "scrolled": true
   },
   "outputs": [
    {
     "data": {
      "text/plain": [
       "0    143106\n",
       "1     16186\n",
       "Name: toxic, dtype: int64"
      ]
     },
     "execution_count": 9,
     "metadata": {},
     "output_type": "execute_result"
    }
   ],
   "source": [
    "data['toxic'].value_counts()"
   ]
  },
  {
   "cell_type": "markdown",
   "metadata": {},
   "source": [
    "Разница положительных и отрицательных маркеров около 9 раз. "
   ]
  },
  {
   "cell_type": "markdown",
   "metadata": {},
   "source": [
    "Данные обработаны корректно"
   ]
  },
  {
   "cell_type": "markdown",
   "metadata": {},
   "source": [
    "## Обучение"
   ]
  },
  {
   "cell_type": "markdown",
   "metadata": {},
   "source": [
    "# Лематизация текста/ Создание признаков"
   ]
  },
  {
   "cell_type": "markdown",
   "metadata": {},
   "source": [
    "Делим данные на тестовые и тренировачные данные"
   ]
  },
  {
   "cell_type": "code",
   "execution_count": 10,
   "metadata": {},
   "outputs": [
    {
     "data": {
      "text/html": [
       "<div>\n",
       "<style scoped>\n",
       "    .dataframe tbody tr th:only-of-type {\n",
       "        vertical-align: middle;\n",
       "    }\n",
       "\n",
       "    .dataframe tbody tr th {\n",
       "        vertical-align: top;\n",
       "    }\n",
       "\n",
       "    .dataframe thead th {\n",
       "        text-align: right;\n",
       "    }\n",
       "</style>\n",
       "<table border=\"1\" class=\"dataframe\">\n",
       "  <thead>\n",
       "    <tr style=\"text-align: right;\">\n",
       "      <th></th>\n",
       "      <th>Unnamed: 0</th>\n",
       "      <th>text</th>\n",
       "      <th>toxic</th>\n",
       "    </tr>\n",
       "  </thead>\n",
       "  <tbody>\n",
       "    <tr>\n",
       "      <th>0</th>\n",
       "      <td>0</td>\n",
       "      <td>explanation why the edits made under my userna...</td>\n",
       "      <td>0</td>\n",
       "    </tr>\n",
       "    <tr>\n",
       "      <th>1</th>\n",
       "      <td>1</td>\n",
       "      <td>daww he matches this background colour im seem...</td>\n",
       "      <td>0</td>\n",
       "    </tr>\n",
       "    <tr>\n",
       "      <th>2</th>\n",
       "      <td>2</td>\n",
       "      <td>hey man im really not trying to edit war its j...</td>\n",
       "      <td>0</td>\n",
       "    </tr>\n",
       "    <tr>\n",
       "      <th>3</th>\n",
       "      <td>3</td>\n",
       "      <td>more i cant make any real suggestions on impro...</td>\n",
       "      <td>0</td>\n",
       "    </tr>\n",
       "    <tr>\n",
       "      <th>4</th>\n",
       "      <td>4</td>\n",
       "      <td>you sir are my hero any chance you remember wh...</td>\n",
       "      <td>0</td>\n",
       "    </tr>\n",
       "  </tbody>\n",
       "</table>\n",
       "</div>"
      ],
      "text/plain": [
       "   Unnamed: 0                                               text  toxic\n",
       "0           0  explanation why the edits made under my userna...      0\n",
       "1           1  daww he matches this background colour im seem...      0\n",
       "2           2  hey man im really not trying to edit war its j...      0\n",
       "3           3  more i cant make any real suggestions on impro...      0\n",
       "4           4  you sir are my hero any chance you remember wh...      0"
      ]
     },
     "metadata": {},
     "output_type": "display_data"
    }
   ],
   "source": [
    "def clean(text):\n",
    "    \n",
    "    text = text.lower()    \n",
    "    text = re.sub(r\"(?:\\n|\\r)\", \" \", text)\n",
    "    text = re.sub(r\"[^a-zA-Z ]+\", \"\", text).strip()\n",
    "    \n",
    "    return text\n",
    "\n",
    "data['text'] = data['text'].apply(clean)\n",
    "display(data.head())"
   ]
  },
  {
   "cell_type": "code",
   "execution_count": 11,
   "metadata": {},
   "outputs": [
    {
     "name": "stderr",
     "output_type": "stream",
     "text": [
      "100%|██████████| 159292/159292 [17:48<00:00, 149.14it/s]\n"
     ]
    }
   ],
   "source": [
    "nlp = spacy.load('en_core_web_sm', disable=['parser', 'ner'])\n",
    "\n",
    "def lemmatize(text):\n",
    "    temp = []\n",
    "    for token in nlp(text):\n",
    "        if token.is_stop == False:\n",
    "            temp.append(token.lemma_)\n",
    "    return \" \".join(temp)\n",
    "\n",
    "\n",
    "tqdm.pandas()\n",
    "data['text'] = data['text'].progress_apply(lemmatize)"
   ]
  },
  {
   "cell_type": "code",
   "execution_count": 12,
   "metadata": {},
   "outputs": [],
   "source": [
    "data_train,data_test= train_test_split(data, test_size=0.1, random_state=0)\n",
    "\n",
    "\n"
   ]
  },
  {
   "cell_type": "code",
   "execution_count": 13,
   "metadata": {},
   "outputs": [],
   "source": [
    "corpus_train = data_train['text'].values\n",
    "corpus_test = data_test['text'].values\n"
   ]
  },
  {
   "cell_type": "code",
   "execution_count": 14,
   "metadata": {},
   "outputs": [
    {
     "name": "stdout",
     "output_type": "stream",
     "text": [
      "['replace flip flop flipflop text page move flipflip need delete redirect direction case     aug   utc'\n",
      " 'yearbook greek orthodox church link website verifiable source'\n",
      " 'well luck time   degenerate foodfight not   sad repeat conflict proleft proisrael   enemy enemy thing get mess common cause progressive nazis   sad state affair   suppose easy   disagree action state israel respect palestinian issue grandson nazi not feel right publicly criticise   not holocaust guilt   matter accept legacy grandfather accept measure responsibility action   pointless fight people like slim deserving people fight     god work   thing   want moderate private email conversationsit sound like plan offesive importantly sound like tiff sam spade felonious monk   btw feel free ignore not clue      apr   utc'\n",
      " 'relevence coase therom understand policy implication externalatie new topic find hard coase helpful understand policy implication externality help']\n"
     ]
    }
   ],
   "source": [
    "print(corpus_train[1:5])"
   ]
  },
  {
   "cell_type": "code",
   "execution_count": 15,
   "metadata": {},
   "outputs": [],
   "source": [
    "stopwords = set(stopwords.words('english'))"
   ]
  },
  {
   "cell_type": "markdown",
   "metadata": {},
   "source": [
    "Приводим данные к необходимому виду для обработки моделью"
   ]
  },
  {
   "cell_type": "code",
   "execution_count": 16,
   "metadata": {},
   "outputs": [],
   "source": [
    "count_tf_idf = TfidfVectorizer(stop_words = stopwords)"
   ]
  },
  {
   "cell_type": "code",
   "execution_count": 17,
   "metadata": {},
   "outputs": [],
   "source": [
    "corpus_train = count_tf_idf.fit_transform(corpus_train)\n",
    "corpus_test = count_tf_idf.transform(corpus_test)"
   ]
  },
  {
   "cell_type": "code",
   "execution_count": 18,
   "metadata": {},
   "outputs": [],
   "source": [
    "test_features = data_test.drop(['toxic'], axis=1)\n",
    "test_target =data_test['toxic']"
   ]
  },
  {
   "cell_type": "markdown",
   "metadata": {},
   "source": [
    "# Обучение моделей"
   ]
  },
  {
   "cell_type": "markdown",
   "metadata": {},
   "source": [
    "Возьмем для обучения 2 модели - LogisticRegression, LinearSVC"
   ]
  },
  {
   "cell_type": "code",
   "execution_count": 19,
   "metadata": {
    "scrolled": true
   },
   "outputs": [
    {
     "name": "stdout",
     "output_type": "stream",
     "text": [
      "Fitting 5 folds for each of 3 candidates, totalling 15 fits\n",
      "[CV] END ...............................C=5.0, max_iter=1000; total time= 2.0min\n",
      "[CV] END ...............................C=5.0, max_iter=1000; total time= 1.9min\n",
      "[CV] END ...............................C=5.0, max_iter=1000; total time= 1.4min\n",
      "[CV] END ...............................C=5.0, max_iter=1000; total time= 1.7min\n",
      "[CV] END ...............................C=5.0, max_iter=1000; total time= 1.9min\n",
      "[CV] END ..............................C=10.0, max_iter=1000; total time= 1.8min\n",
      "[CV] END ..............................C=10.0, max_iter=1000; total time= 2.0min\n",
      "[CV] END ..............................C=10.0, max_iter=1000; total time= 2.3min\n",
      "[CV] END ..............................C=10.0, max_iter=1000; total time= 2.2min\n",
      "[CV] END ..............................C=10.0, max_iter=1000; total time= 2.6min\n",
      "[CV] END ..............................C=15.0, max_iter=1000; total time= 2.7min\n",
      "[CV] END ..............................C=15.0, max_iter=1000; total time= 2.5min\n",
      "[CV] END ..............................C=15.0, max_iter=1000; total time= 1.9min\n",
      "[CV] END ..............................C=15.0, max_iter=1000; total time= 2.5min\n",
      "[CV] END ..............................C=15.0, max_iter=1000; total time= 2.6min\n"
     ]
    },
    {
     "data": {
      "text/plain": [
       "GridSearchCV(cv=5, estimator=LogisticRegression(), n_jobs=-1,\n",
       "             param_grid={'C': array([ 5., 10., 15.]), 'max_iter': [1000]},\n",
       "             scoring='f1', verbose=2)"
      ]
     },
     "execution_count": 19,
     "metadata": {},
     "output_type": "execute_result"
    }
   ],
   "source": [
    "parameters = {'C': np.linspace(5, 15, num = 3, endpoint = True),\n",
    "             'max_iter': [1000]}\n",
    "lrm = LogisticRegression()\n",
    "clf = GridSearchCV(lrm, parameters,\n",
    "                  cv=5,\n",
    "                  scoring='f1',\n",
    "                  n_jobs=-1,\n",
    "                  verbose=2)\n",
    "clf.fit(corpus_train, data_train['toxic'])\n"
   ]
  },
  {
   "cell_type": "code",
   "execution_count": 20,
   "metadata": {
    "scrolled": true
   },
   "outputs": [
    {
     "name": "stdout",
     "output_type": "stream",
     "text": [
      "Наилучший показатель f1 на кросс-валидации : 0.769\n",
      "{'C': 10.0, 'max_iter': 1000}\n"
     ]
    }
   ],
   "source": [
    "print(f\"Наилучший показатель f1 на кросс-валидации : {clf.best_score_:.3f}\")\n",
    "print(clf.best_params_)"
   ]
  },
  {
   "cell_type": "code",
   "execution_count": null,
   "metadata": {},
   "outputs": [],
   "source": []
  },
  {
   "cell_type": "code",
   "execution_count": 21,
   "metadata": {},
   "outputs": [],
   "source": [
    "parameters = {'C': np.linspace(5, 15, num = 7, endpoint = True)}\n",
    "lsvcm = LinearSVC(max_iter = 3000)\n",
    "clf_lsvc = GridSearchCV(lsvcm, parameters,\n",
    "                  cv=5,\n",
    "                  scoring='f1',\n",
    "                  n_jobs=-1,\n",
    "                  verbose=2)"
   ]
  },
  {
   "cell_type": "code",
   "execution_count": 22,
   "metadata": {},
   "outputs": [
    {
     "name": "stdout",
     "output_type": "stream",
     "text": [
      "Fitting 5 folds for each of 7 candidates, totalling 35 fits\n",
      "[CV] END ..............................................C=5.0; total time=   3.1s\n",
      "[CV] END ..............................................C=5.0; total time=   3.1s\n",
      "[CV] END ..............................................C=5.0; total time=   2.9s\n",
      "[CV] END ..............................................C=5.0; total time=   2.5s\n",
      "[CV] END ..............................................C=5.0; total time=   2.5s\n",
      "[CV] END ................................C=6.666666666666667; total time=   3.3s\n",
      "[CV] END ................................C=6.666666666666667; total time=   3.4s\n",
      "[CV] END ................................C=6.666666666666667; total time=   3.2s\n",
      "[CV] END ................................C=6.666666666666667; total time=   3.2s\n",
      "[CV] END ................................C=6.666666666666667; total time=   3.2s\n",
      "[CV] END ................................C=8.333333333333334; total time=   4.1s\n",
      "[CV] END ................................C=8.333333333333334; total time=   3.9s\n",
      "[CV] END ................................C=8.333333333333334; total time=   3.7s\n",
      "[CV] END ................................C=8.333333333333334; total time=   3.5s\n",
      "[CV] END ................................C=8.333333333333334; total time=   5.1s\n",
      "[CV] END .............................................C=10.0; total time=   4.0s\n",
      "[CV] END .............................................C=10.0; total time=   4.2s\n",
      "[CV] END .............................................C=10.0; total time=   5.3s\n",
      "[CV] END .............................................C=10.0; total time=   4.3s\n",
      "[CV] END .............................................C=10.0; total time=   5.2s\n",
      "[CV] END ...............................C=11.666666666666668; total time=   5.9s\n",
      "[CV] END ...............................C=11.666666666666668; total time=   4.5s\n",
      "[CV] END ...............................C=11.666666666666668; total time=   5.5s\n",
      "[CV] END ...............................C=11.666666666666668; total time=   4.8s\n",
      "[CV] END ...............................C=11.666666666666668; total time=   5.4s\n",
      "[CV] END ...............................C=13.333333333333334; total time=   5.1s\n",
      "[CV] END ...............................C=13.333333333333334; total time=   5.2s\n",
      "[CV] END ...............................C=13.333333333333334; total time=   5.5s\n",
      "[CV] END ...............................C=13.333333333333334; total time=   6.3s\n",
      "[CV] END ...............................C=13.333333333333334; total time=   5.3s\n",
      "[CV] END .............................................C=15.0; total time=   5.8s\n",
      "[CV] END .............................................C=15.0; total time=   5.6s\n",
      "[CV] END .............................................C=15.0; total time=   7.3s\n",
      "[CV] END .............................................C=15.0; total time=   6.3s\n",
      "[CV] END .............................................C=15.0; total time=   5.6s\n"
     ]
    },
    {
     "data": {
      "text/plain": [
       "GridSearchCV(cv=5, estimator=LinearSVC(max_iter=3000), n_jobs=-1,\n",
       "             param_grid={'C': array([ 5.        ,  6.66666667,  8.33333333, 10.        , 11.66666667,\n",
       "       13.33333333, 15.        ])},\n",
       "             scoring='f1', verbose=2)"
      ]
     },
     "execution_count": 22,
     "metadata": {},
     "output_type": "execute_result"
    }
   ],
   "source": [
    "clf_lsvc.fit(corpus_train, data_train['toxic'])"
   ]
  },
  {
   "cell_type": "code",
   "execution_count": 23,
   "metadata": {
    "scrolled": true
   },
   "outputs": [
    {
     "name": "stdout",
     "output_type": "stream",
     "text": [
      "Наилучший показатель f1 на кросс-валидации : 0.762\n"
     ]
    }
   ],
   "source": [
    "print(f\"Наилучший показатель f1 на кросс-валидации : {clf_lsvc.best_score_:.3f}\")"
   ]
  },
  {
   "cell_type": "markdown",
   "metadata": {},
   "source": [
    "Выбор лучшей модели по метрике F1 (чем больше значение тем модель эффективнее):"
   ]
  },
  {
   "cell_type": "code",
   "execution_count": 24,
   "metadata": {
    "scrolled": true
   },
   "outputs": [
    {
     "name": "stdout",
     "output_type": "stream",
     "text": [
      "Наилучший показатель f1 на кросс-валидации : 0.769\n",
      "Наилучший показатель f1 на кросс-валидации : 0.762\n"
     ]
    }
   ],
   "source": [
    "print(f\"Наилучший показатель f1 на кросс-валидации : {clf.best_score_:.3f}\")\n",
    "print(f\"Наилучший показатель f1 на кросс-валидации : {clf_lsvc.best_score_:.3f}\")"
   ]
  },
  {
   "cell_type": "markdown",
   "metadata": {},
   "source": [
    "Лучше себя показала модель  - LogisticRegression"
   ]
  },
  {
   "cell_type": "markdown",
   "metadata": {},
   "source": [
    "Проверим ее на тестовой выборке"
   ]
  },
  {
   "cell_type": "code",
   "execution_count": 25,
   "metadata": {},
   "outputs": [],
   "source": [
    "clf_lsvc = clf_lsvc.best_estimator_"
   ]
  },
  {
   "cell_type": "code",
   "execution_count": 26,
   "metadata": {
    "scrolled": true
   },
   "outputs": [
    {
     "name": "stdout",
     "output_type": "stream",
     "text": [
      "0.7564102564102565\n"
     ]
    }
   ],
   "source": [
    "predict = clf_lsvc.predict(corpus_test)\n",
    "f1_lr = f1_score(test_target, predict)\n",
    "print(f1_lr)"
   ]
  },
  {
   "cell_type": "markdown",
   "metadata": {},
   "source": [
    "Модель проверена на тестовых данных"
   ]
  },
  {
   "cell_type": "markdown",
   "metadata": {},
   "source": [
    "## Выводы"
   ]
  },
  {
   "cell_type": "markdown",
   "metadata": {},
   "source": [
    "Основная цель проекта - создать модель, которая бы определяля комментраии, которые содержат некоректную лексику. \n",
    "1. Были установлены необходимые библиотеки\n",
    "2. Были скачены и проверены данные. \n",
    "3. Было проверено 2 модели LogisticRegression и LinearSVC - на кросс валидации луший результат показала LogisticRegression\n"
   ]
  }
 ],
 "metadata": {
  "ExecuteTimeLog": [
   {
    "duration": 4772,
    "start_time": "2023-01-29T09:33:32.786Z"
   },
   {
    "duration": 89,
    "start_time": "2023-01-29T09:33:37.562Z"
   },
   {
    "duration": 3468,
    "start_time": "2023-01-29T09:33:49.656Z"
   },
   {
    "duration": 15,
    "start_time": "2023-01-29T09:34:07.677Z"
   },
   {
    "duration": 42,
    "start_time": "2023-01-29T09:34:12.124Z"
   },
   {
    "duration": 4,
    "start_time": "2023-01-29T09:34:24.288Z"
   },
   {
    "duration": 33,
    "start_time": "2023-01-29T09:34:36.636Z"
   },
   {
    "duration": 30,
    "start_time": "2023-01-29T09:34:41.833Z"
   },
   {
    "duration": 252,
    "start_time": "2023-01-29T09:35:00.526Z"
   },
   {
    "duration": 226,
    "start_time": "2023-01-29T09:35:10.278Z"
   },
   {
    "duration": 988,
    "start_time": "2023-01-29T09:35:25.525Z"
   },
   {
    "duration": 618,
    "start_time": "2023-01-29T09:38:19.327Z"
   },
   {
    "duration": 5,
    "start_time": "2023-01-29T09:38:49.381Z"
   },
   {
    "duration": 4,
    "start_time": "2023-01-29T09:39:14.136Z"
   },
   {
    "duration": 39,
    "start_time": "2023-01-29T09:41:13.825Z"
   },
   {
    "duration": 7,
    "start_time": "2023-01-29T09:41:18.512Z"
   },
   {
    "duration": 1868,
    "start_time": "2023-01-29T09:41:18.694Z"
   },
   {
    "duration": 0,
    "start_time": "2023-01-29T09:41:20.564Z"
   },
   {
    "duration": 0,
    "start_time": "2023-01-29T09:41:20.565Z"
   },
   {
    "duration": 0,
    "start_time": "2023-01-29T09:41:20.566Z"
   },
   {
    "duration": 0,
    "start_time": "2023-01-29T09:41:20.568Z"
   },
   {
    "duration": 0,
    "start_time": "2023-01-29T09:41:20.569Z"
   },
   {
    "duration": 4,
    "start_time": "2023-01-29T09:41:27.121Z"
   },
   {
    "duration": 881,
    "start_time": "2023-01-29T09:41:27.128Z"
   },
   {
    "duration": 42,
    "start_time": "2023-01-29T09:41:28.010Z"
   },
   {
    "duration": 4,
    "start_time": "2023-01-29T09:41:28.054Z"
   },
   {
    "duration": 34,
    "start_time": "2023-01-29T09:41:28.060Z"
   },
   {
    "duration": 286,
    "start_time": "2023-01-29T09:41:28.096Z"
   },
   {
    "duration": 26,
    "start_time": "2023-01-29T09:41:28.383Z"
   },
   {
    "duration": 3389,
    "start_time": "2023-01-29T09:56:29.520Z"
   },
   {
    "duration": 3,
    "start_time": "2023-01-29T09:56:49.250Z"
   },
   {
    "duration": 1047,
    "start_time": "2023-01-29T09:57:10.754Z"
   },
   {
    "duration": 898,
    "start_time": "2023-01-29T09:59:41.769Z"
   },
   {
    "duration": 4,
    "start_time": "2023-01-29T10:00:05.185Z"
   },
   {
    "duration": 11,
    "start_time": "2023-01-29T10:00:51.619Z"
   },
   {
    "duration": 39,
    "start_time": "2023-01-29T10:01:00.779Z"
   },
   {
    "duration": 3,
    "start_time": "2023-01-29T10:01:01.218Z"
   },
   {
    "duration": 2461,
    "start_time": "2023-01-29T10:02:19.714Z"
   },
   {
    "duration": 3572,
    "start_time": "2023-01-29T10:02:22.177Z"
   },
   {
    "duration": 35,
    "start_time": "2023-01-29T10:02:25.751Z"
   },
   {
    "duration": 13,
    "start_time": "2023-01-29T10:02:25.788Z"
   },
   {
    "duration": 48,
    "start_time": "2023-01-29T10:02:25.803Z"
   },
   {
    "duration": 287,
    "start_time": "2023-01-29T10:02:25.853Z"
   },
   {
    "duration": 2191,
    "start_time": "2023-01-29T10:02:26.142Z"
   },
   {
    "duration": 1142,
    "start_time": "2023-01-29T10:02:28.334Z"
   },
   {
    "duration": 222,
    "start_time": "2023-01-29T10:02:29.479Z"
   },
   {
    "duration": 3,
    "start_time": "2023-01-29T10:02:29.703Z"
   },
   {
    "duration": 11978,
    "start_time": "2023-01-29T10:02:29.708Z"
   },
   {
    "duration": 119,
    "start_time": "2023-01-29T10:02:57.744Z"
   },
   {
    "duration": 5,
    "start_time": "2023-01-29T10:03:51.525Z"
   },
   {
    "duration": 12,
    "start_time": "2023-01-29T10:03:51.979Z"
   },
   {
    "duration": 75,
    "start_time": "2023-01-29T10:04:21.028Z"
   },
   {
    "duration": 2953,
    "start_time": "2023-01-29T10:04:23.429Z"
   },
   {
    "duration": 3531,
    "start_time": "2023-01-29T10:04:26.384Z"
   },
   {
    "duration": 39,
    "start_time": "2023-01-29T10:04:29.917Z"
   },
   {
    "duration": 9,
    "start_time": "2023-01-29T10:04:29.958Z"
   },
   {
    "duration": 38,
    "start_time": "2023-01-29T10:04:29.970Z"
   },
   {
    "duration": 295,
    "start_time": "2023-01-29T10:04:30.010Z"
   },
   {
    "duration": 2186,
    "start_time": "2023-01-29T10:04:30.307Z"
   },
   {
    "duration": 1026,
    "start_time": "2023-01-29T10:04:32.495Z"
   },
   {
    "duration": 267,
    "start_time": "2023-01-29T10:04:33.524Z"
   },
   {
    "duration": 3,
    "start_time": "2023-01-29T10:04:33.792Z"
   },
   {
    "duration": 12158,
    "start_time": "2023-01-29T10:04:33.797Z"
   },
   {
    "duration": 2,
    "start_time": "2023-01-29T10:04:45.957Z"
   },
   {
    "duration": 21,
    "start_time": "2023-01-29T10:04:45.961Z"
   },
   {
    "duration": 8,
    "start_time": "2023-01-29T10:04:57.036Z"
   },
   {
    "duration": 47,
    "start_time": "2023-01-29T10:04:57.450Z"
   },
   {
    "duration": 2610,
    "start_time": "2023-01-29T10:05:05.000Z"
   },
   {
    "duration": 3681,
    "start_time": "2023-01-29T10:05:07.613Z"
   },
   {
    "duration": 36,
    "start_time": "2023-01-29T10:05:11.296Z"
   },
   {
    "duration": 17,
    "start_time": "2023-01-29T10:05:11.334Z"
   },
   {
    "duration": 54,
    "start_time": "2023-01-29T10:05:11.354Z"
   },
   {
    "duration": 288,
    "start_time": "2023-01-29T10:05:11.409Z"
   },
   {
    "duration": 2227,
    "start_time": "2023-01-29T10:05:11.700Z"
   },
   {
    "duration": 1016,
    "start_time": "2023-01-29T10:05:13.928Z"
   },
   {
    "duration": 257,
    "start_time": "2023-01-29T10:05:14.947Z"
   },
   {
    "duration": 3,
    "start_time": "2023-01-29T10:05:15.206Z"
   },
   {
    "duration": 12535,
    "start_time": "2023-01-29T10:05:15.211Z"
   },
   {
    "duration": 3,
    "start_time": "2023-01-29T10:05:27.749Z"
   },
   {
    "duration": 22,
    "start_time": "2023-01-29T10:05:27.755Z"
   },
   {
    "duration": 72,
    "start_time": "2023-01-29T10:09:43.575Z"
   },
   {
    "duration": 2400,
    "start_time": "2023-01-29T10:09:47.928Z"
   },
   {
    "duration": 3525,
    "start_time": "2023-01-29T10:09:50.330Z"
   },
   {
    "duration": 38,
    "start_time": "2023-01-29T10:09:53.856Z"
   },
   {
    "duration": 11,
    "start_time": "2023-01-29T10:09:53.897Z"
   },
   {
    "duration": 46,
    "start_time": "2023-01-29T10:09:53.911Z"
   },
   {
    "duration": 270,
    "start_time": "2023-01-29T10:09:53.958Z"
   },
   {
    "duration": 2178,
    "start_time": "2023-01-29T10:09:54.230Z"
   },
   {
    "duration": 1047,
    "start_time": "2023-01-29T10:09:56.409Z"
   },
   {
    "duration": 94,
    "start_time": "2023-01-29T10:09:57.459Z"
   },
   {
    "duration": 893,
    "start_time": "2023-01-29T10:10:01.627Z"
   },
   {
    "duration": 929,
    "start_time": "2023-01-29T10:10:16.139Z"
   },
   {
    "duration": 2136,
    "start_time": "2023-01-29T10:10:21.335Z"
   },
   {
    "duration": 3518,
    "start_time": "2023-01-29T10:10:23.473Z"
   },
   {
    "duration": 37,
    "start_time": "2023-01-29T10:10:26.993Z"
   },
   {
    "duration": 29,
    "start_time": "2023-01-29T10:10:27.032Z"
   },
   {
    "duration": 60,
    "start_time": "2023-01-29T10:10:27.065Z"
   },
   {
    "duration": 298,
    "start_time": "2023-01-29T10:10:27.127Z"
   },
   {
    "duration": 186,
    "start_time": "2023-01-29T10:10:27.428Z"
   },
   {
    "duration": 0,
    "start_time": "2023-01-29T10:10:27.616Z"
   },
   {
    "duration": 0,
    "start_time": "2023-01-29T10:10:27.618Z"
   },
   {
    "duration": 1126,
    "start_time": "2023-01-29T10:10:37.328Z"
   },
   {
    "duration": 4,
    "start_time": "2023-01-29T10:10:52.895Z"
   },
   {
    "duration": 856,
    "start_time": "2023-01-29T10:10:52.901Z"
   },
   {
    "duration": 34,
    "start_time": "2023-01-29T10:10:53.759Z"
   },
   {
    "duration": 5,
    "start_time": "2023-01-29T10:10:53.794Z"
   },
   {
    "duration": 58,
    "start_time": "2023-01-29T10:10:53.802Z"
   },
   {
    "duration": 265,
    "start_time": "2023-01-29T10:10:53.861Z"
   },
   {
    "duration": 2120,
    "start_time": "2023-01-29T10:10:54.128Z"
   },
   {
    "duration": 973,
    "start_time": "2023-01-29T10:10:56.251Z"
   },
   {
    "duration": 18,
    "start_time": "2023-01-29T10:10:57.226Z"
   },
   {
    "duration": 165,
    "start_time": "2023-01-29T10:11:11.438Z"
   },
   {
    "duration": 10,
    "start_time": "2023-01-29T10:11:36.420Z"
   },
   {
    "duration": 11,
    "start_time": "2023-01-29T10:12:00.781Z"
   },
   {
    "duration": 3,
    "start_time": "2023-01-29T10:12:18.084Z"
   },
   {
    "duration": 13,
    "start_time": "2023-01-29T10:14:30.894Z"
   },
   {
    "duration": 13,
    "start_time": "2023-01-29T10:14:53.229Z"
   },
   {
    "duration": 4,
    "start_time": "2023-01-29T10:14:59.244Z"
   },
   {
    "duration": 833,
    "start_time": "2023-01-29T10:14:59.251Z"
   },
   {
    "duration": 32,
    "start_time": "2023-01-29T10:15:00.086Z"
   },
   {
    "duration": 28,
    "start_time": "2023-01-29T10:15:00.120Z"
   },
   {
    "duration": 10,
    "start_time": "2023-01-29T10:15:00.151Z"
   },
   {
    "duration": 74,
    "start_time": "2023-01-29T10:15:00.163Z"
   },
   {
    "duration": 292,
    "start_time": "2023-01-29T10:15:00.242Z"
   },
   {
    "duration": 2097,
    "start_time": "2023-01-29T10:15:14.612Z"
   },
   {
    "duration": 3749,
    "start_time": "2023-01-29T10:15:16.711Z"
   },
   {
    "duration": 38,
    "start_time": "2023-01-29T10:15:20.462Z"
   },
   {
    "duration": 31,
    "start_time": "2023-01-29T10:15:20.502Z"
   },
   {
    "duration": 5,
    "start_time": "2023-01-29T10:15:20.539Z"
   },
   {
    "duration": 64,
    "start_time": "2023-01-29T10:15:20.547Z"
   },
   {
    "duration": 282,
    "start_time": "2023-01-29T10:15:20.612Z"
   },
   {
    "duration": 2198,
    "start_time": "2023-01-29T10:15:20.896Z"
   },
   {
    "duration": 1036,
    "start_time": "2023-01-29T10:15:23.097Z"
   },
   {
    "duration": 234,
    "start_time": "2023-01-29T10:15:24.136Z"
   },
   {
    "duration": 3,
    "start_time": "2023-01-29T10:15:24.372Z"
   },
   {
    "duration": 71,
    "start_time": "2023-01-29T10:15:24.377Z"
   },
   {
    "duration": 0,
    "start_time": "2023-01-29T10:15:24.451Z"
   },
   {
    "duration": 4,
    "start_time": "2023-01-29T10:16:04.497Z"
   },
   {
    "duration": 909,
    "start_time": "2023-01-29T10:16:04.503Z"
   },
   {
    "duration": 38,
    "start_time": "2023-01-29T10:16:05.414Z"
   },
   {
    "duration": 9,
    "start_time": "2023-01-29T10:16:05.454Z"
   },
   {
    "duration": 8,
    "start_time": "2023-01-29T10:16:05.465Z"
   },
   {
    "duration": 31,
    "start_time": "2023-01-29T10:16:05.475Z"
   },
   {
    "duration": 290,
    "start_time": "2023-01-29T10:16:05.508Z"
   },
   {
    "duration": 2394,
    "start_time": "2023-01-29T10:16:17.253Z"
   },
   {
    "duration": 3644,
    "start_time": "2023-01-29T10:16:20.434Z"
   },
   {
    "duration": 36,
    "start_time": "2023-01-29T10:16:24.081Z"
   },
   {
    "duration": 20,
    "start_time": "2023-01-29T10:16:25.950Z"
   },
   {
    "duration": 5,
    "start_time": "2023-01-29T10:16:27.716Z"
   },
   {
    "duration": 33,
    "start_time": "2023-01-29T10:16:28.341Z"
   },
   {
    "duration": 281,
    "start_time": "2023-01-29T10:16:28.724Z"
   },
   {
    "duration": 2149,
    "start_time": "2023-01-29T10:16:30.740Z"
   },
   {
    "duration": 1008,
    "start_time": "2023-01-29T10:16:34.341Z"
   },
   {
    "duration": 243,
    "start_time": "2023-01-29T10:16:36.641Z"
   },
   {
    "duration": 4,
    "start_time": "2023-01-29T10:16:38.236Z"
   },
   {
    "duration": 144,
    "start_time": "2023-01-29T10:16:40.597Z"
   },
   {
    "duration": 4,
    "start_time": "2023-01-29T10:16:57.733Z"
   },
   {
    "duration": 4,
    "start_time": "2023-01-29T10:17:08.397Z"
   },
   {
    "duration": 936,
    "start_time": "2023-01-29T10:17:08.638Z"
   },
   {
    "duration": 35,
    "start_time": "2023-01-29T10:17:09.576Z"
   },
   {
    "duration": 26,
    "start_time": "2023-01-29T10:17:09.614Z"
   },
   {
    "duration": 4,
    "start_time": "2023-01-29T10:17:09.642Z"
   },
   {
    "duration": 30,
    "start_time": "2023-01-29T10:17:09.648Z"
   },
   {
    "duration": 277,
    "start_time": "2023-01-29T10:17:09.680Z"
   },
   {
    "duration": 52,
    "start_time": "2023-01-29T10:17:15.398Z"
   },
   {
    "duration": 2266,
    "start_time": "2023-01-29T10:17:21.165Z"
   },
   {
    "duration": 3628,
    "start_time": "2023-01-29T10:17:25.228Z"
   },
   {
    "duration": 40,
    "start_time": "2023-01-29T10:17:28.859Z"
   },
   {
    "duration": 29,
    "start_time": "2023-01-29T10:17:28.901Z"
   },
   {
    "duration": 5,
    "start_time": "2023-01-29T10:17:30.054Z"
   },
   {
    "duration": 34,
    "start_time": "2023-01-29T10:17:31.445Z"
   },
   {
    "duration": 265,
    "start_time": "2023-01-29T10:17:32.757Z"
   },
   {
    "duration": 2110,
    "start_time": "2023-01-29T10:17:35.854Z"
   },
   {
    "duration": 1071,
    "start_time": "2023-01-29T10:17:39.173Z"
   },
   {
    "duration": 225,
    "start_time": "2023-01-29T10:17:41.430Z"
   },
   {
    "duration": 3,
    "start_time": "2023-01-29T10:17:43.529Z"
   },
   {
    "duration": 4,
    "start_time": "2023-01-29T10:17:45.294Z"
   },
   {
    "duration": 114,
    "start_time": "2023-01-29T10:18:38.039Z"
   },
   {
    "duration": 5,
    "start_time": "2023-01-29T10:18:52.493Z"
   },
   {
    "duration": 921,
    "start_time": "2023-01-29T10:18:53.232Z"
   },
   {
    "duration": 32,
    "start_time": "2023-01-29T10:18:54.156Z"
   },
   {
    "duration": 9,
    "start_time": "2023-01-29T10:18:55.068Z"
   },
   {
    "duration": 4,
    "start_time": "2023-01-29T10:18:56.982Z"
   },
   {
    "duration": 28,
    "start_time": "2023-01-29T10:18:58.583Z"
   },
   {
    "duration": 274,
    "start_time": "2023-01-29T10:18:58.931Z"
   },
   {
    "duration": 1426,
    "start_time": "2023-01-29T10:22:53.541Z"
   },
   {
    "duration": 3567,
    "start_time": "2023-01-29T10:22:54.969Z"
   },
   {
    "duration": 34,
    "start_time": "2023-01-29T10:22:58.538Z"
   },
   {
    "duration": 16,
    "start_time": "2023-01-29T10:22:58.573Z"
   },
   {
    "duration": 5,
    "start_time": "2023-01-29T10:22:58.592Z"
   },
   {
    "duration": 30,
    "start_time": "2023-01-29T10:22:58.599Z"
   },
   {
    "duration": 268,
    "start_time": "2023-01-29T10:22:58.631Z"
   },
   {
    "duration": 2076,
    "start_time": "2023-01-29T10:22:58.901Z"
   },
   {
    "duration": 1301,
    "start_time": "2023-01-29T10:23:00.985Z"
   },
   {
    "duration": 153,
    "start_time": "2023-01-29T10:23:02.288Z"
   },
   {
    "duration": 4,
    "start_time": "2023-01-29T10:23:02.443Z"
   },
   {
    "duration": 1251,
    "start_time": "2023-01-29T10:23:02.449Z"
   },
   {
    "duration": 0,
    "start_time": "2023-01-29T10:23:03.701Z"
   },
   {
    "duration": 58,
    "start_time": "2023-01-29T10:23:31.247Z"
   },
   {
    "duration": 11216,
    "start_time": "2023-01-29T10:24:27.956Z"
   },
   {
    "duration": 13,
    "start_time": "2023-01-29T10:24:55.966Z"
   },
   {
    "duration": 5,
    "start_time": "2023-01-29T10:25:11.759Z"
   },
   {
    "duration": 43,
    "start_time": "2023-01-29T10:25:29.593Z"
   },
   {
    "duration": 14,
    "start_time": "2023-01-29T10:26:24.168Z"
   },
   {
    "duration": 30,
    "start_time": "2023-01-29T10:26:32.346Z"
   },
   {
    "duration": 37,
    "start_time": "2023-01-29T10:29:31.793Z"
   },
   {
    "duration": 1471,
    "start_time": "2023-01-29T10:30:02.048Z"
   },
   {
    "duration": 3744,
    "start_time": "2023-01-29T10:30:03.521Z"
   },
   {
    "duration": 34,
    "start_time": "2023-01-29T10:30:07.267Z"
   },
   {
    "duration": 66,
    "start_time": "2023-01-29T10:30:07.303Z"
   },
   {
    "duration": 25,
    "start_time": "2023-01-29T10:30:07.372Z"
   },
   {
    "duration": 116,
    "start_time": "2023-01-29T10:30:07.399Z"
   },
   {
    "duration": 324,
    "start_time": "2023-01-29T10:30:07.517Z"
   },
   {
    "duration": 27,
    "start_time": "2023-01-29T10:30:07.843Z"
   },
   {
    "duration": 2142,
    "start_time": "2023-01-29T10:30:07.872Z"
   },
   {
    "duration": 169,
    "start_time": "2023-01-29T10:30:10.016Z"
   },
   {
    "duration": 0,
    "start_time": "2023-01-29T10:30:10.187Z"
   },
   {
    "duration": 0,
    "start_time": "2023-01-29T10:30:10.189Z"
   },
   {
    "duration": 0,
    "start_time": "2023-01-29T10:30:10.190Z"
   },
   {
    "duration": 0,
    "start_time": "2023-01-29T10:30:10.191Z"
   },
   {
    "duration": 0,
    "start_time": "2023-01-29T10:30:10.193Z"
   },
   {
    "duration": 19,
    "start_time": "2023-01-29T10:30:32.280Z"
   },
   {
    "duration": 953,
    "start_time": "2023-01-29T10:30:40.081Z"
   },
   {
    "duration": 936,
    "start_time": "2023-01-29T10:30:58.987Z"
   },
   {
    "duration": 195,
    "start_time": "2023-01-29T10:31:01.433Z"
   },
   {
    "duration": 3,
    "start_time": "2023-01-29T10:31:03.933Z"
   },
   {
    "duration": 10990,
    "start_time": "2023-01-29T10:31:30.762Z"
   },
   {
    "duration": 57557,
    "start_time": "2023-01-29T10:32:23.729Z"
   },
   {
    "duration": 7,
    "start_time": "2023-01-29T10:34:16.329Z"
   },
   {
    "duration": 17,
    "start_time": "2023-01-29T10:35:30.795Z"
   },
   {
    "duration": 12,
    "start_time": "2023-01-29T10:36:47.554Z"
   },
   {
    "duration": 6,
    "start_time": "2023-01-29T10:37:02.041Z"
   },
   {
    "duration": 13,
    "start_time": "2023-01-29T10:37:05.435Z"
   },
   {
    "duration": 8,
    "start_time": "2023-01-29T10:37:07.388Z"
   },
   {
    "duration": 7,
    "start_time": "2023-01-29T10:37:08.146Z"
   },
   {
    "duration": 824,
    "start_time": "2023-01-29T10:40:44.825Z"
   },
   {
    "duration": 397693,
    "start_time": "2023-01-29T10:40:51.794Z"
   },
   {
    "duration": 478634,
    "start_time": "2023-01-29T10:50:22.559Z"
   },
   {
    "duration": 0,
    "start_time": "2023-01-29T10:58:21.235Z"
   },
   {
    "duration": 0,
    "start_time": "2023-01-29T10:58:21.284Z"
   },
   {
    "duration": 0,
    "start_time": "2023-01-29T10:58:21.285Z"
   },
   {
    "duration": 0,
    "start_time": "2023-01-29T10:58:21.287Z"
   },
   {
    "duration": 0,
    "start_time": "2023-01-29T10:58:21.288Z"
   },
   {
    "duration": 0,
    "start_time": "2023-01-29T10:58:21.289Z"
   },
   {
    "duration": 0,
    "start_time": "2023-01-29T10:58:21.291Z"
   },
   {
    "duration": 0,
    "start_time": "2023-01-29T10:58:21.292Z"
   },
   {
    "duration": 0,
    "start_time": "2023-01-29T10:58:21.293Z"
   },
   {
    "duration": 0,
    "start_time": "2023-01-29T10:58:21.294Z"
   },
   {
    "duration": 0,
    "start_time": "2023-01-29T10:58:21.295Z"
   },
   {
    "duration": 0,
    "start_time": "2023-01-29T10:58:21.296Z"
   },
   {
    "duration": 0,
    "start_time": "2023-01-29T10:58:21.297Z"
   },
   {
    "duration": 0,
    "start_time": "2023-01-29T10:58:21.299Z"
   },
   {
    "duration": 0,
    "start_time": "2023-01-29T10:58:21.300Z"
   },
   {
    "duration": 0,
    "start_time": "2023-01-29T10:58:21.302Z"
   },
   {
    "duration": 0,
    "start_time": "2023-01-29T10:58:21.303Z"
   },
   {
    "duration": 0,
    "start_time": "2023-01-29T10:58:21.305Z"
   },
   {
    "duration": 6,
    "start_time": "2023-01-29T10:58:42.383Z"
   },
   {
    "duration": 923,
    "start_time": "2023-01-29T10:58:45.553Z"
   },
   {
    "duration": 5,
    "start_time": "2023-01-29T10:58:57.480Z"
   },
   {
    "duration": 894,
    "start_time": "2023-01-29T10:58:57.652Z"
   },
   {
    "duration": 46,
    "start_time": "2023-01-29T10:58:58.549Z"
   },
   {
    "duration": 9,
    "start_time": "2023-01-29T10:58:58.598Z"
   },
   {
    "duration": 20,
    "start_time": "2023-01-29T10:58:58.610Z"
   },
   {
    "duration": 39,
    "start_time": "2023-01-29T10:58:58.632Z"
   },
   {
    "duration": 338,
    "start_time": "2023-01-29T10:58:58.686Z"
   },
   {
    "duration": 40,
    "start_time": "2023-01-29T10:59:02.633Z"
   },
   {
    "duration": 1579,
    "start_time": "2023-01-29T10:59:15.554Z"
   },
   {
    "duration": 3923,
    "start_time": "2023-01-29T10:59:17.136Z"
   },
   {
    "duration": 40,
    "start_time": "2023-01-29T10:59:21.061Z"
   },
   {
    "duration": 22,
    "start_time": "2023-01-29T10:59:21.109Z"
   },
   {
    "duration": 5,
    "start_time": "2023-01-29T10:59:21.841Z"
   },
   {
    "duration": 35,
    "start_time": "2023-01-29T10:59:22.006Z"
   },
   {
    "duration": 261,
    "start_time": "2023-01-29T10:59:22.176Z"
   },
   {
    "duration": 41,
    "start_time": "2023-01-29T10:59:24.400Z"
   },
   {
    "duration": 2117,
    "start_time": "2023-01-29T10:59:26.130Z"
   },
   {
    "duration": 1465,
    "start_time": "2023-01-29T10:59:29.407Z"
   },
   {
    "duration": 233,
    "start_time": "2023-01-29T10:59:31.463Z"
   },
   {
    "duration": 4,
    "start_time": "2023-01-29T10:59:32.527Z"
   },
   {
    "duration": 11338,
    "start_time": "2023-01-29T10:59:33.528Z"
   },
   {
    "duration": 224547,
    "start_time": "2023-01-29T11:00:36.437Z"
   },
   {
    "duration": 21,
    "start_time": "2023-01-29T11:04:25.874Z"
   },
   {
    "duration": 12,
    "start_time": "2023-01-29T11:04:28.441Z"
   },
   {
    "duration": 8,
    "start_time": "2023-01-29T11:04:30.487Z"
   },
   {
    "duration": 7,
    "start_time": "2023-01-29T11:04:31.446Z"
   },
   {
    "duration": 59013,
    "start_time": "2023-01-29T11:04:56.984Z"
   },
   {
    "duration": 26,
    "start_time": "2023-01-29T11:06:06.527Z"
   },
   {
    "duration": 200828,
    "start_time": "2023-01-29T11:11:01.783Z"
   },
   {
    "duration": 4,
    "start_time": "2023-01-29T11:17:46.754Z"
   },
   {
    "duration": 197866,
    "start_time": "2023-01-29T11:18:00.825Z"
   },
   {
    "duration": 5,
    "start_time": "2023-01-29T11:33:16.865Z"
   },
   {
    "duration": 940,
    "start_time": "2023-01-29T11:33:16.872Z"
   },
   {
    "duration": 34,
    "start_time": "2023-01-29T11:33:17.814Z"
   },
   {
    "duration": 9,
    "start_time": "2023-01-29T11:33:17.850Z"
   },
   {
    "duration": 24,
    "start_time": "2023-01-29T11:33:17.862Z"
   },
   {
    "duration": 46,
    "start_time": "2023-01-29T11:33:17.889Z"
   },
   {
    "duration": 276,
    "start_time": "2023-01-29T11:33:17.937Z"
   },
   {
    "duration": 30,
    "start_time": "2023-01-29T11:33:18.215Z"
   },
   {
    "duration": 2267,
    "start_time": "2023-01-29T11:33:18.247Z"
   },
   {
    "duration": 913,
    "start_time": "2023-01-29T11:33:20.516Z"
   },
   {
    "duration": 5,
    "start_time": "2023-01-29T11:33:21.431Z"
   },
   {
    "duration": 27,
    "start_time": "2023-01-29T11:33:21.437Z"
   },
   {
    "duration": 11883,
    "start_time": "2023-01-29T11:33:21.466Z"
   },
   {
    "duration": 21,
    "start_time": "2023-01-29T11:33:33.352Z"
   },
   {
    "duration": 0,
    "start_time": "2023-01-29T11:33:33.375Z"
   },
   {
    "duration": 0,
    "start_time": "2023-01-29T11:33:33.385Z"
   },
   {
    "duration": 0,
    "start_time": "2023-01-29T11:33:33.392Z"
   },
   {
    "duration": 13,
    "start_time": "2023-01-29T11:33:48.148Z"
   },
   {
    "duration": 1037532,
    "start_time": "2023-01-29T11:34:12.956Z"
   },
   {
    "duration": 18,
    "start_time": "2023-01-29T11:54:17.477Z"
   },
   {
    "duration": 10,
    "start_time": "2023-01-29T12:06:53.658Z"
   },
   {
    "duration": 6,
    "start_time": "2023-01-29T12:07:14.154Z"
   },
   {
    "duration": 19,
    "start_time": "2023-01-29T12:07:22.511Z"
   },
   {
    "duration": 5,
    "start_time": "2023-01-29T12:09:12.849Z"
   },
   {
    "duration": 966,
    "start_time": "2023-01-29T12:09:12.855Z"
   },
   {
    "duration": 33,
    "start_time": "2023-01-29T12:09:13.822Z"
   },
   {
    "duration": 8,
    "start_time": "2023-01-29T12:09:13.857Z"
   },
   {
    "duration": 19,
    "start_time": "2023-01-29T12:09:13.867Z"
   },
   {
    "duration": 44,
    "start_time": "2023-01-29T12:09:13.890Z"
   },
   {
    "duration": 251,
    "start_time": "2023-01-29T12:09:13.936Z"
   },
   {
    "duration": 35,
    "start_time": "2023-01-29T12:09:14.190Z"
   },
   {
    "duration": 2207,
    "start_time": "2023-01-29T12:09:14.227Z"
   },
   {
    "duration": 948,
    "start_time": "2023-01-29T12:09:16.436Z"
   },
   {
    "duration": 238,
    "start_time": "2023-01-29T12:09:17.388Z"
   },
   {
    "duration": 25,
    "start_time": "2023-01-29T12:09:17.628Z"
   },
   {
    "duration": 1723,
    "start_time": "2023-01-29T12:09:57.578Z"
   },
   {
    "duration": 3838,
    "start_time": "2023-01-29T12:10:00.136Z"
   },
   {
    "duration": 39,
    "start_time": "2023-01-29T12:10:05.882Z"
   },
   {
    "duration": 14,
    "start_time": "2023-01-29T12:10:07.764Z"
   },
   {
    "duration": 4,
    "start_time": "2023-01-29T12:10:08.399Z"
   },
   {
    "duration": 29,
    "start_time": "2023-01-29T12:10:08.844Z"
   },
   {
    "duration": 281,
    "start_time": "2023-01-29T12:10:09.387Z"
   },
   {
    "duration": 28,
    "start_time": "2023-01-29T12:10:11.437Z"
   },
   {
    "duration": 2201,
    "start_time": "2023-01-29T12:10:12.234Z"
   },
   {
    "duration": 956,
    "start_time": "2023-01-29T12:10:15.338Z"
   },
   {
    "duration": 174,
    "start_time": "2023-01-29T12:10:17.748Z"
   },
   {
    "duration": 4,
    "start_time": "2023-01-29T12:10:19.179Z"
   },
   {
    "duration": 11957,
    "start_time": "2023-01-29T12:10:20.236Z"
   },
   {
    "duration": 0,
    "start_time": "2023-01-29T12:18:18.757Z"
   },
   {
    "duration": 7721,
    "start_time": "2023-01-29T12:18:21.014Z"
   },
   {
    "duration": 3,
    "start_time": "2023-01-29T12:18:29.135Z"
   },
   {
    "duration": 2877,
    "start_time": "2023-01-29T14:05:40.736Z"
   },
   {
    "duration": 4090,
    "start_time": "2023-01-29T14:05:43.615Z"
   },
   {
    "duration": 23,
    "start_time": "2023-01-29T14:05:47.707Z"
   },
   {
    "duration": 12,
    "start_time": "2023-01-29T14:05:47.732Z"
   },
   {
    "duration": 4,
    "start_time": "2023-01-29T14:05:47.745Z"
   },
   {
    "duration": 23,
    "start_time": "2023-01-29T14:05:47.750Z"
   },
   {
    "duration": 279,
    "start_time": "2023-01-29T14:05:47.774Z"
   },
   {
    "duration": 19,
    "start_time": "2023-01-29T14:05:58.529Z"
   },
   {
    "duration": 1937,
    "start_time": "2023-01-29T14:06:00.500Z"
   },
   {
    "duration": 915,
    "start_time": "2023-01-29T14:06:02.439Z"
   },
   {
    "duration": 150,
    "start_time": "2023-01-29T14:06:03.357Z"
   },
   {
    "duration": 4,
    "start_time": "2023-01-29T14:06:03.509Z"
   },
   {
    "duration": 9333,
    "start_time": "2023-01-29T14:06:08.871Z"
   },
   {
    "duration": 4,
    "start_time": "2023-01-29T14:06:18.206Z"
   },
   {
    "duration": 1036926,
    "start_time": "2023-01-29T14:06:18.212Z"
   },
   {
    "duration": 69,
    "start_time": "2023-01-29T14:23:35.141Z"
   },
   {
    "duration": 46000,
    "start_time": "2023-01-29T14:23:35.212Z"
   },
   {
    "duration": 144,
    "start_time": "2023-01-29T14:24:21.214Z"
   },
   {
    "duration": 146,
    "start_time": "2023-01-29T14:24:21.360Z"
   },
   {
    "duration": 0,
    "start_time": "2023-01-29T14:24:21.510Z"
   },
   {
    "duration": 1753,
    "start_time": "2023-02-03T06:06:05.843Z"
   },
   {
    "duration": 2396,
    "start_time": "2023-02-03T06:06:09.312Z"
   },
   {
    "duration": 33,
    "start_time": "2023-02-03T06:06:11.710Z"
   },
   {
    "duration": 13,
    "start_time": "2023-02-03T06:06:11.744Z"
   },
   {
    "duration": 4,
    "start_time": "2023-02-03T06:06:12.919Z"
   },
   {
    "duration": 27,
    "start_time": "2023-02-03T06:06:13.336Z"
   },
   {
    "duration": 239,
    "start_time": "2023-02-03T06:06:13.856Z"
   },
   {
    "duration": 116,
    "start_time": "2023-02-03T06:08:38.992Z"
   },
   {
    "duration": 486,
    "start_time": "2023-02-03T06:08:42.542Z"
   },
   {
    "duration": 831,
    "start_time": "2023-02-03T06:08:44.526Z"
   },
   {
    "duration": 30,
    "start_time": "2023-02-03T06:08:45.358Z"
   },
   {
    "duration": 7,
    "start_time": "2023-02-03T06:08:45.389Z"
   },
   {
    "duration": 4,
    "start_time": "2023-02-03T06:08:47.517Z"
   },
   {
    "duration": 26,
    "start_time": "2023-02-03T06:08:48.062Z"
   },
   {
    "duration": 223,
    "start_time": "2023-02-03T06:08:48.456Z"
   },
   {
    "duration": 145,
    "start_time": "2023-02-03T06:08:49.539Z"
   },
   {
    "duration": 153,
    "start_time": "2023-02-03T06:09:08.384Z"
   },
   {
    "duration": 133,
    "start_time": "2023-02-03T06:09:33.625Z"
   },
   {
    "duration": 128,
    "start_time": "2023-02-03T06:09:38.698Z"
   },
   {
    "duration": 118,
    "start_time": "2023-02-03T06:10:27.223Z"
   },
   {
    "duration": 139,
    "start_time": "2023-02-03T06:10:38.159Z"
   },
   {
    "duration": 1097,
    "start_time": "2023-02-03T06:11:23.946Z"
   },
   {
    "duration": 12,
    "start_time": "2023-02-03T06:11:41.282Z"
   },
   {
    "duration": 883,
    "start_time": "2023-02-03T06:11:43.369Z"
   },
   {
    "duration": 31,
    "start_time": "2023-02-03T06:11:44.254Z"
   },
   {
    "duration": 6,
    "start_time": "2023-02-03T06:11:44.287Z"
   },
   {
    "duration": 3,
    "start_time": "2023-02-03T06:11:45.369Z"
   },
   {
    "duration": 27,
    "start_time": "2023-02-03T06:11:45.530Z"
   },
   {
    "duration": 235,
    "start_time": "2023-02-03T06:11:47.234Z"
   },
   {
    "duration": 1231,
    "start_time": "2023-02-03T06:11:47.531Z"
   },
   {
    "duration": 376,
    "start_time": "2023-02-03T06:11:59.793Z"
   },
   {
    "duration": 3,
    "start_time": "2023-02-03T06:13:17.464Z"
   },
   {
    "duration": 6,
    "start_time": "2023-02-03T06:13:43.516Z"
   },
   {
    "duration": 5,
    "start_time": "2023-02-03T06:14:13.675Z"
   },
   {
    "duration": 15,
    "start_time": "2023-02-03T06:35:29.631Z"
   },
   {
    "duration": 858,
    "start_time": "2023-02-03T06:35:31.526Z"
   },
   {
    "duration": 32,
    "start_time": "2023-02-03T06:35:32.386Z"
   },
   {
    "duration": 11,
    "start_time": "2023-02-03T06:35:32.419Z"
   },
   {
    "duration": 8,
    "start_time": "2023-02-03T06:35:32.431Z"
   },
   {
    "duration": 29,
    "start_time": "2023-02-03T06:35:34.245Z"
   },
   {
    "duration": 246,
    "start_time": "2023-02-03T06:35:34.494Z"
   },
   {
    "duration": 6,
    "start_time": "2023-02-03T06:35:35.070Z"
   },
   {
    "duration": 5,
    "start_time": "2023-02-03T06:36:31.848Z"
   },
   {
    "duration": 29,
    "start_time": "2023-02-03T06:36:40.143Z"
   },
   {
    "duration": 5,
    "start_time": "2023-02-03T06:36:40.832Z"
   },
   {
    "duration": 28,
    "start_time": "2023-02-03T06:37:59.982Z"
   },
   {
    "duration": 52,
    "start_time": "2023-02-03T06:38:16.392Z"
   },
   {
    "duration": 21,
    "start_time": "2023-02-03T06:38:27.143Z"
   },
   {
    "duration": 10,
    "start_time": "2023-02-03T06:38:45.770Z"
   },
   {
    "duration": 7,
    "start_time": "2023-02-03T06:39:02.457Z"
   },
   {
    "duration": 41,
    "start_time": "2023-02-03T06:39:20.032Z"
   },
   {
    "duration": 43,
    "start_time": "2023-02-03T06:39:30.423Z"
   },
   {
    "duration": 24,
    "start_time": "2023-02-03T06:39:44.020Z"
   },
   {
    "duration": 7,
    "start_time": "2023-02-03T06:41:52.289Z"
   },
   {
    "duration": 6,
    "start_time": "2023-02-03T06:42:27.529Z"
   },
   {
    "duration": 7,
    "start_time": "2023-02-03T06:42:33.393Z"
   },
   {
    "duration": 8,
    "start_time": "2023-02-03T06:42:45.065Z"
   },
   {
    "duration": 5,
    "start_time": "2023-02-03T06:42:56.162Z"
   },
   {
    "duration": 5,
    "start_time": "2023-02-03T06:43:00.017Z"
   },
   {
    "duration": 26,
    "start_time": "2023-02-03T06:43:04.487Z"
   },
   {
    "duration": 6,
    "start_time": "2023-02-03T06:43:04.863Z"
   },
   {
    "duration": 4,
    "start_time": "2023-02-03T06:43:05.256Z"
   },
   {
    "duration": 5,
    "start_time": "2023-02-03T06:43:13.967Z"
   },
   {
    "duration": 11,
    "start_time": "2023-02-03T06:44:21.402Z"
   },
   {
    "duration": 9,
    "start_time": "2023-02-03T06:44:26.571Z"
   },
   {
    "duration": 7,
    "start_time": "2023-02-03T06:44:36.872Z"
   },
   {
    "duration": 7,
    "start_time": "2023-02-03T06:44:51.356Z"
   },
   {
    "duration": 26,
    "start_time": "2023-02-03T06:44:54.520Z"
   },
   {
    "duration": 7,
    "start_time": "2023-02-03T06:44:54.875Z"
   },
   {
    "duration": 7,
    "start_time": "2023-02-03T06:44:55.267Z"
   },
   {
    "duration": 983,
    "start_time": "2023-02-03T06:45:28.691Z"
   },
   {
    "duration": 22,
    "start_time": "2023-02-03T06:45:36.690Z"
   },
   {
    "duration": 25,
    "start_time": "2023-02-03T06:47:14.961Z"
   },
   {
    "duration": 74,
    "start_time": "2023-02-03T06:47:25.891Z"
   },
   {
    "duration": 236,
    "start_time": "2023-02-03T06:50:11.197Z"
   },
   {
    "duration": 4,
    "start_time": "2023-02-03T06:50:40.541Z"
   },
   {
    "duration": 777,
    "start_time": "2023-02-03T06:50:42.421Z"
   },
   {
    "duration": 26,
    "start_time": "2023-02-03T06:50:43.200Z"
   },
   {
    "duration": 7,
    "start_time": "2023-02-03T06:50:43.228Z"
   },
   {
    "duration": 5,
    "start_time": "2023-02-03T06:50:43.237Z"
   },
   {
    "duration": 31,
    "start_time": "2023-02-03T06:50:43.260Z"
   },
   {
    "duration": 258,
    "start_time": "2023-02-03T06:50:43.433Z"
   },
   {
    "duration": 6,
    "start_time": "2023-02-03T06:50:43.693Z"
   },
   {
    "duration": 32,
    "start_time": "2023-02-03T06:50:46.477Z"
   },
   {
    "duration": 5,
    "start_time": "2023-02-03T06:50:46.978Z"
   },
   {
    "duration": 6,
    "start_time": "2023-02-03T06:50:47.549Z"
   },
   {
    "duration": 21,
    "start_time": "2023-02-03T06:50:48.906Z"
   },
   {
    "duration": 82,
    "start_time": "2023-02-03T06:50:50.460Z"
   },
   {
    "duration": 10,
    "start_time": "2023-02-03T06:50:56.036Z"
   },
   {
    "duration": 5,
    "start_time": "2023-02-03T06:52:04.634Z"
   },
   {
    "duration": 862,
    "start_time": "2023-02-03T06:52:05.141Z"
   },
   {
    "duration": 30,
    "start_time": "2023-02-03T06:52:06.006Z"
   },
   {
    "duration": 7,
    "start_time": "2023-02-03T06:52:06.038Z"
   },
   {
    "duration": 23,
    "start_time": "2023-02-03T06:52:06.047Z"
   },
   {
    "duration": 28,
    "start_time": "2023-02-03T06:52:06.072Z"
   },
   {
    "duration": 240,
    "start_time": "2023-02-03T06:52:06.230Z"
   },
   {
    "duration": 7,
    "start_time": "2023-02-03T06:52:06.473Z"
   },
   {
    "duration": 31,
    "start_time": "2023-02-03T06:52:07.844Z"
   },
   {
    "duration": 6,
    "start_time": "2023-02-03T06:52:08.029Z"
   },
   {
    "duration": 6,
    "start_time": "2023-02-03T06:52:08.181Z"
   },
   {
    "duration": 21,
    "start_time": "2023-02-03T06:52:08.370Z"
   },
   {
    "duration": 86,
    "start_time": "2023-02-03T06:52:08.549Z"
   },
   {
    "duration": 10,
    "start_time": "2023-02-03T06:52:11.098Z"
   },
   {
    "duration": 3,
    "start_time": "2023-02-03T06:52:14.128Z"
   },
   {
    "duration": 12,
    "start_time": "2023-02-03T06:52:14.950Z"
   },
   {
    "duration": 772,
    "start_time": "2023-02-03T06:54:42.269Z"
   },
   {
    "duration": 3,
    "start_time": "2023-02-03T06:56:31.384Z"
   },
   {
    "duration": 2076,
    "start_time": "2023-02-03T06:56:32.068Z"
   },
   {
    "duration": 6,
    "start_time": "2023-02-03T06:57:06.796Z"
   },
   {
    "duration": 779,
    "start_time": "2023-02-03T06:57:07.660Z"
   },
   {
    "duration": 30,
    "start_time": "2023-02-03T06:57:08.441Z"
   },
   {
    "duration": 6,
    "start_time": "2023-02-03T06:57:08.473Z"
   },
   {
    "duration": 6,
    "start_time": "2023-02-03T06:57:08.481Z"
   },
   {
    "duration": 26,
    "start_time": "2023-02-03T06:57:08.523Z"
   },
   {
    "duration": 225,
    "start_time": "2023-02-03T06:57:08.691Z"
   },
   {
    "duration": 6,
    "start_time": "2023-02-03T06:57:08.917Z"
   },
   {
    "duration": 24,
    "start_time": "2023-02-03T06:57:10.124Z"
   },
   {
    "duration": 5,
    "start_time": "2023-02-03T06:57:10.301Z"
   },
   {
    "duration": 6,
    "start_time": "2023-02-03T06:57:10.470Z"
   },
   {
    "duration": 22,
    "start_time": "2023-02-03T06:57:10.621Z"
   },
   {
    "duration": 84,
    "start_time": "2023-02-03T06:57:11.206Z"
   },
   {
    "duration": 3,
    "start_time": "2023-02-03T06:57:12.667Z"
   },
   {
    "duration": 884,
    "start_time": "2023-02-03T06:57:13.215Z"
   },
   {
    "duration": 825,
    "start_time": "2023-02-03T06:58:30.829Z"
   },
   {
    "duration": 806,
    "start_time": "2023-02-03T06:58:44.020Z"
   },
   {
    "duration": 10,
    "start_time": "2023-02-03T06:59:49.020Z"
   },
   {
    "duration": 4,
    "start_time": "2023-02-03T06:59:56.391Z"
   },
   {
    "duration": 50,
    "start_time": "2023-02-03T07:03:14.248Z"
   },
   {
    "duration": 44,
    "start_time": "2023-02-03T07:03:30.185Z"
   },
   {
    "duration": 3494,
    "start_time": "2023-02-03T07:05:58.654Z"
   },
   {
    "duration": 795,
    "start_time": "2023-02-03T07:06:02.150Z"
   },
   {
    "duration": 32,
    "start_time": "2023-02-03T07:06:02.947Z"
   },
   {
    "duration": 8,
    "start_time": "2023-02-03T07:06:02.980Z"
   },
   {
    "duration": 7,
    "start_time": "2023-02-03T07:06:02.989Z"
   },
   {
    "duration": 36,
    "start_time": "2023-02-03T07:06:02.997Z"
   },
   {
    "duration": 238,
    "start_time": "2023-02-03T07:06:03.035Z"
   },
   {
    "duration": 5,
    "start_time": "2023-02-03T07:06:03.275Z"
   },
   {
    "duration": 29,
    "start_time": "2023-02-03T07:06:03.282Z"
   },
   {
    "duration": 5,
    "start_time": "2023-02-03T07:06:03.313Z"
   },
   {
    "duration": 16,
    "start_time": "2023-02-03T07:06:03.319Z"
   },
   {
    "duration": 31,
    "start_time": "2023-02-03T07:06:03.337Z"
   },
   {
    "duration": 80,
    "start_time": "2023-02-03T07:06:03.369Z"
   },
   {
    "duration": 18,
    "start_time": "2023-02-03T07:06:03.450Z"
   },
   {
    "duration": 368,
    "start_time": "2023-02-03T07:06:05.368Z"
   },
   {
    "duration": 233,
    "start_time": "2023-02-03T07:06:05.950Z"
   },
   {
    "duration": 4,
    "start_time": "2023-02-03T07:11:08.392Z"
   },
   {
    "duration": 763,
    "start_time": "2023-02-03T07:11:08.983Z"
   },
   {
    "duration": 34,
    "start_time": "2023-02-03T07:11:09.748Z"
   },
   {
    "duration": 10,
    "start_time": "2023-02-03T07:11:09.784Z"
   },
   {
    "duration": 10,
    "start_time": "2023-02-03T07:11:09.797Z"
   },
   {
    "duration": 26,
    "start_time": "2023-02-03T07:11:09.897Z"
   },
   {
    "duration": 223,
    "start_time": "2023-02-03T07:11:10.070Z"
   },
   {
    "duration": 5,
    "start_time": "2023-02-03T07:11:10.294Z"
   },
   {
    "duration": 27,
    "start_time": "2023-02-03T07:11:13.465Z"
   },
   {
    "duration": 5,
    "start_time": "2023-02-03T07:11:13.889Z"
   },
   {
    "duration": 5,
    "start_time": "2023-02-03T07:11:14.265Z"
   },
   {
    "duration": 25,
    "start_time": "2023-02-03T07:11:14.866Z"
   },
   {
    "duration": 80,
    "start_time": "2023-02-03T07:11:15.505Z"
   },
   {
    "duration": 3,
    "start_time": "2023-02-03T07:11:17.415Z"
   },
   {
    "duration": 3,
    "start_time": "2023-02-03T07:11:21.762Z"
   },
   {
    "duration": 9,
    "start_time": "2023-02-03T07:12:58.547Z"
   },
   {
    "duration": 123322,
    "start_time": "2023-02-03T07:13:31.555Z"
   },
   {
    "duration": 16,
    "start_time": "2023-02-03T07:15:37.787Z"
   },
   {
    "duration": 3,
    "start_time": "2023-02-03T07:16:02.691Z"
   },
   {
    "duration": 1550,
    "start_time": "2023-02-03T07:16:28.778Z"
   },
   {
    "duration": 3,
    "start_time": "2023-02-03T07:16:41.201Z"
   },
   {
    "duration": 3,
    "start_time": "2023-02-03T07:17:20.617Z"
   },
   {
    "duration": 9109,
    "start_time": "2023-02-03T07:17:21.816Z"
   },
   {
    "duration": 3,
    "start_time": "2023-02-03T07:17:47.264Z"
   },
   {
    "duration": 2237381,
    "start_time": "2023-02-03T07:17:58.355Z"
   },
   {
    "duration": 31,
    "start_time": "2023-02-03T07:55:15.738Z"
   },
   {
    "duration": 5,
    "start_time": "2023-02-03T09:27:26.570Z"
   },
   {
    "duration": 773,
    "start_time": "2023-02-03T09:27:26.577Z"
   },
   {
    "duration": 40,
    "start_time": "2023-02-03T09:27:27.351Z"
   },
   {
    "duration": 12,
    "start_time": "2023-02-03T09:27:27.392Z"
   },
   {
    "duration": 6,
    "start_time": "2023-02-03T09:27:27.406Z"
   },
   {
    "duration": 33,
    "start_time": "2023-02-03T09:27:27.413Z"
   },
   {
    "duration": 220,
    "start_time": "2023-02-03T09:27:27.448Z"
   },
   {
    "duration": 5,
    "start_time": "2023-02-03T09:27:27.670Z"
   },
   {
    "duration": 28,
    "start_time": "2023-02-03T09:27:27.677Z"
   },
   {
    "duration": 6,
    "start_time": "2023-02-03T09:27:27.706Z"
   },
   {
    "duration": 20,
    "start_time": "2023-02-03T09:27:27.714Z"
   },
   {
    "duration": 40,
    "start_time": "2023-02-03T09:27:27.736Z"
   },
   {
    "duration": 72,
    "start_time": "2023-02-03T09:27:27.778Z"
   },
   {
    "duration": 16,
    "start_time": "2023-02-03T09:27:27.853Z"
   },
   {
    "duration": 13,
    "start_time": "2023-02-03T09:27:27.870Z"
   },
   {
    "duration": 22,
    "start_time": "2023-02-03T09:27:27.885Z"
   },
   {
    "duration": 128544,
    "start_time": "2023-02-03T09:27:27.909Z"
   },
   {
    "duration": 4,
    "start_time": "2023-02-03T09:29:36.454Z"
   },
   {
    "duration": 4,
    "start_time": "2023-02-03T09:29:36.467Z"
   },
   {
    "duration": 17,
    "start_time": "2023-02-03T09:29:36.473Z"
   },
   {
    "duration": 10179,
    "start_time": "2023-02-03T09:29:36.492Z"
   },
   {
    "duration": 3,
    "start_time": "2023-02-03T09:29:46.673Z"
   },
   {
    "duration": 0,
    "start_time": "2023-02-03T09:38:10.673Z"
   },
   {
    "duration": 7,
    "start_time": "2023-02-03T09:38:15.289Z"
   },
   {
    "duration": 830,
    "start_time": "2023-02-03T09:38:17.647Z"
   },
   {
    "duration": 30,
    "start_time": "2023-02-03T09:38:18.479Z"
   },
   {
    "duration": 7,
    "start_time": "2023-02-03T09:38:18.511Z"
   },
   {
    "duration": 12,
    "start_time": "2023-02-03T09:38:18.520Z"
   },
   {
    "duration": 44,
    "start_time": "2023-02-03T09:38:18.533Z"
   },
   {
    "duration": 230,
    "start_time": "2023-02-03T09:38:18.714Z"
   },
   {
    "duration": 6,
    "start_time": "2023-02-03T09:38:18.947Z"
   },
   {
    "duration": 31,
    "start_time": "2023-02-03T09:38:20.160Z"
   },
   {
    "duration": 6,
    "start_time": "2023-02-03T09:38:20.343Z"
   },
   {
    "duration": 7,
    "start_time": "2023-02-03T09:38:20.527Z"
   },
   {
    "duration": 21,
    "start_time": "2023-02-03T09:38:20.725Z"
   },
   {
    "duration": 87,
    "start_time": "2023-02-03T09:38:20.924Z"
   },
   {
    "duration": 3,
    "start_time": "2023-02-03T09:38:21.119Z"
   },
   {
    "duration": 3,
    "start_time": "2023-02-03T09:38:21.296Z"
   },
   {
    "duration": 3,
    "start_time": "2023-02-03T09:38:21.478Z"
   },
   {
    "duration": 126934,
    "start_time": "2023-02-03T09:38:21.685Z"
   },
   {
    "duration": 3,
    "start_time": "2023-02-03T09:40:28.621Z"
   },
   {
    "duration": 9,
    "start_time": "2023-02-03T09:40:28.625Z"
   },
   {
    "duration": 22,
    "start_time": "2023-02-03T09:40:48.471Z"
   },
   {
    "duration": 9543,
    "start_time": "2023-02-03T09:40:49.207Z"
   },
   {
    "duration": 25,
    "start_time": "2023-02-03T09:41:05.481Z"
   },
   {
    "duration": 5,
    "start_time": "2023-02-03T09:41:40.906Z"
   },
   {
    "duration": 264862,
    "start_time": "2023-02-03T09:42:02.286Z"
   },
   {
    "duration": 46511,
    "start_time": "2023-02-03T09:46:40.092Z"
   },
   {
    "duration": 163567,
    "start_time": "2023-02-03T09:47:27.632Z"
   },
   {
    "duration": 10054,
    "start_time": "2023-02-03T09:50:12.535Z"
   },
   {
    "duration": 373620,
    "start_time": "2023-02-03T09:50:23.052Z"
   },
   {
    "duration": 17,
    "start_time": "2023-02-03T09:57:28.991Z"
   },
   {
    "duration": 4,
    "start_time": "2023-02-03T09:59:00.560Z"
   },
   {
    "duration": 4,
    "start_time": "2023-02-03T09:59:16.216Z"
   },
   {
    "duration": 3923,
    "start_time": "2023-02-03T09:59:30.161Z"
   },
   {
    "duration": 24,
    "start_time": "2023-02-03T10:12:58.468Z"
   },
   {
    "duration": 5,
    "start_time": "2023-02-03T10:13:19.859Z"
   },
   {
    "duration": 25,
    "start_time": "2023-02-03T10:13:27.252Z"
   },
   {
    "duration": 4,
    "start_time": "2023-02-03T10:15:04.441Z"
   },
   {
    "duration": 638001,
    "start_time": "2023-02-03T10:15:06.961Z"
   },
   {
    "duration": 3,
    "start_time": "2023-02-03T10:26:22.413Z"
   },
   {
    "duration": 18,
    "start_time": "2023-02-03T10:26:46.564Z"
   },
   {
    "duration": 19,
    "start_time": "2023-02-03T10:27:20.149Z"
   },
   {
    "duration": 5,
    "start_time": "2023-02-03T10:29:06.141Z"
   },
   {
    "duration": 21,
    "start_time": "2023-02-03T10:29:35.092Z"
   },
   {
    "duration": 64,
    "start_time": "2023-02-03T10:30:46.979Z"
   },
   {
    "duration": 64,
    "start_time": "2023-02-03T10:32:18.677Z"
   },
   {
    "duration": 4309,
    "start_time": "2023-02-03T10:32:48.042Z"
   },
   {
    "duration": 795,
    "start_time": "2023-02-03T10:32:52.353Z"
   },
   {
    "duration": 39,
    "start_time": "2023-02-03T10:32:53.150Z"
   },
   {
    "duration": 15,
    "start_time": "2023-02-03T10:32:53.190Z"
   },
   {
    "duration": 5,
    "start_time": "2023-02-03T10:32:53.207Z"
   },
   {
    "duration": 54,
    "start_time": "2023-02-03T10:32:53.214Z"
   },
   {
    "duration": 240,
    "start_time": "2023-02-03T10:32:53.270Z"
   },
   {
    "duration": 6,
    "start_time": "2023-02-03T10:32:53.512Z"
   },
   {
    "duration": 24,
    "start_time": "2023-02-03T10:32:53.519Z"
   },
   {
    "duration": 22,
    "start_time": "2023-02-03T10:32:53.545Z"
   },
   {
    "duration": 8,
    "start_time": "2023-02-03T10:32:53.569Z"
   },
   {
    "duration": 24,
    "start_time": "2023-02-03T10:32:53.578Z"
   },
   {
    "duration": 126,
    "start_time": "2023-02-03T10:32:53.604Z"
   },
   {
    "duration": 4,
    "start_time": "2023-02-03T10:32:53.732Z"
   },
   {
    "duration": 11,
    "start_time": "2023-02-03T10:32:53.737Z"
   },
   {
    "duration": 7,
    "start_time": "2023-02-03T10:32:53.750Z"
   },
   {
    "duration": 131198,
    "start_time": "2023-02-03T10:32:53.758Z"
   },
   {
    "duration": 4,
    "start_time": "2023-02-03T10:35:04.959Z"
   },
   {
    "duration": 16,
    "start_time": "2023-02-03T10:35:04.967Z"
   },
   {
    "duration": 5,
    "start_time": "2023-02-03T10:35:04.985Z"
   },
   {
    "duration": 10579,
    "start_time": "2023-02-03T10:35:04.991Z"
   },
   {
    "duration": 376799,
    "start_time": "2023-02-03T10:35:15.572Z"
   },
   {
    "duration": 3,
    "start_time": "2023-02-03T10:41:32.373Z"
   },
   {
    "duration": 10,
    "start_time": "2023-02-03T10:41:32.378Z"
   },
   {
    "duration": 677292,
    "start_time": "2023-02-03T10:41:32.389Z"
   },
   {
    "duration": 4,
    "start_time": "2023-02-03T10:52:49.682Z"
   },
   {
    "duration": 400,
    "start_time": "2023-02-03T10:52:49.688Z"
   },
   {
    "duration": 65,
    "start_time": "2023-02-03T10:54:36.059Z"
   },
   {
    "duration": 25,
    "start_time": "2023-02-03T10:55:25.178Z"
   },
   {
    "duration": 6,
    "start_time": "2023-02-03T10:55:36.734Z"
   },
   {
    "duration": 4,
    "start_time": "2023-02-03T10:55:54.789Z"
   },
   {
    "duration": 6,
    "start_time": "2023-02-03T10:56:27.473Z"
   },
   {
    "duration": 5,
    "start_time": "2023-02-03T10:57:40.995Z"
   },
   {
    "duration": 4042,
    "start_time": "2023-02-03T11:01:24.727Z"
   },
   {
    "duration": 868,
    "start_time": "2023-02-03T11:01:28.773Z"
   },
   {
    "duration": 39,
    "start_time": "2023-02-03T11:01:29.643Z"
   },
   {
    "duration": 14,
    "start_time": "2023-02-03T11:01:29.684Z"
   },
   {
    "duration": 4,
    "start_time": "2023-02-03T11:01:29.700Z"
   },
   {
    "duration": 30,
    "start_time": "2023-02-03T11:01:29.706Z"
   },
   {
    "duration": 275,
    "start_time": "2023-02-03T11:01:29.738Z"
   },
   {
    "duration": 8,
    "start_time": "2023-02-03T11:01:30.016Z"
   },
   {
    "duration": 49,
    "start_time": "2023-02-03T11:01:30.026Z"
   },
   {
    "duration": 5,
    "start_time": "2023-02-03T11:01:30.077Z"
   },
   {
    "duration": 12,
    "start_time": "2023-02-03T11:01:30.084Z"
   },
   {
    "duration": 25,
    "start_time": "2023-02-03T11:01:30.097Z"
   },
   {
    "duration": 110,
    "start_time": "2023-02-03T11:01:30.124Z"
   },
   {
    "duration": 3,
    "start_time": "2023-02-03T11:01:30.236Z"
   },
   {
    "duration": 33,
    "start_time": "2023-02-03T11:01:30.241Z"
   },
   {
    "duration": 27,
    "start_time": "2023-02-03T11:01:30.276Z"
   },
   {
    "duration": 134881,
    "start_time": "2023-02-03T11:01:30.305Z"
   },
   {
    "duration": 3,
    "start_time": "2023-02-03T11:03:45.188Z"
   },
   {
    "duration": 9,
    "start_time": "2023-02-03T11:03:45.193Z"
   },
   {
    "duration": 12,
    "start_time": "2023-02-03T11:03:45.204Z"
   },
   {
    "duration": 9840,
    "start_time": "2023-02-03T11:03:45.218Z"
   },
   {
    "duration": 1757826,
    "start_time": "2023-02-03T11:03:55.060Z"
   },
   {
    "duration": 84,
    "start_time": "2023-02-03T11:33:12.887Z"
   },
   {
    "duration": 27,
    "start_time": "2023-02-03T11:33:12.972Z"
   },
   {
    "duration": 208543,
    "start_time": "2023-02-03T11:33:13.000Z"
   },
   {
    "duration": 0,
    "start_time": "2023-02-03T11:36:41.544Z"
   },
   {
    "duration": 0,
    "start_time": "2023-02-03T11:36:41.548Z"
   },
   {
    "duration": 4,
    "start_time": "2023-02-03T11:36:44.252Z"
   },
   {
    "duration": 1086276,
    "start_time": "2023-02-03T11:36:44.904Z"
   },
   {
    "duration": 4,
    "start_time": "2023-02-03T11:55:03.947Z"
   },
   {
    "duration": 19,
    "start_time": "2023-02-03T11:57:01.389Z"
   },
   {
    "duration": 20,
    "start_time": "2023-02-03T11:57:33.301Z"
   },
   {
    "duration": 4,
    "start_time": "2023-02-03T11:58:00.283Z"
   },
   {
    "duration": 4,
    "start_time": "2023-02-03T11:58:18.420Z"
   },
   {
    "duration": 147569,
    "start_time": "2023-02-03T11:58:31.709Z"
   },
   {
    "duration": 32,
    "start_time": "2023-02-03T12:02:46.998Z"
   },
   {
    "duration": 5,
    "start_time": "2023-02-03T12:02:47.679Z"
   },
   {
    "duration": 7,
    "start_time": "2023-02-03T12:02:48.920Z"
   },
   {
    "duration": 22,
    "start_time": "2023-02-03T12:02:50.537Z"
   },
   {
    "duration": 76,
    "start_time": "2023-02-03T12:02:51.299Z"
   },
   {
    "duration": 3,
    "start_time": "2023-02-03T12:02:52.109Z"
   },
   {
    "duration": 3,
    "start_time": "2023-02-03T12:02:52.483Z"
   },
   {
    "duration": 4,
    "start_time": "2023-02-03T12:03:04.798Z"
   },
   {
    "duration": 123458,
    "start_time": "2023-02-03T12:03:07.558Z"
   },
   {
    "duration": 3,
    "start_time": "2023-02-03T12:05:11.018Z"
   },
   {
    "duration": 28,
    "start_time": "2023-02-03T12:05:11.023Z"
   },
   {
    "duration": 33,
    "start_time": "2023-02-03T12:09:13.128Z"
   },
   {
    "duration": 38,
    "start_time": "2023-02-03T12:09:46.291Z"
   },
   {
    "duration": 39,
    "start_time": "2023-02-03T12:16:44.041Z"
   },
   {
    "duration": 36,
    "start_time": "2023-02-03T12:19:29.611Z"
   },
   {
    "duration": 38,
    "start_time": "2023-02-03T12:19:49.966Z"
   },
   {
    "duration": 18,
    "start_time": "2023-02-03T12:20:05.916Z"
   },
   {
    "duration": 5,
    "start_time": "2023-02-03T12:20:12.497Z"
   },
   {
    "duration": 776,
    "start_time": "2023-02-03T12:20:12.504Z"
   },
   {
    "duration": 26,
    "start_time": "2023-02-03T12:20:13.281Z"
   },
   {
    "duration": 17,
    "start_time": "2023-02-03T12:20:13.309Z"
   },
   {
    "duration": 11,
    "start_time": "2023-02-03T12:20:13.328Z"
   },
   {
    "duration": 43,
    "start_time": "2023-02-03T12:20:13.340Z"
   },
   {
    "duration": 223,
    "start_time": "2023-02-03T12:20:13.385Z"
   },
   {
    "duration": 6,
    "start_time": "2023-02-03T12:20:13.609Z"
   },
   {
    "duration": 49,
    "start_time": "2023-02-03T12:20:13.618Z"
   },
   {
    "duration": 6,
    "start_time": "2023-02-03T12:20:13.668Z"
   },
   {
    "duration": 16,
    "start_time": "2023-02-03T12:20:13.676Z"
   },
   {
    "duration": 27,
    "start_time": "2023-02-03T12:20:13.693Z"
   },
   {
    "duration": 88,
    "start_time": "2023-02-03T12:20:13.721Z"
   },
   {
    "duration": 3,
    "start_time": "2023-02-03T12:20:13.811Z"
   },
   {
    "duration": 8,
    "start_time": "2023-02-03T12:20:13.815Z"
   },
   {
    "duration": 9,
    "start_time": "2023-02-03T12:20:13.825Z"
   },
   {
    "duration": 125217,
    "start_time": "2023-02-03T12:20:13.836Z"
   },
   {
    "duration": 3,
    "start_time": "2023-02-03T12:22:19.055Z"
   },
   {
    "duration": 3,
    "start_time": "2023-02-03T12:22:19.067Z"
   },
   {
    "duration": 17,
    "start_time": "2023-02-03T12:22:19.071Z"
   },
   {
    "duration": 9239,
    "start_time": "2023-02-03T12:22:19.090Z"
   },
   {
    "duration": 4602,
    "start_time": "2023-02-05T05:22:39.812Z"
   },
   {
    "duration": 3156,
    "start_time": "2023-02-05T05:22:44.416Z"
   },
   {
    "duration": 24,
    "start_time": "2023-02-05T05:22:47.574Z"
   },
   {
    "duration": 13,
    "start_time": "2023-02-05T05:22:47.600Z"
   },
   {
    "duration": 4,
    "start_time": "2023-02-05T05:22:47.616Z"
   },
   {
    "duration": 23,
    "start_time": "2023-02-05T05:22:47.621Z"
   },
   {
    "duration": 270,
    "start_time": "2023-02-05T05:22:47.646Z"
   },
   {
    "duration": 8,
    "start_time": "2023-02-05T05:22:47.917Z"
   },
   {
    "duration": 22,
    "start_time": "2023-02-05T05:22:47.926Z"
   },
   {
    "duration": 6,
    "start_time": "2023-02-05T05:22:47.949Z"
   },
   {
    "duration": 9,
    "start_time": "2023-02-05T05:22:47.957Z"
   },
   {
    "duration": 61,
    "start_time": "2023-02-05T05:22:47.968Z"
   },
   {
    "duration": 80,
    "start_time": "2023-02-05T05:22:48.031Z"
   },
   {
    "duration": 3,
    "start_time": "2023-02-05T05:22:48.114Z"
   },
   {
    "duration": 9,
    "start_time": "2023-02-05T05:22:48.119Z"
   },
   {
    "duration": 3,
    "start_time": "2023-02-05T05:22:48.130Z"
   },
   {
    "duration": 130894,
    "start_time": "2023-02-05T05:22:48.135Z"
   },
   {
    "duration": 4,
    "start_time": "2023-02-05T05:24:59.030Z"
   },
   {
    "duration": 9,
    "start_time": "2023-02-05T05:24:59.036Z"
   },
   {
    "duration": 4,
    "start_time": "2023-02-05T05:24:59.046Z"
   },
   {
    "duration": 9516,
    "start_time": "2023-02-05T05:24:59.052Z"
   },
   {
    "duration": 1636445,
    "start_time": "2023-02-05T05:25:08.570Z"
   },
   {
    "duration": 5,
    "start_time": "2023-02-05T05:52:25.016Z"
   },
   {
    "duration": 90,
    "start_time": "2023-02-05T05:52:25.022Z"
   },
   {
    "duration": 894497,
    "start_time": "2023-02-05T05:52:25.113Z"
   },
   {
    "duration": 4,
    "start_time": "2023-02-05T06:07:19.611Z"
   },
   {
    "duration": 121003,
    "start_time": "2023-02-05T06:07:19.617Z"
   },
   {
    "duration": 68,
    "start_time": "2023-02-05T06:11:14.039Z"
   },
   {
    "duration": 3,
    "start_time": "2023-02-05T06:11:21.005Z"
   },
   {
    "duration": 113,
    "start_time": "2023-02-05T06:16:40.258Z"
   },
   {
    "duration": 43,
    "start_time": "2023-02-05T06:17:27.256Z"
   },
   {
    "duration": 39,
    "start_time": "2023-02-05T06:17:33.773Z"
   },
   {
    "duration": 8,
    "start_time": "2023-02-05T06:18:21.010Z"
   },
   {
    "duration": 31,
    "start_time": "2023-02-05T06:18:41.900Z"
   },
   {
    "duration": 6,
    "start_time": "2023-02-05T06:18:42.339Z"
   },
   {
    "duration": 31,
    "start_time": "2023-02-05T06:18:52.107Z"
   },
   {
    "duration": 4,
    "start_time": "2023-02-05T06:18:52.827Z"
   },
   {
    "duration": 34,
    "start_time": "2023-02-05T06:19:01.121Z"
   },
   {
    "duration": 4,
    "start_time": "2023-02-05T06:19:01.792Z"
   },
   {
    "duration": 10,
    "start_time": "2023-02-05T06:19:07.474Z"
   },
   {
    "duration": 10,
    "start_time": "2023-02-05T06:19:16.560Z"
   },
   {
    "duration": 4,
    "start_time": "2023-02-05T06:21:04.679Z"
   },
   {
    "duration": 818,
    "start_time": "2023-02-05T06:21:04.685Z"
   },
   {
    "duration": 22,
    "start_time": "2023-02-05T06:21:05.504Z"
   },
   {
    "duration": 7,
    "start_time": "2023-02-05T06:21:05.528Z"
   },
   {
    "duration": 4,
    "start_time": "2023-02-05T06:21:05.536Z"
   },
   {
    "duration": 24,
    "start_time": "2023-02-05T06:21:05.541Z"
   },
   {
    "duration": 282,
    "start_time": "2023-02-05T06:21:05.566Z"
   },
   {
    "duration": 7,
    "start_time": "2023-02-05T06:21:05.849Z"
   },
   {
    "duration": 29,
    "start_time": "2023-02-05T06:21:05.857Z"
   },
   {
    "duration": 4,
    "start_time": "2023-02-05T06:21:05.888Z"
   },
   {
    "duration": 18,
    "start_time": "2023-02-05T06:21:05.894Z"
   },
   {
    "duration": 9,
    "start_time": "2023-02-05T06:21:05.913Z"
   },
   {
    "duration": 17,
    "start_time": "2023-02-05T06:21:05.924Z"
   },
   {
    "duration": 74,
    "start_time": "2023-02-05T06:21:05.942Z"
   },
   {
    "duration": 3,
    "start_time": "2023-02-05T06:21:06.018Z"
   },
   {
    "duration": 13,
    "start_time": "2023-02-05T06:21:06.023Z"
   },
   {
    "duration": 6,
    "start_time": "2023-02-05T06:21:06.038Z"
   },
   {
    "duration": 133675,
    "start_time": "2023-02-05T06:21:06.046Z"
   },
   {
    "duration": 3,
    "start_time": "2023-02-05T06:23:19.723Z"
   },
   {
    "duration": 4,
    "start_time": "2023-02-05T06:23:19.728Z"
   },
   {
    "duration": 18,
    "start_time": "2023-02-05T06:23:19.734Z"
   },
   {
    "duration": 9787,
    "start_time": "2023-02-05T06:23:19.753Z"
   },
   {
    "duration": 1706882,
    "start_time": "2023-02-05T06:23:29.542Z"
   },
   {
    "duration": 84,
    "start_time": "2023-02-05T06:51:56.427Z"
   },
   {
    "duration": 6,
    "start_time": "2023-02-05T06:51:56.512Z"
   },
   {
    "duration": 966862,
    "start_time": "2023-02-05T06:51:56.520Z"
   },
   {
    "duration": 4,
    "start_time": "2023-02-05T07:08:03.384Z"
   },
   {
    "duration": 17,
    "start_time": "2023-02-05T07:08:03.393Z"
   },
   {
    "duration": 19,
    "start_time": "2023-02-05T07:08:03.412Z"
   },
   {
    "duration": 73,
    "start_time": "2023-02-05T07:08:03.433Z"
   },
   {
    "duration": 5395,
    "start_time": "2023-02-05T12:46:43.422Z"
   },
   {
    "duration": 6,
    "start_time": "2023-02-05T12:49:25.784Z"
   },
   {
    "duration": 2468,
    "start_time": "2023-02-05T12:49:27.368Z"
   },
   {
    "duration": 34,
    "start_time": "2023-02-05T12:49:29.838Z"
   },
   {
    "duration": 14,
    "start_time": "2023-02-05T12:49:30.471Z"
   },
   {
    "duration": 4,
    "start_time": "2023-02-05T12:49:31.018Z"
   },
   {
    "duration": 28,
    "start_time": "2023-02-05T12:49:33.118Z"
   },
   {
    "duration": 245,
    "start_time": "2023-02-05T12:49:33.543Z"
   },
   {
    "duration": 7,
    "start_time": "2023-02-05T12:49:34.076Z"
   },
   {
    "duration": 27,
    "start_time": "2023-02-05T12:49:55.695Z"
   },
   {
    "duration": 4,
    "start_time": "2023-02-05T12:49:59.797Z"
   },
   {
    "duration": 3,
    "start_time": "2023-02-05T12:50:02.470Z"
   },
   {
    "duration": 3,
    "start_time": "2023-02-05T12:50:03.334Z"
   },
   {
    "duration": 427,
    "start_time": "2023-02-05T12:50:04.628Z"
   },
   {
    "duration": 552,
    "start_time": "2023-02-05T12:50:36.967Z"
   },
   {
    "duration": 499,
    "start_time": "2023-02-05T12:51:51.518Z"
   },
   {
    "duration": 451,
    "start_time": "2023-02-05T12:54:35.223Z"
   },
   {
    "duration": 483,
    "start_time": "2023-02-05T12:54:56.287Z"
   },
   {
    "duration": 4,
    "start_time": "2023-02-05T12:55:54.966Z"
   },
   {
    "duration": 469,
    "start_time": "2023-02-05T12:55:58.086Z"
   },
   {
    "duration": 11303,
    "start_time": "2023-02-05T13:10:29.033Z"
   },
   {
    "duration": 72,
    "start_time": "2023-02-05T13:10:58.613Z"
   },
   {
    "duration": 6,
    "start_time": "2023-02-05T13:11:19.096Z"
   },
   {
    "duration": 67,
    "start_time": "2023-02-05T13:11:23.570Z"
   },
   {
    "duration": 502,
    "start_time": "2023-02-05T13:11:48.202Z"
   },
   {
    "duration": 53,
    "start_time": "2023-02-05T13:16:39.891Z"
   },
   {
    "duration": 2778,
    "start_time": "2023-02-05T13:16:42.874Z"
   },
   {
    "duration": 67,
    "start_time": "2023-02-05T13:17:25.627Z"
   },
   {
    "duration": 11314,
    "start_time": "2023-02-05T13:17:35.561Z"
   },
   {
    "duration": 5,
    "start_time": "2023-02-05T13:17:46.878Z"
   },
   {
    "duration": 893,
    "start_time": "2023-02-05T13:17:46.885Z"
   },
   {
    "duration": 35,
    "start_time": "2023-02-05T13:17:48.914Z"
   },
   {
    "duration": 8,
    "start_time": "2023-02-05T13:17:51.257Z"
   },
   {
    "duration": 4,
    "start_time": "2023-02-05T13:17:53.116Z"
   },
   {
    "duration": 28,
    "start_time": "2023-02-05T13:17:53.537Z"
   },
   {
    "duration": 261,
    "start_time": "2023-02-05T13:17:54.224Z"
   },
   {
    "duration": 6,
    "start_time": "2023-02-05T13:17:54.795Z"
   },
   {
    "duration": 62,
    "start_time": "2023-02-05T13:18:02.330Z"
   },
   {
    "duration": 2438,
    "start_time": "2023-02-05T13:18:11.251Z"
   },
   {
    "duration": 40,
    "start_time": "2023-02-05T13:19:20.818Z"
   },
   {
    "duration": 2475,
    "start_time": "2023-02-05T13:19:23.059Z"
   },
   {
    "duration": 5,
    "start_time": "2023-02-05T13:20:50.172Z"
   },
   {
    "duration": 791,
    "start_time": "2023-02-05T13:20:50.788Z"
   },
   {
    "duration": 30,
    "start_time": "2023-02-05T13:20:51.580Z"
   },
   {
    "duration": 7,
    "start_time": "2023-02-05T13:20:51.621Z"
   },
   {
    "duration": 7,
    "start_time": "2023-02-05T13:20:51.630Z"
   },
   {
    "duration": 37,
    "start_time": "2023-02-05T13:20:51.732Z"
   },
   {
    "duration": 238,
    "start_time": "2023-02-05T13:20:53.820Z"
   },
   {
    "duration": 7,
    "start_time": "2023-02-05T13:20:54.059Z"
   },
   {
    "duration": 50,
    "start_time": "2023-02-05T13:20:58.732Z"
   },
   {
    "duration": 2451,
    "start_time": "2023-02-05T13:21:05.588Z"
   },
   {
    "duration": 2454,
    "start_time": "2023-02-05T13:21:16.132Z"
   },
   {
    "duration": 2460,
    "start_time": "2023-02-05T13:21:55.643Z"
   },
   {
    "duration": 58,
    "start_time": "2023-02-05T13:22:01.636Z"
   },
   {
    "duration": 2562,
    "start_time": "2023-02-05T13:22:03.252Z"
   },
   {
    "duration": 970479,
    "start_time": "2023-02-05T13:22:09.958Z"
   },
   {
    "duration": 4,
    "start_time": "2023-02-05T13:38:43.931Z"
   },
   {
    "duration": 4,
    "start_time": "2023-02-05T13:39:00.781Z"
   },
   {
    "duration": 25,
    "start_time": "2023-02-05T13:40:25.063Z"
   },
   {
    "duration": 2,
    "start_time": "2023-02-05T13:40:28.114Z"
   },
   {
    "duration": 5122,
    "start_time": "2023-02-05T13:40:31.373Z"
   },
   {
    "duration": 10775,
    "start_time": "2023-02-05T13:44:23.588Z"
   },
   {
    "duration": 6,
    "start_time": "2023-02-05T13:44:34.366Z"
   },
   {
    "duration": 971,
    "start_time": "2023-02-05T13:44:34.374Z"
   },
   {
    "duration": 35,
    "start_time": "2023-02-05T13:44:35.348Z"
   },
   {
    "duration": 8,
    "start_time": "2023-02-05T13:44:35.385Z"
   },
   {
    "duration": 6,
    "start_time": "2023-02-05T13:44:35.395Z"
   },
   {
    "duration": 30,
    "start_time": "2023-02-05T13:44:35.422Z"
   },
   {
    "duration": 262,
    "start_time": "2023-02-05T13:44:35.454Z"
   },
   {
    "duration": 8,
    "start_time": "2023-02-05T13:44:35.720Z"
   },
   {
    "duration": 2695,
    "start_time": "2023-02-05T13:44:35.732Z"
   },
   {
    "duration": 1066452,
    "start_time": "2023-02-05T13:44:38.429Z"
   },
   {
    "duration": 70,
    "start_time": "2023-02-05T14:02:24.884Z"
   },
   {
    "duration": 4,
    "start_time": "2023-02-05T14:02:24.956Z"
   },
   {
    "duration": 6,
    "start_time": "2023-02-05T14:02:24.962Z"
   },
   {
    "duration": 5,
    "start_time": "2023-02-05T14:02:24.970Z"
   },
   {
    "duration": 36,
    "start_time": "2023-02-05T14:02:24.976Z"
   },
   {
    "duration": 5019,
    "start_time": "2023-02-05T14:02:25.014Z"
   },
   {
    "duration": 7,
    "start_time": "2023-02-05T14:02:30.034Z"
   },
   {
    "duration": 2039678,
    "start_time": "2023-02-05T14:02:30.043Z"
   },
   {
    "duration": 4,
    "start_time": "2023-02-05T14:36:29.723Z"
   },
   {
    "duration": 6,
    "start_time": "2023-02-05T14:36:29.728Z"
   },
   {
    "duration": 172368,
    "start_time": "2023-02-05T14:36:29.736Z"
   },
   {
    "duration": 3,
    "start_time": "2023-02-05T14:39:22.105Z"
   },
   {
    "duration": 11,
    "start_time": "2023-02-05T14:39:22.110Z"
   },
   {
    "duration": 14,
    "start_time": "2023-02-05T14:39:22.123Z"
   },
   {
    "duration": 5,
    "start_time": "2023-02-05T14:48:31.260Z"
   },
   {
    "duration": 30,
    "start_time": "2023-02-05T14:48:58.917Z"
   },
   {
    "duration": 4,
    "start_time": "2023-02-05T14:49:00.958Z"
   },
   {
    "duration": 4,
    "start_time": "2023-02-05T14:49:03.603Z"
   },
   {
    "duration": 27,
    "start_time": "2023-02-05T14:49:21.669Z"
   },
   {
    "duration": 4,
    "start_time": "2023-02-05T14:49:29.789Z"
   },
   {
    "duration": 3,
    "start_time": "2023-02-05T14:49:40.380Z"
   },
   {
    "duration": 22,
    "start_time": "2023-02-05T14:54:22.756Z"
   },
   {
    "duration": 27,
    "start_time": "2023-02-05T14:54:46.093Z"
   },
   {
    "duration": 4,
    "start_time": "2023-02-05T14:54:49.437Z"
   },
   {
    "duration": 558,
    "start_time": "2023-02-05T14:54:51.829Z"
   },
   {
    "duration": 47,
    "start_time": "2023-02-05T14:55:13.421Z"
   },
   {
    "duration": 10387,
    "start_time": "2023-02-05T14:55:14.465Z"
   },
   {
    "duration": 3930,
    "start_time": "2023-02-05T14:55:24.855Z"
   },
   {
    "duration": 818,
    "start_time": "2023-02-05T14:55:28.787Z"
   },
   {
    "duration": 33,
    "start_time": "2023-02-05T14:55:29.608Z"
   },
   {
    "duration": 14,
    "start_time": "2023-02-05T14:55:29.643Z"
   },
   {
    "duration": 6,
    "start_time": "2023-02-05T14:55:29.659Z"
   },
   {
    "duration": 33,
    "start_time": "2023-02-05T14:55:29.666Z"
   },
   {
    "duration": 269,
    "start_time": "2023-02-05T14:55:29.701Z"
   },
   {
    "duration": 6,
    "start_time": "2023-02-05T14:55:29.973Z"
   },
   {
    "duration": 2793,
    "start_time": "2023-02-05T14:55:29.981Z"
   },
   {
    "duration": 0,
    "start_time": "2023-02-05T14:55:32.776Z"
   },
   {
    "duration": 0,
    "start_time": "2023-02-05T14:55:32.777Z"
   },
   {
    "duration": 0,
    "start_time": "2023-02-05T14:55:32.779Z"
   },
   {
    "duration": 0,
    "start_time": "2023-02-05T14:55:32.780Z"
   },
   {
    "duration": 0,
    "start_time": "2023-02-05T14:55:32.781Z"
   },
   {
    "duration": 0,
    "start_time": "2023-02-05T14:55:32.782Z"
   },
   {
    "duration": 0,
    "start_time": "2023-02-05T14:55:32.783Z"
   },
   {
    "duration": 0,
    "start_time": "2023-02-05T14:55:32.784Z"
   },
   {
    "duration": 0,
    "start_time": "2023-02-05T14:55:32.786Z"
   },
   {
    "duration": 0,
    "start_time": "2023-02-05T14:55:32.787Z"
   },
   {
    "duration": 0,
    "start_time": "2023-02-05T14:55:32.788Z"
   },
   {
    "duration": 0,
    "start_time": "2023-02-05T14:55:32.789Z"
   },
   {
    "duration": 0,
    "start_time": "2023-02-05T14:55:32.790Z"
   },
   {
    "duration": 0,
    "start_time": "2023-02-05T14:55:32.791Z"
   },
   {
    "duration": 0,
    "start_time": "2023-02-05T14:55:32.792Z"
   },
   {
    "duration": 0,
    "start_time": "2023-02-05T14:55:32.793Z"
   },
   {
    "duration": 1825,
    "start_time": "2023-02-05T15:01:48.373Z"
   },
   {
    "duration": 10669,
    "start_time": "2023-02-05T15:02:11.411Z"
   },
   {
    "duration": 4262,
    "start_time": "2023-02-05T15:02:22.083Z"
   },
   {
    "duration": 889,
    "start_time": "2023-02-05T15:02:26.346Z"
   },
   {
    "duration": 37,
    "start_time": "2023-02-05T15:02:27.237Z"
   },
   {
    "duration": 15,
    "start_time": "2023-02-05T15:02:27.275Z"
   },
   {
    "duration": 29,
    "start_time": "2023-02-05T15:02:27.292Z"
   },
   {
    "duration": 29,
    "start_time": "2023-02-05T15:02:27.323Z"
   },
   {
    "duration": 270,
    "start_time": "2023-02-05T15:02:27.355Z"
   },
   {
    "duration": 7,
    "start_time": "2023-02-05T15:02:27.626Z"
   },
   {
    "duration": 2748,
    "start_time": "2023-02-05T15:02:27.636Z"
   },
   {
    "duration": 1068663,
    "start_time": "2023-02-05T15:02:30.386Z"
   },
   {
    "duration": 25,
    "start_time": "2023-02-05T15:20:19.051Z"
   },
   {
    "duration": 4,
    "start_time": "2023-02-05T15:20:19.077Z"
   },
   {
    "duration": 6,
    "start_time": "2023-02-05T15:20:19.082Z"
   },
   {
    "duration": 7,
    "start_time": "2023-02-05T15:20:19.090Z"
   },
   {
    "duration": 3,
    "start_time": "2023-02-05T15:20:19.120Z"
   },
   {
    "duration": 5233,
    "start_time": "2023-02-05T15:20:19.125Z"
   },
   {
    "duration": 8,
    "start_time": "2023-02-05T15:20:24.360Z"
   },
   {
    "duration": 2044960,
    "start_time": "2023-02-05T15:20:24.370Z"
   },
   {
    "duration": 7,
    "start_time": "2023-02-05T15:54:29.334Z"
   },
   {
    "duration": 7,
    "start_time": "2023-02-05T15:54:29.422Z"
   },
   {
    "duration": 161176,
    "start_time": "2023-02-05T15:54:29.431Z"
   },
   {
    "duration": 3,
    "start_time": "2023-02-05T15:57:10.609Z"
   },
   {
    "duration": 11,
    "start_time": "2023-02-05T15:57:10.613Z"
   },
   {
    "duration": 4,
    "start_time": "2023-02-05T15:57:10.626Z"
   },
   {
    "duration": 11,
    "start_time": "2023-02-05T15:57:10.632Z"
   }
  ],
  "kernelspec": {
   "display_name": "Python 3 (ipykernel)",
   "language": "python",
   "name": "python3"
  },
  "language_info": {
   "codemirror_mode": {
    "name": "ipython",
    "version": 3
   },
   "file_extension": ".py",
   "mimetype": "text/x-python",
   "name": "python",
   "nbconvert_exporter": "python",
   "pygments_lexer": "ipython3",
   "version": "3.9.12"
  },
  "toc": {
   "base_numbering": 1,
   "nav_menu": {},
   "number_sections": true,
   "sideBar": true,
   "skip_h1_title": true,
   "title_cell": "Содержание",
   "title_sidebar": "Contents",
   "toc_cell": true,
   "toc_position": {
    "height": "calc(100% - 180px)",
    "left": "10px",
    "top": "150px",
    "width": "302.391px"
   },
   "toc_section_display": true,
   "toc_window_display": false
  }
 },
 "nbformat": 4,
 "nbformat_minor": 2
}
