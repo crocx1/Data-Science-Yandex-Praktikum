{
 "cells": [
  {
   "cell_type": "markdown",
   "id": "eed07046",
   "metadata": {
    "deletable": false,
    "editable": false,
    "id": "c81daeeb"
   },
   "source": [
    "# Исследование надежности заемщиков"
   ]
  },
  {
   "cell_type": "markdown",
   "id": "8ff668c1",
   "metadata": {
    "deletable": false,
    "editable": false,
    "id": "-G3EJWzf62s6"
   },
   "source": [
    "Это первая часть проекта, она будет проверена автоматически. Вторую часть проверит ревьюер. "
   ]
  },
  {
   "cell_type": "markdown",
   "id": "fb34d926",
   "metadata": {
    "deletable": false,
    "editable": false,
    "id": "744d7639"
   },
   "source": [
    "## Откройте таблицу и изучите общую информацию о данных"
   ]
  },
  {
   "cell_type": "markdown",
   "id": "39b7fdd1",
   "metadata": {
    "deletable": false,
    "editable": false,
    "id": "e7a14c31",
    "tags": [
     "start_task"
    ]
   },
   "source": [
    "**Задание 1. Импортируйте библиотеку pandas. Считайте данные из csv-файла в датафрейм и сохраните в переменную `data`. Путь к файлу:**\n",
    "\n",
    "`/datasets/data.csv`"
   ]
  },
  {
   "cell_type": "code",
   "execution_count": 194,
   "id": "48665e23",
   "metadata": {
    "id": "7bcf75c9"
   },
   "outputs": [],
   "source": [
    "import pandas as pd # импортируйте библиотеку pandas"
   ]
  },
  {
   "cell_type": "code",
   "execution_count": 195,
   "id": "9d7df5ec",
   "metadata": {
    "id": "4d240ee2"
   },
   "outputs": [],
   "source": [
    "data = pd.read_csv('/datasets/data.csv') # прочитайте csv-файл"
   ]
  },
  {
   "cell_type": "markdown",
   "id": "38a05e51",
   "metadata": {
    "deletable": false,
    "editable": false,
    "id": "b8038fe3",
    "tags": [
     "start_task"
    ]
   },
   "source": [
    "**Задание 2. Выведите первые 20 строчек датафрейма `data` на экран.**"
   ]
  },
  {
   "cell_type": "code",
   "execution_count": 196,
   "id": "d1201636",
   "metadata": {
    "id": "2a7cab99"
   },
   "outputs": [
    {
     "name": "stdout",
     "output_type": "stream",
     "text": [
      "    children  days_employed  dob_years            education  education_id  \\\n",
      "0          1   -8437.673028         42               высшее             0   \n",
      "1          1   -4024.803754         36              среднее             1   \n",
      "2          0   -5623.422610         33              Среднее             1   \n",
      "3          3   -4124.747207         32              среднее             1   \n",
      "4          0  340266.072047         53              среднее             1   \n",
      "5          0    -926.185831         27               высшее             0   \n",
      "6          0   -2879.202052         43               высшее             0   \n",
      "7          0    -152.779569         50              СРЕДНЕЕ             1   \n",
      "8          2   -6929.865299         35               ВЫСШЕЕ             0   \n",
      "9          0   -2188.756445         41              среднее             1   \n",
      "10         2   -4171.483647         36               высшее             0   \n",
      "11         0    -792.701887         40              среднее             1   \n",
      "12         0            NaN         65              среднее             1   \n",
      "13         0   -1846.641941         54  неоконченное высшее             2   \n",
      "14         0   -1844.956182         56               высшее             0   \n",
      "15         1    -972.364419         26              среднее             1   \n",
      "16         0   -1719.934226         35              среднее             1   \n",
      "17         0   -2369.999720         33               высшее             0   \n",
      "18         0  400281.136913         53              среднее             1   \n",
      "19         0  -10038.818549         48              СРЕДНЕЕ             1   \n",
      "\n",
      "       family_status  family_status_id gender income_type  debt  \\\n",
      "0    женат / замужем                 0      F   сотрудник     0   \n",
      "1    женат / замужем                 0      F   сотрудник     0   \n",
      "2    женат / замужем                 0      M   сотрудник     0   \n",
      "3    женат / замужем                 0      M   сотрудник     0   \n",
      "4   гражданский брак                 1      F   пенсионер     0   \n",
      "5   гражданский брак                 1      M   компаньон     0   \n",
      "6    женат / замужем                 0      F   компаньон     0   \n",
      "7    женат / замужем                 0      M   сотрудник     0   \n",
      "8   гражданский брак                 1      F   сотрудник     0   \n",
      "9    женат / замужем                 0      M   сотрудник     0   \n",
      "10   женат / замужем                 0      M   компаньон     0   \n",
      "11   женат / замужем                 0      F   сотрудник     0   \n",
      "12  гражданский брак                 1      M   пенсионер     0   \n",
      "13   женат / замужем                 0      F   сотрудник     0   \n",
      "14  гражданский брак                 1      F   компаньон     1   \n",
      "15   женат / замужем                 0      F   сотрудник     0   \n",
      "16   женат / замужем                 0      F   сотрудник     0   \n",
      "17  гражданский брак                 1      M   сотрудник     0   \n",
      "18    вдовец / вдова                 2      F   пенсионер     0   \n",
      "19         в разводе                 3      F   сотрудник     0   \n",
      "\n",
      "     total_income                                 purpose  \n",
      "0   253875.639453                           покупка жилья  \n",
      "1   112080.014102                 приобретение автомобиля  \n",
      "2   145885.952297                           покупка жилья  \n",
      "3   267628.550329              дополнительное образование  \n",
      "4   158616.077870                         сыграть свадьбу  \n",
      "5   255763.565419                           покупка жилья  \n",
      "6   240525.971920                       операции с жильем  \n",
      "7   135823.934197                             образование  \n",
      "8    95856.832424                   на проведение свадьбы  \n",
      "9   144425.938277                 покупка жилья для семьи  \n",
      "10  113943.491460                    покупка недвижимости  \n",
      "11   77069.234271       покупка коммерческой недвижимости  \n",
      "12            NaN                         сыграть свадьбу  \n",
      "13  130458.228857                 приобретение автомобиля  \n",
      "14  165127.911772              покупка жилой недвижимости  \n",
      "15  116820.904450  строительство собственной недвижимости  \n",
      "16  289202.704229                            недвижимость  \n",
      "17   90410.586745              строительство недвижимости  \n",
      "18   56823.777243      на покупку подержанного автомобиля  \n",
      "19  242831.107982            на покупку своего автомобиля  \n"
     ]
    }
   ],
   "source": [
    "print(data.head(20)) # ваш код здесь"
   ]
  },
  {
   "cell_type": "markdown",
   "id": "a8bb291f",
   "metadata": {
    "deletable": false,
    "editable": false,
    "id": "1c12e233",
    "tags": [
     "start_task"
    ]
   },
   "source": [
    "**Задание 3. Выведите основную информацию о датафрейме с помощью метода `info()`.**"
   ]
  },
  {
   "cell_type": "code",
   "execution_count": 197,
   "id": "a252ce78",
   "metadata": {
    "id": "2b757bca"
   },
   "outputs": [
    {
     "name": "stdout",
     "output_type": "stream",
     "text": [
      "<class 'pandas.core.frame.DataFrame'>\n",
      "RangeIndex: 21525 entries, 0 to 21524\n",
      "Data columns (total 12 columns):\n",
      " #   Column            Non-Null Count  Dtype  \n",
      "---  ------            --------------  -----  \n",
      " 0   children          21525 non-null  int64  \n",
      " 1   days_employed     19351 non-null  float64\n",
      " 2   dob_years         21525 non-null  int64  \n",
      " 3   education         21525 non-null  object \n",
      " 4   education_id      21525 non-null  int64  \n",
      " 5   family_status     21525 non-null  object \n",
      " 6   family_status_id  21525 non-null  int64  \n",
      " 7   gender            21525 non-null  object \n",
      " 8   income_type       21525 non-null  object \n",
      " 9   debt              21525 non-null  int64  \n",
      " 10  total_income      19351 non-null  float64\n",
      " 11  purpose           21525 non-null  object \n",
      "dtypes: float64(2), int64(5), object(5)\n",
      "memory usage: 2.0+ MB\n"
     ]
    }
   ],
   "source": [
    "data.info() # ваш код здесь"
   ]
  },
  {
   "cell_type": "markdown",
   "id": "d8d871ed",
   "metadata": {
    "deletable": false,
    "editable": false,
    "id": "333ec665"
   },
   "source": [
    "## Предобработка данных"
   ]
  },
  {
   "cell_type": "markdown",
   "id": "121c8f71",
   "metadata": {
    "deletable": false,
    "editable": false,
    "id": "02d92d53"
   },
   "source": [
    "### Удаление пропусков"
   ]
  },
  {
   "cell_type": "markdown",
   "id": "6eead485",
   "metadata": {
    "deletable": false,
    "editable": false,
    "id": "cd84967c",
    "tags": [
     "start_task"
    ]
   },
   "source": [
    "**Задание 4. Выведите количество пропущенных значений для каждого столбца. Используйте комбинацию двух методов.**"
   ]
  },
  {
   "cell_type": "code",
   "execution_count": 198,
   "id": "6420e69f",
   "metadata": {
    "id": "7f9b2309"
   },
   "outputs": [
    {
     "name": "stdout",
     "output_type": "stream",
     "text": [
      "children               0\n",
      "days_employed       2174\n",
      "dob_years              0\n",
      "education              0\n",
      "education_id           0\n",
      "family_status          0\n",
      "family_status_id       0\n",
      "gender                 0\n",
      "income_type            0\n",
      "debt                   0\n",
      "total_income        2174\n",
      "purpose                0\n",
      "dtype: int64\n"
     ]
    }
   ],
   "source": [
    "print(data.isna().sum()) # ваш код здесь"
   ]
  },
  {
   "cell_type": "markdown",
   "id": "fd83f790",
   "metadata": {
    "deletable": false,
    "editable": false,
    "id": "db86e27b",
    "tags": [
     "start_task"
    ]
   },
   "source": [
    "**Задание 5. В двух столбцах есть пропущенные значения. Один из них — `days_employed`. Пропуски в этом столбце вы обработаете на следующем этапе. Другой столбец с пропущенными значениями — `total_income` — хранит данные о доходах. На сумму дохода сильнее всего влияет тип занятости, поэтому заполнить пропуски в этом столбце нужно медианным значением по каждому типу из столбца `income_type`. Например, у человека с типом занятости `сотрудник` пропуск в столбце `total_income` должен быть заполнен медианным доходом среди всех записей с тем же типом.**"
   ]
  },
  {
   "cell_type": "code",
   "execution_count": 199,
   "id": "95cb64cf",
   "metadata": {
    "id": "42006a93"
   },
   "outputs": [],
   "source": [
    "# цикл, перебирающий все значения в столбце data['income_type']\n",
    "for income_type in data['income_type'].unique():\n",
    "# определим медианную з/п по каждому типу занятости\n",
    "    median_income = data.loc[data['income_type'] == income_type, 'total_income'].median()\n",
    "# срез по типам занятости и пропускам\n",
    "    data.loc[(data['income_type'] == income_type) & (data['total_income'].isna()), 'total_income'] = median_income"
   ]
  },
  {
   "cell_type": "markdown",
   "id": "fe5f4453",
   "metadata": {
    "deletable": false,
    "editable": false,
    "id": "89da5ece"
   },
   "source": [
    "### Обработка аномальных значений"
   ]
  },
  {
   "cell_type": "markdown",
   "id": "fa308a3f",
   "metadata": {
    "deletable": false,
    "editable": false,
    "id": "57964554",
    "tags": [
     "start_task"
    ]
   },
   "source": [
    "**Задание 6. В данных могут встречаться артефакты (аномалии) — значения, которые не отражают действительность и появились по какой-то ошибке. Таким артефактом будет отрицательное количество дней трудового стажа в столбце `days_employed`. Для реальных данных это нормально. Обработайте значения в этом столбце: замените все отрицательные значения положительными с помощью метода `abs()`.**"
   ]
  },
  {
   "cell_type": "code",
   "execution_count": 200,
   "id": "4d725493",
   "metadata": {
    "id": "f6f055bf"
   },
   "outputs": [],
   "source": [
    "data['days_employed'] = data['days_employed'].abs() # ваш код здесь"
   ]
  },
  {
   "cell_type": "markdown",
   "id": "fc621461",
   "metadata": {
    "deletable": false,
    "editable": false,
    "id": "6107dd2f",
    "tags": [
     "start_task"
    ]
   },
   "source": [
    "**Задание 7. Для каждого типа занятости выведите медианное значение трудового стажа `days_employed` в днях.**"
   ]
  },
  {
   "cell_type": "code",
   "execution_count": 201,
   "id": "e482f4d8",
   "metadata": {
    "id": "85a5faf6"
   },
   "outputs": [
    {
     "name": "stdout",
     "output_type": "stream",
     "text": [
      "income_type\n",
      "безработный        366413.652744\n",
      "в декрете            3296.759962\n",
      "госслужащий          2689.368353\n",
      "компаньон            1547.382223\n",
      "пенсионер          365213.306266\n",
      "предприниматель       520.848083\n",
      "сотрудник            1574.202821\n",
      "студент               578.751554\n",
      "Name: days_employed, dtype: float64\n"
     ]
    }
   ],
   "source": [
    "income_days_employed = data.groupby('income_type')['days_employed'].median()\n",
    "print(income_days_employed)# ваш код здесь"
   ]
  },
  {
   "cell_type": "markdown",
   "id": "8c735405",
   "metadata": {
    "deletable": false,
    "editable": false,
    "id": "38d1a030"
   },
   "source": [
    "У двух типов (безработные и пенсионеры) получатся аномально большие значения. Исправить такие значения сложно, поэтому оставьте их как есть. Тем более этот столбец не понадобится вам для исследования."
   ]
  },
  {
   "cell_type": "markdown",
   "id": "3eb782e9",
   "metadata": {
    "deletable": false,
    "editable": false,
    "id": "d8a9f147",
    "tags": [
     "start_task"
    ]
   },
   "source": [
    "**Задание 8. Выведите перечень уникальных значений столбца `children`.**"
   ]
  },
  {
   "cell_type": "code",
   "execution_count": 202,
   "id": "736cbd2c",
   "metadata": {
    "id": "ef5056eb"
   },
   "outputs": [
    {
     "name": "stdout",
     "output_type": "stream",
     "text": [
      "[ 1  0  3  2 -1  4 20  5]\n"
     ]
    }
   ],
   "source": [
    "print(data['children'].unique()) # ваш код здесь"
   ]
  },
  {
   "cell_type": "markdown",
   "id": "f6057151",
   "metadata": {
    "deletable": false,
    "editable": false,
    "id": "40b9ebf2",
    "tags": [
     "start_task"
    ]
   },
   "source": [
    "**Задание 9. В столбце `children` есть два аномальных значения. Удалите строки, в которых встречаются такие аномальные значения из датафрейма `data`.**"
   ]
  },
  {
   "cell_type": "code",
   "execution_count": 203,
   "id": "31e4d401",
   "metadata": {
    "id": "3ff9801d"
   },
   "outputs": [],
   "source": [
    "data = data.loc[(data['children'] != -1) & (data['children'] != 20)] # ваш код здесь"
   ]
  },
  {
   "cell_type": "markdown",
   "id": "c27d5a0e",
   "metadata": {
    "deletable": false,
    "editable": false,
    "id": "bbc4d0ce",
    "tags": [
     "start_task"
    ]
   },
   "source": [
    "**Задание 10. Ещё раз выведите перечень уникальных значений столбца `children`, чтобы убедиться, что артефакты удалены.**"
   ]
  },
  {
   "cell_type": "code",
   "execution_count": 204,
   "id": "e837e642",
   "metadata": {
    "id": "ad4fa8b7"
   },
   "outputs": [
    {
     "name": "stdout",
     "output_type": "stream",
     "text": [
      "[1 0 3 2 4 5]\n"
     ]
    }
   ],
   "source": [
    "print(data['children'].unique()) # ваш код здесь"
   ]
  },
  {
   "cell_type": "markdown",
   "id": "d012590b",
   "metadata": {
    "deletable": false,
    "editable": false,
    "id": "75440b63"
   },
   "source": [
    "### Удаление пропусков (продолжение)"
   ]
  },
  {
   "cell_type": "markdown",
   "id": "6901b086",
   "metadata": {
    "deletable": false,
    "editable": false,
    "id": "f4ea573f",
    "tags": [
     "start_task"
    ]
   },
   "source": [
    "**Задание 11. Заполните пропуски в столбце `days_employed` медианными значениями по каждому типу занятости `income_type`.**"
   ]
  },
  {
   "cell_type": "code",
   "execution_count": 205,
   "id": "5fd2cc47",
   "metadata": {
    "id": "af6b1a7e"
   },
   "outputs": [],
   "source": [
    "for income_type in data['income_type'].unique():\n",
    "    median_days = data.loc[data['income_type'] == income_type, 'days_employed'].median()\n",
    "    data.loc[(data['income_type'] == income_type) & (data['days_employed'].isna()), 'days_employed'] = median_days"
   ]
  },
  {
   "cell_type": "markdown",
   "id": "f87f53bc",
   "metadata": {
    "deletable": false,
    "editable": false,
    "id": "2753f40d",
    "tags": [
     "start_task"
    ]
   },
   "source": [
    "**Задание 12. Убедитесь, что все пропуски заполнены. Проверьте себя и ещё раз выведите количество пропущенных значений для каждого столбца с помощью двух методов.**"
   ]
  },
  {
   "cell_type": "code",
   "execution_count": 206,
   "id": "ea821ede",
   "metadata": {
    "id": "55f78bc2"
   },
   "outputs": [
    {
     "name": "stdout",
     "output_type": "stream",
     "text": [
      "children            0\n",
      "days_employed       0\n",
      "dob_years           0\n",
      "education           0\n",
      "education_id        0\n",
      "family_status       0\n",
      "family_status_id    0\n",
      "gender              0\n",
      "income_type         0\n",
      "debt                0\n",
      "total_income        0\n",
      "purpose             0\n",
      "dtype: int64\n"
     ]
    }
   ],
   "source": [
    "print(data.isna().sum())# ваш код здесь"
   ]
  },
  {
   "cell_type": "markdown",
   "id": "dd3b6e39",
   "metadata": {
    "deletable": false,
    "editable": false,
    "id": "ddc81e43"
   },
   "source": [
    "### Изменение типов данных"
   ]
  },
  {
   "cell_type": "markdown",
   "id": "c51c86c9",
   "metadata": {
    "deletable": false,
    "editable": false,
    "id": "42d19d24",
    "tags": [
     "start_task"
    ]
   },
   "source": [
    "**Задание 13. Замените вещественный тип данных в столбце `total_income` на целочисленный с помощью метода `astype()`.**"
   ]
  },
  {
   "cell_type": "code",
   "execution_count": 207,
   "id": "6eab0c2a",
   "metadata": {
    "id": "920b65ad"
   },
   "outputs": [],
   "source": [
    "data['total_income'] = data['total_income'].astype('int') # ваш код здесь"
   ]
  },
  {
   "cell_type": "markdown",
   "id": "ddfc1cd2",
   "metadata": {
    "deletable": false,
    "editable": false,
    "id": "80c420ba"
   },
   "source": [
    "### Обработка дубликатов"
   ]
  },
  {
   "cell_type": "markdown",
   "id": "7c1906d9",
   "metadata": {
    "deletable": false,
    "editable": false,
    "tags": [
     "start_task"
    ]
   },
   "source": [
    "**Задание 14. Обработайте неявные дубликаты в столбце `education`. В этом столбце есть одни и те же значения, но записанные по-разному: с использованием заглавных и строчных букв. Приведите их к нижнему регистру. Проверьте остальные столбцы.**"
   ]
  },
  {
   "cell_type": "code",
   "execution_count": 208,
   "id": "e53472cf",
   "metadata": {},
   "outputs": [],
   "source": [
    "data['education'] = data['education'].str.lower() # ваш код здесь"
   ]
  },
  {
   "cell_type": "markdown",
   "id": "a112bf54",
   "metadata": {
    "deletable": false,
    "editable": false,
    "id": "dc587695",
    "tags": [
     "start_task"
    ]
   },
   "source": [
    "**Задание 15. Выведите на экран количество строк-дубликатов в данных. Если такие строки присутствуют, удалите их.**"
   ]
  },
  {
   "cell_type": "code",
   "execution_count": 209,
   "id": "2be678df",
   "metadata": {
    "id": "3ee445e4"
   },
   "outputs": [
    {
     "name": "stdout",
     "output_type": "stream",
     "text": [
      "71\n"
     ]
    }
   ],
   "source": [
    "print(data.duplicated().sum())# посчитайте дубликаты"
   ]
  },
  {
   "cell_type": "code",
   "execution_count": 210,
   "id": "54e80af7",
   "metadata": {
    "id": "8575fe05"
   },
   "outputs": [],
   "source": [
    "data = data.drop_duplicates() # удалите дубликаты"
   ]
  },
  {
   "cell_type": "markdown",
   "id": "1a8a7bdb",
   "metadata": {
    "deletable": false,
    "editable": false,
    "id": "9904cf55"
   },
   "source": [
    "### Категоризация данных"
   ]
  },
  {
   "cell_type": "markdown",
   "id": "27420650",
   "metadata": {
    "deletable": false,
    "editable": false,
    "id": "72fcc8a2",
    "tags": [
     "start_task"
    ]
   },
   "source": [
    "**Задание 16. На основании диапазонов, указанных ниже, создайте в датафрейме `data` столбец `total_income_category` с категориями:**\n",
    "\n",
    "- 0–30000 — `'E'`;\n",
    "- 30001–50000 — `'D'`;\n",
    "- 50001–200000 — `'C'`;\n",
    "- 200001–1000000 — `'B'`;\n",
    "- 1000001 и выше — `'A'`.\n",
    "\n",
    "\n",
    "**Например, кредитополучателю с доходом 25000 нужно назначить категорию `'E'`, а клиенту, получающему 235000, — `'B'`. Используйте собственную функцию с именем `categorize_income()` и метод `apply()`.**"
   ]
  },
  {
   "cell_type": "code",
   "execution_count": 211,
   "id": "6405ca28",
   "metadata": {
    "id": "e1771346"
   },
   "outputs": [],
   "source": [
    "def categorize_income(inc): # создайте функцию categorize_income()\n",
    "    if 0 <= inc <= 30000:\n",
    "        return 'E'\n",
    "    if 30001 <= inc <= 50000:\n",
    "        return 'D'\n",
    "    if 50001 <= inc <= 200000:\n",
    "        return 'C'\n",
    "    if 200001 <= inc <= 1000000:\n",
    "        return 'B'    \n",
    "    if 1000001 <= inc:\n",
    "        return 'A'"
   ]
  },
  {
   "cell_type": "code",
   "execution_count": 212,
   "id": "1dea9fc8",
   "metadata": {
    "id": "d5f3586d"
   },
   "outputs": [],
   "source": [
    "data['total_income_category'] = data['total_income'].apply(categorize_income) # примените функцию методом apply()"
   ]
  },
  {
   "cell_type": "markdown",
   "id": "17fd293d",
   "metadata": {
    "deletable": false,
    "editable": false,
    "id": "dde49b5c",
    "tags": [
     "start_task"
    ]
   },
   "source": [
    "**Задание 17. Выведите на экран перечень уникальных целей взятия кредита из столбца `purpose`.**"
   ]
  },
  {
   "cell_type": "code",
   "execution_count": 213,
   "id": "7d0a6ee7",
   "metadata": {
    "id": "f67ce9b3"
   },
   "outputs": [
    {
     "name": "stdout",
     "output_type": "stream",
     "text": [
      "['покупка жилья' 'приобретение автомобиля' 'дополнительное образование'\n",
      " 'сыграть свадьбу' 'операции с жильем' 'образование'\n",
      " 'на проведение свадьбы' 'покупка жилья для семьи' 'покупка недвижимости'\n",
      " 'покупка коммерческой недвижимости' 'покупка жилой недвижимости'\n",
      " 'строительство собственной недвижимости' 'недвижимость'\n",
      " 'строительство недвижимости' 'на покупку подержанного автомобиля'\n",
      " 'на покупку своего автомобиля' 'операции с коммерческой недвижимостью'\n",
      " 'строительство жилой недвижимости' 'жилье'\n",
      " 'операции со своей недвижимостью' 'автомобили' 'заняться образованием'\n",
      " 'сделка с подержанным автомобилем' 'получение образования' 'автомобиль'\n",
      " 'свадьба' 'получение дополнительного образования' 'покупка своего жилья'\n",
      " 'операции с недвижимостью' 'получение высшего образования'\n",
      " 'свой автомобиль' 'сделка с автомобилем' 'профильное образование'\n",
      " 'высшее образование' 'покупка жилья для сдачи' 'на покупку автомобиля'\n",
      " 'ремонт жилью' 'заняться высшим образованием']\n"
     ]
    }
   ],
   "source": [
    "print(data['purpose'].unique()) # ваш код здесь"
   ]
  },
  {
   "cell_type": "markdown",
   "id": "1ededb5c",
   "metadata": {
    "deletable": false,
    "editable": false,
    "id": "85d0aef0",
    "tags": [
     "start_task"
    ]
   },
   "source": [
    "**Задание 18. Создайте функцию, которая на основании данных из столбца `purpose` сформирует новый столбец `purpose_category`, в который войдут следующие категории:**\n",
    "\n",
    "- `'операции с автомобилем'`,\n",
    "- `'операции с недвижимостью'`,\n",
    "- `'проведение свадьбы'`,\n",
    "- `'получение образования'`.\n",
    "\n",
    "**Например, если в столбце `purpose` находится подстрока `'на покупку автомобиля'`, то в столбце `purpose_category` должна появиться строка `'операции с автомобилем'`.**\n",
    "\n",
    "**Используйте собственную функцию с именем `categorize_purpose()` и метод `apply()`. Изучите данные в столбце `purpose` и определите, какие подстроки помогут вам правильно определить категорию.**"
   ]
  },
  {
   "cell_type": "code",
   "execution_count": 216,
   "id": "5f83f524",
   "metadata": {
    "id": "e149fab4"
   },
   "outputs": [],
   "source": [
    "def categorize_purpose(purp): # создайте функцию categorize_purpose()\n",
    "    if ('авто') in purp:\n",
    "        return 'операции с автомобилем'\n",
    "    if ('жил') in purp or ('недв') in purp :\n",
    "        return 'операции с недвижимостью'\n",
    "    if ('свад') in purp:\n",
    "        return 'проведение свадьбы'\n",
    "    if ('обр') in purp:\n",
    "        return 'получение образования'\n"
   ]
  },
  {
   "cell_type": "code",
   "execution_count": 217,
   "id": "49046074",
   "metadata": {
    "id": "bf36e69b"
   },
   "outputs": [],
   "source": [
    "data['purpose_category'] = data['purpose'].apply(categorize_purpose)# примените функцию методом apply()"
   ]
  },
  {
   "cell_type": "code",
   "execution_count": null,
   "id": "39e9a0f7",
   "metadata": {},
   "outputs": [],
   "source": []
  },
  {
   "cell_type": "code",
   "execution_count": null,
   "id": "f8467811",
   "metadata": {},
   "outputs": [],
   "source": []
  }
 ],
 "metadata": {
  "ExecuteTimeLog": [
   {
    "duration": 43,
    "start_time": "2022-08-30T05:59:44.464Z"
   },
   {
    "duration": 378,
    "start_time": "2022-08-30T06:00:02.294Z"
   },
   {
    "duration": 127,
    "start_time": "2022-08-30T06:00:02.673Z"
   },
   {
    "duration": 11,
    "start_time": "2022-08-30T06:00:03.614Z"
   },
   {
    "duration": 15,
    "start_time": "2022-08-30T06:00:06.368Z"
   },
   {
    "duration": 18,
    "start_time": "2022-08-30T06:00:12.199Z"
   },
   {
    "duration": 8,
    "start_time": "2022-08-30T06:00:23.303Z"
   },
   {
    "duration": 3,
    "start_time": "2022-08-30T06:15:41.860Z"
   },
   {
    "duration": 14,
    "start_time": "2022-08-30T06:16:17.691Z"
   },
   {
    "duration": 38,
    "start_time": "2022-08-30T06:17:22.878Z"
   },
   {
    "duration": 7,
    "start_time": "2022-08-30T06:17:52.886Z"
   },
   {
    "duration": 5,
    "start_time": "2022-08-30T06:18:36.031Z"
   },
   {
    "duration": 7,
    "start_time": "2022-08-30T06:19:00.301Z"
   },
   {
    "duration": 5,
    "start_time": "2022-08-30T06:19:30.301Z"
   },
   {
    "duration": 8,
    "start_time": "2022-08-30T06:19:56.585Z"
   },
   {
    "duration": 11,
    "start_time": "2022-08-30T06:22:18.200Z"
   },
   {
    "duration": 6,
    "start_time": "2022-08-30T06:22:30.958Z"
   },
   {
    "duration": 10,
    "start_time": "2022-08-30T06:22:53.553Z"
   },
   {
    "duration": 9,
    "start_time": "2022-08-30T06:22:59.462Z"
   },
   {
    "duration": 3,
    "start_time": "2022-08-30T06:23:18.017Z"
   },
   {
    "duration": 4,
    "start_time": "2022-08-30T06:23:25.219Z"
   },
   {
    "duration": 218,
    "start_time": "2022-08-30T06:24:35.053Z"
   },
   {
    "duration": 5,
    "start_time": "2022-08-30T06:26:06.506Z"
   },
   {
    "duration": 91,
    "start_time": "2022-08-30T06:28:21.913Z"
   },
   {
    "duration": 12,
    "start_time": "2022-08-30T06:28:33.334Z"
   },
   {
    "duration": 12,
    "start_time": "2022-08-30T06:28:50.841Z"
   },
   {
    "duration": 89,
    "start_time": "2022-08-30T06:29:14.657Z"
   },
   {
    "duration": 7,
    "start_time": "2022-08-30T06:29:22.941Z"
   },
   {
    "duration": 16,
    "start_time": "2022-08-30T06:33:29.710Z"
   },
   {
    "duration": 3,
    "start_time": "2022-08-30T06:34:02.169Z"
   },
   {
    "duration": 69,
    "start_time": "2022-08-30T06:34:02.587Z"
   },
   {
    "duration": 8,
    "start_time": "2022-08-30T06:34:03.814Z"
   },
   {
    "duration": 21,
    "start_time": "2022-08-30T06:34:05.566Z"
   },
   {
    "duration": 9,
    "start_time": "2022-08-30T06:34:07.958Z"
   },
   {
    "duration": 9,
    "start_time": "2022-08-30T06:34:09.791Z"
   },
   {
    "duration": 10,
    "start_time": "2022-08-30T06:48:23.130Z"
   },
   {
    "duration": 10,
    "start_time": "2022-08-30T06:49:43.018Z"
   },
   {
    "duration": 5,
    "start_time": "2022-08-30T06:57:11.842Z"
   },
   {
    "duration": 3,
    "start_time": "2022-08-30T06:57:21.362Z"
   },
   {
    "duration": 67,
    "start_time": "2022-08-30T06:57:21.738Z"
   },
   {
    "duration": 7,
    "start_time": "2022-08-30T06:57:22.658Z"
   },
   {
    "duration": 14,
    "start_time": "2022-08-30T06:57:23.578Z"
   },
   {
    "duration": 9,
    "start_time": "2022-08-30T06:57:25.547Z"
   },
   {
    "duration": 5,
    "start_time": "2022-08-30T06:57:26.916Z"
   },
   {
    "duration": 2,
    "start_time": "2022-08-30T06:57:54.588Z"
   },
   {
    "duration": 69,
    "start_time": "2022-08-30T06:57:54.921Z"
   },
   {
    "duration": 8,
    "start_time": "2022-08-30T06:57:55.770Z"
   },
   {
    "duration": 16,
    "start_time": "2022-08-30T06:57:56.594Z"
   },
   {
    "duration": 9,
    "start_time": "2022-08-30T06:57:57.979Z"
   },
   {
    "duration": 7,
    "start_time": "2022-08-30T06:57:59.555Z"
   },
   {
    "duration": 7,
    "start_time": "2022-08-30T07:01:20.501Z"
   },
   {
    "duration": 9,
    "start_time": "2022-08-30T07:05:49.372Z"
   },
   {
    "duration": 3,
    "start_time": "2022-08-30T07:06:00.576Z"
   },
   {
    "duration": 76,
    "start_time": "2022-08-30T07:06:00.985Z"
   },
   {
    "duration": 9,
    "start_time": "2022-08-30T07:06:02.052Z"
   },
   {
    "duration": 15,
    "start_time": "2022-08-30T07:06:03.420Z"
   },
   {
    "duration": 10,
    "start_time": "2022-08-30T07:06:05.476Z"
   },
   {
    "duration": 10,
    "start_time": "2022-08-30T07:06:06.979Z"
   },
   {
    "duration": 7,
    "start_time": "2022-08-30T07:07:37.056Z"
   },
   {
    "duration": 2,
    "start_time": "2022-08-30T07:07:45.284Z"
   },
   {
    "duration": 66,
    "start_time": "2022-08-30T07:07:45.668Z"
   },
   {
    "duration": 12,
    "start_time": "2022-08-30T07:07:46.547Z"
   },
   {
    "duration": 14,
    "start_time": "2022-08-30T07:07:47.461Z"
   },
   {
    "duration": 9,
    "start_time": "2022-08-30T07:07:49.307Z"
   },
   {
    "duration": 12,
    "start_time": "2022-08-30T07:07:50.476Z"
   },
   {
    "duration": 14,
    "start_time": "2022-08-30T07:10:01.496Z"
   },
   {
    "duration": 4,
    "start_time": "2022-08-30T07:11:27.166Z"
   },
   {
    "duration": 93,
    "start_time": "2022-08-30T07:11:27.542Z"
   },
   {
    "duration": 14,
    "start_time": "2022-08-30T07:11:28.348Z"
   },
   {
    "duration": 16,
    "start_time": "2022-08-30T07:11:29.308Z"
   },
   {
    "duration": 9,
    "start_time": "2022-08-30T07:11:31.214Z"
   },
   {
    "duration": 12,
    "start_time": "2022-08-30T07:11:32.876Z"
   },
   {
    "duration": 48,
    "start_time": "2022-08-30T07:12:34.174Z"
   },
   {
    "duration": 2,
    "start_time": "2022-08-30T07:12:43.274Z"
   },
   {
    "duration": 72,
    "start_time": "2022-08-30T07:12:43.686Z"
   },
   {
    "duration": 9,
    "start_time": "2022-08-30T07:12:44.544Z"
   },
   {
    "duration": 14,
    "start_time": "2022-08-30T07:12:45.326Z"
   },
   {
    "duration": 9,
    "start_time": "2022-08-30T07:12:47.277Z"
   },
   {
    "duration": 57,
    "start_time": "2022-08-30T07:12:48.254Z"
   },
   {
    "duration": 31,
    "start_time": "2022-08-30T07:23:13.704Z"
   },
   {
    "duration": 14,
    "start_time": "2022-08-30T07:24:09.224Z"
   },
   {
    "duration": 13,
    "start_time": "2022-08-30T07:24:31.655Z"
   },
   {
    "duration": 49,
    "start_time": "2022-08-30T07:24:46.530Z"
   },
   {
    "duration": 30,
    "start_time": "2022-08-30T07:24:57.400Z"
   },
   {
    "duration": 3,
    "start_time": "2022-08-30T07:25:17.007Z"
   },
   {
    "duration": 71,
    "start_time": "2022-08-30T07:25:17.351Z"
   },
   {
    "duration": 8,
    "start_time": "2022-08-30T07:25:18.231Z"
   },
   {
    "duration": 13,
    "start_time": "2022-08-30T07:25:19.248Z"
   },
   {
    "duration": 8,
    "start_time": "2022-08-30T07:25:21.161Z"
   },
   {
    "duration": 31,
    "start_time": "2022-08-30T07:25:22.503Z"
   },
   {
    "duration": 1358,
    "start_time": "2022-08-30T07:33:45.590Z"
   },
   {
    "duration": 1372,
    "start_time": "2022-08-30T07:34:24.450Z"
   },
   {
    "duration": 21,
    "start_time": "2022-08-30T07:37:58.330Z"
   },
   {
    "duration": 36,
    "start_time": "2022-08-30T07:48:31.266Z"
   },
   {
    "duration": 2,
    "start_time": "2022-08-30T07:48:35.191Z"
   },
   {
    "duration": 75,
    "start_time": "2022-08-30T07:48:35.524Z"
   },
   {
    "duration": 9,
    "start_time": "2022-08-30T07:48:36.389Z"
   },
   {
    "duration": 13,
    "start_time": "2022-08-30T07:48:37.243Z"
   },
   {
    "duration": 8,
    "start_time": "2022-08-30T07:48:38.916Z"
   },
   {
    "duration": 30,
    "start_time": "2022-08-30T07:48:39.813Z"
   },
   {
    "duration": 12,
    "start_time": "2022-08-30T07:49:51.052Z"
   },
   {
    "duration": 11,
    "start_time": "2022-08-30T07:50:11.005Z"
   },
   {
    "duration": 3,
    "start_time": "2022-08-30T07:50:21.930Z"
   },
   {
    "duration": 67,
    "start_time": "2022-08-30T07:50:22.291Z"
   },
   {
    "duration": 9,
    "start_time": "2022-08-30T07:50:23.116Z"
   },
   {
    "duration": 15,
    "start_time": "2022-08-30T07:50:23.908Z"
   },
   {
    "duration": 9,
    "start_time": "2022-08-30T07:50:25.574Z"
   },
   {
    "duration": 35,
    "start_time": "2022-08-30T07:50:26.420Z"
   },
   {
    "duration": 5,
    "start_time": "2022-08-30T07:50:27.717Z"
   },
   {
    "duration": 8,
    "start_time": "2022-08-30T07:51:04.549Z"
   },
   {
    "duration": 4,
    "start_time": "2022-08-30T07:51:40.340Z"
   },
   {
    "duration": 11,
    "start_time": "2022-08-30T07:52:48.046Z"
   },
   {
    "duration": 8,
    "start_time": "2022-08-30T07:53:09.740Z"
   },
   {
    "duration": 4,
    "start_time": "2022-08-30T07:54:21.581Z"
   },
   {
    "duration": 12,
    "start_time": "2022-08-30T07:57:38.382Z"
   },
   {
    "duration": 139,
    "start_time": "2022-08-30T07:59:00.510Z"
   },
   {
    "duration": 6,
    "start_time": "2022-08-30T07:59:12.055Z"
   },
   {
    "duration": 4,
    "start_time": "2022-08-30T07:59:36.703Z"
   },
   {
    "duration": 43,
    "start_time": "2022-08-30T08:01:48.823Z"
   },
   {
    "duration": 8,
    "start_time": "2022-08-30T08:02:30.865Z"
   },
   {
    "duration": 27,
    "start_time": "2022-08-30T08:04:13.632Z"
   },
   {
    "duration": 5,
    "start_time": "2022-08-30T08:06:35.352Z"
   },
   {
    "duration": 4,
    "start_time": "2022-08-30T08:08:31.128Z"
   },
   {
    "duration": 12,
    "start_time": "2022-08-30T08:09:44.483Z"
   },
   {
    "duration": 7,
    "start_time": "2022-08-30T08:09:50.421Z"
   },
   {
    "duration": 11,
    "start_time": "2022-08-30T08:12:17.785Z"
   },
   {
    "duration": 9,
    "start_time": "2022-08-30T08:12:45.556Z"
   },
   {
    "duration": 24,
    "start_time": "2022-08-30T08:13:20.895Z"
   },
   {
    "duration": 16,
    "start_time": "2022-08-30T08:13:30.146Z"
   },
   {
    "duration": 20,
    "start_time": "2022-08-30T08:13:50.841Z"
   },
   {
    "duration": 104,
    "start_time": "2022-08-30T08:24:16.298Z"
   },
   {
    "duration": 4,
    "start_time": "2022-08-30T08:24:28.627Z"
   },
   {
    "duration": 8,
    "start_time": "2022-08-30T08:24:30.267Z"
   },
   {
    "duration": 11,
    "start_time": "2022-08-30T08:24:39.042Z"
   },
   {
    "duration": 4,
    "start_time": "2022-08-30T08:24:42.450Z"
   },
   {
    "duration": 11,
    "start_time": "2022-08-30T08:24:42.842Z"
   },
   {
    "duration": 489,
    "start_time": "2022-08-30T08:25:14.522Z"
   },
   {
    "duration": 13,
    "start_time": "2022-08-30T08:26:10.227Z"
   },
   {
    "duration": 3,
    "start_time": "2022-08-30T08:26:12.194Z"
   },
   {
    "duration": 10,
    "start_time": "2022-08-30T08:26:12.740Z"
   },
   {
    "duration": 5,
    "start_time": "2022-08-30T08:26:49.820Z"
   },
   {
    "duration": 5,
    "start_time": "2022-08-30T08:27:42.507Z"
   },
   {
    "duration": 6,
    "start_time": "2022-08-30T08:46:24.321Z"
   },
   {
    "duration": 15,
    "start_time": "2022-08-30T08:46:41.820Z"
   },
   {
    "duration": 5,
    "start_time": "2022-08-30T08:46:43.463Z"
   },
   {
    "duration": 14,
    "start_time": "2022-08-30T08:46:43.846Z"
   },
   {
    "duration": 3,
    "start_time": "2022-08-30T08:47:20.094Z"
   },
   {
    "duration": 69,
    "start_time": "2022-08-30T08:47:20.333Z"
   },
   {
    "duration": 8,
    "start_time": "2022-08-30T08:47:20.640Z"
   },
   {
    "duration": 14,
    "start_time": "2022-08-30T08:47:21.015Z"
   },
   {
    "duration": 9,
    "start_time": "2022-08-30T08:47:21.758Z"
   },
   {
    "duration": 31,
    "start_time": "2022-08-30T08:47:22.141Z"
   },
   {
    "duration": 4,
    "start_time": "2022-08-30T08:47:22.734Z"
   },
   {
    "duration": 7,
    "start_time": "2022-08-30T08:47:23.079Z"
   },
   {
    "duration": 4,
    "start_time": "2022-08-30T08:47:23.702Z"
   },
   {
    "duration": 6,
    "start_time": "2022-08-30T08:47:24.093Z"
   },
   {
    "duration": 4,
    "start_time": "2022-08-30T08:47:24.509Z"
   },
   {
    "duration": 33,
    "start_time": "2022-08-30T08:47:25.071Z"
   },
   {
    "duration": 8,
    "start_time": "2022-08-30T08:47:25.555Z"
   },
   {
    "duration": 5,
    "start_time": "2022-08-30T08:47:26.111Z"
   },
   {
    "duration": 15,
    "start_time": "2022-08-30T08:47:26.704Z"
   },
   {
    "duration": 19,
    "start_time": "2022-08-30T08:47:27.136Z"
   },
   {
    "duration": 18,
    "start_time": "2022-08-30T08:47:27.319Z"
   },
   {
    "duration": 3,
    "start_time": "2022-08-30T08:47:27.943Z"
   },
   {
    "duration": 10,
    "start_time": "2022-08-30T08:47:28.150Z"
   },
   {
    "duration": 6,
    "start_time": "2022-08-30T08:47:28.550Z"
   },
   {
    "duration": 8,
    "start_time": "2022-08-30T08:47:29.118Z"
   },
   {
    "duration": 15,
    "start_time": "2022-08-30T08:47:29.672Z"
   },
   {
    "duration": 6,
    "start_time": "2022-08-30T08:53:37.741Z"
   },
   {
    "duration": 3,
    "start_time": "2022-08-30T08:53:52.419Z"
   },
   {
    "duration": 65,
    "start_time": "2022-08-30T08:53:52.617Z"
   },
   {
    "duration": 12,
    "start_time": "2022-08-30T08:53:53.008Z"
   },
   {
    "duration": 15,
    "start_time": "2022-08-30T08:53:53.403Z"
   },
   {
    "duration": 9,
    "start_time": "2022-08-30T08:53:54.236Z"
   },
   {
    "duration": 32,
    "start_time": "2022-08-30T08:53:54.623Z"
   },
   {
    "duration": 4,
    "start_time": "2022-08-30T08:53:55.208Z"
   },
   {
    "duration": 6,
    "start_time": "2022-08-30T08:53:55.599Z"
   },
   {
    "duration": 4,
    "start_time": "2022-08-30T08:53:56.187Z"
   },
   {
    "duration": 6,
    "start_time": "2022-08-30T08:53:56.640Z"
   },
   {
    "duration": 4,
    "start_time": "2022-08-30T08:53:57.032Z"
   },
   {
    "duration": 30,
    "start_time": "2022-08-30T08:53:57.690Z"
   },
   {
    "duration": 9,
    "start_time": "2022-08-30T08:53:58.112Z"
   },
   {
    "duration": 4,
    "start_time": "2022-08-30T08:53:58.790Z"
   },
   {
    "duration": 10,
    "start_time": "2022-08-30T08:53:59.415Z"
   },
   {
    "duration": 17,
    "start_time": "2022-08-30T08:53:59.815Z"
   },
   {
    "duration": 20,
    "start_time": "2022-08-30T08:54:00.032Z"
   },
   {
    "duration": 3,
    "start_time": "2022-08-30T08:54:00.783Z"
   },
   {
    "duration": 10,
    "start_time": "2022-08-30T08:54:01.007Z"
   },
   {
    "duration": 5,
    "start_time": "2022-08-30T08:54:01.430Z"
   },
   {
    "duration": 6,
    "start_time": "2022-08-30T08:54:01.823Z"
   },
   {
    "duration": 15,
    "start_time": "2022-08-30T08:54:02.048Z"
   },
   {
    "duration": 3,
    "start_time": "2022-08-30T09:00:18.809Z"
   },
   {
    "duration": 3,
    "start_time": "2022-08-30T09:01:06.368Z"
   },
   {
    "duration": 92,
    "start_time": "2022-08-30T09:01:06.545Z"
   },
   {
    "duration": 8,
    "start_time": "2022-08-30T09:01:07.057Z"
   },
   {
    "duration": 16,
    "start_time": "2022-08-30T09:01:07.386Z"
   },
   {
    "duration": 9,
    "start_time": "2022-08-30T09:01:08.104Z"
   },
   {
    "duration": 32,
    "start_time": "2022-08-30T09:01:08.496Z"
   },
   {
    "duration": 3,
    "start_time": "2022-08-30T09:01:09.064Z"
   },
   {
    "duration": 7,
    "start_time": "2022-08-30T09:01:09.440Z"
   },
   {
    "duration": 4,
    "start_time": "2022-08-30T09:01:10.041Z"
   },
   {
    "duration": 7,
    "start_time": "2022-08-30T09:01:10.409Z"
   },
   {
    "duration": 4,
    "start_time": "2022-08-30T09:01:10.801Z"
   },
   {
    "duration": 37,
    "start_time": "2022-08-30T09:01:11.412Z"
   },
   {
    "duration": 8,
    "start_time": "2022-08-30T09:01:12.045Z"
   },
   {
    "duration": 4,
    "start_time": "2022-08-30T09:01:12.640Z"
   },
   {
    "duration": 10,
    "start_time": "2022-08-30T09:01:13.248Z"
   },
   {
    "duration": 19,
    "start_time": "2022-08-30T09:01:13.648Z"
   },
   {
    "duration": 16,
    "start_time": "2022-08-30T09:01:13.851Z"
   },
   {
    "duration": 3,
    "start_time": "2022-08-30T09:01:14.465Z"
   },
   {
    "duration": 9,
    "start_time": "2022-08-30T09:01:14.664Z"
   },
   {
    "duration": 5,
    "start_time": "2022-08-30T09:01:15.257Z"
   },
   {
    "duration": 4,
    "start_time": "2022-08-30T09:01:15.632Z"
   },
   {
    "duration": 352,
    "start_time": "2022-08-30T09:01:16.408Z"
   },
   {
    "duration": 3,
    "start_time": "2022-08-30T09:03:07.321Z"
   },
   {
    "duration": 8,
    "start_time": "2022-08-30T09:03:09.139Z"
   }
  ],
  "colab": {
   "name": "dpp_template_part1.ipynb",
   "provenance": []
  },
  "kernelspec": {
   "display_name": "Python 3 (ipykernel)",
   "language": "python",
   "name": "python3"
  },
  "language_info": {
   "codemirror_mode": {
    "name": "ipython",
    "version": 3
   },
   "file_extension": ".py",
   "mimetype": "text/x-python",
   "name": "python",
   "nbconvert_exporter": "python",
   "pygments_lexer": "ipython3",
   "version": "3.9.5"
  },
  "toc": {
   "base_numbering": 1,
   "nav_menu": {},
   "number_sections": true,
   "sideBar": true,
   "skip_h1_title": true,
   "title_cell": "Table of Contents",
   "title_sidebar": "Contents",
   "toc_cell": false,
   "toc_position": {},
   "toc_section_display": true,
   "toc_window_display": false
  }
 },
 "nbformat": 4,
 "nbformat_minor": 5
}
