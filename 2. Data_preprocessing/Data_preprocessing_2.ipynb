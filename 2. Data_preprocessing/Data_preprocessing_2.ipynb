{
 "cells": [
  {
   "cell_type": "markdown",
   "id": "643c8792",
   "metadata": {},
   "source": [
    "<div style=\"border:solid green 3px; padding: 20px\">\n",
    "\n",
    "<b>Привет!</b>\n",
    "\n",
    "Меня зовут Сороколетов Илья и я буду проверять твой проект. \n",
    "\n",
    "Предлагаю общаться на «**ты**», но если тебе будет комфортнее общаться на «**вы**», то сообщи об этом в комментариях)\n",
    "\n",
    "\n",
    "Для твоего удобства, я буду выделять свои комментарии следующим образом:\n",
    "\n",
    "<div class=\"alert alert-danger\">\n",
    "<b>❌ Комментарий ревьюера v1:</b> Самые важные замечания. Они указывают на ключевые моменты, которые влияют на конечный результат проекта. </div>\n",
    "\n",
    "<div class=\"alert alert-warning\">\n",
    "<b>⚠️ Комментарий ревьюера v1:</b> Советы или замечания, которые помогут сделать твою работу лучше, но необязательны к выполнению.\n",
    "\n",
    "</div>\n",
    "\n",
    "<div class=\"alert alert-success\">\n",
    "<b>✔️ Комментарий ревьюера v1:</b> Так я выделяю все остальные комментарии.</div>\n",
    "\n",
    "\n",
    "Пометками <b>v1-v2-v3-...</b> я буду отмечать версию проверки. Так ты сможешь быстро найти мои новые комментарии.\n",
    "\n",
    "Давай работать над проектом в диалоге: если ты что-то меняешь в проекте по моим рекомендациям — пиши об этом. Выбери для своих комментариев какой-то заметный цвет, так мне будет легче отследить изменения, например вот так:\n",
    "    \n",
    "<div class=\"alert alert-info\">\n",
    "<b>Комментарий студента:</b>\n",
    "<br>\n",
    "</div>\n",
    "\n",
    "<b>Пожалуйста, не перемещай, не изменяй и не удаляй мои комментарии.</b> Если ты оставляешь свои комментарии, то делай это под моими, чтобы сообщения были расположены в хронологическом порядке. Всё это поможет выполнить повторную проверку твоего проекта быстрее. \n",
    "\n",
    "\n",
    "Перед отправкой работы я рекомендую нажимать Kernel -> Restart & Run All. Это перезапустит ядро и по очереди выполнит все ячейки. Так ты сможешь проверить, что всё работает корректно. Кнопка Kernel находится в панели сверху\n",
    "\n",
    "Обязательно задавай вопросы если они возникнут, а я перехожу к проверке)\n",
    "\n",
    "P.S. На всякий случай, я оставлю пустой шаблон для твоих комментариев ниже. Кликни два раза на мой комментарий, скопируй последние четыре строчки кода и вставляй их в пустую ячейку там, где ты хочешь оставить комментарий. Не забудь только перед этим сменить тип ячейки на Markdown. Быстро это можно сделать так: кликнуть на ячейку - нажать ESC - нажать M. \n",
    "    \n",
    "    \n",
    "<div class=\"alert alert-info\">\n",
    "<b>Комментарий студента:</b>\n",
    "<br>Место для твоего комментария\n",
    "</div>"
   ]
  },
  {
   "cell_type": "markdown",
   "id": "d4ff57fc",
   "metadata": {
    "deletable": false,
    "editable": false,
    "id": "c81daeeb"
   },
   "source": [
    "# Исследование надежности заемщиков\n"
   ]
  },
  {
   "cell_type": "markdown",
   "id": "59254576",
   "metadata": {
    "deletable": false,
    "editable": false,
    "id": "827c20bf"
   },
   "source": [
    "Во второй части проекта вы выполните шаги 3 и 4. Их вручную проверит ревьюер.\n",
    "Чтобы вам не пришлось писать код заново для шагов 1 и 2, мы добавили авторские решения в ячейки с кодом. \n",
    "\n"
   ]
  },
  {
   "cell_type": "markdown",
   "id": "e2534bfa",
   "metadata": {
    "deletable": false,
    "editable": false,
    "id": "744d7639"
   },
   "source": [
    "## Откройте таблицу и изучите общую информацию о данных"
   ]
  },
  {
   "cell_type": "markdown",
   "id": "48dc6d17",
   "metadata": {
    "deletable": false,
    "editable": false,
    "id": "e7a14c31"
   },
   "source": [
    "**Задание 1. Импортируйте библиотеку pandas. Считайте данные из csv-файла в датафрейм и сохраните в переменную `data`. Путь к файлу:**\n",
    "\n",
    "`/datasets/data.csv`"
   ]
  },
  {
   "cell_type": "code",
   "execution_count": 1,
   "id": "d8558da3",
   "metadata": {
    "deletable": false,
    "id": "7bcf75c9"
   },
   "outputs": [],
   "source": [
    "import pandas as pd\n",
    "\n",
    "try:\n",
    "    data = pd.read_csv('/datasets/data.csv')\n",
    "except:\n",
    "    data = pd.read_csv('https://code.s3.yandex.net/datasets/data.csv')"
   ]
  },
  {
   "cell_type": "markdown",
   "id": "7b20e1e4",
   "metadata": {
    "deletable": false,
    "editable": false,
    "id": "b8038fe3"
   },
   "source": [
    "**Задание 2. Выведите первые 20 строчек датафрейма `data` на экран.**"
   ]
  },
  {
   "cell_type": "code",
   "execution_count": 2,
   "id": "6171be8a",
   "metadata": {
    "deletable": false,
    "id": "2a7cab99",
    "outputId": "1a8f3ef2-d323-4ec2-ddf7-89670b5944c4"
   },
   "outputs": [
    {
     "data": {
      "text/html": [
       "<div>\n",
       "<style scoped>\n",
       "    .dataframe tbody tr th:only-of-type {\n",
       "        vertical-align: middle;\n",
       "    }\n",
       "\n",
       "    .dataframe tbody tr th {\n",
       "        vertical-align: top;\n",
       "    }\n",
       "\n",
       "    .dataframe thead th {\n",
       "        text-align: right;\n",
       "    }\n",
       "</style>\n",
       "<table border=\"1\" class=\"dataframe\">\n",
       "  <thead>\n",
       "    <tr style=\"text-align: right;\">\n",
       "      <th></th>\n",
       "      <th>children</th>\n",
       "      <th>days_employed</th>\n",
       "      <th>dob_years</th>\n",
       "      <th>education</th>\n",
       "      <th>education_id</th>\n",
       "      <th>family_status</th>\n",
       "      <th>family_status_id</th>\n",
       "      <th>gender</th>\n",
       "      <th>income_type</th>\n",
       "      <th>debt</th>\n",
       "      <th>total_income</th>\n",
       "      <th>purpose</th>\n",
       "    </tr>\n",
       "  </thead>\n",
       "  <tbody>\n",
       "    <tr>\n",
       "      <th>0</th>\n",
       "      <td>1</td>\n",
       "      <td>-8437.673028</td>\n",
       "      <td>42</td>\n",
       "      <td>высшее</td>\n",
       "      <td>0</td>\n",
       "      <td>женат / замужем</td>\n",
       "      <td>0</td>\n",
       "      <td>F</td>\n",
       "      <td>сотрудник</td>\n",
       "      <td>0</td>\n",
       "      <td>253875.639453</td>\n",
       "      <td>покупка жилья</td>\n",
       "    </tr>\n",
       "    <tr>\n",
       "      <th>1</th>\n",
       "      <td>1</td>\n",
       "      <td>-4024.803754</td>\n",
       "      <td>36</td>\n",
       "      <td>среднее</td>\n",
       "      <td>1</td>\n",
       "      <td>женат / замужем</td>\n",
       "      <td>0</td>\n",
       "      <td>F</td>\n",
       "      <td>сотрудник</td>\n",
       "      <td>0</td>\n",
       "      <td>112080.014102</td>\n",
       "      <td>приобретение автомобиля</td>\n",
       "    </tr>\n",
       "    <tr>\n",
       "      <th>2</th>\n",
       "      <td>0</td>\n",
       "      <td>-5623.422610</td>\n",
       "      <td>33</td>\n",
       "      <td>Среднее</td>\n",
       "      <td>1</td>\n",
       "      <td>женат / замужем</td>\n",
       "      <td>0</td>\n",
       "      <td>M</td>\n",
       "      <td>сотрудник</td>\n",
       "      <td>0</td>\n",
       "      <td>145885.952297</td>\n",
       "      <td>покупка жилья</td>\n",
       "    </tr>\n",
       "    <tr>\n",
       "      <th>3</th>\n",
       "      <td>3</td>\n",
       "      <td>-4124.747207</td>\n",
       "      <td>32</td>\n",
       "      <td>среднее</td>\n",
       "      <td>1</td>\n",
       "      <td>женат / замужем</td>\n",
       "      <td>0</td>\n",
       "      <td>M</td>\n",
       "      <td>сотрудник</td>\n",
       "      <td>0</td>\n",
       "      <td>267628.550329</td>\n",
       "      <td>дополнительное образование</td>\n",
       "    </tr>\n",
       "    <tr>\n",
       "      <th>4</th>\n",
       "      <td>0</td>\n",
       "      <td>340266.072047</td>\n",
       "      <td>53</td>\n",
       "      <td>среднее</td>\n",
       "      <td>1</td>\n",
       "      <td>гражданский брак</td>\n",
       "      <td>1</td>\n",
       "      <td>F</td>\n",
       "      <td>пенсионер</td>\n",
       "      <td>0</td>\n",
       "      <td>158616.077870</td>\n",
       "      <td>сыграть свадьбу</td>\n",
       "    </tr>\n",
       "    <tr>\n",
       "      <th>5</th>\n",
       "      <td>0</td>\n",
       "      <td>-926.185831</td>\n",
       "      <td>27</td>\n",
       "      <td>высшее</td>\n",
       "      <td>0</td>\n",
       "      <td>гражданский брак</td>\n",
       "      <td>1</td>\n",
       "      <td>M</td>\n",
       "      <td>компаньон</td>\n",
       "      <td>0</td>\n",
       "      <td>255763.565419</td>\n",
       "      <td>покупка жилья</td>\n",
       "    </tr>\n",
       "    <tr>\n",
       "      <th>6</th>\n",
       "      <td>0</td>\n",
       "      <td>-2879.202052</td>\n",
       "      <td>43</td>\n",
       "      <td>высшее</td>\n",
       "      <td>0</td>\n",
       "      <td>женат / замужем</td>\n",
       "      <td>0</td>\n",
       "      <td>F</td>\n",
       "      <td>компаньон</td>\n",
       "      <td>0</td>\n",
       "      <td>240525.971920</td>\n",
       "      <td>операции с жильем</td>\n",
       "    </tr>\n",
       "    <tr>\n",
       "      <th>7</th>\n",
       "      <td>0</td>\n",
       "      <td>-152.779569</td>\n",
       "      <td>50</td>\n",
       "      <td>СРЕДНЕЕ</td>\n",
       "      <td>1</td>\n",
       "      <td>женат / замужем</td>\n",
       "      <td>0</td>\n",
       "      <td>M</td>\n",
       "      <td>сотрудник</td>\n",
       "      <td>0</td>\n",
       "      <td>135823.934197</td>\n",
       "      <td>образование</td>\n",
       "    </tr>\n",
       "    <tr>\n",
       "      <th>8</th>\n",
       "      <td>2</td>\n",
       "      <td>-6929.865299</td>\n",
       "      <td>35</td>\n",
       "      <td>ВЫСШЕЕ</td>\n",
       "      <td>0</td>\n",
       "      <td>гражданский брак</td>\n",
       "      <td>1</td>\n",
       "      <td>F</td>\n",
       "      <td>сотрудник</td>\n",
       "      <td>0</td>\n",
       "      <td>95856.832424</td>\n",
       "      <td>на проведение свадьбы</td>\n",
       "    </tr>\n",
       "    <tr>\n",
       "      <th>9</th>\n",
       "      <td>0</td>\n",
       "      <td>-2188.756445</td>\n",
       "      <td>41</td>\n",
       "      <td>среднее</td>\n",
       "      <td>1</td>\n",
       "      <td>женат / замужем</td>\n",
       "      <td>0</td>\n",
       "      <td>M</td>\n",
       "      <td>сотрудник</td>\n",
       "      <td>0</td>\n",
       "      <td>144425.938277</td>\n",
       "      <td>покупка жилья для семьи</td>\n",
       "    </tr>\n",
       "    <tr>\n",
       "      <th>10</th>\n",
       "      <td>2</td>\n",
       "      <td>-4171.483647</td>\n",
       "      <td>36</td>\n",
       "      <td>высшее</td>\n",
       "      <td>0</td>\n",
       "      <td>женат / замужем</td>\n",
       "      <td>0</td>\n",
       "      <td>M</td>\n",
       "      <td>компаньон</td>\n",
       "      <td>0</td>\n",
       "      <td>113943.491460</td>\n",
       "      <td>покупка недвижимости</td>\n",
       "    </tr>\n",
       "    <tr>\n",
       "      <th>11</th>\n",
       "      <td>0</td>\n",
       "      <td>-792.701887</td>\n",
       "      <td>40</td>\n",
       "      <td>среднее</td>\n",
       "      <td>1</td>\n",
       "      <td>женат / замужем</td>\n",
       "      <td>0</td>\n",
       "      <td>F</td>\n",
       "      <td>сотрудник</td>\n",
       "      <td>0</td>\n",
       "      <td>77069.234271</td>\n",
       "      <td>покупка коммерческой недвижимости</td>\n",
       "    </tr>\n",
       "    <tr>\n",
       "      <th>12</th>\n",
       "      <td>0</td>\n",
       "      <td>NaN</td>\n",
       "      <td>65</td>\n",
       "      <td>среднее</td>\n",
       "      <td>1</td>\n",
       "      <td>гражданский брак</td>\n",
       "      <td>1</td>\n",
       "      <td>M</td>\n",
       "      <td>пенсионер</td>\n",
       "      <td>0</td>\n",
       "      <td>NaN</td>\n",
       "      <td>сыграть свадьбу</td>\n",
       "    </tr>\n",
       "    <tr>\n",
       "      <th>13</th>\n",
       "      <td>0</td>\n",
       "      <td>-1846.641941</td>\n",
       "      <td>54</td>\n",
       "      <td>неоконченное высшее</td>\n",
       "      <td>2</td>\n",
       "      <td>женат / замужем</td>\n",
       "      <td>0</td>\n",
       "      <td>F</td>\n",
       "      <td>сотрудник</td>\n",
       "      <td>0</td>\n",
       "      <td>130458.228857</td>\n",
       "      <td>приобретение автомобиля</td>\n",
       "    </tr>\n",
       "    <tr>\n",
       "      <th>14</th>\n",
       "      <td>0</td>\n",
       "      <td>-1844.956182</td>\n",
       "      <td>56</td>\n",
       "      <td>высшее</td>\n",
       "      <td>0</td>\n",
       "      <td>гражданский брак</td>\n",
       "      <td>1</td>\n",
       "      <td>F</td>\n",
       "      <td>компаньон</td>\n",
       "      <td>1</td>\n",
       "      <td>165127.911772</td>\n",
       "      <td>покупка жилой недвижимости</td>\n",
       "    </tr>\n",
       "    <tr>\n",
       "      <th>15</th>\n",
       "      <td>1</td>\n",
       "      <td>-972.364419</td>\n",
       "      <td>26</td>\n",
       "      <td>среднее</td>\n",
       "      <td>1</td>\n",
       "      <td>женат / замужем</td>\n",
       "      <td>0</td>\n",
       "      <td>F</td>\n",
       "      <td>сотрудник</td>\n",
       "      <td>0</td>\n",
       "      <td>116820.904450</td>\n",
       "      <td>строительство собственной недвижимости</td>\n",
       "    </tr>\n",
       "    <tr>\n",
       "      <th>16</th>\n",
       "      <td>0</td>\n",
       "      <td>-1719.934226</td>\n",
       "      <td>35</td>\n",
       "      <td>среднее</td>\n",
       "      <td>1</td>\n",
       "      <td>женат / замужем</td>\n",
       "      <td>0</td>\n",
       "      <td>F</td>\n",
       "      <td>сотрудник</td>\n",
       "      <td>0</td>\n",
       "      <td>289202.704229</td>\n",
       "      <td>недвижимость</td>\n",
       "    </tr>\n",
       "    <tr>\n",
       "      <th>17</th>\n",
       "      <td>0</td>\n",
       "      <td>-2369.999720</td>\n",
       "      <td>33</td>\n",
       "      <td>высшее</td>\n",
       "      <td>0</td>\n",
       "      <td>гражданский брак</td>\n",
       "      <td>1</td>\n",
       "      <td>M</td>\n",
       "      <td>сотрудник</td>\n",
       "      <td>0</td>\n",
       "      <td>90410.586745</td>\n",
       "      <td>строительство недвижимости</td>\n",
       "    </tr>\n",
       "    <tr>\n",
       "      <th>18</th>\n",
       "      <td>0</td>\n",
       "      <td>400281.136913</td>\n",
       "      <td>53</td>\n",
       "      <td>среднее</td>\n",
       "      <td>1</td>\n",
       "      <td>вдовец / вдова</td>\n",
       "      <td>2</td>\n",
       "      <td>F</td>\n",
       "      <td>пенсионер</td>\n",
       "      <td>0</td>\n",
       "      <td>56823.777243</td>\n",
       "      <td>на покупку подержанного автомобиля</td>\n",
       "    </tr>\n",
       "    <tr>\n",
       "      <th>19</th>\n",
       "      <td>0</td>\n",
       "      <td>-10038.818549</td>\n",
       "      <td>48</td>\n",
       "      <td>СРЕДНЕЕ</td>\n",
       "      <td>1</td>\n",
       "      <td>в разводе</td>\n",
       "      <td>3</td>\n",
       "      <td>F</td>\n",
       "      <td>сотрудник</td>\n",
       "      <td>0</td>\n",
       "      <td>242831.107982</td>\n",
       "      <td>на покупку своего автомобиля</td>\n",
       "    </tr>\n",
       "  </tbody>\n",
       "</table>\n",
       "</div>"
      ],
      "text/plain": [
       "    children  days_employed  dob_years            education  education_id  \\\n",
       "0          1   -8437.673028         42               высшее             0   \n",
       "1          1   -4024.803754         36              среднее             1   \n",
       "2          0   -5623.422610         33              Среднее             1   \n",
       "3          3   -4124.747207         32              среднее             1   \n",
       "4          0  340266.072047         53              среднее             1   \n",
       "5          0    -926.185831         27               высшее             0   \n",
       "6          0   -2879.202052         43               высшее             0   \n",
       "7          0    -152.779569         50              СРЕДНЕЕ             1   \n",
       "8          2   -6929.865299         35               ВЫСШЕЕ             0   \n",
       "9          0   -2188.756445         41              среднее             1   \n",
       "10         2   -4171.483647         36               высшее             0   \n",
       "11         0    -792.701887         40              среднее             1   \n",
       "12         0            NaN         65              среднее             1   \n",
       "13         0   -1846.641941         54  неоконченное высшее             2   \n",
       "14         0   -1844.956182         56               высшее             0   \n",
       "15         1    -972.364419         26              среднее             1   \n",
       "16         0   -1719.934226         35              среднее             1   \n",
       "17         0   -2369.999720         33               высшее             0   \n",
       "18         0  400281.136913         53              среднее             1   \n",
       "19         0  -10038.818549         48              СРЕДНЕЕ             1   \n",
       "\n",
       "       family_status  family_status_id gender income_type  debt  \\\n",
       "0    женат / замужем                 0      F   сотрудник     0   \n",
       "1    женат / замужем                 0      F   сотрудник     0   \n",
       "2    женат / замужем                 0      M   сотрудник     0   \n",
       "3    женат / замужем                 0      M   сотрудник     0   \n",
       "4   гражданский брак                 1      F   пенсионер     0   \n",
       "5   гражданский брак                 1      M   компаньон     0   \n",
       "6    женат / замужем                 0      F   компаньон     0   \n",
       "7    женат / замужем                 0      M   сотрудник     0   \n",
       "8   гражданский брак                 1      F   сотрудник     0   \n",
       "9    женат / замужем                 0      M   сотрудник     0   \n",
       "10   женат / замужем                 0      M   компаньон     0   \n",
       "11   женат / замужем                 0      F   сотрудник     0   \n",
       "12  гражданский брак                 1      M   пенсионер     0   \n",
       "13   женат / замужем                 0      F   сотрудник     0   \n",
       "14  гражданский брак                 1      F   компаньон     1   \n",
       "15   женат / замужем                 0      F   сотрудник     0   \n",
       "16   женат / замужем                 0      F   сотрудник     0   \n",
       "17  гражданский брак                 1      M   сотрудник     0   \n",
       "18    вдовец / вдова                 2      F   пенсионер     0   \n",
       "19         в разводе                 3      F   сотрудник     0   \n",
       "\n",
       "     total_income                                 purpose  \n",
       "0   253875.639453                           покупка жилья  \n",
       "1   112080.014102                 приобретение автомобиля  \n",
       "2   145885.952297                           покупка жилья  \n",
       "3   267628.550329              дополнительное образование  \n",
       "4   158616.077870                         сыграть свадьбу  \n",
       "5   255763.565419                           покупка жилья  \n",
       "6   240525.971920                       операции с жильем  \n",
       "7   135823.934197                             образование  \n",
       "8    95856.832424                   на проведение свадьбы  \n",
       "9   144425.938277                 покупка жилья для семьи  \n",
       "10  113943.491460                    покупка недвижимости  \n",
       "11   77069.234271       покупка коммерческой недвижимости  \n",
       "12            NaN                         сыграть свадьбу  \n",
       "13  130458.228857                 приобретение автомобиля  \n",
       "14  165127.911772              покупка жилой недвижимости  \n",
       "15  116820.904450  строительство собственной недвижимости  \n",
       "16  289202.704229                            недвижимость  \n",
       "17   90410.586745              строительство недвижимости  \n",
       "18   56823.777243      на покупку подержанного автомобиля  \n",
       "19  242831.107982            на покупку своего автомобиля  "
      ]
     },
     "execution_count": 2,
     "metadata": {},
     "output_type": "execute_result"
    }
   ],
   "source": [
    "data.head(20)"
   ]
  },
  {
   "cell_type": "markdown",
   "id": "6ee0013c",
   "metadata": {
    "deletable": false,
    "editable": false,
    "id": "1c12e233"
   },
   "source": [
    "**Задание 3. Выведите основную информацию о датафрейме с помощью метода `info()`.**"
   ]
  },
  {
   "cell_type": "code",
   "execution_count": 3,
   "id": "5325d79e",
   "metadata": {
    "deletable": false,
    "id": "2b757bca",
    "outputId": "15376089-8dad-46c9-b520-c05248d43158"
   },
   "outputs": [
    {
     "name": "stdout",
     "output_type": "stream",
     "text": [
      "<class 'pandas.core.frame.DataFrame'>\n",
      "RangeIndex: 21525 entries, 0 to 21524\n",
      "Data columns (total 12 columns):\n",
      " #   Column            Non-Null Count  Dtype  \n",
      "---  ------            --------------  -----  \n",
      " 0   children          21525 non-null  int64  \n",
      " 1   days_employed     19351 non-null  float64\n",
      " 2   dob_years         21525 non-null  int64  \n",
      " 3   education         21525 non-null  object \n",
      " 4   education_id      21525 non-null  int64  \n",
      " 5   family_status     21525 non-null  object \n",
      " 6   family_status_id  21525 non-null  int64  \n",
      " 7   gender            21525 non-null  object \n",
      " 8   income_type       21525 non-null  object \n",
      " 9   debt              21525 non-null  int64  \n",
      " 10  total_income      19351 non-null  float64\n",
      " 11  purpose           21525 non-null  object \n",
      "dtypes: float64(2), int64(5), object(5)\n",
      "memory usage: 2.0+ MB\n"
     ]
    }
   ],
   "source": [
    "data.info()"
   ]
  },
  {
   "cell_type": "markdown",
   "id": "802d1d9a",
   "metadata": {
    "deletable": false,
    "editable": false,
    "id": "333ec665"
   },
   "source": [
    "## Предобработка данных"
   ]
  },
  {
   "cell_type": "markdown",
   "id": "0cbf213a",
   "metadata": {
    "deletable": false,
    "editable": false,
    "id": "02d92d53"
   },
   "source": [
    "### Удаление пропусков"
   ]
  },
  {
   "cell_type": "markdown",
   "id": "9c515f24",
   "metadata": {
    "deletable": false,
    "editable": false,
    "id": "cd84967c"
   },
   "source": [
    "**Задание 4. Выведите количество пропущенных значений для каждого столбца. Используйте комбинацию двух методов.**"
   ]
  },
  {
   "cell_type": "code",
   "execution_count": 4,
   "id": "eccfab2e",
   "metadata": {
    "deletable": false,
    "id": "7f9b2309",
    "outputId": "81f4d817-781c-465c-ed15-91ce4446810d"
   },
   "outputs": [
    {
     "data": {
      "text/plain": [
       "children               0\n",
       "days_employed       2174\n",
       "dob_years              0\n",
       "education              0\n",
       "education_id           0\n",
       "family_status          0\n",
       "family_status_id       0\n",
       "gender                 0\n",
       "income_type            0\n",
       "debt                   0\n",
       "total_income        2174\n",
       "purpose                0\n",
       "dtype: int64"
      ]
     },
     "execution_count": 4,
     "metadata": {},
     "output_type": "execute_result"
    }
   ],
   "source": [
    "data.isna().sum()"
   ]
  },
  {
   "cell_type": "markdown",
   "id": "951968c8",
   "metadata": {
    "deletable": false,
    "editable": false,
    "id": "db86e27b"
   },
   "source": [
    "**Задание 5. В двух столбцах есть пропущенные значения. Один из них — `days_employed`. Пропуски в этом столбце вы обработаете на следующем этапе. Другой столбец с пропущенными значениями — `total_income` — хранит данные о доходах. На сумму дохода сильнее всего влияет тип занятости, поэтому заполнить пропуски в этом столбце нужно медианным значением по каждому типу из столбца `income_type`. Например, у человека с типом занятости `сотрудник` пропуск в столбце `total_income` должен быть заполнен медианным доходом среди всех записей с тем же типом.**"
   ]
  },
  {
   "cell_type": "code",
   "execution_count": 5,
   "id": "769ecf8b",
   "metadata": {
    "deletable": false,
    "id": "42006a93"
   },
   "outputs": [],
   "source": [
    "for t in data['income_type'].unique():\n",
    "    data.loc[(data['income_type'] == t) & (data['total_income'].isna()), 'total_income'] = \\\n",
    "    data.loc[(data['income_type'] == t), 'total_income'].median()"
   ]
  },
  {
   "cell_type": "markdown",
   "id": "a611685e",
   "metadata": {
    "deletable": false,
    "editable": false,
    "id": "89da5ece"
   },
   "source": [
    "### Обработка аномальных значений"
   ]
  },
  {
   "cell_type": "markdown",
   "id": "9eb61dd0",
   "metadata": {
    "deletable": false,
    "editable": false,
    "id": "57964554"
   },
   "source": [
    "**Задание 6. В данных могут встречаться артефакты (аномалии) — значения, которые не отражают действительность и появились по какой-то ошибке. таким артефактом будет отрицательное количество дней трудового стажа в столбце `days_employed`. Для реальных данных это нормально. Обработайте значения в этом столбце: замените все отрицательные значения положительными с помощью метода `abs()`.**"
   ]
  },
  {
   "cell_type": "code",
   "execution_count": 6,
   "id": "6dbd8267",
   "metadata": {
    "deletable": false,
    "id": "f6f055bf"
   },
   "outputs": [],
   "source": [
    "data['days_employed'] = data['days_employed'].abs()"
   ]
  },
  {
   "cell_type": "markdown",
   "id": "6a1d24d5",
   "metadata": {
    "deletable": false,
    "editable": false,
    "id": "6107dd2f"
   },
   "source": [
    "**Задание 7. Для каждого типа занятости выведите медианное значение трудового стажа `days_employed` в днях.**"
   ]
  },
  {
   "cell_type": "code",
   "execution_count": 7,
   "id": "8482570c",
   "metadata": {
    "deletable": false,
    "id": "85a5faf6",
    "outputId": "801ef80e-522b-4668-f34e-565af7432bcf"
   },
   "outputs": [
    {
     "data": {
      "text/plain": [
       "income_type\n",
       "безработный        366413.652744\n",
       "в декрете            3296.759962\n",
       "госслужащий          2689.368353\n",
       "компаньон            1547.382223\n",
       "пенсионер          365213.306266\n",
       "предприниматель       520.848083\n",
       "сотрудник            1574.202821\n",
       "студент               578.751554\n",
       "Name: days_employed, dtype: float64"
      ]
     },
     "execution_count": 7,
     "metadata": {},
     "output_type": "execute_result"
    }
   ],
   "source": [
    "data.groupby('income_type')['days_employed'].agg('median')"
   ]
  },
  {
   "cell_type": "markdown",
   "id": "6fc8506f",
   "metadata": {
    "deletable": false,
    "editable": false,
    "id": "38d1a030"
   },
   "source": [
    "У двух типов (безработные и пенсионеры) получатся аномально большие значения. Исправить такие значения сложно, поэтому оставьте их как есть. Тем более этот столбец не понадобится вам для исследования."
   ]
  },
  {
   "cell_type": "markdown",
   "id": "26f7ee7b",
   "metadata": {
    "deletable": false,
    "editable": false,
    "id": "d8a9f147"
   },
   "source": [
    "**Задание 8. Выведите перечень уникальных значений столбца `children`.**"
   ]
  },
  {
   "cell_type": "code",
   "execution_count": 8,
   "id": "f9d7d8b8",
   "metadata": {
    "deletable": false,
    "id": "ef5056eb",
    "outputId": "6975b15c-7f95-4697-d16d-a0c79b657b03"
   },
   "outputs": [
    {
     "data": {
      "text/plain": [
       "array([ 1,  0,  3,  2, -1,  4, 20,  5])"
      ]
     },
     "execution_count": 8,
     "metadata": {},
     "output_type": "execute_result"
    }
   ],
   "source": [
    "data['children'].unique()"
   ]
  },
  {
   "cell_type": "markdown",
   "id": "6cec83ae",
   "metadata": {
    "deletable": false,
    "editable": false,
    "id": "40b9ebf2"
   },
   "source": [
    "**Задание 9. В столбце `children` есть два аномальных значения. Удалите строки, в которых встречаются такие аномальные значения из датафрейма `data`.**"
   ]
  },
  {
   "cell_type": "code",
   "execution_count": 9,
   "id": "77c96332",
   "metadata": {
    "deletable": false,
    "id": "3ff9801d"
   },
   "outputs": [],
   "source": [
    "data = data[(data['children'] != -1) & (data['children'] != 20)]"
   ]
  },
  {
   "cell_type": "markdown",
   "id": "bb02db73",
   "metadata": {
    "deletable": false,
    "editable": false,
    "id": "bbc4d0ce"
   },
   "source": [
    "**Задание 10. Ещё раз выведите перечень уникальных значений столбца `children`, чтобы убедиться, что артефакты удалены.**"
   ]
  },
  {
   "cell_type": "code",
   "execution_count": 10,
   "id": "2c4394f5",
   "metadata": {
    "deletable": false,
    "id": "ad4fa8b7",
    "outputId": "b2097101-d49d-44d9-901b-32a65c9463d1"
   },
   "outputs": [
    {
     "data": {
      "text/plain": [
       "array([1, 0, 3, 2, 4, 5])"
      ]
     },
     "execution_count": 10,
     "metadata": {},
     "output_type": "execute_result"
    }
   ],
   "source": [
    "data['children'].unique()"
   ]
  },
  {
   "cell_type": "markdown",
   "id": "b57d8cc1",
   "metadata": {
    "deletable": false,
    "editable": false,
    "id": "75440b63"
   },
   "source": [
    "### Удаление пропусков (продолжение)"
   ]
  },
  {
   "cell_type": "markdown",
   "id": "0661c633",
   "metadata": {
    "deletable": false,
    "editable": false,
    "id": "f4ea573f"
   },
   "source": [
    "**Задание 11. Заполните пропуски в столбце `days_employed` медианными значениями по каждого типа занятости `income_type`.**"
   ]
  },
  {
   "cell_type": "code",
   "execution_count": 11,
   "id": "5cf8844f",
   "metadata": {
    "deletable": false,
    "id": "af6b1a7e"
   },
   "outputs": [],
   "source": [
    "for t in data['income_type'].unique():\n",
    "    data.loc[(data['income_type'] == t) & (data['days_employed'].isna()), 'days_employed'] = \\\n",
    "    data.loc[(data['income_type'] == t), 'days_employed'].median()"
   ]
  },
  {
   "cell_type": "markdown",
   "id": "8a2c8824",
   "metadata": {
    "deletable": false,
    "editable": false,
    "id": "2753f40d"
   },
   "source": [
    "**Задание 12. Убедитесь, что все пропуски заполнены. Проверьте себя и ещё раз выведите количество пропущенных значений для каждого столбца с помощью двух методов.**"
   ]
  },
  {
   "cell_type": "code",
   "execution_count": 12,
   "id": "9e8e968f",
   "metadata": {
    "deletable": false,
    "id": "55f78bc2",
    "outputId": "8da1e4e1-358e-4e87-98c9-f261bce0a7b2"
   },
   "outputs": [
    {
     "data": {
      "text/plain": [
       "children            0\n",
       "days_employed       0\n",
       "dob_years           0\n",
       "education           0\n",
       "education_id        0\n",
       "family_status       0\n",
       "family_status_id    0\n",
       "gender              0\n",
       "income_type         0\n",
       "debt                0\n",
       "total_income        0\n",
       "purpose             0\n",
       "dtype: int64"
      ]
     },
     "execution_count": 12,
     "metadata": {},
     "output_type": "execute_result"
    }
   ],
   "source": [
    "data.isna().sum()"
   ]
  },
  {
   "cell_type": "markdown",
   "id": "eb65b1a5",
   "metadata": {
    "deletable": false,
    "editable": false,
    "id": "ddc81e43"
   },
   "source": [
    "### Изменение типов данных"
   ]
  },
  {
   "cell_type": "markdown",
   "id": "85123642",
   "metadata": {
    "deletable": false,
    "editable": false,
    "id": "42d19d24"
   },
   "source": [
    "**Задание 13. Замените вещественный тип данных в столбце `total_income` на целочисленный с помощью метода `astype()`.**"
   ]
  },
  {
   "cell_type": "code",
   "execution_count": 13,
   "id": "4909742a",
   "metadata": {
    "deletable": false,
    "id": "920b65ad"
   },
   "outputs": [],
   "source": [
    "data['total_income'] = data['total_income'].astype(int)"
   ]
  },
  {
   "cell_type": "markdown",
   "id": "cb471c17",
   "metadata": {
    "deletable": false,
    "editable": false,
    "id": "80c420ba"
   },
   "source": [
    "### Обработка дубликатов"
   ]
  },
  {
   "cell_type": "markdown",
   "id": "efa74233",
   "metadata": {
    "deletable": false,
    "editable": false
   },
   "source": [
    "**Задание 14. Обработайте неявные дубликаты в столбце `education`. В этом столбце есть одни и те же значения, но записанные по-разному: с использованием заглавных и строчных букв. Приведите их к нижнему регистру. Проверьте остальные столбцы.**"
   ]
  },
  {
   "cell_type": "code",
   "execution_count": 14,
   "id": "b4155d22",
   "metadata": {
    "deletable": false
   },
   "outputs": [],
   "source": [
    "data['education'] = data['education'].str.lower()"
   ]
  },
  {
   "cell_type": "markdown",
   "id": "0950d5fb",
   "metadata": {
    "deletable": false,
    "editable": false,
    "id": "dc587695"
   },
   "source": [
    "**Задание 15. Выведите на экран количество строк-дубликатов в данных. Если такие строки присутствуют, удалите их.**"
   ]
  },
  {
   "cell_type": "code",
   "execution_count": 15,
   "id": "7326c5f4",
   "metadata": {
    "deletable": false,
    "id": "3ee445e4",
    "outputId": "9684deba-1934-42d1-99e1-cda61740f822"
   },
   "outputs": [
    {
     "data": {
      "text/plain": [
       "71"
      ]
     },
     "execution_count": 15,
     "metadata": {},
     "output_type": "execute_result"
    }
   ],
   "source": [
    "data.duplicated().sum()"
   ]
  },
  {
   "cell_type": "code",
   "execution_count": 16,
   "id": "19e8c433",
   "metadata": {
    "deletable": false,
    "id": "8575fe05"
   },
   "outputs": [],
   "source": [
    "data = data.drop_duplicates()"
   ]
  },
  {
   "cell_type": "markdown",
   "id": "7f4160f8",
   "metadata": {
    "deletable": false,
    "editable": false,
    "id": "9904cf55"
   },
   "source": [
    "### Категоризация данных"
   ]
  },
  {
   "cell_type": "markdown",
   "id": "9b610f74",
   "metadata": {
    "deletable": false,
    "editable": false,
    "id": "72fcc8a2"
   },
   "source": [
    "**Задание 16. На основании диапазонов, указанных ниже, создайте в датафрейме `data` столбец `total_income_category` с категориями:**\n",
    "\n",
    "- 0–30000 — `'E'`;\n",
    "- 30001–50000 — `'D'`;\n",
    "- 50001–200000 — `'C'`;\n",
    "- 200001–1000000 — `'B'`;\n",
    "- 1000001 и выше — `'A'`.\n",
    "\n",
    "\n",
    "**Например, кредитополучателю с доходом 25000 нужно назначить категорию `'E'`, а клиенту, получающему 235000, — `'B'`. Используйте собственную функцию с именем `categorize_income()` и метод `apply()`.**"
   ]
  },
  {
   "cell_type": "code",
   "execution_count": 17,
   "id": "fcc927e8",
   "metadata": {
    "deletable": false,
    "id": "e1771346"
   },
   "outputs": [],
   "source": [
    "def categorize_income(income):\n",
    "    try:\n",
    "        if 0 <= income <= 30000:\n",
    "            return 'E'\n",
    "        elif 30001 <= income <= 50000:\n",
    "            return 'D'\n",
    "        elif 50001 <= income <= 200000:\n",
    "            return 'C'\n",
    "        elif 200001 <= income <= 1000000:\n",
    "            return 'B'\n",
    "        elif income >= 1000001:\n",
    "            return 'A'\n",
    "    except:\n",
    "        pass"
   ]
  },
  {
   "cell_type": "code",
   "execution_count": 18,
   "id": "65f0900d",
   "metadata": {
    "deletable": false,
    "id": "d5f3586d"
   },
   "outputs": [],
   "source": [
    "data['total_income_category'] = data['total_income'].apply(categorize_income)"
   ]
  },
  {
   "cell_type": "markdown",
   "id": "646145ab",
   "metadata": {
    "deletable": false,
    "editable": false,
    "id": "dde49b5c"
   },
   "source": [
    "**Задание 17. Выведите на экран перечень уникальных целей взятия кредита из столбца `purpose`.**"
   ]
  },
  {
   "cell_type": "code",
   "execution_count": 19,
   "id": "f0a6039a",
   "metadata": {
    "deletable": false,
    "id": "f67ce9b3",
    "outputId": "673c12d9-7d7e-4ae0-9812-c622c89dd244"
   },
   "outputs": [
    {
     "data": {
      "text/plain": [
       "array(['покупка жилья', 'приобретение автомобиля',\n",
       "       'дополнительное образование', 'сыграть свадьбу',\n",
       "       'операции с жильем', 'образование', 'на проведение свадьбы',\n",
       "       'покупка жилья для семьи', 'покупка недвижимости',\n",
       "       'покупка коммерческой недвижимости', 'покупка жилой недвижимости',\n",
       "       'строительство собственной недвижимости', 'недвижимость',\n",
       "       'строительство недвижимости', 'на покупку подержанного автомобиля',\n",
       "       'на покупку своего автомобиля',\n",
       "       'операции с коммерческой недвижимостью',\n",
       "       'строительство жилой недвижимости', 'жилье',\n",
       "       'операции со своей недвижимостью', 'автомобили',\n",
       "       'заняться образованием', 'сделка с подержанным автомобилем',\n",
       "       'получение образования', 'автомобиль', 'свадьба',\n",
       "       'получение дополнительного образования', 'покупка своего жилья',\n",
       "       'операции с недвижимостью', 'получение высшего образования',\n",
       "       'свой автомобиль', 'сделка с автомобилем',\n",
       "       'профильное образование', 'высшее образование',\n",
       "       'покупка жилья для сдачи', 'на покупку автомобиля', 'ремонт жилью',\n",
       "       'заняться высшим образованием'], dtype=object)"
      ]
     },
     "execution_count": 19,
     "metadata": {},
     "output_type": "execute_result"
    }
   ],
   "source": [
    "data['purpose'].unique()"
   ]
  },
  {
   "cell_type": "markdown",
   "id": "62f5c14b",
   "metadata": {
    "deletable": false,
    "editable": false,
    "id": "85d0aef0"
   },
   "source": [
    "**Задание 18. Создайте функцию, которая на основании данных из столбца `purpose` сформирует новый столбец `purpose_category`, в который войдут следующие категории:**\n",
    "\n",
    "- `'операции с автомобилем'`,\n",
    "- `'операции с недвижимостью'`,\n",
    "- `'проведение свадьбы'`,\n",
    "- `'получение образования'`.\n",
    "\n",
    "**Например, если в столбце `purpose` находится подстрока `'на покупку автомобиля'`, то в столбце `purpose_category` должна появиться строка `'операции с автомобилем'`.**\n",
    "\n",
    "**Используйте собственную функцию с именем `categorize_purpose()` и метод `apply()`. Изучите данные в столбце `purpose` и определите, какие подстроки помогут вам правильно определить категорию.**"
   ]
  },
  {
   "cell_type": "code",
   "execution_count": 20,
   "id": "0c8c0adb",
   "metadata": {
    "deletable": false,
    "id": "e149fab4"
   },
   "outputs": [],
   "source": [
    "def categorize_purpose(row):\n",
    "    try:\n",
    "        if 'автом' in row:\n",
    "            return 'операции с автомобилем'\n",
    "        elif 'жил' in row or 'недвиж' in row:\n",
    "            return 'операции с недвижимостью'\n",
    "        elif 'свад' in row:\n",
    "            return 'проведение свадьбы'\n",
    "        elif 'образов' in row:\n",
    "            return 'получение образования'\n",
    "    except:\n",
    "        return 'нет категории'"
   ]
  },
  {
   "cell_type": "code",
   "execution_count": 21,
   "id": "72bfcc7e",
   "metadata": {
    "deletable": false,
    "id": "bf36e69b"
   },
   "outputs": [],
   "source": [
    "data['purpose_category'] = data['purpose'].apply(categorize_purpose)"
   ]
  },
  {
   "cell_type": "markdown",
   "id": "c7d7a45c",
   "metadata": {
    "deletable": false,
    "editable": false,
    "id": "09b242bf"
   },
   "source": [
    "### Шаг 3. Исследуйте данные и ответьте на вопросы"
   ]
  },
  {
   "cell_type": "markdown",
   "id": "9297f1ae",
   "metadata": {
    "deletable": false,
    "editable": false,
    "id": "c5d66278"
   },
   "source": [
    "#### 3.1 Есть ли зависимость между количеством детей и возвратом кредита в срок?"
   ]
  },
  {
   "cell_type": "code",
   "execution_count": 22,
   "id": "2c974295",
   "metadata": {
    "deletable": false,
    "id": "2cacfc4a"
   },
   "outputs": [
    {
     "name": "stdout",
     "output_type": "stream",
     "text": [
      "kids_presence  children  debt\n",
      "да             1         0        4364\n",
      "                         1         444\n",
      "               2         0        1858\n",
      "                         1         194\n",
      "               3         0         303\n",
      "                         1          27\n",
      "               4         0          37\n",
      "                         1           4\n",
      "               5         0           9\n",
      "нет            0         0       13028\n",
      "                         1        1063\n",
      "Name: debt, dtype: int64\n",
      "children\n",
      "0    0.075438\n",
      "1    0.092346\n",
      "2    0.094542\n",
      "3    0.081818\n",
      "4    0.097561\n",
      "5    0.000000\n",
      "Name: debt, dtype: float64\n",
      "kids_presence\n",
      "да     0.092403\n",
      "нет    0.075438\n",
      "Name: debt, dtype: float64\n",
      "Процент не возврата кредитов у людей с детьми выше на: 1.70%\n"
     ]
    }
   ],
   "source": [
    "def kids_presence(k):\n",
    "    if k == 0:\n",
    "            return 'нет'\n",
    "    return 'да'\n",
    "    \n",
    "\n",
    "data['kids_presence'] = data['children'].apply(kids_presence)\n",
    "\n",
    "\n",
    "child_debt = data.groupby(['kids_presence', 'children', 'debt'])['debt'].count()\n",
    "print(child_debt) \n",
    "child_debt = data.groupby(['children'])['debt'].mean()\n",
    "print(child_debt) \n",
    "child_debt = data.groupby(['kids_presence'])['debt'].mean()\n",
    "print(child_debt)\n",
    "print('Процент не возврата кредитов у людей с детьми выше на:', f'{child_debt[0] - child_debt[1]:.2%}')\n",
    "\n"
   ]
  },
  {
   "cell_type": "markdown",
   "id": "5618bd4d",
   "metadata": {
    "deletable": false,
    "id": "3a6b99ec"
   },
   "source": [
    "**Вывод:** "
   ]
  },
  {
   "cell_type": "markdown",
   "id": "e1fc982d",
   "metadata": {},
   "source": [
    "<div class=\"alert alert-success\">\n",
    "<b>✔️ Комментарий ревьюера v1:</b> \n",
    "<br>Верно! \n",
    "</div>"
   ]
  },
  {
   "cell_type": "markdown",
   "id": "3910d6a7",
   "metadata": {
    "deletable": false,
    "editable": false,
    "id": "97be82ca"
   },
   "source": [
    "#### 3.2 Есть ли зависимость между семейным положением и возвратом кредита в срок?"
   ]
  },
  {
   "cell_type": "code",
   "execution_count": 23,
   "id": "cf5528ba",
   "metadata": {
    "deletable": false,
    "id": "dc3f7ee8"
   },
   "outputs": [
    {
     "name": "stdout",
     "output_type": "stream",
     "text": [
      "family_presence  family_status          debt\n",
      "да               гражданский брак       0        3749\n",
      "                                        1         385\n",
      "                 женат / замужем        0       11334\n",
      "                                        1         927\n",
      "нет              Не женат / не замужем  0        2523\n",
      "                                        1         273\n",
      "                 в разводе              0        1105\n",
      "                                        1          84\n",
      "                 вдовец / вдова         0         888\n",
      "                                        1          63\n",
      "Name: debt, dtype: int64\n",
      "family_status\n",
      "Не женат / не замужем    0.097639\n",
      "в разводе                0.070648\n",
      "вдовец / вдова           0.066246\n",
      "гражданский брак         0.093130\n",
      "женат / замужем          0.075606\n",
      "Name: debt, dtype: float64\n",
      "family_presence\n",
      "да     0.080024\n",
      "нет    0.085089\n",
      "Name: debt, dtype: float64\n",
      "Процент не возврата кредита у людей в браке ниже на: -0.51%\n"
     ]
    }
   ],
   "source": [
    "def family_presence(k):\n",
    "    if (k == 'женат / замужем') or (k == 'гражданский брак'):\n",
    "            return 'да'\n",
    "    return 'нет'\n",
    "    \n",
    "\n",
    "data['family_presence'] = data['family_status'].apply(family_presence)\n",
    "\n",
    "\n",
    "child_debt = data.groupby(['family_presence', 'family_status', 'debt'])['debt'].count()\n",
    "print(child_debt) \n",
    "child_debt = data.groupby(['family_status'])['debt'].mean()\n",
    "print(child_debt) \n",
    "child_debt = data.groupby(['family_presence'])['debt'].mean()\n",
    "print(child_debt)\n",
    "print('Процент не возврата кредита у людей в браке ниже на:', f'{child_debt[0] - child_debt[1]:.2%}')\n",
    "\n"
   ]
  },
  {
   "cell_type": "markdown",
   "id": "cd5c817c",
   "metadata": {
    "deletable": false,
    "id": "1cef7837"
   },
   "source": [
    "**Вывод:** "
   ]
  },
  {
   "cell_type": "markdown",
   "id": "5c64dad0",
   "metadata": {},
   "source": [
    "<div class=\"alert alert-success\">\n",
    "<b>✔️ Комментарий ревьюера v1:</b> \n",
    "<br>Тут всё правильно\n",
    "</div>"
   ]
  },
  {
   "cell_type": "markdown",
   "id": "a41ee81d",
   "metadata": {
    "deletable": false,
    "editable": false,
    "id": "1e8b2fca"
   },
   "source": [
    "#### 3.3 Есть ли зависимость между уровнем дохода и возвратом кредита в срок?"
   ]
  },
  {
   "cell_type": "code",
   "execution_count": 24,
   "id": "4ddbefd7",
   "metadata": {
    "deletable": false,
    "id": "cd7e3720"
   },
   "outputs": [
    {
     "name": "stdout",
     "output_type": "stream",
     "text": [
      "total_income_category  debt\n",
      "A                      0          23\n",
      "                       1           2\n",
      "B                      0        4660\n",
      "                       1         354\n",
      "C                      0       14568\n",
      "                       1        1353\n",
      "D                      0         328\n",
      "                       1          21\n",
      "E                      0          20\n",
      "                       1           2\n",
      "Name: debt, dtype: int64\n",
      "total_income_category\n",
      "A    0.080000\n",
      "B    0.070602\n",
      "C    0.084982\n",
      "D    0.060172\n",
      "E    0.090909\n",
      "Name: debt, dtype: float64\n",
      "Категория с самым низким невозвратом: D - 6.02%\n"
     ]
    }
   ],
   "source": [
    "child_debt = data.groupby(['total_income_category', 'debt' ])['debt'].count()\n",
    "print(child_debt)\n",
    "child_debt = data.groupby(['total_income_category'])['debt'].mean()\n",
    "print(child_debt)\n",
    "print('Категория с самым низким невозвратом: D -', f'{child_debt[3]:.2%}')\n",
    "# Ваш код будет здесь. Вы можете создавать новые ячейки."
   ]
  },
  {
   "cell_type": "markdown",
   "id": "6b43971e",
   "metadata": {
    "deletable": false,
    "id": "e8593def"
   },
   "source": [
    "**Вывод:** "
   ]
  },
  {
   "cell_type": "markdown",
   "id": "51dd4d27",
   "metadata": {},
   "source": [
    "<div class=\"alert alert-success\">\n",
    "<b>✔️ Комментарий ревьюера v1:</b> \n",
    "<br>Согласен! Идём дальше)\n",
    "</div>"
   ]
  },
  {
   "cell_type": "markdown",
   "id": "8b691e57",
   "metadata": {
    "deletable": false,
    "editable": false,
    "id": "99ecbd1f"
   },
   "source": [
    "#### 3.4 Как разные цели кредита влияют на его возврат в срок?"
   ]
  },
  {
   "cell_type": "code",
   "execution_count": 25,
   "id": "a34a7dba",
   "metadata": {
    "deletable": false,
    "id": "2b687290"
   },
   "outputs": [
    {
     "name": "stdout",
     "output_type": "stream",
     "text": [
      "purpose_category          debt\n",
      "операции с автомобилем    0       3879\n",
      "                          1        400\n",
      "операции с недвижимостью  0       9971\n",
      "                          1        780\n",
      "получение образования     0       3619\n",
      "                          1        369\n",
      "проведение свадьбы        0       2130\n",
      "                          1        183\n",
      "Name: debt, dtype: int64\n",
      "purpose_category\n",
      "операции с автомобилем      0.093480\n",
      "операции с недвижимостью    0.072551\n",
      "получение образования       0.092528\n",
      "проведение свадьбы          0.079118\n",
      "Name: debt, dtype: float64\n",
      "Категории с самым низким процентом невозврата: операции с недвижимостью - 7.26% проведение свадьбы - 7.91%\n"
     ]
    }
   ],
   "source": [
    "child_debt = data.groupby(['purpose_category', 'debt' ])['debt'].count()\n",
    "print(child_debt)\n",
    "child_debt = data.groupby(['purpose_category'])['debt'].mean()\n",
    "print(child_debt)\n",
    "print('Категории с самым низким процентом невозврата: операции с недвижимостью -', f'{child_debt[1]:.2%}' , 'проведение свадьбы -', f'{child_debt[3]:.2%}')\n",
    "# Ваш код будет здесь. Вы можете создавать новые ячейки."
   ]
  },
  {
   "cell_type": "markdown",
   "id": "e850c169",
   "metadata": {
    "deletable": false,
    "id": "b4bb2ce6"
   },
   "source": [
    "**Вывод:** "
   ]
  },
  {
   "cell_type": "markdown",
   "id": "3d3f3ff2",
   "metadata": {},
   "source": [
    "<div class=\"alert alert-success\">\n",
    "<b>✔️ Комментарий ревьюера v1:</b>\n",
    "<br>Абсолютно верно!\n",
    "</div>"
   ]
  },
  {
   "cell_type": "markdown",
   "id": "2ae8ce37",
   "metadata": {
    "deletable": false,
    "editable": false,
    "id": "09c3ac4c"
   },
   "source": [
    "#### 3.5 Приведите возможные причины появления пропусков в исходных данных."
   ]
  },
  {
   "cell_type": "markdown",
   "id": "99b51398",
   "metadata": {
    "deletable": false,
    "id": "9da2ceda"
   },
   "source": [
    "# *Ответ:*  \n",
    "1. Люди не работают, поэтому нет данных по количеству рабочих дней и доходу. \n",
    "2. Не правильно заполнили анкету, поэтому нет данных\n",
    "3. При внесении данных в таблицу были допущены ошибки"
   ]
  },
  {
   "cell_type": "markdown",
   "id": "f02bdd77",
   "metadata": {},
   "source": [
    "<div class=\"alert alert-success\">\n",
    "<b>✔️ Комментарий ревьюера v1:</b> \n",
    "<br>Верно!\n",
    "</div>"
   ]
  },
  {
   "cell_type": "markdown",
   "id": "625e2149",
   "metadata": {
    "deletable": false,
    "editable": false,
    "id": "7b0487d6"
   },
   "source": [
    "#### 3.6 Объясните, почему заполнить пропуски медианным значением — лучшее решение для количественных переменных."
   ]
  },
  {
   "cell_type": "markdown",
   "id": "c5567b92",
   "metadata": {
    "deletable": false,
    "id": "7ecf2b8e"
   },
   "source": [
    "*Ответ:*\n",
    "Наиболее вероятный сценарий люди не работают (пенсионеры, дети, студенты, бесзработные и тд). Для того чтобы 0 значения в этих данных не создали неправильную картину наиболее удобное решение заменить их на медианные значения, так как средне арифметическое может быть искажено какими-то пиковыми значениями"
   ]
  },
  {
   "cell_type": "markdown",
   "id": "48edafbd",
   "metadata": {},
   "source": [
    "<div class=\"alert alert-success\">\n",
    "<b>✔️ Комментарий ревьюера v1:</b> \n",
    "<br>Точно! Здорово, что ты помнишь об этом различии между средним и медианой\n",
    "</div>"
   ]
  },
  {
   "cell_type": "markdown",
   "id": "1fe51228",
   "metadata": {
    "deletable": false,
    "editable": false,
    "id": "6db5255a"
   },
   "source": [
    "### Шаг 4: общий вывод."
   ]
  },
  {
   "cell_type": "markdown",
   "id": "e9d04c60",
   "metadata": {
    "deletable": false,
    "id": "bad65432"
   },
   "source": [
    "Люди с детьми менее благонадежны в отношении возврата кредитов, показатель их невозврата ~ 9%, в отличии от людей без детей ~ 7.5%. \n",
    "Люди в браке стабильнее возвращают кредиты, чем люди без брака ~ 0.5% \n",
    "Наиболее привлекательны категории для выдачи кредита  - B, D. Категория D хоть и имеет более низкий % невозврата, однако категоия B более многочислена, что также делает ее привлекательной. \n",
    "Люди, которые берут кредиты на свадьбу и недвижимость более привлекательная категория клиентов, чем те, кто берет кредиты на образование и машину. "
   ]
  },
  {
   "cell_type": "markdown",
   "id": "003564f2",
   "metadata": {},
   "source": [
    "<div class=\"alert alert-success\">\n",
    "<b>✔️ Комментарий ревьюера v1:</b> \n",
    "<br>Всё верно 👍\n",
    "</div>"
   ]
  },
  {
   "cell_type": "markdown",
   "id": "7465c347",
   "metadata": {},
   "source": [
    "<div class=\"alert alert-success\">\n",
    "<b>✔️ Итоговый комментарий ревьюера v1:</b>\n",
    "<br>Я бы мог принять твою работу с первого раза, но хочу дать тебе возможность задать мне вопросы) Если вопросов нет, то я с радостью приму проект)\n",
    "</div>\n"
   ]
  },
  {
   "cell_type": "markdown",
   "id": "48015452",
   "metadata": {},
   "source": [
    "<div class=\"alert alert-info\">\n",
    "<b>Комментарий студента:</b>\n",
    "<br>Спасибо большое. В данном проекте задание номер 5 для меня было самым сложным, подскжате где можно похожие задания посмотреть, поделать. Замена с несколькими условиями пока дается труднее всего.  \n",
    "</div>\n"
   ]
  },
  {
   "cell_type": "markdown",
   "id": "acea058e",
   "metadata": {},
   "source": [
    "<div class=\"alert alert-success\">\n",
    "<b>✔️ Комментарий ревьюера v2:</b> \n",
    "<br>Можешь поискать в интернете тетрадку \"100 pandas exercises\". В ней много заданий по этой библиотеке, но не могу гарантировать, что там будут именно такие же.\n",
    "<br>Также аналогичную замену можно сделать в одну строчку через transform:\n",
    "    \n",
    "    df['total_income'] = df['total_income'].fillna(df.groupby('income_type')['total_income'].transform(\"median\"))\n",
    "\n",
    "<br>Она создаёт новый столбец, который содержит столько же строк, сколько и изначальный, но только вместо оригинальных значений в каждой строке содержится медиана посчитанная по заданной группе. После этого вместо пропусков в оригинальном столбце мы подставляем значения из созданного столбца, то есть медианы в зависимости от группы.\n",
    "</div>"
   ]
  },
  {
   "cell_type": "markdown",
   "id": "85627826",
   "metadata": {},
   "source": [
    "<div class=\"alert alert-success\">\n",
    "<b>✔️ Итоговый комментарий ревьюера v2:</b>\n",
    "<br>Рад был поработать над проверкой твоего проекта) Желаю удачи в дальнейшем обучении! 😉\n",
    "</div>"
   ]
  }
 ],
 "metadata": {
  "ExecuteTimeLog": [
   {
    "duration": 460,
    "start_time": "2022-08-30T09:03:57.580Z"
   },
   {
    "duration": 16,
    "start_time": "2022-08-30T09:06:04.365Z"
   },
   {
    "duration": 4,
    "start_time": "2022-08-30T09:07:14.634Z"
   },
   {
    "duration": 4,
    "start_time": "2022-08-30T09:08:17.165Z"
   },
   {
    "duration": 4,
    "start_time": "2022-08-30T09:08:30.316Z"
   },
   {
    "duration": 4,
    "start_time": "2022-08-30T09:08:35.284Z"
   },
   {
    "duration": 6,
    "start_time": "2022-08-30T09:09:07.501Z"
   },
   {
    "duration": 67,
    "start_time": "2022-08-30T09:09:18.814Z"
   },
   {
    "duration": 22,
    "start_time": "2022-08-30T09:09:19.318Z"
   },
   {
    "duration": 15,
    "start_time": "2022-08-30T09:09:19.691Z"
   },
   {
    "duration": 12,
    "start_time": "2022-08-30T09:09:20.420Z"
   },
   {
    "duration": 37,
    "start_time": "2022-08-30T09:09:20.794Z"
   },
   {
    "duration": 5,
    "start_time": "2022-08-30T09:09:21.347Z"
   },
   {
    "duration": 7,
    "start_time": "2022-08-30T09:09:21.716Z"
   },
   {
    "duration": 5,
    "start_time": "2022-08-30T09:09:22.300Z"
   },
   {
    "duration": 7,
    "start_time": "2022-08-30T09:09:22.657Z"
   },
   {
    "duration": 4,
    "start_time": "2022-08-30T09:09:23.200Z"
   },
   {
    "duration": 30,
    "start_time": "2022-08-30T09:09:23.636Z"
   },
   {
    "duration": 9,
    "start_time": "2022-08-30T09:09:24.396Z"
   },
   {
    "duration": 4,
    "start_time": "2022-08-30T09:09:25.108Z"
   },
   {
    "duration": 10,
    "start_time": "2022-08-30T09:09:25.660Z"
   },
   {
    "duration": 18,
    "start_time": "2022-08-30T09:09:26.055Z"
   },
   {
    "duration": 18,
    "start_time": "2022-08-30T09:09:27.245Z"
   },
   {
    "duration": 3,
    "start_time": "2022-08-30T09:09:27.844Z"
   },
   {
    "duration": 9,
    "start_time": "2022-08-30T09:09:28.071Z"
   },
   {
    "duration": 6,
    "start_time": "2022-08-30T09:09:28.420Z"
   },
   {
    "duration": 3,
    "start_time": "2022-08-30T09:09:28.836Z"
   },
   {
    "duration": 8,
    "start_time": "2022-08-30T09:09:29.004Z"
   },
   {
    "duration": 7,
    "start_time": "2022-08-30T09:09:30.484Z"
   },
   {
    "duration": 7,
    "start_time": "2022-08-30T09:09:47.036Z"
   },
   {
    "duration": 67,
    "start_time": "2022-08-30T09:12:35.748Z"
   },
   {
    "duration": 9,
    "start_time": "2022-08-30T09:13:19.373Z"
   },
   {
    "duration": 6,
    "start_time": "2022-08-30T09:15:05.877Z"
   },
   {
    "duration": 7,
    "start_time": "2022-08-30T09:15:29.966Z"
   },
   {
    "duration": 14,
    "start_time": "2022-08-30T09:15:39.893Z"
   },
   {
    "duration": 6,
    "start_time": "2022-08-30T09:16:17.413Z"
   },
   {
    "duration": 8,
    "start_time": "2022-08-30T09:17:48.901Z"
   },
   {
    "duration": 9,
    "start_time": "2022-08-30T09:17:53.317Z"
   },
   {
    "duration": 8,
    "start_time": "2022-08-30T09:18:15.613Z"
   },
   {
    "duration": 6,
    "start_time": "2022-08-30T09:19:00.134Z"
   },
   {
    "duration": 7,
    "start_time": "2022-08-30T09:19:54.814Z"
   },
   {
    "duration": 9,
    "start_time": "2022-08-30T09:20:21.168Z"
   },
   {
    "duration": 11,
    "start_time": "2022-08-30T09:25:56.652Z"
   },
   {
    "duration": 9,
    "start_time": "2022-08-30T09:26:41.168Z"
   },
   {
    "duration": 11,
    "start_time": "2022-08-30T10:05:07.374Z"
   },
   {
    "duration": 12,
    "start_time": "2022-08-30T10:06:00.486Z"
   },
   {
    "duration": 8,
    "start_time": "2022-08-30T10:06:17.352Z"
   },
   {
    "duration": 11,
    "start_time": "2022-08-30T10:06:22.798Z"
   },
   {
    "duration": 11,
    "start_time": "2022-08-30T10:06:34.071Z"
   },
   {
    "duration": 12,
    "start_time": "2022-08-30T10:06:39.618Z"
   },
   {
    "duration": 69,
    "start_time": "2022-08-30T10:06:53.173Z"
   },
   {
    "duration": 10,
    "start_time": "2022-08-30T10:06:59.750Z"
   },
   {
    "duration": 8,
    "start_time": "2022-08-30T10:07:09.590Z"
   },
   {
    "duration": 13,
    "start_time": "2022-08-30T10:07:30.479Z"
   },
   {
    "duration": 17,
    "start_time": "2022-08-30T10:07:42.858Z"
   },
   {
    "duration": 12,
    "start_time": "2022-08-30T10:08:10.063Z"
   },
   {
    "duration": 9,
    "start_time": "2022-08-30T10:08:20.134Z"
   },
   {
    "duration": 11,
    "start_time": "2022-08-30T10:08:38.614Z"
   },
   {
    "duration": 10,
    "start_time": "2022-08-30T10:09:31.726Z"
   },
   {
    "duration": 17,
    "start_time": "2022-08-30T10:09:38.894Z"
   },
   {
    "duration": 8,
    "start_time": "2022-08-30T10:09:53.671Z"
   },
   {
    "duration": 77,
    "start_time": "2022-08-30T10:11:40.303Z"
   },
   {
    "duration": 14,
    "start_time": "2022-08-30T10:12:32.547Z"
   },
   {
    "duration": 9,
    "start_time": "2022-08-30T10:14:08.077Z"
   },
   {
    "duration": 14,
    "start_time": "2022-08-30T10:14:16.928Z"
   },
   {
    "duration": 15,
    "start_time": "2022-08-30T10:15:00.855Z"
   },
   {
    "duration": 8,
    "start_time": "2022-08-30T10:15:34.677Z"
   },
   {
    "duration": 9,
    "start_time": "2022-08-30T10:15:58.519Z"
   },
   {
    "duration": 10,
    "start_time": "2022-08-30T10:16:07.744Z"
   },
   {
    "duration": 9,
    "start_time": "2022-08-30T10:16:35.975Z"
   },
   {
    "duration": 76,
    "start_time": "2022-08-30T10:16:41.087Z"
   },
   {
    "duration": 9,
    "start_time": "2022-08-30T10:16:45.944Z"
   },
   {
    "duration": 15,
    "start_time": "2022-08-30T10:17:13.828Z"
   },
   {
    "duration": 8,
    "start_time": "2022-08-30T10:17:37.368Z"
   },
   {
    "duration": 8,
    "start_time": "2022-08-30T10:18:11.817Z"
   },
   {
    "duration": 13,
    "start_time": "2022-08-30T10:18:54.858Z"
   },
   {
    "duration": 10,
    "start_time": "2022-08-30T10:20:01.496Z"
   },
   {
    "duration": 9,
    "start_time": "2022-08-30T10:20:13.555Z"
   },
   {
    "duration": 9,
    "start_time": "2022-08-30T10:20:26.732Z"
   },
   {
    "duration": 11,
    "start_time": "2022-08-30T10:21:02.170Z"
   },
   {
    "duration": 9,
    "start_time": "2022-08-30T10:21:20.552Z"
   },
   {
    "duration": 14,
    "start_time": "2022-08-30T10:22:40.225Z"
   },
   {
    "duration": 13,
    "start_time": "2022-08-30T10:22:55.169Z"
   },
   {
    "duration": 10,
    "start_time": "2022-08-30T10:24:23.576Z"
   },
   {
    "duration": 9,
    "start_time": "2022-08-30T10:24:31.977Z"
   },
   {
    "duration": 15,
    "start_time": "2022-08-30T10:29:24.379Z"
   },
   {
    "duration": 19,
    "start_time": "2022-08-30T10:29:31.578Z"
   },
   {
    "duration": 15,
    "start_time": "2022-08-30T10:29:43.362Z"
   },
   {
    "duration": 20,
    "start_time": "2022-08-30T10:30:55.346Z"
   },
   {
    "duration": 18,
    "start_time": "2022-08-30T10:31:15.812Z"
   },
   {
    "duration": 23,
    "start_time": "2022-08-30T10:32:00.099Z"
   },
   {
    "duration": 27,
    "start_time": "2022-08-30T10:32:13.560Z"
   },
   {
    "duration": 17,
    "start_time": "2022-08-30T10:32:41.163Z"
   },
   {
    "duration": 78,
    "start_time": "2022-08-30T10:34:06.212Z"
   },
   {
    "duration": 20,
    "start_time": "2022-08-30T10:34:17.787Z"
   },
   {
    "duration": 17,
    "start_time": "2022-08-30T10:36:52.582Z"
   },
   {
    "duration": 18,
    "start_time": "2022-08-30T10:38:21.276Z"
   },
   {
    "duration": 27,
    "start_time": "2022-08-30T10:38:30.799Z"
   },
   {
    "duration": 18,
    "start_time": "2022-08-30T10:38:34.630Z"
   },
   {
    "duration": 10,
    "start_time": "2022-08-30T10:39:58.079Z"
   },
   {
    "duration": 5,
    "start_time": "2022-08-30T10:40:09.819Z"
   },
   {
    "duration": 28,
    "start_time": "2022-08-30T10:42:36.670Z"
   },
   {
    "duration": 23,
    "start_time": "2022-08-30T10:42:58.638Z"
   },
   {
    "duration": 26,
    "start_time": "2022-08-30T10:45:00.630Z"
   },
   {
    "duration": 6,
    "start_time": "2022-08-30T10:45:31.958Z"
   },
   {
    "duration": 19,
    "start_time": "2022-08-30T10:45:53.015Z"
   },
   {
    "duration": 20,
    "start_time": "2022-08-30T10:45:55.855Z"
   },
   {
    "duration": 19,
    "start_time": "2022-08-30T10:46:08.293Z"
   },
   {
    "duration": 21,
    "start_time": "2022-08-30T10:46:09.870Z"
   },
   {
    "duration": 12,
    "start_time": "2022-08-30T10:48:31.982Z"
   },
   {
    "duration": 14,
    "start_time": "2022-08-30T10:48:43.472Z"
   },
   {
    "duration": 11,
    "start_time": "2022-08-30T10:50:53.343Z"
   },
   {
    "duration": 10,
    "start_time": "2022-08-30T10:51:01.959Z"
   },
   {
    "duration": 11,
    "start_time": "2022-08-30T10:51:08.505Z"
   },
   {
    "duration": 11,
    "start_time": "2022-08-30T10:51:19.454Z"
   },
   {
    "duration": 14,
    "start_time": "2022-08-30T10:52:43.887Z"
   },
   {
    "duration": 12,
    "start_time": "2022-08-30T10:55:27.877Z"
   },
   {
    "duration": 1223,
    "start_time": "2022-08-30T10:57:52.754Z"
   },
   {
    "duration": 1212,
    "start_time": "2022-08-30T10:58:09.137Z"
   },
   {
    "duration": 13,
    "start_time": "2022-08-30T10:58:22.256Z"
   },
   {
    "duration": 27,
    "start_time": "2022-08-30T11:06:26.650Z"
   },
   {
    "duration": 25,
    "start_time": "2022-08-30T11:09:14.068Z"
   },
   {
    "duration": 21,
    "start_time": "2022-08-30T11:09:22.597Z"
   },
   {
    "duration": 18,
    "start_time": "2022-08-30T11:09:37.629Z"
   },
   {
    "duration": 11,
    "start_time": "2022-08-30T11:11:56.420Z"
   },
   {
    "duration": 13,
    "start_time": "2022-08-30T11:12:15.812Z"
   },
   {
    "duration": 484,
    "start_time": "2022-08-30T11:50:42.347Z"
   },
   {
    "duration": 24,
    "start_time": "2022-08-30T11:50:42.833Z"
   },
   {
    "duration": 32,
    "start_time": "2022-08-30T11:50:42.859Z"
   },
   {
    "duration": 15,
    "start_time": "2022-08-30T11:50:42.892Z"
   },
   {
    "duration": 48,
    "start_time": "2022-08-30T11:50:42.909Z"
   },
   {
    "duration": 4,
    "start_time": "2022-08-30T11:50:42.958Z"
   },
   {
    "duration": 26,
    "start_time": "2022-08-30T11:50:42.963Z"
   },
   {
    "duration": 11,
    "start_time": "2022-08-30T11:50:42.990Z"
   },
   {
    "duration": 22,
    "start_time": "2022-08-30T11:50:43.003Z"
   },
   {
    "duration": 20,
    "start_time": "2022-08-30T11:50:43.026Z"
   },
   {
    "duration": 66,
    "start_time": "2022-08-30T11:50:43.048Z"
   },
   {
    "duration": 11,
    "start_time": "2022-08-30T11:50:43.117Z"
   },
   {
    "duration": 13,
    "start_time": "2022-08-30T11:50:43.129Z"
   },
   {
    "duration": 20,
    "start_time": "2022-08-30T11:50:43.144Z"
   },
   {
    "duration": 35,
    "start_time": "2022-08-30T11:50:43.166Z"
   },
   {
    "duration": 23,
    "start_time": "2022-08-30T11:50:43.203Z"
   },
   {
    "duration": 5,
    "start_time": "2022-08-30T11:50:43.228Z"
   },
   {
    "duration": 21,
    "start_time": "2022-08-30T11:50:43.234Z"
   },
   {
    "duration": 27,
    "start_time": "2022-08-30T11:50:43.257Z"
   },
   {
    "duration": 16,
    "start_time": "2022-08-30T11:50:43.285Z"
   },
   {
    "duration": 20,
    "start_time": "2022-08-30T11:50:43.303Z"
   },
   {
    "duration": 39,
    "start_time": "2022-08-30T11:50:43.324Z"
   },
   {
    "duration": 27,
    "start_time": "2022-08-30T11:50:43.365Z"
   },
   {
    "duration": 14,
    "start_time": "2022-08-30T11:50:43.393Z"
   },
   {
    "duration": 31,
    "start_time": "2022-08-30T11:50:43.409Z"
   },
   {
    "duration": 483,
    "start_time": "2022-08-30T15:19:48.199Z"
   },
   {
    "duration": 30,
    "start_time": "2022-08-30T15:19:48.684Z"
   },
   {
    "duration": 16,
    "start_time": "2022-08-30T15:19:48.716Z"
   },
   {
    "duration": 10,
    "start_time": "2022-08-30T15:19:48.733Z"
   },
   {
    "duration": 38,
    "start_time": "2022-08-30T15:19:48.745Z"
   },
   {
    "duration": 22,
    "start_time": "2022-08-30T15:19:48.784Z"
   },
   {
    "duration": 8,
    "start_time": "2022-08-30T15:19:48.808Z"
   },
   {
    "duration": 7,
    "start_time": "2022-08-30T15:19:48.817Z"
   },
   {
    "duration": 9,
    "start_time": "2022-08-30T15:19:48.825Z"
   },
   {
    "duration": 6,
    "start_time": "2022-08-30T15:19:48.835Z"
   },
   {
    "duration": 64,
    "start_time": "2022-08-30T15:19:48.842Z"
   },
   {
    "duration": 9,
    "start_time": "2022-08-30T15:19:48.908Z"
   },
   {
    "duration": 4,
    "start_time": "2022-08-30T15:19:48.918Z"
   },
   {
    "duration": 13,
    "start_time": "2022-08-30T15:19:48.925Z"
   },
   {
    "duration": 21,
    "start_time": "2022-08-30T15:19:48.940Z"
   },
   {
    "duration": 47,
    "start_time": "2022-08-30T15:19:48.963Z"
   },
   {
    "duration": 4,
    "start_time": "2022-08-30T15:19:49.013Z"
   },
   {
    "duration": 22,
    "start_time": "2022-08-30T15:19:49.019Z"
   },
   {
    "duration": 8,
    "start_time": "2022-08-30T15:19:49.043Z"
   },
   {
    "duration": 4,
    "start_time": "2022-08-30T15:19:49.053Z"
   },
   {
    "duration": 12,
    "start_time": "2022-08-30T15:19:49.059Z"
   },
   {
    "duration": 43,
    "start_time": "2022-08-30T15:19:49.072Z"
   },
   {
    "duration": 22,
    "start_time": "2022-08-30T15:19:49.117Z"
   },
   {
    "duration": 12,
    "start_time": "2022-08-30T15:19:49.141Z"
   },
   {
    "duration": 15,
    "start_time": "2022-08-30T15:19:49.154Z"
   }
  ],
  "colab": {
   "name": "dpp_template_part2.ipynb",
   "provenance": []
  },
  "kernelspec": {
   "display_name": "Python 3 (ipykernel)",
   "language": "python",
   "name": "python3"
  },
  "language_info": {
   "codemirror_mode": {
    "name": "ipython",
    "version": 3
   },
   "file_extension": ".py",
   "mimetype": "text/x-python",
   "name": "python",
   "nbconvert_exporter": "python",
   "pygments_lexer": "ipython3",
   "version": "3.9.5"
  },
  "toc": {
   "base_numbering": 1,
   "nav_menu": {},
   "number_sections": true,
   "sideBar": true,
   "skip_h1_title": true,
   "title_cell": "Table of Contents",
   "title_sidebar": "Contents",
   "toc_cell": false,
   "toc_position": {},
   "toc_section_display": true,
   "toc_window_display": false
  }
 },
 "nbformat": 4,
 "nbformat_minor": 5
}
