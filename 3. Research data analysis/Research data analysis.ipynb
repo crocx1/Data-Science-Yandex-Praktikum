{
 "cells": [
  {
   "cell_type": "markdown",
   "metadata": {},
   "source": [
    "<div style=\"border:solid green 2px; padding: 20px\">\n",
    "    \n",
    "<b>Павел, привет!</b> Мы рады тебя видеть на территории код-ревьюеров. Ты проделал большую работу над проектом, но давай познакомимся и сделаем его еще лучше! У нас тут своя атмосфера и несколько правил:\n",
    "\n",
    "\n",
    "1. Меня зовут Александр Матвеевский. Я работаю код-ревьюером, моя основная цель — не указать на совершенные тобою ошибки, а поделиться своим опытом и помочь тебе стать аналитиком данных.\n",
    "2. Общаемся на ты.\n",
    "3. Если хочешь написать, спросить - не нужно стесняться. Только выбери свой цвет для комментария.  \n",
    "4. Это учебный проект, тут можно не бояться сделать ошибку.  \n",
    "5. У тебя неограниченное количество попыток для сдачи проекта.  \n",
    "6. Let's Go!\n",
    "\n",
    "---\n",
    "\n",
    "Я буду красить комментарии цветом, пожалуйста, не удаляй их:\n",
    "\n",
    "<div class=\"alert alert-block alert-danger\">✍\n",
    "    \n",
    "\n",
    "__Комментарий от ревьюера №1__\n",
    "\n",
    "Такой комментарий нужно исправить обязательно, он критически влияет на удачное выполнение проекта.\n",
    "</div>\n",
    "    \n",
    "---\n",
    "\n",
    "<div class=\"alert alert-block alert-warning\">📝\n",
    "    \n",
    "\n",
    "__Комментарий от ревьюера №1__\n",
    "\n",
    "\n",
    "Такой комментарий является рекомендацией или советом. Можешь использовать их на своё усмотрение.\n",
    "</div>\n",
    "\n",
    "---\n",
    "\n",
    "<div class=\"alert alert-block alert-success\">✔️\n",
    "    \n",
    "\n",
    "__Комментарий от ревьюера №1__\n",
    "\n",
    "Такой комментарий  говорит о том, что было сделано что-то качественное и правильное =)\n",
    "</div>\n",
    "    \n",
    "---\n",
    "    \n",
    "Предлагаю работать над проектом в диалоге: если ты что-то меняешь в проекте или отвечаешь на мои комментарии — пиши об этом. Мне будет легче отследить изменения, если ты выделишь свои комментарии:   \n",
    "    \n",
    "<div class=\"alert alert-info\"> <b>Комментарии студента:</b> Например, вот так.</div>\n",
    "    \n",
    "Всё это поможет выполнить повторную проверку твоего проекта оперативнее. Если будут какие-нибудь вопросы по моим комментариям, пиши, будем разбираться вместе :)    \n",
    "    \n",
    "---"
   ]
  },
  {
   "cell_type": "markdown",
   "metadata": {},
   "source": [
    "# Исследование объявлений о продаже квартир\n",
    "\n",
    "В вашем распоряжении данные сервиса Яндекс.Недвижимость — архив объявлений о продаже квартир в Санкт-Петербурге и соседних населённых пунктов за несколько лет. Нужно научиться определять рыночную стоимость объектов недвижимости. Ваша задача — установить параметры. Это позволит построить автоматизированную систему: она отследит аномалии и мошенническую деятельность. \n",
    "\n",
    "По каждой квартире на продажу доступны два вида данных. Первые вписаны пользователем, вторые — получены автоматически на основе картографических данных. Например, расстояние до центра, аэропорта, ближайшего парка и водоёма. "
   ]
  },
  {
   "cell_type": "markdown",
   "metadata": {},
   "source": [
    "<div class=\"alert alert-block alert-warning\">📝\n",
    "    \n",
    "\n",
    "__Комментарий от ревьюера №1__\n",
    "\n",
    "\n",
    "Отличная практика - расписывать цель и основные этапы своими словами (этот навык очень поможет на фильнальном проекте). Хорошо было бы добавить ход и цель исследования. Пример можно посмотреть в самом первом проекте (Музыка городов)\n",
    "</div>"
   ]
  },
  {
   "cell_type": "markdown",
   "metadata": {},
   "source": [
    "Данный проект направлен на изучение рынка недвижимости в Питере и его окрестностях. В нем предоставлены данные по различным особенностям зданий, их  локаций, и тех характеристик. \n",
    "Цель работы - обработать масив данных по недвижимости и найти основные закономерности, аномалии, зависимости."
   ]
  },
  {
   "cell_type": "markdown",
   "metadata": {},
   "source": [
    "### Откройте файл с данными и изучите общую информацию. "
   ]
  },
  {
   "cell_type": "code",
   "execution_count": 1,
   "metadata": {
    "scrolled": false
   },
   "outputs": [
    {
     "name": "stdout",
     "output_type": "stream",
     "text": [
      "   total_images  last_price  total_area first_day_exposition  rooms  \\\n",
      "0            20  13000000.0       108.0  2019-03-07T00:00:00      3   \n",
      "1             7   3350000.0        40.4  2018-12-04T00:00:00      1   \n",
      "2            10   5196000.0        56.0  2015-08-20T00:00:00      2   \n",
      "3             0  64900000.0       159.0  2015-07-24T00:00:00      3   \n",
      "4             2  10000000.0       100.0  2018-06-19T00:00:00      2   \n",
      "\n",
      "   ceiling_height  floors_total  living_area  floor is_apartment  ...  \\\n",
      "0            2.70          16.0         51.0      8          NaN  ...   \n",
      "1             NaN          11.0         18.6      1          NaN  ...   \n",
      "2             NaN           5.0         34.3      4          NaN  ...   \n",
      "3             NaN          14.0          NaN      9          NaN  ...   \n",
      "4            3.03          14.0         32.0     13          NaN  ...   \n",
      "\n",
      "   kitchen_area  balcony    locality_name  airports_nearest  \\\n",
      "0          25.0      NaN  Санкт-Петербург           18863.0   \n",
      "1          11.0      2.0   посёлок Шушары           12817.0   \n",
      "2           8.3      0.0  Санкт-Петербург           21741.0   \n",
      "3           NaN      0.0  Санкт-Петербург           28098.0   \n",
      "4          41.0      NaN  Санкт-Петербург           31856.0   \n",
      "\n",
      "  cityCenters_nearest  parks_around3000  parks_nearest  ponds_around3000  \\\n",
      "0             16028.0               1.0          482.0               2.0   \n",
      "1             18603.0               0.0            NaN               0.0   \n",
      "2             13933.0               1.0           90.0               2.0   \n",
      "3              6800.0               2.0           84.0               3.0   \n",
      "4              8098.0               2.0          112.0               1.0   \n",
      "\n",
      "   ponds_nearest  days_exposition  \n",
      "0          755.0              NaN  \n",
      "1            NaN             81.0  \n",
      "2          574.0            558.0  \n",
      "3          234.0            424.0  \n",
      "4           48.0            121.0  \n",
      "\n",
      "[5 rows x 22 columns]\n",
      "<class 'pandas.core.frame.DataFrame'>\n",
      "RangeIndex: 23699 entries, 0 to 23698\n",
      "Data columns (total 22 columns):\n",
      " #   Column                Non-Null Count  Dtype  \n",
      "---  ------                --------------  -----  \n",
      " 0   total_images          23699 non-null  int64  \n",
      " 1   last_price            23699 non-null  float64\n",
      " 2   total_area            23699 non-null  float64\n",
      " 3   first_day_exposition  23699 non-null  object \n",
      " 4   rooms                 23699 non-null  int64  \n",
      " 5   ceiling_height        14504 non-null  float64\n",
      " 6   floors_total          23613 non-null  float64\n",
      " 7   living_area           21796 non-null  float64\n",
      " 8   floor                 23699 non-null  int64  \n",
      " 9   is_apartment          2775 non-null   object \n",
      " 10  studio                23699 non-null  bool   \n",
      " 11  open_plan             23699 non-null  bool   \n",
      " 12  kitchen_area          21421 non-null  float64\n",
      " 13  balcony               12180 non-null  float64\n",
      " 14  locality_name         23650 non-null  object \n",
      " 15  airports_nearest      18157 non-null  float64\n",
      " 16  cityCenters_nearest   18180 non-null  float64\n",
      " 17  parks_around3000      18181 non-null  float64\n",
      " 18  parks_nearest         8079 non-null   float64\n",
      " 19  ponds_around3000      18181 non-null  float64\n",
      " 20  ponds_nearest         9110 non-null   float64\n",
      " 21  days_exposition       20518 non-null  float64\n",
      "dtypes: bool(2), float64(14), int64(3), object(3)\n",
      "memory usage: 3.7+ MB\n",
      "None\n"
     ]
    },
    {
     "data": {
      "image/png": "[encoded data removed]",
      "text/plain": [
       "<Figure size 1080x1440 with 20 Axes>"
      ]
     },
     "metadata": {
      "needs_background": "light"
     },
     "output_type": "display_data"
    }
   ],
   "source": [
    "import pandas as pd\n",
    "import matplotlib.pyplot as plt\n",
    "from IPython.display import display\n",
    "\n",
    "data = pd.read_csv('/datasets/real_estate_data.csv', sep ='\\t')\n",
    "print(data.head())\n",
    "print(data.info())\n",
    "data.hist(figsize=(15, 20))\n",
    "\n",
    "plt.show()\n"
   ]
  },
  {
   "attachments": {
    "image.png": {
     "image/png": "[encoded data removed]"
    }
   },
   "cell_type": "markdown",
   "metadata": {},
   "source": [
    "<div class=\"alert alert-block alert-success\">✔️\n",
    "    \n",
    "\n",
    "__Комментарий от ревьюера №1__\n",
    "Такие предупеждения можно убрать 2 способами:\n",
    "    \n",
    "1. В конец кода добавить `plt.show()`, но для этого нужно вызвать библиотеку matplotlib\n",
    "2. В конец кода добавить `;`\n",
    "    \n",
    "![image.png](attachment:image.png)\n",
    "</div>"
   ]
  },
  {
   "cell_type": "markdown",
   "metadata": {},
   "source": [
    "### Предобработка данных"
   ]
  },
  {
   "cell_type": "markdown",
   "metadata": {},
   "source": [
    "<div class=\"alert alert-block alert-success\">✔️\n",
    "    \n",
    "\n",
    "__Комментарий от ревьюера №1__\n",
    "\n",
    "Проверить колличество пропусков в % можно вот так: \n",
    "    \n",
    "    \n",
    "    pd.DataFrame(round(df.isna().mean()*100,)).style.background_gradient('coolwarm')"
   ]
  },
  {
   "cell_type": "code",
   "execution_count": 2,
   "metadata": {},
   "outputs": [
    {
     "name": "stdout",
     "output_type": "stream",
     "text": [
      "Не понял, как запустить, выдает только ошибки\n"
     ]
    }
   ],
   "source": [
    "print('Не понял, как запустить, выдает только ошибки')"
   ]
  },
  {
   "cell_type": "code",
   "execution_count": null,
   "metadata": {
    "scrolled": true
   },
   "outputs": [],
   "source": []
  },
  {
   "cell_type": "code",
   "execution_count": 3,
   "metadata": {},
   "outputs": [
    {
     "name": "stdout",
     "output_type": "stream",
     "text": [
      "Ищем явные дубликаты\n",
      "\n",
      "0\n",
      "Дубликатов нет, но сделаем дроп\n",
      "\n",
      "Удаляем явные дубликаты\n",
      "\n",
      "\n",
      "Проверяем\n",
      "\n",
      "0\n"
     ]
    }
   ],
   "source": [
    "print('Ищем явные дубликаты')\n",
    "print()\n",
    "print(data.duplicated().sum())\n",
    "print('Дубликатов нет, но сделаем дроп')\n",
    "print()\n",
    "print('Удаляем явные дубликаты')\n",
    "print()\n",
    "data = data.drop_duplicates().reset_index(drop=True) \n",
    "print()\n",
    "print('Проверяем')\n",
    "print()\n",
    "print(data.duplicated().sum())"
   ]
  },
  {
   "cell_type": "markdown",
   "metadata": {},
   "source": [
    "<div class=\"alert alert-block alert-success\">✔️\n",
    "    \n",
    "\n",
    "__Комментарий от ревьюера №2__\n",
    "\n",
    "Проверка на дубликаты - основа предобработки данных\n",
    "</div>"
   ]
  },
  {
   "cell_type": "code",
   "execution_count": 4,
   "metadata": {},
   "outputs": [
    {
     "name": "stdout",
     "output_type": "stream",
     "text": [
      "Ищем пропуски\n",
      "\n",
      "total_images                0\n",
      "last_price                  0\n",
      "total_area                  0\n",
      "first_day_exposition        0\n",
      "rooms                       0\n",
      "ceiling_height           9195\n",
      "floors_total               86\n",
      "living_area              1903\n",
      "floor                       0\n",
      "is_apartment            20924\n",
      "studio                      0\n",
      "open_plan                   0\n",
      "kitchen_area             2278\n",
      "balcony                 11519\n",
      "locality_name              49\n",
      "airports_nearest         5542\n",
      "cityCenters_nearest      5519\n",
      "parks_around3000         5518\n",
      "parks_nearest           15620\n",
      "ponds_around3000         5518\n",
      "ponds_nearest           14589\n",
      "days_exposition          3181\n",
      "dtype: int64\n",
      "\n"
     ]
    }
   ],
   "source": [
    "print('Ищем пропуски')\n",
    "print()\n",
    "print(data.isnull().sum())\n",
    "print()"
   ]
  },
  {
   "cell_type": "code",
   "execution_count": 5,
   "metadata": {},
   "outputs": [
    {
     "name": "stdout",
     "output_type": "stream",
     "text": [
      "Просматриваем столбцы с пропусками\n",
      "\n",
      "[nan False True]\n",
      "is_apartment\n",
      "False    2725\n",
      "True       50\n",
      "Name: is_apartment, dtype: int64\n",
      "\n",
      "[nan  2.  0.  1.  5.  4.  3.]\n",
      "balcony\n",
      "0.0    3758\n",
      "1.0    4195\n",
      "2.0    3659\n",
      "3.0      81\n",
      "4.0     183\n",
      "5.0     304\n",
      "Name: balcony, dtype: int64\n",
      "balcony\n",
      "0.0    15277\n",
      "1.0     4195\n",
      "2.0     3659\n",
      "3.0       81\n",
      "4.0      183\n",
      "5.0      304\n",
      "Name: balcony, dtype: int64\n",
      "\n",
      "ceiling_height [  2.7     nan   3.03   2.5    2.67   2.56   3.05   2.75   2.6    2.9\n",
      "   2.8    2.55   3.     2.65   3.2    2.61   3.25   3.45   2.77   2.85\n",
      "   2.64   2.57   4.15   3.5    3.3    2.71   4.     2.47   2.73   2.84\n",
      "   3.1    2.34   3.4    3.06   2.72   2.54   2.51   2.78   2.76  25.\n",
      "   2.58   3.7    2.52   5.2    2.87   2.66   2.59   2.     2.45   3.6\n",
      "   2.92   3.11   3.13   3.8    3.15   3.55   3.16   3.62   3.12   2.53\n",
      "   2.74   2.96   2.46   5.3    5.     2.79   2.95   4.06   2.94   3.82\n",
      "   3.54   3.53   2.83   4.7    2.4    3.38   3.01   5.6    3.65   3.9\n",
      "   3.18   3.35   2.3    3.57   2.48   2.62   2.82   3.98   2.63   3.83\n",
      "   3.52   3.95   3.75   2.88   3.67   3.87   3.66   3.85   3.86   4.19\n",
      "   3.24   4.8    4.5    4.2    3.36  32.     3.08   3.68   3.07   3.37\n",
      "   3.09   8.     3.26   3.34   2.81   3.44   2.97   3.14   4.37   2.68\n",
      "   3.22   3.27  27.     4.1    2.93   3.46  24.     3.47   3.33   3.63\n",
      "   3.32  26.     1.2    8.3    2.98   2.86   3.17   4.4    3.28   3.04\n",
      "   4.45   5.5    3.84   3.23   3.02   3.21   3.43   3.78   4.3    3.39\n",
      "   2.69   3.31   4.65   3.56   2.2    3.51   3.93   3.42   2.99   3.49\n",
      "  14.     4.14   2.91   3.88   1.75   4.25   3.29  20.     2.25   3.76\n",
      "   3.69   6.    22.6    2.89   3.58   5.8   27.5    2.49   4.9    3.48\n",
      "  10.3    1.   100.     3.59]\n",
      "living_area [51.   18.6  34.3  ... 31.65 13.59 42.55]\n",
      "is_apartment [nan False True]\n",
      "kitchen_area [ 25.    11.     8.3     nan  41.     9.1   14.4   18.9    8.81   6.5\n",
      "   8.5    6.     9.     5.2    8.     7.6    5.6   12.     5.7    6.1\n",
      "  19.6   15.     7.     9.2   11.7   13.4   17.     6.3   11.6    8.8\n",
      "  10.    17.6    7.5    9.5   50.    15.5   10.7   11.1   20.    11.9\n",
      "  16.     5.3   11.5    7.2    6.2   10.4    7.1    4.9    7.3   11.95\n",
      "  10.2    6.4    5.5   13.     8.4   23.6   10.8   18.3    5.     8.2\n",
      "  24.    23.8    6.6   26.85  15.4    7.8   33.8    5.4   12.72  12.2\n",
      "  19.    12.4    7.9   10.3    9.8   17.5   14.7   20.91  21.3   10.6\n",
      "  10.9    9.7    7.7   12.5   11.4    8.6   11.24  14.1   15.7   13.29\n",
      "  14.    12.9   12.7   16.5    9.36  21.5   35.    10.5    8.7   19.3\n",
      "  21.4   40.    49.2   11.52   8.9    9.6   30.    14.2    8.1   10.44\n",
      "   4.5   16.3   11.2   18.4    7.4   11.3    9.4   13.1   10.19   7.06\n",
      "  22.    36.     5.1   18.7    9.9   14.3   18.    23.    19.4   11.8\n",
      "  13.3   17.7   23.1   10.63  21.1   11.33  13.5   19.5   13.2   17.2\n",
      "  77.    13.8   12.3    9.3    5.8   26.1   12.88   9.28  16.1   14.5\n",
      "  31.     5.9   10.1   23.4   16.2   19.2   28.6   15.1   26.4    8.98\n",
      "  10.59  17.9   16.8   11.27  16.74   9.57  23.43  15.2    8.07  12.24\n",
      "  13.39  36.6   10.84  15.3   18.5   23.9   19.7   19.9   22.1   10.35\n",
      "  10.69  16.9    5.49  31.2    6.8    8.29   6.7   13.6   16.6   10.75\n",
      "  18.8   17.8    2.     6.77  11.06  12.6    7.71  27.    11.35  13.31\n",
      "  63.    21.    20.6   11.78  20.5   13.79  20.52   5.75  66.    18.78\n",
      "  23.5   24.3    6.9   14.8    8.87  14.9    8.71   9.95  17.53  42.6\n",
      "  25.2    8.31   9.67  16.7   14.61  32.    22.4   16.4    6.36  17.1\n",
      "  13.14  18.2    9.18  13.7   15.61  22.31   9.45  29.    14.49   5.35\n",
      "  29.9   25.1    8.08  13.11   6.25  26.    35.35  12.8   30.2   10.09\n",
      "  46.    32.1   11.29  14.56  11.11  11.49  13.67  16.72  24.5   11.14\n",
      "  20.9   11.05   4.    14.84   8.21  12.18  25.34   9.25   8.65  13.9\n",
      "  13.53  15.09   9.39  18.6   15.9   24.7   12.35  20.8   27.4    7.17\n",
      "   3.     8.23  24.03   9.17  43.    10.45  11.39  19.92  20.2   10.72\n",
      "  20.07  11.81  18.45  10.51  39.    10.91   6.73  11.85  37.8    4.8\n",
      " 100.7   21.6    5.78  12.1   11.28   9.97  10.68  21.2   10.56   9.68\n",
      "   8.25   4.7   17.4   10.02  40.2   11.62  14.6   11.71  13.69  18.1\n",
      "  22.22  17.3    6.35  23.3   10.88   6.76  28.    10.29  11.63  25.6\n",
      "  19.1   15.6   21.87   3.2   12.27  10.39  10.89  60.    11.53   5.68\n",
      "  10.55  33.     3.8   36.2    9.22   5.62  38.    21.9   12.17  19.8\n",
      "  37.     4.2   21.7   12.38  11.46   7.89  31.7   24.4   14.57  30.9\n",
      "  10.15  12.05   9.27  15.33   6.58   9.93  35.05  25.3   28.8   13.05\n",
      "  29.4   36.5    7.92  15.8   15.69  42.     7.85  13.16  12.86  48.\n",
      "  30.5   29.3   45.     9.32  44.     5.74  11.26  13.38  14.31  26.6\n",
      "   6.55  10.52   6.72  13.02  11.17  56.2   12.52  28.2   12.29  11.59\n",
      "   8.38   5.47  10.18  10.64  18.88   9.89  36.3   12.92  23.53  37.7\n",
      "  10.36  14.05   9.04  10.78  14.24  13.42  32.8   20.16  10.12   7.12\n",
      "  17.64  23.25  11.41  11.42  40.4   31.47  13.55  13.28  14.55   9.38\n",
      "   8.32  11.55  13.81  24.1   11.51   7.65   9.91  16.83  11.34 100.\n",
      "  11.16  18.34  34.19   6.02  18.07  20.1   12.08   7.18   8.11   8.05\n",
      "   8.06  12.96  42.4    8.93  44.9   10.62   9.72  22.5   11.18  10.22\n",
      "  51.    21.8   10.94  13.49  31.73  70.    25.7    5.86   7.63  11.47\n",
      "  13.25  22.2   19.35  17.28  14.04  39.9   21.76   4.3   10.06   8.19\n",
      "  28.4   22.7   14.74  11.12  25.11  14.02  13.06   8.01  20.38   5.53\n",
      "  46.8   11.31  17.85  20.7   34.78   9.46   6.31  42.5    9.48  43.4\n",
      "  11.57  12.44  14.46  12.58  12.47   7.95  16.32  15.26  12.23  11.37\n",
      "  27.9    8.58  19.51  12.39   9.65   9.05   6.84  20.3   26.5   63.4\n",
      "  41.9    6.82  11.36  10.08  10.54   9.16  14.95  12.84  22.9    8.76\n",
      "  10.03   9.35  11.13   7.87   2.89  45.5    7.36  24.9    9.59   7.97\n",
      "   9.85  33.9   42.8    7.86   5.25  10.26   5.33  12.85   9.51  58.4\n",
      "  10.34  23.71  19.42   6.83  11.92  13.17  13.27  11.84  12.56  53.1\n",
      "  20.56  41.3    9.01   8.73   5.82   3.7    2.4   31.8   42.7   40.5\n",
      "  12.02   8.57  12.76   8.66  11.04  40.3   15.83  18.59   9.37  23.38\n",
      "  10.42  13.93   7.54  23.42  13.64   5.61  19.45  17.59  29.1    5.65\n",
      "  15.42  11.09  11.73  15.72  25.4   10.25  10.38  13.41   5.23   9.09\n",
      "  11.45  11.74  14.64  12.14   8.84  16.66  10.27   3.5   12.55  32.55\n",
      "  16.26   6.62  10.33  13.26  32.3   23.2   14.14   9.62  34.    10.92\n",
      "  10.58  22.8   15.85   7.78   8.94   9.82  34.7    8.45  15.62  22.3\n",
      "  14.17  15.39  56.     8.43  87.2   12.66   8.35   8.47  22.72   9.52\n",
      "  28.1   14.97   4.6    5.29  10.49  15.07  15.37  20.31  23.28   8.54\n",
      "  30.59  27.57   9.71  28.63   9.98  37.9    6.91  25.9   47.    51.8\n",
      "  14.27  40.7   19.61   9.44  27.76  25.86  36.4   15.78  10.05  26.2\n",
      "  10.32  19.39   9.77  29.5   13.73  10.71  10.73  13.84   6.19  28.5\n",
      "  16.25  13.47   4.4   43.2   27.5   11.67  44.7   12.57  16.27   6.28\n",
      "  12.01  37.6   13.35   3.4    8.61   8.96  34.8   27.3   10.24   8.15\n",
      "  35.5    4.1   10.43  16.46   7.19  62.    34.3   48.5   30.6   17.55\n",
      "  10.74  13.24   5.91   9.43  20.92   8.13  33.1   10.37  16.77   6.27\n",
      "  26.8   12.37  22.6   33.6    9.76  16.92  15.54   6.23  15.35  37.5\n",
      "  21.82   7.94  34.1    6.03  15.55   8.44  43.8   29.09  18.93  12.75\n",
      "   6.33  24.8    5.64  22.43  39.1   27.6    7.48  32.7    5.44   6.22\n",
      "   7.41  27.1   17.06  75.    34.51   6.26  35.6    9.83  54.3   28.7\n",
      "   3.3   13.63  62.5   10.47  11.87  28.3   11.25   5.42  18.25   8.82\n",
      "   9.58   5.04  13.52  11.44   8.48  13.21   8.03  16.89  26.9   35.4\n",
      "  13.95  14.72   9.34  64.    37.78  23.7   29.8    6.95  16.05  11.65\n",
      "  38.1   10.99  10.86   8.85  14.65   9.24  16.45   7.84  93.2    9.79\n",
      "   7.03  17.12   5.28  12.53  14.51   9.31  31.6   72.     6.86  11.07\n",
      "  14.06  93.     6.93  15.15  32.9    8.34  55.7   24.89  35.9   22.78\n",
      "  16.47  38.86  18.16   8.69  25.5   22.46  13.74  54.2   19.21  31.5\n",
      "  12.11  11.98  10.17  35.7   12.71   2.3   16.07   9.42  20.77  28.64\n",
      "  13.86  10.01  24.2   12.45  12.87  14.33  12.15  39.7   65.     5.06\n",
      "  14.29  14.43  25.02   8.52  11.56  12.89   8.63  13.32  16.42   5.31\n",
      "  14.77  27.2    9.26  14.93  31.4    9.06   6.61  20.4    6.65  19.19\n",
      "  20.24  13.77   6.37  53.    14.58   9.19   8.67  21.22 112.    13.58\n",
      "  12.03  10.87  19.28  16.48  32.6    9.08  12.69   8.09   5.21  12.83\n",
      "  54.    11.64 107.     1.3   55.5   48.3    9.11  21.53  29.86  28.52\n",
      "  15.43  15.57  13.43  19.94   8.77  50.2   15.03  16.38  13.33  12.43\n",
      "  17.61   9.66  12.32  58.    24.6    6.47  41.1    8.12  21.25  10.13\n",
      "  41.6   49.4   12.25  28.56  11.69  14.85  15.18   8.02  11.22   8.95\n",
      "  34.6   29.2    9.73  10.46  26.7   29.7   32.4   12.93  12.63  15.24\n",
      "   8.18  22.15  11.43   7.02  11.93   7.09   6.16   7.15  13.65  10.79\n",
      "  14.98  34.4    5.14   9.75   5.59  35.1   13.04  10.95  16.03   9.13\n",
      "  17.44  40.1    5.85   6.24  21.74  31.3   30.8   16.88  21.55  18.55\n",
      "  17.87  13.83]\n",
      "locality_name ['Санкт-Петербург' 'посёлок Шушары' 'городской посёлок Янино-1'\n",
      " 'посёлок Парголово' 'посёлок Мурино' 'Ломоносов' 'Сертолово' 'Петергоф'\n",
      " 'Пушкин' 'деревня Кудрово' 'Коммунар' 'Колпино'\n",
      " 'поселок городского типа Красный Бор' 'Гатчина' 'поселок Мурино'\n",
      " 'деревня Фёдоровское' 'Выборг' 'Кронштадт' 'Кировск'\n",
      " 'деревня Новое Девяткино' 'посёлок Металлострой'\n",
      " 'посёлок городского типа Лебяжье' 'посёлок городского типа Сиверский'\n",
      " 'поселок Молодцово' 'поселок городского типа Кузьмоловский'\n",
      " 'садовое товарищество Новая Ропша' 'Павловск' 'деревня Пикколово'\n",
      " 'Всеволожск' 'Волхов' 'Кингисепп' 'Приозерск' 'Сестрорецк'\n",
      " 'деревня Куттузи' 'посёлок Аннино' 'поселок городского типа Ефимовский'\n",
      " 'посёлок Плодовое' 'деревня Заклинье' 'поселок Торковичи'\n",
      " 'поселок Первомайское' 'Красное Село' 'посёлок Понтонный' 'Сясьстрой'\n",
      " 'деревня Старая' 'деревня Лесколово' 'посёлок Новый Свет' 'Сланцы'\n",
      " 'село Путилово' 'Ивангород' 'Мурино' 'Шлиссельбург' 'Никольское'\n",
      " 'Зеленогорск' 'Сосновый Бор' 'поселок Новый Свет' 'деревня Оржицы'\n",
      " 'деревня Кальтино' 'Кудрово' 'поселок Романовка' 'посёлок Бугры'\n",
      " 'поселок Бугры' 'поселок городского типа Рощино' 'Кириши' 'Луга'\n",
      " 'Волосово' 'Отрадное' 'село Павлово' 'поселок Оредеж' 'село Копорье'\n",
      " 'посёлок городского типа Красный Бор' 'посёлок Молодёжное' 'Тихвин'\n",
      " 'посёлок Победа' 'деревня Нурма' 'поселок городского типа Синявино'\n",
      " 'Тосно' 'посёлок городского типа Кузьмоловский' 'посёлок Стрельна'\n",
      " 'Бокситогорск' 'посёлок Александровская' 'деревня Лопухинка' 'Пикалёво'\n",
      " 'поселок Терволово' 'поселок городского типа Советский' 'Подпорожье'\n",
      " 'посёлок Петровское' 'посёлок городского типа Токсово' 'поселок Сельцо'\n",
      " 'посёлок городского типа Вырица' 'деревня Кипень' 'деревня Келози'\n",
      " 'деревня Вартемяги' 'посёлок Тельмана' 'поселок Севастьяново'\n",
      " 'городской поселок Большая Ижора' nan 'городской посёлок Павлово'\n",
      " 'деревня Агалатово' 'посёлок Новогорелово'\n",
      " 'городской посёлок Лесогорский' 'деревня Лаголово' 'поселок Цвелодубово'\n",
      " 'поселок городского типа Рахья' 'поселок городского типа Вырица'\n",
      " 'деревня Белогорка' 'поселок Заводской' 'городской посёлок Новоселье'\n",
      " 'деревня Большие Колпаны' 'деревня Горбунки' 'деревня Батово'\n",
      " 'деревня Заневка' 'деревня Иссад' 'Приморск'\n",
      " 'городской посёлок Фёдоровское' 'деревня Мистолово' 'Новая Ладога'\n",
      " 'поселок Зимитицы' 'поселок Барышево' 'деревня Разметелево'\n",
      " 'поселок городского типа имени Свердлова' 'деревня Пеники'\n",
      " 'поселок Рябово' 'деревня Пудомяги' 'поселок станции Корнево'\n",
      " 'деревня Низино' 'деревня Бегуницы' 'посёлок Поляны'\n",
      " 'городской посёлок Мга' 'поселок Елизаветино'\n",
      " 'посёлок городского типа Кузнечное' 'деревня Колтуши'\n",
      " 'поселок Запорожское' 'посёлок городского типа Рощино'\n",
      " 'деревня Гостилицы' 'деревня Малое Карлино' 'посёлок Мичуринское'\n",
      " 'посёлок городского типа имени Морозова' 'посёлок Песочный'\n",
      " 'посёлок Сосново' 'деревня Аро' 'поселок Ильичёво'\n",
      " 'посёлок городского типа Тайцы' 'деревня Малое Верево' 'деревня Извара'\n",
      " 'поселок станции Вещево' 'село Паша' 'деревня Калитино'\n",
      " 'посёлок городского типа Ульяновка' 'деревня Чудской Бор'\n",
      " 'поселок городского типа Дубровка' 'деревня Мины' 'поселок Войсковицы'\n",
      " 'посёлок городского типа имени Свердлова' 'деревня Коркино'\n",
      " 'посёлок Ропша' 'поселок городского типа Приладожский' 'посёлок Щеглово'\n",
      " 'посёлок Гаврилово' 'Лодейное Поле' 'деревня Рабитицы'\n",
      " 'поселок городского типа Никольский' 'деревня Кузьмолово'\n",
      " 'деревня Малые Колпаны' 'поселок Тельмана' 'посёлок Петро-Славянка'\n",
      " 'городской посёлок Назия' 'посёлок Репино' 'посёлок Ильичёво'\n",
      " 'поселок Углово' 'поселок Старая Малукса' 'садовое товарищество Рахья'\n",
      " 'поселок Аннино' 'поселок Победа' 'деревня Меньково'\n",
      " 'деревня Старые Бегуницы' 'посёлок Сапёрный' 'поселок Семрино'\n",
      " 'поселок Гаврилово' 'поселок Глажево' 'поселок Кобринское'\n",
      " 'деревня Гарболово' 'деревня Юкки' 'поселок станции Приветнинское'\n",
      " 'деревня Мануйлово' 'деревня Пчева' 'поселок Поляны' 'поселок Цвылёво'\n",
      " 'поселок Мельниково' 'посёлок Пудость' 'посёлок Усть-Луга' 'Светогорск'\n",
      " 'Любань' 'поселок Селезнёво' 'поселок городского типа Рябово'\n",
      " 'Каменногорск' 'деревня Кривко' 'поселок Глебычево' 'деревня Парицы'\n",
      " 'поселок Жилпосёлок' 'посёлок городского типа Мга'\n",
      " 'городской поселок Янино-1' 'посёлок Войскорово' 'село Никольское'\n",
      " 'посёлок Терволово' 'поселок Стеклянный' 'посёлок городского типа Важины'\n",
      " 'посёлок Мыза-Ивановка' 'село Русско-Высоцкое'\n",
      " 'поселок городского типа Лебяжье' 'поселок городского типа Форносово'\n",
      " 'село Старая Ладога' 'поселок Житково' 'городской посёлок Виллози'\n",
      " 'деревня Лампово' 'деревня Шпаньково' 'деревня Лаврики' 'посёлок Сумино'\n",
      " 'посёлок Возрождение' 'деревня Старосиверская' 'посёлок Кикерино'\n",
      " 'поселок Возрождение' 'деревня Старое Хинколово' 'посёлок Пригородный'\n",
      " 'посёлок Торфяное' 'городской посёлок Будогощь' 'поселок Суходолье'\n",
      " 'поселок Красная Долина' 'деревня Хапо-Ое'\n",
      " 'поселок городского типа Дружная Горка' 'поселок Лисий Нос'\n",
      " 'деревня Яльгелево' 'посёлок Стеклянный' 'село Рождествено'\n",
      " 'деревня Старополье' 'посёлок Левашово' 'деревня Сяськелево'\n",
      " 'деревня Камышовка'\n",
      " 'садоводческое некоммерческое товарищество Лесная Поляна'\n",
      " 'деревня Хязельки' 'поселок Жилгородок' 'посёлок городского типа Павлово'\n",
      " 'деревня Ялгино' 'поселок Новый Учхоз' 'городской посёлок Рощино'\n",
      " 'поселок Гончарово' 'поселок Почап' 'посёлок Сапёрное'\n",
      " 'посёлок Платформа 69-й километр' 'поселок Каложицы' 'деревня Фалилеево'\n",
      " 'деревня Пельгора' 'поселок городского типа Лесогорский'\n",
      " 'деревня Торошковичи' 'посёлок Белоостров' 'посёлок Алексеевка'\n",
      " 'поселок Серебрянский' 'поселок Лукаши' 'поселок Петровское'\n",
      " 'деревня Щеглово' 'поселок Мичуринское' 'деревня Тарасово'\n",
      " 'поселок Кингисеппский' 'посёлок при железнодорожной станции Вещево'\n",
      " 'поселок Ушаки' 'деревня Котлы' 'деревня Сижно' 'деревня Торосово'\n",
      " 'посёлок Форт Красная Горка' 'поселок городского типа Токсово'\n",
      " 'деревня Новолисино' 'посёлок станции Громово' 'деревня Глинка'\n",
      " 'посёлок Мельниково' 'поселок городского типа Назия'\n",
      " 'деревня Старая Пустошь' 'поселок Коммунары' 'поселок Починок'\n",
      " 'посёлок городского типа Вознесенье' 'деревня Разбегаево'\n",
      " 'посёлок городского типа Рябово' 'поселок Гладкое'\n",
      " 'посёлок при железнодорожной станции Приветнинское' 'поселок Тёсово-4'\n",
      " 'посёлок Жилгородок' 'деревня Бор' 'посёлок Коробицыно'\n",
      " 'деревня Большая Вруда' 'деревня Курковицы' 'посёлок Лисий Нос'\n",
      " 'городской посёлок Советский' 'посёлок Кобралово' 'деревня Суоранда'\n",
      " 'поселок Кобралово' 'поселок городского типа Кондратьево'\n",
      " 'коттеджный поселок Счастье' 'поселок Любань' 'деревня Реброво'\n",
      " 'деревня Зимитицы' 'деревня Тойворово' 'поселок Семиозерье'\n",
      " 'поселок Лесное' 'поселок Совхозный' 'поселок Усть-Луга'\n",
      " 'посёлок Ленинское' 'посёлок Суйда' 'посёлок городского типа Форносово'\n",
      " 'деревня Нижние Осельки' 'посёлок станции Свирь' 'поселок Перово'\n",
      " 'Высоцк' 'поселок Гарболово' 'село Шум' 'поселок Котельский'\n",
      " 'поселок станции Лужайка' 'деревня Большая Пустомержа'\n",
      " 'поселок Красносельское' 'деревня Вахнова Кара' 'деревня Пижма'\n",
      " 'коттеджный поселок Кивеннапа Север' 'поселок Коробицыно'\n",
      " 'поселок Ромашки' 'посёлок Перово' 'деревня Каськово' 'деревня Куровицы'\n",
      " 'посёлок Плоское' 'поселок Сумино'\n",
      " 'поселок городского типа Большая Ижора' 'поселок Кирпичное'\n",
      " 'деревня Ям-Тесово' 'деревня Раздолье' 'деревня Терпилицы'\n",
      " 'посёлок Шугозеро' 'деревня Ваганово' 'поселок Пушное'\n",
      " 'садовое товарищество Садко' 'посёлок Усть-Ижора' 'деревня Выскатка'\n",
      " 'городской посёлок Свирьстрой' 'поселок Громово' 'деревня Кисельня'\n",
      " 'посёлок Старая Малукса' 'деревня Трубников Бор' 'поселок Калитино'\n",
      " 'посёлок Высокоключевой' 'садовое товарищество Приладожский'\n",
      " 'посёлок Пансионат Зелёный Бор' 'деревня Ненимяки'\n",
      " 'поселок Пансионат Зелёный Бор' 'деревня Снегирёвка' 'деревня Рапполово'\n",
      " 'деревня Пустынка' 'поселок Рабитицы' 'деревня Большой Сабск'\n",
      " 'деревня Русско' 'деревня Лупполово' 'деревня Большое Рейзино'\n",
      " 'деревня Малая Романовка' 'поселок Дружноселье' 'поселок Пчевжа'\n",
      " 'поселок Володарское' 'деревня Нижняя' 'коттеджный посёлок Лесное'\n",
      " 'деревня Тихковицы' 'деревня Борисова Грива' 'посёлок Дзержинского']\n",
      "airports_nearest [18863. 12817. 21741. ... 11751. 20151. 24665.]\n",
      "cityCenters_nearest [16028. 18603. 13933. ... 27977.  7262.  6263.]\n",
      "parks_around3000 [ 1.  0.  2. nan  3.]\n",
      "parks_nearest [4.820e+02       nan 9.000e+01 8.400e+01 1.120e+02 3.100e+02 2.940e+02\n",
      " 5.900e+02 4.200e+02 7.590e+02 2.480e+02 5.170e+02 4.110e+02 4.520e+02\n",
      " 5.320e+02 4.590e+02 7.250e+02 4.700e+01 6.200e+02 6.750e+02 5.310e+02\n",
      " 5.260e+02 2.710e+02 3.630e+02 6.480e+02 3.820e+02 3.340e+02 1.670e+02\n",
      " 4.450e+02 2.310e+02 5.110e+02 7.510e+02 6.660e+02 3.840e+02 1.270e+02\n",
      " 2.410e+02 4.880e+02 1.560e+02 5.760e+02 2.850e+02 6.330e+02 1.500e+01\n",
      " 2.150e+02 5.330e+02 1.410e+02 3.660e+02 3.410e+02 5.890e+02 3.440e+02\n",
      " 5.080e+02 4.170e+02 7.620e+02 4.410e+02 5.590e+02 7.490e+02 1.230e+02\n",
      " 5.010e+02 1.000e+01 1.133e+03 1.205e+03 5.160e+02 8.600e+02 2.760e+02\n",
      " 9.800e+02 4.630e+02 5.910e+02 2.390e+02 6.510e+02 1.021e+03 4.850e+02\n",
      " 5.860e+02 3.700e+02 6.880e+02 2.750e+02 5.460e+02 4.660e+02 1.390e+02\n",
      " 2.510e+02 5.370e+02 6.270e+02 1.040e+02 4.500e+02 6.570e+02 5.780e+02\n",
      " 7.700e+01 1.210e+02 3.140e+02 1.950e+02 5.560e+02 4.690e+02 7.500e+01\n",
      " 3.980e+02 6.810e+02 5.000e+01 9.200e+01 9.290e+02 3.200e+02 5.100e+02\n",
      " 7.410e+02 3.570e+02 2.295e+03 6.340e+02 3.770e+02 6.110e+02 3.490e+02\n",
      " 4.510e+02 6.410e+02 3.740e+02 8.350e+02 9.300e+01 5.130e+02 3.010e+02\n",
      " 1.620e+02 1.510e+03 5.190e+02 3.600e+01 5.570e+02 4.210e+02 1.060e+02\n",
      " 5.400e+02 6.300e+02 3.850e+02 4.710e+02 3.250e+02 8.030e+02 4.010e+02\n",
      " 1.850e+02 7.830e+02 3.920e+02 4.680e+02 1.820e+02 2.870e+02 3.090e+02\n",
      " 5.050e+02 1.870e+02 4.530e+02 3.880e+02 6.350e+02 6.530e+02 2.900e+02\n",
      " 5.380e+02 2.260e+02 7.980e+02 6.800e+02 4.160e+02 4.120e+02 1.380e+02\n",
      " 6.370e+02 8.160e+02 7.020e+02 6.060e+02 1.520e+02 2.102e+03 4.600e+02\n",
      " 5.960e+02 6.040e+02 3.280e+02 6.760e+02 5.340e+02 5.580e+02 4.720e+02\n",
      " 1.443e+03 1.590e+02 1.900e+01 5.300e+01 2.070e+02 4.980e+02 5.200e+02\n",
      " 6.450e+02 1.610e+02 7.690e+02 5.800e+02 3.780e+02 4.940e+02 7.140e+02\n",
      " 4.640e+02 4.460e+02 2.200e+02 8.020e+02 2.880e+02 5.150e+02 6.010e+02\n",
      " 1.920e+02 4.560e+02 1.700e+02 6.320e+02 5.870e+02 6.430e+02 9.090e+02\n",
      " 2.910e+02 6.870e+02 7.840e+02 5.060e+02 4.350e+02 4.830e+02 5.200e+01\n",
      " 1.750e+02 4.610e+02 2.330e+02 2.137e+03 2.010e+02 5.630e+02 9.680e+02\n",
      " 2.380e+02 4.760e+02 1.300e+01 3.670e+02 7.350e+02 1.770e+02 2.920e+02\n",
      " 4.700e+02 5.700e+01 3.930e+02 4.960e+02 1.496e+03 1.570e+02 4.390e+02\n",
      " 7.070e+02 2.890e+02 5.990e+02 9.370e+02 5.500e+02 3.990e+02 3.370e+02\n",
      " 1.188e+03 6.100e+01 2.650e+02 1.810e+02 5.360e+02 2.950e+02 2.590e+02\n",
      " 5.210e+02 2.630e+02 2.360e+02 3.910e+02 4.330e+02 2.430e+02 3.680e+02\n",
      " 4.810e+02 4.030e+02 4.250e+02 7.560e+02 7.120e+02 1.940e+02 2.580e+02\n",
      " 4.910e+02 1.470e+02 6.720e+02 7.370e+02 7.000e+02 3.260e+02 6.800e+01\n",
      " 3.360e+02 5.410e+02 8.700e+01 8.230e+02 5.720e+02 2.340e+02 2.245e+03\n",
      " 4.920e+02 2.110e+02 2.700e+01 2.520e+02 3.300e+02 4.200e+01 6.960e+02\n",
      " 3.430e+02 1.960e+02 2.500e+02 1.730e+02 5.920e+02 4.580e+02 6.900e+02\n",
      " 4.970e+02 1.731e+03 3.060e+02 8.420e+02 1.510e+02 6.550e+02 5.070e+02\n",
      " 4.430e+02 5.680e+02 2.270e+02 6.260e+02 1.100e+02 6.500e+02 8.050e+02\n",
      " 6.460e+02 3.020e+02 3.040e+02 6.580e+02 3.180e+02 2.780e+02 2.470e+02\n",
      " 9.340e+02 2.180e+02 1.600e+02 5.420e+02 7.210e+02 6.680e+02 4.570e+02\n",
      " 3.860e+02 2.610e+02 4.140e+02 2.840e+02 8.430e+02 1.440e+02 1.830e+02\n",
      " 5.970e+02 7.900e+02 6.090e+02 9.510e+02 2.100e+02 1.530e+02 2.170e+02\n",
      " 7.100e+02 1.065e+03 1.740e+02 3.500e+01 4.400e+02 3.810e+02 1.100e+01\n",
      " 8.110e+02 6.830e+02 3.350e+02 1.630e+02 3.650e+02 9.200e+02 6.240e+02\n",
      " 4.780e+02 8.500e+02 5.240e+02 5.540e+02 1.550e+02 8.980e+02 3.800e+02\n",
      " 7.150e+02 2.790e+02 3.310e+02 7.390e+02 1.370e+02 6.910e+02 5.100e+01\n",
      " 5.810e+02 5.700e+02 6.440e+02 2.400e+02 1.490e+02 3.640e+02 1.756e+03\n",
      " 2.130e+02 6.380e+02 1.103e+03 2.460e+02 7.600e+01 1.114e+03 1.600e+01\n",
      " 1.790e+02 5.690e+02 5.470e+02 5.520e+02 9.420e+02 1.340e+02 7.380e+02\n",
      " 7.820e+02 6.500e+01 3.890e+02 4.620e+02 3.580e+02 1.780e+02 6.920e+02\n",
      " 9.330e+02 6.820e+02 6.770e+02 6.390e+02 2.000e+01 1.145e+03 6.520e+02\n",
      " 5.350e+02 6.740e+02 5.290e+02 3.540e+02 4.890e+02 3.064e+03 4.470e+02\n",
      " 5.090e+02 5.280e+02 8.300e+02 1.660e+02 6.710e+02 8.700e+02 6.310e+02\n",
      " 4.800e+02 4.070e+02 3.150e+02 7.800e+01 5.740e+02 9.450e+02 8.080e+02\n",
      " 1.080e+02 3.110e+02 4.740e+02 1.514e+03 3.120e+02 4.320e+02 2.570e+02\n",
      " 9.270e+02 3.800e+01 2.230e+02 8.310e+02 2.700e+02 2.665e+03 2.090e+02\n",
      " 9.100e+01 4.480e+02 6.600e+02 1.360e+02 2.060e+02 1.640e+02 4.930e+02\n",
      " 4.420e+02 7.330e+02 2.888e+03 2.300e+02 3.330e+02 3.760e+02 5.650e+02\n",
      " 9.810e+02 1.980e+02 5.600e+02 5.770e+02 3.420e+02 5.610e+02 2.420e+02\n",
      " 2.276e+03 3.590e+02 1.264e+03 5.250e+02 5.450e+02 2.990e+02 9.790e+02\n",
      " 2.930e+02 3.320e+02 7.200e+01 2.450e+02 4.090e+02 1.477e+03 1.140e+02\n",
      " 5.800e+01 5.530e+02 5.880e+02 3.700e+01 3.940e+02 3.600e+02 5.550e+02\n",
      " 4.870e+02 6.190e+02 7.400e+01 3.730e+02 6.210e+02 2.080e+02 7.040e+02\n",
      " 4.990e+02 5.620e+02 4.080e+02 6.170e+02 1.342e+03 4.220e+02 2.560e+02\n",
      " 5.230e+02 2.467e+03 4.550e+02 6.840e+02 1.320e+02 6.030e+02 6.970e+02\n",
      " 4.260e+02 3.900e+02 2.000e+02 4.340e+02 5.480e+02 5.940e+02 5.040e+02\n",
      " 4.100e+01 1.050e+02 5.430e+02 5.440e+02 8.260e+02 3.000e+01 5.020e+02\n",
      " 7.530e+02 8.930e+02 3.870e+02 1.930e+02 8.010e+02 9.400e+01 6.250e+02\n",
      " 7.060e+02 6.360e+02 3.460e+02 7.190e+02 7.170e+02 2.290e+02 4.770e+02\n",
      " 7.320e+02 6.670e+02 4.840e+02 5.300e+02 8.880e+02 9.380e+02 2.348e+03\n",
      " 3.030e+02 9.650e+02 5.140e+02 5.900e+01 5.220e+02 9.000e+00 6.790e+02\n",
      " 2.209e+03 1.880e+02 6.950e+02 9.610e+02 1.304e+03 3.270e+02 1.028e+03\n",
      " 3.790e+02 7.660e+02 1.097e+03 8.900e+02 4.150e+02 2.860e+02 3.560e+02\n",
      " 8.670e+02 7.910e+02 1.300e+02 8.800e+01 2.905e+03 3.070e+02 6.690e+02\n",
      " 3.710e+02 5.030e+02 4.440e+02 1.424e+03 5.660e+02 1.007e+03 5.930e+02\n",
      " 1.362e+03 3.610e+02 1.499e+03 9.600e+01 1.480e+02 1.260e+02 1.690e+02\n",
      " 6.600e+01 9.040e+02 1.272e+03 6.490e+02 7.960e+02 3.900e+01 1.767e+03\n",
      " 7.420e+02 3.620e+02 2.820e+02 9.170e+02 5.510e+02 5.120e+02 4.900e+01\n",
      " 3.230e+02 2.300e+01 2.160e+02 7.800e+02 6.160e+02 6.400e+02 4.240e+02\n",
      " 1.077e+03 1.049e+03 6.980e+02 3.500e+02 4.790e+02 7.870e+02 1.586e+03\n",
      " 3.190e+02 8.290e+02 2.800e+02 4.900e+02 6.000e+02 4.230e+02 6.620e+02\n",
      " 9.160e+02 2.810e+02 7.780e+02 2.690e+02 1.350e+02 4.950e+02 8.790e+02\n",
      " 1.416e+03 2.280e+02 4.130e+02 7.630e+02 2.030e+02 7.310e+02 4.370e+02\n",
      " 5.850e+02 3.400e+02 1.213e+03 6.020e+02 7.890e+02 8.860e+02 7.240e+02\n",
      " 9.700e+01 7.010e+02 2.220e+02 3.000e+02 4.600e+01 4.270e+02 4.280e+02\n",
      " 2.660e+02 4.310e+02 2.100e+01 3.970e+02 6.280e+02 3.050e+02 2.120e+02\n",
      " 6.220e+02 1.700e+01 2.550e+02 1.910e+02 2.066e+03 1.650e+02 3.550e+02\n",
      " 1.280e+02 3.830e+02 2.320e+02 5.180e+02 4.000e+02 7.610e+02 3.220e+02\n",
      " 8.560e+02 1.200e+03 3.520e+02 2.847e+03 6.730e+02 6.860e+02 9.630e+02\n",
      " 5.390e+02 1.420e+02 1.860e+02 4.040e+02 1.802e+03 2.620e+02 6.230e+02\n",
      " 8.500e+01 2.240e+02 8.270e+02 7.090e+02 4.360e+02 4.060e+02 7.360e+02\n",
      " 4.730e+02 9.150e+02 3.290e+02 5.750e+02 4.500e+01 1.181e+03 6.140e+02\n",
      " 2.600e+02 2.409e+03 8.170e+02 9.970e+02 5.790e+02 2.830e+02 1.186e+03\n",
      " 1.596e+03 8.100e+01 1.800e+01 6.940e+02 3.480e+02 3.530e+02 1.020e+02\n",
      " 1.720e+02 5.830e+02 1.290e+02 2.530e+02 7.110e+02 1.190e+03 4.650e+02\n",
      " 5.490e+02 6.100e+02 8.140e+02 7.160e+02 2.770e+02 8.340e+02 1.326e+03\n",
      " 1.240e+02 3.170e+02 9.360e+02 3.390e+02 8.120e+02 4.490e+02 4.190e+02\n",
      " 3.450e+02 1.170e+02 1.840e+02 9.500e+01 2.960e+02 1.580e+02 7.440e+02\n",
      " 6.050e+02 1.228e+03 5.950e+02 9.060e+02 8.090e+02 5.270e+02 7.650e+02\n",
      " 5.600e+01 6.420e+02 6.300e+01 2.416e+03 8.300e+01 9.730e+02 2.670e+02\n",
      " 2.350e+02 6.850e+02 1.970e+02 6.130e+02 5.640e+02 6.180e+02 3.080e+02\n",
      " 2.640e+02 1.199e+03 1.008e+03 8.460e+02 1.074e+03 1.990e+02 6.700e+01\n",
      " 2.400e+01 7.670e+02 1.069e+03 8.200e+01 3.300e+01 3.130e+02 4.670e+02\n",
      " 1.053e+03 7.030e+02 2.740e+02 6.700e+02 1.710e+02 1.010e+02 6.630e+02\n",
      " 1.942e+03 8.000e+02 6.120e+02 9.560e+02 7.640e+02 2.200e+01 4.180e+02\n",
      " 1.130e+02 4.300e+02 1.256e+03 4.860e+02 6.150e+02 1.722e+03 8.620e+02\n",
      " 6.200e+01 6.890e+02 4.290e+02 3.160e+02 1.648e+03 5.000e+02 2.711e+03\n",
      " 2.540e+02 3.720e+02 1.951e+03 5.840e+02 4.020e+02 7.280e+02 3.750e+02\n",
      " 7.290e+02 6.070e+02 8.520e+02 7.180e+02 2.020e+02 2.970e+02 1.760e+02\n",
      " 1.040e+03 4.750e+02 7.050e+02 3.950e+02 2.980e+02 4.100e+02 4.000e+01\n",
      " 1.098e+03 2.633e+03 1.354e+03 3.240e+02 8.060e+02 6.650e+02 4.300e+01\n",
      " 9.190e+02 6.540e+02 1.500e+02 9.660e+02 3.380e+02 1.310e+02 9.210e+02\n",
      " 7.460e+02 6.990e+02 7.540e+02 7.860e+02 1.909e+03 6.290e+02 1.248e+03\n",
      " 2.720e+02 2.747e+03 7.230e+02 9.740e+02 2.040e+02 7.920e+02 4.400e+01\n",
      " 1.680e+02 1.562e+03 8.410e+02 6.080e+02 9.430e+02 1.022e+03 2.250e+02\n",
      " 2.490e+02 2.880e+03 1.160e+02 5.710e+02 5.500e+01 8.680e+02 3.960e+02\n",
      " 1.540e+02 1.180e+02 1.481e+03 5.980e+02 9.520e+02 8.200e+02 1.090e+02\n",
      " 2.218e+03 1.150e+02 2.440e+02 7.100e+01 2.210e+02 8.730e+02 8.690e+02\n",
      " 2.050e+02 3.400e+01 6.900e+01 8.590e+02 9.670e+02 1.150e+03 5.400e+01\n",
      " 6.400e+01 3.510e+02 7.000e+00 1.400e+02 1.086e+03 1.460e+02 1.299e+03\n",
      " 1.501e+03 6.610e+02 2.026e+03 9.130e+02 5.670e+02 2.730e+02 8.040e+02\n",
      " 7.750e+02 1.200e+02 3.470e+02 8.580e+02 1.330e+02 1.030e+02 4.540e+02\n",
      " 1.000e+02 8.280e+02 4.050e+02 4.800e+01 7.220e+02 1.887e+03 1.809e+03\n",
      " 3.690e+02 8.870e+02 8.390e+02 7.270e+02 1.120e+03 7.700e+02 1.900e+02\n",
      " 1.250e+02 1.057e+03 8.610e+02 3.190e+03 9.320e+02 7.400e+02 8.480e+02\n",
      " 1.191e+03 2.131e+03 8.750e+02 7.710e+02 1.041e+03 3.210e+02 6.930e+02\n",
      " 8.600e+01 2.370e+02 1.215e+03 7.970e+02 3.000e+00 9.030e+02 1.790e+03\n",
      " 1.094e+03 7.480e+02 6.560e+02 7.680e+02 6.590e+02 8.320e+02 9.900e+01\n",
      " 1.220e+02 1.800e+02 5.820e+02 1.620e+03 2.800e+01 7.260e+02 1.364e+03\n",
      " 6.000e+01 7.550e+02 7.300e+02 9.410e+02 1.190e+02 1.200e+01 7.300e+01\n",
      " 1.070e+02 1.211e+03 1.270e+03 9.930e+02 1.400e+03 1.000e+00 9.800e+01\n",
      " 7.080e+02 8.890e+02 7.580e+02 1.450e+02 7.450e+02 8.660e+02 1.568e+03\n",
      " 1.079e+03 8.630e+02 1.400e+01 4.380e+02 1.148e+03 1.061e+03 7.930e+02\n",
      " 8.850e+02 2.489e+03 5.730e+02 7.990e+02 1.361e+03 6.780e+02 7.790e+02\n",
      " 1.423e+03 1.064e+03 1.564e+03 2.555e+03 2.427e+03 9.690e+02 7.130e+02\n",
      " 2.532e+03 1.011e+03 1.890e+02 8.530e+02 3.013e+03 1.312e+03 2.190e+02\n",
      " 8.450e+02 6.470e+02 7.940e+02 1.329e+03 8.220e+02 1.262e+03 1.073e+03\n",
      " 1.798e+03 9.850e+02 1.657e+03 7.880e+02 6.640e+02 3.200e+01 7.570e+02\n",
      " 2.680e+02 8.000e+01 2.768e+03 2.009e+03 8.470e+02 7.600e+02 1.167e+03\n",
      " 4.000e+00 2.984e+03]\n",
      "ponds_around3000 [ 2.  0.  3.  1. nan]\n",
      "ponds_nearest [ 755.   nan  574. ...  959.   40. 1134.]\n",
      "days_exposition [  nan   81.  558. ... 1360. 1007.  971.]\n",
      "\n",
      "parks_around3000\n",
      "0.0    15624\n",
      "1.0     5681\n",
      "2.0     1747\n",
      "3.0      647\n",
      "Name: parks_around3000, dtype: int64\n",
      "\n",
      "ponds_around3000\n",
      "0.0    14589\n",
      "1.0     5717\n",
      "2.0     1892\n",
      "3.0     1501\n",
      "Name: ponds_around3000, dtype: int64\n",
      "\n",
      "<class 'pandas.core.frame.DataFrame'>\n",
      "RangeIndex: 23699 entries, 0 to 23698\n",
      "Data columns (total 22 columns):\n",
      " #   Column                Non-Null Count  Dtype  \n",
      "---  ------                --------------  -----  \n",
      " 0   total_images          23699 non-null  int64  \n",
      " 1   last_price            23699 non-null  float64\n",
      " 2   total_area            23699 non-null  float64\n",
      " 3   first_day_exposition  23699 non-null  object \n",
      " 4   rooms                 23699 non-null  int64  \n",
      " 5   ceiling_height        14504 non-null  float64\n",
      " 6   floors_total          23613 non-null  float64\n",
      " 7   living_area           21796 non-null  float64\n",
      " 8   floor                 23699 non-null  int64  \n",
      " 9   is_apartment          2775 non-null   object \n",
      " 10  studio                23699 non-null  bool   \n",
      " 11  open_plan             23699 non-null  bool   \n",
      " 12  kitchen_area          21421 non-null  float64\n",
      " 13  balcony               23699 non-null  float64\n",
      " 14  locality_name         23650 non-null  object \n",
      " 15  airports_nearest      18157 non-null  float64\n",
      " 16  cityCenters_nearest   18180 non-null  float64\n",
      " 17  parks_around3000      23699 non-null  float64\n",
      " 18  parks_nearest         8079 non-null   float64\n",
      " 19  ponds_around3000      23699 non-null  float64\n",
      " 20  ponds_nearest         9110 non-null   float64\n",
      " 21  days_exposition       20518 non-null  float64\n",
      "dtypes: bool(2), float64(14), int64(3), object(3)\n",
      "memory usage: 3.7+ MB\n",
      "None\n",
      "   total_images  last_price  total_area first_day_exposition  rooms  \\\n",
      "0            20  13000000.0       108.0  2019-03-07T00:00:00      3   \n",
      "1             7   3350000.0        40.4  2018-12-04T00:00:00      1   \n",
      "2            10   5196000.0        56.0  2015-08-20T00:00:00      2   \n",
      "3             0  64900000.0       159.0  2015-07-24T00:00:00      3   \n",
      "4             2  10000000.0       100.0  2018-06-19T00:00:00      2   \n",
      "\n",
      "   ceiling_height  floors_total  living_area  floor is_apartment  ...  \\\n",
      "0            2.70          16.0         51.0      8          NaN  ...   \n",
      "1             NaN          11.0         18.6      1          NaN  ...   \n",
      "2             NaN           5.0         34.3      4          NaN  ...   \n",
      "3             NaN          14.0          NaN      9          NaN  ...   \n",
      "4            3.03          14.0         32.0     13          NaN  ...   \n",
      "\n",
      "   kitchen_area  balcony    locality_name  airports_nearest  \\\n",
      "0          25.0      0.0  Санкт-Петербург           18863.0   \n",
      "1          11.0      2.0   посёлок Шушары           12817.0   \n",
      "2           8.3      0.0  Санкт-Петербург           21741.0   \n",
      "3           NaN      0.0  Санкт-Петербург           28098.0   \n",
      "4          41.0      0.0  Санкт-Петербург           31856.0   \n",
      "\n",
      "  cityCenters_nearest  parks_around3000  parks_nearest  ponds_around3000  \\\n",
      "0             16028.0               1.0          482.0               2.0   \n",
      "1             18603.0               0.0            NaN               0.0   \n",
      "2             13933.0               1.0           90.0               2.0   \n",
      "3              6800.0               2.0           84.0               3.0   \n",
      "4              8098.0               2.0          112.0               1.0   \n",
      "\n",
      "   ponds_nearest  days_exposition  \n",
      "0          755.0              NaN  \n",
      "1            NaN             81.0  \n",
      "2          574.0            558.0  \n",
      "3          234.0            424.0  \n",
      "4           48.0            121.0  \n",
      "\n",
      "[5 rows x 22 columns]\n",
      "\n",
      "<class 'pandas.core.frame.DataFrame'>\n",
      "RangeIndex: 23699 entries, 0 to 23698\n",
      "Data columns (total 22 columns):\n",
      " #   Column                Non-Null Count  Dtype  \n",
      "---  ------                --------------  -----  \n",
      " 0   total_images          23699 non-null  int64  \n",
      " 1   last_price            23699 non-null  int64  \n",
      " 2   total_area            23699 non-null  int64  \n",
      " 3   first_day_exposition  23699 non-null  object \n",
      " 4   rooms                 23699 non-null  int64  \n",
      " 5   ceiling_height        14504 non-null  float64\n",
      " 6   floors_total          23613 non-null  float64\n",
      " 7   living_area           21796 non-null  float64\n",
      " 8   floor                 23699 non-null  int64  \n",
      " 9   is_apartment          2775 non-null   object \n",
      " 10  studio                23699 non-null  bool   \n",
      " 11  open_plan             23699 non-null  bool   \n",
      " 12  kitchen_area          21421 non-null  float64\n",
      " 13  balcony               23699 non-null  int64  \n",
      " 14  locality_name         23650 non-null  object \n",
      " 15  airports_nearest      18157 non-null  float64\n",
      " 16  cityCenters_nearest   18180 non-null  float64\n",
      " 17  parks_around3000      23699 non-null  int64  \n",
      " 18  parks_nearest         8079 non-null   float64\n",
      " 19  ponds_around3000      23699 non-null  int64  \n",
      " 20  ponds_nearest         9110 non-null   float64\n",
      " 21  days_exposition       20518 non-null  float64\n",
      "dtypes: bool(2), float64(9), int64(8), object(3)\n",
      "memory usage: 3.7+ MB\n",
      "None\n",
      "   total_images  last_price  total_area first_day_exposition  rooms  \\\n",
      "0            20    13000000         108  2019-03-07T00:00:00      3   \n",
      "1             7     3350000          40  2018-12-04T00:00:00      1   \n",
      "2            10     5196000          56  2015-08-20T00:00:00      2   \n",
      "3             0    64900000         159  2015-07-24T00:00:00      3   \n",
      "4             2    10000000         100  2018-06-19T00:00:00      2   \n",
      "\n",
      "   ceiling_height  floors_total  living_area  floor is_apartment  ...  \\\n",
      "0            2.70          16.0         51.0      8          NaN  ...   \n",
      "1             NaN          11.0         18.6      1          NaN  ...   \n",
      "2             NaN           5.0         34.3      4          NaN  ...   \n",
      "3             NaN          14.0          NaN      9          NaN  ...   \n",
      "4            3.03          14.0         32.0     13          NaN  ...   \n",
      "\n",
      "   kitchen_area  balcony    locality_name  airports_nearest  \\\n",
      "0          25.0        0  Санкт-Петербург           18863.0   \n",
      "1          11.0        2   посёлок Шушары           12817.0   \n",
      "2           8.3        0  Санкт-Петербург           21741.0   \n",
      "3           NaN        0  Санкт-Петербург           28098.0   \n",
      "4          41.0        0  Санкт-Петербург           31856.0   \n",
      "\n",
      "  cityCenters_nearest  parks_around3000  parks_nearest  ponds_around3000  \\\n",
      "0             16028.0                 1          482.0                 2   \n",
      "1             18603.0                 0            NaN                 0   \n",
      "2             13933.0                 1           90.0                 2   \n",
      "3              6800.0                 2           84.0                 3   \n",
      "4              8098.0                 2          112.0                 1   \n",
      "\n",
      "   ponds_nearest  days_exposition  \n",
      "0          755.0              NaN  \n",
      "1            NaN             81.0  \n",
      "2          574.0            558.0  \n",
      "3          234.0            424.0  \n",
      "4           48.0            121.0  \n",
      "\n",
      "[5 rows x 22 columns]\n",
      "\n"
     ]
    }
   ],
   "source": [
    "print('Просматриваем столбцы с пропусками')\n",
    "print()\n",
    "print(data['is_apartment'].unique())\n",
    "print(data.groupby('is_apartment')['is_apartment'].count())\n",
    "print()\n",
    "print(data['balcony'].unique())\n",
    "print(data.groupby('balcony')['balcony'].count())\n",
    "data['balcony'] = data['balcony'].fillna(0.)\n",
    "print(data.groupby('balcony')['balcony'].count())\n",
    "print()\n",
    "print('ceiling_height', data['ceiling_height'].unique())\n",
    "print('living_area',data['living_area'].unique())\n",
    "print('is_apartment',data['is_apartment'].unique())\n",
    "print('kitchen_area',data['kitchen_area'].unique())\n",
    "print('locality_name',data['locality_name'].unique())\n",
    "print('airports_nearest',data['airports_nearest'].unique())\n",
    "print('cityCenters_nearest',data['cityCenters_nearest'].unique())\n",
    "print('parks_around3000',data['parks_around3000'].unique())\n",
    "print('parks_nearest',data['parks_nearest'].unique())\n",
    "print('ponds_around3000',data['ponds_around3000'].unique())\n",
    "print('ponds_nearest',data['ponds_nearest'].unique())\n",
    "print('days_exposition',data['days_exposition'].unique())\n",
    "print()\n",
    "data['parks_around3000'] = data['parks_around3000'].fillna(0.)\n",
    "print(data.groupby('parks_around3000')['parks_around3000'].count())\n",
    "print()\n",
    "data['ponds_around3000'] = data['ponds_around3000'].fillna(0.)\n",
    "print(data.groupby('ponds_around3000')['ponds_around3000'].count())\n",
    "print()\n",
    "print(data.info())\n",
    "print(data.head())\n",
    "data['balcony']  = data['balcony'].astype('int64', errors='ignore')\n",
    "data['ponds_around3000'] = data['ponds_around3000'].astype('int64', errors='ignore')\n",
    "data['parks_around3000']  = data['parks_around3000'].astype('int64', errors='ignore')\n",
    "data['last_price']  = data['last_price'].astype('int64', errors='ignore')\n",
    "data['total_area']  = data['total_area'].astype('int64', errors='ignore')\n",
    "print()\n",
    "print(data.info())\n",
    "print(data.head())\n",
    "print()"
   ]
  },
  {
   "cell_type": "code",
   "execution_count": 6,
   "metadata": {
    "scrolled": true
   },
   "outputs": [
    {
     "name": "stdout",
     "output_type": "stream",
     "text": [
      "Поиск дубликатов\n",
      "\n"
     ]
    },
    {
     "data": {
      "text/plain": [
       "array(['Санкт-Петербург', 'посёлок Шушары', 'городской посёлок Янино-1',\n",
       "       'посёлок Парголово', 'посёлок Мурино', 'Ломоносов', 'Сертолово',\n",
       "       'Петергоф', 'Пушкин', 'деревня Кудрово', 'Коммунар', 'Колпино',\n",
       "       'поселок городского типа Красный Бор', 'Гатчина', 'поселок Мурино',\n",
       "       'деревня Фёдоровское', 'Выборг', 'Кронштадт', 'Кировск',\n",
       "       'деревня Новое Девяткино', 'посёлок Металлострой',\n",
       "       'посёлок городского типа Лебяжье',\n",
       "       'посёлок городского типа Сиверский', 'поселок Молодцово',\n",
       "       'поселок городского типа Кузьмоловский',\n",
       "       'садовое товарищество Новая Ропша', 'Павловск',\n",
       "       'деревня Пикколово', 'Всеволожск', 'Волхов', 'Кингисепп',\n",
       "       'Приозерск', 'Сестрорецк', 'деревня Куттузи', 'посёлок Аннино',\n",
       "       'поселок городского типа Ефимовский', 'посёлок Плодовое',\n",
       "       'деревня Заклинье', 'поселок Торковичи', 'поселок Первомайское',\n",
       "       'Красное Село', 'посёлок Понтонный', 'Сясьстрой', 'деревня Старая',\n",
       "       'деревня Лесколово', 'посёлок Новый Свет', 'Сланцы',\n",
       "       'село Путилово', 'Ивангород', 'Мурино', 'Шлиссельбург',\n",
       "       'Никольское', 'Зеленогорск', 'Сосновый Бор', 'поселок Новый Свет',\n",
       "       'деревня Оржицы', 'деревня Кальтино', 'Кудрово',\n",
       "       'поселок Романовка', 'посёлок Бугры', 'поселок Бугры',\n",
       "       'поселок городского типа Рощино', 'Кириши', 'Луга', 'Волосово',\n",
       "       'Отрадное', 'село Павлово', 'поселок Оредеж', 'село Копорье',\n",
       "       'посёлок городского типа Красный Бор', 'посёлок Молодёжное',\n",
       "       'Тихвин', 'посёлок Победа', 'деревня Нурма',\n",
       "       'поселок городского типа Синявино', 'Тосно',\n",
       "       'посёлок городского типа Кузьмоловский', 'посёлок Стрельна',\n",
       "       'Бокситогорск', 'посёлок Александровская', 'деревня Лопухинка',\n",
       "       'Пикалёво', 'поселок Терволово',\n",
       "       'поселок городского типа Советский', 'Подпорожье',\n",
       "       'посёлок Петровское', 'посёлок городского типа Токсово',\n",
       "       'поселок Сельцо', 'посёлок городского типа Вырица',\n",
       "       'деревня Кипень', 'деревня Келози', 'деревня Вартемяги',\n",
       "       'посёлок Тельмана', 'поселок Севастьяново',\n",
       "       'городской поселок Большая Ижора', nan,\n",
       "       'городской посёлок Павлово', 'деревня Агалатово',\n",
       "       'посёлок Новогорелово', 'городской посёлок Лесогорский',\n",
       "       'деревня Лаголово', 'поселок Цвелодубово',\n",
       "       'поселок городского типа Рахья', 'поселок городского типа Вырица',\n",
       "       'деревня Белогорка', 'поселок Заводской',\n",
       "       'городской посёлок Новоселье', 'деревня Большие Колпаны',\n",
       "       'деревня Горбунки', 'деревня Батово', 'деревня Заневка',\n",
       "       'деревня Иссад', 'Приморск', 'городской посёлок Фёдоровское',\n",
       "       'деревня Мистолово', 'Новая Ладога', 'поселок Зимитицы',\n",
       "       'поселок Барышево', 'деревня Разметелево',\n",
       "       'поселок городского типа имени Свердлова', 'деревня Пеники',\n",
       "       'поселок Рябово', 'деревня Пудомяги', 'поселок станции Корнево',\n",
       "       'деревня Низино', 'деревня Бегуницы', 'посёлок Поляны',\n",
       "       'городской посёлок Мга', 'поселок Елизаветино',\n",
       "       'посёлок городского типа Кузнечное', 'деревня Колтуши',\n",
       "       'поселок Запорожское', 'посёлок городского типа Рощино',\n",
       "       'деревня Гостилицы', 'деревня Малое Карлино',\n",
       "       'посёлок Мичуринское', 'посёлок городского типа имени Морозова',\n",
       "       'посёлок Песочный', 'посёлок Сосново', 'деревня Аро',\n",
       "       'поселок Ильичёво', 'посёлок городского типа Тайцы',\n",
       "       'деревня Малое Верево', 'деревня Извара', 'поселок станции Вещево',\n",
       "       'село Паша', 'деревня Калитино',\n",
       "       'посёлок городского типа Ульяновка', 'деревня Чудской Бор',\n",
       "       'поселок городского типа Дубровка', 'деревня Мины',\n",
       "       'поселок Войсковицы', 'посёлок городского типа имени Свердлова',\n",
       "       'деревня Коркино', 'посёлок Ропша',\n",
       "       'поселок городского типа Приладожский', 'посёлок Щеглово',\n",
       "       'посёлок Гаврилово', 'Лодейное Поле', 'деревня Рабитицы',\n",
       "       'поселок городского типа Никольский', 'деревня Кузьмолово',\n",
       "       'деревня Малые Колпаны', 'поселок Тельмана',\n",
       "       'посёлок Петро-Славянка', 'городской посёлок Назия',\n",
       "       'посёлок Репино', 'посёлок Ильичёво', 'поселок Углово',\n",
       "       'поселок Старая Малукса', 'садовое товарищество Рахья',\n",
       "       'поселок Аннино', 'поселок Победа', 'деревня Меньково',\n",
       "       'деревня Старые Бегуницы', 'посёлок Сапёрный', 'поселок Семрино',\n",
       "       'поселок Гаврилово', 'поселок Глажево', 'поселок Кобринское',\n",
       "       'деревня Гарболово', 'деревня Юкки',\n",
       "       'поселок станции Приветнинское', 'деревня Мануйлово',\n",
       "       'деревня Пчева', 'поселок Поляны', 'поселок Цвылёво',\n",
       "       'поселок Мельниково', 'посёлок Пудость', 'посёлок Усть-Луга',\n",
       "       'Светогорск', 'Любань', 'поселок Селезнёво',\n",
       "       'поселок городского типа Рябово', 'Каменногорск', 'деревня Кривко',\n",
       "       'поселок Глебычево', 'деревня Парицы', 'поселок Жилпосёлок',\n",
       "       'посёлок городского типа Мга', 'городской поселок Янино-1',\n",
       "       'посёлок Войскорово', 'село Никольское', 'посёлок Терволово',\n",
       "       'поселок Стеклянный', 'посёлок городского типа Важины',\n",
       "       'посёлок Мыза-Ивановка', 'село Русско-Высоцкое',\n",
       "       'поселок городского типа Лебяжье',\n",
       "       'поселок городского типа Форносово', 'село Старая Ладога',\n",
       "       'поселок Житково', 'городской посёлок Виллози', 'деревня Лампово',\n",
       "       'деревня Шпаньково', 'деревня Лаврики', 'посёлок Сумино',\n",
       "       'посёлок Возрождение', 'деревня Старосиверская',\n",
       "       'посёлок Кикерино', 'поселок Возрождение',\n",
       "       'деревня Старое Хинколово', 'посёлок Пригородный',\n",
       "       'посёлок Торфяное', 'городской посёлок Будогощь',\n",
       "       'поселок Суходолье', 'поселок Красная Долина', 'деревня Хапо-Ое',\n",
       "       'поселок городского типа Дружная Горка', 'поселок Лисий Нос',\n",
       "       'деревня Яльгелево', 'посёлок Стеклянный', 'село Рождествено',\n",
       "       'деревня Старополье', 'посёлок Левашово', 'деревня Сяськелево',\n",
       "       'деревня Камышовка',\n",
       "       'садоводческое некоммерческое товарищество Лесная Поляна',\n",
       "       'деревня Хязельки', 'поселок Жилгородок',\n",
       "       'посёлок городского типа Павлово', 'деревня Ялгино',\n",
       "       'поселок Новый Учхоз', 'городской посёлок Рощино',\n",
       "       'поселок Гончарово', 'поселок Почап', 'посёлок Сапёрное',\n",
       "       'посёлок Платформа 69-й километр', 'поселок Каложицы',\n",
       "       'деревня Фалилеево', 'деревня Пельгора',\n",
       "       'поселок городского типа Лесогорский', 'деревня Торошковичи',\n",
       "       'посёлок Белоостров', 'посёлок Алексеевка', 'поселок Серебрянский',\n",
       "       'поселок Лукаши', 'поселок Петровское', 'деревня Щеглово',\n",
       "       'поселок Мичуринское', 'деревня Тарасово', 'поселок Кингисеппский',\n",
       "       'посёлок при железнодорожной станции Вещево', 'поселок Ушаки',\n",
       "       'деревня Котлы', 'деревня Сижно', 'деревня Торосово',\n",
       "       'посёлок Форт Красная Горка', 'поселок городского типа Токсово',\n",
       "       'деревня Новолисино', 'посёлок станции Громово', 'деревня Глинка',\n",
       "       'посёлок Мельниково', 'поселок городского типа Назия',\n",
       "       'деревня Старая Пустошь', 'поселок Коммунары', 'поселок Починок',\n",
       "       'посёлок городского типа Вознесенье', 'деревня Разбегаево',\n",
       "       'посёлок городского типа Рябово', 'поселок Гладкое',\n",
       "       'посёлок при железнодорожной станции Приветнинское',\n",
       "       'поселок Тёсово-4', 'посёлок Жилгородок', 'деревня Бор',\n",
       "       'посёлок Коробицыно', 'деревня Большая Вруда', 'деревня Курковицы',\n",
       "       'посёлок Лисий Нос', 'городской посёлок Советский',\n",
       "       'посёлок Кобралово', 'деревня Суоранда', 'поселок Кобралово',\n",
       "       'поселок городского типа Кондратьево',\n",
       "       'коттеджный поселок Счастье', 'поселок Любань', 'деревня Реброво',\n",
       "       'деревня Зимитицы', 'деревня Тойворово', 'поселок Семиозерье',\n",
       "       'поселок Лесное', 'поселок Совхозный', 'поселок Усть-Луга',\n",
       "       'посёлок Ленинское', 'посёлок Суйда',\n",
       "       'посёлок городского типа Форносово', 'деревня Нижние Осельки',\n",
       "       'посёлок станции Свирь', 'поселок Перово', 'Высоцк',\n",
       "       'поселок Гарболово', 'село Шум', 'поселок Котельский',\n",
       "       'поселок станции Лужайка', 'деревня Большая Пустомержа',\n",
       "       'поселок Красносельское', 'деревня Вахнова Кара', 'деревня Пижма',\n",
       "       'коттеджный поселок Кивеннапа Север', 'поселок Коробицыно',\n",
       "       'поселок Ромашки', 'посёлок Перово', 'деревня Каськово',\n",
       "       'деревня Куровицы', 'посёлок Плоское', 'поселок Сумино',\n",
       "       'поселок городского типа Большая Ижора', 'поселок Кирпичное',\n",
       "       'деревня Ям-Тесово', 'деревня Раздолье', 'деревня Терпилицы',\n",
       "       'посёлок Шугозеро', 'деревня Ваганово', 'поселок Пушное',\n",
       "       'садовое товарищество Садко', 'посёлок Усть-Ижора',\n",
       "       'деревня Выскатка', 'городской посёлок Свирьстрой',\n",
       "       'поселок Громово', 'деревня Кисельня', 'посёлок Старая Малукса',\n",
       "       'деревня Трубников Бор', 'поселок Калитино',\n",
       "       'посёлок Высокоключевой', 'садовое товарищество Приладожский',\n",
       "       'посёлок Пансионат Зелёный Бор', 'деревня Ненимяки',\n",
       "       'поселок Пансионат Зелёный Бор', 'деревня Снегирёвка',\n",
       "       'деревня Рапполово', 'деревня Пустынка', 'поселок Рабитицы',\n",
       "       'деревня Большой Сабск', 'деревня Русско', 'деревня Лупполово',\n",
       "       'деревня Большое Рейзино', 'деревня Малая Романовка',\n",
       "       'поселок Дружноселье', 'поселок Пчевжа', 'поселок Володарское',\n",
       "       'деревня Нижняя', 'коттеджный посёлок Лесное', 'деревня Тихковицы',\n",
       "       'деревня Борисова Грива', 'посёлок Дзержинского'], dtype=object)"
      ]
     },
     "metadata": {},
     "output_type": "display_data"
    },
    {
     "data": {
      "text/plain": [
       "array(['Санкт-Петербург', 'Шушары', 'Янино-1', 'Парголово', 'Мурино',\n",
       "       'Ломоносов', 'Сертолово', 'Петергоф', 'Пушкин', 'Кудрово',\n",
       "       'Коммунар', 'Колпино', 'Красный Бор', 'Гатчина', 'Фёдоровское',\n",
       "       'Выборг', 'Кронштадт', 'Кировск', 'Новое Девяткино',\n",
       "       'Металлострой', 'Лебяжье', 'Сиверский', 'Молодцово',\n",
       "       'Кузьмоловский', 'Новая Ропша', 'Павловск', 'Пикколово',\n",
       "       'Всеволожск', 'Волхов', 'Кингисепп', 'Приозерск', 'Сестрорецк',\n",
       "       'Куттузи', 'Аннино', 'Ефимовский', 'Плодовое', 'Заклинье',\n",
       "       'Торковичи', 'Первомайское', 'Красное Село', 'Понтонный',\n",
       "       'Сясьстрой', 'Старая', 'Лесколово', 'Новый Свет', 'Сланцы',\n",
       "       'Путилово', 'Ивангород', 'Шлиссельбург', 'Никольское',\n",
       "       'Зеленогорск', 'Сосновый Бор', 'Оржицы', 'Кальтино', 'Романовка',\n",
       "       'Бугры', 'Рощино', 'Кириши', 'Луга', 'Волосово', 'Отрадное',\n",
       "       'Павлово', 'Оредеж', 'Копорье', 'Молодёжное', 'Тихвин', 'Победа',\n",
       "       'Нурма', 'Синявино', 'Тосно', 'Стрельна', 'Бокситогорск',\n",
       "       'Александровская', 'Лопухинка', 'Пикалёво', 'Терволово',\n",
       "       'Советский', 'Подпорожье', 'Петровское', 'Токсово', 'Сельцо',\n",
       "       'Вырица', 'Кипень', 'Келози', 'Вартемяги', 'Тельмана',\n",
       "       'Севастьяново', 'Большая Ижора', nan, 'Агалатово', 'Новогорелово',\n",
       "       'Лесогорский', 'Лаголово', 'Цвелодубово', 'Рахья', 'Белогорка',\n",
       "       'Заводской', 'Новоселье', 'Большие Колпаны', 'Горбунки', 'Батово',\n",
       "       'Заневка', 'Иссад', 'Приморск', 'Мистолово', 'Новая Ладога',\n",
       "       'Зимитицы', 'Барышево', 'Разметелево', 'имени Свердлова', 'Пеники',\n",
       "       'Рябово', 'Пудомяги', 'станции Корнево', 'Низино', 'Бегуницы',\n",
       "       'Поляны', 'Мга', 'Елизаветино', 'Кузнечное', 'Колтуши',\n",
       "       'Запорожское', 'Гостилицы', 'Малое Карлино', 'Мичуринское',\n",
       "       'имени Морозова', 'Песочный', 'Сосново', 'Аро', 'Ильичёво',\n",
       "       'Тайцы', 'Малое Верево', 'Извара', 'станции Вещево', 'Паша',\n",
       "       'Калитино', 'Ульяновка', 'Чудской Бор', 'Дубровка', 'Мины',\n",
       "       'Войсковицы', 'Коркино', 'Ропша', 'Приладожский', 'Щеглово',\n",
       "       'Гаврилово', 'Лодейное Поле', 'Рабитицы', 'Никольский',\n",
       "       'Кузьмолово', 'Малые Колпаны', 'Петро-Славянка', 'Назия', 'Репино',\n",
       "       'Углово', 'Старая Малукса', 'Меньково', 'Старые Бегуницы',\n",
       "       'Сапёрный', 'Семрино', 'Глажево', 'Кобринское', 'Гарболово',\n",
       "       'Юкки', 'станции Приветнинское', 'Мануйлово', 'Пчева', 'Цвылёво',\n",
       "       'Мельниково', 'Пудость', 'Усть-Луга', 'Светогорск', 'Любань',\n",
       "       'Селезнёво', 'Каменногорск', 'Кривко', 'Глебычево', 'Парицы',\n",
       "       'Жилпосёлок', 'Войскорово', 'Стеклянный', 'Важины',\n",
       "       'Мыза-Ивановка', 'Русско-Высоцкое', 'Форносово', 'Старая Ладога',\n",
       "       'Житково', 'Виллози', 'Лампово', 'Шпаньково', 'Лаврики', 'Сумино',\n",
       "       'Возрождение', 'Старосиверская', 'Кикерино', 'Старое Хинколово',\n",
       "       'Пригородный', 'Торфяное', 'Будогощь', 'Суходолье',\n",
       "       'Красная Долина', 'Хапо-Ое', 'Дружная Горка', 'Лисий Нос',\n",
       "       'Яльгелево', 'Рождествено', 'Старополье', 'Левашово', 'Сяськелево',\n",
       "       'Камышовка', 'Лесная Поляна', 'Хязельки', 'Жилгородок', 'Ялгино',\n",
       "       'Новый Учхоз', 'Гончарово', 'Почап', 'Сапёрное',\n",
       "       'Платформа 69-й километр', 'Каложицы', 'Фалилеево', 'Пельгора',\n",
       "       'Торошковичи', 'Белоостров', 'Алексеевка', 'Серебрянский',\n",
       "       'Лукаши', 'Тарасово', 'Кингисеппский', 'Вещево', 'Ушаки', 'Котлы',\n",
       "       'Сижно', 'Торосово', 'Форт Красная Горка', 'Новолисино', 'Громово',\n",
       "       'Глинка', 'Старая Пустошь', 'Коммунары', 'Починок', 'Вознесенье',\n",
       "       'Разбегаево', 'Гладкое', 'Приветнинское', 'Тёсово-4', 'Бор',\n",
       "       'Коробицыно', 'Большая Вруда', 'Курковицы', 'Кобралово',\n",
       "       'Суоранда', 'Кондратьево', 'Счастье', 'Реброво', 'Тойворово',\n",
       "       'Семиозерье', 'Лесное', 'Совхозный', 'Ленинское', 'Суйда',\n",
       "       'Нижние Осельки', 'Свирь', 'Перово', 'Высоцк', 'Шум', 'Котельский',\n",
       "       'станции Лужайка', 'Большая Пустомержа', 'Красносельское',\n",
       "       'Вахнова Кара', 'Пижма', 'Кивеннапа Север', 'Ромашки', 'Каськово',\n",
       "       'Куровицы', 'Плоское', 'Кирпичное', 'Ям-Тесово', 'Раздолье',\n",
       "       'Терпилицы', 'Шугозеро', 'Ваганово', 'Пушное', 'Садко',\n",
       "       'Усть-Ижора', 'Выскатка', 'Свирьстрой', 'Кисельня',\n",
       "       'Трубников Бор', 'Высокоключевой', 'Пансионат Зелёный Бор',\n",
       "       'Ненимяки', 'Снегирёвка', 'Рапполово', 'Пустынка', 'Большой Сабск',\n",
       "       'Русско', 'Лупполово', 'Большое Рейзино', 'Малая Романовка',\n",
       "       'Дружноселье', 'Пчевжа', 'Володарское', 'Нижняя', 'Тихковицы',\n",
       "       'Борисова Грива', 'Дзержинского'], dtype=object)"
      ]
     },
     "metadata": {},
     "output_type": "display_data"
    },
    {
     "name": "stdout",
     "output_type": "stream",
     "text": [
      "\n"
     ]
    }
   ],
   "source": [
    "print('Поиск дубликатов')\n",
    "print()\n",
    "display(data['locality_name'].unique())\n",
    "data['shrt_name'] = data['locality_name']\n",
    "duplicates = ['деревня ', 'садовое товарищество ', 'село ', 'поселок городского типа ', 'посёлок городского типа ',  'городской посёлок ', 'городской поселок ', 'посёлок при железнодорожной станции ', 'посёлок станции ', 'садоводческое некоммерческое товарищество ', 'коттеджный поселок ', 'коттеджный посёлок ', 'посёлок ', 'поселок ']\n",
    "for i in duplicates:\n",
    "    data['shrt_name'] = data['shrt_name'].str.replace(i, '')\n",
    "display(data['shrt_name'].unique())\n",
    "print()\n",
    "\n"
   ]
  },
  {
   "cell_type": "markdown",
   "metadata": {},
   "source": [
    "<div class=\"alert alert-block alert-success\">✔️\n",
    "    \n",
    "\n",
    "__Комментарий от ревьюера №2__\n",
    "\n",
    "Отличный код)\n",
    "</div>"
   ]
  },
  {
   "cell_type": "code",
   "execution_count": 7,
   "metadata": {},
   "outputs": [
    {
     "name": "stdout",
     "output_type": "stream",
     "text": [
      "Работа с некоректными данными\n"
     ]
    },
    {
     "data": {
      "text/plain": [
       "array([  2.7 ,    nan,   3.03,   2.5 ,   2.67,   2.56,   3.05,   2.75,\n",
       "         2.6 ,   2.9 ,   2.8 ,   2.55,   3.  ,   2.65,   3.2 ,   2.61,\n",
       "         3.25,   3.45,   2.77,   2.85,   2.64,   2.57,   4.15,   3.5 ,\n",
       "         3.3 ,   2.71,   4.  ,   2.47,   2.73,   2.84,   3.1 ,   2.34,\n",
       "         3.4 ,   3.06,   2.72,   2.54,   2.51,   2.78,   2.76,  25.  ,\n",
       "         2.58,   3.7 ,   2.52,   5.2 ,   2.87,   2.66,   2.59,   2.  ,\n",
       "         2.45,   3.6 ,   2.92,   3.11,   3.13,   3.8 ,   3.15,   3.55,\n",
       "         3.16,   3.62,   3.12,   2.53,   2.74,   2.96,   2.46,   5.3 ,\n",
       "         5.  ,   2.79,   2.95,   4.06,   2.94,   3.82,   3.54,   3.53,\n",
       "         2.83,   4.7 ,   2.4 ,   3.38,   3.01,   5.6 ,   3.65,   3.9 ,\n",
       "         3.18,   3.35,   2.3 ,   3.57,   2.48,   2.62,   2.82,   3.98,\n",
       "         2.63,   3.83,   3.52,   3.95,   3.75,   2.88,   3.67,   3.87,\n",
       "         3.66,   3.85,   3.86,   4.19,   3.24,   4.8 ,   4.5 ,   4.2 ,\n",
       "         3.36,  32.  ,   3.08,   3.68,   3.07,   3.37,   3.09,   8.  ,\n",
       "         3.26,   3.34,   2.81,   3.44,   2.97,   3.14,   4.37,   2.68,\n",
       "         3.22,   3.27,  27.  ,   4.1 ,   2.93,   3.46,  24.  ,   3.47,\n",
       "         3.33,   3.63,   3.32,  26.  ,   1.2 ,   8.3 ,   2.98,   2.86,\n",
       "         3.17,   4.4 ,   3.28,   3.04,   4.45,   5.5 ,   3.84,   3.23,\n",
       "         3.02,   3.21,   3.43,   3.78,   4.3 ,   3.39,   2.69,   3.31,\n",
       "         4.65,   3.56,   2.2 ,   3.51,   3.93,   3.42,   2.99,   3.49,\n",
       "        14.  ,   4.14,   2.91,   3.88,   1.75,   4.25,   3.29,  20.  ,\n",
       "         2.25,   3.76,   3.69,   6.  ,  22.6 ,   2.89,   3.58,   5.8 ,\n",
       "        27.5 ,   2.49,   4.9 ,   3.48,  10.3 ,   1.  , 100.  ,   3.59])"
      ]
     },
     "metadata": {},
     "output_type": "display_data"
    },
    {
     "data": {
      "text/plain": [
       "array([ 2.7 ,   nan,  3.03,  2.5 ,  2.67,  2.56,  3.05,  2.75,  2.6 ,\n",
       "        2.9 ,  2.8 ,  2.55,  3.  ,  2.65,  3.2 ,  2.61,  3.25,  3.45,\n",
       "        2.77,  2.85,  2.64,  2.57,  4.15,  3.5 ,  3.3 ,  2.71,  4.  ,\n",
       "        2.47,  2.73,  2.84,  3.1 ,  2.34,  3.4 ,  3.06,  2.72,  2.54,\n",
       "        2.51,  2.78,  2.76, 25.  ,  2.58,  3.7 ,  2.52,  5.2 ,  2.87,\n",
       "        2.66,  2.59,  2.  ,  2.45,  3.6 ,  2.92,  3.11,  3.13,  3.8 ,\n",
       "        3.15,  3.55,  3.16,  3.62,  3.12,  2.53,  2.74,  2.96,  2.46,\n",
       "        5.3 ,  5.  ,  2.79,  2.95,  4.06,  2.94,  3.82,  3.54,  3.53,\n",
       "        2.83,  4.7 ,  2.4 ,  3.38,  3.01,  5.6 ,  3.65,  3.9 ,  3.18,\n",
       "        3.35,  2.3 ,  3.57,  2.48,  2.62,  2.82,  3.98,  2.63,  3.83,\n",
       "        3.52,  3.95,  3.75,  2.88,  3.67,  3.87,  3.66,  3.85,  3.86,\n",
       "        4.19,  3.24,  4.8 ,  4.5 ,  4.2 ,  3.36, 32.  ,  3.08,  3.68,\n",
       "        3.07,  3.37,  3.09,  8.  ,  3.26,  3.34,  2.81,  3.44,  2.97,\n",
       "        3.14,  4.37,  2.68,  3.22,  3.27,  4.1 ,  2.93,  3.46,  3.47,\n",
       "        3.33,  3.63,  3.32,  1.2 ,  8.3 ,  2.98,  2.86,  3.17,  4.4 ,\n",
       "        3.28,  3.04,  4.45,  5.5 ,  3.84,  3.23,  3.02,  3.21,  3.43,\n",
       "        3.78,  4.3 ,  3.39,  2.69,  3.31,  4.65,  3.56,  2.2 ,  3.51,\n",
       "        3.93,  3.42,  2.99,  3.49,  1.4 ,  4.14,  2.91,  3.88,  1.75,\n",
       "        4.25,  3.29,  2.25,  3.76,  3.69,  6.  ,  2.26,  2.89,  3.58,\n",
       "        5.8 ,  2.49,  4.9 ,  3.48, 10.3 ,  1.  , 10.  ,  3.59])"
      ]
     },
     "metadata": {},
     "output_type": "display_data"
    }
   ],
   "source": [
    "print('Работа с некоректными данными')\n",
    "display(data['ceiling_height'].unique())\n",
    "duplicates = [27., 24., 26., 14., 20.0,  22.6, 27.5, 100.]\n",
    "name = [2.7, 2.4, 2.6, 1.4, 2.0,  2.26, 2.75, 10.0]\n",
    "for i in range(len(duplicates)):\n",
    "    data['ceiling_height'] = data['ceiling_height'].replace(duplicates[i], name[i])\n",
    "display(data['ceiling_height'].unique())\n"
   ]
  },
  {
   "cell_type": "code",
   "execution_count": 8,
   "metadata": {},
   "outputs": [
    {
     "name": "stdout",
     "output_type": "stream",
     "text": [
      "int64\n"
     ]
    }
   ],
   "source": [
    "print(data['last_price'].dtype)\n"
   ]
  },
  {
   "cell_type": "code",
   "execution_count": 9,
   "metadata": {},
   "outputs": [
    {
     "name": "stdout",
     "output_type": "stream",
     "text": [
      "Меняем высоту потолков относительно района\n",
      "\n"
     ]
    },
    {
     "name": "stderr",
     "output_type": "stream",
     "text": [
      "/opt/conda/lib/python3.9/site-packages/numpy/lib/nanfunctions.py:1117: RuntimeWarning: Mean of empty slice\n",
      "  return np.nanmean(a, axis, out=out, keepdims=keepdims)\n",
      "/opt/conda/lib/python3.9/site-packages/numpy/lib/nanfunctions.py:1117: RuntimeWarning: Mean of empty slice\n",
      "  return np.nanmean(a, axis, out=out, keepdims=keepdims)\n",
      "/opt/conda/lib/python3.9/site-packages/numpy/lib/nanfunctions.py:1117: RuntimeWarning: Mean of empty slice\n",
      "  return np.nanmean(a, axis, out=out, keepdims=keepdims)\n",
      "/opt/conda/lib/python3.9/site-packages/numpy/lib/nanfunctions.py:1117: RuntimeWarning: Mean of empty slice\n",
      "  return np.nanmean(a, axis, out=out, keepdims=keepdims)\n",
      "/opt/conda/lib/python3.9/site-packages/numpy/lib/nanfunctions.py:1117: RuntimeWarning: Mean of empty slice\n",
      "  return np.nanmean(a, axis, out=out, keepdims=keepdims)\n",
      "/opt/conda/lib/python3.9/site-packages/numpy/lib/nanfunctions.py:1117: RuntimeWarning: Mean of empty slice\n",
      "  return np.nanmean(a, axis, out=out, keepdims=keepdims)\n",
      "/opt/conda/lib/python3.9/site-packages/numpy/lib/nanfunctions.py:1117: RuntimeWarning: Mean of empty slice\n",
      "  return np.nanmean(a, axis, out=out, keepdims=keepdims)\n",
      "/opt/conda/lib/python3.9/site-packages/numpy/lib/nanfunctions.py:1117: RuntimeWarning: Mean of empty slice\n",
      "  return np.nanmean(a, axis, out=out, keepdims=keepdims)\n",
      "/opt/conda/lib/python3.9/site-packages/numpy/lib/nanfunctions.py:1117: RuntimeWarning: Mean of empty slice\n",
      "  return np.nanmean(a, axis, out=out, keepdims=keepdims)\n",
      "/opt/conda/lib/python3.9/site-packages/numpy/lib/nanfunctions.py:1117: RuntimeWarning: Mean of empty slice\n",
      "  return np.nanmean(a, axis, out=out, keepdims=keepdims)\n",
      "/opt/conda/lib/python3.9/site-packages/numpy/lib/nanfunctions.py:1117: RuntimeWarning: Mean of empty slice\n",
      "  return np.nanmean(a, axis, out=out, keepdims=keepdims)\n",
      "/opt/conda/lib/python3.9/site-packages/numpy/lib/nanfunctions.py:1117: RuntimeWarning: Mean of empty slice\n",
      "  return np.nanmean(a, axis, out=out, keepdims=keepdims)\n",
      "/opt/conda/lib/python3.9/site-packages/numpy/lib/nanfunctions.py:1117: RuntimeWarning: Mean of empty slice\n",
      "  return np.nanmean(a, axis, out=out, keepdims=keepdims)\n",
      "/opt/conda/lib/python3.9/site-packages/numpy/lib/nanfunctions.py:1117: RuntimeWarning: Mean of empty slice\n",
      "  return np.nanmean(a, axis, out=out, keepdims=keepdims)\n",
      "/opt/conda/lib/python3.9/site-packages/numpy/lib/nanfunctions.py:1117: RuntimeWarning: Mean of empty slice\n",
      "  return np.nanmean(a, axis, out=out, keepdims=keepdims)\n",
      "/opt/conda/lib/python3.9/site-packages/numpy/lib/nanfunctions.py:1117: RuntimeWarning: Mean of empty slice\n",
      "  return np.nanmean(a, axis, out=out, keepdims=keepdims)\n",
      "/opt/conda/lib/python3.9/site-packages/numpy/lib/nanfunctions.py:1117: RuntimeWarning: Mean of empty slice\n",
      "  return np.nanmean(a, axis, out=out, keepdims=keepdims)\n",
      "/opt/conda/lib/python3.9/site-packages/numpy/lib/nanfunctions.py:1117: RuntimeWarning: Mean of empty slice\n",
      "  return np.nanmean(a, axis, out=out, keepdims=keepdims)\n",
      "/opt/conda/lib/python3.9/site-packages/numpy/lib/nanfunctions.py:1117: RuntimeWarning: Mean of empty slice\n",
      "  return np.nanmean(a, axis, out=out, keepdims=keepdims)\n",
      "/opt/conda/lib/python3.9/site-packages/numpy/lib/nanfunctions.py:1117: RuntimeWarning: Mean of empty slice\n",
      "  return np.nanmean(a, axis, out=out, keepdims=keepdims)\n",
      "/opt/conda/lib/python3.9/site-packages/numpy/lib/nanfunctions.py:1117: RuntimeWarning: Mean of empty slice\n",
      "  return np.nanmean(a, axis, out=out, keepdims=keepdims)\n",
      "/opt/conda/lib/python3.9/site-packages/numpy/lib/nanfunctions.py:1117: RuntimeWarning: Mean of empty slice\n",
      "  return np.nanmean(a, axis, out=out, keepdims=keepdims)\n",
      "/opt/conda/lib/python3.9/site-packages/numpy/lib/nanfunctions.py:1117: RuntimeWarning: Mean of empty slice\n",
      "  return np.nanmean(a, axis, out=out, keepdims=keepdims)\n",
      "/opt/conda/lib/python3.9/site-packages/numpy/lib/nanfunctions.py:1117: RuntimeWarning: Mean of empty slice\n",
      "  return np.nanmean(a, axis, out=out, keepdims=keepdims)\n",
      "/opt/conda/lib/python3.9/site-packages/numpy/lib/nanfunctions.py:1117: RuntimeWarning: Mean of empty slice\n",
      "  return np.nanmean(a, axis, out=out, keepdims=keepdims)\n",
      "/opt/conda/lib/python3.9/site-packages/numpy/lib/nanfunctions.py:1117: RuntimeWarning: Mean of empty slice\n",
      "  return np.nanmean(a, axis, out=out, keepdims=keepdims)\n",
      "/opt/conda/lib/python3.9/site-packages/numpy/lib/nanfunctions.py:1117: RuntimeWarning: Mean of empty slice\n",
      "  return np.nanmean(a, axis, out=out, keepdims=keepdims)\n",
      "/opt/conda/lib/python3.9/site-packages/numpy/lib/nanfunctions.py:1117: RuntimeWarning: Mean of empty slice\n",
      "  return np.nanmean(a, axis, out=out, keepdims=keepdims)\n",
      "/opt/conda/lib/python3.9/site-packages/numpy/lib/nanfunctions.py:1117: RuntimeWarning: Mean of empty slice\n",
      "  return np.nanmean(a, axis, out=out, keepdims=keepdims)\n",
      "/opt/conda/lib/python3.9/site-packages/numpy/lib/nanfunctions.py:1117: RuntimeWarning: Mean of empty slice\n",
      "  return np.nanmean(a, axis, out=out, keepdims=keepdims)\n",
      "/opt/conda/lib/python3.9/site-packages/numpy/lib/nanfunctions.py:1117: RuntimeWarning: Mean of empty slice\n",
      "  return np.nanmean(a, axis, out=out, keepdims=keepdims)\n",
      "/opt/conda/lib/python3.9/site-packages/numpy/lib/nanfunctions.py:1117: RuntimeWarning: Mean of empty slice\n",
      "  return np.nanmean(a, axis, out=out, keepdims=keepdims)\n",
      "/opt/conda/lib/python3.9/site-packages/numpy/lib/nanfunctions.py:1117: RuntimeWarning: Mean of empty slice\n",
      "  return np.nanmean(a, axis, out=out, keepdims=keepdims)\n",
      "/opt/conda/lib/python3.9/site-packages/numpy/lib/nanfunctions.py:1117: RuntimeWarning: Mean of empty slice\n",
      "  return np.nanmean(a, axis, out=out, keepdims=keepdims)\n",
      "/opt/conda/lib/python3.9/site-packages/numpy/lib/nanfunctions.py:1117: RuntimeWarning: Mean of empty slice\n",
      "  return np.nanmean(a, axis, out=out, keepdims=keepdims)\n",
      "/opt/conda/lib/python3.9/site-packages/numpy/lib/nanfunctions.py:1117: RuntimeWarning: Mean of empty slice\n",
      "  return np.nanmean(a, axis, out=out, keepdims=keepdims)\n",
      "/opt/conda/lib/python3.9/site-packages/numpy/lib/nanfunctions.py:1117: RuntimeWarning: Mean of empty slice\n",
      "  return np.nanmean(a, axis, out=out, keepdims=keepdims)\n",
      "/opt/conda/lib/python3.9/site-packages/numpy/lib/nanfunctions.py:1117: RuntimeWarning: Mean of empty slice\n",
      "  return np.nanmean(a, axis, out=out, keepdims=keepdims)\n",
      "/opt/conda/lib/python3.9/site-packages/numpy/lib/nanfunctions.py:1117: RuntimeWarning: Mean of empty slice\n",
      "  return np.nanmean(a, axis, out=out, keepdims=keepdims)\n",
      "/opt/conda/lib/python3.9/site-packages/numpy/lib/nanfunctions.py:1117: RuntimeWarning: Mean of empty slice\n",
      "  return np.nanmean(a, axis, out=out, keepdims=keepdims)\n",
      "/opt/conda/lib/python3.9/site-packages/numpy/lib/nanfunctions.py:1117: RuntimeWarning: Mean of empty slice\n",
      "  return np.nanmean(a, axis, out=out, keepdims=keepdims)\n",
      "/opt/conda/lib/python3.9/site-packages/numpy/lib/nanfunctions.py:1117: RuntimeWarning: Mean of empty slice\n",
      "  return np.nanmean(a, axis, out=out, keepdims=keepdims)\n",
      "/opt/conda/lib/python3.9/site-packages/numpy/lib/nanfunctions.py:1117: RuntimeWarning: Mean of empty slice\n",
      "  return np.nanmean(a, axis, out=out, keepdims=keepdims)\n",
      "/opt/conda/lib/python3.9/site-packages/numpy/lib/nanfunctions.py:1117: RuntimeWarning: Mean of empty slice\n",
      "  return np.nanmean(a, axis, out=out, keepdims=keepdims)\n",
      "/opt/conda/lib/python3.9/site-packages/numpy/lib/nanfunctions.py:1117: RuntimeWarning: Mean of empty slice\n",
      "  return np.nanmean(a, axis, out=out, keepdims=keepdims)\n",
      "/opt/conda/lib/python3.9/site-packages/numpy/lib/nanfunctions.py:1117: RuntimeWarning: Mean of empty slice\n",
      "  return np.nanmean(a, axis, out=out, keepdims=keepdims)\n",
      "/opt/conda/lib/python3.9/site-packages/numpy/lib/nanfunctions.py:1117: RuntimeWarning: Mean of empty slice\n",
      "  return np.nanmean(a, axis, out=out, keepdims=keepdims)\n",
      "/opt/conda/lib/python3.9/site-packages/numpy/lib/nanfunctions.py:1117: RuntimeWarning: Mean of empty slice\n",
      "  return np.nanmean(a, axis, out=out, keepdims=keepdims)\n",
      "/opt/conda/lib/python3.9/site-packages/numpy/lib/nanfunctions.py:1117: RuntimeWarning: Mean of empty slice\n",
      "  return np.nanmean(a, axis, out=out, keepdims=keepdims)\n",
      "/opt/conda/lib/python3.9/site-packages/numpy/lib/nanfunctions.py:1117: RuntimeWarning: Mean of empty slice\n",
      "  return np.nanmean(a, axis, out=out, keepdims=keepdims)\n",
      "/opt/conda/lib/python3.9/site-packages/numpy/lib/nanfunctions.py:1117: RuntimeWarning: Mean of empty slice\n",
      "  return np.nanmean(a, axis, out=out, keepdims=keepdims)\n",
      "/opt/conda/lib/python3.9/site-packages/numpy/lib/nanfunctions.py:1117: RuntimeWarning: Mean of empty slice\n",
      "  return np.nanmean(a, axis, out=out, keepdims=keepdims)\n",
      "/opt/conda/lib/python3.9/site-packages/numpy/lib/nanfunctions.py:1117: RuntimeWarning: Mean of empty slice\n",
      "  return np.nanmean(a, axis, out=out, keepdims=keepdims)\n",
      "/opt/conda/lib/python3.9/site-packages/numpy/lib/nanfunctions.py:1117: RuntimeWarning: Mean of empty slice\n",
      "  return np.nanmean(a, axis, out=out, keepdims=keepdims)\n",
      "/opt/conda/lib/python3.9/site-packages/numpy/lib/nanfunctions.py:1117: RuntimeWarning: Mean of empty slice\n",
      "  return np.nanmean(a, axis, out=out, keepdims=keepdims)\n",
      "/opt/conda/lib/python3.9/site-packages/numpy/lib/nanfunctions.py:1117: RuntimeWarning: Mean of empty slice\n",
      "  return np.nanmean(a, axis, out=out, keepdims=keepdims)\n",
      "/opt/conda/lib/python3.9/site-packages/numpy/lib/nanfunctions.py:1117: RuntimeWarning: Mean of empty slice\n",
      "  return np.nanmean(a, axis, out=out, keepdims=keepdims)\n",
      "/opt/conda/lib/python3.9/site-packages/numpy/lib/nanfunctions.py:1117: RuntimeWarning: Mean of empty slice\n",
      "  return np.nanmean(a, axis, out=out, keepdims=keepdims)\n",
      "/opt/conda/lib/python3.9/site-packages/numpy/lib/nanfunctions.py:1117: RuntimeWarning: Mean of empty slice\n",
      "  return np.nanmean(a, axis, out=out, keepdims=keepdims)\n",
      "/opt/conda/lib/python3.9/site-packages/numpy/lib/nanfunctions.py:1117: RuntimeWarning: Mean of empty slice\n",
      "  return np.nanmean(a, axis, out=out, keepdims=keepdims)\n",
      "/opt/conda/lib/python3.9/site-packages/numpy/lib/nanfunctions.py:1117: RuntimeWarning: Mean of empty slice\n",
      "  return np.nanmean(a, axis, out=out, keepdims=keepdims)\n",
      "/opt/conda/lib/python3.9/site-packages/numpy/lib/nanfunctions.py:1117: RuntimeWarning: Mean of empty slice\n",
      "  return np.nanmean(a, axis, out=out, keepdims=keepdims)\n",
      "/opt/conda/lib/python3.9/site-packages/numpy/lib/nanfunctions.py:1117: RuntimeWarning: Mean of empty slice\n",
      "  return np.nanmean(a, axis, out=out, keepdims=keepdims)\n",
      "/opt/conda/lib/python3.9/site-packages/numpy/lib/nanfunctions.py:1117: RuntimeWarning: Mean of empty slice\n",
      "  return np.nanmean(a, axis, out=out, keepdims=keepdims)\n"
     ]
    }
   ],
   "source": [
    "print('Меняем высоту потолков относительно района')\n",
    "print()\n",
    "for locality_name in data['shrt_name'].unique():\n",
    "    median = data.loc[data['shrt_name'] == locality_name, 'ceiling_height'].median()\n",
    "    data.loc[(data['ceiling_height'].isna())&(data['shrt_name'] == locality_name), 'ceiling_height'] = median\n",
    "    \n",
    "data.loc[data['ceiling_height'].isna(), 'ceiling_height'] = data['ceiling_height'].median()"
   ]
  },
  {
   "cell_type": "markdown",
   "metadata": {},
   "source": [
    "<div class=\"alert alert-block alert-danger\">✍\n",
    "    \n",
    "\n",
    "__Комментарий от ревьюера №1__\n",
    "\n",
    "Твой проект тяжело читать, т.к. в нем нет подзаголовков, весь код написан в одной ячейке / нет промежуточных выводов Пожалуйста, воспользуйся методичкой по оформлению проектов, что бы исправить эти недостатки. Ее можно найти в блоке курса: ****Полезные инструкции для учёбы - Оформление проекта - Рекомендации по выполнению проектов****\n",
    "\n",
    "В виде комментариев к коду стоит писать пояснения, почему ты применил те или иные методы python, зачем сгруппировал данные, для чего нужны срезы и т.д.\n",
    "Все остальное - выводы, рекомендации, принятые решения, указание на обнаруженные аномалии, анализ графиков и т.д. нужно писать в ячейках makdown. Так твой проект будет проще читать.\n",
    "</div>"
   ]
  },
  {
   "cell_type": "markdown",
   "metadata": {},
   "source": [
    "<div class=\"alert alert-block alert-success\">✔️\n",
    "    \n",
    "\n",
    "__Комментарий от ревьюера №1__\n",
    "\n",
    "Согласен, если пропуск - вероятнее всего балкон отсутствует"
   ]
  },
  {
   "attachments": {
    "image.png": {
     "image/png": "[encoded data removed]"
    }
   },
   "cell_type": "markdown",
   "metadata": {},
   "source": [
    "<div class=\"alert alert-block alert-success\">✔️\n",
    "    \n",
    "\n",
    "__Комментарий от ревьюера №1__\n",
    "\n",
    "Некоторые столбцы можно поменять на значения, относительно своего района (например высота пололков). Вот так\n",
    "    \n",
    "    \n",
    "![image.png](attachment:image.png)\n",
    "    \n",
    "Если хочешь - дарю свой код =)\n",
    "</div>"
   ]
  },
  {
   "cell_type": "code",
   "execution_count": null,
   "metadata": {},
   "outputs": [],
   "source": []
  },
  {
   "cell_type": "markdown",
   "metadata": {},
   "source": [
    "<div class=\"alert alert-block alert-success\">✔️\n",
    "    \n",
    "\n",
    "__Комментарий от ревьюера №1__\n",
    "\n",
    "Если пропусков меньше 5-10% их лучше сразу удалить, дабы сэкономить время\n",
    "</div>"
   ]
  },
  {
   "cell_type": "markdown",
   "metadata": {},
   "source": [
    "<div class=\"alert alert-block alert-warning\">📝\n",
    "    \n",
    "\n",
    "__Комментарий от ревьюера №1__\n",
    "\n",
    "Давай посмотрим на столбец `last_price`, он имеет дробный тип данных. Но ведь никто не продаёт недвижку с копейками. Что думаешь?\n",
    "</div>"
   ]
  },
  {
   "cell_type": "markdown",
   "metadata": {},
   "source": [
    "<div class=\"alert alert-block alert-warning\">📝\n",
    "    \n",
    "\n",
    "__Комментарий от ревьюера №1__\n",
    "\n",
    "Лучше не хардкодить, а использовать функцию: если значение больше 15, то разделить на 10\n",
    "</div>"
   ]
  },
  {
   "cell_type": "markdown",
   "metadata": {},
   "source": [
    "Подскажи пожалуйста,\n",
    "Написал такой код, но он выдает ошибку, пробовал много разных вариантов, почему-то не могу создать тот, который будет работать согласно комментарию \n",
    "\n",
    "print()\n",
    "print(data['ceiling_height'].unique())\n",
    "print()\n",
    "for i in data['ceiling_height']:\n",
    "    if i > 15:\n",
    "        data['ceiling_height'][i]/10\n",
    "\n",
    "print(data['ceiling_height'].unique())"
   ]
  },
  {
   "cell_type": "markdown",
   "metadata": {},
   "source": [
    "<div class=\"alert alert-block alert-danger\">✍\n",
    "    \n",
    "\n",
    "__Комментарий от ревьюера №1__\n",
    "\n",
    "Отсутствует проверка на явные дубликаты, поправишь, пожалуйста?"
   ]
  },
  {
   "cell_type": "markdown",
   "metadata": {},
   "source": [
    "Ошибки\n",
    "ceiling_height - не стандартный потолок, у которого есть пеерады в высоте. \n",
    "living_area - корпоративное здание, не предусмотрена жилая площадь\n",
    "floors_total - одноэтажное здание\n",
    "is_apartment - скорее всего не аппартаменты\n",
    "kitchen_area - корпоративное здание, не предусмотрена кухонная площадь\n",
    "locality_name - склад, завод, который находится за территорией города\n",
    "airports_nearest - скорее всего нет аэроорта\n",
    "cityCenters_nearest - скорее всего слишком далеко до центра города\n",
    "parks_nearest - не известно сколько до ближайшего парка в км\n",
    "ponds_nearest - не известно сколько до ближайшего пруда в км\n",
    "days_exposition - еще не было снято, нет завершающей даты \n",
    "\n",
    "Измененный тип данных\n",
    "balcony - не может быть дробным\n",
    "ponds_around3000 - в таблице только данные 1,2,3 - так что не может быть дробным \n",
    "parks_around3000 - в таблице только данные 1,2,3 - так что не может быть дробным \n",
    "last_price - нет дробных значений\n",
    "total_area  - нет дробных значений\n",
    "\n",
    "Я бы еще изменил, но не дают пустые \n",
    "floors_total - не может быть дробным\n",
    "airports_nearest - в таблице нет дробных значений\n",
    "cityCenters_nearest - в таблице нет дробных значений\n",
    "parks_nearest - в таблице нет дробных значений\n",
    "ponds_nearest - в таблице нет дробных значений\n",
    "days_exposition -  не может быть дробным"
   ]
  },
  {
   "cell_type": "markdown",
   "metadata": {},
   "source": [
    "<div class=\"alert alert-block alert-success\">✔️\n",
    "    \n",
    "\n",
    "__Комментарий от ревьюера №2__\n",
    "    \n",
    "Второй раздел сделан хорошо. Проверены основные возможные проблемы в данных."
   ]
  },
  {
   "cell_type": "markdown",
   "metadata": {},
   "source": [
    "### Проведите исследовательский анализ данных"
   ]
  },
  {
   "cell_type": "code",
   "execution_count": 10,
   "metadata": {},
   "outputs": [
    {
     "name": "stdout",
     "output_type": "stream",
     "text": [
      "Новые столбцы\n",
      "   total_images  last_price  total_area first_day_exposition  rooms  \\\n",
      "0            20    13000000         108  2019-03-07T00:00:00      3   \n",
      "1             7     3350000          40  2018-12-04T00:00:00      1   \n",
      "2            10     5196000          56  2015-08-20T00:00:00      2   \n",
      "3             0    64900000         159  2015-07-24T00:00:00      3   \n",
      "4             2    10000000         100  2018-06-19T00:00:00      2   \n",
      "\n",
      "   ceiling_height  floors_total  living_area  floor is_apartment  ...  \\\n",
      "0            2.70          16.0         51.0      8          NaN  ...   \n",
      "1            2.63          11.0         18.6      1          NaN  ...   \n",
      "2            2.70           5.0         34.3      4          NaN  ...   \n",
      "3            2.70          14.0          NaN      9          NaN  ...   \n",
      "4            3.03          14.0         32.0     13          NaN  ...   \n",
      "\n",
      "   ponds_around3000  ponds_nearest  days_exposition        shrt_name  \\\n",
      "0                 2          755.0              NaN  Санкт-Петербург   \n",
      "1                 0            NaN             81.0           Шушары   \n",
      "2                 2          574.0            558.0  Санкт-Петербург   \n",
      "3                 3          234.0            424.0  Санкт-Петербург   \n",
      "4                 1           48.0            121.0  Санкт-Петербург   \n",
      "\n",
      "        m2_price  dow  month  year  floor_type    km  \n",
      "0  120370.370370    3      1  2019      другой  16.0  \n",
      "1   83750.000000    1      1  2018      первый  19.0  \n",
      "2   92785.714286    3      1  2015      другой  14.0  \n",
      "3  408176.100629    4      1  2015      другой   7.0  \n",
      "4  100000.000000    1      1  2018      другой   8.0  \n",
      "\n",
      "[5 rows x 29 columns]\n"
     ]
    }
   ],
   "source": [
    "print('Новые столбцы')\n",
    "data['m2_price'] = data['last_price']/data['total_area']\n",
    "data['dow']= pd.to_datetime(data['first_day_exposition']).dt.dayofweek\n",
    "data['month']= pd.to_datetime(data['first_day_exposition']).astype('datetime64[M]').astype(int) % 12 + 1\n",
    "data['year']= pd.to_datetime(data['first_day_exposition']).dt.year\n",
    "def floor_count(q):\n",
    "    w = q['floors_total']\n",
    "    y = q['floor']\n",
    "    if y == 1:\n",
    "        return 'первый'\n",
    "    elif y == w:\n",
    "        return 'последний'\n",
    "    else:\n",
    "        return 'другой'\n",
    "data['floor_type'] = data[['floor', 'floors_total']].apply(floor_count, axis =1)\n",
    "data['km']= data['cityCenters_nearest']/1000\n",
    "data['km']= data['km'].round()\n",
    "print(data.head())\n"
   ]
  },
  {
   "cell_type": "markdown",
   "metadata": {},
   "source": [
    "<div class=\"alert alert-block alert-warning\">📝\n",
    "    \n",
    "\n",
    "__Комментарий от ревьюера №1__\n",
    "\n",
    "Совет: обычно в датафреймах содержатся данные за несколько лет. Важно выбрать корректный метод для вычленения месяца, иначе месяца разных годов могут стать одним месяцем. Обрати внимание на метод astype('datetime64[M]'). Для его использования не нужно обращаться к pd.DatetimeIndex. \n",
    "    \n",
    "Вот хорошая статья на этот счёт: \n",
    "    \n",
    "    https://pythobyte.com/how-to-work-with-dates-and-times-in-python-0a176355/\n",
    "</div>"
   ]
  },
  {
   "cell_type": "markdown",
   "metadata": {},
   "source": [
    "<div class=\"alert alert-block alert-success\">✔️\n",
    "    \n",
    "\n",
    "__Комментарий от ревьюера №2__\n",
    "\n",
    "Этот метод нужен для визуализации динамики по неделям, месяцам или годам (смотря какой метод выберешь)\n",
    "    \n",
    "Код выглядит так:\n",
    "    \n",
    "        df['first_day_exposition'].dt.date #приводим к временному формату\n",
    "        df['first_day_exposition'].astype('datetime64[M]') \n",
    "    \n",
    "Если года разные, то в новой колонке месяца у тебя отобразится первый день месяца ('2019-05-01')\n",
    "</div>"
   ]
  },
  {
   "cell_type": "markdown",
   "metadata": {},
   "source": [
    "<div class=\"alert alert-block alert-success\">✔️\n",
    "    \n",
    "\n",
    "__Комментарий от ревьюера №1__\n",
    "\n",
    "Этот раздел выполнен качественно\n",
    "</div>"
   ]
  },
  {
   "cell_type": "markdown",
   "metadata": {},
   "source": [
    "### Общий вывод"
   ]
  },
  {
   "cell_type": "code",
   "execution_count": 11,
   "metadata": {
    "scrolled": false
   },
   "outputs": [
    {
     "name": "stdout",
     "output_type": "stream",
     "text": [
      "count    23699.000000\n",
      "mean        60.120511\n",
      "std         35.665822\n",
      "min         12.000000\n",
      "25%         40.000000\n",
      "50%         52.000000\n",
      "75%         69.000000\n",
      "max        900.000000\n",
      "Name: total_area, dtype: float64\n",
      "\n"
     ]
    },
    {
     "data": {
      "image/png": "[encoded data removed]",
      "text/plain": [
       "<Figure size 432x288 with 1 Axes>"
      ]
     },
     "metadata": {
      "needs_background": "light"
     },
     "output_type": "display_data"
    }
   ],
   "source": [
    "print(data['total_area'].describe())\n",
    "total_area = data[data['total_area'] < 120.]\n",
    "total_area.hist('total_area', bins = 120)\n",
    "print()\n",
    "\n",
    "\n"
   ]
  },
  {
   "cell_type": "markdown",
   "metadata": {},
   "source": [
    "Данный график показывает, что наибольшая площадь 900 м.кв., наименьшая 12. В среднем плозать 60 кв.м., что в целом похоже на правду\n",
    "\n",
    "Уменьшил диапозон до 120 для лучшего распознования. на графике видно, что не бывает квартир с определенной площадью. Это может быть связано с особенностями торительства здания и правилами по объему здания, куда данные размеры не попадают. \n",
    "\n"
   ]
  },
  {
   "cell_type": "markdown",
   "metadata": {},
   "source": [
    "<div class=\"alert alert-block alert-success\">✔️\n",
    "    \n",
    "\n",
    "__Комментарий от ревьюера №2__\n",
    "\n",
    "Отличная визуализация\n",
    "</div>"
   ]
  },
  {
   "cell_type": "code",
   "execution_count": 12,
   "metadata": {},
   "outputs": [
    {
     "name": "stdout",
     "output_type": "stream",
     "text": [
      "count    21796.000000\n",
      "mean        34.457852\n",
      "std         22.030445\n",
      "min          2.000000\n",
      "25%         18.600000\n",
      "50%         30.000000\n",
      "75%         42.300000\n",
      "max        409.700000\n",
      "Name: living_area, dtype: float64\n",
      "\n"
     ]
    },
    {
     "data": {
      "image/png": "[encoded data removed]",
      "text/plain": [
       "<Figure size 432x288 with 1 Axes>"
      ]
     },
     "metadata": {
      "needs_background": "light"
     },
     "output_type": "display_data"
    }
   ],
   "source": [
    "print(data['living_area'].describe())\n",
    "living_area = data[data['living_area'] < 70.]\n",
    "living_area.hist('living_area', bins = 70)\n",
    "print()"
   ]
  },
  {
   "cell_type": "markdown",
   "metadata": {},
   "source": [
    "Для наглядности слегка урезал график по жилплощади. Если мы посмотрим график, то заметим несколько пиков, это может быть вызвано тем, что в жилых несколько комнта, которые обыно имеют разную +- стандартную площадь около 12 метров, собстевнно с этим и связаны скачки.\n"
   ]
  },
  {
   "cell_type": "code",
   "execution_count": 13,
   "metadata": {},
   "outputs": [
    {
     "name": "stdout",
     "output_type": "stream",
     "text": [
      "count    21421.000000\n",
      "mean        10.569807\n",
      "std          5.905438\n",
      "min          1.300000\n",
      "25%          7.000000\n",
      "50%          9.100000\n",
      "75%         12.000000\n",
      "max        112.000000\n",
      "Name: kitchen_area, dtype: float64\n",
      "\n"
     ]
    },
    {
     "data": {
      "image/png": "[encoded data removed]",
      "text/plain": [
       "<Figure size 432x288 with 1 Axes>"
      ]
     },
     "metadata": {
      "needs_background": "light"
     },
     "output_type": "display_data"
    }
   ],
   "source": [
    "print(data['kitchen_area'].describe())\n",
    "kitchen_area = data[data['kitchen_area'] < 25.]\n",
    "kitchen_area.hist('kitchen_area', bins = 25)\n",
    "print()\n"
   ]
  },
  {
   "cell_type": "markdown",
   "metadata": {},
   "source": [
    "Для наглядности слегка урезал график. \n",
    "На графике видно, что пик по кухням приходится на 7-10 метров и падает к 25. По большому счету есть кухни с огромной площадью, но имея небольшую квартиру кухня тоже будет маленькая. А даже в большой квартире иметь кухню больше 25-30 метров не иммет особого смысла, большие кухни могут быть в ресторанах, столовых и др местах. Возможно этот процент из-за них.\n",
    "\n"
   ]
  },
  {
   "cell_type": "code",
   "execution_count": 14,
   "metadata": {},
   "outputs": [
    {
     "name": "stdout",
     "output_type": "stream",
     "text": [
      "count    23699.000000\n",
      "mean         2.070636\n",
      "std          1.078405\n",
      "min          0.000000\n",
      "25%          1.000000\n",
      "50%          2.000000\n",
      "75%          3.000000\n",
      "max         19.000000\n",
      "Name: rooms, dtype: float64\n"
     ]
    },
    {
     "data": {
      "image/png": "[encoded data removed]",
      "text/plain": [
       "<Figure size 432x288 with 1 Axes>"
      ]
     },
     "metadata": {
      "needs_background": "light"
     },
     "output_type": "display_data"
    }
   ],
   "source": [
    "print(data['rooms'].describe())\n",
    "rooms = data[data['rooms'] < 7.]\n",
    "rooms.hist('rooms', bins = 7);\n"
   ]
  },
  {
   "cell_type": "markdown",
   "metadata": {},
   "source": [
    "Для наглядности слегка урезал график. \n",
    "На графике видно, что в среднем в квартирах есть 2-4 комнаты\n"
   ]
  },
  {
   "cell_type": "code",
   "execution_count": 15,
   "metadata": {},
   "outputs": [
    {
     "name": "stdout",
     "output_type": "stream",
     "text": [
      "count    23699.000000\n",
      "mean         2.714177\n",
      "std          0.529132\n",
      "min          1.000000\n",
      "25%          2.550000\n",
      "50%          2.700000\n",
      "75%          2.700000\n",
      "max         32.000000\n",
      "Name: ceiling_height, dtype: float64\n"
     ]
    },
    {
     "data": {
      "image/png": "[encoded data removed]",
      "text/plain": [
       "<Figure size 432x288 with 1 Axes>"
      ]
     },
     "metadata": {
      "needs_background": "light"
     },
     "output_type": "display_data"
    }
   ],
   "source": [
    "print(data['ceiling_height'].describe())\n",
    "ceiling_height = data[data['ceiling_height'] < 5.]\n",
    "ceiling_height.hist('ceiling_height', bins = 5);\n"
   ]
  },
  {
   "cell_type": "markdown",
   "metadata": {},
   "source": [
    "Для наглядности слегка урезал график. \n",
    "\n",
    "В данных показано, что существуют аномально высокие потокли в 32 метра, это может быть ошибкой, или техническим зданием в виде какой-то вышки. В среднем высотка потоков 2.5-3 метра, что является нормой\n"
   ]
  },
  {
   "cell_type": "code",
   "execution_count": 16,
   "metadata": {},
   "outputs": [
    {
     "name": "stdout",
     "output_type": "stream",
     "text": [
      "count    23699.000000\n",
      "mean         5.892358\n",
      "std          4.885249\n",
      "min          1.000000\n",
      "25%          2.000000\n",
      "50%          4.000000\n",
      "75%          8.000000\n",
      "max         33.000000\n",
      "Name: floor, dtype: float64\n"
     ]
    },
    {
     "data": {
      "image/png": "[encoded data removed]",
      "text/plain": [
       "<Figure size 432x288 with 1 Axes>"
      ]
     },
     "metadata": {
      "needs_background": "light"
     },
     "output_type": "display_data"
    }
   ],
   "source": [
    "print(data['floor'].describe())\n",
    "floor = data[data['floor'] < 25.]\n",
    "floor.hist('floor', bins = 25);\n"
   ]
  },
  {
   "cell_type": "markdown",
   "metadata": {},
   "source": [
    "Есть квартиры до 33 этажей, однако подовляющее большиство это в среднем 4-6 этажи, что похоже направду поскольку это Питер. Застройка Питера и окрестностей это не выскоие здания.\n",
    "\n",
    "Также на графике видно,, что нет нигде 13 этажей, это явно ошибка в данных\n",
    "\n"
   ]
  },
  {
   "cell_type": "code",
   "execution_count": 17,
   "metadata": {},
   "outputs": [
    {
     "name": "stdout",
     "output_type": "stream",
     "text": [
      "count      23699\n",
      "unique         3\n",
      "top       другой\n",
      "freq       17446\n",
      "Name: floor_type, dtype: object\n",
      "floor_type\n",
      "другой       17446\n",
      "первый        2917\n",
      "последний     3336\n",
      "Name: first_day_exposition, dtype: int64\n"
     ]
    },
    {
     "data": {
      "image/png": "[encoded data removed]",
      "text/plain": [
       "<Figure size 432x288 with 1 Axes>"
      ]
     },
     "metadata": {},
     "output_type": "display_data"
    }
   ],
   "source": [
    "print(data['floor_type'].describe())\n",
    "floor_type =  data.groupby(\"floor_type\")['first_day_exposition'].count()\n",
    "print(floor_type)\n",
    "floor_type.plot.pie();\n"
   ]
  },
  {
   "cell_type": "markdown",
   "metadata": {},
   "source": [
    "Не понимаю, почему не могу построить гистограмму, также хотел через unique().count() посчитать кол-во, но тоже не дает\n"
   ]
  },
  {
   "cell_type": "markdown",
   "metadata": {},
   "source": [
    "<div class=\"alert alert-block alert-success\">✔️\n",
    "    \n",
    "\n",
    "__Комментарий от ревьюера №2__\n",
    "\n",
    "Полученные данные соответствуют реалиям\n",
    "</div>"
   ]
  },
  {
   "cell_type": "code",
   "execution_count": 18,
   "metadata": {},
   "outputs": [
    {
     "name": "stdout",
     "output_type": "stream",
     "text": [
      "count    23613.000000\n",
      "mean        10.673824\n",
      "std          6.597173\n",
      "min          1.000000\n",
      "25%          5.000000\n",
      "50%          9.000000\n",
      "75%         16.000000\n",
      "max         60.000000\n",
      "Name: floors_total, dtype: float64\n"
     ]
    },
    {
     "data": {
      "image/png": "[encoded data removed]",
      "text/plain": [
       "<Figure size 432x288 with 1 Axes>"
      ]
     },
     "metadata": {
      "needs_background": "light"
     },
     "output_type": "display_data"
    }
   ],
   "source": [
    "print(data['floors_total'].describe())\n",
    "floors_total = data[data['floors_total'] < 25.]\n",
    "floors_total.hist('floors_total', bins = 25);\n"
   ]
  },
  {
   "cell_type": "markdown",
   "metadata": {},
   "source": [
    "В данных существуют многоэтажные здания до 60 этажей, однако подовляющее большиство это в среднем 4-6 этажки.\n"
   ]
  },
  {
   "cell_type": "code",
   "execution_count": 19,
   "metadata": {},
   "outputs": [
    {
     "name": "stdout",
     "output_type": "stream",
     "text": [
      "count    18180.000000\n",
      "mean        14.184818\n",
      "std          8.616194\n",
      "min          0.000000\n",
      "25%          9.000000\n",
      "50%         13.000000\n",
      "75%         16.000000\n",
      "max         66.000000\n",
      "Name: km, dtype: float64\n"
     ]
    },
    {
     "data": {
      "image/png": "[encoded data removed]",
      "text/plain": [
       "<Figure size 432x288 with 1 Axes>"
      ]
     },
     "metadata": {
      "needs_background": "light"
     },
     "output_type": "display_data"
    }
   ],
   "source": [
    "print(data['km'].describe())\n",
    "km = data[data['km'] < 25.]\n",
    "km.hist('km', bins = 25);\n"
   ]
  },
  {
   "cell_type": "markdown",
   "metadata": {},
   "source": [
    "14 км примерно среднее расстояния до центра города, но есть и здания, растояние от которых до центра более 60км, возможно северные дачи и коттеджи\n",
    "\n"
   ]
  },
  {
   "cell_type": "code",
   "execution_count": 20,
   "metadata": {},
   "outputs": [
    {
     "name": "stdout",
     "output_type": "stream",
     "text": [
      "count    18157.000000\n",
      "mean     28793.672193\n",
      "std      12630.880622\n",
      "min          0.000000\n",
      "25%      18585.000000\n",
      "50%      26726.000000\n",
      "75%      37273.000000\n",
      "max      84869.000000\n",
      "Name: airports_nearest, dtype: float64\n"
     ]
    },
    {
     "data": {
      "image/png": "[encoded data removed]",
      "text/plain": [
       "<Figure size 432x288 with 1 Axes>"
      ]
     },
     "metadata": {
      "needs_background": "light"
     },
     "output_type": "display_data"
    }
   ],
   "source": [
    "print(data['airports_nearest'].describe())\n",
    "data.hist('airports_nearest', bins = 19);\n"
   ]
  },
  {
   "cell_type": "markdown",
   "metadata": {},
   "source": [
    "20-30 км примерно среднее расстояния до аэропорта, что в целом нормально соотносится с данными до центра города, если учесть что аэропорт обычно удален от него\n",
    "\n"
   ]
  },
  {
   "cell_type": "code",
   "execution_count": 21,
   "metadata": {},
   "outputs": [
    {
     "name": "stdout",
     "output_type": "stream",
     "text": [
      "count    8079.000000\n",
      "mean      490.804555\n",
      "std       342.317995\n",
      "min         1.000000\n",
      "25%       288.000000\n",
      "50%       455.000000\n",
      "75%       612.000000\n",
      "max      3190.000000\n",
      "Name: parks_nearest, dtype: float64\n"
     ]
    },
    {
     "data": {
      "image/png": "[encoded data removed]",
      "text/plain": [
       "<Figure size 432x288 with 1 Axes>"
      ]
     },
     "metadata": {
      "needs_background": "light"
     },
     "output_type": "display_data"
    }
   ],
   "source": [
    "print(data['parks_nearest'].describe())\n",
    "parks_nearest = data[data['parks_nearest'] < 1500]\n",
    "parks_nearest.hist('parks_nearest', bins = 30);"
   ]
  },
  {
   "cell_type": "markdown",
   "metadata": {},
   "source": [
    "в среднем парк находится в полукиллометре от здания.\n",
    "\n"
   ]
  },
  {
   "cell_type": "code",
   "execution_count": 22,
   "metadata": {},
   "outputs": [
    {
     "name": "stdout",
     "output_type": "stream",
     "text": [
      "count    23699.000000\n",
      "mean         2.569307\n",
      "std          1.789082\n",
      "min          0.000000\n",
      "25%          1.000000\n",
      "50%          3.000000\n",
      "75%          4.000000\n",
      "max          6.000000\n",
      "Name: dow, dtype: float64\n"
     ]
    },
    {
     "data": {
      "image/png": "[encoded data removed]",
      "text/plain": [
       "<Figure size 432x288 with 1 Axes>"
      ]
     },
     "metadata": {
      "needs_background": "light"
     },
     "output_type": "display_data"
    }
   ],
   "source": [
    "print(data['dow'].describe())\n",
    "data.hist('dow', bins = 7);\n"
   ]
  },
  {
   "cell_type": "markdown",
   "metadata": {},
   "source": [
    "Как мы видим пик активности это раюочие дни, что не удивительно, потому что большинство объявлений создаются риэлторами, которые работают по будням\n"
   ]
  },
  {
   "cell_type": "code",
   "execution_count": 39,
   "metadata": {},
   "outputs": [
    {
     "data": {
      "image/png": "[encoded data removed]",
      "text/plain": [
       "<Figure size 432x288 with 1 Axes>"
      ]
     },
     "metadata": {
      "needs_background": "light"
     },
     "output_type": "display_data"
    }
   ],
   "source": [
    "#print(data['month'].describe())\n",
    "data['month'].hist();\n"
   ]
  },
  {
   "cell_type": "markdown",
   "metadata": {},
   "source": [
    "Пик сдачи приходится на фев-апр и сен-ноябрь"
   ]
  },
  {
   "cell_type": "markdown",
   "metadata": {},
   "source": [
    "<div class=\"alert alert-block alert-danger\">✍\n",
    "    \n",
    "\n",
    "__Комментарий от ревьюера №1__\n",
    "\n",
    "Тут аналогично. Поправишь оформление по проекту, чтобы дальше не акцентировать на этом внимание\n",
    "</div>"
   ]
  },
  {
   "cell_type": "markdown",
   "metadata": {},
   "source": [
    "<div class=\"alert alert-block alert-warning\">📝\n",
    "    \n",
    "\n",
    "__Комментарий от ревьюера №1__\n",
    "\n",
    "Я бы советовал сократить range и тогда мы сможем увидеть пиковые значения. \n",
    "</div>"
   ]
  },
  {
   "cell_type": "markdown",
   "metadata": {},
   "source": [
    "<div class=\"alert alert-block alert-danger\">✍\n",
    "    \n",
    "\n",
    "__Комментарий от ревьюера №1__\n",
    "\n",
    "Отсутствует гистограмма по типу этажа. Добавишь, пожалуйста?\n",
    "</div>"
   ]
  },
  {
   "cell_type": "markdown",
   "metadata": {},
   "source": [
    "<div class=\"alert alert-block alert-success\">✔️\n",
    "    \n",
    "\n",
    "__Комментарий от ревьюера №2__\n",
    "\n",
    "Спасибо за правки)\n",
    "</div>"
   ]
  },
  {
   "cell_type": "markdown",
   "metadata": {},
   "source": [
    "Не могу построить гитограмму, говорит, что это не число и не дает, подскажи как лучше сделать, пока только выделил его как сумму значений.\n"
   ]
  },
  {
   "cell_type": "code",
   "execution_count": 24,
   "metadata": {
    "scrolled": false
   },
   "outputs": [
    {
     "name": "stdout",
     "output_type": "stream",
     "text": [
      "2 часть\n",
      "count    20518.000000\n",
      "mean       180.888634\n",
      "std        219.727988\n",
      "min          1.000000\n",
      "25%         45.000000\n",
      "50%         95.000000\n",
      "75%        232.000000\n",
      "max       1580.000000\n",
      "Name: days_exposition, dtype: float64\n"
     ]
    },
    {
     "data": {
      "image/png": "[encoded data removed]",
      "text/plain": [
       "<Figure size 432x288 with 1 Axes>"
      ]
     },
     "metadata": {
      "needs_background": "light"
     },
     "output_type": "display_data"
    }
   ],
   "source": [
    "print('2 часть')\n",
    "print(data['days_exposition'].describe())\n",
    "days_exposition = data[data['days_exposition'] < 200]\n",
    "days_exposition.hist('days_exposition', bins = 200);"
   ]
  },
  {
   "cell_type": "markdown",
   "metadata": {},
   "source": [
    "Медиана - 95 дней, среднее - 180 дней., наиболее длительная продажа - 1580 дней иил 4 года. Показатель медианы в 3 месяца довольно схож с реальностью, насколько я понимаю. Минимальная продажа составила 1 день, что довольно странно, однако вполне возможно, например, если договорились заранее и просто испольщовали сервис как юр инструмент\n",
    "\n",
    "Из особенностей графика есть несколько пиков, которые сильно выбиваются из общего масива. Это может быть какая-то акция, за счет чего произошел такой скачек или ошибка в данных\n",
    "\n",
    "Мне кажется быстрая продажа происходит за до 3х месяцев, долгая от 1.5 лет"
   ]
  },
  {
   "cell_type": "markdown",
   "metadata": {},
   "source": [
    "<div class=\"alert alert-block alert-danger\">✍\n",
    "    \n",
    "\n",
    "__Комментарий от ревьюера №1__\n",
    "\n",
    "Давай тут уменьшим range до 100-200 (ведь именно в эти дни происходят основные продажи), возможно тут есть интересные аномалии. Так же в таких моментах лучше делать колличество корзин = колличеству дней (в соответствии с range)\n",
    "    \n",
    "---\n",
    "    \n",
    "Как думаешь сколько дней занимает быстрая продажа, а сколько дней - можно считать, что это уже долгая продажа?\n",
    "</div>"
   ]
  },
  {
   "cell_type": "markdown",
   "metadata": {},
   "source": [
    "<div class=\"alert alert-block alert-success\">✔️\n",
    "    \n",
    "\n",
    "__Комментарий от ревьюера №2__\n",
    "    \n",
    "Эти аномалии очень похожи на техническую особенность самой платформы: вероятнее, в эти дни платформа автоматически убирает объявления, если пользователь его не продлил\n",
    "</div>"
   ]
  },
  {
   "cell_type": "markdown",
   "metadata": {},
   "source": [
    "<div class=\"alert alert-block alert-success\">✔️\n",
    "    \n",
    "\n",
    "__Комментарий от ревьюера №2__\n",
    "\n",
    "Да, от 1.5 лет можно считать долгой продажей\n",
    "</div>"
   ]
  },
  {
   "cell_type": "code",
   "execution_count": 25,
   "metadata": {},
   "outputs": [
    {
     "name": "stdout",
     "output_type": "stream",
     "text": [
      "   total_area  living_area  kitchen_area  rooms floor_type  dow  month  year  \\\n",
      "0         108         51.0          25.0      3     другой    3      1  2019   \n",
      "1          40         18.6          11.0      1     первый    1      1  2018   \n",
      "2          56         34.3           8.3      2     другой    3      1  2015   \n",
      "3         159          NaN           NaN      3     другой    4      1  2015   \n",
      "4         100         32.0          41.0      2     другой    1      1  2018   \n",
      "\n",
      "   last_price  \n",
      "0    13000000  \n",
      "1     3350000  \n",
      "2     5196000  \n",
      "3    64900000  \n",
      "4    10000000  \n",
      "<class 'pandas.core.frame.DataFrame'>\n",
      "RangeIndex: 23699 entries, 0 to 23698\n",
      "Data columns (total 9 columns):\n",
      " #   Column        Non-Null Count  Dtype  \n",
      "---  ------        --------------  -----  \n",
      " 0   total_area    23699 non-null  int64  \n",
      " 1   living_area   21796 non-null  float64\n",
      " 2   kitchen_area  21421 non-null  float64\n",
      " 3   rooms         23699 non-null  int64  \n",
      " 4   floor_type    23699 non-null  object \n",
      " 5   dow           23699 non-null  int64  \n",
      " 6   month         23699 non-null  int64  \n",
      " 7   year          23699 non-null  int64  \n",
      " 8   last_price    23699 non-null  int64  \n",
      "dtypes: float64(2), int64(6), object(1)\n",
      "memory usage: 1.6+ MB\n",
      "None\n"
     ]
    },
    {
     "name": "stderr",
     "output_type": "stream",
     "text": [
      "/opt/conda/lib/python3.9/site-packages/pandas/plotting/_matplotlib/misc.py:89: UserWarning: Attempting to set identical left == right == 1.0 results in singular transformations; automatically expanding.\n",
      "  ax.set_xlim(boundaries_list[j])\n",
      "/opt/conda/lib/python3.9/site-packages/pandas/plotting/_matplotlib/misc.py:90: UserWarning: Attempting to set identical bottom == top == 1.0 results in singular transformations; automatically expanding.\n",
      "  ax.set_ylim(boundaries_list[i])\n",
      "/opt/conda/lib/python3.9/site-packages/pandas/plotting/_matplotlib/misc.py:80: UserWarning: Attempting to set identical left == right == 1.0 results in singular transformations; automatically expanding.\n",
      "  ax.set_xlim(boundaries_list[i])\n"
     ]
    },
    {
     "data": {
      "image/png": "[encoded data removed]",
      "text/plain": [
       "<Figure size 648x648 with 64 Axes>"
      ]
     },
     "metadata": {
      "needs_background": "light"
     },
     "output_type": "display_data"
    }
   ],
   "source": [
    "data_summary = data[['total_area', 'living_area', 'kitchen_area', 'rooms', 'floor_type', 'dow', 'month', 'year', 'last_price']]\n",
    "print(data_summary.head())\n",
    "print(data_summary.info())\n",
    "pd.plotting.scatter_matrix(data_summary, figsize=(9, 9));\n"
   ]
  },
  {
   "cell_type": "code",
   "execution_count": 26,
   "metadata": {},
   "outputs": [
    {
     "name": "stdout",
     "output_type": "stream",
     "text": [
      " График зависимости Пирсона - total_area от last_price\n",
      "\n"
     ]
    },
    {
     "data": {
      "image/png": "[encoded data removed]",
      "text/plain": [
       "<Figure size 432x288 with 1 Axes>"
      ]
     },
     "metadata": {
      "needs_background": "light"
     },
     "output_type": "display_data"
    }
   ],
   "source": [
    "print(' График зависимости Пирсона - total_area от last_price')\n",
    "print()\n",
    "data.plot(x='total_area', y='last_price', kind='scatter', alpha=0.3);\n"
   ]
  },
  {
   "cell_type": "markdown",
   "metadata": {},
   "source": [
    "Как видно на графике при увеличении площади цена растет, но не очень сильно, также есть несколько дорогих объектов с сравнительно небольшой ценой, но нет дешевых объектов с большой ценой. Так в целом и есть на рынке недвижимости"
   ]
  },
  {
   "cell_type": "code",
   "execution_count": 27,
   "metadata": {},
   "outputs": [
    {
     "name": "stdout",
     "output_type": "stream",
     "text": [
      " График зависимости Пирсона - living_area от last_price\n",
      "\n"
     ]
    },
    {
     "data": {
      "image/png": "[encoded data removed]",
      "text/plain": [
       "<Figure size 432x288 with 1 Axes>"
      ]
     },
     "metadata": {
      "needs_background": "light"
     },
     "output_type": "display_data"
    }
   ],
   "source": [
    "print(' График зависимости Пирсона - living_area от last_price')\n",
    "print()\n",
    "data.plot(x='living_area', y='last_price', kind='scatter', alpha=0.3);"
   ]
  },
  {
   "cell_type": "markdown",
   "metadata": {},
   "source": [
    "Зависимость цены от жилой площади меньше, чем от общей площади. Скорее всего потому что в более дорогих квартирах важна не столько жилая площадь, сколько доп опции нежилых помещений - градеробы, большая кухня, несколько сан узлов, парковки и тд."
   ]
  },
  {
   "cell_type": "code",
   "execution_count": 28,
   "metadata": {},
   "outputs": [
    {
     "name": "stdout",
     "output_type": "stream",
     "text": [
      " График зависимости Пирсона - kitchen_area от last_price\n",
      "\n"
     ]
    },
    {
     "data": {
      "image/png": "[encoded data removed]",
      "text/plain": [
       "<Figure size 432x288 with 1 Axes>"
      ]
     },
     "metadata": {
      "needs_background": "light"
     },
     "output_type": "display_data"
    }
   ],
   "source": [
    "print(' График зависимости Пирсона - kitchen_area от last_price')\n",
    "print()\n",
    "data.plot(x='kitchen_area', y='last_price', kind='scatter', alpha=0.3);"
   ]
  },
  {
   "cell_type": "markdown",
   "metadata": {},
   "source": [
    "В данном графике довольно биполярная зависимость, можно увидеть, что есть много больших кухонь, с низкой ценой квартиры - думаю это можно отнести к комерческим зданиям - офисы, столовые, рестораны и тд. А также маленькие кухни с большой ценой - думаю это могут быть пентхаусы, дорогие квартиры в небоскребах и тд, где стоимость м кв во много раз выше. "
   ]
  },
  {
   "cell_type": "code",
   "execution_count": 29,
   "metadata": {},
   "outputs": [
    {
     "name": "stdout",
     "output_type": "stream",
     "text": [
      " График зависимости Пирсона - rooms от last_price\n",
      "\n"
     ]
    },
    {
     "data": {
      "image/png": "[encoded data removed]",
      "text/plain": [
       "<Figure size 432x288 with 1 Axes>"
      ]
     },
     "metadata": {
      "needs_background": "light"
     },
     "output_type": "display_data"
    }
   ],
   "source": [
    "print(' График зависимости Пирсона - rooms от last_price')\n",
    "print()\n",
    "data.plot(x='rooms', y='last_price', kind='scatter', alpha=0.3);"
   ]
  },
  {
   "cell_type": "markdown",
   "metadata": {},
   "source": [
    "На графике видно, что примерно до 5-6 комантыных квартир цена пропорционально увеличивается относительно комнат, после в целом паадет. Думаю это возможно из-за того, что больше 6 комнта практически не продавались жилые квартиры, а больше были коммерчиские, стоимость которых ниже в средем на рынке. \n",
    "\n",
    "Также существует выко на 8 комнтах за огромные деньги - думаю это имогли быть люкс пентхаусы\n"
   ]
  },
  {
   "cell_type": "code",
   "execution_count": 30,
   "metadata": {},
   "outputs": [
    {
     "name": "stdout",
     "output_type": "stream",
     "text": [
      " График зависимости Пирсона - floor_type от last_price\n",
      "\n"
     ]
    },
    {
     "data": {
      "image/png": "[encoded data removed]",
      "text/plain": [
       "<Figure size 432x288 with 1 Axes>"
      ]
     },
     "metadata": {
      "needs_background": "light"
     },
     "output_type": "display_data"
    }
   ],
   "source": [
    "print(' График зависимости Пирсона - floor_type от last_price')\n",
    "print()\n",
    "data.plot(x='floor_type', y='last_price', kind='scatter', alpha=0.3);"
   ]
  },
  {
   "cell_type": "markdown",
   "metadata": {},
   "source": [
    "Как видно всреднем самые дешевые на 1м этаже, самые дорогие на последнем. В целом это объяснимо, потому что люди выбирают жить выше, с красивым видом и подальше от шума города, поэтому и цена выше."
   ]
  },
  {
   "cell_type": "markdown",
   "metadata": {},
   "source": [
    "<div class=\"alert alert-block alert-success\">✔️\n",
    "    \n",
    "\n",
    "__Комментарий от ревьюера №2__\n",
    "\n",
    "Верная интерпретация значений корреляции Пирсона. Ты молодец =)\n",
    "</div>"
   ]
  },
  {
   "cell_type": "code",
   "execution_count": 31,
   "metadata": {},
   "outputs": [
    {
     "name": "stdout",
     "output_type": "stream",
     "text": [
      " График зависимости Пирсона - dow от last_price\n",
      "\n"
     ]
    },
    {
     "data": {
      "image/png": "[encoded data removed]",
      "text/plain": [
       "<Figure size 432x288 with 1 Axes>"
      ]
     },
     "metadata": {
      "needs_background": "light"
     },
     "output_type": "display_data"
    }
   ],
   "source": [
    "print(' График зависимости Пирсона - dow от last_price')\n",
    "print()\n",
    "data.plot(x='dow', y='last_price', kind='scatter', alpha=0.3);"
   ]
  },
  {
   "cell_type": "markdown",
   "metadata": {},
   "source": [
    "Как видно из графика, то большинство сделок пропорционально распределны. Самые дорогие продажи были в субботу, что может быть из-за 2х причин, очень дорогую недвижимость людям удобнее выбирать и покупиать в выходной, или это был частный случай, который мог быть в люой другой день. "
   ]
  },
  {
   "cell_type": "code",
   "execution_count": 32,
   "metadata": {},
   "outputs": [
    {
     "name": "stdout",
     "output_type": "stream",
     "text": [
      " График зависимости Пирсона - month от last_price\n",
      "\n"
     ]
    },
    {
     "data": {
      "image/png": "[encoded data removed]",
      "text/plain": [
       "<Figure size 432x288 with 1 Axes>"
      ]
     },
     "metadata": {
      "needs_background": "light"
     },
     "output_type": "display_data"
    }
   ],
   "source": [
    "print(' График зависимости Пирсона - month от last_price')\n",
    "print()\n",
    "data.plot(x='month', y='last_price', kind='scatter', alpha=0.3);"
   ]
  },
  {
   "cell_type": "markdown",
   "metadata": {},
   "source": [
    "График месяца примерно такойже как и по дням, в среднем все +- идентично"
   ]
  },
  {
   "cell_type": "code",
   "execution_count": 33,
   "metadata": {},
   "outputs": [
    {
     "name": "stdout",
     "output_type": "stream",
     "text": [
      " График зависимости Пирсона - year от last_price\n",
      "\n"
     ]
    },
    {
     "data": {
      "image/png": "[encoded data removed]",
      "text/plain": [
       "<Figure size 432x288 with 1 Axes>"
      ]
     },
     "metadata": {
      "needs_background": "light"
     },
     "output_type": "display_data"
    }
   ],
   "source": [
    "print(' График зависимости Пирсона - year от last_price')\n",
    "print()\n",
    "data.plot(x='year', y='last_price', kind='scatter', alpha=0.3);"
   ]
  },
  {
   "cell_type": "markdown",
   "metadata": {},
   "source": [
    "Видно, что пик дорогой недвижимости был в 2017 году, возможжно это было приурочено к отркытию Лахта Центра, где было много дорогой площади"
   ]
  },
  {
   "cell_type": "markdown",
   "metadata": {},
   "source": [
    "<div class=\"alert alert-block alert-danger\">✍\n",
    "    \n",
    "\n",
    "__Комментарий от ревьюера №1__\n",
    "\n",
    "Давай каждый пункт шага рассмотрим отдельно и графики подкрепим корреляцией Пирсона. И так же сразу интерпретируем полученные результаты?\n",
    "</div>"
   ]
  },
  {
   "cell_type": "markdown",
   "metadata": {},
   "source": [
    "<div class=\"alert alert-block alert-success\">✔️\n",
    "    \n",
    "\n",
    "__Комментарий от ревьюера №2__\n",
    "\n",
    "Графики верны\n",
    "</div>"
   ]
  },
  {
   "cell_type": "code",
   "execution_count": 34,
   "metadata": {},
   "outputs": [
    {
     "name": "stdout",
     "output_type": "stream",
     "text": [
      "Средняя цена\n",
      "\n",
      "                 amount\n",
      "shrt_name              \n",
      "Санкт-Петербург   15721\n",
      "Мурино              590\n",
      "Кудрово             472\n",
      "Шушары              440\n",
      "Всеволожск          398\n",
      "Пушкин              369\n",
      "Колпино             338\n",
      "Парголово           327\n",
      "Гатчина             307\n",
      "Выборг              237\n"
     ]
    }
   ],
   "source": [
    "print('Средняя цена')\n",
    "print()\n",
    "\n",
    "data['amount'] =  1\n",
    "#data_city = data.groupby(['shrt_name']).sum()\n",
    "#data_city = data_city.sort_values(['amount'], ascending = False)\n",
    "#print(data_city['amount'].head(10))\n",
    "#cities = ['Санкт-Петербург', 'Мурино', 'Кудрово', 'Шушары', 'Всеволожск', 'Пушкин', 'Колпино', 'Парголово', 'Гатчина', 'Выборг']\n",
    "\n",
    "avg_price = data.pivot_table(index= 'shrt_name', values = 'amount', aggfunc='sum').sort_values('amount', ascending = False).head(10)\n",
    "\n",
    "print(avg_price)\n"
   ]
  },
  {
   "cell_type": "markdown",
   "metadata": {},
   "source": [
    "<div class=\"alert alert-block alert-warning\">📝\n",
    "    \n",
    "\n",
    "__Комментарий от ревьюера №2__\n",
    "\n",
    "Таблица верна. Совет: на общие продажи лучше смотреть через призму медианы. Она более устойчива к выбросам\n",
    "</div>"
   ]
  },
  {
   "cell_type": "code",
   "execution_count": 35,
   "metadata": {},
   "outputs": [
    {
     "name": "stdout",
     "output_type": "stream",
     "text": [
      "Питер\n",
      "\n",
      "      last_price\n",
      "km              \n",
      "0.0   31449116.0\n",
      "1.0   21206721.0\n",
      "2.0   17788320.0\n",
      "3.0   11126581.0\n",
      "4.0   13304280.0\n",
      "5.0   14499121.0\n",
      "6.0   15338418.0\n",
      "7.0   14775153.0\n",
      "8.0    9957717.0\n",
      "9.0    6950659.0\n",
      "10.0   6504119.0\n",
      "11.0   6250815.0\n",
      "12.0   5828545.0\n",
      "13.0   6083141.0\n",
      "14.0   5629101.0\n",
      "15.0   5884751.0\n",
      "16.0   5373131.0\n",
      "17.0   5292395.0\n",
      "18.0   5091331.0\n",
      "19.0   5037675.0\n",
      "20.0   5951465.0\n",
      "21.0   5493469.0\n",
      "22.0   5415524.0\n",
      "23.0   4985376.0\n",
      "24.0   3854430.0\n",
      "\n",
      " График зависимости Пирсона - km от last_price\n",
      "\n"
     ]
    },
    {
     "data": {
      "image/png": "[encoded data removed]",
      "text/plain": [
       "<Figure size 432x288 with 1 Axes>"
      ]
     },
     "metadata": {
      "needs_background": "light"
     },
     "output_type": "display_data"
    }
   ],
   "source": [
    "print('Питер')\n",
    "print()\n",
    "data_piter = data[data['shrt_name'] == 'Санкт-Петербург']\n",
    "avg_km = data_piter.pivot_table(index= 'km', values = 'last_price', aggfunc='mean').sort_values('km', ascending = True).head(25).round()\n",
    "print(avg_km)\n",
    "print()\n",
    "print(' График зависимости Пирсона - km от last_price')\n",
    "print()\n",
    "data_piter.plot(x='km', y='last_price', kind='scatter', alpha=0.3);\n",
    "\n"
   ]
  },
  {
   "cell_type": "markdown",
   "metadata": {},
   "source": [
    "Как видно из графика - чем дальше от центра тем ниже стоимость. Наиболее высокая цена до 8 км от центра\n"
   ]
  },
  {
   "cell_type": "markdown",
   "metadata": {},
   "source": [
    "Вывод про проекту\n",
    "\n",
    "В данном проекте были обработаны данные по основным харрактеристикам недвижимости.\n",
    "Основные выводы согласно данным\n",
    "Самая дорогая недвижимость в Санкт-Петербурге\n",
    "Наибольшее количество объявлений в Санкт-Петербурге\n",
    "Чем ближе к центру тем в среднем дороже стоит недвижимость\n"
   ]
  },
  {
   "cell_type": "markdown",
   "metadata": {},
   "source": [
    "<div class=\"alert alert-block alert-danger\">✍\n",
    "    \n",
    "\n",
    "__Комментарий от ревьюера №1__\n",
    "\n",
    "Для этих райнов нужно найти среднюю цену. Но лучше не хардкодить, а использовать группировку\n",
    "</div>"
   ]
  },
  {
   "cell_type": "markdown",
   "metadata": {},
   "source": []
  },
  {
   "cell_type": "markdown",
   "metadata": {},
   "source": [
    "<div class=\"alert alert-block alert-success\">✔️\n",
    "    \n",
    "\n",
    "__Комментарий от ревьюера №1__\n",
    "\n",
    "Хорошо\n",
    "</div>"
   ]
  },
  {
   "cell_type": "markdown",
   "metadata": {},
   "source": [
    "**Чек-лист готовности проекта**\n",
    "\n",
    "Поставьте 'x' в выполненных пунктах. Далее нажмите Shift+Enter."
   ]
  },
  {
   "cell_type": "markdown",
   "metadata": {},
   "source": [
    "<div class=\"alert alert-block alert-warning\">📝\n",
    "Комментарий от ревьюера №1 </b> \n",
    "\n",
    "\n",
    "\n",
    "У тебя получилась очень сильная и хорошая работа. Здорово, что расчеты ты сопровождаешь иллюстрациями, а так же не забываешь про комментарии, твой проект интересно проверять. \n",
    "\n",
    "---\n",
    "\n",
    "Нужно поправить:\n",
    "\n",
    "1) Оформление проекта\n",
    "\n",
    "2) Проверка на дубликаты\n",
    "\n",
    "3) Отсутствуют шаг задания (тип этажа)\n",
    "\n",
    "4) Уменьшить range, чтобы рассмотреть пики\n",
    "\n",
    "5) Сколько занимает быстрая продажа, а сколько долгая?\n",
    "\n",
    "6 Построить графики scatter раздельно и подкрепить корреляцией\n",
    "\n",
    "7) ТОП-10\n",
    "\n",
    "8) Нет решения по последнему шагу и финальный вывод\n",
    "\n",
    "9) После каждого графика (или серии тестов) писать вывод по полученным данным с учетом поставленной бизнес задачи\n",
    "\n",
    "10) Подправить выводы, после изменений\n",
    "\n",
    "----\n",
    "\n",
    "\n",
    "Если у тебя будут какие-то вопросы по моим комментариям - обязательно пиши! Буду ждать работу на повторное ревью :)</div>"
   ]
  },
  {
   "cell_type": "markdown",
   "metadata": {},
   "source": [
    "<div style=\"border:solid blue 3px; padding: 20px\">\n",
    "<div class=\"alert alert-block alert-success\">✔️\n",
    "    \n",
    "\n",
    "__Коментарий от ревьюера №2__\n",
    "\n",
    "\n",
    "В остальном всё чудно😊. Твой проект так и просится на github =)   \n",
    "    \n",
    "Поздравляю с успешным завершением проекта 😊👍\n",
    "И желаю успехов в новых работах 😊\n",
    "    \n",
    "---\n",
    "    \n",
    "От себя хочу порекомендовать тебе отличную книгу про язык Python. Она очень классная (можно купить как новую, так и на Авито попадается. Вот ссылка на pdf этой книги)\n",
    "    \n",
    "https://monster-book.com/avtomatizaciya-zadach-s-python\n",
    "</div>"
   ]
  },
  {
   "cell_type": "code",
   "execution_count": null,
   "metadata": {},
   "outputs": [],
   "source": []
  },
  {
   "cell_type": "code",
   "execution_count": null,
   "metadata": {},
   "outputs": [],
   "source": []
  },
  {
   "cell_type": "markdown",
   "metadata": {},
   "source": [
    "- [x]  открыт файл\n",
    "- [х]  файлы изучены (выведены первые строки, метод `info()`, гистограммы и т.д.)\n",
    "- [х]  определены пропущенные значения\n",
    "- [х]  заполнены пропущенные значения там, где это возможно\n",
    "- [х]  есть пояснение, какие пропущенные значения обнаружены\n",
    "- [х]  изменены типы данных\n",
    "- [х]  есть пояснение, в каких столбцах изменены типы и почему\n",
    "- [х]  устранены неявные дубликаты в названиях населённых пунктов\n",
    "- [х]  устранены редкие и выбивающиеся значения (аномалии) во всех столбцах\n",
    "- [х]  посчитано и добавлено в таблицу: цена одного квадратного метра\n",
    "- [х]  посчитано и добавлено в таблицу: день публикации объявления (0 - понедельник, 1 - вторник и т.д.)\n",
    "- [х]  посчитано и добавлено в таблицу: месяц публикации объявления\n",
    "- [х]  посчитано и добавлено в таблицу: год публикации объявления\n",
    "- [х]  посчитано и добавлено в таблицу: тип этажа квартиры (значения — «первый», «последний», «другой»)\n",
    "- [х]  посчитано и добавлено в таблицу: расстояние в км до центра города\n",
    "- [х]  изучены и описаны следующие параметры:\n",
    "        - общая площадь;\n",
    "        - жилая площадь;\n",
    "        - площадь кухни;\n",
    "        - цена объекта;\n",
    "        - количество комнат;\n",
    "        - высота потолков;\n",
    "        - этаж квартиры;\n",
    "        - тип этажа квартиры («первый», «последний», «другой»);\n",
    "        - общее количество этажей в доме;\n",
    "        - расстояние до центра города в метрах;\n",
    "        - расстояние до ближайшего аэропорта;\n",
    "        - расстояние до ближайшего парка;\n",
    "        - день и месяц публикации объявления\n",
    "- [х]  построены гистограммы для каждого параметра\n",
    "- [х]  выполнено задание: \"Изучите, как быстро продавались квартиры (столбец days_exposition). Этот параметр показывает, сколько дней «висело» каждое объявление.\n",
    "    - Постройте гистограмму.\n",
    "    - Посчитайте среднее и медиану.\n",
    "    - В ячейке типа markdown опишите, сколько обычно занимает продажа. Какие продажи можно считать быстрыми, а какие — необычно долгими?\"\n",
    "- [х]  выполнено задание: \"Какие факторы больше всего влияют на общую (полную) стоимость объекта? Постройте графики, которые покажут зависимость цены от указанных ниже параметров. Для подготовки данных перед визуализацией вы можете использовать сводные таблицы.\"\n",
    "        - общей площади;\n",
    "        - жилой площади;\n",
    "        - площади кухни;\n",
    "        - количество комнат;\n",
    "        - типа этажа, на котором расположена квартира (первый, последний, другой);\n",
    "        - даты размещения (день недели, месяц, год);\n",
    "- [х]  выполнено задание: \"Посчитайте среднюю цену одного квадратного метра в 10 населённых пунктах с наибольшим числом объявлений. Выделите населённые пункты с самой высокой и низкой стоимостью квадратного метра. Эти данные можно найти по имени в столбце `locality_name`.\"\n",
    "- [х]  выполнено задание: \"Ранее вы посчитали расстояние до центра в километрах. Теперь выделите квартиры в Санкт-Петербурге с помощью столбца `locality_name` и вычислите среднюю цену каждого километра. Опишите, как стоимость объектов зависит от расстояния до центра города.\"\n",
    "- [х]  в каждом этапе есть промежуточные выводы\n",
    "- [х]  есть общий вывод"
   ]
  },
  {
   "cell_type": "code",
   "execution_count": null,
   "metadata": {},
   "outputs": [],
   "source": []
  }
 ],
 "metadata": {
  "ExecuteTimeLog": [
   {
    "duration": 53,
    "start_time": "2022-09-20T13:19:39.480Z"
   },
   {
    "duration": 6,
    "start_time": "2022-09-20T13:19:48.315Z"
   },
   {
    "duration": 683,
    "start_time": "2022-09-20T13:20:05.086Z"
   },
   {
    "duration": 93,
    "start_time": "2022-09-20T13:20:23.699Z"
   },
   {
    "duration": 87,
    "start_time": "2022-09-20T13:21:13.915Z"
   },
   {
    "duration": 119,
    "start_time": "2022-09-20T13:21:22.915Z"
   },
   {
    "duration": 166,
    "start_time": "2022-09-20T13:21:33.077Z"
   },
   {
    "duration": 89,
    "start_time": "2022-09-20T13:21:38.489Z"
   },
   {
    "duration": 149,
    "start_time": "2022-09-20T13:22:38.136Z"
   },
   {
    "duration": 502,
    "start_time": "2022-09-20T13:23:48.078Z"
   },
   {
    "duration": 494,
    "start_time": "2022-09-20T13:23:54.177Z"
   },
   {
    "duration": 89,
    "start_time": "2022-09-20T13:23:59.779Z"
   },
   {
    "duration": 99,
    "start_time": "2022-09-20T13:24:23.451Z"
   },
   {
    "duration": 159,
    "start_time": "2022-09-20T13:24:55.691Z"
   },
   {
    "duration": 109,
    "start_time": "2022-09-20T13:25:09.955Z"
   },
   {
    "duration": 2412,
    "start_time": "2022-09-20T13:29:24.493Z"
   },
   {
    "duration": 15,
    "start_time": "2022-09-20T13:31:15.975Z"
   },
   {
    "duration": 10,
    "start_time": "2022-09-20T13:31:28.539Z"
   },
   {
    "duration": 12,
    "start_time": "2022-09-20T13:31:46.541Z"
   },
   {
    "duration": 53,
    "start_time": "2022-09-20T13:36:52.528Z"
   },
   {
    "duration": 15,
    "start_time": "2022-09-20T13:37:02.998Z"
   },
   {
    "duration": 9,
    "start_time": "2022-09-20T13:37:20.978Z"
   },
   {
    "duration": 23,
    "start_time": "2022-09-20T13:39:01.919Z"
   },
   {
    "duration": 22,
    "start_time": "2022-09-20T13:39:51.862Z"
   },
   {
    "duration": 284,
    "start_time": "2022-09-20T13:40:32.021Z"
   },
   {
    "duration": 13,
    "start_time": "2022-09-20T13:40:40.445Z"
   },
   {
    "duration": 19,
    "start_time": "2022-09-20T13:41:45.701Z"
   },
   {
    "duration": 17,
    "start_time": "2022-09-20T13:42:05.795Z"
   },
   {
    "duration": 19,
    "start_time": "2022-09-20T13:43:40.342Z"
   },
   {
    "duration": 21,
    "start_time": "2022-09-20T13:43:52.838Z"
   },
   {
    "duration": 24,
    "start_time": "2022-09-20T13:44:19.710Z"
   },
   {
    "duration": 2017,
    "start_time": "2022-09-20T13:44:24.484Z"
   },
   {
    "duration": 18,
    "start_time": "2022-09-20T13:44:26.614Z"
   },
   {
    "duration": 2021,
    "start_time": "2022-09-20T13:44:36.646Z"
   },
   {
    "duration": 24,
    "start_time": "2022-09-20T13:44:42.128Z"
   },
   {
    "duration": 36,
    "start_time": "2022-09-20T13:46:58.863Z"
   },
   {
    "duration": 24,
    "start_time": "2022-09-20T13:47:54.583Z"
   },
   {
    "duration": 1935,
    "start_time": "2022-09-20T13:48:11.047Z"
   },
   {
    "duration": 24,
    "start_time": "2022-09-20T13:48:20.911Z"
   },
   {
    "duration": 2136,
    "start_time": "2022-09-20T13:49:17.095Z"
   },
   {
    "duration": 20,
    "start_time": "2022-09-20T13:49:21.758Z"
   },
   {
    "duration": 51,
    "start_time": "2022-09-20T13:52:06.792Z"
   },
   {
    "duration": 52,
    "start_time": "2022-09-20T13:53:07.817Z"
   },
   {
    "duration": 47,
    "start_time": "2022-09-20T13:55:25.436Z"
   },
   {
    "duration": 2133,
    "start_time": "2022-09-20T13:56:23.256Z"
   },
   {
    "duration": 59,
    "start_time": "2022-09-20T13:56:30.587Z"
   },
   {
    "duration": 2102,
    "start_time": "2022-09-20T14:00:58.778Z"
   },
   {
    "duration": 73,
    "start_time": "2022-09-20T14:01:07.082Z"
   },
   {
    "duration": 69,
    "start_time": "2022-09-20T15:19:01.571Z"
   },
   {
    "duration": 88,
    "start_time": "2022-09-20T15:20:21.994Z"
   },
   {
    "duration": 157,
    "start_time": "2022-09-20T15:26:34.729Z"
   },
   {
    "duration": 78,
    "start_time": "2022-09-20T15:28:18.308Z"
   },
   {
    "duration": 83,
    "start_time": "2022-09-20T15:28:43.764Z"
   },
   {
    "duration": 85,
    "start_time": "2022-09-20T15:29:30.900Z"
   },
   {
    "duration": 89,
    "start_time": "2022-09-20T15:31:04.396Z"
   },
   {
    "duration": 2290,
    "start_time": "2022-09-20T15:31:20.284Z"
   },
   {
    "duration": 96,
    "start_time": "2022-09-20T15:32:29.140Z"
   },
   {
    "duration": 95,
    "start_time": "2022-09-20T15:35:26.762Z"
   },
   {
    "duration": 1961,
    "start_time": "2022-09-20T15:35:50.436Z"
   },
   {
    "duration": 107,
    "start_time": "2022-09-20T15:35:55.061Z"
   },
   {
    "duration": 92,
    "start_time": "2022-09-20T15:42:20.513Z"
   },
   {
    "duration": 88,
    "start_time": "2022-09-21T06:31:00.276Z"
   },
   {
    "duration": 93,
    "start_time": "2022-09-21T06:48:45.022Z"
   },
   {
    "duration": 94,
    "start_time": "2022-09-21T06:52:07.339Z"
   },
   {
    "duration": 98,
    "start_time": "2022-09-21T06:52:56.114Z"
   },
   {
    "duration": 97,
    "start_time": "2022-09-21T06:53:12.350Z"
   },
   {
    "duration": 96,
    "start_time": "2022-09-21T06:53:47.302Z"
   },
   {
    "duration": 93,
    "start_time": "2022-09-21T06:56:42.472Z"
   },
   {
    "duration": 93,
    "start_time": "2022-09-21T06:57:09.369Z"
   },
   {
    "duration": 94,
    "start_time": "2022-09-21T06:57:27.600Z"
   },
   {
    "duration": 95,
    "start_time": "2022-09-21T06:57:50.673Z"
   },
   {
    "duration": 160,
    "start_time": "2022-09-21T06:58:55.151Z"
   },
   {
    "duration": 170,
    "start_time": "2022-09-21T07:00:01.008Z"
   },
   {
    "duration": 1812,
    "start_time": "2022-09-21T07:00:41.937Z"
   },
   {
    "duration": 172,
    "start_time": "2022-09-21T07:00:45.273Z"
   },
   {
    "duration": 1900,
    "start_time": "2022-09-21T07:08:13.321Z"
   },
   {
    "duration": 235,
    "start_time": "2022-09-21T07:08:16.120Z"
   },
   {
    "duration": 228,
    "start_time": "2022-09-21T07:08:26.857Z"
   },
   {
    "duration": 1924,
    "start_time": "2022-09-21T07:08:54.289Z"
   },
   {
    "duration": 228,
    "start_time": "2022-09-21T07:08:59.170Z"
   },
   {
    "duration": 221,
    "start_time": "2022-09-21T07:10:57.851Z"
   },
   {
    "duration": 237,
    "start_time": "2022-09-21T07:15:41.490Z"
   },
   {
    "duration": 230,
    "start_time": "2022-09-21T07:16:15.348Z"
   },
   {
    "duration": 237,
    "start_time": "2022-09-21T07:20:32.171Z"
   },
   {
    "duration": 239,
    "start_time": "2022-09-21T07:20:44.931Z"
   },
   {
    "duration": 256,
    "start_time": "2022-09-21T07:20:58.612Z"
   },
   {
    "duration": 243,
    "start_time": "2022-09-21T07:21:20.580Z"
   },
   {
    "duration": 234,
    "start_time": "2022-09-21T07:22:24.589Z"
   },
   {
    "duration": 1737,
    "start_time": "2022-09-21T07:22:31.978Z"
   },
   {
    "duration": 433,
    "start_time": "2022-09-21T07:22:35.699Z"
   },
   {
    "duration": 232,
    "start_time": "2022-09-21T07:23:39.141Z"
   },
   {
    "duration": 230,
    "start_time": "2022-09-21T07:24:06.651Z"
   },
   {
    "duration": 236,
    "start_time": "2022-09-21T07:24:53.060Z"
   },
   {
    "duration": 236,
    "start_time": "2022-09-21T07:25:51.343Z"
   },
   {
    "duration": 247,
    "start_time": "2022-09-21T07:26:01.541Z"
   },
   {
    "duration": 245,
    "start_time": "2022-09-21T07:26:13.878Z"
   },
   {
    "duration": 235,
    "start_time": "2022-09-21T07:26:56.556Z"
   },
   {
    "duration": 245,
    "start_time": "2022-09-21T07:28:05.414Z"
   },
   {
    "duration": 238,
    "start_time": "2022-09-21T07:28:15.053Z"
   },
   {
    "duration": 77,
    "start_time": "2022-09-21T07:28:45.700Z"
   },
   {
    "duration": 280,
    "start_time": "2022-09-21T07:28:51.742Z"
   },
   {
    "duration": 238,
    "start_time": "2022-09-21T07:38:27.591Z"
   },
   {
    "duration": 232,
    "start_time": "2022-09-21T07:39:49.560Z"
   },
   {
    "duration": 245,
    "start_time": "2022-09-21T07:39:57.592Z"
   },
   {
    "duration": 248,
    "start_time": "2022-09-21T07:41:33.112Z"
   },
   {
    "duration": 242,
    "start_time": "2022-09-21T07:44:19.839Z"
   },
   {
    "duration": 244,
    "start_time": "2022-09-21T07:44:32.088Z"
   },
   {
    "duration": 244,
    "start_time": "2022-09-21T07:45:00.712Z"
   },
   {
    "duration": 1731,
    "start_time": "2022-09-21T07:45:11.637Z"
   },
   {
    "duration": 252,
    "start_time": "2022-09-21T07:45:15.663Z"
   },
   {
    "duration": 2015,
    "start_time": "2022-09-21T07:48:02.031Z"
   },
   {
    "duration": 74,
    "start_time": "2022-09-21T07:48:05.991Z"
   },
   {
    "duration": 1698,
    "start_time": "2022-09-21T07:48:19.464Z"
   },
   {
    "duration": 70,
    "start_time": "2022-09-21T07:48:24.711Z"
   },
   {
    "duration": 1993,
    "start_time": "2022-09-21T07:48:32.886Z"
   },
   {
    "duration": 234,
    "start_time": "2022-09-21T07:48:36.146Z"
   },
   {
    "duration": 258,
    "start_time": "2022-09-21T07:55:12.122Z"
   },
   {
    "duration": 1736,
    "start_time": "2022-09-21T07:55:45.537Z"
   },
   {
    "duration": 237,
    "start_time": "2022-09-21T07:55:53.329Z"
   },
   {
    "duration": 246,
    "start_time": "2022-09-21T07:56:21.041Z"
   },
   {
    "duration": 251,
    "start_time": "2022-09-21T07:58:51.672Z"
   },
   {
    "duration": 243,
    "start_time": "2022-09-21T07:59:12.842Z"
   },
   {
    "duration": 247,
    "start_time": "2022-09-21T07:59:19.960Z"
   },
   {
    "duration": 268,
    "start_time": "2022-09-21T08:02:00.147Z"
   },
   {
    "duration": 59,
    "start_time": "2022-09-21T08:08:01.131Z"
   },
   {
    "duration": 133,
    "start_time": "2022-09-21T08:08:34.011Z"
   },
   {
    "duration": 72,
    "start_time": "2022-09-21T08:08:50.022Z"
   },
   {
    "duration": 260,
    "start_time": "2022-09-21T08:08:56.940Z"
   },
   {
    "duration": 269,
    "start_time": "2022-09-21T08:11:40.868Z"
   },
   {
    "duration": 269,
    "start_time": "2022-09-21T08:14:30.085Z"
   },
   {
    "duration": 265,
    "start_time": "2022-09-21T08:15:23.300Z"
   },
   {
    "duration": 267,
    "start_time": "2022-09-21T08:15:33.900Z"
   },
   {
    "duration": 274,
    "start_time": "2022-09-21T08:15:54.125Z"
   },
   {
    "duration": 273,
    "start_time": "2022-09-21T08:16:24.117Z"
   },
   {
    "duration": 262,
    "start_time": "2022-09-21T08:18:13.941Z"
   },
   {
    "duration": 277,
    "start_time": "2022-09-21T08:23:07.477Z"
   },
   {
    "duration": 258,
    "start_time": "2022-09-21T08:23:15.336Z"
   },
   {
    "duration": 263,
    "start_time": "2022-09-21T08:27:27.902Z"
   },
   {
    "duration": 1579,
    "start_time": "2022-09-21T08:27:48.374Z"
   },
   {
    "duration": 271,
    "start_time": "2022-09-21T08:27:59.903Z"
   },
   {
    "duration": 269,
    "start_time": "2022-09-21T08:28:15.239Z"
   },
   {
    "duration": 78,
    "start_time": "2022-09-21T08:28:22.024Z"
   },
   {
    "duration": 515,
    "start_time": "2022-09-21T08:28:27.315Z"
   },
   {
    "duration": 428,
    "start_time": "2022-09-21T08:28:37.596Z"
   },
   {
    "duration": 265,
    "start_time": "2022-09-21T08:30:11.576Z"
   },
   {
    "duration": 271,
    "start_time": "2022-09-21T08:31:30.552Z"
   },
   {
    "duration": 452,
    "start_time": "2022-09-21T08:31:53.744Z"
   },
   {
    "duration": 465,
    "start_time": "2022-09-21T08:34:32.823Z"
   },
   {
    "duration": 466,
    "start_time": "2022-09-21T08:35:06.399Z"
   },
   {
    "duration": 759,
    "start_time": "2022-09-21T08:35:47.652Z"
   },
   {
    "duration": 76,
    "start_time": "2022-09-21T08:36:49.760Z"
   },
   {
    "duration": 454,
    "start_time": "2022-09-21T08:37:31.896Z"
   },
   {
    "duration": 1744,
    "start_time": "2022-09-21T08:38:39.048Z"
   },
   {
    "duration": 240,
    "start_time": "2022-09-21T08:38:43.826Z"
   },
   {
    "duration": 222,
    "start_time": "2022-09-21T08:38:47.048Z"
   },
   {
    "duration": 2360,
    "start_time": "2022-09-21T08:41:17.911Z"
   },
   {
    "duration": 2611,
    "start_time": "2022-09-21T08:52:34.842Z"
   },
   {
    "duration": 1815,
    "start_time": "2022-09-21T08:52:40.489Z"
   },
   {
    "duration": 255,
    "start_time": "2022-09-21T08:52:42.305Z"
   },
   {
    "duration": 59,
    "start_time": "2022-09-21T08:52:42.562Z"
   },
   {
    "duration": 0,
    "start_time": "2022-09-21T08:52:42.622Z"
   },
   {
    "duration": 0,
    "start_time": "2022-09-21T08:52:42.623Z"
   },
   {
    "duration": 237,
    "start_time": "2022-09-21T08:52:51.964Z"
   },
   {
    "duration": 129,
    "start_time": "2022-09-21T08:52:54.600Z"
   },
   {
    "duration": 166,
    "start_time": "2022-09-21T08:53:15.249Z"
   },
   {
    "duration": 50,
    "start_time": "2022-09-21T08:54:23.593Z"
   },
   {
    "duration": 67,
    "start_time": "2022-09-21T08:54:30.729Z"
   },
   {
    "duration": 272,
    "start_time": "2022-09-21T08:54:38.737Z"
   },
   {
    "duration": 171,
    "start_time": "2022-09-21T08:55:40.084Z"
   },
   {
    "duration": 383,
    "start_time": "2022-09-21T09:00:07.258Z"
   },
   {
    "duration": 189,
    "start_time": "2022-09-21T09:02:12.147Z"
   },
   {
    "duration": 199,
    "start_time": "2022-09-21T09:02:58.123Z"
   },
   {
    "duration": 196,
    "start_time": "2022-09-21T09:03:25.012Z"
   },
   {
    "duration": 320,
    "start_time": "2022-09-21T09:03:48.651Z"
   },
   {
    "duration": 1724,
    "start_time": "2022-09-21T09:04:12.772Z"
   },
   {
    "duration": 234,
    "start_time": "2022-09-21T09:04:15.291Z"
   },
   {
    "duration": 366,
    "start_time": "2022-09-21T09:04:33.724Z"
   },
   {
    "duration": 370,
    "start_time": "2022-09-21T09:04:36.802Z"
   },
   {
    "duration": 550,
    "start_time": "2022-09-21T09:09:19.534Z"
   },
   {
    "duration": 685,
    "start_time": "2022-09-21T09:09:43.404Z"
   },
   {
    "duration": 561,
    "start_time": "2022-09-21T09:10:51.349Z"
   },
   {
    "duration": 780,
    "start_time": "2022-09-21T09:18:32.390Z"
   },
   {
    "duration": 928,
    "start_time": "2022-09-21T09:19:23.877Z"
   },
   {
    "duration": 761,
    "start_time": "2022-09-21T09:19:41.669Z"
   },
   {
    "duration": 745,
    "start_time": "2022-09-21T09:20:50.157Z"
   },
   {
    "duration": 836,
    "start_time": "2022-09-21T09:21:12.357Z"
   },
   {
    "duration": 657,
    "start_time": "2022-09-21T09:21:21.270Z"
   },
   {
    "duration": 664,
    "start_time": "2022-09-21T09:23:34.862Z"
   },
   {
    "duration": 837,
    "start_time": "2022-09-21T09:23:44.510Z"
   },
   {
    "duration": 672,
    "start_time": "2022-09-21T09:23:54.430Z"
   },
   {
    "duration": 693,
    "start_time": "2022-09-21T09:24:41.144Z"
   },
   {
    "duration": 893,
    "start_time": "2022-09-21T09:24:48.281Z"
   },
   {
    "duration": 696,
    "start_time": "2022-09-21T09:26:02.607Z"
   },
   {
    "duration": 729,
    "start_time": "2022-09-21T09:26:25.640Z"
   },
   {
    "duration": 565,
    "start_time": "2022-09-21T09:26:40.527Z"
   },
   {
    "duration": 1889,
    "start_time": "2022-09-21T09:26:49.447Z"
   },
   {
    "duration": 253,
    "start_time": "2022-09-21T09:26:51.339Z"
   },
   {
    "duration": 61,
    "start_time": "2022-09-21T09:26:51.594Z"
   },
   {
    "duration": 0,
    "start_time": "2022-09-21T09:26:51.656Z"
   },
   {
    "duration": 0,
    "start_time": "2022-09-21T09:26:51.657Z"
   },
   {
    "duration": 1749,
    "start_time": "2022-09-21T09:26:56.247Z"
   },
   {
    "duration": 247,
    "start_time": "2022-09-21T09:27:01.633Z"
   },
   {
    "duration": 230,
    "start_time": "2022-09-21T09:27:05.280Z"
   },
   {
    "duration": 728,
    "start_time": "2022-09-21T09:27:07.919Z"
   },
   {
    "duration": 577,
    "start_time": "2022-09-21T09:27:38.448Z"
   },
   {
    "duration": 569,
    "start_time": "2022-09-21T09:28:07.951Z"
   },
   {
    "duration": 563,
    "start_time": "2022-09-21T09:28:28.255Z"
   },
   {
    "duration": 853,
    "start_time": "2022-09-21T09:28:34.139Z"
   },
   {
    "duration": 1732,
    "start_time": "2022-09-21T09:28:44.767Z"
   },
   {
    "duration": 233,
    "start_time": "2022-09-21T09:28:49.239Z"
   },
   {
    "duration": 230,
    "start_time": "2022-09-21T09:28:51.967Z"
   },
   {
    "duration": 798,
    "start_time": "2022-09-21T09:28:54.527Z"
   },
   {
    "duration": 776,
    "start_time": "2022-09-21T09:29:27.128Z"
   },
   {
    "duration": 680,
    "start_time": "2022-09-21T09:29:41.375Z"
   },
   {
    "duration": 706,
    "start_time": "2022-09-21T09:29:52.024Z"
   },
   {
    "duration": 2075,
    "start_time": "2022-09-21T09:30:02.271Z"
   },
   {
    "duration": 241,
    "start_time": "2022-09-21T09:30:05.376Z"
   },
   {
    "duration": 231,
    "start_time": "2022-09-21T09:30:07.599Z"
   },
   {
    "duration": 707,
    "start_time": "2022-09-21T09:30:10.367Z"
   },
   {
    "duration": 998,
    "start_time": "2022-09-21T09:30:20.095Z"
   },
   {
    "duration": 736,
    "start_time": "2022-09-21T09:31:08.050Z"
   },
   {
    "duration": 1754,
    "start_time": "2022-09-21T09:31:49.127Z"
   },
   {
    "duration": 252,
    "start_time": "2022-09-21T09:31:52.008Z"
   },
   {
    "duration": 233,
    "start_time": "2022-09-21T09:31:54.600Z"
   },
   {
    "duration": 1071,
    "start_time": "2022-09-21T09:31:56.758Z"
   },
   {
    "duration": 736,
    "start_time": "2022-09-21T09:32:13.440Z"
   },
   {
    "duration": 1754,
    "start_time": "2022-09-21T09:33:44.807Z"
   },
   {
    "duration": 239,
    "start_time": "2022-09-21T09:33:47.928Z"
   },
   {
    "duration": 248,
    "start_time": "2022-09-21T09:33:51.320Z"
   },
   {
    "duration": 580,
    "start_time": "2022-09-21T09:33:53.833Z"
   },
   {
    "duration": 898,
    "start_time": "2022-09-21T09:35:11.933Z"
   },
   {
    "duration": 594,
    "start_time": "2022-09-21T09:36:09.145Z"
   },
   {
    "duration": 579,
    "start_time": "2022-09-21T09:36:50.136Z"
   },
   {
    "duration": 566,
    "start_time": "2022-09-21T09:37:22.904Z"
   },
   {
    "duration": 573,
    "start_time": "2022-09-21T09:37:31.626Z"
   },
   {
    "duration": 594,
    "start_time": "2022-09-21T09:37:57.169Z"
   },
   {
    "duration": 981,
    "start_time": "2022-09-21T09:38:35.065Z"
   },
   {
    "duration": 711,
    "start_time": "2022-09-21T09:39:15.913Z"
   },
   {
    "duration": 713,
    "start_time": "2022-09-21T09:39:38.728Z"
   },
   {
    "duration": 683,
    "start_time": "2022-09-21T09:40:24.689Z"
   },
   {
    "duration": 822,
    "start_time": "2022-09-21T09:41:19.887Z"
   },
   {
    "duration": 1394,
    "start_time": "2022-09-21T09:43:45.315Z"
   },
   {
    "duration": 1019,
    "start_time": "2022-09-21T09:46:05.987Z"
   },
   {
    "duration": 996,
    "start_time": "2022-09-21T09:46:33.835Z"
   },
   {
    "duration": 8796,
    "start_time": "2022-09-21T09:47:01.052Z"
   },
   {
    "duration": 1905,
    "start_time": "2022-09-21T09:47:45.131Z"
   },
   {
    "duration": 217,
    "start_time": "2022-09-21T09:48:26.730Z"
   },
   {
    "duration": 990,
    "start_time": "2022-09-21T09:48:31.780Z"
   },
   {
    "duration": 976,
    "start_time": "2022-09-21T09:48:42.387Z"
   },
   {
    "duration": 944,
    "start_time": "2022-09-21T09:48:53.283Z"
   },
   {
    "duration": 975,
    "start_time": "2022-09-21T09:48:55.684Z"
   },
   {
    "duration": 1397,
    "start_time": "2022-09-21T09:49:09.389Z"
   },
   {
    "duration": 997,
    "start_time": "2022-09-21T09:49:18.379Z"
   },
   {
    "duration": 991,
    "start_time": "2022-09-21T09:49:30.883Z"
   },
   {
    "duration": 998,
    "start_time": "2022-09-21T09:49:55.411Z"
   },
   {
    "duration": 1446,
    "start_time": "2022-09-21T09:50:03.619Z"
   },
   {
    "duration": 1136,
    "start_time": "2022-09-21T09:52:38.390Z"
   },
   {
    "duration": 1254,
    "start_time": "2022-09-21T09:54:29.626Z"
   },
   {
    "duration": 1330,
    "start_time": "2022-09-21T09:57:13.137Z"
   },
   {
    "duration": 1890,
    "start_time": "2022-09-21T09:59:26.509Z"
   },
   {
    "duration": 1628,
    "start_time": "2022-09-21T10:00:59.285Z"
   },
   {
    "duration": 1952,
    "start_time": "2022-09-21T10:01:10.685Z"
   },
   {
    "duration": 1750,
    "start_time": "2022-09-21T10:02:37.733Z"
   },
   {
    "duration": 1697,
    "start_time": "2022-09-21T10:02:44.678Z"
   },
   {
    "duration": 130,
    "start_time": "2022-09-21T10:05:21.669Z"
   },
   {
    "duration": 9,
    "start_time": "2022-09-21T10:11:22.562Z"
   },
   {
    "duration": 14,
    "start_time": "2022-09-21T10:11:33.838Z"
   },
   {
    "duration": 4633,
    "start_time": "2022-09-21T10:12:30.382Z"
   },
   {
    "duration": 9,
    "start_time": "2022-09-21T10:15:07.191Z"
   },
   {
    "duration": 10,
    "start_time": "2022-09-21T10:15:14.366Z"
   },
   {
    "duration": 5,
    "start_time": "2022-09-21T10:15:23.567Z"
   },
   {
    "duration": 4,
    "start_time": "2022-09-21T10:15:30.151Z"
   },
   {
    "duration": 15,
    "start_time": "2022-09-21T10:17:10.454Z"
   },
   {
    "duration": 8,
    "start_time": "2022-09-21T10:17:49.655Z"
   },
   {
    "duration": 3,
    "start_time": "2022-09-21T10:18:09.751Z"
   },
   {
    "duration": 4,
    "start_time": "2022-09-21T10:18:21.255Z"
   },
   {
    "duration": 3,
    "start_time": "2022-09-21T10:19:20.360Z"
   },
   {
    "duration": 19,
    "start_time": "2022-09-21T10:19:32.442Z"
   },
   {
    "duration": 9,
    "start_time": "2022-09-21T10:19:45.943Z"
   },
   {
    "duration": 18,
    "start_time": "2022-09-21T10:19:52.064Z"
   },
   {
    "duration": 2273,
    "start_time": "2022-09-21T10:20:09.590Z"
   },
   {
    "duration": 20,
    "start_time": "2022-09-21T10:20:15.360Z"
   },
   {
    "duration": 24,
    "start_time": "2022-09-21T10:21:22.209Z"
   },
   {
    "duration": 891,
    "start_time": "2022-09-21T10:22:56.176Z"
   },
   {
    "duration": 25,
    "start_time": "2022-09-21T10:23:06.027Z"
   },
   {
    "duration": 17,
    "start_time": "2022-09-21T10:23:58.737Z"
   },
   {
    "duration": 20,
    "start_time": "2022-09-21T10:24:17.672Z"
   },
   {
    "duration": 17,
    "start_time": "2022-09-21T10:24:30.448Z"
   },
   {
    "duration": 17,
    "start_time": "2022-09-21T10:24:35.336Z"
   },
   {
    "duration": 20,
    "start_time": "2022-09-21T10:25:02.131Z"
   },
   {
    "duration": 20,
    "start_time": "2022-09-21T10:25:08.113Z"
   },
   {
    "duration": 13,
    "start_time": "2022-09-21T10:26:15.570Z"
   },
   {
    "duration": 22,
    "start_time": "2022-09-21T10:28:31.602Z"
   },
   {
    "duration": 14,
    "start_time": "2022-09-21T10:28:45.527Z"
   },
   {
    "duration": 3034,
    "start_time": "2022-09-21T10:36:57.958Z"
   },
   {
    "duration": 287,
    "start_time": "2022-09-21T10:37:00.995Z"
   },
   {
    "duration": 83,
    "start_time": "2022-09-21T10:37:01.284Z"
   },
   {
    "duration": 0,
    "start_time": "2022-09-21T10:37:01.369Z"
   },
   {
    "duration": 0,
    "start_time": "2022-09-21T10:37:01.370Z"
   },
   {
    "duration": 0,
    "start_time": "2022-09-21T10:37:01.372Z"
   },
   {
    "duration": 0,
    "start_time": "2022-09-21T10:37:01.374Z"
   },
   {
    "duration": 0,
    "start_time": "2022-09-21T10:37:01.375Z"
   },
   {
    "duration": 0,
    "start_time": "2022-09-21T10:37:01.377Z"
   },
   {
    "duration": 282,
    "start_time": "2022-09-21T10:37:17.695Z"
   },
   {
    "duration": 2106,
    "start_time": "2022-09-21T10:37:19.237Z"
   },
   {
    "duration": 162,
    "start_time": "2022-09-21T10:37:22.596Z"
   },
   {
    "duration": 5125,
    "start_time": "2022-09-21T10:37:22.760Z"
   },
   {
    "duration": 33,
    "start_time": "2022-09-21T10:37:27.887Z"
   },
   {
    "duration": 133,
    "start_time": "2022-09-21T10:37:27.923Z"
   },
   {
    "duration": 24,
    "start_time": "2022-09-21T10:55:06.553Z"
   },
   {
    "duration": 3008,
    "start_time": "2022-09-28T10:30:31.657Z"
   },
   {
    "duration": 2107,
    "start_time": "2022-09-28T10:31:01.040Z"
   },
   {
    "duration": 2083,
    "start_time": "2022-09-28T10:31:14.465Z"
   },
   {
    "duration": 1928,
    "start_time": "2022-09-28T10:31:28.984Z"
   },
   {
    "duration": 1956,
    "start_time": "2022-09-28T10:31:49.272Z"
   },
   {
    "duration": 1847,
    "start_time": "2022-09-28T10:32:54.289Z"
   },
   {
    "duration": 1895,
    "start_time": "2022-09-28T10:33:07.984Z"
   },
   {
    "duration": 1834,
    "start_time": "2022-09-28T10:34:44.697Z"
   },
   {
    "duration": 8,
    "start_time": "2022-09-28T10:35:32.785Z"
   },
   {
    "duration": 1950,
    "start_time": "2022-09-28T10:35:41.185Z"
   },
   {
    "duration": 8,
    "start_time": "2022-09-28T10:35:44.552Z"
   },
   {
    "duration": 8,
    "start_time": "2022-09-28T10:35:50.592Z"
   },
   {
    "duration": 14,
    "start_time": "2022-09-28T10:36:10.117Z"
   },
   {
    "duration": 7,
    "start_time": "2022-09-28T10:36:25.456Z"
   },
   {
    "duration": 1864,
    "start_time": "2022-09-28T10:36:32.032Z"
   },
   {
    "duration": 8,
    "start_time": "2022-09-28T10:36:40.336Z"
   },
   {
    "duration": 277,
    "start_time": "2022-09-28T10:36:49.672Z"
   },
   {
    "duration": 15,
    "start_time": "2022-09-28T10:37:42.225Z"
   },
   {
    "duration": 13,
    "start_time": "2022-09-28T10:37:57.481Z"
   },
   {
    "duration": 55,
    "start_time": "2022-09-28T10:39:22.288Z"
   },
   {
    "duration": 52,
    "start_time": "2022-09-28T10:39:29.445Z"
   },
   {
    "duration": 53,
    "start_time": "2022-09-28T10:39:54.341Z"
   },
   {
    "duration": 112,
    "start_time": "2022-09-28T10:40:06.340Z"
   },
   {
    "duration": 70,
    "start_time": "2022-09-28T10:40:27.094Z"
   },
   {
    "duration": 3,
    "start_time": "2022-09-28T10:40:47.925Z"
   },
   {
    "duration": 11,
    "start_time": "2022-09-28T10:44:35.441Z"
   },
   {
    "duration": 22,
    "start_time": "2022-09-28T10:44:45.682Z"
   },
   {
    "duration": 21,
    "start_time": "2022-09-28T10:45:04.651Z"
   },
   {
    "duration": 21,
    "start_time": "2022-09-28T10:47:12.964Z"
   },
   {
    "duration": 9,
    "start_time": "2022-09-28T10:47:36.658Z"
   },
   {
    "duration": 1951,
    "start_time": "2022-09-28T10:47:53.843Z"
   },
   {
    "duration": 8,
    "start_time": "2022-09-28T10:47:58.750Z"
   },
   {
    "duration": 26,
    "start_time": "2022-09-28T10:48:02.414Z"
   },
   {
    "duration": 10,
    "start_time": "2022-09-28T10:48:28.710Z"
   },
   {
    "duration": 1880,
    "start_time": "2022-09-28T10:49:03.943Z"
   },
   {
    "duration": 9,
    "start_time": "2022-09-28T10:49:07.935Z"
   },
   {
    "duration": 57,
    "start_time": "2022-09-28T10:49:10.310Z"
   },
   {
    "duration": 57,
    "start_time": "2022-09-28T10:50:37.335Z"
   },
   {
    "duration": 1948,
    "start_time": "2022-09-28T10:50:43.374Z"
   },
   {
    "duration": 8,
    "start_time": "2022-09-28T10:50:47.183Z"
   },
   {
    "duration": 61,
    "start_time": "2022-09-28T10:50:49.487Z"
   },
   {
    "duration": 1881,
    "start_time": "2022-09-28T10:51:40.401Z"
   },
   {
    "duration": 8,
    "start_time": "2022-09-28T10:51:51.048Z"
   },
   {
    "duration": 57,
    "start_time": "2022-09-28T10:52:00.114Z"
   },
   {
    "duration": 57,
    "start_time": "2022-09-28T10:52:18.224Z"
   },
   {
    "duration": 58,
    "start_time": "2022-09-28T10:52:31.007Z"
   },
   {
    "duration": 57,
    "start_time": "2022-09-28T10:52:55.472Z"
   },
   {
    "duration": 1940,
    "start_time": "2022-09-28T10:53:00.832Z"
   },
   {
    "duration": 8,
    "start_time": "2022-09-28T10:53:04.569Z"
   },
   {
    "duration": 55,
    "start_time": "2022-09-28T10:53:07.329Z"
   },
   {
    "duration": 49,
    "start_time": "2022-09-28T10:54:07.351Z"
   },
   {
    "duration": 0,
    "start_time": "2022-09-28T10:54:07.402Z"
   },
   {
    "duration": 0,
    "start_time": "2022-09-28T10:54:07.403Z"
   },
   {
    "duration": 0,
    "start_time": "2022-09-28T10:54:07.404Z"
   },
   {
    "duration": 0,
    "start_time": "2022-09-28T10:54:07.405Z"
   },
   {
    "duration": 270,
    "start_time": "2022-09-28T10:54:07.407Z"
   },
   {
    "duration": 264,
    "start_time": "2022-09-28T10:54:07.679Z"
   },
   {
    "duration": 1785,
    "start_time": "2022-09-28T10:54:07.944Z"
   },
   {
    "duration": 241,
    "start_time": "2022-09-28T10:54:09.731Z"
   },
   {
    "duration": 4879,
    "start_time": "2022-09-28T10:54:09.973Z"
   },
   {
    "duration": 18,
    "start_time": "2022-09-28T10:54:14.853Z"
   },
   {
    "duration": 63,
    "start_time": "2022-09-28T10:54:25.472Z"
   },
   {
    "duration": 4,
    "start_time": "2022-09-28T10:54:40.904Z"
   },
   {
    "duration": 1835,
    "start_time": "2022-09-28T10:54:44.304Z"
   },
   {
    "duration": 60,
    "start_time": "2022-09-28T10:54:50.883Z"
   },
   {
    "duration": 8,
    "start_time": "2022-09-28T10:54:50.944Z"
   },
   {
    "duration": 97,
    "start_time": "2022-09-28T10:56:21.560Z"
   },
   {
    "duration": 171,
    "start_time": "2022-09-28T10:57:01.265Z"
   },
   {
    "duration": 178,
    "start_time": "2022-09-28T10:57:28.801Z"
   },
   {
    "duration": 175,
    "start_time": "2022-09-28T10:59:32.753Z"
   },
   {
    "duration": 8,
    "start_time": "2022-09-28T11:01:50.412Z"
   },
   {
    "duration": 4,
    "start_time": "2022-09-28T11:02:48.133Z"
   },
   {
    "duration": 9,
    "start_time": "2022-09-28T11:02:58.684Z"
   },
   {
    "duration": 8,
    "start_time": "2022-09-28T11:03:13.349Z"
   },
   {
    "duration": 3,
    "start_time": "2022-09-28T11:03:51.021Z"
   },
   {
    "duration": 1940,
    "start_time": "2022-09-28T11:04:25.469Z"
   },
   {
    "duration": 55,
    "start_time": "2022-09-28T11:04:29.469Z"
   },
   {
    "duration": 10,
    "start_time": "2022-09-28T11:04:31.621Z"
   },
   {
    "duration": 91,
    "start_time": "2022-09-28T11:04:34.733Z"
   },
   {
    "duration": 165,
    "start_time": "2022-09-28T11:04:37.269Z"
   },
   {
    "duration": 13,
    "start_time": "2022-09-28T11:04:39.749Z"
   },
   {
    "duration": 1953,
    "start_time": "2022-09-28T11:05:00.949Z"
   },
   {
    "duration": 59,
    "start_time": "2022-09-28T11:05:04.261Z"
   },
   {
    "duration": 8,
    "start_time": "2022-09-28T11:05:06.462Z"
   },
   {
    "duration": 89,
    "start_time": "2022-09-28T11:05:09.303Z"
   },
   {
    "duration": 221,
    "start_time": "2022-09-28T11:05:12.525Z"
   },
   {
    "duration": 13,
    "start_time": "2022-09-28T11:05:15.277Z"
   },
   {
    "duration": 16,
    "start_time": "2022-09-28T11:05:36.870Z"
   },
   {
    "duration": 16,
    "start_time": "2022-09-28T11:06:00.949Z"
   },
   {
    "duration": 3,
    "start_time": "2022-09-28T11:06:12.437Z"
   },
   {
    "duration": 16,
    "start_time": "2022-09-28T11:07:26.021Z"
   },
   {
    "duration": 15,
    "start_time": "2022-09-28T11:07:37.838Z"
   },
   {
    "duration": 16,
    "start_time": "2022-09-28T11:07:53.565Z"
   },
   {
    "duration": 15,
    "start_time": "2022-09-28T11:08:04.195Z"
   },
   {
    "duration": 16,
    "start_time": "2022-09-28T11:08:08.303Z"
   },
   {
    "duration": 11,
    "start_time": "2022-09-28T11:08:24.350Z"
   },
   {
    "duration": 15,
    "start_time": "2022-09-28T11:08:37.933Z"
   },
   {
    "duration": 12,
    "start_time": "2022-09-28T11:09:11.470Z"
   },
   {
    "duration": 13,
    "start_time": "2022-09-28T11:09:33.583Z"
   },
   {
    "duration": 31,
    "start_time": "2022-09-28T11:09:40.453Z"
   },
   {
    "duration": 17,
    "start_time": "2022-09-28T11:10:08.181Z"
   },
   {
    "duration": 1826,
    "start_time": "2022-09-28T11:10:23.102Z"
   },
   {
    "duration": 58,
    "start_time": "2022-09-28T11:10:26.142Z"
   },
   {
    "duration": 9,
    "start_time": "2022-09-28T11:10:28.029Z"
   },
   {
    "duration": 233,
    "start_time": "2022-09-28T11:10:29.046Z"
   },
   {
    "duration": 164,
    "start_time": "2022-09-28T11:10:29.718Z"
   },
   {
    "duration": 15,
    "start_time": "2022-09-28T11:10:31.430Z"
   },
   {
    "duration": 111,
    "start_time": "2022-09-28T11:11:01.446Z"
   },
   {
    "duration": 15,
    "start_time": "2022-09-28T11:11:23.974Z"
   },
   {
    "duration": 15,
    "start_time": "2022-09-28T11:12:43.429Z"
   },
   {
    "duration": 12,
    "start_time": "2022-09-28T11:13:07.886Z"
   },
   {
    "duration": 1857,
    "start_time": "2022-09-28T11:13:14.247Z"
   },
   {
    "duration": 59,
    "start_time": "2022-09-28T11:13:17.418Z"
   },
   {
    "duration": 8,
    "start_time": "2022-09-28T11:13:18.086Z"
   },
   {
    "duration": 92,
    "start_time": "2022-09-28T11:13:18.991Z"
   },
   {
    "duration": 164,
    "start_time": "2022-09-28T11:13:19.871Z"
   },
   {
    "duration": 19,
    "start_time": "2022-09-28T11:13:21.383Z"
   },
   {
    "duration": 12,
    "start_time": "2022-09-28T11:15:59.839Z"
   },
   {
    "duration": 1906,
    "start_time": "2022-09-28T11:16:33.537Z"
   },
   {
    "duration": 3,
    "start_time": "2022-09-28T11:16:35.445Z"
   },
   {
    "duration": 71,
    "start_time": "2022-09-28T11:16:35.450Z"
   },
   {
    "duration": 8,
    "start_time": "2022-09-28T11:16:35.523Z"
   },
   {
    "duration": 105,
    "start_time": "2022-09-28T11:16:35.533Z"
   },
   {
    "duration": 170,
    "start_time": "2022-09-28T11:16:35.640Z"
   },
   {
    "duration": 11,
    "start_time": "2022-09-28T11:16:35.811Z"
   },
   {
    "duration": 3,
    "start_time": "2022-09-28T11:16:35.824Z"
   },
   {
    "duration": 266,
    "start_time": "2022-09-28T11:16:35.829Z"
   },
   {
    "duration": 1846,
    "start_time": "2022-09-28T11:16:36.097Z"
   },
   {
    "duration": 143,
    "start_time": "2022-09-28T11:16:37.945Z"
   },
   {
    "duration": 5150,
    "start_time": "2022-09-28T11:16:38.090Z"
   },
   {
    "duration": 19,
    "start_time": "2022-09-28T11:16:43.242Z"
   },
   {
    "duration": 13,
    "start_time": "2022-09-28T11:19:29.917Z"
   },
   {
    "duration": 185,
    "start_time": "2022-09-28T11:19:47.629Z"
   },
   {
    "duration": 870,
    "start_time": "2022-09-28T11:56:40.318Z"
   },
   {
    "duration": 14,
    "start_time": "2022-09-28T11:57:05.217Z"
   },
   {
    "duration": 21,
    "start_time": "2022-09-28T11:57:13.977Z"
   },
   {
    "duration": 20,
    "start_time": "2022-09-28T12:00:52.442Z"
   },
   {
    "duration": 1271,
    "start_time": "2022-09-28T12:02:21.994Z"
   },
   {
    "duration": 1857,
    "start_time": "2022-09-28T12:02:30.817Z"
   },
   {
    "duration": 54,
    "start_time": "2022-09-28T12:02:36.522Z"
   },
   {
    "duration": 8,
    "start_time": "2022-09-28T12:02:37.322Z"
   },
   {
    "duration": 201,
    "start_time": "2022-09-28T12:02:38.281Z"
   },
   {
    "duration": 168,
    "start_time": "2022-09-28T12:02:38.937Z"
   },
   {
    "duration": 15,
    "start_time": "2022-09-28T12:02:39.922Z"
   },
   {
    "duration": 3,
    "start_time": "2022-09-28T12:02:43.074Z"
   },
   {
    "duration": 1247,
    "start_time": "2022-09-28T12:02:43.962Z"
   },
   {
    "duration": 1007,
    "start_time": "2022-09-28T12:05:46.434Z"
   },
   {
    "duration": 1111,
    "start_time": "2022-09-28T12:06:31.786Z"
   },
   {
    "duration": 188,
    "start_time": "2022-09-28T12:26:15.706Z"
   },
   {
    "duration": 202,
    "start_time": "2022-09-28T12:26:19.428Z"
   },
   {
    "duration": 191,
    "start_time": "2022-09-28T12:26:20.234Z"
   },
   {
    "duration": 152,
    "start_time": "2022-09-28T12:26:21.625Z"
   },
   {
    "duration": 151,
    "start_time": "2022-09-28T12:26:22.418Z"
   },
   {
    "duration": 139,
    "start_time": "2022-09-28T12:26:23.218Z"
   },
   {
    "duration": 70,
    "start_time": "2022-09-28T12:26:23.514Z"
   },
   {
    "duration": 1448,
    "start_time": "2022-09-28T12:26:23.938Z"
   },
   {
    "duration": 0,
    "start_time": "2022-09-28T12:26:25.388Z"
   },
   {
    "duration": 909,
    "start_time": "2022-09-28T12:26:28.193Z"
   },
   {
    "duration": 130,
    "start_time": "2022-09-28T12:26:29.219Z"
   },
   {
    "duration": 131,
    "start_time": "2022-09-28T12:26:29.832Z"
   },
   {
    "duration": 1346,
    "start_time": "2022-09-28T12:26:30.745Z"
   },
   {
    "duration": 0,
    "start_time": "2022-09-28T12:26:32.093Z"
   },
   {
    "duration": 1623,
    "start_time": "2022-09-28T12:28:14.569Z"
   },
   {
    "duration": 140,
    "start_time": "2022-09-28T12:28:37.796Z"
   },
   {
    "duration": 816,
    "start_time": "2022-09-28T12:28:46.071Z"
   },
   {
    "duration": 962,
    "start_time": "2022-09-28T12:29:56.979Z"
   },
   {
    "duration": 14,
    "start_time": "2022-09-28T12:31:03.754Z"
   },
   {
    "duration": 1908,
    "start_time": "2022-09-28T12:31:26.243Z"
   },
   {
    "duration": 1997,
    "start_time": "2022-09-28T12:31:29.380Z"
   },
   {
    "duration": 57,
    "start_time": "2022-09-28T12:31:35.618Z"
   },
   {
    "duration": 10,
    "start_time": "2022-09-28T12:31:36.362Z"
   },
   {
    "duration": 105,
    "start_time": "2022-09-28T12:31:37.283Z"
   },
   {
    "duration": 169,
    "start_time": "2022-09-28T12:31:38.211Z"
   },
   {
    "duration": 13,
    "start_time": "2022-09-28T12:31:39.194Z"
   },
   {
    "duration": 4,
    "start_time": "2022-09-28T12:31:42.468Z"
   },
   {
    "duration": 1072,
    "start_time": "2022-09-28T12:31:43.883Z"
   },
   {
    "duration": 250,
    "start_time": "2022-09-28T12:32:21.156Z"
   },
   {
    "duration": 206,
    "start_time": "2022-09-28T12:32:26.067Z"
   },
   {
    "duration": 199,
    "start_time": "2022-09-28T12:32:31.187Z"
   },
   {
    "duration": 182,
    "start_time": "2022-09-28T12:32:34.579Z"
   },
   {
    "duration": 146,
    "start_time": "2022-09-28T12:32:36.869Z"
   },
   {
    "duration": 145,
    "start_time": "2022-09-28T12:32:44.410Z"
   },
   {
    "duration": 139,
    "start_time": "2022-09-28T12:32:47.267Z"
   },
   {
    "duration": 139,
    "start_time": "2022-09-28T12:32:57.915Z"
   },
   {
    "duration": 136,
    "start_time": "2022-09-28T12:33:01.164Z"
   },
   {
    "duration": 135,
    "start_time": "2022-09-28T12:33:05.315Z"
   },
   {
    "duration": 13,
    "start_time": "2022-09-28T12:33:08.427Z"
   },
   {
    "duration": 4,
    "start_time": "2022-09-28T12:33:25.786Z"
   },
   {
    "duration": 979,
    "start_time": "2022-09-28T12:33:39.580Z"
   },
   {
    "duration": 19,
    "start_time": "2022-09-28T12:33:47.659Z"
   },
   {
    "duration": 143,
    "start_time": "2022-09-28T12:34:05.022Z"
   },
   {
    "duration": 134,
    "start_time": "2022-09-28T12:34:08.442Z"
   },
   {
    "duration": 144,
    "start_time": "2022-09-28T12:34:12.436Z"
   },
   {
    "duration": 127,
    "start_time": "2022-09-28T12:34:17.307Z"
   },
   {
    "duration": 295,
    "start_time": "2022-09-28T12:34:23.180Z"
   },
   {
    "duration": 122,
    "start_time": "2022-09-28T12:34:29.406Z"
   },
   {
    "duration": 121,
    "start_time": "2022-09-28T12:34:33.388Z"
   },
   {
    "duration": 127,
    "start_time": "2022-09-28T12:34:37.084Z"
   },
   {
    "duration": 12,
    "start_time": "2022-09-28T12:35:41.316Z"
   },
   {
    "duration": 11,
    "start_time": "2022-09-28T12:35:52.120Z"
   },
   {
    "duration": 12,
    "start_time": "2022-09-28T12:36:00.957Z"
   },
   {
    "duration": 310,
    "start_time": "2022-09-28T12:36:34.850Z"
   },
   {
    "duration": 14,
    "start_time": "2022-09-28T12:37:33.852Z"
   },
   {
    "duration": 255,
    "start_time": "2022-09-28T12:37:47.059Z"
   },
   {
    "duration": 11,
    "start_time": "2022-09-28T12:38:23.700Z"
   },
   {
    "duration": 13,
    "start_time": "2022-09-28T12:38:29.043Z"
   },
   {
    "duration": 16,
    "start_time": "2022-09-28T12:38:40.355Z"
   },
   {
    "duration": 15,
    "start_time": "2022-09-28T12:38:44.899Z"
   },
   {
    "duration": 9,
    "start_time": "2022-09-28T12:38:58.511Z"
   },
   {
    "duration": 26,
    "start_time": "2022-09-28T12:39:37.899Z"
   },
   {
    "duration": 15,
    "start_time": "2022-09-28T12:39:53.557Z"
   },
   {
    "duration": 24,
    "start_time": "2022-09-28T12:40:08.493Z"
   },
   {
    "duration": 18,
    "start_time": "2022-09-28T12:40:47.892Z"
   },
   {
    "duration": 24,
    "start_time": "2022-09-28T12:40:54.157Z"
   },
   {
    "duration": 14,
    "start_time": "2022-09-28T12:41:07.449Z"
   },
   {
    "duration": 23,
    "start_time": "2022-09-28T12:41:13.760Z"
   },
   {
    "duration": 20,
    "start_time": "2022-09-28T12:41:50.961Z"
   },
   {
    "duration": 23,
    "start_time": "2022-09-28T12:41:59.816Z"
   },
   {
    "duration": 23,
    "start_time": "2022-09-28T12:43:10.953Z"
   },
   {
    "duration": 18,
    "start_time": "2022-09-28T12:45:58.046Z"
   },
   {
    "duration": 20,
    "start_time": "2022-09-28T12:47:47.677Z"
   },
   {
    "duration": 263,
    "start_time": "2022-09-28T12:47:58.415Z"
   },
   {
    "duration": 124,
    "start_time": "2022-09-28T12:48:46.286Z"
   },
   {
    "duration": 131,
    "start_time": "2022-09-28T12:49:04.597Z"
   },
   {
    "duration": 56,
    "start_time": "2022-09-28T12:49:40.131Z"
   },
   {
    "duration": 70,
    "start_time": "2022-09-28T12:49:48.718Z"
   },
   {
    "duration": 11,
    "start_time": "2022-09-28T12:49:53.054Z"
   },
   {
    "duration": 146,
    "start_time": "2022-09-28T12:50:07.159Z"
   },
   {
    "duration": 22,
    "start_time": "2022-09-28T12:50:18.551Z"
   },
   {
    "duration": 277,
    "start_time": "2022-09-28T12:50:26.590Z"
   },
   {
    "duration": 12,
    "start_time": "2022-09-28T12:51:13.109Z"
   },
   {
    "duration": 238,
    "start_time": "2022-09-28T12:55:05.888Z"
   },
   {
    "duration": 222,
    "start_time": "2022-09-28T12:57:44.759Z"
   },
   {
    "duration": 198,
    "start_time": "2022-09-28T12:57:58.024Z"
   },
   {
    "duration": 142,
    "start_time": "2022-09-28T12:58:15.032Z"
   },
   {
    "duration": 135,
    "start_time": "2022-09-28T12:58:41.103Z"
   },
   {
    "duration": 277,
    "start_time": "2022-09-28T12:59:17.205Z"
   },
   {
    "duration": 134,
    "start_time": "2022-09-28T12:59:24.598Z"
   },
   {
    "duration": 143,
    "start_time": "2022-09-28T13:00:00.387Z"
   },
   {
    "duration": 157,
    "start_time": "2022-09-28T13:00:41.528Z"
   },
   {
    "duration": 29,
    "start_time": "2022-09-28T13:02:33.283Z"
   },
   {
    "duration": 172,
    "start_time": "2022-09-28T13:02:41.769Z"
   },
   {
    "duration": 28,
    "start_time": "2022-09-28T13:02:55.984Z"
   },
   {
    "duration": 34,
    "start_time": "2022-09-28T13:03:13.082Z"
   },
   {
    "duration": 175,
    "start_time": "2022-09-28T13:03:34.353Z"
   },
   {
    "duration": 72,
    "start_time": "2022-09-28T13:04:29.608Z"
   },
   {
    "duration": 38,
    "start_time": "2022-09-28T13:04:38.883Z"
   },
   {
    "duration": 2750,
    "start_time": "2022-09-28T13:04:48.185Z"
   },
   {
    "duration": 2703,
    "start_time": "2022-09-28T13:08:37.258Z"
   },
   {
    "duration": 62,
    "start_time": "2022-09-28T13:08:43.067Z"
   },
   {
    "duration": 9,
    "start_time": "2022-09-28T13:08:43.721Z"
   },
   {
    "duration": 93,
    "start_time": "2022-09-28T13:08:44.250Z"
   },
   {
    "duration": 177,
    "start_time": "2022-09-28T13:08:44.834Z"
   },
   {
    "duration": 14,
    "start_time": "2022-09-28T13:08:45.761Z"
   },
   {
    "duration": 4,
    "start_time": "2022-09-28T13:08:48.217Z"
   },
   {
    "duration": 1021,
    "start_time": "2022-09-28T13:08:48.777Z"
   },
   {
    "duration": 278,
    "start_time": "2022-09-28T13:08:54.641Z"
   },
   {
    "duration": 252,
    "start_time": "2022-09-28T13:08:58.754Z"
   },
   {
    "duration": 204,
    "start_time": "2022-09-28T13:09:02.856Z"
   },
   {
    "duration": 140,
    "start_time": "2022-09-28T13:09:06.417Z"
   },
   {
    "duration": 204,
    "start_time": "2022-09-28T13:09:08.913Z"
   },
   {
    "duration": 142,
    "start_time": "2022-09-28T13:09:10.352Z"
   },
   {
    "duration": 155,
    "start_time": "2022-09-28T13:09:11.426Z"
   },
   {
    "duration": 2775,
    "start_time": "2022-09-28T13:25:23.006Z"
   },
   {
    "duration": 71,
    "start_time": "2022-09-28T13:25:27.692Z"
   },
   {
    "duration": 8,
    "start_time": "2022-09-28T13:25:28.099Z"
   },
   {
    "duration": 94,
    "start_time": "2022-09-28T13:25:28.774Z"
   },
   {
    "duration": 165,
    "start_time": "2022-09-28T13:25:29.443Z"
   },
   {
    "duration": 13,
    "start_time": "2022-09-28T13:25:30.307Z"
   },
   {
    "duration": 3,
    "start_time": "2022-09-28T13:25:33.158Z"
   },
   {
    "duration": 1036,
    "start_time": "2022-09-28T13:25:33.654Z"
   },
   {
    "duration": 274,
    "start_time": "2022-09-28T13:25:38.191Z"
   },
   {
    "duration": 247,
    "start_time": "2022-09-28T13:25:41.317Z"
   },
   {
    "duration": 214,
    "start_time": "2022-09-28T13:25:42.355Z"
   },
   {
    "duration": 141,
    "start_time": "2022-09-28T13:25:42.819Z"
   },
   {
    "duration": 199,
    "start_time": "2022-09-28T13:25:43.186Z"
   },
   {
    "duration": 154,
    "start_time": "2022-09-28T13:25:43.502Z"
   },
   {
    "duration": 147,
    "start_time": "2022-09-28T13:25:43.861Z"
   },
   {
    "duration": 26,
    "start_time": "2022-09-28T13:25:45.999Z"
   },
   {
    "duration": 137,
    "start_time": "2022-09-28T13:25:50.458Z"
   },
   {
    "duration": 131,
    "start_time": "2022-09-28T13:25:52.155Z"
   },
   {
    "duration": 130,
    "start_time": "2022-09-28T13:25:53.819Z"
   },
   {
    "duration": 126,
    "start_time": "2022-09-28T13:25:54.992Z"
   },
   {
    "duration": 110,
    "start_time": "2022-09-28T13:25:56.315Z"
   },
   {
    "duration": 128,
    "start_time": "2022-09-28T13:25:58.088Z"
   },
   {
    "duration": 12,
    "start_time": "2022-09-28T13:26:19.990Z"
   },
   {
    "duration": 78,
    "start_time": "2022-09-28T13:26:31.947Z"
   },
   {
    "duration": 76,
    "start_time": "2022-09-28T13:26:37.621Z"
   },
   {
    "duration": 187,
    "start_time": "2022-09-28T13:27:15.894Z"
   },
   {
    "duration": 144,
    "start_time": "2022-09-28T13:27:35.483Z"
   },
   {
    "duration": 1654,
    "start_time": "2022-09-28T13:28:24.791Z"
   },
   {
    "duration": 200,
    "start_time": "2022-09-28T13:28:32.494Z"
   },
   {
    "duration": 157,
    "start_time": "2022-09-28T13:29:25.661Z"
   },
   {
    "duration": 428,
    "start_time": "2022-09-28T13:29:58.540Z"
   },
   {
    "duration": 4888,
    "start_time": "2022-09-28T13:37:42.686Z"
   },
   {
    "duration": 4898,
    "start_time": "2022-09-28T13:37:50.645Z"
   },
   {
    "duration": 51,
    "start_time": "2022-09-29T09:41:02.168Z"
   },
   {
    "duration": 3438,
    "start_time": "2022-09-29T09:41:09.069Z"
   },
   {
    "duration": 4,
    "start_time": "2022-09-29T09:41:12.509Z"
   },
   {
    "duration": 101,
    "start_time": "2022-09-29T09:41:12.514Z"
   },
   {
    "duration": 12,
    "start_time": "2022-09-29T09:41:12.618Z"
   },
   {
    "duration": 130,
    "start_time": "2022-09-29T09:41:12.631Z"
   },
   {
    "duration": 187,
    "start_time": "2022-09-29T09:41:12.776Z"
   },
   {
    "duration": 21,
    "start_time": "2022-09-29T09:41:12.965Z"
   },
   {
    "duration": 3,
    "start_time": "2022-09-29T09:41:12.988Z"
   },
   {
    "duration": 1152,
    "start_time": "2022-09-29T09:41:12.992Z"
   },
   {
    "duration": 266,
    "start_time": "2022-09-29T09:41:14.678Z"
   },
   {
    "duration": 341,
    "start_time": "2022-09-29T09:41:15.477Z"
   },
   {
    "duration": 225,
    "start_time": "2022-09-29T09:41:15.876Z"
   },
   {
    "duration": 164,
    "start_time": "2022-09-29T09:41:16.276Z"
   },
   {
    "duration": 235,
    "start_time": "2022-09-29T09:41:16.692Z"
   },
   {
    "duration": 150,
    "start_time": "2022-09-29T09:41:17.092Z"
   },
   {
    "duration": 160,
    "start_time": "2022-09-29T09:41:17.484Z"
   },
   {
    "duration": 80,
    "start_time": "2022-09-29T09:41:17.852Z"
   },
   {
    "duration": 149,
    "start_time": "2022-09-29T09:41:18.244Z"
   },
   {
    "duration": 155,
    "start_time": "2022-09-29T09:41:18.628Z"
   },
   {
    "duration": 132,
    "start_time": "2022-09-29T09:41:19.005Z"
   },
   {
    "duration": 166,
    "start_time": "2022-09-29T09:41:19.390Z"
   },
   {
    "duration": 120,
    "start_time": "2022-09-29T09:41:20.237Z"
   },
   {
    "duration": 125,
    "start_time": "2022-09-29T09:41:21.549Z"
   },
   {
    "duration": 427,
    "start_time": "2022-09-29T09:41:24.205Z"
   },
   {
    "duration": 6496,
    "start_time": "2022-09-29T09:41:25.556Z"
   },
   {
    "duration": 235,
    "start_time": "2022-09-29T09:41:48.141Z"
   },
   {
    "duration": 369,
    "start_time": "2022-09-29T09:42:33.509Z"
   },
   {
    "duration": 412,
    "start_time": "2022-09-29T09:42:39.864Z"
   },
   {
    "duration": 171,
    "start_time": "2022-09-29T09:42:50.324Z"
   },
   {
    "duration": 165,
    "start_time": "2022-09-29T09:42:56.132Z"
   },
   {
    "duration": 124,
    "start_time": "2022-09-29T09:45:03.613Z"
   },
   {
    "duration": 175,
    "start_time": "2022-09-29T09:46:38.286Z"
   },
   {
    "duration": 562,
    "start_time": "2022-09-29T09:48:28.435Z"
   },
   {
    "duration": 213,
    "start_time": "2022-09-29T09:48:54.470Z"
   },
   {
    "duration": 158,
    "start_time": "2022-09-29T09:51:09.801Z"
   },
   {
    "duration": 179,
    "start_time": "2022-09-29T09:53:31.864Z"
   },
   {
    "duration": 148,
    "start_time": "2022-09-29T09:54:02.607Z"
   },
   {
    "duration": 100,
    "start_time": "2022-09-29T09:54:09.384Z"
   },
   {
    "duration": 245,
    "start_time": "2022-09-29T09:54:14.408Z"
   },
   {
    "duration": 190,
    "start_time": "2022-09-29T09:54:24.216Z"
   },
   {
    "duration": 173,
    "start_time": "2022-09-29T09:54:31.392Z"
   },
   {
    "duration": 160,
    "start_time": "2022-09-29T09:54:38.799Z"
   },
   {
    "duration": 192,
    "start_time": "2022-09-29T09:54:43.121Z"
   },
   {
    "duration": 199,
    "start_time": "2022-09-29T09:54:48.216Z"
   },
   {
    "duration": 170,
    "start_time": "2022-09-29T09:54:53.751Z"
   },
   {
    "duration": 301,
    "start_time": "2022-09-29T09:55:02.704Z"
   },
   {
    "duration": 191,
    "start_time": "2022-09-29T09:55:59.000Z"
   },
   {
    "duration": 183,
    "start_time": "2022-09-29T09:59:19.099Z"
   },
   {
    "duration": 191,
    "start_time": "2022-09-29T10:01:36.017Z"
   },
   {
    "duration": 201,
    "start_time": "2022-09-29T10:04:42.590Z"
   },
   {
    "duration": 262,
    "start_time": "2022-09-29T10:05:44.811Z"
   },
   {
    "duration": 175,
    "start_time": "2022-09-29T10:06:16.291Z"
   },
   {
    "duration": 177,
    "start_time": "2022-09-29T10:06:18.394Z"
   },
   {
    "duration": 16,
    "start_time": "2022-09-29T10:27:10.782Z"
   },
   {
    "duration": 17,
    "start_time": "2022-09-29T10:32:39.075Z"
   },
   {
    "duration": 9,
    "start_time": "2022-09-29T10:33:19.257Z"
   },
   {
    "duration": 11,
    "start_time": "2022-09-29T10:34:28.523Z"
   },
   {
    "duration": 13,
    "start_time": "2022-09-29T10:34:55.766Z"
   },
   {
    "duration": 17,
    "start_time": "2022-09-29T10:38:01.728Z"
   },
   {
    "duration": 14,
    "start_time": "2022-09-29T10:38:11.008Z"
   },
   {
    "duration": 9,
    "start_time": "2022-09-29T10:38:18.195Z"
   },
   {
    "duration": 9,
    "start_time": "2022-09-29T10:38:23.760Z"
   },
   {
    "duration": 2064,
    "start_time": "2022-09-29T10:38:33.150Z"
   },
   {
    "duration": 4,
    "start_time": "2022-09-29T10:38:35.216Z"
   },
   {
    "duration": 93,
    "start_time": "2022-09-29T10:38:35.222Z"
   },
   {
    "duration": 11,
    "start_time": "2022-09-29T10:38:35.318Z"
   },
   {
    "duration": 166,
    "start_time": "2022-09-29T10:38:35.332Z"
   },
   {
    "duration": 195,
    "start_time": "2022-09-29T10:38:35.500Z"
   },
   {
    "duration": 13,
    "start_time": "2022-09-29T10:38:35.697Z"
   },
   {
    "duration": 3,
    "start_time": "2022-09-29T10:38:35.711Z"
   },
   {
    "duration": 1200,
    "start_time": "2022-09-29T10:38:35.716Z"
   },
   {
    "duration": 257,
    "start_time": "2022-09-29T10:38:37.632Z"
   },
   {
    "duration": 316,
    "start_time": "2022-09-29T10:38:38.375Z"
   },
   {
    "duration": 230,
    "start_time": "2022-09-29T10:38:38.739Z"
   },
   {
    "duration": 153,
    "start_time": "2022-09-29T10:38:39.116Z"
   },
   {
    "duration": 150,
    "start_time": "2022-09-29T10:38:39.493Z"
   },
   {
    "duration": 167,
    "start_time": "2022-09-29T10:38:39.850Z"
   },
   {
    "duration": 167,
    "start_time": "2022-09-29T10:38:40.196Z"
   },
   {
    "duration": 206,
    "start_time": "2022-09-29T10:38:40.591Z"
   },
   {
    "duration": 181,
    "start_time": "2022-09-29T10:38:40.973Z"
   },
   {
    "duration": 174,
    "start_time": "2022-09-29T10:38:41.349Z"
   },
   {
    "duration": 188,
    "start_time": "2022-09-29T10:38:41.724Z"
   },
   {
    "duration": 178,
    "start_time": "2022-09-29T10:38:42.092Z"
   },
   {
    "duration": 142,
    "start_time": "2022-09-29T10:38:42.489Z"
   },
   {
    "duration": 138,
    "start_time": "2022-09-29T10:38:42.869Z"
   },
   {
    "duration": 430,
    "start_time": "2022-09-29T10:38:44.040Z"
   },
   {
    "duration": 7365,
    "start_time": "2022-09-29T10:38:44.635Z"
   },
   {
    "duration": 207,
    "start_time": "2022-09-29T10:38:52.002Z"
   },
   {
    "duration": 222,
    "start_time": "2022-09-29T10:38:52.211Z"
   },
   {
    "duration": 198,
    "start_time": "2022-09-29T10:38:52.435Z"
   },
   {
    "duration": 206,
    "start_time": "2022-09-29T10:38:52.635Z"
   },
   {
    "duration": 311,
    "start_time": "2022-09-29T10:38:52.843Z"
   },
   {
    "duration": 279,
    "start_time": "2022-09-29T10:38:53.156Z"
   },
   {
    "duration": 224,
    "start_time": "2022-09-29T10:38:53.438Z"
   },
   {
    "duration": 189,
    "start_time": "2022-09-29T10:38:53.664Z"
   },
   {
    "duration": 29,
    "start_time": "2022-09-29T10:38:53.856Z"
   },
   {
    "duration": 2015,
    "start_time": "2022-09-29T10:40:27.244Z"
   },
   {
    "duration": 4,
    "start_time": "2022-09-29T10:40:29.261Z"
   },
   {
    "duration": 60,
    "start_time": "2022-09-29T10:40:29.282Z"
   },
   {
    "duration": 9,
    "start_time": "2022-09-29T10:40:29.344Z"
   },
   {
    "duration": 125,
    "start_time": "2022-09-29T10:40:29.354Z"
   },
   {
    "duration": 170,
    "start_time": "2022-09-29T10:40:29.483Z"
   },
   {
    "duration": 31,
    "start_time": "2022-09-29T10:40:29.655Z"
   },
   {
    "duration": 5,
    "start_time": "2022-09-29T10:40:29.687Z"
   },
   {
    "duration": 1135,
    "start_time": "2022-09-29T10:40:29.695Z"
   },
   {
    "duration": 248,
    "start_time": "2022-09-29T10:40:31.640Z"
   },
   {
    "duration": 274,
    "start_time": "2022-09-29T10:40:32.392Z"
   },
   {
    "duration": 231,
    "start_time": "2022-09-29T10:40:32.766Z"
   },
   {
    "duration": 155,
    "start_time": "2022-09-29T10:40:33.148Z"
   },
   {
    "duration": 175,
    "start_time": "2022-09-29T10:40:33.518Z"
   },
   {
    "duration": 147,
    "start_time": "2022-09-29T10:40:33.902Z"
   },
   {
    "duration": 162,
    "start_time": "2022-09-29T10:40:34.268Z"
   },
   {
    "duration": 188,
    "start_time": "2022-09-29T10:40:34.663Z"
   },
   {
    "duration": 158,
    "start_time": "2022-09-29T10:40:35.022Z"
   },
   {
    "duration": 169,
    "start_time": "2022-09-29T10:40:35.396Z"
   },
   {
    "duration": 137,
    "start_time": "2022-09-29T10:40:35.796Z"
   },
   {
    "duration": 179,
    "start_time": "2022-09-29T10:40:36.157Z"
   },
   {
    "duration": 129,
    "start_time": "2022-09-29T10:40:36.524Z"
   },
   {
    "duration": 143,
    "start_time": "2022-09-29T10:40:36.869Z"
   },
   {
    "duration": 366,
    "start_time": "2022-09-29T10:40:38.033Z"
   },
   {
    "duration": 6982,
    "start_time": "2022-09-29T10:40:38.612Z"
   },
   {
    "duration": 206,
    "start_time": "2022-09-29T10:40:45.596Z"
   },
   {
    "duration": 214,
    "start_time": "2022-09-29T10:40:45.804Z"
   },
   {
    "duration": 203,
    "start_time": "2022-09-29T10:40:46.020Z"
   },
   {
    "duration": 289,
    "start_time": "2022-09-29T10:40:46.224Z"
   },
   {
    "duration": 385,
    "start_time": "2022-09-29T10:40:46.516Z"
   },
   {
    "duration": 303,
    "start_time": "2022-09-29T10:40:46.903Z"
   },
   {
    "duration": 215,
    "start_time": "2022-09-29T10:40:47.208Z"
   },
   {
    "duration": 239,
    "start_time": "2022-09-29T10:40:47.425Z"
   },
   {
    "duration": 36,
    "start_time": "2022-09-29T10:40:47.666Z"
   },
   {
    "duration": 13,
    "start_time": "2022-09-29T10:40:54.620Z"
   },
   {
    "duration": 16,
    "start_time": "2022-09-29T10:41:00.838Z"
   },
   {
    "duration": 16,
    "start_time": "2022-09-29T10:41:05.147Z"
   },
   {
    "duration": 2112,
    "start_time": "2022-09-29T10:41:12.432Z"
   },
   {
    "duration": 4,
    "start_time": "2022-09-29T10:41:14.546Z"
   },
   {
    "duration": 85,
    "start_time": "2022-09-29T10:41:14.551Z"
   },
   {
    "duration": 8,
    "start_time": "2022-09-29T10:41:14.638Z"
   },
   {
    "duration": 137,
    "start_time": "2022-09-29T10:41:14.648Z"
   },
   {
    "duration": 210,
    "start_time": "2022-09-29T10:41:14.788Z"
   },
   {
    "duration": 17,
    "start_time": "2022-09-29T10:41:15.000Z"
   },
   {
    "duration": 21,
    "start_time": "2022-09-29T10:41:15.019Z"
   },
   {
    "duration": 1228,
    "start_time": "2022-09-29T10:41:15.042Z"
   },
   {
    "duration": 256,
    "start_time": "2022-09-29T10:41:16.700Z"
   },
   {
    "duration": 309,
    "start_time": "2022-09-29T10:41:17.473Z"
   },
   {
    "duration": 235,
    "start_time": "2022-09-29T10:41:17.862Z"
   },
   {
    "duration": 155,
    "start_time": "2022-09-29T10:41:18.197Z"
   },
   {
    "duration": 176,
    "start_time": "2022-09-29T10:41:18.574Z"
   },
   {
    "duration": 162,
    "start_time": "2022-09-29T10:41:18.960Z"
   },
   {
    "duration": 172,
    "start_time": "2022-09-29T10:41:19.333Z"
   },
   {
    "duration": 194,
    "start_time": "2022-09-29T10:41:19.714Z"
   },
   {
    "duration": 153,
    "start_time": "2022-09-29T10:41:20.101Z"
   },
   {
    "duration": 163,
    "start_time": "2022-09-29T10:41:20.496Z"
   },
   {
    "duration": 137,
    "start_time": "2022-09-29T10:41:20.900Z"
   },
   {
    "duration": 181,
    "start_time": "2022-09-29T10:41:21.289Z"
   },
   {
    "duration": 133,
    "start_time": "2022-09-29T10:41:21.689Z"
   },
   {
    "duration": 132,
    "start_time": "2022-09-29T10:41:22.102Z"
   },
   {
    "duration": 389,
    "start_time": "2022-09-29T10:41:23.310Z"
   },
   {
    "duration": 6835,
    "start_time": "2022-09-29T10:41:24.002Z"
   },
   {
    "duration": 206,
    "start_time": "2022-09-29T10:41:30.839Z"
   },
   {
    "duration": 219,
    "start_time": "2022-09-29T10:41:31.047Z"
   },
   {
    "duration": 174,
    "start_time": "2022-09-29T10:41:31.283Z"
   },
   {
    "duration": 212,
    "start_time": "2022-09-29T10:41:31.458Z"
   },
   {
    "duration": 332,
    "start_time": "2022-09-29T10:41:31.672Z"
   },
   {
    "duration": 190,
    "start_time": "2022-09-29T10:41:32.006Z"
   },
   {
    "duration": 201,
    "start_time": "2022-09-29T10:41:32.198Z"
   },
   {
    "duration": 198,
    "start_time": "2022-09-29T10:41:32.401Z"
   },
   {
    "duration": 15,
    "start_time": "2022-09-29T10:41:32.601Z"
   },
   {
    "duration": 13,
    "start_time": "2022-09-29T10:41:45.061Z"
   },
   {
    "duration": 15,
    "start_time": "2022-09-29T10:42:04.142Z"
   },
   {
    "duration": 18,
    "start_time": "2022-09-29T10:42:18.724Z"
   },
   {
    "duration": 25,
    "start_time": "2022-09-29T10:42:25.863Z"
   },
   {
    "duration": 24,
    "start_time": "2022-09-29T10:42:45.544Z"
   },
   {
    "duration": 14,
    "start_time": "2022-09-29T10:42:53.544Z"
   },
   {
    "duration": 14,
    "start_time": "2022-09-29T10:42:59.420Z"
   },
   {
    "duration": 20,
    "start_time": "2022-09-29T10:43:05.467Z"
   },
   {
    "duration": 15,
    "start_time": "2022-09-29T10:43:57.590Z"
   },
   {
    "duration": 32,
    "start_time": "2022-09-29T10:47:17.068Z"
   },
   {
    "duration": 14,
    "start_time": "2022-09-29T10:47:31.436Z"
   },
   {
    "duration": 18,
    "start_time": "2022-09-29T11:07:02.490Z"
   },
   {
    "duration": 176,
    "start_time": "2022-09-29T11:07:55.403Z"
   },
   {
    "duration": 75,
    "start_time": "2022-09-29T11:10:14.672Z"
   },
   {
    "duration": 291,
    "start_time": "2022-09-29T11:10:27.821Z"
   },
   {
    "duration": 359,
    "start_time": "2022-09-29T11:10:49.516Z"
   },
   {
    "duration": 181,
    "start_time": "2022-09-29T11:11:22.309Z"
   },
   {
    "duration": 183,
    "start_time": "2022-09-29T11:11:42.628Z"
   },
   {
    "duration": 178,
    "start_time": "2022-09-29T11:11:58.724Z"
   },
   {
    "duration": 180,
    "start_time": "2022-09-29T11:13:08.573Z"
   },
   {
    "duration": 2002,
    "start_time": "2022-09-29T11:13:39.319Z"
   },
   {
    "duration": 3,
    "start_time": "2022-09-29T11:13:41.323Z"
   },
   {
    "duration": 77,
    "start_time": "2022-09-29T11:13:41.328Z"
   },
   {
    "duration": 8,
    "start_time": "2022-09-29T11:13:41.407Z"
   },
   {
    "duration": 126,
    "start_time": "2022-09-29T11:13:41.417Z"
   },
   {
    "duration": 197,
    "start_time": "2022-09-29T11:13:41.545Z"
   },
   {
    "duration": 32,
    "start_time": "2022-09-29T11:13:41.745Z"
   },
   {
    "duration": 3,
    "start_time": "2022-09-29T11:13:41.779Z"
   },
   {
    "duration": 1125,
    "start_time": "2022-09-29T11:13:41.784Z"
   },
   {
    "duration": 249,
    "start_time": "2022-09-29T11:13:43.540Z"
   },
   {
    "duration": 318,
    "start_time": "2022-09-29T11:13:44.301Z"
   },
   {
    "duration": 307,
    "start_time": "2022-09-29T11:13:44.683Z"
   },
   {
    "duration": 143,
    "start_time": "2022-09-29T11:13:45.079Z"
   },
   {
    "duration": 165,
    "start_time": "2022-09-29T11:13:45.454Z"
   },
   {
    "duration": 155,
    "start_time": "2022-09-29T11:13:45.813Z"
   },
   {
    "duration": 148,
    "start_time": "2022-09-29T11:13:46.206Z"
   },
   {
    "duration": 74,
    "start_time": "2022-09-29T11:13:46.604Z"
   },
   {
    "duration": 157,
    "start_time": "2022-09-29T11:13:47.020Z"
   },
   {
    "duration": 149,
    "start_time": "2022-09-29T11:13:47.438Z"
   },
   {
    "duration": 131,
    "start_time": "2022-09-29T11:13:47.820Z"
   },
   {
    "duration": 161,
    "start_time": "2022-09-29T11:13:48.238Z"
   },
   {
    "duration": 120,
    "start_time": "2022-09-29T11:13:48.628Z"
   },
   {
    "duration": 188,
    "start_time": "2022-09-29T11:13:49.037Z"
   },
   {
    "duration": 387,
    "start_time": "2022-09-29T11:13:50.204Z"
   },
   {
    "duration": 6324,
    "start_time": "2022-09-29T11:13:50.804Z"
   },
   {
    "duration": 194,
    "start_time": "2022-09-29T11:13:57.130Z"
   },
   {
    "duration": 202,
    "start_time": "2022-09-29T11:13:57.325Z"
   },
   {
    "duration": 177,
    "start_time": "2022-09-29T11:13:57.528Z"
   },
   {
    "duration": 209,
    "start_time": "2022-09-29T11:13:57.706Z"
   },
   {
    "duration": 187,
    "start_time": "2022-09-29T11:13:57.916Z"
   },
   {
    "duration": 203,
    "start_time": "2022-09-29T11:13:58.104Z"
   },
   {
    "duration": 190,
    "start_time": "2022-09-29T11:13:58.309Z"
   },
   {
    "duration": 202,
    "start_time": "2022-09-29T11:13:58.501Z"
   },
   {
    "duration": 15,
    "start_time": "2022-09-29T11:13:58.705Z"
   },
   {
    "duration": 210,
    "start_time": "2022-09-29T11:13:58.721Z"
   },
   {
    "duration": 223,
    "start_time": "2022-09-29T11:21:48.646Z"
   },
   {
    "duration": 250,
    "start_time": "2022-09-29T11:24:46.559Z"
   },
   {
    "duration": 2100,
    "start_time": "2022-09-29T11:24:56.583Z"
   },
   {
    "duration": 4,
    "start_time": "2022-09-29T11:24:58.685Z"
   },
   {
    "duration": 60,
    "start_time": "2022-09-29T11:24:58.690Z"
   },
   {
    "duration": 29,
    "start_time": "2022-09-29T11:24:58.752Z"
   },
   {
    "duration": 108,
    "start_time": "2022-09-29T11:24:58.782Z"
   },
   {
    "duration": 160,
    "start_time": "2022-09-29T11:24:58.891Z"
   },
   {
    "duration": 27,
    "start_time": "2022-09-29T11:24:59.053Z"
   },
   {
    "duration": 3,
    "start_time": "2022-09-29T11:24:59.082Z"
   },
   {
    "duration": 1083,
    "start_time": "2022-09-29T11:24:59.086Z"
   },
   {
    "duration": 238,
    "start_time": "2022-09-29T11:25:00.759Z"
   },
   {
    "duration": 287,
    "start_time": "2022-09-29T11:25:01.480Z"
   },
   {
    "duration": 221,
    "start_time": "2022-09-29T11:25:01.847Z"
   },
   {
    "duration": 152,
    "start_time": "2022-09-29T11:25:02.215Z"
   },
   {
    "duration": 146,
    "start_time": "2022-09-29T11:25:02.559Z"
   },
   {
    "duration": 265,
    "start_time": "2022-09-29T11:25:02.927Z"
   },
   {
    "duration": 152,
    "start_time": "2022-09-29T11:25:03.254Z"
   },
   {
    "duration": 78,
    "start_time": "2022-09-29T11:25:03.623Z"
   },
   {
    "duration": 182,
    "start_time": "2022-09-29T11:25:04.008Z"
   },
   {
    "duration": 178,
    "start_time": "2022-09-29T11:25:04.375Z"
   },
   {
    "duration": 166,
    "start_time": "2022-09-29T11:25:04.767Z"
   },
   {
    "duration": 200,
    "start_time": "2022-09-29T11:25:05.152Z"
   },
   {
    "duration": 123,
    "start_time": "2022-09-29T11:25:05.551Z"
   },
   {
    "duration": 140,
    "start_time": "2022-09-29T11:25:05.919Z"
   },
   {
    "duration": 453,
    "start_time": "2022-09-29T11:25:07.007Z"
   },
   {
    "duration": 6379,
    "start_time": "2022-09-29T11:25:07.560Z"
   },
   {
    "duration": 211,
    "start_time": "2022-09-29T11:25:13.941Z"
   },
   {
    "duration": 217,
    "start_time": "2022-09-29T11:25:14.154Z"
   },
   {
    "duration": 365,
    "start_time": "2022-09-29T11:25:14.378Z"
   },
   {
    "duration": 207,
    "start_time": "2022-09-29T11:25:14.745Z"
   },
   {
    "duration": 201,
    "start_time": "2022-09-29T11:25:14.954Z"
   },
   {
    "duration": 213,
    "start_time": "2022-09-29T11:25:15.156Z"
   },
   {
    "duration": 223,
    "start_time": "2022-09-29T11:25:15.371Z"
   },
   {
    "duration": 195,
    "start_time": "2022-09-29T11:25:15.596Z"
   },
   {
    "duration": 17,
    "start_time": "2022-09-29T11:25:15.794Z"
   },
   {
    "duration": 207,
    "start_time": "2022-09-29T11:25:15.813Z"
   },
   {
    "duration": 76,
    "start_time": "2022-09-29T11:25:16.022Z"
   },
   {
    "duration": 2593,
    "start_time": "2022-09-29T11:43:53.952Z"
   },
   {
    "duration": 4,
    "start_time": "2022-09-29T11:43:56.546Z"
   },
   {
    "duration": 68,
    "start_time": "2022-09-29T11:43:56.552Z"
   },
   {
    "duration": 9,
    "start_time": "2022-09-29T11:43:56.622Z"
   },
   {
    "duration": 106,
    "start_time": "2022-09-29T11:43:56.632Z"
   },
   {
    "duration": 191,
    "start_time": "2022-09-29T11:43:56.740Z"
   },
   {
    "duration": 13,
    "start_time": "2022-09-29T11:43:56.932Z"
   },
   {
    "duration": 3,
    "start_time": "2022-09-29T11:43:56.946Z"
   },
   {
    "duration": 1096,
    "start_time": "2022-09-29T11:43:56.951Z"
   },
   {
    "duration": 272,
    "start_time": "2022-09-29T11:43:58.050Z"
   },
   {
    "duration": 269,
    "start_time": "2022-09-29T11:43:58.324Z"
   },
   {
    "duration": 227,
    "start_time": "2022-09-29T11:43:58.595Z"
   },
   {
    "duration": 154,
    "start_time": "2022-09-29T11:43:58.824Z"
   },
   {
    "duration": 238,
    "start_time": "2022-09-29T11:43:58.981Z"
   },
   {
    "duration": 153,
    "start_time": "2022-09-29T11:43:59.222Z"
   },
   {
    "duration": 159,
    "start_time": "2022-09-29T11:43:59.376Z"
   },
   {
    "duration": 106,
    "start_time": "2022-09-29T11:43:59.537Z"
   },
   {
    "duration": 148,
    "start_time": "2022-09-29T11:43:59.644Z"
   },
   {
    "duration": 178,
    "start_time": "2022-09-29T11:43:59.794Z"
   },
   {
    "duration": 150,
    "start_time": "2022-09-29T11:43:59.974Z"
   },
   {
    "duration": 169,
    "start_time": "2022-09-29T11:44:00.126Z"
   },
   {
    "duration": 131,
    "start_time": "2022-09-29T11:44:00.297Z"
   },
   {
    "duration": 122,
    "start_time": "2022-09-29T11:44:00.430Z"
   },
   {
    "duration": 415,
    "start_time": "2022-09-29T11:44:00.554Z"
   },
   {
    "duration": 6637,
    "start_time": "2022-09-29T11:44:00.971Z"
   },
   {
    "duration": 210,
    "start_time": "2022-09-29T11:44:07.619Z"
   },
   {
    "duration": 292,
    "start_time": "2022-09-29T11:44:07.831Z"
   },
   {
    "duration": 169,
    "start_time": "2022-09-29T11:44:08.127Z"
   },
   {
    "duration": 200,
    "start_time": "2022-09-29T11:44:08.298Z"
   },
   {
    "duration": 177,
    "start_time": "2022-09-29T11:44:08.499Z"
   },
   {
    "duration": 202,
    "start_time": "2022-09-29T11:44:08.678Z"
   },
   {
    "duration": 176,
    "start_time": "2022-09-29T11:44:08.882Z"
   },
   {
    "duration": 190,
    "start_time": "2022-09-29T11:44:09.059Z"
   },
   {
    "duration": 15,
    "start_time": "2022-09-29T11:44:09.251Z"
   },
   {
    "duration": 190,
    "start_time": "2022-09-29T11:44:09.267Z"
   },
   {
    "duration": 105,
    "start_time": "2022-09-29T11:44:09.459Z"
   },
   {
    "duration": 116,
    "start_time": "2022-09-29T11:47:04.432Z"
   },
   {
    "duration": 126,
    "start_time": "2022-09-29T11:47:08.032Z"
   },
   {
    "duration": 121,
    "start_time": "2022-09-29T11:47:23.437Z"
   }
  ],
  "kernelspec": {
   "display_name": "Python 3 (ipykernel)",
   "language": "python",
   "name": "python3"
  },
  "language_info": {
   "codemirror_mode": {
    "name": "ipython",
    "version": 3
   },
   "file_extension": ".py",
   "mimetype": "text/x-python",
   "name": "python",
   "nbconvert_exporter": "python",
   "pygments_lexer": "ipython3",
   "version": "3.9.5"
  },
  "toc": {
   "base_numbering": 1,
   "nav_menu": {},
   "number_sections": true,
   "sideBar": true,
   "skip_h1_title": true,
   "title_cell": "Table of Contents",
   "title_sidebar": "Contents",
   "toc_cell": false,
   "toc_position": {},
   "toc_section_display": true,
   "toc_window_display": true
  }
 },
 "nbformat": 4,
 "nbformat_minor": 2
}
