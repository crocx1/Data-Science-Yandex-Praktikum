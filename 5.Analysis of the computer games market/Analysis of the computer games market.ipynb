{
 "cells": [
  {
   "cell_type": "markdown",
   "metadata": {},
   "source": [
    "Анализ рынка компьютерных игр\n",
    "\n",
    "\n",
    "Данный проект направлен на изучение рынка компьютерных игр и платформ. \n",
    "Основные метрики исследования - платформы, жанры игр, оценки критиков, пользователей, данные по продажам.\n",
    "\n",
    "Цель проекта проверить какие категории рабочие и на каких категориях делать упор в развитии в 2017 году. "
   ]
  },
  {
   "cell_type": "markdown",
   "metadata": {},
   "source": [
    "Шаг 1. Откройте файл с данными и изучите общую информацию\n"
   ]
  },
  {
   "cell_type": "code",
   "execution_count": 1,
   "metadata": {
    "scrolled": true
   },
   "outputs": [],
   "source": [
    "import pandas as pd\n",
    "from scipy import stats as st\n",
    "import matplotlib.pyplot as plt\n",
    "import numpy as np\n",
    "import seaborn as sb\n",
    "\n",
    "\n",
    "data = pd.read_csv('/datasets/games.csv')\n"
   ]
  },
  {
   "cell_type": "markdown",
   "metadata": {},
   "source": [
    "Шаг 2. Подготовьте данные\n",
    "\n",
    "- Замените названия столбцов (приведите к нижнему регистру);"
   ]
  },
  {
   "cell_type": "code",
   "execution_count": 2,
   "metadata": {},
   "outputs": [
    {
     "name": "stdout",
     "output_type": "stream",
     "text": [
      "<class 'pandas.core.frame.DataFrame'>\n",
      "RangeIndex: 16715 entries, 0 to 16714\n",
      "Data columns (total 11 columns):\n",
      " #   Column           Non-Null Count  Dtype  \n",
      "---  ------           --------------  -----  \n",
      " 0   Name             16713 non-null  object \n",
      " 1   Platform         16715 non-null  object \n",
      " 2   Year_of_Release  16446 non-null  float64\n",
      " 3   Genre            16713 non-null  object \n",
      " 4   NA_sales         16715 non-null  float64\n",
      " 5   EU_sales         16715 non-null  float64\n",
      " 6   JP_sales         16715 non-null  float64\n",
      " 7   Other_sales      16715 non-null  float64\n",
      " 8   Critic_Score     8137 non-null   float64\n",
      " 9   User_Score       10014 non-null  object \n",
      " 10  Rating           9949 non-null   object \n",
      "dtypes: float64(6), object(5)\n",
      "memory usage: 1.4+ MB\n",
      "None\n",
      "\n",
      "                        Name Platform  Year_of_Release         Genre  \\\n",
      "0                 Wii Sports      Wii           2006.0        Sports   \n",
      "1          Super Mario Bros.      NES           1985.0      Platform   \n",
      "2             Mario Kart Wii      Wii           2008.0        Racing   \n",
      "3          Wii Sports Resort      Wii           2009.0        Sports   \n",
      "4   Pokemon Red/Pokemon Blue       GB           1996.0  Role-Playing   \n",
      "5                     Tetris       GB           1989.0        Puzzle   \n",
      "6      New Super Mario Bros.       DS           2006.0      Platform   \n",
      "7                   Wii Play      Wii           2006.0          Misc   \n",
      "8  New Super Mario Bros. Wii      Wii           2009.0      Platform   \n",
      "9                  Duck Hunt      NES           1984.0       Shooter   \n",
      "\n",
      "   NA_sales  EU_sales  JP_sales  Other_sales  Critic_Score User_Score Rating  \n",
      "0     41.36     28.96      3.77         8.45          76.0          8      E  \n",
      "1     29.08      3.58      6.81         0.77           NaN        NaN    NaN  \n",
      "2     15.68     12.76      3.79         3.29          82.0        8.3      E  \n",
      "3     15.61     10.93      3.28         2.95          80.0          8      E  \n",
      "4     11.27      8.89     10.22         1.00           NaN        NaN    NaN  \n",
      "5     23.20      2.26      4.22         0.58           NaN        NaN    NaN  \n",
      "6     11.28      9.14      6.50         2.88          89.0        8.5      E  \n",
      "7     13.96      9.18      2.93         2.84          58.0        6.6      E  \n",
      "8     14.44      6.94      4.70         2.24          87.0        8.4      E  \n",
      "9     26.93      0.63      0.28         0.47           NaN        NaN    NaN  \n",
      "\n",
      "                        name platform  year_of_release         genre  \\\n",
      "0                 Wii Sports      Wii           2006.0        Sports   \n",
      "1          Super Mario Bros.      NES           1985.0      Platform   \n",
      "2             Mario Kart Wii      Wii           2008.0        Racing   \n",
      "3          Wii Sports Resort      Wii           2009.0        Sports   \n",
      "4   Pokemon Red/Pokemon Blue       GB           1996.0  Role-Playing   \n",
      "5                     Tetris       GB           1989.0        Puzzle   \n",
      "6      New Super Mario Bros.       DS           2006.0      Platform   \n",
      "7                   Wii Play      Wii           2006.0          Misc   \n",
      "8  New Super Mario Bros. Wii      Wii           2009.0      Platform   \n",
      "9                  Duck Hunt      NES           1984.0       Shooter   \n",
      "\n",
      "   na_sales  eu_sales  jp_sales  other_sales  critic_score user_score rating  \n",
      "0     41.36     28.96      3.77         8.45          76.0          8      E  \n",
      "1     29.08      3.58      6.81         0.77           NaN        NaN    NaN  \n",
      "2     15.68     12.76      3.79         3.29          82.0        8.3      E  \n",
      "3     15.61     10.93      3.28         2.95          80.0          8      E  \n",
      "4     11.27      8.89     10.22         1.00           NaN        NaN    NaN  \n",
      "5     23.20      2.26      4.22         0.58           NaN        NaN    NaN  \n",
      "6     11.28      9.14      6.50         2.88          89.0        8.5      E  \n",
      "7     13.96      9.18      2.93         2.84          58.0        6.6      E  \n",
      "8     14.44      6.94      4.70         2.24          87.0        8.4      E  \n",
      "9     26.93      0.63      0.28         0.47           NaN        NaN    NaN  \n"
     ]
    }
   ],
   "source": [
    "print(data.info())\n",
    "print()\n",
    "print(data.head(10))\n",
    "data = data.rename(columns={'Name': 'name', 'Platform': 'platform', 'Year_of_Release': 'year_of_release', 'Genre': 'genre', 'NA_sales': 'na_sales', 'EU_sales': 'eu_sales', 'JP_sales': 'jp_sales', 'Other_sales': 'other_sales', 'Critic_Score': 'critic_score', 'User_Score': 'user_score', 'Rating': 'rating' })\n",
    "print()\n",
    "print(data.head(10))"
   ]
  },
  {
   "cell_type": "markdown",
   "metadata": {},
   "source": [
    "Определяем и заменяем тип данных.\n",
    "\n",
    "- Преобразуйте данные в нужные типы. Опишите, в каких столбцах заменили тип данных и почему;"
   ]
  },
  {
   "cell_type": "code",
   "execution_count": 3,
   "metadata": {
    "scrolled": true
   },
   "outputs": [
    {
     "name": "stdout",
     "output_type": "stream",
     "text": [
      "\n",
      "<class 'pandas.core.frame.DataFrame'>\n",
      "RangeIndex: 16715 entries, 0 to 16714\n",
      "Data columns (total 11 columns):\n",
      " #   Column           Non-Null Count  Dtype  \n",
      "---  ------           --------------  -----  \n",
      " 0   name             16713 non-null  object \n",
      " 1   platform         16715 non-null  object \n",
      " 2   year_of_release  16446 non-null  float64\n",
      " 3   genre            16713 non-null  object \n",
      " 4   na_sales         16715 non-null  float64\n",
      " 5   eu_sales         16715 non-null  float64\n",
      " 6   jp_sales         16715 non-null  float64\n",
      " 7   other_sales      16715 non-null  float64\n",
      " 8   critic_score     8137 non-null   float64\n",
      " 9   user_score       10014 non-null  object \n",
      " 10  rating           9949 non-null   object \n",
      "dtypes: float64(6), object(5)\n",
      "memory usage: 1.4+ MB\n",
      "None\n",
      "                name platform  year_of_release     genre  na_sales  eu_sales  \\\n",
      "0         Wii Sports      Wii           2006.0    Sports     41.36     28.96   \n",
      "1  Super Mario Bros.      NES           1985.0  Platform     29.08      3.58   \n",
      "2     Mario Kart Wii      Wii           2008.0    Racing     15.68     12.76   \n",
      "\n",
      "   jp_sales  other_sales  critic_score user_score rating  \n",
      "0      3.77         8.45          76.0          8      E  \n",
      "1      6.81         0.77           NaN        NaN    NaN  \n",
      "2      3.79         3.29          82.0        8.3      E  \n",
      "\n",
      "[2006. 1985. 2008. 2009. 1996. 1989. 1984. 2005. 1999. 2007. 2010. 2013.\n",
      " 2004. 1990. 1988. 2002. 2001. 2011. 1998. 2015. 2012. 2014. 1992. 1997.\n",
      " 1993. 1994. 1982. 2016. 2003. 1986. 2000.   nan 1995. 1991. 1981. 1987.\n",
      " 1980. 1983.]\n",
      "\n",
      "[2006. 1985. 2008. 2009. 1996. 1989. 1984. 2005. 1999. 2007. 2010. 2013.\n",
      " 2004. 1990. 1988. 2002. 2001. 2011. 1998. 2015. 2012. 2014. 1992. 1997.\n",
      " 1993. 1994. 1982. 2016. 2003. 1986. 2000.    0. 1995. 1991. 1981. 1987.\n",
      " 1980. 1983.]\n",
      "\n",
      "\n",
      "['8' nan '8.3' '8.5' '6.6' '8.4' '8.6' '7.7' '6.3' '7.4' '8.2' '9' '7.9'\n",
      " '8.1' '8.7' '7.1' '3.4' '5.3' '4.8' '3.2' '8.9' '6.4' '7.8' '7.5' '2.6'\n",
      " '7.2' '9.2' '7' '7.3' '4.3' '7.6' '5.7' '5' '9.1' '6.5' 'tbd' '8.8' '6.9'\n",
      " '9.4' '6.8' '6.1' '6.7' '5.4' '4' '4.9' '4.5' '9.3' '6.2' '4.2' '6' '3.7'\n",
      " '4.1' '5.8' '5.6' '5.5' '4.4' '4.6' '5.9' '3.9' '3.1' '2.9' '5.2' '3.3'\n",
      " '4.7' '5.1' '3.5' '2.5' '1.9' '3' '2.7' '2.2' '2' '9.5' '2.1' '3.6' '2.8'\n",
      " '1.8' '3.8' '0' '1.6' '9.6' '2.4' '1.7' '1.1' '0.3' '1.5' '0.7' '1.2'\n",
      " '2.3' '0.5' '1.3' '0.2' '0.6' '1.4' '0.9' '1' '9.7']\n",
      "\n",
      "                        name platform  year_of_release         genre  \\\n",
      "0                 Wii Sports      Wii             2006        Sports   \n",
      "1          Super Mario Bros.      NES             1985      Platform   \n",
      "2             Mario Kart Wii      Wii             2008        Racing   \n",
      "3          Wii Sports Resort      Wii             2009        Sports   \n",
      "4   Pokemon Red/Pokemon Blue       GB             1996  Role-Playing   \n",
      "5                     Tetris       GB             1989        Puzzle   \n",
      "6      New Super Mario Bros.       DS             2006      Platform   \n",
      "7                   Wii Play      Wii             2006          Misc   \n",
      "8  New Super Mario Bros. Wii      Wii             2009      Platform   \n",
      "9                  Duck Hunt      NES             1984       Shooter   \n",
      "\n",
      "   na_sales  eu_sales  jp_sales  other_sales  critic_score user_score rating  \n",
      "0     41.36     28.96      3.77         8.45          76.0          8      E  \n",
      "1     29.08      3.58      6.81         0.77           NaN        NaN    NaN  \n",
      "2     15.68     12.76      3.79         3.29          82.0        8.3      E  \n",
      "3     15.61     10.93      3.28         2.95          80.0          8      E  \n",
      "4     11.27      8.89     10.22         1.00           NaN        NaN    NaN  \n",
      "5     23.20      2.26      4.22         0.58           NaN        NaN    NaN  \n",
      "6     11.28      9.14      6.50         2.88          89.0        8.5      E  \n",
      "7     13.96      9.18      2.93         2.84          58.0        6.6      E  \n",
      "8     14.44      6.94      4.70         2.24          87.0        8.4      E  \n",
      "9     26.93      0.63      0.28         0.47           NaN        NaN    NaN  \n",
      "\n",
      "<class 'pandas.core.frame.DataFrame'>\n",
      "RangeIndex: 16715 entries, 0 to 16714\n",
      "Data columns (total 11 columns):\n",
      " #   Column           Non-Null Count  Dtype  \n",
      "---  ------           --------------  -----  \n",
      " 0   name             16713 non-null  object \n",
      " 1   platform         16715 non-null  object \n",
      " 2   year_of_release  16715 non-null  int64  \n",
      " 3   genre            16713 non-null  object \n",
      " 4   na_sales         16715 non-null  float64\n",
      " 5   eu_sales         16715 non-null  float64\n",
      " 6   jp_sales         16715 non-null  float64\n",
      " 7   other_sales      16715 non-null  float64\n",
      " 8   critic_score     8137 non-null   float64\n",
      " 9   user_score       7590 non-null   object \n",
      " 10  rating           9949 non-null   object \n",
      "dtypes: float64(5), int64(1), object(5)\n",
      "memory usage: 1.4+ MB\n",
      "None\n"
     ]
    }
   ],
   "source": [
    "print()\n",
    "print(data.info())\n",
    "print(data.head(3))\n",
    "print()\n",
    "print(data['year_of_release'].unique())\n",
    "data['year_of_release'] = data['year_of_release'].fillna(0)\n",
    "print()\n",
    "print(data['year_of_release'].unique())\n",
    "print()\n",
    "data['year_of_release'] = data['year_of_release'].astype('int')\n",
    "print()\n",
    "print(data['user_score'].unique())\n",
    "print()\n",
    "print(data.head(10))\n",
    "data['user_score'] = data['user_score'].replace('tbd', np.nan)\n",
    "\n",
    "print()\n",
    "print(data.info())\n"
   ]
  },
  {
   "cell_type": "markdown",
   "metadata": {},
   "source": [
    "year_of_release  - замена на int - потому что года не могут быть дробными\n",
    "user_score - оценка, может быть дробной, заменил текстовое значение на пропуск, так как это явно ошибка. "
   ]
  },
  {
   "cell_type": "markdown",
   "metadata": {},
   "source": [
    "TBD - To Be Determined  - насколько я понимаю, что в данном контексте у игры еще нет оценок, поэтому решил удалить, что бы не было проблем с обработкой оценок. "
   ]
  },
  {
   "cell_type": "code",
   "execution_count": 4,
   "metadata": {},
   "outputs": [
    {
     "data": {
      "text/plain": [
       "array(['8', nan, '8.3', '8.5', '6.6', '8.4', '8.6', '7.7', '6.3', '7.4',\n",
       "       '8.2', '9', '7.9', '8.1', '8.7', '7.1', '3.4', '5.3', '4.8', '3.2',\n",
       "       '8.9', '6.4', '7.8', '7.5', '2.6', '7.2', '9.2', '7', '7.3', '4.3',\n",
       "       '7.6', '5.7', '5', '9.1', '6.5', '8.8', '6.9', '9.4', '6.8', '6.1',\n",
       "       '6.7', '5.4', '4', '4.9', '4.5', '9.3', '6.2', '4.2', '6', '3.7',\n",
       "       '4.1', '5.8', '5.6', '5.5', '4.4', '4.6', '5.9', '3.9', '3.1',\n",
       "       '2.9', '5.2', '3.3', '4.7', '5.1', '3.5', '2.5', '1.9', '3', '2.7',\n",
       "       '2.2', '2', '9.5', '2.1', '3.6', '2.8', '1.8', '3.8', '0', '1.6',\n",
       "       '9.6', '2.4', '1.7', '1.1', '0.3', '1.5', '0.7', '1.2', '2.3',\n",
       "       '0.5', '1.3', '0.2', '0.6', '1.4', '0.9', '1', '9.7'], dtype=object)"
      ]
     },
     "execution_count": 4,
     "metadata": {},
     "output_type": "execute_result"
    }
   ],
   "source": [
    "# код ревьюера\n",
    "data['user_score'].unique()"
   ]
  },
  {
   "cell_type": "markdown",
   "metadata": {},
   "source": [
    "Заполняем пропуски\n",
    "\n",
    "Обработайте пропуски при необходимости:\n",
    "Объясните, почему заполнили пропуски определённым образом или почему не стали это делать;\n",
    "Опишите причины, которые могли привести к пропускам;\n",
    "Обратите внимание на аббревиатуру 'tbd' в столбце с оценкой пользователей. Отдельно разберите это значение и опишите, как его обработать;"
   ]
  },
  {
   "cell_type": "code",
   "execution_count": 5,
   "metadata": {},
   "outputs": [
    {
     "name": "stdout",
     "output_type": "stream",
     "text": [
      "Заполняем пропуски\n",
      "<class 'pandas.core.frame.DataFrame'>\n",
      "RangeIndex: 16715 entries, 0 to 16714\n",
      "Data columns (total 11 columns):\n",
      " #   Column           Non-Null Count  Dtype  \n",
      "---  ------           --------------  -----  \n",
      " 0   name             16713 non-null  object \n",
      " 1   platform         16715 non-null  object \n",
      " 2   year_of_release  16715 non-null  int64  \n",
      " 3   genre            16713 non-null  object \n",
      " 4   na_sales         16715 non-null  float64\n",
      " 5   eu_sales         16715 non-null  float64\n",
      " 6   jp_sales         16715 non-null  float64\n",
      " 7   other_sales      16715 non-null  float64\n",
      " 8   critic_score     8137 non-null   float64\n",
      " 9   user_score       7590 non-null   object \n",
      " 10  rating           9949 non-null   object \n",
      "dtypes: float64(5), int64(1), object(5)\n",
      "memory usage: 1.4+ MB\n",
      "None\n"
     ]
    }
   ],
   "source": [
    "print('Заполняем пропуски')\n",
    "\n",
    "data = data.drop_duplicates().reset_index(drop=True) \n",
    "print(data.info())"
   ]
  },
  {
   "cell_type": "markdown",
   "metadata": {},
   "source": [
    "Ищем неявные дубликаты.\n",
    "В текстовых солбцах\n",
    "name             \n",
    "platform         \n",
    "genre            \n",
    "rating           "
   ]
  },
  {
   "cell_type": "code",
   "execution_count": 6,
   "metadata": {},
   "outputs": [
    {
     "name": "stdout",
     "output_type": "stream",
     "text": [
      "['Wii Sports' 'Super Mario Bros.' 'Mario Kart Wii' ...\n",
      " 'Woody Woodpecker in Crazy Castle 5' 'LMA Manager 2007'\n",
      " 'Haitaka no Psychedelica']\n",
      "['Wii' 'NES' 'GB' 'DS' 'X360' 'PS3' 'PS2' 'SNES' 'GBA' 'PS4' '3DS' 'N64'\n",
      " 'PS' 'XB' 'PC' '2600' 'PSP' 'XOne' 'WiiU' 'GC' 'GEN' 'DC' 'PSV' 'SAT'\n",
      " 'SCD' 'WS' 'NG' 'TG16' '3DO' 'GG' 'PCFX']\n",
      "['Sports' 'Platform' 'Racing' 'Role-Playing' 'Puzzle' 'Misc' 'Shooter'\n",
      " 'Simulation' 'Action' 'Fighting' 'Adventure' 'Strategy' nan]\n",
      "['E' nan 'M' 'T' 'E10+' 'K-A' 'AO' 'EC' 'RP']\n"
     ]
    }
   ],
   "source": [
    "print(data['name'].unique())\n",
    "print(data['platform'].unique())\n",
    "print(data['genre'].unique())\n",
    "print(data['rating'].unique())\n"
   ]
  },
  {
   "cell_type": "markdown",
   "metadata": {},
   "source": [
    "Судя по всему дубликатов нет. Названия пришлось открыть отдельно, так как сюда оно не влезает для проверки"
   ]
  },
  {
   "cell_type": "code",
   "execution_count": 7,
   "metadata": {},
   "outputs": [
    {
     "name": "stdout",
     "output_type": "stream",
     "text": [
      "поиск пустых\n",
      "name                  2\n",
      "platform              0\n",
      "year_of_release       0\n",
      "genre                 2\n",
      "na_sales              0\n",
      "eu_sales              0\n",
      "jp_sales              0\n",
      "other_sales           0\n",
      "critic_score       8578\n",
      "user_score         9125\n",
      "rating             6766\n",
      "dtype: int64\n",
      "\n",
      "\n",
      "name                  0\n",
      "platform              0\n",
      "year_of_release       0\n",
      "genre                 0\n",
      "na_sales              0\n",
      "eu_sales              0\n",
      "jp_sales              0\n",
      "other_sales           0\n",
      "critic_score       8576\n",
      "user_score         9123\n",
      "rating             6764\n",
      "dtype: int64\n"
     ]
    }
   ],
   "source": [
    "print('поиск пустых')\n",
    "print(data.isna().sum())\n",
    "print()\n",
    "data = data.dropna(subset=['name'])\n",
    "print()\n",
    "print(data.isna().sum())\n"
   ]
  },
  {
   "cell_type": "markdown",
   "metadata": {},
   "source": [
    "Удалил строки, где пыстые игры, потому что без понимания, что за игра, они не несут нужной информации.\n",
    "в critic_score,user_score - остваил без изменений, так как не все пользователи оставляют оценки"
   ]
  },
  {
   "cell_type": "code",
   "execution_count": 8,
   "metadata": {},
   "outputs": [
    {
     "name": "stdout",
     "output_type": "stream",
     "text": [
      "['E' 'no_rating' 'M' 'T' 'E10+' 'K-A' 'AO' 'EC' 'RP']\n"
     ]
    }
   ],
   "source": [
    "data['rating'] = data['rating'].fillna('no_rating')\n",
    "print(data['rating'].unique())\n"
   ]
  },
  {
   "cell_type": "markdown",
   "metadata": {},
   "source": [
    "Оставлю без изменения стобце - rating_nan - удалять массив нет смысла, так как выпадает большой объем данных, а по заменам нет приемлимого варианта. "
   ]
  },
  {
   "cell_type": "markdown",
   "metadata": {},
   "source": [
    "Считаем сумарные продажи\n",
    "\n",
    "Посчитайте суммарные продажи во всех регионах и запишите их в отдельный столбец."
   ]
  },
  {
   "cell_type": "code",
   "execution_count": 9,
   "metadata": {},
   "outputs": [
    {
     "name": "stdout",
     "output_type": "stream",
     "text": [
      "Считаем сумарные продажи\n",
      "\n",
      "                       name platform  year_of_release         genre  na_sales  \\\n",
      "0                Wii Sports      Wii             2006        Sports     41.36   \n",
      "1         Super Mario Bros.      NES             1985      Platform     29.08   \n",
      "2            Mario Kart Wii      Wii             2008        Racing     15.68   \n",
      "3         Wii Sports Resort      Wii             2009        Sports     15.61   \n",
      "4  Pokemon Red/Pokemon Blue       GB             1996  Role-Playing     11.27   \n",
      "\n",
      "   eu_sales  jp_sales  other_sales  critic_score user_score     rating  \\\n",
      "0     28.96      3.77         8.45          76.0          8          E   \n",
      "1      3.58      6.81         0.77           NaN        NaN  no_rating   \n",
      "2     12.76      3.79         3.29          82.0        8.3          E   \n",
      "3     10.93      3.28         2.95          80.0          8          E   \n",
      "4      8.89     10.22         1.00           NaN        NaN  no_rating   \n",
      "\n",
      "   sum_total  \n",
      "0      82.54  \n",
      "1      40.24  \n",
      "2      35.52  \n",
      "3      32.77  \n",
      "4      31.38  \n"
     ]
    }
   ],
   "source": [
    "print('Считаем сумарные продажи')\n",
    "print()\n",
    "\n",
    "data['sum_total'] = data[['na_sales', 'eu_sales', 'jp_sales', 'other_sales']].sum(axis=1)\n",
    "print(data.head())"
   ]
  },
  {
   "cell_type": "markdown",
   "metadata": {},
   "source": [
    "Шаг 3. Проведите исследовательский анализ данных\n",
    "\n",
    "Посмотрите, сколько игр выпускалось в разные годы. Важны ли данные за все периоды?\n"
   ]
  },
  {
   "cell_type": "markdown",
   "metadata": {},
   "source": [
    "Смотрим, количество игр по годам"
   ]
  },
  {
   "cell_type": "code",
   "execution_count": 10,
   "metadata": {},
   "outputs": [
    {
     "name": "stdout",
     "output_type": "stream",
     "text": [
      "year_of_release\n",
      "0        269\n",
      "1980       9\n",
      "1981      46\n",
      "1982      36\n",
      "1983      17\n",
      "1984      14\n",
      "1985      14\n",
      "1986      21\n",
      "1987      16\n",
      "1988      15\n",
      "1989      17\n",
      "1990      16\n",
      "1991      41\n",
      "1992      43\n",
      "1993      60\n",
      "1994     121\n",
      "1995     219\n",
      "1996     263\n",
      "1997     289\n",
      "1998     379\n",
      "1999     338\n",
      "2000     350\n",
      "2001     482\n",
      "2002     829\n",
      "2003     775\n",
      "2004     762\n",
      "2005     939\n",
      "2006    1006\n",
      "2007    1197\n",
      "2008    1427\n",
      "2009    1426\n",
      "2010    1255\n",
      "2011    1136\n",
      "2012     653\n",
      "2013     544\n",
      "2014     581\n",
      "2015     606\n",
      "2016     502\n",
      "Name: name, dtype: int64\n"
     ]
    }
   ],
   "source": [
    "print(data.groupby('year_of_release')['name'].count())"
   ]
  },
  {
   "cell_type": "markdown",
   "metadata": {},
   "source": [
    "Думаю, что для прогноза на 2017 надо брать периоды за последние года, где не было всплесков и перекосов. То есть от 2013 -2016. "
   ]
  },
  {
   "cell_type": "markdown",
   "metadata": {},
   "source": [
    "Посмотрите, как менялись продажи по платформам. Выберите платформы с наибольшими суммарными продажами и постройте распределение по годам. За какой характерный срок появляются новые и исчезают старые платформы?\n"
   ]
  },
  {
   "cell_type": "code",
   "execution_count": 11,
   "metadata": {},
   "outputs": [
    {
     "name": "stdout",
     "output_type": "stream",
     "text": [
      "Ищем топ платформы\n",
      "\n",
      "platform\n",
      "PS2     2161\n",
      "DS      2151\n",
      "PS3     1331\n",
      "Wii     1320\n",
      "X360    1262\n",
      "PSP     1209\n",
      "PS      1197\n",
      "PC       974\n",
      "XB       824\n",
      "GBA      822\n",
      "Name: sum_total, dtype: int64\n"
     ]
    }
   ],
   "source": [
    "print('Ищем топ платформы')\n",
    "print()\n",
    "print(data.groupby('platform')['sum_total'].count().sort_values(ascending = False).head(10))"
   ]
  },
  {
   "cell_type": "markdown",
   "metadata": {},
   "source": [
    "Посмотрите, как менялись продажи по платформам. Выберите платформы с наибольшими суммарными продажами и постройте распределение по годам. За какой характерный срок появляются новые и исчезают старые платформы?"
   ]
  },
  {
   "cell_type": "code",
   "execution_count": 12,
   "metadata": {
    "scrolled": false
   },
   "outputs": [
    {
     "name": "stdout",
     "output_type": "stream",
     "text": [
      "['Wii' 'DS' 'X360' 'PS3' 'PS2' 'GBA' 'PS' 'XB' 'PC' 'PSP']\n",
      "\n",
      "                                                          unique\n",
      "year_of_release                                                 \n",
      "0                [PS2, Wii, X360, GBA, PC, PS3, PS, PSP, XB, DS]\n",
      "1985                                                    [PC, DS]\n",
      "1988                                                        [PC]\n",
      "1992                                                        [PC]\n",
      "1994                                                    [PC, PS]\n",
      "1995                                                    [PC, PS]\n",
      "1996                                                    [PS, PC]\n",
      "1997                                                    [PS, PC]\n",
      "1998                                                    [PS, PC]\n",
      "1999                                                    [PS, PC]\n",
      "2000                                      [PS, PS2, PC, XB, GBA]\n",
      "2001                                      [PS2, XB, GBA, PS, PC]\n",
      "2002                                      [PS2, GBA, PC, XB, PS]\n",
      "2003                                      [PS2, GBA, XB, PC, PS]\n",
      "2004                                 [PS2, GBA, DS, XB, PC, PSP]\n",
      "2005                           [DS, PSP, PS2, GBA, X360, XB, PC]\n",
      "2006                 [Wii, DS, X360, PS2, PSP, PS3, GBA, XB, PC]\n",
      "2007                 [Wii, X360, DS, PS3, PS2, PC, PSP, GBA, XB]\n",
      "2008                      [Wii, X360, PS3, DS, PSP, PS2, PC, XB]\n",
      "2009                          [Wii, X360, DS, PS3, PC, PSP, PS2]\n",
      "2010                          [X360, DS, PS3, Wii, PSP, PC, PS2]\n",
      "2011                          [X360, PS3, Wii, PC, DS, PSP, PS2]\n",
      "2012                               [PS3, X360, DS, Wii, PC, PSP]\n",
      "2013                               [PS3, X360, Wii, PC, DS, PSP]\n",
      "2014                                   [PS3, X360, PC, Wii, PSP]\n",
      "2015                                   [PS3, X360, PC, Wii, PSP]\n",
      "2016                                        [PS3, PC, X360, Wii]\n"
     ]
    },
    {
     "data": {
      "text/plain": [
       "Text(0.5, 1.0, 'gba')"
      ]
     },
     "execution_count": 12,
     "metadata": {},
     "output_type": "execute_result"
    },
    {
     "data": {
      "image/png": "[encoded data removed]",
      "text/plain": [
       "<Figure size 432x288 with 1 Axes>"
      ]
     },
     "metadata": {
      "needs_background": "light"
     },
     "output_type": "display_data"
    },
    {
     "data": {
      "image/png": "[encoded data removed]",
      "text/plain": [
       "<Figure size 432x288 with 1 Axes>"
      ]
     },
     "metadata": {
      "needs_background": "light"
     },
     "output_type": "display_data"
    },
    {
     "data": {
      "image/png": "[encoded data removed]",
      "text/plain": [
       "<Figure size 432x288 with 1 Axes>"
      ]
     },
     "metadata": {
      "needs_background": "light"
     },
     "output_type": "display_data"
    },
    {
     "data": {
      "image/png": "[encoded data removed]",
      "text/plain": [
       "<Figure size 432x288 with 1 Axes>"
      ]
     },
     "metadata": {
      "needs_background": "light"
     },
     "output_type": "display_data"
    },
    {
     "data": {
      "image/png": "[encoded data removed]",
      "text/plain": [
       "<Figure size 432x288 with 1 Axes>"
      ]
     },
     "metadata": {
      "needs_background": "light"
     },
     "output_type": "display_data"
    },
    {
     "data": {
      "image/png": "[encoded data removed]",
      "text/plain": [
       "<Figure size 432x288 with 1 Axes>"
      ]
     },
     "metadata": {
      "needs_background": "light"
     },
     "output_type": "display_data"
    },
    {
     "data": {
      "image/png": "[encoded data removed]",
      "text/plain": [
       "<Figure size 432x288 with 1 Axes>"
      ]
     },
     "metadata": {
      "needs_background": "light"
     },
     "output_type": "display_data"
    },
    {
     "data": {
      "image/png": "[encoded data removed]",
      "text/plain": [
       "<Figure size 432x288 with 1 Axes>"
      ]
     },
     "metadata": {
      "needs_background": "light"
     },
     "output_type": "display_data"
    },
    {
     "data": {
      "image/png": "[encoded data removed]",
      "text/plain": [
       "<Figure size 432x288 with 1 Axes>"
      ]
     },
     "metadata": {
      "needs_background": "light"
     },
     "output_type": "display_data"
    }
   ],
   "source": [
    "top_platforms = ['PS2', 'DS', 'PS3', 'Wii', 'X360', 'PSP', 'PS', 'PC', 'XB','GBA']\n",
    "data_top = data.query('platform in @top_platforms')\n",
    "print(data_top['platform'].unique())\n",
    "print()\n",
    "print(data_top.groupby(['year_of_release']).agg(unique=('platform', 'unique')))\n",
    "\n",
    "ps2 = data[((data['platform'] == 'PS2') & (data['year_of_release'] != 0))] \n",
    "ds = data[((data['platform'] == 'DS') & (data['year_of_release'] != 0))] \n",
    "ps3 = data[((data['platform'] == 'PS3') & (data['year_of_release'] != 0))] \n",
    "wii = data[((data['platform'] == 'Wii') & (data['year_of_release'] != 0))] \n",
    "x360 = data[((data['platform'] == 'X360') & (data['year_of_release'] != 0))] \n",
    "psp = data[((data['platform'] == 'PSP') & (data['year_of_release'] != 0))] \n",
    "ps = data[((data['platform'] == 'PS') & (data['year_of_release'] != 0))] \n",
    "xb = data[((data['platform'] == 'XB') & (data['year_of_release'] != 0))] \n",
    "gba = data[((data['platform'] == 'GBA') & (data['year_of_release'] != 0))] \n",
    "\n",
    "\n",
    "\n",
    "ps2.hist(column = 'year_of_release');\n",
    "plt.title('ps2')\n",
    "ds.hist(column = 'year_of_release');\n",
    "plt.title('ds')\n",
    "ps3.hist(column = 'year_of_release');\n",
    "plt.title('ps3')\n",
    "wii.hist(column = 'year_of_release');\n",
    "plt.title('wii')\n",
    "x360.hist(column = 'year_of_release');\n",
    "plt.title('x360')\n",
    "psp.hist(column = 'year_of_release');\n",
    "plt.title('psp')\n",
    "ps.hist(column = 'year_of_release');\n",
    "plt.title('ps')\n",
    "xb.hist(column = 'year_of_release');\n",
    "plt.title('xb')\n",
    "gba.hist(column = 'year_of_release');\n",
    "plt.title('gba')\n"
   ]
  },
  {
   "cell_type": "markdown",
   "metadata": {},
   "source": [
    "Определяем сколько живет 1 платформа "
   ]
  },
  {
   "cell_type": "markdown",
   "metadata": {},
   "source": [
    "Какие платформы лидируют по продажам, растут или падают? Выберите несколько потенциально прибыльных платформ."
   ]
  },
  {
   "cell_type": "code",
   "execution_count": 13,
   "metadata": {},
   "outputs": [
    {
     "name": "stdout",
     "output_type": "stream",
     "text": [
      "          year_of_release\n",
      "platform                 \n",
      "DS                     12\n",
      "GBA                     9\n",
      "PC                     27\n",
      "PS                     11\n",
      "PS2                    13\n",
      "PS3                    12\n",
      "PSP                    13\n",
      "Wii                    12\n",
      "X360                   13\n",
      "XB                     10\n",
      "year_of_release    12.0\n",
      "dtype: float64\n",
      "year_of_release    13.2\n",
      "dtype: float64\n"
     ]
    }
   ],
   "source": [
    "data_platform_life = data_top[['platform','year_of_release']].drop_duplicates().reset_index(drop=True)\n",
    "\n",
    "print(data_platform_life.groupby('platform').count())\n",
    "print(data_platform_life.groupby('platform').count().median())\n",
    "print(data_platform_life.groupby('platform').count().mean())"
   ]
  },
  {
   "cell_type": "markdown",
   "metadata": {},
   "source": [
    "Платформы с наибольшими продажами живет примерно 9-13 лет. Пиковые продажи приходят на первые 4 года."
   ]
  },
  {
   "cell_type": "markdown",
   "metadata": {},
   "source": [
    "Для актуального периода выберем 2013-2016 года"
   ]
  },
  {
   "cell_type": "markdown",
   "metadata": {},
   "source": [
    "Отрезаем таблицу"
   ]
  },
  {
   "cell_type": "code",
   "execution_count": 14,
   "metadata": {},
   "outputs": [
    {
     "name": "stdout",
     "output_type": "stream",
     "text": [
      "                       name platform  year_of_release         genre  na_sales  \\\n",
      "0                Wii Sports      Wii             2006        Sports     41.36   \n",
      "1         Super Mario Bros.      NES             1985      Platform     29.08   \n",
      "2            Mario Kart Wii      Wii             2008        Racing     15.68   \n",
      "3         Wii Sports Resort      Wii             2009        Sports     15.61   \n",
      "4  Pokemon Red/Pokemon Blue       GB             1996  Role-Playing     11.27   \n",
      "\n",
      "   eu_sales  jp_sales  other_sales  critic_score user_score     rating  \\\n",
      "0     28.96      3.77         8.45          76.0          8          E   \n",
      "1      3.58      6.81         0.77           NaN        NaN  no_rating   \n",
      "2     12.76      3.79         3.29          82.0        8.3          E   \n",
      "3     10.93      3.28         2.95          80.0          8          E   \n",
      "4      8.89     10.22         1.00           NaN        NaN  no_rating   \n",
      "\n",
      "   sum_total  \n",
      "0      82.54  \n",
      "1      40.24  \n",
      "2      35.52  \n",
      "3      32.77  \n",
      "4      31.38  \n"
     ]
    }
   ],
   "source": [
    "print(data.head())"
   ]
  },
  {
   "cell_type": "code",
   "execution_count": 15,
   "metadata": {},
   "outputs": [
    {
     "name": "stdout",
     "output_type": "stream",
     "text": [
      "[2013 2015 2014 2016]\n",
      "\n",
      "['PS3' 'X360' 'PS4' '3DS' 'XOne' 'WiiU' 'Wii' 'PC' 'PSV' 'DS' 'PSP']\n"
     ]
    }
   ],
   "source": [
    "data = data[data['year_of_release'] >= 2013]\n",
    "print(data['year_of_release'].unique())\n",
    "print()\n",
    "print(data['platform'].unique())\n"
   ]
  },
  {
   "cell_type": "markdown",
   "metadata": {},
   "source": [
    "Поиск лидеров рынка"
   ]
  },
  {
   "cell_type": "code",
   "execution_count": 16,
   "metadata": {},
   "outputs": [
    {
     "name": "stdout",
     "output_type": "stream",
     "text": [
      "                             sum\n",
      "year_of_release platform        \n",
      "2013            3DS        56.57\n",
      "                DS          1.54\n",
      "                PC         12.38\n",
      "                PS3       113.25\n",
      "                PS4        25.99\n",
      "                PSP         3.14\n",
      "                PSV        10.59\n",
      "                Wii         8.59\n",
      "                WiiU       21.65\n",
      "                X360       88.58\n",
      "                XOne       18.96\n",
      "2014            3DS        43.76\n",
      "                PC         13.28\n",
      "                PS3        47.76\n",
      "                PS4       100.00\n",
      "                PSP         0.24\n",
      "                PSV        11.90\n",
      "                Wii         3.75\n",
      "                WiiU       22.03\n",
      "                X360       34.74\n",
      "                XOne       54.07\n",
      "2015            3DS        27.78\n",
      "                PC          8.52\n",
      "                PS3        16.82\n",
      "                PS4       118.90\n",
      "                PSP         0.12\n",
      "                PSV         6.25\n",
      "                Wii         1.14\n",
      "                WiiU       16.35\n",
      "                X360       11.96\n",
      "                XOne       60.14\n",
      "2016            3DS        15.14\n",
      "                PC          5.25\n",
      "                PS3         3.60\n",
      "                PS4        69.25\n",
      "                PSV         4.25\n",
      "                Wii         0.18\n",
      "                WiiU        4.60\n",
      "                X360        1.52\n",
      "                XOne       26.15\n",
      "\n",
      "             sum\n",
      "platform        \n",
      "PS4       314.14\n",
      "PS3       181.43\n",
      "XOne      159.32\n",
      "3DS       143.25\n",
      "X360      136.80\n",
      "WiiU       64.63\n",
      "PC         39.43\n",
      "PSV        32.99\n",
      "Wii        13.66\n",
      "PSP         3.50\n",
      "DS          1.54\n"
     ]
    }
   ],
   "source": [
    "print(data.groupby(['year_of_release', 'platform']).agg(sum=('sum_total', 'sum')))\n",
    "print()\n",
    "print(data.groupby(['platform']).agg(sum=('sum_total', 'sum')).sort_values('sum', ascending = False))"
   ]
  },
  {
   "cell_type": "markdown",
   "metadata": {},
   "source": [
    "Из наиболее прибыльных платформ - PS4, PS3,XOne,3DS,X360"
   ]
  },
  {
   "cell_type": "markdown",
   "metadata": {},
   "source": [
    "Постройте график «ящик с усами» по глобальным продажам игр в разбивке по платформам."
   ]
  },
  {
   "cell_type": "code",
   "execution_count": 17,
   "metadata": {},
   "outputs": [
    {
     "data": {
      "image/png": "[encoded data removed]",
      "text/plain": [
       "<Figure size 1224x792 with 1 Axes>"
      ]
     },
     "metadata": {
      "needs_background": "light"
     },
     "output_type": "display_data"
    }
   ],
   "source": [
    "import seaborn as sns\n",
    "\n",
    "plt.figure(figsize=(17, 11))\n",
    "sns.boxplot(data=data, y='platform', x='sum_total')\n",
    "plt.xlim(-0.1, 5)\n",
    "\n",
    "plt.title('Объемы продаж игр на разных платформах', size=17)\n",
    "plt.xlabel('Объем продаж', size=12)\n",
    "plt.ylabel('Название платформы', size=12)\n",
    "\n",
    "plt.show()"
   ]
  },
  {
   "cell_type": "markdown",
   "metadata": {},
   "source": [
    "Как видно из графика наибольшее количество копий игр продано на PS4 и Х360. На эти платформы также в среднем приходится наибольшее среднее количество проданных копий."
   ]
  },
  {
   "cell_type": "code",
   "execution_count": 18,
   "id": "d0c5cdbd",
   "metadata": {
    "scrolled": false
   },
   "outputs": [
    {
     "data": {
      "image/png": "[encoded data removed]",
      "text/plain": [
       "<Figure size 1224x792 with 1 Axes>"
      ]
     },
     "metadata": {
      "needs_background": "light"
     },
     "output_type": "display_data"
    }
   ],
   "source": [
    "# код ревьюера\n",
    "import seaborn as sns\n",
    "\n",
    "plt.figure(figsize=(17, 11))\n",
    "sns.boxplot(data=data, y='platform', x='sum_total')\n",
    "plt.xlim(-0.1, 5)\n",
    "\n",
    "plt.title('Объемы продаж игр на разных платформах', size=17)\n",
    "plt.xlabel('Объем продаж', size=12)\n",
    "plt.ylabel('Название платформы', size=12)\n",
    "\n",
    "plt.show()"
   ]
  },
  {
   "cell_type": "code",
   "execution_count": 19,
   "metadata": {},
   "outputs": [
    {
     "name": "stdout",
     "output_type": "stream",
     "text": [
      "анализ ps4\n",
      "\n",
      "['8.2' '8.1' nan '8.3' '2.6' '4.3' '5.7' '5' '6.5' '9.1' '6.1' '7.9' '5.4'\n",
      " '8.4' '6.4' '3.4' '8.5' '4.8' '9' '4.9' '4.5' '6.2' '4.2' '6.3' '7.7'\n",
      " '9.2' '7.6' '8.7' '6.7' '3.7' '7' '6.9' '4.1' '5.8' '5.6' '6.8' '5.5'\n",
      " '7.5' '4.4' '5.9' '7.2' '8.9' '3.9' '7.8' '3.2' '8.6' '3.1' '7.4' '7.3'\n",
      " '6.6' '6' '4.7' '7.1' '8.8' '5.1' '3' '2.9' '2.7' '2.2' '8' '3.5' '5.2'\n",
      " '5.3' '3.8' '4.6' '3.3' '9.3' '4' '3.6' '2.4' '2.8' '1.8' '1.7' '1.6'\n",
      " '2.1' '2' '1.5' '0.7' '2.5' '0.2' '1.9' '1.3' '1' '1.4' '2.3']\n",
      "[8.3 4.3 5.7 5.  6.5 6.1 7.9 8.1 3.4 8.4 6.3 7.7 9.2 4.9 7.6 6.7 3.7 7.\n",
      " 6.9 8.2 6.8 5.9 7.8 8.6 7.3 7.4 6.2 6.  7.1 5.1 6.6 5.4 4.5 8.8 8.5 5.2\n",
      " 7.2 7.5 5.5 3.6 5.6 8.  8.7 5.8 3.8 4.7 3.3 2.7 2.  1.5 4.1 6.4 2.9 1.9\n",
      " 3.5 2.3]\n",
      "                                       name platform  year_of_release  \\\n",
      "42                       Grand Theft Auto V      PS4             2014   \n",
      "77                                  FIFA 16      PS4             2015   \n",
      "92           Call of Duty: Advanced Warfare      PS4             2014   \n",
      "94                                  FIFA 17      PS4             2016   \n",
      "105                               Fallout 4      PS4             2015   \n",
      "143                                 FIFA 15      PS4             2014   \n",
      "154                                 Destiny      PS4             2014   \n",
      "171              Uncharted 4: A Thief's End      PS4             2016   \n",
      "231  Uncharted: The Nathan Drake Collection      PS4             2015   \n",
      "245          Call of Duty: Infinite Warfare      PS4             2016   \n",
      "\n",
      "            genre  na_sales  eu_sales  jp_sales  other_sales  critic_score  \\\n",
      "42         Action      3.96      6.31      0.38         1.97          97.0   \n",
      "77         Sports      1.12      6.12      0.06         1.28          82.0   \n",
      "92        Shooter      2.81      3.48      0.14         1.23          83.0   \n",
      "94         Sports      0.66      5.75      0.08         1.11          85.0   \n",
      "105  Role-Playing      2.53      3.27      0.24         1.13          87.0   \n",
      "143        Sports      0.80      4.33      0.05         0.90          82.0   \n",
      "154       Shooter      2.49      2.07      0.16         0.92          76.0   \n",
      "171       Shooter      1.85      2.50      0.19         0.85          93.0   \n",
      "231        Action      2.07      1.71      0.08         0.76          86.0   \n",
      "245       Shooter      1.61      2.00      0.15         0.71          77.0   \n",
      "\n",
      "     user_score rating  sum_total  \n",
      "42          8.3      M      12.62  \n",
      "77          4.3      E       8.58  \n",
      "92          5.7      M       7.66  \n",
      "94          5.0      E       7.60  \n",
      "105         6.5      M       7.17  \n",
      "143         5.7      E       6.08  \n",
      "154         6.1      T       5.64  \n",
      "171         7.9      T       5.39  \n",
      "231         8.1      T       4.62  \n",
      "245         3.4      M       4.47  \n",
      "<class 'pandas.core.frame.DataFrame'>\n",
      "Int64Index: 249 entries, 42 to 16530\n",
      "Data columns (total 12 columns):\n",
      " #   Column           Non-Null Count  Dtype  \n",
      "---  ------           --------------  -----  \n",
      " 0   name             249 non-null    object \n",
      " 1   platform         249 non-null    object \n",
      " 2   year_of_release  249 non-null    int64  \n",
      " 3   genre            249 non-null    object \n",
      " 4   na_sales         249 non-null    float64\n",
      " 5   eu_sales         249 non-null    float64\n",
      " 6   jp_sales         249 non-null    float64\n",
      " 7   other_sales      249 non-null    float64\n",
      " 8   critic_score     249 non-null    float64\n",
      " 9   user_score       249 non-null    float64\n",
      " 10  rating           249 non-null    object \n",
      " 11  sum_total        249 non-null    float64\n",
      "dtypes: float64(7), int64(1), object(4)\n",
      "memory usage: 25.3+ KB\n"
     ]
    }
   ],
   "source": [
    "print('анализ ps4')\n",
    "print()\n",
    "print(data['user_score'].unique())\n",
    "ps4 = data[(data['platform'] == 'PS4') & (data['user_score'] != 'tbd')].dropna()\n",
    "ps4['user_score'] = ps4['user_score'].astype('float')\n",
    "print(ps4['user_score'].unique())\n",
    "\n",
    "print(ps4.head(10))\n",
    "ps4.info()"
   ]
  },
  {
   "cell_type": "markdown",
   "metadata": {},
   "source": [
    "Посмотрите, как влияют на продажи внутри одной популярной платформы отзывы пользователей и критиков. Постройте диаграмму рассеяния и посчитайте корреляцию между отзывами и продажами. Сформулируйте выводы."
   ]
  },
  {
   "cell_type": "code",
   "execution_count": 20,
   "metadata": {},
   "outputs": [
    {
     "name": "stdout",
     "output_type": "stream",
     "text": [
      "0.40589480145836687\n",
      "-0.03362497596528878\n"
     ]
    },
    {
     "data": {
      "image/png": "[encoded data removed]",
      "text/plain": [
       "<Figure size 432x288 with 1 Axes>"
      ]
     },
     "metadata": {
      "needs_background": "light"
     },
     "output_type": "display_data"
    },
    {
     "data": {
      "image/png": "[encoded data removed]",
      "text/plain": [
       "<Figure size 432x288 with 1 Axes>"
      ]
     },
     "metadata": {
      "needs_background": "light"
     },
     "output_type": "display_data"
    }
   ],
   "source": [
    "ps4.plot(x='critic_score', y='sum_total', kind='scatter');\n",
    "ps4.plot(x='user_score', y='sum_total', kind='scatter');\n",
    "print(ps4['critic_score'].corr(ps4['sum_total']))\n",
    "print(ps4['user_score'].corr(ps4['sum_total']))\n"
   ]
  },
  {
   "cell_type": "markdown",
   "metadata": {},
   "source": [
    "судя по графикам критики точнее оценивают игры, чем выше оценка критиков, тем больше продаются игры. У пользователей бывают игры, которые даже с низкими оценками хорошо продаются.\n"
   ]
  },
  {
   "cell_type": "markdown",
   "metadata": {},
   "source": [
    "Соотнесите выводы с продажами игр на других платформах."
   ]
  },
  {
   "cell_type": "code",
   "execution_count": 21,
   "metadata": {},
   "outputs": [
    {
     "name": "stdout",
     "output_type": "stream",
     "text": [
      "0.3116921831260645\n",
      "-0.004063660293396326\n"
     ]
    },
    {
     "data": {
      "image/png": "[encoded data removed]",
      "text/plain": [
       "<Figure size 432x288 with 1 Axes>"
      ]
     },
     "metadata": {
      "needs_background": "light"
     },
     "output_type": "display_data"
    },
    {
     "data": {
      "image/png": "[encoded data removed]",
      "text/plain": [
       "<Figure size 432x288 with 1 Axes>"
      ]
     },
     "metadata": {
      "needs_background": "light"
     },
     "output_type": "display_data"
    }
   ],
   "source": [
    "data1 = data[data['user_score'] != 'tbd'].dropna()\n",
    "data1['user_score'] = data1['user_score'].astype('float')\n",
    "data1.plot(x='critic_score', y='sum_total', kind='scatter');\n",
    "print(data1['critic_score'].corr(data1['sum_total']))\n",
    "data1.plot(x='user_score', y='sum_total', kind='scatter');\n",
    "print(data1['user_score'].corr(data1['sum_total']))"
   ]
  },
  {
   "cell_type": "markdown",
   "metadata": {},
   "source": [
    "Судя по диаграмме тенденция схожа на всех популярных платформах"
   ]
  },
  {
   "cell_type": "markdown",
   "metadata": {},
   "source": [
    "Посмотрите на общее распределение игр по жанрам. Что можно сказать о самых прибыльных жанрах? Выделяются ли жанры с высокими и низкими продажами?"
   ]
  },
  {
   "cell_type": "code",
   "execution_count": 22,
   "metadata": {},
   "outputs": [
    {
     "name": "stdout",
     "output_type": "stream",
     "text": [
      "                 sum\n",
      "genre               \n",
      "Action        321.87\n",
      "Shooter       232.98\n",
      "Sports        150.65\n",
      "Role-Playing  145.89\n",
      "Misc           62.82\n",
      "Platform       42.63\n",
      "Racing         39.89\n",
      "Fighting       35.31\n",
      "Adventure      23.64\n",
      "Simulation     21.76\n",
      "Strategy       10.08\n",
      "Puzzle          3.17\n",
      "                 sum  game_count  mean_1_game\n",
      "genre                                        \n",
      "Adventure      23.64         245    10.363790\n",
      "Strategy       10.08          56     5.555556\n",
      "Puzzle          3.17          17     5.362776\n",
      "Simulation     21.76          62     2.849265\n",
      "Misc           62.82         155     2.467367\n",
      "Action        321.87         766     2.379843\n",
      "Fighting       35.31          80     2.265647\n",
      "Racing         39.89          85     2.130860\n",
      "Role-Playing  145.89         292     2.001508\n",
      "Platform       42.63          74     1.735867\n",
      "Sports        150.65         214     1.420511\n",
      "Shooter       232.98         187     0.802644\n"
     ]
    },
    {
     "data": {
      "image/png": "[encoded data removed]",
      "text/plain": [
       "<Figure size 792x432 with 1 Axes>"
      ]
     },
     "metadata": {},
     "output_type": "display_data"
    }
   ],
   "source": [
    "print(data.groupby(['genre']).agg(sum=('sum_total', 'sum')).sort_values('sum', ascending = False))\n",
    "\n",
    "data_genre = data.groupby(['genre']).agg(sum=('sum_total', 'sum'), game_count=('name', 'count')).sort_values('sum', ascending = False)\n",
    "data_genre['mean_1_game'] = data_genre['game_count']/data_genre['sum']\n",
    "print(data_genre.sort_values('mean_1_game', ascending = False))\n",
    "data_genre.plot.pie(y='mean_1_game', figsize=(11, 6),subplots=True);"
   ]
  },
  {
   "cell_type": "markdown",
   "metadata": {},
   "source": [
    "Top 3 продаваемых жанра - Action, Shooter, Sports. Не смотря на это, вес одной игры наиболее значим в жанрах -  Adventure, Strategy, Puzzle"
   ]
  },
  {
   "cell_type": "markdown",
   "metadata": {},
   "source": [
    "Шаг 4. Составьте портрет пользователя каждого региона\n"
   ]
  },
  {
   "cell_type": "markdown",
   "metadata": {},
   "source": [
    "Определите для пользователя каждого региона (NA, EU, JP):\n",
    "Самые популярные платформы (топ-5). Опишите различия в долях продаж.\n",
    "Самые популярные жанры (топ-5). Поясните разницу.\n",
    "Влияет ли рейтинг ESRB на продажи в отдельном регионе?"
   ]
  },
  {
   "cell_type": "code",
   "execution_count": 23,
   "metadata": {},
   "outputs": [
    {
     "name": "stdout",
     "output_type": "stream",
     "text": [
      "           total      na      eu     jp   na_diff   eu_diff   jp_diff\n",
      "platform                                                             \n",
      "PS4       314.14  108.74  141.09  15.96  0.248429  0.359712  0.113368\n",
      "PS3       181.43   63.50   67.81  23.35  0.145073  0.172883  0.165862\n",
      "XOne      159.32   93.12   51.59   0.34  0.212744  0.131530  0.002415\n",
      "3DS       143.25   38.20   30.96  67.81  0.087272  0.078933  0.481674\n",
      "X360      136.80   81.66   42.52   0.51  0.186562  0.108406  0.003623\n"
     ]
    },
    {
     "data": {
      "text/plain": [
       "Text(0.5, 1.0, 'jp_diff')"
      ]
     },
     "execution_count": 23,
     "metadata": {},
     "output_type": "execute_result"
    },
    {
     "data": {
      "image/png": "[encoded data removed]",
      "text/plain": [
       "<Figure size 432x288 with 1 Axes>"
      ]
     },
     "metadata": {
      "needs_background": "light"
     },
     "output_type": "display_data"
    },
    {
     "data": {
      "image/png": "[encoded data removed]",
      "text/plain": [
       "<Figure size 432x288 with 1 Axes>"
      ]
     },
     "metadata": {
      "needs_background": "light"
     },
     "output_type": "display_data"
    },
    {
     "data": {
      "image/png": "[encoded data removed]",
      "text/plain": [
       "<Figure size 432x288 with 1 Axes>"
      ]
     },
     "metadata": {
      "needs_background": "light"
     },
     "output_type": "display_data"
    }
   ],
   "source": [
    "platform = data.groupby(['platform']).agg(total=('sum_total', 'sum'), na=('na_sales', 'sum'), eu=('eu_sales', 'sum'), jp=('jp_sales', 'sum')).sort_values('total', ascending = False)\n",
    "platform['na_diff'] = platform['na']/(platform['na'].sum())\n",
    "platform['eu_diff'] = platform['eu']/(platform['eu'].sum())\n",
    "platform['jp_diff'] = platform['jp']/(platform['jp'].sum())\n",
    "print(platform.head())\n",
    "\n",
    "platform.plot.bar(y='na_diff');\n",
    "plt.title('na_diff')\n",
    "platform.plot.bar(y='eu_diff');\n",
    "plt.title('eu_diff')\n",
    "platform.plot.bar(y='jp_diff');\n",
    "plt.title('jp_diff')\n",
    "\n",
    "\n"
   ]
  },
  {
   "cell_type": "markdown",
   "metadata": {},
   "source": [
    "В американском и европейском регионе топ 1 попродажам занимает ps4, в японии 3DS."
   ]
  },
  {
   "cell_type": "code",
   "execution_count": 24,
   "metadata": {},
   "outputs": [
    {
     "name": "stdout",
     "output_type": "stream",
     "text": [
      "               total      na      eu     jp\n",
      "genre                                      \n",
      "Action        321.87  126.05  118.13  40.49\n",
      "Shooter       232.98  109.74   87.86   6.61\n",
      "Sports        150.65   65.27   60.52   5.41\n",
      "Role-Playing  145.89   46.40   36.97  51.04\n",
      "Misc           62.82   27.49   20.04   9.20\n",
      "Platform       42.63   18.14   15.58   4.79\n",
      "Racing         39.89   12.96   20.19   2.30\n",
      "Fighting       35.31   15.55    8.55   7.65\n",
      "Adventure      23.64    7.14    8.25   5.82\n",
      "Simulation     21.76    4.86   10.92   4.52\n",
      "Strategy       10.08    3.28    4.22   1.77\n",
      "Puzzle          3.17    0.83    1.00   1.18\n"
     ]
    },
    {
     "data": {
      "text/plain": [
       "Text(0.5, 1.0, 'jp')"
      ]
     },
     "execution_count": 24,
     "metadata": {},
     "output_type": "execute_result"
    },
    {
     "data": {
      "image/png": "[encoded data removed]",
      "text/plain": [
       "<Figure size 432x288 with 1 Axes>"
      ]
     },
     "metadata": {
      "needs_background": "light"
     },
     "output_type": "display_data"
    },
    {
     "data": {
      "image/png": "[encoded data removed]",
      "text/plain": [
       "<Figure size 432x288 with 1 Axes>"
      ]
     },
     "metadata": {
      "needs_background": "light"
     },
     "output_type": "display_data"
    },
    {
     "data": {
      "image/png": "[encoded data removed]",
      "text/plain": [
       "<Figure size 432x288 with 1 Axes>"
      ]
     },
     "metadata": {
      "needs_background": "light"
     },
     "output_type": "display_data"
    }
   ],
   "source": [
    "print(data.groupby(['genre']).agg(total=('sum_total', 'sum'), na=('na_sales', 'sum'), eu=('eu_sales', 'sum'), jp=('jp_sales', 'sum')).sort_values('total', ascending = False))\n",
    "genre = data.groupby(['genre']).agg(total=('sum_total', 'sum'), na=('na_sales', 'sum'), eu=('eu_sales', 'sum'), jp=('jp_sales', 'sum')).sort_values('total', ascending = False)\n",
    "genre.plot.bar(y='na');\n",
    "plt.title('na')\n",
    "genre.plot.bar(y='eu');\n",
    "plt.title('eu')\n",
    "genre.plot.bar(y='jp');\n",
    "plt.title('jp')"
   ]
  },
  {
   "cell_type": "markdown",
   "metadata": {},
   "source": [
    "TOP 5 самых популярных жанров в европе и америке - Action, Shooter, Sports, Role-playing, Misc. \n",
    "\n",
    "В Японии наиболее успешные жанры, это Action и Role-Playing"
   ]
  },
  {
   "cell_type": "code",
   "execution_count": 25,
   "metadata": {},
   "outputs": [
    {
     "name": "stdout",
     "output_type": "stream",
     "text": [
      "            total      na      eu     jp\n",
      "rating                                  \n",
      "M          371.68  165.21  145.32  14.11\n",
      "no_rating  276.84   89.42   78.91  85.05\n",
      "E          200.16   79.05   83.36  15.14\n",
      "T          126.62   49.79   41.95  20.59\n",
      "E10+       115.39   54.24   42.69   5.89\n"
     ]
    },
    {
     "data": {
      "text/plain": [
       "Text(0.5, 1.0, 'jp')"
      ]
     },
     "execution_count": 25,
     "metadata": {},
     "output_type": "execute_result"
    },
    {
     "data": {
      "image/png": "[encoded data removed]",
      "text/plain": [
       "<Figure size 432x288 with 1 Axes>"
      ]
     },
     "metadata": {
      "needs_background": "light"
     },
     "output_type": "display_data"
    },
    {
     "data": {
      "image/png": "[encoded data removed]",
      "text/plain": [
       "<Figure size 432x288 with 1 Axes>"
      ]
     },
     "metadata": {
      "needs_background": "light"
     },
     "output_type": "display_data"
    },
    {
     "data": {
      "image/png": "[encoded data removed]",
      "text/plain": [
       "<Figure size 432x288 with 1 Axes>"
      ]
     },
     "metadata": {
      "needs_background": "light"
     },
     "output_type": "display_data"
    }
   ],
   "source": [
    "print(data.groupby(['rating']).agg(total=('sum_total', 'sum'), na=('na_sales', 'sum'), eu=('eu_sales', 'sum'), jp=('jp_sales', 'sum')).sort_values('total', ascending = False))\n",
    "rating = data.groupby(['rating']).agg(total=('sum_total', 'sum'), na=('na_sales', 'sum'), eu=('eu_sales', 'sum'), jp=('jp_sales', 'sum')).sort_values('total', ascending = False)\n",
    "rating.plot.bar(y='na');\n",
    "plt.title('na')\n",
    "rating.plot.bar(y='eu');\n",
    "plt.title('eu')\n",
    "rating.plot.bar(y='jp');\n",
    "plt.title('jp')"
   ]
  },
  {
   "cell_type": "markdown",
   "metadata": {},
   "source": [
    "Необычные продажи есть только в Японии, где наиболее предпочтительные категории no_rating."
   ]
  },
  {
   "cell_type": "markdown",
   "metadata": {},
   "source": [
    "Шаг 5. Проверьте гипотезы\n",
    "Средние пользовательские рейтинги платформ Xbox One и PC одинаковые;\n",
    "\n",
    "0я гипотеза - Средние пользовательские рейтинги платформ Xbox One и PC одинаковые"
   ]
  },
  {
   "cell_type": "code",
   "execution_count": 26,
   "metadata": {},
   "outputs": [
    {
     "name": "stdout",
     "output_type": "stream",
     "text": [
      "0.14759594013430463\n",
      "Не получилось отвергнуть нулевую гипотезу\n"
     ]
    }
   ],
   "source": [
    "data_hip = data[data['user_score'] != 'tbd'].dropna(subset=['user_score'])\n",
    "data_hip['user_score'] = data_hip['user_score'].astype('float')\n",
    "\n",
    "xone = data_hip[data_hip['platform']=='XOne']['user_score']\n",
    "pc = data_hip[data_hip['platform']=='PC']['user_score']\n",
    "\n",
    "alpha = .05\n",
    "results = st.ttest_ind(xone, pc, equal_var = False)\n",
    "\n",
    "print(results.pvalue)\n",
    "if results.pvalue < alpha:\n",
    "    print('Отвергаем нулевую гипотезу')\n",
    "else:\n",
    "    print('Не получилось отвергнуть нулевую гипотезу')\n"
   ]
  },
  {
   "cell_type": "markdown",
   "metadata": {},
   "source": [
    "Рейтинг игр на Х360 и ПК разный\n",
    "\n",
    "Гипотеза - X360 и PC имеют схожий рейтнг - значение расхождения больше допустимого - гипотеза не подтвердилась"
   ]
  },
  {
   "cell_type": "markdown",
   "metadata": {},
   "source": [
    "Средние пользовательские рейтинги жанров Action (англ. «действие», экшен-игры) и Sports (англ. «спортивные соревнования») разные.\n",
    "\n",
    "0я гипотеза = Средние пользовательские рейтинги жанров Action и Sports одинаковые.\n"
   ]
  },
  {
   "cell_type": "code",
   "execution_count": 27,
   "metadata": {},
   "outputs": [
    {
     "name": "stdout",
     "output_type": "stream",
     "text": [
      "0.00032050491803798287\n",
      "Отвергаем нулевую гипотезу\n"
     ]
    }
   ],
   "source": [
    "action = data_hip[data_hip['genre']=='Action']['user_score']\n",
    "shooter = data_hip[data_hip['genre']=='Shooter']['user_score']\n",
    "\n",
    "alpha = .05\n",
    "results = st.ttest_ind(action, shooter, equal_var = False)\n",
    "\n",
    "print(results.pvalue)\n",
    "if results.pvalue < alpha:\n",
    "    print('Отвергаем нулевую гипотезу')\n",
    "else:\n",
    "    print('Не получилось отвергнуть нулевую гипотезу')\n"
   ]
  },
  {
   "cell_type": "markdown",
   "metadata": {},
   "source": [
    "Вывод - \n",
    "\n",
    "Данный проект направлен на изучение рынка компьютерных игр и платформ. \n",
    "\n",
    "Цель проекта проверить какие категории рабочие и на каких категориях делать упор в развитии в 2017 году. \n",
    "\n",
    "Данные делаются на исследованиях последних нескольких лет c 2013-2016. \n",
    "\n",
    "В среднем платформы существуют около 9-13 лет. Наиболее пиковые значения продаж они достигают на 2-4 году развития. \n",
    "\n",
    "PS4, PS3, 3DS и X360 - наиболее прибыльные платформы, за последние несолько лет.\n",
    "\n",
    "Платформы Wii и X360 - имеют наибольший средний чек\n",
    "\n",
    "При расчете корреляции было выявлено, что критики наиболее точно выявляют игры с высоким рейтингом и продажами, на их мнение можно сделать упор при анализе рынка.\n",
    "\n",
    "Top 3 продаваемых жанра - Action, Shooter, Sports. Не смотря на это, вес одной игры наиболее значим в жанрах -  Adventure, Strategy, Puzzle\n",
    "\n",
    "В американском и европейском регионе топ 1 попродажам занимает ps4, в японии 3DS.\n",
    "\n",
    "TOP 5 самых популярных жанров в европе и америке - Action, Shooter, Sports, Role-playing, Misc. \n",
    "\n",
    "В Японии наиболее успешные жанры, это Action и Role-Playing\n"
   ]
  }
 ],
 "metadata": {
  "ExecuteTimeLog": [
   {
    "duration": 1445,
    "start_time": "2022-10-12T12:10:42.695Z"
   },
   {
    "duration": 104,
    "start_time": "2022-10-12T12:10:53.749Z"
   },
   {
    "duration": 67,
    "start_time": "2022-10-12T12:11:22.258Z"
   },
   {
    "duration": 20,
    "start_time": "2022-10-12T14:00:14.874Z"
   },
   {
    "duration": 19,
    "start_time": "2022-10-12T14:03:12.037Z"
   },
   {
    "duration": 21,
    "start_time": "2022-10-12T14:03:16.597Z"
   },
   {
    "duration": 91,
    "start_time": "2022-10-12T14:03:57.650Z"
   },
   {
    "duration": 1466,
    "start_time": "2022-10-13T05:32:44.189Z"
   },
   {
    "duration": 99,
    "start_time": "2022-10-13T05:32:46.414Z"
   },
   {
    "duration": 21,
    "start_time": "2022-10-13T05:32:53.254Z"
   },
   {
    "duration": 13,
    "start_time": "2022-10-13T05:33:01.284Z"
   },
   {
    "duration": 19,
    "start_time": "2022-10-13T05:33:14.904Z"
   },
   {
    "duration": 46,
    "start_time": "2022-10-13T05:41:14.374Z"
   },
   {
    "duration": 28,
    "start_time": "2022-10-13T05:42:01.413Z"
   },
   {
    "duration": 24,
    "start_time": "2022-10-13T05:46:54.609Z"
   },
   {
    "duration": 38,
    "start_time": "2022-10-13T05:47:23.824Z"
   },
   {
    "duration": 39,
    "start_time": "2022-10-13T05:47:54.038Z"
   },
   {
    "duration": 67,
    "start_time": "2022-10-13T05:48:04.874Z"
   },
   {
    "duration": 43,
    "start_time": "2022-10-13T05:48:07.228Z"
   },
   {
    "duration": 33,
    "start_time": "2022-10-13T05:50:58.304Z"
   },
   {
    "duration": 40,
    "start_time": "2022-10-13T05:51:40.233Z"
   },
   {
    "duration": 52,
    "start_time": "2022-10-13T05:52:34.418Z"
   },
   {
    "duration": 44,
    "start_time": "2022-10-13T05:52:55.233Z"
   },
   {
    "duration": 39,
    "start_time": "2022-10-13T05:53:05.943Z"
   },
   {
    "duration": 36,
    "start_time": "2022-10-13T05:54:01.993Z"
   },
   {
    "duration": 36,
    "start_time": "2022-10-13T05:54:21.383Z"
   },
   {
    "duration": 47,
    "start_time": "2022-10-13T05:57:12.834Z"
   },
   {
    "duration": 28,
    "start_time": "2022-10-13T05:57:22.009Z"
   },
   {
    "duration": 34,
    "start_time": "2022-10-13T05:57:51.543Z"
   },
   {
    "duration": 37,
    "start_time": "2022-10-13T05:58:07.183Z"
   },
   {
    "duration": 31,
    "start_time": "2022-10-13T05:58:21.174Z"
   },
   {
    "duration": 26,
    "start_time": "2022-10-13T05:58:47.875Z"
   },
   {
    "duration": 30,
    "start_time": "2022-10-13T05:59:53.103Z"
   },
   {
    "duration": 28,
    "start_time": "2022-10-13T06:00:11.993Z"
   },
   {
    "duration": 30,
    "start_time": "2022-10-13T06:00:16.004Z"
   },
   {
    "duration": 29,
    "start_time": "2022-10-13T06:00:21.189Z"
   },
   {
    "duration": 31,
    "start_time": "2022-10-13T06:00:26.373Z"
   },
   {
    "duration": 30,
    "start_time": "2022-10-13T06:00:45.833Z"
   },
   {
    "duration": 29,
    "start_time": "2022-10-13T06:00:54.828Z"
   },
   {
    "duration": 40,
    "start_time": "2022-10-13T06:01:49.773Z"
   },
   {
    "duration": 33,
    "start_time": "2022-10-13T06:01:57.563Z"
   },
   {
    "duration": 43,
    "start_time": "2022-10-13T06:02:52.364Z"
   },
   {
    "duration": 33,
    "start_time": "2022-10-13T06:03:45.298Z"
   },
   {
    "duration": 24,
    "start_time": "2022-10-13T06:04:10.373Z"
   },
   {
    "duration": 51,
    "start_time": "2022-10-13T06:04:52.975Z"
   },
   {
    "duration": 51,
    "start_time": "2022-10-13T13:10:11.634Z"
   },
   {
    "duration": 1597,
    "start_time": "2022-10-13T13:10:16.679Z"
   },
   {
    "duration": 91,
    "start_time": "2022-10-13T13:10:18.839Z"
   },
   {
    "duration": 33,
    "start_time": "2022-10-13T13:11:08.714Z"
   },
   {
    "duration": 35,
    "start_time": "2022-10-13T13:11:30.907Z"
   },
   {
    "duration": 35,
    "start_time": "2022-10-13T13:12:37.877Z"
   },
   {
    "duration": 27,
    "start_time": "2022-10-13T13:19:27.219Z"
   },
   {
    "duration": 10,
    "start_time": "2022-10-13T13:23:30.978Z"
   },
   {
    "duration": 5,
    "start_time": "2022-10-13T13:23:44.142Z"
   },
   {
    "duration": 69,
    "start_time": "2022-10-13T13:25:12.660Z"
   },
   {
    "duration": 37,
    "start_time": "2022-10-13T13:25:15.863Z"
   },
   {
    "duration": 24,
    "start_time": "2022-10-13T13:25:20.874Z"
   },
   {
    "duration": 6,
    "start_time": "2022-10-13T13:25:23.903Z"
   },
   {
    "duration": 4,
    "start_time": "2022-10-13T13:25:44.729Z"
   },
   {
    "duration": 5,
    "start_time": "2022-10-13T13:25:57.959Z"
   },
   {
    "duration": 7,
    "start_time": "2022-10-13T13:26:10.054Z"
   },
   {
    "duration": 4,
    "start_time": "2022-10-13T13:26:19.349Z"
   },
   {
    "duration": 5,
    "start_time": "2022-10-13T13:26:28.069Z"
   },
   {
    "duration": 6,
    "start_time": "2022-10-13T13:26:54.874Z"
   },
   {
    "duration": 9,
    "start_time": "2022-10-13T13:27:08.706Z"
   },
   {
    "duration": 11,
    "start_time": "2022-10-13T13:33:57.615Z"
   },
   {
    "duration": 9,
    "start_time": "2022-10-13T13:34:07.668Z"
   },
   {
    "duration": 8,
    "start_time": "2022-10-13T13:34:12.659Z"
   },
   {
    "duration": 10,
    "start_time": "2022-10-13T13:35:14.154Z"
   },
   {
    "duration": 16,
    "start_time": "2022-10-13T13:38:45.373Z"
   },
   {
    "duration": 10,
    "start_time": "2022-10-13T13:43:37.589Z"
   },
   {
    "duration": 5,
    "start_time": "2022-10-13T13:43:57.883Z"
   },
   {
    "duration": 6,
    "start_time": "2022-10-13T13:44:07.579Z"
   },
   {
    "duration": 17,
    "start_time": "2022-10-13T13:44:53.323Z"
   },
   {
    "duration": 87,
    "start_time": "2022-10-13T13:55:00.363Z"
   },
   {
    "duration": 52,
    "start_time": "2022-10-13T13:55:00.693Z"
   },
   {
    "duration": 26,
    "start_time": "2022-10-13T13:55:01.029Z"
   },
   {
    "duration": 8,
    "start_time": "2022-10-13T13:55:01.377Z"
   },
   {
    "duration": 16,
    "start_time": "2022-10-13T13:55:01.734Z"
   },
   {
    "duration": 14,
    "start_time": "2022-10-13T13:55:02.069Z"
   },
   {
    "duration": 33,
    "start_time": "2022-10-13T13:57:33.854Z"
   },
   {
    "duration": 22,
    "start_time": "2022-10-13T13:57:34.164Z"
   },
   {
    "duration": 9,
    "start_time": "2022-10-13T13:57:34.505Z"
   },
   {
    "duration": 18,
    "start_time": "2022-10-13T13:57:34.829Z"
   },
   {
    "duration": 13,
    "start_time": "2022-10-13T13:57:35.174Z"
   },
   {
    "duration": 16,
    "start_time": "2022-10-13T14:06:08.434Z"
   },
   {
    "duration": 12,
    "start_time": "2022-10-13T14:06:23.474Z"
   },
   {
    "duration": 1348,
    "start_time": "2022-10-13T14:57:17.089Z"
   },
   {
    "duration": 1337,
    "start_time": "2022-10-13T14:57:29.884Z"
   },
   {
    "duration": 15,
    "start_time": "2022-10-13T15:01:08.689Z"
   },
   {
    "duration": 72,
    "start_time": "2022-10-13T15:01:21.785Z"
   },
   {
    "duration": 35,
    "start_time": "2022-10-13T15:01:22.144Z"
   },
   {
    "duration": 26,
    "start_time": "2022-10-13T15:01:22.484Z"
   },
   {
    "duration": 8,
    "start_time": "2022-10-13T15:01:22.859Z"
   },
   {
    "duration": 17,
    "start_time": "2022-10-13T15:01:23.213Z"
   },
   {
    "duration": 12,
    "start_time": "2022-10-13T15:01:23.559Z"
   },
   {
    "duration": 13,
    "start_time": "2022-10-13T15:01:24.103Z"
   },
   {
    "duration": 11,
    "start_time": "2022-10-13T15:01:32.319Z"
   },
   {
    "duration": 16,
    "start_time": "2022-10-13T15:04:10.224Z"
   },
   {
    "duration": 25,
    "start_time": "2022-10-13T15:04:28.644Z"
   },
   {
    "duration": 16,
    "start_time": "2022-10-13T15:04:36.294Z"
   },
   {
    "duration": 22,
    "start_time": "2022-10-13T15:04:43.394Z"
   },
   {
    "duration": 7,
    "start_time": "2022-10-13T15:04:50.984Z"
   },
   {
    "duration": 1315,
    "start_time": "2022-10-14T03:53:02.761Z"
   },
   {
    "duration": 35,
    "start_time": "2022-10-14T03:53:04.078Z"
   },
   {
    "duration": 28,
    "start_time": "2022-10-14T03:53:04.115Z"
   },
   {
    "duration": 7,
    "start_time": "2022-10-14T03:53:04.145Z"
   },
   {
    "duration": 20,
    "start_time": "2022-10-14T03:53:04.153Z"
   },
   {
    "duration": 11,
    "start_time": "2022-10-14T03:53:04.231Z"
   },
   {
    "duration": 11,
    "start_time": "2022-10-14T03:53:04.776Z"
   },
   {
    "duration": 6,
    "start_time": "2022-10-14T03:53:05.106Z"
   },
   {
    "duration": 10,
    "start_time": "2022-10-14T04:10:10.101Z"
   },
   {
    "duration": 6,
    "start_time": "2022-10-14T04:10:53.066Z"
   },
   {
    "duration": 105,
    "start_time": "2022-10-14T04:11:11.661Z"
   },
   {
    "duration": 13,
    "start_time": "2022-10-14T04:11:19.746Z"
   },
   {
    "duration": 11,
    "start_time": "2022-10-14T04:11:52.600Z"
   },
   {
    "duration": 15,
    "start_time": "2022-10-14T04:12:22.075Z"
   },
   {
    "duration": 6,
    "start_time": "2022-10-14T04:12:29.391Z"
   },
   {
    "duration": 6,
    "start_time": "2022-10-14T04:12:43.100Z"
   },
   {
    "duration": 6,
    "start_time": "2022-10-14T04:13:07.012Z"
   },
   {
    "duration": 8,
    "start_time": "2022-10-14T04:21:14.681Z"
   },
   {
    "duration": 15,
    "start_time": "2022-10-14T04:21:26.335Z"
   },
   {
    "duration": 15,
    "start_time": "2022-10-14T04:34:23.501Z"
   },
   {
    "duration": 11,
    "start_time": "2022-10-14T04:35:18.092Z"
   },
   {
    "duration": 36,
    "start_time": "2022-10-14T04:35:33.337Z"
   },
   {
    "duration": 26,
    "start_time": "2022-10-14T04:36:47.901Z"
   },
   {
    "duration": 13,
    "start_time": "2022-10-14T04:37:31.581Z"
   },
   {
    "duration": 31,
    "start_time": "2022-10-14T04:38:42.831Z"
   },
   {
    "duration": 9,
    "start_time": "2022-10-14T04:42:26.931Z"
   },
   {
    "duration": 13,
    "start_time": "2022-10-14T04:42:46.051Z"
   },
   {
    "duration": 14,
    "start_time": "2022-10-14T04:44:49.081Z"
   },
   {
    "duration": 11,
    "start_time": "2022-10-14T04:45:35.222Z"
   },
   {
    "duration": 10,
    "start_time": "2022-10-14T04:45:48.641Z"
   },
   {
    "duration": 14,
    "start_time": "2022-10-14T04:46:09.271Z"
   },
   {
    "duration": 41,
    "start_time": "2022-10-14T04:46:56.576Z"
   },
   {
    "duration": 9,
    "start_time": "2022-10-14T04:47:00.117Z"
   },
   {
    "duration": 9,
    "start_time": "2022-10-14T04:47:18.251Z"
   },
   {
    "duration": 9,
    "start_time": "2022-10-14T04:47:31.841Z"
   },
   {
    "duration": 86,
    "start_time": "2022-10-14T04:48:14.592Z"
   },
   {
    "duration": 9,
    "start_time": "2022-10-14T04:48:19.671Z"
   },
   {
    "duration": 9,
    "start_time": "2022-10-14T04:48:53.744Z"
   },
   {
    "duration": 13,
    "start_time": "2022-10-14T04:49:02.582Z"
   },
   {
    "duration": 842,
    "start_time": "2022-10-14T04:49:34.412Z"
   },
   {
    "duration": 13,
    "start_time": "2022-10-14T04:49:46.200Z"
   },
   {
    "duration": 14,
    "start_time": "2022-10-14T04:49:57.051Z"
   },
   {
    "duration": 19,
    "start_time": "2022-10-14T04:50:03.121Z"
   },
   {
    "duration": 793,
    "start_time": "2022-10-14T04:50:26.781Z"
   },
   {
    "duration": 12,
    "start_time": "2022-10-14T04:50:35.301Z"
   },
   {
    "duration": 11,
    "start_time": "2022-10-14T04:51:14.153Z"
   },
   {
    "duration": 10,
    "start_time": "2022-10-14T04:51:37.991Z"
   },
   {
    "duration": 18,
    "start_time": "2022-10-14T04:51:44.457Z"
   },
   {
    "duration": 18,
    "start_time": "2022-10-14T04:51:57.641Z"
   },
   {
    "duration": 12,
    "start_time": "2022-10-14T04:52:08.692Z"
   },
   {
    "duration": 33,
    "start_time": "2022-10-14T04:53:03.641Z"
   },
   {
    "duration": 23,
    "start_time": "2022-10-14T04:53:10.346Z"
   },
   {
    "duration": 18,
    "start_time": "2022-10-14T04:53:32.531Z"
   },
   {
    "duration": 16,
    "start_time": "2022-10-14T04:53:45.601Z"
   },
   {
    "duration": 16,
    "start_time": "2022-10-14T04:55:22.311Z"
   },
   {
    "duration": 32,
    "start_time": "2022-10-14T04:55:39.241Z"
   },
   {
    "duration": 21,
    "start_time": "2022-10-14T04:56:01.871Z"
   },
   {
    "duration": 11,
    "start_time": "2022-10-14T12:13:18.987Z"
   },
   {
    "duration": 9,
    "start_time": "2022-10-14T12:15:34.007Z"
   },
   {
    "duration": 9,
    "start_time": "2022-10-14T12:15:39.782Z"
   },
   {
    "duration": 9,
    "start_time": "2022-10-14T12:15:49.687Z"
   },
   {
    "duration": 9,
    "start_time": "2022-10-14T12:15:55.767Z"
   },
   {
    "duration": 72,
    "start_time": "2022-10-14T12:16:00.125Z"
   },
   {
    "duration": 37,
    "start_time": "2022-10-14T12:16:00.467Z"
   },
   {
    "duration": 24,
    "start_time": "2022-10-14T12:16:00.783Z"
   },
   {
    "duration": 14,
    "start_time": "2022-10-14T12:16:01.138Z"
   },
   {
    "duration": 18,
    "start_time": "2022-10-14T12:16:01.457Z"
   },
   {
    "duration": 13,
    "start_time": "2022-10-14T12:16:01.808Z"
   },
   {
    "duration": 10,
    "start_time": "2022-10-14T12:16:02.407Z"
   },
   {
    "duration": 6,
    "start_time": "2022-10-14T12:16:02.811Z"
   },
   {
    "duration": 9,
    "start_time": "2022-10-14T12:16:03.154Z"
   },
   {
    "duration": 23,
    "start_time": "2022-10-14T12:16:03.345Z"
   },
   {
    "duration": 11,
    "start_time": "2022-10-14T12:16:03.941Z"
   },
   {
    "duration": 8,
    "start_time": "2022-10-14T12:16:04.106Z"
   },
   {
    "duration": 11,
    "start_time": "2022-10-14T12:16:22.367Z"
   },
   {
    "duration": 71,
    "start_time": "2022-10-14T12:16:25.897Z"
   },
   {
    "duration": 43,
    "start_time": "2022-10-14T12:16:26.244Z"
   },
   {
    "duration": 33,
    "start_time": "2022-10-14T12:16:26.582Z"
   },
   {
    "duration": 10,
    "start_time": "2022-10-14T12:16:26.948Z"
   },
   {
    "duration": 20,
    "start_time": "2022-10-14T12:16:27.341Z"
   },
   {
    "duration": 17,
    "start_time": "2022-10-14T12:16:27.652Z"
   },
   {
    "duration": 16,
    "start_time": "2022-10-14T12:16:28.228Z"
   },
   {
    "duration": 7,
    "start_time": "2022-10-14T12:16:28.562Z"
   },
   {
    "duration": 10,
    "start_time": "2022-10-14T12:16:28.936Z"
   },
   {
    "duration": 22,
    "start_time": "2022-10-14T12:16:30.052Z"
   },
   {
    "duration": 7,
    "start_time": "2022-10-14T12:16:30.609Z"
   },
   {
    "duration": 10,
    "start_time": "2022-10-14T12:16:30.792Z"
   },
   {
    "duration": 9,
    "start_time": "2022-10-14T12:16:35.882Z"
   },
   {
    "duration": 18,
    "start_time": "2022-10-14T12:18:08.228Z"
   },
   {
    "duration": 17,
    "start_time": "2022-10-14T12:18:36.628Z"
   },
   {
    "duration": 23,
    "start_time": "2022-10-14T12:18:59.342Z"
   },
   {
    "duration": 19,
    "start_time": "2022-10-14T12:19:05.872Z"
   },
   {
    "duration": 13,
    "start_time": "2022-10-14T13:52:20.511Z"
   },
   {
    "duration": 18,
    "start_time": "2022-10-14T13:53:57.885Z"
   },
   {
    "duration": 10,
    "start_time": "2022-10-14T13:54:59.186Z"
   },
   {
    "duration": 19,
    "start_time": "2022-10-14T13:54:59.893Z"
   },
   {
    "duration": 10,
    "start_time": "2022-10-14T13:55:06.786Z"
   },
   {
    "duration": 19,
    "start_time": "2022-10-14T13:55:09.201Z"
   },
   {
    "duration": 124,
    "start_time": "2022-10-14T13:58:16.837Z"
   },
   {
    "duration": 217,
    "start_time": "2022-10-14T13:59:13.638Z"
   },
   {
    "duration": 146,
    "start_time": "2022-10-14T13:59:46.882Z"
   },
   {
    "duration": 112,
    "start_time": "2022-10-14T13:59:55.569Z"
   },
   {
    "duration": 121,
    "start_time": "2022-10-14T14:00:31.335Z"
   },
   {
    "duration": 111,
    "start_time": "2022-10-14T14:00:39.551Z"
   },
   {
    "duration": 112,
    "start_time": "2022-10-14T14:23:00.113Z"
   },
   {
    "duration": 105,
    "start_time": "2022-10-14T14:23:05.981Z"
   },
   {
    "duration": 175,
    "start_time": "2022-10-14T14:23:12.552Z"
   },
   {
    "duration": 103,
    "start_time": "2022-10-14T14:23:40.634Z"
   },
   {
    "duration": 103,
    "start_time": "2022-10-14T14:23:49.910Z"
   },
   {
    "duration": 104,
    "start_time": "2022-10-14T14:24:07.651Z"
   },
   {
    "duration": 188,
    "start_time": "2022-10-14T14:24:15.335Z"
   },
   {
    "duration": 13,
    "start_time": "2022-10-14T14:26:26.497Z"
   },
   {
    "duration": 107,
    "start_time": "2022-10-14T14:26:34.867Z"
   },
   {
    "duration": 1380,
    "start_time": "2022-10-14T17:04:49.726Z"
   },
   {
    "duration": 44,
    "start_time": "2022-10-14T17:04:52.177Z"
   },
   {
    "duration": 30,
    "start_time": "2022-10-14T17:04:52.698Z"
   },
   {
    "duration": 10,
    "start_time": "2022-10-14T17:04:53.052Z"
   },
   {
    "duration": 26,
    "start_time": "2022-10-14T17:04:53.432Z"
   },
   {
    "duration": 13,
    "start_time": "2022-10-14T17:04:53.801Z"
   },
   {
    "duration": 12,
    "start_time": "2022-10-14T17:04:54.352Z"
   },
   {
    "duration": 7,
    "start_time": "2022-10-14T17:04:54.741Z"
   },
   {
    "duration": 7,
    "start_time": "2022-10-14T17:04:55.141Z"
   },
   {
    "duration": 26,
    "start_time": "2022-10-14T17:04:55.332Z"
   },
   {
    "duration": 9,
    "start_time": "2022-10-14T17:04:55.946Z"
   },
   {
    "duration": 10,
    "start_time": "2022-10-14T17:04:56.131Z"
   },
   {
    "duration": 20,
    "start_time": "2022-10-14T17:04:56.517Z"
   },
   {
    "duration": 216,
    "start_time": "2022-10-14T17:04:56.917Z"
   },
   {
    "duration": 142,
    "start_time": "2022-10-14T17:05:38.377Z"
   },
   {
    "duration": 127,
    "start_time": "2022-10-14T17:05:48.507Z"
   },
   {
    "duration": 152,
    "start_time": "2022-10-14T17:08:59.692Z"
   },
   {
    "duration": 153,
    "start_time": "2022-10-14T17:09:10.122Z"
   },
   {
    "duration": 279,
    "start_time": "2022-10-14T17:13:50.811Z"
   },
   {
    "duration": 236,
    "start_time": "2022-10-14T17:19:49.237Z"
   },
   {
    "duration": 46,
    "start_time": "2022-10-14T17:19:58.822Z"
   },
   {
    "duration": 109,
    "start_time": "2022-10-14T17:20:07.327Z"
   },
   {
    "duration": 82,
    "start_time": "2022-10-14T17:20:12.527Z"
   },
   {
    "duration": 68,
    "start_time": "2022-10-14T17:20:17.687Z"
   },
   {
    "duration": 35,
    "start_time": "2022-10-14T17:20:18.652Z"
   },
   {
    "duration": 27,
    "start_time": "2022-10-14T17:20:19.142Z"
   },
   {
    "duration": 8,
    "start_time": "2022-10-14T17:20:19.522Z"
   },
   {
    "duration": 18,
    "start_time": "2022-10-14T17:20:19.862Z"
   },
   {
    "duration": 14,
    "start_time": "2022-10-14T17:20:20.457Z"
   },
   {
    "duration": 11,
    "start_time": "2022-10-14T17:20:21.042Z"
   },
   {
    "duration": 5,
    "start_time": "2022-10-14T17:20:21.432Z"
   },
   {
    "duration": 7,
    "start_time": "2022-10-14T17:20:21.807Z"
   },
   {
    "duration": 24,
    "start_time": "2022-10-14T17:20:21.997Z"
   },
   {
    "duration": 7,
    "start_time": "2022-10-14T17:20:22.677Z"
   },
   {
    "duration": 10,
    "start_time": "2022-10-14T17:20:22.752Z"
   },
   {
    "duration": 24,
    "start_time": "2022-10-14T17:20:23.132Z"
   },
   {
    "duration": 41,
    "start_time": "2022-10-14T17:20:23.547Z"
   },
   {
    "duration": 281,
    "start_time": "2022-10-14T17:20:32.507Z"
   },
   {
    "duration": 347,
    "start_time": "2022-10-14T17:20:40.497Z"
   },
   {
    "duration": 271,
    "start_time": "2022-10-14T17:20:50.572Z"
   },
   {
    "duration": 301,
    "start_time": "2022-10-14T17:20:59.542Z"
   },
   {
    "duration": 294,
    "start_time": "2022-10-14T17:21:07.027Z"
   },
   {
    "duration": 11,
    "start_time": "2022-10-14T17:28:42.613Z"
   },
   {
    "duration": 12,
    "start_time": "2022-10-14T17:29:15.286Z"
   },
   {
    "duration": 6,
    "start_time": "2022-10-14T17:29:24.637Z"
   },
   {
    "duration": 5,
    "start_time": "2022-10-14T17:29:33.147Z"
   },
   {
    "duration": 9,
    "start_time": "2022-10-14T17:29:44.192Z"
   },
   {
    "duration": 11,
    "start_time": "2022-10-14T17:32:04.037Z"
   },
   {
    "duration": 5,
    "start_time": "2022-10-14T17:34:49.942Z"
   },
   {
    "duration": 5,
    "start_time": "2022-10-14T17:35:13.656Z"
   },
   {
    "duration": 49,
    "start_time": "2022-10-14T17:35:39.812Z"
   },
   {
    "duration": 4,
    "start_time": "2022-10-14T17:36:25.956Z"
   },
   {
    "duration": 12,
    "start_time": "2022-10-14T17:38:35.477Z"
   },
   {
    "duration": 39,
    "start_time": "2022-10-14T17:39:50.947Z"
   },
   {
    "duration": 68,
    "start_time": "2022-10-14T17:40:08.176Z"
   },
   {
    "duration": 63,
    "start_time": "2022-10-14T17:40:14.835Z"
   },
   {
    "duration": 36,
    "start_time": "2022-10-14T17:40:15.186Z"
   },
   {
    "duration": 28,
    "start_time": "2022-10-14T17:40:15.557Z"
   },
   {
    "duration": 12,
    "start_time": "2022-10-14T17:40:15.927Z"
   },
   {
    "duration": 16,
    "start_time": "2022-10-14T17:40:16.507Z"
   },
   {
    "duration": 14,
    "start_time": "2022-10-14T17:40:16.882Z"
   },
   {
    "duration": 11,
    "start_time": "2022-10-14T17:40:17.482Z"
   },
   {
    "duration": 7,
    "start_time": "2022-10-14T17:40:18.056Z"
   },
   {
    "duration": 7,
    "start_time": "2022-10-14T17:40:18.511Z"
   },
   {
    "duration": 25,
    "start_time": "2022-10-14T17:40:18.706Z"
   },
   {
    "duration": 10,
    "start_time": "2022-10-14T17:40:19.317Z"
   },
   {
    "duration": 9,
    "start_time": "2022-10-14T17:40:19.497Z"
   },
   {
    "duration": 21,
    "start_time": "2022-10-14T17:40:19.936Z"
   },
   {
    "duration": 281,
    "start_time": "2022-10-14T17:40:20.362Z"
   },
   {
    "duration": 12,
    "start_time": "2022-10-14T17:40:20.786Z"
   },
   {
    "duration": 67,
    "start_time": "2022-10-14T17:40:20.991Z"
   },
   {
    "duration": 9,
    "start_time": "2022-10-14T17:40:30.537Z"
   },
   {
    "duration": 226,
    "start_time": "2022-10-14T17:46:17.097Z"
   },
   {
    "duration": 313,
    "start_time": "2022-10-14T17:53:56.816Z"
   },
   {
    "duration": 11,
    "start_time": "2022-10-14T17:57:44.087Z"
   },
   {
    "duration": 11,
    "start_time": "2022-10-14T17:58:19.522Z"
   },
   {
    "duration": 15,
    "start_time": "2022-10-14T17:58:43.427Z"
   },
   {
    "duration": 17,
    "start_time": "2022-10-14T17:58:58.177Z"
   },
   {
    "duration": 10,
    "start_time": "2022-10-14T17:59:21.027Z"
   },
   {
    "duration": 58,
    "start_time": "2022-10-14T18:02:20.527Z"
   },
   {
    "duration": 20,
    "start_time": "2022-10-14T18:02:26.787Z"
   },
   {
    "duration": 20,
    "start_time": "2022-10-14T18:03:09.527Z"
   },
   {
    "duration": 16,
    "start_time": "2022-10-14T18:04:37.577Z"
   },
   {
    "duration": 16,
    "start_time": "2022-10-14T18:05:02.977Z"
   },
   {
    "duration": 62,
    "start_time": "2022-10-14T18:05:43.867Z"
   },
   {
    "duration": 41,
    "start_time": "2022-10-14T18:05:44.182Z"
   },
   {
    "duration": 26,
    "start_time": "2022-10-14T18:05:44.526Z"
   },
   {
    "duration": 9,
    "start_time": "2022-10-14T18:05:44.882Z"
   },
   {
    "duration": 18,
    "start_time": "2022-10-14T18:05:45.277Z"
   },
   {
    "duration": 13,
    "start_time": "2022-10-14T18:05:45.627Z"
   },
   {
    "duration": 14,
    "start_time": "2022-10-14T18:05:46.222Z"
   },
   {
    "duration": 6,
    "start_time": "2022-10-14T18:05:46.631Z"
   },
   {
    "duration": 7,
    "start_time": "2022-10-14T18:05:46.967Z"
   },
   {
    "duration": 23,
    "start_time": "2022-10-14T18:05:47.192Z"
   },
   {
    "duration": 9,
    "start_time": "2022-10-14T18:05:47.817Z"
   },
   {
    "duration": 10,
    "start_time": "2022-10-14T18:05:47.992Z"
   },
   {
    "duration": 19,
    "start_time": "2022-10-14T18:05:48.376Z"
   },
   {
    "duration": 296,
    "start_time": "2022-10-14T18:05:48.787Z"
   },
   {
    "duration": 10,
    "start_time": "2022-10-14T18:05:49.187Z"
   },
   {
    "duration": 10,
    "start_time": "2022-10-14T18:05:49.397Z"
   },
   {
    "duration": 54,
    "start_time": "2022-10-14T18:05:49.577Z"
   },
   {
    "duration": 226,
    "start_time": "2022-10-14T18:05:49.757Z"
   },
   {
    "duration": 236,
    "start_time": "2022-10-14T18:05:50.190Z"
   },
   {
    "duration": 12,
    "start_time": "2022-10-14T18:05:50.787Z"
   },
   {
    "duration": 18,
    "start_time": "2022-10-14T18:05:51.212Z"
   },
   {
    "duration": 13,
    "start_time": "2022-10-14T18:06:17.457Z"
   },
   {
    "duration": 13,
    "start_time": "2022-10-14T18:06:28.926Z"
   },
   {
    "duration": 14,
    "start_time": "2022-10-14T18:07:05.007Z"
   },
   {
    "duration": 21,
    "start_time": "2022-10-14T18:07:45.546Z"
   },
   {
    "duration": 18,
    "start_time": "2022-10-14T18:09:31.626Z"
   },
   {
    "duration": 15,
    "start_time": "2022-10-14T18:14:48.557Z"
   },
   {
    "duration": 18,
    "start_time": "2022-10-14T18:15:12.832Z"
   },
   {
    "duration": 20,
    "start_time": "2022-10-14T18:16:42.752Z"
   },
   {
    "duration": 23,
    "start_time": "2022-10-14T18:19:01.017Z"
   },
   {
    "duration": 20,
    "start_time": "2022-10-14T18:19:14.485Z"
   },
   {
    "duration": 23,
    "start_time": "2022-10-14T18:20:18.707Z"
   },
   {
    "duration": 21,
    "start_time": "2022-10-14T18:21:31.081Z"
   },
   {
    "duration": 30,
    "start_time": "2022-10-14T18:23:22.772Z"
   },
   {
    "duration": 19,
    "start_time": "2022-10-14T18:25:47.301Z"
   },
   {
    "duration": 21,
    "start_time": "2022-10-14T18:32:56.606Z"
   },
   {
    "duration": 45,
    "start_time": "2022-10-15T15:58:53.728Z"
   },
   {
    "duration": 6,
    "start_time": "2022-10-15T15:59:09.572Z"
   },
   {
    "duration": 1267,
    "start_time": "2022-10-15T15:59:18.837Z"
   },
   {
    "duration": 34,
    "start_time": "2022-10-15T15:59:20.105Z"
   },
   {
    "duration": 26,
    "start_time": "2022-10-15T15:59:20.141Z"
   },
   {
    "duration": 8,
    "start_time": "2022-10-15T15:59:20.169Z"
   },
   {
    "duration": 15,
    "start_time": "2022-10-15T15:59:20.201Z"
   },
   {
    "duration": 12,
    "start_time": "2022-10-15T15:59:20.506Z"
   },
   {
    "duration": 11,
    "start_time": "2022-10-15T15:59:21.051Z"
   },
   {
    "duration": 7,
    "start_time": "2022-10-15T15:59:21.392Z"
   },
   {
    "duration": 6,
    "start_time": "2022-10-15T15:59:21.777Z"
   },
   {
    "duration": 24,
    "start_time": "2022-10-15T15:59:21.984Z"
   },
   {
    "duration": 8,
    "start_time": "2022-10-15T15:59:22.537Z"
   },
   {
    "duration": 9,
    "start_time": "2022-10-15T15:59:22.706Z"
   },
   {
    "duration": 17,
    "start_time": "2022-10-15T15:59:23.111Z"
   },
   {
    "duration": 276,
    "start_time": "2022-10-15T15:59:23.507Z"
   },
   {
    "duration": 10,
    "start_time": "2022-10-15T15:59:23.882Z"
   },
   {
    "duration": 10,
    "start_time": "2022-10-15T15:59:24.083Z"
   },
   {
    "duration": 41,
    "start_time": "2022-10-15T15:59:24.277Z"
   },
   {
    "duration": 260,
    "start_time": "2022-10-15T15:59:24.489Z"
   },
   {
    "duration": 218,
    "start_time": "2022-10-15T15:59:24.862Z"
   },
   {
    "duration": 14,
    "start_time": "2022-10-15T15:59:25.252Z"
   },
   {
    "duration": 20,
    "start_time": "2022-10-15T15:59:25.655Z"
   },
   {
    "duration": 18,
    "start_time": "2022-10-15T15:59:26.047Z"
   },
   {
    "duration": 16,
    "start_time": "2022-10-15T15:59:26.441Z"
   },
   {
    "duration": 63,
    "start_time": "2022-10-15T15:59:26.842Z"
   },
   {
    "duration": 7,
    "start_time": "2022-10-15T15:59:46.509Z"
   },
   {
    "duration": 7,
    "start_time": "2022-10-15T16:00:15.797Z"
   },
   {
    "duration": 6,
    "start_time": "2022-10-15T16:00:28.582Z"
   },
   {
    "duration": 7,
    "start_time": "2022-10-15T16:00:50.603Z"
   },
   {
    "duration": 13,
    "start_time": "2022-10-15T16:01:55.377Z"
   },
   {
    "duration": 16,
    "start_time": "2022-10-15T16:02:32.657Z"
   },
   {
    "duration": 19,
    "start_time": "2022-10-15T16:02:46.283Z"
   },
   {
    "duration": 12,
    "start_time": "2022-10-15T16:03:04.750Z"
   },
   {
    "duration": 12,
    "start_time": "2022-10-15T16:03:26.783Z"
   },
   {
    "duration": 14,
    "start_time": "2022-10-15T16:03:41.794Z"
   },
   {
    "duration": 12,
    "start_time": "2022-10-15T16:03:58.817Z"
   },
   {
    "duration": 12,
    "start_time": "2022-10-15T16:04:33.572Z"
   },
   {
    "duration": 12,
    "start_time": "2022-10-15T16:04:44.947Z"
   },
   {
    "duration": 15,
    "start_time": "2022-10-15T16:05:06.613Z"
   },
   {
    "duration": 14,
    "start_time": "2022-10-15T16:05:22.432Z"
   },
   {
    "duration": 21,
    "start_time": "2022-10-15T16:09:14.267Z"
   },
   {
    "duration": 15,
    "start_time": "2022-10-15T16:10:51.067Z"
   },
   {
    "duration": 14,
    "start_time": "2022-10-15T16:11:04.067Z"
   },
   {
    "duration": 7,
    "start_time": "2022-10-15T16:13:23.147Z"
   },
   {
    "duration": 15,
    "start_time": "2022-10-15T16:14:53.822Z"
   },
   {
    "duration": 9,
    "start_time": "2022-10-15T16:15:00.767Z"
   },
   {
    "duration": 7,
    "start_time": "2022-10-15T16:15:43.106Z"
   },
   {
    "duration": 8,
    "start_time": "2022-10-15T16:17:02.831Z"
   },
   {
    "duration": 8,
    "start_time": "2022-10-15T16:17:24.982Z"
   },
   {
    "duration": 2179,
    "start_time": "2022-10-16T04:33:38.039Z"
   },
   {
    "duration": 40,
    "start_time": "2022-10-16T04:33:40.221Z"
   },
   {
    "duration": 45,
    "start_time": "2022-10-16T04:33:40.263Z"
   },
   {
    "duration": 24,
    "start_time": "2022-10-16T04:33:40.311Z"
   },
   {
    "duration": 24,
    "start_time": "2022-10-16T04:33:40.338Z"
   },
   {
    "duration": 13,
    "start_time": "2022-10-16T04:33:40.364Z"
   },
   {
    "duration": 13,
    "start_time": "2022-10-16T04:33:40.390Z"
   },
   {
    "duration": 7,
    "start_time": "2022-10-16T04:33:40.405Z"
   },
   {
    "duration": 9,
    "start_time": "2022-10-16T04:33:40.415Z"
   },
   {
    "duration": 62,
    "start_time": "2022-10-16T04:33:40.427Z"
   },
   {
    "duration": 11,
    "start_time": "2022-10-16T04:33:40.491Z"
   },
   {
    "duration": 11,
    "start_time": "2022-10-16T04:33:40.504Z"
   },
   {
    "duration": 21,
    "start_time": "2022-10-16T04:33:40.517Z"
   },
   {
    "duration": 390,
    "start_time": "2022-10-16T04:33:40.540Z"
   },
   {
    "duration": 14,
    "start_time": "2022-10-16T04:33:40.932Z"
   },
   {
    "duration": 19,
    "start_time": "2022-10-16T04:33:40.949Z"
   },
   {
    "duration": 288,
    "start_time": "2022-10-16T04:33:40.970Z"
   },
   {
    "duration": 288,
    "start_time": "2022-10-16T04:33:41.260Z"
   },
   {
    "duration": 19,
    "start_time": "2022-10-16T04:33:41.550Z"
   },
   {
    "duration": 40,
    "start_time": "2022-10-16T04:33:41.573Z"
   },
   {
    "duration": 26,
    "start_time": "2022-10-16T04:33:41.616Z"
   },
   {
    "duration": 24,
    "start_time": "2022-10-16T04:33:41.644Z"
   },
   {
    "duration": 25,
    "start_time": "2022-10-16T04:33:41.689Z"
   },
   {
    "duration": 22,
    "start_time": "2022-10-16T04:33:41.716Z"
   },
   {
    "duration": 108,
    "start_time": "2022-10-16T04:54:22.503Z"
   },
   {
    "duration": 212,
    "start_time": "2022-10-16T04:54:36.866Z"
   },
   {
    "duration": 1215,
    "start_time": "2022-10-16T05:12:52.740Z"
   },
   {
    "duration": 47,
    "start_time": "2022-10-16T05:12:53.957Z"
   },
   {
    "duration": 28,
    "start_time": "2022-10-16T05:12:54.006Z"
   },
   {
    "duration": 8,
    "start_time": "2022-10-16T05:12:54.037Z"
   },
   {
    "duration": 21,
    "start_time": "2022-10-16T05:12:54.047Z"
   },
   {
    "duration": 31,
    "start_time": "2022-10-16T05:12:54.070Z"
   },
   {
    "duration": 15,
    "start_time": "2022-10-16T05:12:54.103Z"
   },
   {
    "duration": 9,
    "start_time": "2022-10-16T05:12:54.120Z"
   },
   {
    "duration": 23,
    "start_time": "2022-10-16T05:12:54.130Z"
   },
   {
    "duration": 33,
    "start_time": "2022-10-16T05:12:54.155Z"
   },
   {
    "duration": 12,
    "start_time": "2022-10-16T05:12:54.190Z"
   },
   {
    "duration": 27,
    "start_time": "2022-10-16T05:12:54.204Z"
   },
   {
    "duration": 24,
    "start_time": "2022-10-16T05:12:54.233Z"
   },
   {
    "duration": 348,
    "start_time": "2022-10-16T05:12:54.258Z"
   },
   {
    "duration": 229,
    "start_time": "2022-10-16T05:12:54.608Z"
   },
   {
    "duration": 11,
    "start_time": "2022-10-16T05:12:54.840Z"
   },
   {
    "duration": 11,
    "start_time": "2022-10-16T05:12:54.853Z"
   },
   {
    "duration": 282,
    "start_time": "2022-10-16T05:12:54.866Z"
   },
   {
    "duration": 305,
    "start_time": "2022-10-16T05:12:55.150Z"
   },
   {
    "duration": 13,
    "start_time": "2022-10-16T05:12:55.457Z"
   },
   {
    "duration": 55,
    "start_time": "2022-10-16T05:12:55.472Z"
   },
   {
    "duration": 19,
    "start_time": "2022-10-16T05:12:55.528Z"
   },
   {
    "duration": 27,
    "start_time": "2022-10-16T05:12:55.549Z"
   },
   {
    "duration": 23,
    "start_time": "2022-10-16T05:12:55.577Z"
   },
   {
    "duration": 20,
    "start_time": "2022-10-16T05:12:55.603Z"
   },
   {
    "duration": 1346,
    "start_time": "2022-10-16T14:39:12.872Z"
   },
   {
    "duration": 28,
    "start_time": "2022-10-16T14:39:27.251Z"
   },
   {
    "duration": 116,
    "start_time": "2022-10-16T14:39:48.162Z"
   },
   {
    "duration": 41,
    "start_time": "2022-10-16T14:40:34.161Z"
   },
   {
    "duration": 30,
    "start_time": "2022-10-16T14:40:34.841Z"
   },
   {
    "duration": 31,
    "start_time": "2022-10-16T14:40:36.896Z"
   },
   {
    "duration": 34,
    "start_time": "2022-10-16T14:40:54.697Z"
   },
   {
    "duration": 29,
    "start_time": "2022-10-16T14:42:29.966Z"
   },
   {
    "duration": 12,
    "start_time": "2022-10-16T14:44:12.312Z"
   },
   {
    "duration": 13,
    "start_time": "2022-10-16T14:44:16.931Z"
   },
   {
    "duration": 15,
    "start_time": "2022-10-16T14:44:22.262Z"
   },
   {
    "duration": 9,
    "start_time": "2022-10-16T14:44:36.831Z"
   },
   {
    "duration": 13,
    "start_time": "2022-10-16T14:44:43.931Z"
   },
   {
    "duration": 13,
    "start_time": "2022-10-16T14:44:52.763Z"
   },
   {
    "duration": 6,
    "start_time": "2022-10-16T14:45:48.791Z"
   },
   {
    "duration": 7,
    "start_time": "2022-10-16T14:46:05.455Z"
   },
   {
    "duration": 36,
    "start_time": "2022-10-16T14:46:11.442Z"
   },
   {
    "duration": 27,
    "start_time": "2022-10-16T14:46:11.801Z"
   },
   {
    "duration": 32,
    "start_time": "2022-10-16T14:46:12.682Z"
   },
   {
    "duration": 28,
    "start_time": "2022-10-16T14:46:13.431Z"
   },
   {
    "duration": 13,
    "start_time": "2022-10-16T14:46:14.306Z"
   },
   {
    "duration": 15,
    "start_time": "2022-10-16T14:46:17.196Z"
   },
   {
    "duration": 6,
    "start_time": "2022-10-16T14:46:18.792Z"
   },
   {
    "duration": 50,
    "start_time": "2022-10-16T14:48:00.607Z"
   },
   {
    "duration": 25,
    "start_time": "2022-10-16T14:48:30.292Z"
   },
   {
    "duration": 15,
    "start_time": "2022-10-16T14:49:10.575Z"
   },
   {
    "duration": 41,
    "start_time": "2022-10-16T14:50:48.922Z"
   },
   {
    "duration": 41,
    "start_time": "2022-10-16T14:51:33.498Z"
   },
   {
    "duration": 496,
    "start_time": "2022-10-16T14:51:49.411Z"
   },
   {
    "duration": 165,
    "start_time": "2022-10-16T14:52:46.922Z"
   },
   {
    "duration": 29,
    "start_time": "2022-10-16T14:53:01.642Z"
   },
   {
    "duration": 162,
    "start_time": "2022-10-16T14:53:21.747Z"
   },
   {
    "duration": 6,
    "start_time": "2022-10-16T14:54:11.071Z"
   },
   {
    "duration": 30,
    "start_time": "2022-10-16T14:55:28.987Z"
   },
   {
    "duration": 587,
    "start_time": "2022-10-16T14:55:36.507Z"
   },
   {
    "duration": 580,
    "start_time": "2022-10-16T14:55:43.801Z"
   },
   {
    "duration": 174,
    "start_time": "2022-10-16T14:56:05.437Z"
   },
   {
    "duration": 175,
    "start_time": "2022-10-16T14:56:59.187Z"
   },
   {
    "duration": 37,
    "start_time": "2022-10-16T14:57:09.758Z"
   },
   {
    "duration": 27,
    "start_time": "2022-10-16T14:57:10.092Z"
   },
   {
    "duration": 35,
    "start_time": "2022-10-16T14:57:10.797Z"
   },
   {
    "duration": 28,
    "start_time": "2022-10-16T14:57:11.702Z"
   },
   {
    "duration": 8,
    "start_time": "2022-10-16T14:57:12.087Z"
   },
   {
    "duration": 15,
    "start_time": "2022-10-16T14:57:12.452Z"
   },
   {
    "duration": 8,
    "start_time": "2022-10-16T14:57:13.017Z"
   },
   {
    "duration": 13,
    "start_time": "2022-10-16T14:57:13.802Z"
   },
   {
    "duration": 7,
    "start_time": "2022-10-16T14:57:14.382Z"
   },
   {
    "duration": 7,
    "start_time": "2022-10-16T14:57:15.052Z"
   },
   {
    "duration": 166,
    "start_time": "2022-10-16T14:57:15.277Z"
   },
   {
    "duration": 31,
    "start_time": "2022-10-16T14:57:34.862Z"
   },
   {
    "duration": 26,
    "start_time": "2022-10-16T14:58:28.252Z"
   },
   {
    "duration": 220,
    "start_time": "2022-10-16T14:58:44.423Z"
   },
   {
    "duration": 171,
    "start_time": "2022-10-16T14:59:10.297Z"
   },
   {
    "duration": 157,
    "start_time": "2022-10-16T14:59:49.772Z"
   },
   {
    "duration": 235,
    "start_time": "2022-10-16T15:00:26.134Z"
   },
   {
    "duration": 474,
    "start_time": "2022-10-16T15:00:48.282Z"
   },
   {
    "duration": 155,
    "start_time": "2022-10-16T15:01:44.547Z"
   },
   {
    "duration": 156,
    "start_time": "2022-10-16T15:03:52.113Z"
   },
   {
    "duration": 1183,
    "start_time": "2022-10-16T15:04:31.228Z"
   },
   {
    "duration": 1300,
    "start_time": "2022-10-16T15:05:52.579Z"
   },
   {
    "duration": 4,
    "start_time": "2022-10-16T15:08:01.739Z"
   },
   {
    "duration": 12,
    "start_time": "2022-10-16T15:08:13.073Z"
   },
   {
    "duration": 49,
    "start_time": "2022-10-16T15:08:26.938Z"
   },
   {
    "duration": 11,
    "start_time": "2022-10-16T15:08:32.537Z"
   },
   {
    "duration": 17,
    "start_time": "2022-10-16T15:08:45.253Z"
   },
   {
    "duration": 636,
    "start_time": "2022-10-16T15:10:18.783Z"
   },
   {
    "duration": 9,
    "start_time": "2022-10-16T15:10:30.638Z"
   },
   {
    "duration": 8,
    "start_time": "2022-10-16T15:11:17.489Z"
   },
   {
    "duration": 8,
    "start_time": "2022-10-16T15:11:38.728Z"
   },
   {
    "duration": 8,
    "start_time": "2022-10-16T15:12:00.848Z"
   },
   {
    "duration": 10,
    "start_time": "2022-10-16T15:12:06.474Z"
   },
   {
    "duration": 8,
    "start_time": "2022-10-16T15:12:12.178Z"
   },
   {
    "duration": 9,
    "start_time": "2022-10-16T15:13:05.768Z"
   },
   {
    "duration": 12,
    "start_time": "2022-10-16T15:13:19.413Z"
   },
   {
    "duration": 11,
    "start_time": "2022-10-16T15:13:34.058Z"
   },
   {
    "duration": 12,
    "start_time": "2022-10-16T15:13:49.148Z"
   },
   {
    "duration": 17,
    "start_time": "2022-10-16T15:14:05.308Z"
   },
   {
    "duration": 1241,
    "start_time": "2022-10-16T15:16:04.493Z"
   },
   {
    "duration": 1387,
    "start_time": "2022-10-16T15:16:52.898Z"
   },
   {
    "duration": 10,
    "start_time": "2022-10-16T15:18:18.413Z"
   },
   {
    "duration": 9,
    "start_time": "2022-10-16T15:18:21.439Z"
   },
   {
    "duration": 6,
    "start_time": "2022-10-16T15:19:00.559Z"
   },
   {
    "duration": 6,
    "start_time": "2022-10-16T15:19:11.154Z"
   },
   {
    "duration": 15,
    "start_time": "2022-10-16T15:19:23.761Z"
   },
   {
    "duration": 8,
    "start_time": "2022-10-16T15:19:29.724Z"
   },
   {
    "duration": 6,
    "start_time": "2022-10-16T15:19:31.883Z"
   },
   {
    "duration": 37,
    "start_time": "2022-10-16T15:19:54.714Z"
   },
   {
    "duration": 27,
    "start_time": "2022-10-16T15:19:55.048Z"
   },
   {
    "duration": 32,
    "start_time": "2022-10-16T15:19:55.698Z"
   },
   {
    "duration": 26,
    "start_time": "2022-10-16T15:19:56.568Z"
   },
   {
    "duration": 8,
    "start_time": "2022-10-16T15:19:56.944Z"
   },
   {
    "duration": 19,
    "start_time": "2022-10-16T15:19:57.299Z"
   },
   {
    "duration": 6,
    "start_time": "2022-10-16T15:19:58.171Z"
   },
   {
    "duration": 11,
    "start_time": "2022-10-16T15:19:58.604Z"
   },
   {
    "duration": 6,
    "start_time": "2022-10-16T15:19:59.129Z"
   },
   {
    "duration": 7,
    "start_time": "2022-10-16T15:19:59.559Z"
   },
   {
    "duration": 1141,
    "start_time": "2022-10-16T15:19:59.709Z"
   },
   {
    "duration": 15,
    "start_time": "2022-10-16T15:20:00.853Z"
   },
   {
    "duration": 12,
    "start_time": "2022-10-16T15:20:03.560Z"
   },
   {
    "duration": 8,
    "start_time": "2022-10-16T15:20:04.594Z"
   },
   {
    "duration": 6,
    "start_time": "2022-10-16T15:20:47.073Z"
   },
   {
    "duration": 37,
    "start_time": "2022-10-16T15:20:51.144Z"
   },
   {
    "duration": 25,
    "start_time": "2022-10-16T15:20:51.493Z"
   },
   {
    "duration": 37,
    "start_time": "2022-10-16T15:20:52.209Z"
   },
   {
    "duration": 25,
    "start_time": "2022-10-16T15:20:53.143Z"
   },
   {
    "duration": 8,
    "start_time": "2022-10-16T15:20:53.509Z"
   },
   {
    "duration": 16,
    "start_time": "2022-10-16T15:20:53.893Z"
   },
   {
    "duration": 7,
    "start_time": "2022-10-16T15:20:54.490Z"
   },
   {
    "duration": 11,
    "start_time": "2022-10-16T15:20:55.279Z"
   },
   {
    "duration": 6,
    "start_time": "2022-10-16T15:20:55.869Z"
   },
   {
    "duration": 6,
    "start_time": "2022-10-16T15:20:56.291Z"
   },
   {
    "duration": 1151,
    "start_time": "2022-10-16T15:20:56.435Z"
   },
   {
    "duration": 21,
    "start_time": "2022-10-16T15:20:57.588Z"
   },
   {
    "duration": 11,
    "start_time": "2022-10-16T15:20:58.213Z"
   },
   {
    "duration": 7,
    "start_time": "2022-10-16T15:21:00.643Z"
   },
   {
    "duration": 20,
    "start_time": "2022-10-16T15:21:05.989Z"
   },
   {
    "duration": 22,
    "start_time": "2022-10-16T15:21:41.743Z"
   },
   {
    "duration": 18,
    "start_time": "2022-10-16T15:21:55.224Z"
   },
   {
    "duration": 610,
    "start_time": "2022-10-16T15:22:35.049Z"
   },
   {
    "duration": 270,
    "start_time": "2022-10-16T15:23:27.363Z"
   },
   {
    "duration": 10,
    "start_time": "2022-10-16T15:24:25.714Z"
   },
   {
    "duration": 10,
    "start_time": "2022-10-16T15:24:31.019Z"
   },
   {
    "duration": 10,
    "start_time": "2022-10-16T15:25:06.475Z"
   },
   {
    "duration": 11,
    "start_time": "2022-10-16T15:25:20.941Z"
   },
   {
    "duration": 263,
    "start_time": "2022-10-16T15:25:24.143Z"
   },
   {
    "duration": 37,
    "start_time": "2022-10-16T15:25:50.358Z"
   },
   {
    "duration": 28,
    "start_time": "2022-10-16T15:25:50.704Z"
   },
   {
    "duration": 32,
    "start_time": "2022-10-16T15:25:51.374Z"
   },
   {
    "duration": 27,
    "start_time": "2022-10-16T15:25:52.340Z"
   },
   {
    "duration": 8,
    "start_time": "2022-10-16T15:25:52.630Z"
   },
   {
    "duration": 17,
    "start_time": "2022-10-16T15:25:52.989Z"
   },
   {
    "duration": 5,
    "start_time": "2022-10-16T15:25:53.564Z"
   },
   {
    "duration": 11,
    "start_time": "2022-10-16T15:25:54.369Z"
   },
   {
    "duration": 7,
    "start_time": "2022-10-16T15:25:54.849Z"
   },
   {
    "duration": 6,
    "start_time": "2022-10-16T15:25:55.214Z"
   },
   {
    "duration": 1087,
    "start_time": "2022-10-16T15:25:55.397Z"
   },
   {
    "duration": 18,
    "start_time": "2022-10-16T15:25:56.486Z"
   },
   {
    "duration": 7,
    "start_time": "2022-10-16T15:25:56.749Z"
   },
   {
    "duration": 7,
    "start_time": "2022-10-16T15:25:56.945Z"
   },
   {
    "duration": 21,
    "start_time": "2022-10-16T15:25:57.534Z"
   },
   {
    "duration": 391,
    "start_time": "2022-10-16T15:25:58.161Z"
   },
   {
    "duration": 250,
    "start_time": "2022-10-16T15:25:58.734Z"
   },
   {
    "duration": 10,
    "start_time": "2022-10-16T15:25:59.054Z"
   },
   {
    "duration": 233,
    "start_time": "2022-10-16T15:25:59.304Z"
   },
   {
    "duration": 10,
    "start_time": "2022-10-16T15:27:11.906Z"
   },
   {
    "duration": 268,
    "start_time": "2022-10-16T15:27:15.664Z"
   },
   {
    "duration": 289,
    "start_time": "2022-10-16T15:27:34.249Z"
   },
   {
    "duration": 228,
    "start_time": "2022-10-16T15:39:43.214Z"
   },
   {
    "duration": 421,
    "start_time": "2022-10-16T15:40:11.469Z"
   },
   {
    "duration": 286,
    "start_time": "2022-10-16T15:40:44.974Z"
   },
   {
    "duration": 349,
    "start_time": "2022-10-16T15:41:14.452Z"
   },
   {
    "duration": 450,
    "start_time": "2022-10-16T15:42:22.915Z"
   },
   {
    "duration": 263,
    "start_time": "2022-10-16T15:43:01.711Z"
   },
   {
    "duration": 269,
    "start_time": "2022-10-16T15:43:19.844Z"
   },
   {
    "duration": 261,
    "start_time": "2022-10-16T15:43:32.539Z"
   },
   {
    "duration": 12,
    "start_time": "2022-10-16T15:43:46.435Z"
   },
   {
    "duration": 225,
    "start_time": "2022-10-16T15:43:48.769Z"
   },
   {
    "duration": 11,
    "start_time": "2022-10-16T15:44:03.094Z"
   },
   {
    "duration": 243,
    "start_time": "2022-10-16T15:44:06.064Z"
   },
   {
    "duration": 11,
    "start_time": "2022-10-16T15:44:21.375Z"
   },
   {
    "duration": 292,
    "start_time": "2022-10-16T15:44:24.466Z"
   },
   {
    "duration": 12,
    "start_time": "2022-10-16T15:46:21.850Z"
   },
   {
    "duration": 51,
    "start_time": "2022-10-16T15:48:04.550Z"
   },
   {
    "duration": 35,
    "start_time": "2022-10-16T15:48:04.894Z"
   },
   {
    "duration": 32,
    "start_time": "2022-10-16T15:48:05.615Z"
   },
   {
    "duration": 27,
    "start_time": "2022-10-16T15:48:06.570Z"
   },
   {
    "duration": 13,
    "start_time": "2022-10-16T15:48:06.954Z"
   },
   {
    "duration": 17,
    "start_time": "2022-10-16T15:48:07.335Z"
   },
   {
    "duration": 7,
    "start_time": "2022-10-16T15:48:08.146Z"
   },
   {
    "duration": 11,
    "start_time": "2022-10-16T15:48:08.941Z"
   },
   {
    "duration": 7,
    "start_time": "2022-10-16T15:48:09.534Z"
   },
   {
    "duration": 8,
    "start_time": "2022-10-16T15:48:09.939Z"
   },
   {
    "duration": 1377,
    "start_time": "2022-10-16T15:48:10.145Z"
   },
   {
    "duration": 14,
    "start_time": "2022-10-16T15:48:11.524Z"
   },
   {
    "duration": 8,
    "start_time": "2022-10-16T15:48:12.184Z"
   },
   {
    "duration": 6,
    "start_time": "2022-10-16T15:48:12.359Z"
   },
   {
    "duration": 20,
    "start_time": "2022-10-16T15:48:12.959Z"
   },
   {
    "duration": 268,
    "start_time": "2022-10-16T15:48:13.859Z"
   },
   {
    "duration": 353,
    "start_time": "2022-10-16T15:48:14.450Z"
   },
   {
    "duration": 14,
    "start_time": "2022-10-16T15:48:14.804Z"
   },
   {
    "duration": 233,
    "start_time": "2022-10-16T15:48:15.046Z"
   },
   {
    "duration": 225,
    "start_time": "2022-10-16T15:48:15.435Z"
   },
   {
    "duration": 412,
    "start_time": "2022-10-16T15:49:04.994Z"
   },
   {
    "duration": 12,
    "start_time": "2022-10-16T15:49:31.235Z"
   },
   {
    "duration": 23,
    "start_time": "2022-10-16T15:49:43.720Z"
   },
   {
    "duration": 37,
    "start_time": "2022-10-16T15:49:53.654Z"
   },
   {
    "duration": 28,
    "start_time": "2022-10-16T15:49:53.984Z"
   },
   {
    "duration": 35,
    "start_time": "2022-10-16T15:49:54.695Z"
   },
   {
    "duration": 25,
    "start_time": "2022-10-16T15:49:55.640Z"
   },
   {
    "duration": 9,
    "start_time": "2022-10-16T15:49:56.049Z"
   },
   {
    "duration": 18,
    "start_time": "2022-10-16T15:49:56.414Z"
   },
   {
    "duration": 6,
    "start_time": "2022-10-16T15:49:56.995Z"
   },
   {
    "duration": 14,
    "start_time": "2022-10-16T15:49:57.744Z"
   },
   {
    "duration": 9,
    "start_time": "2022-10-16T15:49:58.325Z"
   },
   {
    "duration": 7,
    "start_time": "2022-10-16T15:49:58.755Z"
   },
   {
    "duration": 1402,
    "start_time": "2022-10-16T15:49:58.921Z"
   },
   {
    "duration": 17,
    "start_time": "2022-10-16T15:50:00.326Z"
   },
   {
    "duration": 16,
    "start_time": "2022-10-16T15:50:00.345Z"
   },
   {
    "duration": 7,
    "start_time": "2022-10-16T15:50:00.480Z"
   },
   {
    "duration": 28,
    "start_time": "2022-10-16T15:50:01.165Z"
   },
   {
    "duration": 287,
    "start_time": "2022-10-16T15:50:01.700Z"
   },
   {
    "duration": 274,
    "start_time": "2022-10-16T15:50:02.266Z"
   },
   {
    "duration": 15,
    "start_time": "2022-10-16T15:50:02.744Z"
   },
   {
    "duration": 14,
    "start_time": "2022-10-16T15:50:15.755Z"
   },
   {
    "duration": 754,
    "start_time": "2022-10-16T15:50:26.109Z"
   },
   {
    "duration": 935,
    "start_time": "2022-10-16T15:50:41.184Z"
   },
   {
    "duration": 33,
    "start_time": "2022-10-16T15:51:32.480Z"
   },
   {
    "duration": 26,
    "start_time": "2022-10-16T15:51:32.835Z"
   },
   {
    "duration": 49,
    "start_time": "2022-10-16T15:51:33.559Z"
   },
   {
    "duration": 32,
    "start_time": "2022-10-16T15:51:34.495Z"
   },
   {
    "duration": 8,
    "start_time": "2022-10-16T15:51:34.865Z"
   },
   {
    "duration": 17,
    "start_time": "2022-10-16T15:51:35.215Z"
   },
   {
    "duration": 7,
    "start_time": "2022-10-16T15:51:35.769Z"
   },
   {
    "duration": 15,
    "start_time": "2022-10-16T15:51:36.544Z"
   },
   {
    "duration": 6,
    "start_time": "2022-10-16T15:51:37.104Z"
   },
   {
    "duration": 6,
    "start_time": "2022-10-16T15:51:37.545Z"
   },
   {
    "duration": 1307,
    "start_time": "2022-10-16T15:51:37.690Z"
   },
   {
    "duration": 14,
    "start_time": "2022-10-16T15:51:38.998Z"
   },
   {
    "duration": 8,
    "start_time": "2022-10-16T15:51:39.180Z"
   },
   {
    "duration": 6,
    "start_time": "2022-10-16T15:51:39.360Z"
   },
   {
    "duration": 22,
    "start_time": "2022-10-16T15:51:39.960Z"
   },
   {
    "duration": 274,
    "start_time": "2022-10-16T15:51:40.576Z"
   },
   {
    "duration": 310,
    "start_time": "2022-10-16T15:51:41.184Z"
   },
   {
    "duration": 20,
    "start_time": "2022-10-16T15:51:41.499Z"
   },
   {
    "duration": 896,
    "start_time": "2022-10-16T15:51:41.854Z"
   },
   {
    "duration": 1173,
    "start_time": "2022-10-16T15:52:21.636Z"
   },
   {
    "duration": 780,
    "start_time": "2022-10-16T15:53:07.020Z"
   },
   {
    "duration": 902,
    "start_time": "2022-10-16T15:53:17.059Z"
   },
   {
    "duration": 27,
    "start_time": "2022-10-16T15:54:12.609Z"
   },
   {
    "duration": 42,
    "start_time": "2022-10-16T15:54:24.550Z"
   },
   {
    "duration": 33,
    "start_time": "2022-10-16T15:54:24.954Z"
   },
   {
    "duration": 38,
    "start_time": "2022-10-16T15:54:25.654Z"
   },
   {
    "duration": 25,
    "start_time": "2022-10-16T15:54:26.589Z"
   },
   {
    "duration": 8,
    "start_time": "2022-10-16T15:54:26.964Z"
   },
   {
    "duration": 15,
    "start_time": "2022-10-16T15:54:27.369Z"
   },
   {
    "duration": 7,
    "start_time": "2022-10-16T15:54:27.959Z"
   },
   {
    "duration": 17,
    "start_time": "2022-10-16T15:54:28.756Z"
   },
   {
    "duration": 5,
    "start_time": "2022-10-16T15:54:29.354Z"
   },
   {
    "duration": 7,
    "start_time": "2022-10-16T15:54:29.754Z"
   },
   {
    "duration": 1404,
    "start_time": "2022-10-16T15:54:29.915Z"
   },
   {
    "duration": 13,
    "start_time": "2022-10-16T15:54:31.321Z"
   },
   {
    "duration": 9,
    "start_time": "2022-10-16T15:54:31.336Z"
   },
   {
    "duration": 6,
    "start_time": "2022-10-16T15:54:31.505Z"
   },
   {
    "duration": 20,
    "start_time": "2022-10-16T15:54:38.000Z"
   },
   {
    "duration": 253,
    "start_time": "2022-10-16T15:54:39.570Z"
   },
   {
    "duration": 269,
    "start_time": "2022-10-16T15:54:41.004Z"
   },
   {
    "duration": 14,
    "start_time": "2022-10-16T15:54:43.620Z"
   },
   {
    "duration": 261,
    "start_time": "2022-10-16T15:54:46.660Z"
   },
   {
    "duration": 246,
    "start_time": "2022-10-16T15:55:04.794Z"
   },
   {
    "duration": 34,
    "start_time": "2022-10-16T15:56:20.700Z"
   },
   {
    "duration": 42,
    "start_time": "2022-10-16T15:57:12.044Z"
   },
   {
    "duration": 35,
    "start_time": "2022-10-16T15:57:35.331Z"
   },
   {
    "duration": 29,
    "start_time": "2022-10-16T15:57:36.679Z"
   },
   {
    "duration": 42,
    "start_time": "2022-10-16T15:57:42.219Z"
   },
   {
    "duration": 33,
    "start_time": "2022-10-16T15:59:28.050Z"
   },
   {
    "duration": 27,
    "start_time": "2022-10-16T15:59:28.885Z"
   },
   {
    "duration": 46,
    "start_time": "2022-10-16T15:59:30.925Z"
   },
   {
    "duration": 29,
    "start_time": "2022-10-16T15:59:44.370Z"
   },
   {
    "duration": 8,
    "start_time": "2022-10-16T15:59:46.605Z"
   },
   {
    "duration": 17,
    "start_time": "2022-10-16T15:59:47.421Z"
   },
   {
    "duration": 6,
    "start_time": "2022-10-16T15:59:47.945Z"
   },
   {
    "duration": 13,
    "start_time": "2022-10-16T15:59:48.650Z"
   },
   {
    "duration": 7,
    "start_time": "2022-10-16T15:59:49.194Z"
   },
   {
    "duration": 6,
    "start_time": "2022-10-16T15:59:49.569Z"
   },
   {
    "duration": 1295,
    "start_time": "2022-10-16T15:59:49.770Z"
   },
   {
    "duration": 14,
    "start_time": "2022-10-16T15:59:51.067Z"
   },
   {
    "duration": 8,
    "start_time": "2022-10-16T15:59:51.139Z"
   },
   {
    "duration": 6,
    "start_time": "2022-10-16T15:59:51.355Z"
   },
   {
    "duration": 19,
    "start_time": "2022-10-16T15:59:52.795Z"
   },
   {
    "duration": 280,
    "start_time": "2022-10-16T15:59:56.405Z"
   },
   {
    "duration": 271,
    "start_time": "2022-10-16T15:59:57.925Z"
   },
   {
    "duration": 15,
    "start_time": "2022-10-16T15:59:58.485Z"
   },
   {
    "duration": 291,
    "start_time": "2022-10-16T16:00:00.755Z"
   },
   {
    "duration": 244,
    "start_time": "2022-10-16T16:00:12.816Z"
   },
   {
    "duration": 12,
    "start_time": "2022-10-16T16:00:42.835Z"
   },
   {
    "duration": 21,
    "start_time": "2022-10-16T16:02:51.805Z"
   },
   {
    "duration": 21,
    "start_time": "2022-10-16T16:02:55.255Z"
   },
   {
    "duration": 24,
    "start_time": "2022-10-16T16:03:04.766Z"
   },
   {
    "duration": 25,
    "start_time": "2022-10-16T16:03:34.845Z"
   },
   {
    "duration": 25,
    "start_time": "2022-10-16T16:04:03.055Z"
   },
   {
    "duration": 23,
    "start_time": "2022-10-16T16:04:49.576Z"
   },
   {
    "duration": 21,
    "start_time": "2022-10-16T16:05:07.235Z"
   },
   {
    "duration": 21,
    "start_time": "2022-10-16T16:05:56.054Z"
   },
   {
    "duration": 25,
    "start_time": "2022-10-16T16:06:45.952Z"
   },
   {
    "duration": 25,
    "start_time": "2022-10-16T16:07:03.960Z"
   },
   {
    "duration": 292,
    "start_time": "2022-10-16T16:09:06.420Z"
   },
   {
    "duration": 375,
    "start_time": "2022-10-16T16:09:24.350Z"
   },
   {
    "duration": 314,
    "start_time": "2022-10-16T16:09:57.555Z"
   },
   {
    "duration": 352,
    "start_time": "2022-10-16T16:10:13.870Z"
   },
   {
    "duration": 292,
    "start_time": "2022-10-16T16:10:22.070Z"
   },
   {
    "duration": 315,
    "start_time": "2022-10-16T16:10:28.710Z"
   },
   {
    "duration": 324,
    "start_time": "2022-10-16T16:10:54.979Z"
   },
   {
    "duration": 21,
    "start_time": "2022-10-16T16:10:57.420Z"
   },
   {
    "duration": 18,
    "start_time": "2022-10-16T16:10:59.045Z"
   },
   {
    "duration": 18,
    "start_time": "2022-10-16T16:11:00.615Z"
   },
   {
    "duration": 27,
    "start_time": "2022-10-16T16:12:38.314Z"
   },
   {
    "duration": 168,
    "start_time": "2022-10-16T16:12:48.240Z"
   },
   {
    "duration": 26,
    "start_time": "2022-10-16T16:13:03.024Z"
   },
   {
    "duration": 169,
    "start_time": "2022-10-16T16:13:09.345Z"
   },
   {
    "duration": 507,
    "start_time": "2022-10-16T16:13:33.079Z"
   },
   {
    "duration": 29,
    "start_time": "2022-10-16T16:14:29.285Z"
   },
   {
    "duration": 30,
    "start_time": "2022-10-16T16:14:37.815Z"
   },
   {
    "duration": 204,
    "start_time": "2022-10-16T16:14:47.446Z"
   },
   {
    "duration": 213,
    "start_time": "2022-10-16T16:15:01.175Z"
   },
   {
    "duration": 163,
    "start_time": "2022-10-16T16:15:48.685Z"
   },
   {
    "duration": 460,
    "start_time": "2022-10-16T16:16:48.495Z"
   },
   {
    "duration": 681,
    "start_time": "2022-10-16T16:18:36.912Z"
   },
   {
    "duration": 595,
    "start_time": "2022-10-16T16:19:03.705Z"
   },
   {
    "duration": 389,
    "start_time": "2022-10-16T16:21:08.305Z"
   },
   {
    "duration": 8,
    "start_time": "2022-10-16T16:22:17.665Z"
   },
   {
    "duration": 6,
    "start_time": "2022-10-16T16:22:22.125Z"
   },
   {
    "duration": 7,
    "start_time": "2022-10-16T16:23:08.500Z"
   },
   {
    "duration": 6,
    "start_time": "2022-10-16T16:23:52.680Z"
   },
   {
    "duration": 10,
    "start_time": "2022-10-16T16:33:03.449Z"
   },
   {
    "duration": 8,
    "start_time": "2022-10-16T16:34:19.659Z"
   },
   {
    "duration": 7,
    "start_time": "2022-10-16T16:35:22.200Z"
   },
   {
    "duration": 9,
    "start_time": "2022-10-16T16:35:40.341Z"
   },
   {
    "duration": 36,
    "start_time": "2022-10-16T16:44:05.454Z"
   },
   {
    "duration": 25,
    "start_time": "2022-10-16T16:44:05.791Z"
   },
   {
    "duration": 44,
    "start_time": "2022-10-16T16:44:06.514Z"
   },
   {
    "duration": 26,
    "start_time": "2022-10-16T16:44:07.484Z"
   },
   {
    "duration": 8,
    "start_time": "2022-10-16T16:44:07.844Z"
   },
   {
    "duration": 14,
    "start_time": "2022-10-16T16:44:08.265Z"
   },
   {
    "duration": 5,
    "start_time": "2022-10-16T16:44:08.840Z"
   },
   {
    "duration": 10,
    "start_time": "2022-10-16T16:44:09.615Z"
   },
   {
    "duration": 6,
    "start_time": "2022-10-16T16:44:10.434Z"
   },
   {
    "duration": 6,
    "start_time": "2022-10-16T16:44:11.007Z"
   },
   {
    "duration": 1301,
    "start_time": "2022-10-16T16:44:11.448Z"
   },
   {
    "duration": 13,
    "start_time": "2022-10-16T16:44:12.751Z"
   },
   {
    "duration": 8,
    "start_time": "2022-10-16T16:44:13.060Z"
   },
   {
    "duration": 6,
    "start_time": "2022-10-16T16:44:13.269Z"
   },
   {
    "duration": 20,
    "start_time": "2022-10-16T16:44:13.850Z"
   },
   {
    "duration": 266,
    "start_time": "2022-10-16T16:44:14.619Z"
   },
   {
    "duration": 293,
    "start_time": "2022-10-16T16:44:15.275Z"
   },
   {
    "duration": 16,
    "start_time": "2022-10-16T16:44:15.570Z"
   },
   {
    "duration": 249,
    "start_time": "2022-10-16T16:44:16.012Z"
   },
   {
    "duration": 204,
    "start_time": "2022-10-16T16:44:16.654Z"
   },
   {
    "duration": 323,
    "start_time": "2022-10-16T16:44:17.444Z"
   },
   {
    "duration": 442,
    "start_time": "2022-10-16T16:44:18.445Z"
   },
   {
    "duration": 513,
    "start_time": "2022-10-16T16:44:18.889Z"
   },
   {
    "duration": 400,
    "start_time": "2022-10-16T16:44:19.404Z"
   },
   {
    "duration": 9,
    "start_time": "2022-10-16T16:44:20.495Z"
   },
   {
    "duration": 6,
    "start_time": "2022-10-16T16:44:21.315Z"
   },
   {
    "duration": 1139,
    "start_time": "2022-10-17T14:57:28.296Z"
   },
   {
    "duration": 35,
    "start_time": "2022-10-17T14:57:29.438Z"
   },
   {
    "duration": 65,
    "start_time": "2022-10-17T14:57:29.475Z"
   },
   {
    "duration": 24,
    "start_time": "2022-10-17T14:57:29.543Z"
   },
   {
    "duration": 7,
    "start_time": "2022-10-17T14:57:29.570Z"
   },
   {
    "duration": 45,
    "start_time": "2022-10-17T14:57:29.579Z"
   },
   {
    "duration": 5,
    "start_time": "2022-10-17T14:57:29.626Z"
   },
   {
    "duration": 12,
    "start_time": "2022-10-17T14:57:29.632Z"
   },
   {
    "duration": 5,
    "start_time": "2022-10-17T14:57:29.645Z"
   },
   {
    "duration": 6,
    "start_time": "2022-10-17T14:57:29.652Z"
   },
   {
    "duration": 1216,
    "start_time": "2022-10-17T14:57:29.660Z"
   },
   {
    "duration": 15,
    "start_time": "2022-10-17T14:57:30.878Z"
   },
   {
    "duration": 8,
    "start_time": "2022-10-17T14:57:30.905Z"
   },
   {
    "duration": 28,
    "start_time": "2022-10-17T14:57:30.915Z"
   },
   {
    "duration": 25,
    "start_time": "2022-10-17T14:57:30.945Z"
   },
   {
    "duration": 283,
    "start_time": "2022-10-17T14:57:30.971Z"
   },
   {
    "duration": 363,
    "start_time": "2022-10-17T14:57:31.255Z"
   },
   {
    "duration": 15,
    "start_time": "2022-10-17T14:57:31.620Z"
   },
   {
    "duration": 253,
    "start_time": "2022-10-17T14:57:31.636Z"
   },
   {
    "duration": 230,
    "start_time": "2022-10-17T14:57:31.891Z"
   },
   {
    "duration": 317,
    "start_time": "2022-10-17T14:57:32.123Z"
   },
   {
    "duration": 455,
    "start_time": "2022-10-17T14:57:32.442Z"
   },
   {
    "duration": 487,
    "start_time": "2022-10-17T14:57:32.906Z"
   },
   {
    "duration": 398,
    "start_time": "2022-10-17T14:57:33.394Z"
   },
   {
    "duration": 17,
    "start_time": "2022-10-17T14:57:33.794Z"
   },
   {
    "duration": 11,
    "start_time": "2022-10-17T14:57:33.813Z"
   },
   {
    "duration": 1512,
    "start_time": "2022-10-18T05:02:36.642Z"
   },
   {
    "duration": 35,
    "start_time": "2022-10-18T05:02:39.237Z"
   },
   {
    "duration": 47,
    "start_time": "2022-10-18T05:02:44.246Z"
   },
   {
    "duration": 29,
    "start_time": "2022-10-18T05:02:50.959Z"
   },
   {
    "duration": 9,
    "start_time": "2022-10-18T05:02:53.918Z"
   },
   {
    "duration": 22,
    "start_time": "2022-10-18T05:02:55.046Z"
   },
   {
    "duration": 7,
    "start_time": "2022-10-18T05:02:56.559Z"
   },
   {
    "duration": 12,
    "start_time": "2022-10-18T05:02:59.710Z"
   },
   {
    "duration": 6,
    "start_time": "2022-10-18T05:03:05.238Z"
   },
   {
    "duration": 7,
    "start_time": "2022-10-18T05:03:06.663Z"
   },
   {
    "duration": 1397,
    "start_time": "2022-10-18T05:03:07.631Z"
   },
   {
    "duration": 17,
    "start_time": "2022-10-18T05:03:09.398Z"
   },
   {
    "duration": 10,
    "start_time": "2022-10-18T05:03:12.310Z"
   },
   {
    "duration": 7,
    "start_time": "2022-10-18T05:03:12.727Z"
   },
   {
    "duration": 23,
    "start_time": "2022-10-18T05:03:14.528Z"
   },
   {
    "duration": 314,
    "start_time": "2022-10-18T05:03:16.423Z"
   },
   {
    "duration": 417,
    "start_time": "2022-10-18T05:03:17.582Z"
   },
   {
    "duration": 17,
    "start_time": "2022-10-18T05:03:18.002Z"
   },
   {
    "duration": 1306,
    "start_time": "2022-10-18T05:03:19.862Z"
   },
   {
    "duration": 16,
    "start_time": "2022-10-18T05:04:42.560Z"
   },
   {
    "duration": 26,
    "start_time": "2022-10-18T05:05:04.887Z"
   },
   {
    "duration": 36,
    "start_time": "2022-10-18T05:05:25.688Z"
   },
   {
    "duration": 26,
    "start_time": "2022-10-18T05:06:10.631Z"
   },
   {
    "duration": 307,
    "start_time": "2022-10-18T05:06:20.808Z"
   },
   {
    "duration": 270,
    "start_time": "2022-10-18T05:06:27.735Z"
   },
   {
    "duration": 267,
    "start_time": "2022-10-18T05:07:58.593Z"
   },
   {
    "duration": 362,
    "start_time": "2022-10-18T05:08:07.336Z"
   },
   {
    "duration": 380,
    "start_time": "2022-10-18T05:08:17.287Z"
   },
   {
    "duration": 303,
    "start_time": "2022-10-18T05:10:42.071Z"
   },
   {
    "duration": 52,
    "start_time": "2022-10-18T05:10:53.142Z"
   },
   {
    "duration": 29,
    "start_time": "2022-10-18T05:10:53.655Z"
   },
   {
    "duration": 41,
    "start_time": "2022-10-18T05:10:54.407Z"
   },
   {
    "duration": 27,
    "start_time": "2022-10-18T05:10:55.559Z"
   },
   {
    "duration": 9,
    "start_time": "2022-10-18T05:10:55.903Z"
   },
   {
    "duration": 19,
    "start_time": "2022-10-18T05:10:56.279Z"
   },
   {
    "duration": 8,
    "start_time": "2022-10-18T05:10:56.845Z"
   },
   {
    "duration": 12,
    "start_time": "2022-10-18T05:10:57.783Z"
   },
   {
    "duration": 7,
    "start_time": "2022-10-18T05:10:58.736Z"
   },
   {
    "duration": 7,
    "start_time": "2022-10-18T05:10:59.306Z"
   },
   {
    "duration": 1441,
    "start_time": "2022-10-18T05:10:59.689Z"
   },
   {
    "duration": 16,
    "start_time": "2022-10-18T05:11:01.132Z"
   },
   {
    "duration": 9,
    "start_time": "2022-10-18T05:11:02.397Z"
   },
   {
    "duration": 7,
    "start_time": "2022-10-18T05:11:03.054Z"
   },
   {
    "duration": 24,
    "start_time": "2022-10-18T05:11:05.896Z"
   },
   {
    "duration": 328,
    "start_time": "2022-10-18T05:11:07.142Z"
   },
   {
    "duration": 337,
    "start_time": "2022-10-18T05:11:07.863Z"
   },
   {
    "duration": 34,
    "start_time": "2022-10-18T05:11:08.203Z"
   },
   {
    "duration": 300,
    "start_time": "2022-10-18T05:11:09.022Z"
   },
   {
    "duration": 248,
    "start_time": "2022-10-18T05:11:10.814Z"
   },
   {
    "duration": 359,
    "start_time": "2022-10-18T05:11:13.645Z"
   },
   {
    "duration": 664,
    "start_time": "2022-10-18T05:11:18.385Z"
   },
   {
    "duration": 574,
    "start_time": "2022-10-18T05:11:26.519Z"
   },
   {
    "duration": 468,
    "start_time": "2022-10-18T05:11:27.926Z"
   },
   {
    "duration": 28,
    "start_time": "2022-10-18T05:11:36.497Z"
   },
   {
    "duration": 25,
    "start_time": "2022-10-18T05:16:27.216Z"
   },
   {
    "duration": 967,
    "start_time": "2022-10-18T05:17:08.727Z"
   },
   {
    "duration": 15,
    "start_time": "2022-10-18T05:17:25.665Z"
   },
   {
    "duration": 7,
    "start_time": "2022-10-18T05:18:44.786Z"
   },
   {
    "duration": 51,
    "start_time": "2022-10-18T05:18:57.738Z"
   },
   {
    "duration": 30,
    "start_time": "2022-10-18T05:18:58.079Z"
   },
   {
    "duration": 44,
    "start_time": "2022-10-18T05:18:58.744Z"
   },
   {
    "duration": 27,
    "start_time": "2022-10-18T05:18:59.809Z"
   },
   {
    "duration": 11,
    "start_time": "2022-10-18T05:19:00.161Z"
   },
   {
    "duration": 19,
    "start_time": "2022-10-18T05:19:00.519Z"
   },
   {
    "duration": 7,
    "start_time": "2022-10-18T05:19:01.082Z"
   },
   {
    "duration": 13,
    "start_time": "2022-10-18T05:19:02.039Z"
   },
   {
    "duration": 7,
    "start_time": "2022-10-18T05:19:03.024Z"
   },
   {
    "duration": 7,
    "start_time": "2022-10-18T05:19:03.615Z"
   },
   {
    "duration": 1373,
    "start_time": "2022-10-18T05:19:04.016Z"
   },
   {
    "duration": 19,
    "start_time": "2022-10-18T05:19:05.391Z"
   },
   {
    "duration": 11,
    "start_time": "2022-10-18T05:19:05.750Z"
   },
   {
    "duration": 7,
    "start_time": "2022-10-18T05:19:05.938Z"
   },
   {
    "duration": 21,
    "start_time": "2022-10-18T05:19:06.711Z"
   },
   {
    "duration": 406,
    "start_time": "2022-10-18T05:19:07.689Z"
   },
   {
    "duration": 303,
    "start_time": "2022-10-18T05:19:08.300Z"
   },
   {
    "duration": 26,
    "start_time": "2022-10-18T05:19:08.604Z"
   },
   {
    "duration": 291,
    "start_time": "2022-10-18T05:19:09.296Z"
   },
   {
    "duration": 244,
    "start_time": "2022-10-18T05:19:09.882Z"
   },
   {
    "duration": 363,
    "start_time": "2022-10-18T05:19:10.895Z"
   },
   {
    "duration": 517,
    "start_time": "2022-10-18T05:19:12.094Z"
   },
   {
    "duration": 576,
    "start_time": "2022-10-18T05:19:12.613Z"
   },
   {
    "duration": 573,
    "start_time": "2022-10-18T05:19:13.191Z"
   },
   {
    "duration": 12,
    "start_time": "2022-10-18T05:19:14.297Z"
   },
   {
    "duration": 7,
    "start_time": "2022-10-18T05:19:15.266Z"
   },
   {
    "duration": 1353,
    "start_time": "2022-10-18T14:49:05.189Z"
   },
   {
    "duration": 42,
    "start_time": "2022-10-18T14:49:06.546Z"
   },
   {
    "duration": 50,
    "start_time": "2022-10-18T14:49:06.590Z"
   },
   {
    "duration": 28,
    "start_time": "2022-10-18T14:49:06.642Z"
   },
   {
    "duration": 7,
    "start_time": "2022-10-18T14:49:06.672Z"
   },
   {
    "duration": 44,
    "start_time": "2022-10-18T14:49:06.681Z"
   },
   {
    "duration": 6,
    "start_time": "2022-10-18T14:49:06.727Z"
   },
   {
    "duration": 11,
    "start_time": "2022-10-18T14:49:06.735Z"
   },
   {
    "duration": 5,
    "start_time": "2022-10-18T14:49:06.748Z"
   },
   {
    "duration": 6,
    "start_time": "2022-10-18T14:49:06.756Z"
   },
   {
    "duration": 1277,
    "start_time": "2022-10-18T14:49:06.764Z"
   },
   {
    "duration": 17,
    "start_time": "2022-10-18T14:49:08.043Z"
   },
   {
    "duration": 8,
    "start_time": "2022-10-18T14:49:08.062Z"
   },
   {
    "duration": 11,
    "start_time": "2022-10-18T14:49:08.072Z"
   },
   {
    "duration": 42,
    "start_time": "2022-10-18T14:49:08.085Z"
   },
   {
    "duration": 326,
    "start_time": "2022-10-18T14:49:08.129Z"
   },
   {
    "duration": 377,
    "start_time": "2022-10-18T14:49:08.457Z"
   },
   {
    "duration": 29,
    "start_time": "2022-10-18T14:49:08.836Z"
   },
   {
    "duration": 302,
    "start_time": "2022-10-18T14:49:08.866Z"
   },
   {
    "duration": 246,
    "start_time": "2022-10-18T14:49:09.170Z"
   },
   {
    "duration": 311,
    "start_time": "2022-10-18T14:49:09.418Z"
   },
   {
    "duration": 534,
    "start_time": "2022-10-18T14:49:09.730Z"
   },
   {
    "duration": 544,
    "start_time": "2022-10-18T14:49:10.267Z"
   },
   {
    "duration": 447,
    "start_time": "2022-10-18T14:49:10.813Z"
   },
   {
    "duration": 14,
    "start_time": "2022-10-18T14:49:11.261Z"
   },
   {
    "duration": 35,
    "start_time": "2022-10-18T14:49:11.277Z"
   },
   {
    "duration": 5,
    "start_time": "2022-10-18T14:50:48.953Z"
   },
   {
    "duration": 70,
    "start_time": "2022-10-18T15:07:36.628Z"
   },
   {
    "duration": 1943,
    "start_time": "2022-10-18T15:07:41.824Z"
   },
   {
    "duration": 35,
    "start_time": "2022-10-18T15:07:43.917Z"
   },
   {
    "duration": 518,
    "start_time": "2022-10-18T15:07:49.067Z"
   },
   {
    "duration": 9,
    "start_time": "2022-10-18T15:07:53.577Z"
   },
   {
    "duration": 50,
    "start_time": "2022-10-18T15:08:02.220Z"
   },
   {
    "duration": 10,
    "start_time": "2022-10-18T15:08:04.221Z"
   },
   {
    "duration": 40,
    "start_time": "2022-10-18T15:14:05.452Z"
   },
   {
    "duration": 6,
    "start_time": "2022-10-18T15:14:10.309Z"
   },
   {
    "duration": 74,
    "start_time": "2022-10-18T15:14:25.772Z"
   },
   {
    "duration": 38,
    "start_time": "2022-10-18T15:14:26.110Z"
   },
   {
    "duration": 53,
    "start_time": "2022-10-18T15:14:26.768Z"
   },
   {
    "duration": 5,
    "start_time": "2022-10-18T15:14:27.667Z"
   },
   {
    "duration": 29,
    "start_time": "2022-10-18T15:14:28.217Z"
   },
   {
    "duration": 16,
    "start_time": "2022-10-18T15:14:28.589Z"
   },
   {
    "duration": 30,
    "start_time": "2022-10-18T15:14:28.982Z"
   },
   {
    "duration": 7,
    "start_time": "2022-10-18T15:14:29.547Z"
   },
   {
    "duration": 12,
    "start_time": "2022-10-18T15:14:30.510Z"
   },
   {
    "duration": 8,
    "start_time": "2022-10-18T15:14:31.428Z"
   },
   {
    "duration": 7,
    "start_time": "2022-10-18T15:14:32.057Z"
   },
   {
    "duration": 1368,
    "start_time": "2022-10-18T15:14:32.409Z"
   },
   {
    "duration": 32,
    "start_time": "2022-10-18T15:14:33.779Z"
   },
   {
    "duration": 10,
    "start_time": "2022-10-18T15:14:34.122Z"
   },
   {
    "duration": 7,
    "start_time": "2022-10-18T15:14:34.317Z"
   },
   {
    "duration": 21,
    "start_time": "2022-10-18T15:14:35.127Z"
   },
   {
    "duration": 314,
    "start_time": "2022-10-18T15:14:36.129Z"
   },
   {
    "duration": 462,
    "start_time": "2022-10-18T15:14:36.722Z"
   },
   {
    "duration": 31,
    "start_time": "2022-10-18T15:14:37.186Z"
   },
   {
    "duration": 322,
    "start_time": "2022-10-18T15:14:37.722Z"
   },
   {
    "duration": 244,
    "start_time": "2022-10-18T15:14:38.313Z"
   },
   {
    "duration": 344,
    "start_time": "2022-10-18T15:14:39.300Z"
   },
   {
    "duration": 514,
    "start_time": "2022-10-18T15:14:40.447Z"
   },
   {
    "duration": 566,
    "start_time": "2022-10-18T15:14:40.963Z"
   },
   {
    "duration": 497,
    "start_time": "2022-10-18T15:14:41.531Z"
   },
   {
    "duration": 12,
    "start_time": "2022-10-18T15:14:42.537Z"
   },
   {
    "duration": 8,
    "start_time": "2022-10-18T15:14:43.472Z"
   },
   {
    "duration": 1287,
    "start_time": "2022-10-18T15:26:10.604Z"
   },
   {
    "duration": 43,
    "start_time": "2022-10-18T15:26:11.893Z"
   },
   {
    "duration": 49,
    "start_time": "2022-10-18T15:26:11.938Z"
   },
   {
    "duration": 24,
    "start_time": "2022-10-18T15:26:11.989Z"
   },
   {
    "duration": 32,
    "start_time": "2022-10-18T15:26:12.014Z"
   },
   {
    "duration": 18,
    "start_time": "2022-10-18T15:26:12.050Z"
   },
   {
    "duration": 31,
    "start_time": "2022-10-18T15:26:12.070Z"
   },
   {
    "duration": 8,
    "start_time": "2022-10-18T15:26:12.109Z"
   },
   {
    "duration": 19,
    "start_time": "2022-10-18T15:26:12.119Z"
   },
   {
    "duration": 7,
    "start_time": "2022-10-18T15:26:12.141Z"
   },
   {
    "duration": 14,
    "start_time": "2022-10-18T15:26:12.150Z"
   },
   {
    "duration": 1360,
    "start_time": "2022-10-18T15:26:12.165Z"
   },
   {
    "duration": 15,
    "start_time": "2022-10-18T15:26:13.527Z"
   },
   {
    "duration": 12,
    "start_time": "2022-10-18T15:26:13.544Z"
   },
   {
    "duration": 9,
    "start_time": "2022-10-18T15:26:13.558Z"
   },
   {
    "duration": 57,
    "start_time": "2022-10-18T15:26:13.569Z"
   },
   {
    "duration": 328,
    "start_time": "2022-10-18T15:26:13.627Z"
   },
   {
    "duration": 398,
    "start_time": "2022-10-18T15:26:13.957Z"
   },
   {
    "duration": 24,
    "start_time": "2022-10-18T15:26:14.357Z"
   },
   {
    "duration": 282,
    "start_time": "2022-10-18T15:26:14.382Z"
   },
   {
    "duration": 256,
    "start_time": "2022-10-18T15:26:14.665Z"
   },
   {
    "duration": 338,
    "start_time": "2022-10-18T15:26:14.924Z"
   },
   {
    "duration": 478,
    "start_time": "2022-10-18T15:26:15.263Z"
   },
   {
    "duration": 536,
    "start_time": "2022-10-18T15:26:15.742Z"
   },
   {
    "duration": 413,
    "start_time": "2022-10-18T15:26:16.280Z"
   },
   {
    "duration": 25,
    "start_time": "2022-10-18T15:26:16.694Z"
   },
   {
    "duration": 14,
    "start_time": "2022-10-18T15:26:16.721Z"
   }
  ],
  "kernelspec": {
   "display_name": "Python 3 (ipykernel)",
   "language": "python",
   "name": "python3"
  },
  "language_info": {
   "codemirror_mode": {
    "name": "ipython",
    "version": 3
   },
   "file_extension": ".py",
   "mimetype": "text/x-python",
   "name": "python",
   "nbconvert_exporter": "python",
   "pygments_lexer": "ipython3",
   "version": "3.9.12"
  },
  "toc": {
   "base_numbering": 1,
   "nav_menu": {},
   "number_sections": true,
   "sideBar": true,
   "skip_h1_title": true,
   "title_cell": "Table of Contents",
   "title_sidebar": "Contents",
   "toc_cell": false,
   "toc_position": {},
   "toc_section_display": true,
   "toc_window_display": false
  }
 },
 "nbformat": 4,
 "nbformat_minor": 2
}
