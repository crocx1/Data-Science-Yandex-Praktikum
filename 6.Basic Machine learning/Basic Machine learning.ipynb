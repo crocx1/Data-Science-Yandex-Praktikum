{
 "cells": [
  {
   "cell_type": "markdown",
   "metadata": {},
   "source": [
    "# Рекомендация тарифов"
   ]
  },
  {
   "cell_type": "markdown",
   "metadata": {},
   "source": [
    "В вашем распоряжении данные о поведении клиентов, которые уже перешли на эти тарифы (из проекта курса «Статистический анализ данных»). Нужно построить модель для задачи классификации, которая выберет подходящий тариф. Предобработка данных не понадобится — вы её уже сделали.\n",
    "\n",
    "Постройте модель с максимально большим значением *accuracy*. Чтобы сдать проект успешно, нужно довести долю правильных ответов по крайней мере до 0.75. Проверьте *accuracy* на тестовой выборке самостоятельно."
   ]
  },
  {
   "cell_type": "markdown",
   "metadata": {},
   "source": [
    "## Откройте и изучите файл"
   ]
  },
  {
   "cell_type": "code",
   "execution_count": 1,
   "metadata": {},
   "outputs": [],
   "source": [
    "import pandas as pd\n",
    "from sklearn.tree import DecisionTreeRegressor\n",
    "from sklearn.ensemble import RandomForestRegressor\n",
    "from sklearn.linear_model import LinearRegression\n",
    "from sklearn.model_selection import train_test_split\n",
    "from sklearn.metrics import mean_squared_error\n",
    "from joblib import dump\n",
    "from sklearn.linear_model import LogisticRegression \n",
    "from sklearn.ensemble import RandomForestClassifier\n",
    "\n",
    "\n"
   ]
  },
  {
   "cell_type": "code",
   "execution_count": 2,
   "metadata": {},
   "outputs": [],
   "source": [
    "data = pd.read_csv('/datasets/users_behavior.csv')"
   ]
  },
  {
   "cell_type": "markdown",
   "metadata": {},
   "source": [
    "Добавляем необходимые библтотеки, грузим дата сет"
   ]
  },
  {
   "cell_type": "code",
   "execution_count": 3,
   "metadata": {},
   "outputs": [
    {
     "name": "stdout",
     "output_type": "stream",
     "text": [
      "<class 'pandas.core.frame.DataFrame'>\n",
      "RangeIndex: 3214 entries, 0 to 3213\n",
      "Data columns (total 5 columns):\n",
      " #   Column    Non-Null Count  Dtype  \n",
      "---  ------    --------------  -----  \n",
      " 0   calls     3214 non-null   float64\n",
      " 1   minutes   3214 non-null   float64\n",
      " 2   messages  3214 non-null   float64\n",
      " 3   mb_used   3214 non-null   float64\n",
      " 4   is_ultra  3214 non-null   int64  \n",
      "dtypes: float64(4), int64(1)\n",
      "memory usage: 125.7 KB\n",
      "None\n"
     ]
    }
   ],
   "source": [
    "print(data.info())"
   ]
  },
  {
   "cell_type": "code",
   "execution_count": 4,
   "metadata": {},
   "outputs": [
    {
     "name": "stdout",
     "output_type": "stream",
     "text": [
      "0    2229\n",
      "1     985\n",
      "Name: is_ultra, dtype: int64\n"
     ]
    }
   ],
   "source": [
    "print(data['is_ultra'].value_counts())"
   ]
  },
  {
   "cell_type": "markdown",
   "metadata": {},
   "source": [
    "## Разбейте данные на выборки"
   ]
  },
  {
   "cell_type": "code",
   "execution_count": 5,
   "metadata": {},
   "outputs": [],
   "source": [
    "data_train, data_valid_test = train_test_split(data, test_size=0.4, random_state=12345)\n",
    "data_valid, data_test = train_test_split(data_valid_test, test_size=0.5, random_state=12345)\n"
   ]
  },
  {
   "cell_type": "markdown",
   "metadata": {},
   "source": [
    "Разбиваем дата сет на 2 как 6 к 4, для того что бы потом разделить весь дата сет как 6 к 2 к 2. (Возможно как-то сразу делить на 3 блока?)"
   ]
  },
  {
   "cell_type": "code",
   "execution_count": 6,
   "metadata": {},
   "outputs": [
    {
     "name": "stdout",
     "output_type": "stream",
     "text": [
      "(1928, 5)\n",
      "(643, 5)\n",
      "(643, 5)\n"
     ]
    }
   ],
   "source": [
    "print(data_train.shape)\n",
    "print(data_valid.shape)\n",
    "print(data_test.shape)"
   ]
  },
  {
   "cell_type": "markdown",
   "metadata": {},
   "source": [
    "Проверяем соотношение"
   ]
  },
  {
   "cell_type": "markdown",
   "metadata": {},
   "source": [
    "## Исследуйте модели"
   ]
  },
  {
   "cell_type": "code",
   "execution_count": 7,
   "metadata": {},
   "outputs": [],
   "source": [
    "features_train = data_train.drop(['is_ultra'], axis=1)\n",
    "target_train = data_train['is_ultra']\n",
    "features_valid = data_valid.drop(['is_ultra'], axis=1)\n",
    "target_valid = data_valid['is_ultra']\n",
    "features_test = data_test.drop(['is_ultra'], axis=1)\n",
    "target_test = data_test['is_ultra']"
   ]
  },
  {
   "cell_type": "markdown",
   "metadata": {},
   "source": [
    "Модель - LogisticRegression"
   ]
  },
  {
   "cell_type": "code",
   "execution_count": 8,
   "metadata": {
    "scrolled": true
   },
   "outputs": [
    {
     "name": "stdout",
     "output_type": "stream",
     "text": [
      "0.7107309486780715\n"
     ]
    }
   ],
   "source": [
    "model_lor = LogisticRegression(random_state=12345, solver='lbfgs', max_iter=3000) \n",
    "model_lor.fit(features_train, target_train) \n",
    "\n",
    "model_lor.predict(features_valid) \n",
    "\n",
    "print(model_lor.score(features_valid, target_valid))\n"
   ]
  },
  {
   "cell_type": "markdown",
   "metadata": {},
   "source": [
    "При анализе данной модели наилучший результат 0.7107309486780715, результат не плохой, но более корректный достичь не удалось."
   ]
  },
  {
   "cell_type": "markdown",
   "metadata": {},
   "source": [
    "Модель - RandomForestClassifier"
   ]
  },
  {
   "cell_type": "code",
   "execution_count": 9,
   "metadata": {},
   "outputs": [
    {
     "name": "stdout",
     "output_type": "stream",
     "text": [
      "Accuracy наилучшей модели на валидационной выборке: 0.7947122861586314\n"
     ]
    }
   ],
   "source": [
    "best_model_rfc = None\n",
    "best_result_rfc = 0\n",
    "for est in range(1, 25):\n",
    "    model_rfc = RandomForestClassifier(random_state=12345, n_estimators=est) \n",
    "    model_rfc.fit(features_train,target_train) \n",
    "    result_rfc = model_rfc.score(features_valid,target_valid) \n",
    "    if result_rfc > best_result_rfc:\n",
    "        best_model_rfc = model_rfc \n",
    "        best_result_rfc = result_rfc \n",
    "\n",
    "print(\"Accuracy наилучшей модели на валидационной выборке:\", best_result_rfc)"
   ]
  },
  {
   "cell_type": "markdown",
   "metadata": {},
   "source": [
    "При анализе данной модели наилучший результат 0.78, этот результат подходит для решения задачи. "
   ]
  },
  {
   "cell_type": "markdown",
   "metadata": {},
   "source": [
    "## Проверьте модель на тестовой выборке"
   ]
  },
  {
   "cell_type": "markdown",
   "metadata": {},
   "source": [
    "Проверяем на тестовой выборке"
   ]
  },
  {
   "cell_type": "markdown",
   "metadata": {},
   "source": [
    "Модель - RandomForestClassifier"
   ]
  },
  {
   "cell_type": "code",
   "execution_count": 25,
   "metadata": {},
   "outputs": [
    {
     "name": "stdout",
     "output_type": "stream",
     "text": [
      "0.7807153965785381\n"
     ]
    }
   ],
   "source": [
    "print(best_model_rfc.score(features_test, target_test))"
   ]
  }
 ],
 "metadata": {
  "ExecuteTimeLog": [
   {
    "duration": 1173,
    "start_time": "2022-10-26T04:20:04.309Z"
   },
   {
    "duration": 0,
    "start_time": "2022-10-26T04:20:05.484Z"
   },
   {
    "duration": 114,
    "start_time": "2022-10-26T04:20:14.177Z"
   },
   {
    "duration": 41,
    "start_time": "2022-10-26T04:20:15.066Z"
   },
   {
    "duration": 5,
    "start_time": "2022-10-26T04:20:39.592Z"
   },
   {
    "duration": 4,
    "start_time": "2022-10-26T04:21:01.024Z"
   },
   {
    "duration": 8,
    "start_time": "2022-10-26T04:21:05.864Z"
   },
   {
    "duration": 3,
    "start_time": "2022-10-26T04:21:11.888Z"
   },
   {
    "duration": 3,
    "start_time": "2022-10-26T04:21:21.762Z"
   },
   {
    "duration": 8,
    "start_time": "2022-10-26T04:22:13.570Z"
   },
   {
    "duration": 6,
    "start_time": "2022-10-26T04:22:17.338Z"
   },
   {
    "duration": 3,
    "start_time": "2022-10-26T04:22:17.875Z"
   },
   {
    "duration": 8,
    "start_time": "2022-10-26T04:26:10.960Z"
   },
   {
    "duration": 6,
    "start_time": "2022-10-26T04:31:57.933Z"
   },
   {
    "duration": 4366,
    "start_time": "2022-10-26T04:32:19.963Z"
   },
   {
    "duration": 30292,
    "start_time": "2022-10-26T04:33:02.201Z"
   },
   {
    "duration": 76057,
    "start_time": "2022-10-26T04:34:00.738Z"
   },
   {
    "duration": 76248,
    "start_time": "2022-10-26T04:38:22.051Z"
   },
   {
    "duration": 8,
    "start_time": "2022-10-26T04:41:19.165Z"
   },
   {
    "duration": 17,
    "start_time": "2022-10-26T04:43:42.176Z"
   },
   {
    "duration": 13,
    "start_time": "2022-10-26T04:43:50.134Z"
   },
   {
    "duration": 28,
    "start_time": "2022-10-26T04:44:09.765Z"
   },
   {
    "duration": 41,
    "start_time": "2022-10-26T04:44:18.799Z"
   },
   {
    "duration": 8,
    "start_time": "2022-10-26T04:48:11.168Z"
   },
   {
    "duration": 29,
    "start_time": "2022-10-26T04:48:17.325Z"
   },
   {
    "duration": 23,
    "start_time": "2022-10-26T04:48:21.797Z"
   },
   {
    "duration": 22,
    "start_time": "2022-10-26T04:48:36.957Z"
   },
   {
    "duration": 29,
    "start_time": "2022-10-26T04:49:23.422Z"
   },
   {
    "duration": 282,
    "start_time": "2022-10-26T04:50:50.799Z"
   },
   {
    "duration": 18,
    "start_time": "2022-10-26T04:53:59.088Z"
   },
   {
    "duration": 59,
    "start_time": "2022-10-26T04:54:28.806Z"
   },
   {
    "duration": 6,
    "start_time": "2022-10-26T04:54:43.038Z"
   },
   {
    "duration": 5,
    "start_time": "2022-10-26T04:55:18.398Z"
   },
   {
    "duration": 8,
    "start_time": "2022-10-26T04:56:45.313Z"
   },
   {
    "duration": 7,
    "start_time": "2022-10-26T04:56:50.983Z"
   },
   {
    "duration": 21,
    "start_time": "2022-10-26T04:56:53.743Z"
   },
   {
    "duration": 6,
    "start_time": "2022-10-26T04:56:59.438Z"
   },
   {
    "duration": 5,
    "start_time": "2022-10-26T04:57:06.328Z"
   },
   {
    "duration": 8,
    "start_time": "2022-10-26T04:57:28.879Z"
   },
   {
    "duration": 143,
    "start_time": "2022-10-26T05:25:28.160Z"
   },
   {
    "duration": 5124,
    "start_time": "2022-10-26T05:27:14.704Z"
   },
   {
    "duration": 1857,
    "start_time": "2022-10-26T06:42:17.522Z"
   },
   {
    "duration": 9,
    "start_time": "2022-10-26T06:42:19.381Z"
   },
   {
    "duration": 19,
    "start_time": "2022-10-26T06:42:19.391Z"
   },
   {
    "duration": 14,
    "start_time": "2022-10-26T06:42:19.411Z"
   },
   {
    "duration": 83483,
    "start_time": "2022-10-26T06:42:19.428Z"
   },
   {
    "duration": 131,
    "start_time": "2022-10-26T06:43:42.913Z"
   },
   {
    "duration": 0,
    "start_time": "2022-10-26T06:43:43.045Z"
   },
   {
    "duration": 0,
    "start_time": "2022-10-26T06:43:43.047Z"
   },
   {
    "duration": 0,
    "start_time": "2022-10-26T06:43:43.048Z"
   },
   {
    "duration": 0,
    "start_time": "2022-10-26T06:43:43.051Z"
   },
   {
    "duration": 0,
    "start_time": "2022-10-26T06:43:43.053Z"
   },
   {
    "duration": 0,
    "start_time": "2022-10-26T06:43:43.056Z"
   },
   {
    "duration": 0,
    "start_time": "2022-10-26T06:43:43.058Z"
   },
   {
    "duration": 0,
    "start_time": "2022-10-26T06:43:43.059Z"
   },
   {
    "duration": 1107,
    "start_time": "2022-11-06T06:16:26.469Z"
   },
   {
    "duration": 122,
    "start_time": "2022-11-06T06:16:27.814Z"
   },
   {
    "duration": 12,
    "start_time": "2022-11-06T06:16:47.592Z"
   },
   {
    "duration": 4,
    "start_time": "2022-11-06T06:17:24.837Z"
   },
   {
    "duration": 108,
    "start_time": "2022-11-06T06:17:31.598Z"
   },
   {
    "duration": 3,
    "start_time": "2022-11-06T06:17:39.494Z"
   },
   {
    "duration": 4,
    "start_time": "2022-11-06T06:18:03.137Z"
   },
   {
    "duration": 3,
    "start_time": "2022-11-06T06:18:20.327Z"
   },
   {
    "duration": 4,
    "start_time": "2022-11-06T06:18:31.039Z"
   },
   {
    "duration": 8,
    "start_time": "2022-11-06T06:18:37.615Z"
   },
   {
    "duration": 5,
    "start_time": "2022-11-06T06:19:42.174Z"
   },
   {
    "duration": 10,
    "start_time": "2022-11-06T06:20:07.830Z"
   },
   {
    "duration": 4,
    "start_time": "2022-11-06T06:20:36.536Z"
   },
   {
    "duration": 31,
    "start_time": "2022-11-06T06:20:36.693Z"
   },
   {
    "duration": 10,
    "start_time": "2022-11-06T06:20:37.414Z"
   },
   {
    "duration": 5,
    "start_time": "2022-11-06T06:20:37.599Z"
   },
   {
    "duration": 7,
    "start_time": "2022-11-06T06:20:37.960Z"
   },
   {
    "duration": 4,
    "start_time": "2022-11-06T06:20:38.318Z"
   },
   {
    "duration": 6,
    "start_time": "2022-11-06T06:20:39.077Z"
   },
   {
    "duration": 78763,
    "start_time": "2022-11-06T06:20:39.472Z"
   },
   {
    "duration": 10,
    "start_time": "2022-11-06T06:21:58.237Z"
   },
   {
    "duration": 21,
    "start_time": "2022-11-06T06:23:06.280Z"
   },
   {
    "duration": 1344,
    "start_time": "2022-11-06T06:23:10.976Z"
   },
   {
    "duration": 10,
    "start_time": "2022-11-06T06:23:51.064Z"
   },
   {
    "duration": 1701,
    "start_time": "2022-11-06T06:40:05.190Z"
   },
   {
    "duration": 119,
    "start_time": "2022-11-06T06:40:06.893Z"
   },
   {
    "duration": 11,
    "start_time": "2022-11-06T06:40:07.014Z"
   },
   {
    "duration": 7,
    "start_time": "2022-11-06T06:40:07.026Z"
   },
   {
    "duration": 7,
    "start_time": "2022-11-06T06:40:07.035Z"
   },
   {
    "duration": 6,
    "start_time": "2022-11-06T06:40:07.044Z"
   },
   {
    "duration": 7,
    "start_time": "2022-11-06T06:40:07.051Z"
   },
   {
    "duration": 24,
    "start_time": "2022-11-06T06:40:07.060Z"
   },
   {
    "duration": 1339,
    "start_time": "2022-11-06T06:40:07.085Z"
   },
   {
    "duration": 9,
    "start_time": "2022-11-06T06:40:08.425Z"
   },
   {
    "duration": 53,
    "start_time": "2022-11-06T06:40:08.436Z"
   },
   {
    "duration": 10,
    "start_time": "2022-11-06T06:42:31.418Z"
   },
   {
    "duration": 4,
    "start_time": "2022-11-06T06:42:37.459Z"
   },
   {
    "duration": 3,
    "start_time": "2022-11-06T06:43:00.370Z"
   },
   {
    "duration": 10,
    "start_time": "2022-11-06T06:45:09.133Z"
   }
  ],
  "kernelspec": {
   "display_name": "Python 3 (ipykernel)",
   "language": "python",
   "name": "python3"
  },
  "language_info": {
   "codemirror_mode": {
    "name": "ipython",
    "version": 3
   },
   "file_extension": ".py",
   "mimetype": "text/x-python",
   "name": "python",
   "nbconvert_exporter": "python",
   "pygments_lexer": "ipython3",
   "version": "3.9.12"
  },
  "toc": {
   "base_numbering": 1,
   "nav_menu": {},
   "number_sections": true,
   "sideBar": true,
   "skip_h1_title": true,
   "title_cell": "Table of Contents",
   "title_sidebar": "Contents",
   "toc_cell": false,
   "toc_position": {},
   "toc_section_display": true,
   "toc_window_display": false
  }
 },
 "nbformat": 4,
 "nbformat_minor": 2
}
