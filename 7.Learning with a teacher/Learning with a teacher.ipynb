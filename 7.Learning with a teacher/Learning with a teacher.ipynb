{
 "cells": [
  {
   "cell_type": "markdown",
   "metadata": {
    "toc": true
   },
   "source": [
    "<h1>Содержание<span class=\"tocSkip\"></span></h1>\n",
    "<div class=\"toc\"><ul class=\"toc-item\"><li><span><a href=\"#Подготовка-данных\" data-toc-modified-id=\"Подготовка-данных-1\"><span class=\"toc-item-num\">1&nbsp;&nbsp;</span>Подготовка данных</a></span></li><li><span><a href=\"#Исследование-задачи\" data-toc-modified-id=\"Исследование-задачи-2\"><span class=\"toc-item-num\">2&nbsp;&nbsp;</span>Исследование задачи</a></span></li><li><span><a href=\"#Борьба-с-дисбалансом\" data-toc-modified-id=\"Борьба-с-дисбалансом-3\"><span class=\"toc-item-num\">3&nbsp;&nbsp;</span>Борьба с дисбалансом</a></span></li><li><span><a href=\"#Тестирование-модели\" data-toc-modified-id=\"Тестирование-модели-4\"><span class=\"toc-item-num\">4&nbsp;&nbsp;</span>Тестирование модели</a></span></li><li><span><a href=\"#Чек-лист-готовности-проекта\" data-toc-modified-id=\"Чек-лист-готовности-проекта-5\"><span class=\"toc-item-num\">5&nbsp;&nbsp;</span>Чек-лист готовности проекта</a></span></li></ul></div>"
   ]
  },
  {
   "cell_type": "markdown",
   "metadata": {},
   "source": [
    "# Отток клиентов"
   ]
  },
  {
   "cell_type": "markdown",
   "metadata": {},
   "source": [
    "Из «Бета-Банка» стали уходить клиенты. Каждый месяц. Немного, но заметно. Банковские маркетологи посчитали: сохранять текущих клиентов дешевле, чем привлекать новых.\n",
    "\n",
    "Нужно спрогнозировать, уйдёт клиент из банка в ближайшее время или нет. Вам предоставлены исторические данные о поведении клиентов и расторжении договоров с банком. \n",
    "\n",
    "Постройте модель с предельно большим значением *F1*-меры. Чтобы сдать проект успешно, нужно довести метрику до 0.59. Проверьте *F1*-меру на тестовой выборке самостоятельно.\n",
    "\n",
    "Дополнительно измеряйте *AUC-ROC*, сравнивайте её значение с *F1*-мерой.\n",
    "\n",
    "Источник данных: [https://www.kaggle.com/barelydedicated/bank-customer-churn-modeling](https://www.kaggle.com/barelydedicated/bank-customer-churn-modeling)"
   ]
  },
  {
   "cell_type": "markdown",
   "metadata": {},
   "source": [
    "Удержание клиентов\n",
    "\n",
    "Данный проект направлен на изучение потока клиентов в банке.\n",
    "\n",
    "Основная цель предсказать уходимость клиентов, для возможного их удержания."
   ]
  },
  {
   "cell_type": "markdown",
   "metadata": {},
   "source": [
    "## Подготовка данных"
   ]
  },
  {
   "cell_type": "code",
   "execution_count": 1,
   "metadata": {},
   "outputs": [],
   "source": [
    "import pandas as pd\n",
    "import numpy as np\n",
    "from sklearn.model_selection import train_test_split\n",
    "from sklearn.utils import shuffle\n",
    "from sklearn.tree import DecisionTreeClassifier\n",
    "from sklearn.preprocessing import StandardScaler\n",
    "from sklearn.metrics import f1_score\n",
    "from sklearn.metrics import recall_score\n",
    "from sklearn.metrics import precision_score\n",
    "from sklearn.linear_model import LogisticRegression\n",
    "from sklearn.metrics import roc_auc_score\n",
    "from sklearn.ensemble import RandomForestClassifier\n",
    "random = 12345\n",
    "\n"
   ]
  },
  {
   "cell_type": "markdown",
   "metadata": {},
   "source": [
    "выгружаем нужные библиотеки"
   ]
  },
  {
   "cell_type": "code",
   "execution_count": 2,
   "metadata": {},
   "outputs": [],
   "source": [
    "data = pd.read_csv('/datasets/Churn.csv')"
   ]
  },
  {
   "cell_type": "markdown",
   "metadata": {},
   "source": [
    "Грузим данные"
   ]
  },
  {
   "cell_type": "code",
   "execution_count": 3,
   "metadata": {
    "scrolled": true
   },
   "outputs": [
    {
     "name": "stdout",
     "output_type": "stream",
     "text": [
      "<class 'pandas.core.frame.DataFrame'>\n",
      "RangeIndex: 10000 entries, 0 to 9999\n",
      "Data columns (total 14 columns):\n",
      " #   Column           Non-Null Count  Dtype  \n",
      "---  ------           --------------  -----  \n",
      " 0   RowNumber        10000 non-null  int64  \n",
      " 1   CustomerId       10000 non-null  int64  \n",
      " 2   Surname          10000 non-null  object \n",
      " 3   CreditScore      10000 non-null  int64  \n",
      " 4   Geography        10000 non-null  object \n",
      " 5   Gender           10000 non-null  object \n",
      " 6   Age              10000 non-null  int64  \n",
      " 7   Tenure           9091 non-null   float64\n",
      " 8   Balance          10000 non-null  float64\n",
      " 9   NumOfProducts    10000 non-null  int64  \n",
      " 10  HasCrCard        10000 non-null  int64  \n",
      " 11  IsActiveMember   10000 non-null  int64  \n",
      " 12  EstimatedSalary  10000 non-null  float64\n",
      " 13  Exited           10000 non-null  int64  \n",
      "dtypes: float64(3), int64(8), object(3)\n",
      "memory usage: 1.1+ MB\n",
      "None\n",
      "\n",
      "   RowNumber  CustomerId   Surname  CreditScore Geography  Gender  Age  \\\n",
      "0          1    15634602  Hargrave          619    France  Female   42   \n",
      "1          2    15647311      Hill          608     Spain  Female   41   \n",
      "2          3    15619304      Onio          502    France  Female   42   \n",
      "3          4    15701354      Boni          699    France  Female   39   \n",
      "4          5    15737888  Mitchell          850     Spain  Female   43   \n",
      "\n",
      "   Tenure    Balance  NumOfProducts  HasCrCard  IsActiveMember  \\\n",
      "0     2.0       0.00              1          1               1   \n",
      "1     1.0   83807.86              1          0               1   \n",
      "2     8.0  159660.80              3          1               0   \n",
      "3     1.0       0.00              2          0               0   \n",
      "4     2.0  125510.82              1          1               1   \n",
      "\n",
      "   EstimatedSalary  Exited  \n",
      "0        101348.88       1  \n",
      "1        112542.58       0  \n",
      "2        113931.57       1  \n",
      "3         93826.63       0  \n",
      "4         79084.10       0  \n",
      "\n"
     ]
    }
   ],
   "source": [
    "print(data.info())\n",
    "print()\n",
    "print(data.head())\n",
    "print()\n"
   ]
  },
  {
   "cell_type": "markdown",
   "metadata": {},
   "source": [
    "Изучаем данные, на корректность типа данных и повторений\n",
    "\n",
    "Tenure - есть пустые значения, но пока не уверен корректно ли заменить на 0 или среднее"
   ]
  },
  {
   "cell_type": "code",
   "execution_count": 4,
   "metadata": {},
   "outputs": [
    {
     "data": {
      "image/png": "[encoded data removed]",
      "text/plain": [
       "<Figure size 864x864 with 121 Axes>"
      ]
     },
     "metadata": {
      "needs_background": "light"
     },
     "output_type": "display_data"
    }
   ],
   "source": [
    "pd.plotting.scatter_matrix(data, alpha=0.2, figsize= (12.0, 12.0));"
   ]
  },
  {
   "cell_type": "code",
   "execution_count": 5,
   "metadata": {
    "scrolled": false
   },
   "outputs": [
    {
     "name": "stdout",
     "output_type": "stream",
     "text": [
      "(10000, 14)\n",
      "(9091, 14)\n"
     ]
    }
   ],
   "source": [
    "print(data.shape)\n",
    "data = data.drop_duplicates().dropna()\n",
    "print(data.shape)"
   ]
  },
  {
   "cell_type": "markdown",
   "metadata": {},
   "source": [
    "Есть небольшое количество строчек с пустых данными. Их не заменить ни на 0, ни на среднее по Tenure, поэтому удалим"
   ]
  },
  {
   "cell_type": "code",
   "execution_count": 6,
   "metadata": {
    "scrolled": true
   },
   "outputs": [
    {
     "name": "stdout",
     "output_type": "stream",
     "text": [
      "   RowNumber  CustomerId   Surname  CreditScore Geography  Gender  Age  \\\n",
      "0          1    15634602  Hargrave          619    France  Female   42   \n",
      "1          2    15647311      Hill          608     Spain  Female   41   \n",
      "2          3    15619304      Onio          502    France  Female   42   \n",
      "3          4    15701354      Boni          699    France  Female   39   \n",
      "4          5    15737888  Mitchell          850     Spain  Female   43   \n",
      "\n",
      "   Tenure    Balance  NumOfProducts  HasCrCard  IsActiveMember  \\\n",
      "0     2.0       0.00              1          1               1   \n",
      "1     1.0   83807.86              1          0               1   \n",
      "2     8.0  159660.80              3          1               0   \n",
      "3     1.0       0.00              2          0               0   \n",
      "4     2.0  125510.82              1          1               1   \n",
      "\n",
      "   EstimatedSalary  Exited  \n",
      "0        101348.88       1  \n",
      "1        112542.58       0  \n",
      "2        113931.57       1  \n",
      "3         93826.63       0  \n",
      "4         79084.10       0  \n"
     ]
    }
   ],
   "source": [
    "print(data.head())"
   ]
  },
  {
   "cell_type": "code",
   "execution_count": 7,
   "metadata": {
    "scrolled": true
   },
   "outputs": [
    {
     "name": "stdout",
     "output_type": "stream",
     "text": [
      "   RowNumber  CustomerId  CreditScore Geography  Gender  Age  Tenure  \\\n",
      "0          1    15634602          619    France  Female   42     2.0   \n",
      "1          2    15647311          608     Spain  Female   41     1.0   \n",
      "2          3    15619304          502    France  Female   42     8.0   \n",
      "3          4    15701354          699    France  Female   39     1.0   \n",
      "4          5    15737888          850     Spain  Female   43     2.0   \n",
      "\n",
      "     Balance  NumOfProducts  HasCrCard  IsActiveMember  EstimatedSalary  \\\n",
      "0       0.00              1          1               1        101348.88   \n",
      "1   83807.86              1          0               1        112542.58   \n",
      "2  159660.80              3          1               0        113931.57   \n",
      "3       0.00              2          0               0         93826.63   \n",
      "4  125510.82              1          1               1         79084.10   \n",
      "\n",
      "   Exited  \n",
      "0       1  \n",
      "1       0  \n",
      "2       1  \n",
      "3       0  \n",
      "4       0  \n"
     ]
    }
   ],
   "source": [
    "data = data.drop([\"Surname\"], axis=1)\n",
    "print(data.head())"
   ]
  },
  {
   "cell_type": "markdown",
   "metadata": {},
   "source": [
    "Убираем не нужные столбцы для OHE"
   ]
  },
  {
   "cell_type": "code",
   "execution_count": 8,
   "metadata": {},
   "outputs": [
    {
     "name": "stdout",
     "output_type": "stream",
     "text": [
      "   RowNumber  CustomerId  CreditScore  Age  Tenure    Balance  NumOfProducts  \\\n",
      "0          1    15634602          619   42     2.0       0.00              1   \n",
      "1          2    15647311          608   41     1.0   83807.86              1   \n",
      "2          3    15619304          502   42     8.0  159660.80              3   \n",
      "3          4    15701354          699   39     1.0       0.00              2   \n",
      "4          5    15737888          850   43     2.0  125510.82              1   \n",
      "\n",
      "   HasCrCard  IsActiveMember  EstimatedSalary  Exited  Geography_Germany  \\\n",
      "0          1               1        101348.88       1                  0   \n",
      "1          0               1        112542.58       0                  0   \n",
      "2          1               0        113931.57       1                  0   \n",
      "3          0               0         93826.63       0                  0   \n",
      "4          1               1         79084.10       0                  0   \n",
      "\n",
      "   Geography_Spain  Gender_Male  \n",
      "0                0            0  \n",
      "1                1            0  \n",
      "2                0            0  \n",
      "3                0            0  \n",
      "4                1            0  \n"
     ]
    }
   ],
   "source": [
    "data_ohe = pd.get_dummies(data , drop_first=True)\n",
    "\n",
    "print(data_ohe.head())"
   ]
  },
  {
   "cell_type": "markdown",
   "metadata": {},
   "source": [
    "## Исследование задачи"
   ]
  },
  {
   "cell_type": "markdown",
   "metadata": {},
   "source": [
    "Изучаем данные по критерию"
   ]
  },
  {
   "cell_type": "code",
   "execution_count": 9,
   "metadata": {
    "scrolled": false
   },
   "outputs": [
    {
     "name": "stdout",
     "output_type": "stream",
     "text": [
      "                   Exited\n",
      "RowNumber          0         7237\n",
      "                   1         1854\n",
      "CustomerId         0         7237\n",
      "                   1         1854\n",
      "CreditScore        0         7237\n",
      "                   1         1854\n",
      "Age                0         7237\n",
      "                   1         1854\n",
      "Tenure             0         7237\n",
      "                   1         1854\n",
      "Balance            0         7237\n",
      "                   1         1854\n",
      "NumOfProducts      0         7237\n",
      "                   1         1854\n",
      "HasCrCard          0         7237\n",
      "                   1         1854\n",
      "IsActiveMember     0         7237\n",
      "                   1         1854\n",
      "EstimatedSalary    0         7237\n",
      "                   1         1854\n",
      "Geography_Germany  0         7237\n",
      "                   1         1854\n",
      "Geography_Spain    0         7237\n",
      "                   1         1854\n",
      "Gender_Male        0         7237\n",
      "                   1         1854\n",
      "dtype: int64\n"
     ]
    }
   ],
   "source": [
    "print(data_ohe.pivot(columns = 'Exited').count())"
   ]
  },
  {
   "cell_type": "code",
   "execution_count": 10,
   "metadata": {},
   "outputs": [
    {
     "data": {
      "text/plain": [
       "<AxesSubplot:>"
      ]
     },
     "execution_count": 10,
     "metadata": {},
     "output_type": "execute_result"
    },
    {
     "data": {
      "image/png": "[encoded data removed]",
      "text/plain": [
       "<Figure size 360x360 with 1 Axes>"
      ]
     },
     "metadata": {},
     "output_type": "display_data"
    }
   ],
   "source": [
    "data_ohe_pie = data_ohe.pivot(columns = 'Exited')['Age'].count()\n",
    "data_ohe_pie.plot.pie(figsize=(5, 5))"
   ]
  },
  {
   "cell_type": "markdown",
   "metadata": {},
   "source": [
    "Ушло - 2037\n",
    "Осталось - 7963"
   ]
  },
  {
   "cell_type": "code",
   "execution_count": 11,
   "metadata": {},
   "outputs": [],
   "source": [
    "features = data_ohe.drop(['Exited'], axis=1)\n",
    "target = data_ohe['Exited']"
   ]
  },
  {
   "cell_type": "markdown",
   "metadata": {},
   "source": [
    "Проверим модель с дисбалансом"
   ]
  },
  {
   "cell_type": "markdown",
   "metadata": {},
   "source": [
    "Сделаем разбивку"
   ]
  },
  {
   "cell_type": "code",
   "execution_count": 12,
   "metadata": {},
   "outputs": [],
   "source": [
    "features_train, features_valid_test, target_train, target_valid_test = train_test_split(\n",
    "features, target, test_size=0.4, random_state=random)\n",
    "features_valid, features_test, target_valid, target_test = train_test_split(\n",
    "features_valid_test, target_valid_test, test_size=0.5, random_state=random)\n",
    "#print(features_upsampled.head(2))"
   ]
  },
  {
   "cell_type": "code",
   "execution_count": 13,
   "metadata": {},
   "outputs": [
    {
     "name": "stdout",
     "output_type": "stream",
     "text": [
      "   RowNumber  CustomerId  CreditScore  Age  Tenure    Balance  NumOfProducts  \\\n",
      "0          1    15634602          619   42     2.0       0.00              1   \n",
      "1          2    15647311          608   41     1.0   83807.86              1   \n",
      "2          3    15619304          502   42     8.0  159660.80              3   \n",
      "3          4    15701354          699   39     1.0       0.00              2   \n",
      "4          5    15737888          850   43     2.0  125510.82              1   \n",
      "5          6    15574012          645   44     8.0  113755.78              2   \n",
      "6          7    15592531          822   50     7.0       0.00              2   \n",
      "7          8    15656148          376   29     4.0  115046.74              4   \n",
      "8          9    15792365          501   44     4.0  142051.07              2   \n",
      "9         10    15592389          684   27     2.0  134603.88              1   \n",
      "\n",
      "   HasCrCard  IsActiveMember  EstimatedSalary  Geography_Germany  \\\n",
      "0          1               1        101348.88                  0   \n",
      "1          0               1        112542.58                  0   \n",
      "2          1               0        113931.57                  0   \n",
      "3          0               0         93826.63                  0   \n",
      "4          1               1         79084.10                  0   \n",
      "5          1               0        149756.71                  0   \n",
      "6          1               1         10062.80                  0   \n",
      "7          1               0        119346.88                  1   \n",
      "8          0               1         74940.50                  0   \n",
      "9          1               1         71725.73                  0   \n",
      "\n",
      "   Geography_Spain  Gender_Male  \n",
      "0                0            0  \n",
      "1                1            0  \n",
      "2                0            0  \n",
      "3                0            0  \n",
      "4                1            0  \n",
      "5                1            1  \n",
      "6                0            1  \n",
      "7                0            0  \n",
      "8                0            1  \n",
      "9                0            1  \n"
     ]
    }
   ],
   "source": [
    "print(features.head(10))"
   ]
  },
  {
   "cell_type": "code",
   "execution_count": 14,
   "metadata": {
    "scrolled": true
   },
   "outputs": [],
   "source": [
    "numeric = ['RowNumber', 'CustomerId', 'CreditScore', 'Age', 'Tenure', 'Balance', 'NumOfProducts', 'HasCrCard', 'IsActiveMember', 'EstimatedSalary', 'Geography_Germany', 'Geography_Spain', 'Gender_Male']\n",
    "\n",
    "scaler = StandardScaler()\n",
    "scaler.fit(features[numeric])\n",
    "features_train[numeric] = scaler.transform(features_train[numeric])\n",
    "features_valid[numeric] = scaler.transform(features_valid[numeric])\n",
    "features_test[numeric] = scaler.transform(features_test[numeric])"
   ]
  },
  {
   "cell_type": "markdown",
   "metadata": {},
   "source": [
    "Проверим несколько моделей"
   ]
  },
  {
   "cell_type": "markdown",
   "metadata": {},
   "source": [
    "Создаем модель - LogisticRegression"
   ]
  },
  {
   "cell_type": "code",
   "execution_count": 15,
   "metadata": {},
   "outputs": [
    {
     "name": "stdout",
     "output_type": "stream",
     "text": [
      "0.3055555555555556\n",
      "0.7737903055091789\n"
     ]
    }
   ],
   "source": [
    "model = LogisticRegression(random_state=random, solver='liblinear') \n",
    "model.fit(features_train, target_train) \n",
    "\n",
    "predicted_valid = model.predict(features_valid)\n",
    "\n",
    "print(f1_score(target_valid, predicted_valid))\n",
    "\n",
    "probabilities_valid = model.predict_proba(features_valid)\n",
    "probabilities_one_valid = probabilities_valid[:, 1]\n",
    "auc_roc = roc_auc_score(target_valid, probabilities_one_valid)\n",
    "print(auc_roc)"
   ]
  },
  {
   "cell_type": "markdown",
   "metadata": {},
   "source": [
    "Вывод. При дисбалансе классов, метрика F1 очень низкая, поэтому необходимо обучить модель на равноценных данных\n"
   ]
  },
  {
   "cell_type": "markdown",
   "metadata": {},
   "source": [
    "Создаем модель - DecisionTreeClassifier"
   ]
  },
  {
   "cell_type": "code",
   "execution_count": 16,
   "metadata": {
    "scrolled": false
   },
   "outputs": [
    {
     "name": "stdout",
     "output_type": "stream",
     "text": [
      "0.5800316957210777\n",
      "0.6791693434230943\n"
     ]
    }
   ],
   "source": [
    "f1_score_best_dtc = 0.0\n",
    "\n",
    "for depth in range(1,30,1):\n",
    "    model_dtc = DecisionTreeClassifier( max_depth=depth, random_state=random)\n",
    "    model_dtc.fit(features_train, target_train) \n",
    "    predicted_valid = model_dtc.predict(features_valid)\n",
    "    if f1_score(target_valid, predicted_valid) > f1_score_best_dtc:\n",
    "        f1_score_best_dtc = f1_score(target_valid, predicted_valid)\n",
    "\n",
    "    \n",
    "print(f1_score_best_dtc)\n",
    "\n",
    "probabilities_valid = model_dtc.predict_proba(features_valid)\n",
    "probabilities_one_valid = probabilities_valid[:, 1]\n",
    "auc_roc = roc_auc_score(target_valid, probabilities_one_valid)\n",
    "print(auc_roc)"
   ]
  },
  {
   "cell_type": "markdown",
   "metadata": {},
   "source": [
    "DecisionTreeClassifier даже на насбалансированой выборке дает более высокий результат, но недостаточный. "
   ]
  },
  {
   "cell_type": "markdown",
   "metadata": {},
   "source": [
    "Модель - RandomForestClassifier"
   ]
  },
  {
   "cell_type": "code",
   "execution_count": 17,
   "metadata": {},
   "outputs": [
    {
     "name": "stdout",
     "output_type": "stream",
     "text": [
      "0.6032786885245902\n",
      "0.8456080639549974\n"
     ]
    }
   ],
   "source": [
    "f1_score_best_rfc = 0.0\n",
    "\n",
    "for est in range(1, 25):\n",
    "    for depth in range(1, 30, 1):\n",
    "        model_rfc = RandomForestClassifier(random_state=random, n_estimators=est, max_depth=depth)\n",
    "        model_rfc.fit(features_train,target_train)\n",
    "        predicted_valid = model_rfc.predict(features_valid)\n",
    "        if f1_score(target_valid, predicted_valid) > f1_score_best_rfc:\n",
    "            f1_score_best_rfc = f1_score(target_valid, predicted_valid)\n",
    "\n",
    "    \n",
    "print(f1_score_best_rfc)\n",
    "\n",
    "probabilities_valid = model_rfc.predict_proba(features_valid)\n",
    "probabilities_one_valid = probabilities_valid[:, 1]\n",
    "auc_roc = roc_auc_score(target_valid, probabilities_one_valid)\n",
    "print(auc_roc)"
   ]
  },
  {
   "cell_type": "markdown",
   "metadata": {},
   "source": [
    "RandomForestClassifier даже на несбалансированой выборке дает хороший результат"
   ]
  },
  {
   "cell_type": "markdown",
   "metadata": {},
   "source": [
    "## Борьба с дисбалансом"
   ]
  },
  {
   "cell_type": "markdown",
   "metadata": {},
   "source": [
    "Создадим функцию, для баланса классов"
   ]
  },
  {
   "cell_type": "code",
   "execution_count": 18,
   "metadata": {},
   "outputs": [],
   "source": [
    "def upsample(features, target, repeat):\n",
    "    features_zeros = features[target == 0]\n",
    "    features_ones = features[target == 1]\n",
    "    target_zeros = target[target == 0]\n",
    "    target_ones = target[target == 1]\n",
    "    features_upsampled = pd.concat([features_zeros] + [features_ones] * repeat)\n",
    "    target_upsampled = pd.concat([target_zeros] + [target_ones] * repeat)\n",
    "    features_upsampled, target_upsampled = shuffle(\n",
    "    features_upsampled, target_upsampled, random_state=12345)\n",
    "    return features_upsampled, target_upsampled\n",
    "\n",
    "\n",
    "features_upsampled_train, target_upsampled_train = upsample(features_train, target_train, 4)"
   ]
  },
  {
   "cell_type": "markdown",
   "metadata": {},
   "source": [
    "Проверим баланс"
   ]
  },
  {
   "cell_type": "code",
   "execution_count": 19,
   "metadata": {
    "scrolled": false
   },
   "outputs": [
    {
     "name": "stdout",
     "output_type": "stream",
     "text": [
      "1    4504\n",
      "0    4328\n",
      "Name: Exited, dtype: int64\n"
     ]
    }
   ],
   "source": [
    "print(target_upsampled_train.value_counts())"
   ]
  },
  {
   "cell_type": "markdown",
   "metadata": {},
   "source": [
    "Баланс около 50/50"
   ]
  },
  {
   "cell_type": "markdown",
   "metadata": {},
   "source": [
    "Разделим выборку"
   ]
  },
  {
   "cell_type": "markdown",
   "metadata": {},
   "source": [
    "LogisticRegression - Метод upsample"
   ]
  },
  {
   "cell_type": "code",
   "execution_count": 20,
   "metadata": {
    "scrolled": false
   },
   "outputs": [
    {
     "name": "stdout",
     "output_type": "stream",
     "text": [
      "0.5063752276867031\n",
      "0.7782246708279874\n"
     ]
    }
   ],
   "source": [
    "model_lr_upsample = LogisticRegression(random_state=random, solver='liblinear') \n",
    "model_lr_upsample.fit(features_upsampled_train, target_upsampled_train) \n",
    "\n",
    "predicted_valid = model_lr_upsample.predict(features_valid)\n",
    "\n",
    "print(f1_score(target_valid, predicted_valid))\n",
    "\n",
    "probabilities_valid = model_lr_upsample.predict_proba(features_valid)\n",
    "probabilities_one_valid = probabilities_valid[:, 1]\n",
    "auc_roc = roc_auc_score(target_valid, probabilities_one_valid)\n",
    "print(auc_roc)"
   ]
  },
  {
   "cell_type": "markdown",
   "metadata": {},
   "source": [
    "Данный метод не достаточен. Нужно более высокое значение метрики F1"
   ]
  },
  {
   "cell_type": "markdown",
   "metadata": {},
   "source": [
    "LogisticRegression - Метод class_weight = 'balanced'"
   ]
  },
  {
   "cell_type": "code",
   "execution_count": 21,
   "metadata": {
    "scrolled": false
   },
   "outputs": [
    {
     "name": "stdout",
     "output_type": "stream",
     "text": [
      "0.5102420856610802\n",
      "0.7781565630999693\n"
     ]
    }
   ],
   "source": [
    "model_lr_balanced = LogisticRegression(random_state=random, solver='liblinear', class_weight = 'balanced') \n",
    "model_lr_balanced.fit(features_train, target_train) \n",
    "\n",
    "predicted_valid = model_lr_balanced.predict(features_valid)\n",
    "\n",
    "print(f1_score(target_valid, predicted_valid))\n",
    "\n",
    "probabilities_valid = model_lr_balanced.predict_proba(features_valid)\n",
    "probabilities_one_valid = probabilities_valid[:, 1]\n",
    "auc_roc = roc_auc_score(target_valid, probabilities_one_valid)\n",
    "print(auc_roc)"
   ]
  },
  {
   "cell_type": "markdown",
   "metadata": {},
   "source": [
    "Данный метод не достаточен. Нужно более высокое значение метрики F1"
   ]
  },
  {
   "cell_type": "markdown",
   "metadata": {},
   "source": [
    "DecisionTreeClassifier - Метод class_weight = 'balanced'DecisionTreeClassifier"
   ]
  },
  {
   "cell_type": "code",
   "execution_count": 22,
   "metadata": {
    "scrolled": true
   },
   "outputs": [
    {
     "name": "stdout",
     "output_type": "stream",
     "text": [
      "0.5705196182396607\n",
      "0.679431650213435\n"
     ]
    }
   ],
   "source": [
    "f1_score_best_balanced = 0.0\n",
    "\n",
    "for depth in range(1,30,1):\n",
    "    model_dtc_balanced = DecisionTreeClassifier( max_depth=depth, random_state=random, class_weight = 'balanced')\n",
    "    model_dtc_balanced.fit(features_train, target_train) \n",
    "    predicted_valid = model_dtc_balanced.predict(features_valid)\n",
    "    if f1_score(target_valid, predicted_valid) > f1_score_best_balanced:\n",
    "        f1_score_best_balanced = f1_score(target_valid, predicted_valid)\n",
    "\n",
    "    \n",
    "print(f1_score_best_balanced)\n",
    "\n",
    "probabilities_valid = model_dtc_balanced.predict_proba(features_valid)\n",
    "probabilities_one_valid = probabilities_valid[:, 1]\n",
    "auc_roc = roc_auc_score(target_valid, probabilities_one_valid)\n",
    "print(auc_roc)"
   ]
  },
  {
   "cell_type": "markdown",
   "metadata": {},
   "source": [
    "Данный метод не достаточен. Нужно более высокое значение метрики F1"
   ]
  },
  {
   "cell_type": "markdown",
   "metadata": {},
   "source": [
    "DecisionTreeClassifier - Метод upsample"
   ]
  },
  {
   "cell_type": "code",
   "execution_count": 23,
   "metadata": {
    "scrolled": true
   },
   "outputs": [
    {
     "name": "stdout",
     "output_type": "stream",
     "text": [
      "0.5705196182396607\n",
      "0.6621902709030901\n"
     ]
    }
   ],
   "source": [
    "f1_score_best_upsample = 0.0\n",
    "\n",
    "for depth in range(1,30,1):\n",
    "    model_dtc_upsample = DecisionTreeClassifier( max_depth=depth, random_state=random)\n",
    "    model_dtc_upsample.fit(features_upsampled_train, target_upsampled_train) \n",
    "    predicted_valid = model_dtc_upsample.predict(features_valid)\n",
    "    if f1_score(target_valid, predicted_valid) > f1_score_best_upsample:\n",
    "        f1_score_best_upsample = f1_score(target_valid, predicted_valid)\n",
    "\n",
    "    \n",
    "print(f1_score_best_upsample)\n",
    "\n",
    "probabilities_valid = model_dtc_upsample.predict_proba(features_valid)\n",
    "probabilities_one_valid = probabilities_valid[:, 1]\n",
    "auc_roc = roc_auc_score(target_valid, probabilities_one_valid)\n",
    "print(auc_roc)"
   ]
  },
  {
   "cell_type": "markdown",
   "metadata": {},
   "source": [
    "Данный метод не достаточен. Нужно более высокое значение метрики F1"
   ]
  },
  {
   "cell_type": "markdown",
   "metadata": {},
   "source": [
    "RandomForestClassifier - Метод class_weight = 'balanced'"
   ]
  },
  {
   "cell_type": "code",
   "execution_count": 24,
   "metadata": {
    "scrolled": true
   },
   "outputs": [
    {
     "name": "stdout",
     "output_type": "stream",
     "text": [
      "0.6331658291457286\n",
      "0.8537524597013936\n"
     ]
    }
   ],
   "source": [
    "f1_score_best_rfc_balanced = 0.0\n",
    "best_model_rfc_balanced = None\n",
    "\n",
    "for est in range(1, 25):\n",
    "    for depth in range(1, 30, 1):\n",
    "        model_rfc_balanced = RandomForestClassifier(random_state=random, n_estimators=est, max_depth=depth, class_weight = 'balanced')\n",
    "        model_rfc_balanced.fit(features_train,target_train)\n",
    "        predicted_valid = model_rfc_balanced.predict(features_valid)\n",
    "        if f1_score(target_valid, predicted_valid) > f1_score_best_rfc_balanced:\n",
    "            f1_score_best_rfc_balanced = f1_score(target_valid, predicted_valid)\n",
    "            best_model_rfc_balanced = model_rfc_balanced\n",
    "\n",
    "    \n",
    "print(f1_score_best_rfc_balanced)\n",
    "\n",
    "probabilities_valid = model_rfc_balanced.predict_proba(features_valid)\n",
    "probabilities_one_valid = probabilities_valid[:, 1]\n",
    "auc_roc = roc_auc_score(target_valid, probabilities_one_valid)\n",
    "print(auc_roc)"
   ]
  },
  {
   "cell_type": "markdown",
   "metadata": {},
   "source": [
    "Результат хороший"
   ]
  },
  {
   "cell_type": "markdown",
   "metadata": {},
   "source": [
    "RandomForestClassifier - Метод upsample"
   ]
  },
  {
   "cell_type": "code",
   "execution_count": 25,
   "metadata": {},
   "outputs": [
    {
     "name": "stdout",
     "output_type": "stream",
     "text": [
      "0.6276150627615062\n",
      "0.8530704620465084\n"
     ]
    }
   ],
   "source": [
    "f1_score_best_rfc_upsample = 0.0\n",
    "best_model_rfc_upsample = None\n",
    "\n",
    "for est in range(1, 25):\n",
    "    for depth in range(1, 30, 1):\n",
    "        model_rfc_upsample = RandomForestClassifier(random_state=random, n_estimators=est, max_depth=depth)\n",
    "        model_rfc_upsample.fit(features_upsampled_train, target_upsampled_train)\n",
    "        predicted_valid = model_rfc_upsample.predict(features_valid)\n",
    "        if f1_score(target_valid, predicted_valid) > f1_score_best_rfc_upsample:\n",
    "            f1_score_best_rfc_upsample = f1_score(target_valid, predicted_valid)\n",
    "            best_model_rfc_upsample = model_rfc_upsample\n",
    "\n",
    "    \n",
    "print(f1_score_best_rfc_upsample)\n",
    "\n",
    "probabilities_valid = model_rfc_upsample.predict_proba(features_valid)\n",
    "probabilities_one_valid = probabilities_valid[:, 1]\n",
    "auc_roc = roc_auc_score(target_valid, probabilities_one_valid)\n",
    "print(auc_roc)"
   ]
  },
  {
   "cell_type": "markdown",
   "metadata": {},
   "source": [
    "Результат хороший"
   ]
  },
  {
   "cell_type": "markdown",
   "metadata": {},
   "source": [
    "## Тестирование модели"
   ]
  },
  {
   "cell_type": "markdown",
   "metadata": {},
   "source": [
    "Посмотриим 2 модели с наивысшим результатом"
   ]
  },
  {
   "cell_type": "code",
   "execution_count": 26,
   "metadata": {
    "scrolled": true
   },
   "outputs": [
    {
     "name": "stdout",
     "output_type": "stream",
     "text": [
      "0.5928961748633879\n",
      "0.8547435509288371\n"
     ]
    }
   ],
   "source": [
    "predicted_test = best_model_rfc_balanced.predict(features_test)\n",
    "\n",
    "print(f1_score(target_test, predicted_test))\n",
    "\n",
    "probabilities_test = best_model_rfc_balanced.predict_proba(features_test)\n",
    "probabilities_one_test = probabilities_test[:, 1]\n",
    "auc_roc = roc_auc_score(target_test, probabilities_one_test)\n",
    "print(auc_roc)"
   ]
  },
  {
   "cell_type": "markdown",
   "metadata": {},
   "source": [
    "На тестовой выборке результат не достиг нужный результатов\n"
   ]
  },
  {
   "cell_type": "code",
   "execution_count": 27,
   "metadata": {
    "scrolled": false
   },
   "outputs": [
    {
     "name": "stdout",
     "output_type": "stream",
     "text": [
      "0.6005830903790087\n",
      "0.8419550602793111\n"
     ]
    }
   ],
   "source": [
    "predicted_test = best_model_rfc_upsample.predict(features_test)\n",
    "\n",
    "print(f1_score(target_test, predicted_test))\n",
    "\n",
    "probabilities_test = best_model_rfc_upsample.predict_proba(features_test)\n",
    "probabilities_one_test = probabilities_test[:, 1]\n",
    "auc_roc = roc_auc_score(target_test, probabilities_one_test)\n",
    "print(auc_roc)"
   ]
  },
  {
   "cell_type": "markdown",
   "metadata": {},
   "source": [
    "Модель показала нужный результат корректности"
   ]
  },
  {
   "cell_type": "markdown",
   "metadata": {},
   "source": [
    "При изменении баланса классов модель начала лучше воспринимать классы и качество ее увеличилось до необходимых значений."
   ]
  },
  {
   "cell_type": "markdown",
   "metadata": {},
   "source": [
    "Данный проект был направлен на разработку модели, которая будет прогнозировать уход клиентов из банка. Основная цель сосредоточиться на старых клиентах для их удержания. \n",
    "\n",
    "Во время тестов использовали 3 основных модели для теста.\n",
    "Так как выборка была не равнозначна по классам, то балансировали их для получение более точных прогнозов.\n",
    "Наиболее удачной оказалась модель RandomForestClassification с методом ручного баланса классов. \n",
    "Показатель данный модели по метрике F1 оказался выше 0.60"
   ]
  }
 ],
 "metadata": {
  "ExecuteTimeLog": [
   {
    "duration": 45,
    "start_time": "2022-11-10T12:20:38.476Z"
   },
   {
    "duration": 407,
    "start_time": "2022-11-10T12:20:44.399Z"
   },
   {
    "duration": 70,
    "start_time": "2022-11-10T12:20:44.808Z"
   },
   {
    "duration": 13,
    "start_time": "2022-11-10T12:21:19.920Z"
   },
   {
    "duration": 16,
    "start_time": "2022-11-10T12:23:30.822Z"
   },
   {
    "duration": 15,
    "start_time": "2022-11-10T12:28:09.959Z"
   },
   {
    "duration": 38,
    "start_time": "2022-11-10T12:31:30.367Z"
   },
   {
    "duration": 7,
    "start_time": "2022-11-10T12:34:47.554Z"
   },
   {
    "duration": 3,
    "start_time": "2022-11-10T12:34:52.793Z"
   },
   {
    "duration": 33,
    "start_time": "2022-11-10T12:34:53.137Z"
   },
   {
    "duration": 22,
    "start_time": "2022-11-10T12:34:53.506Z"
   },
   {
    "duration": 12,
    "start_time": "2022-11-10T12:34:54.641Z"
   },
   {
    "duration": 7,
    "start_time": "2022-11-10T12:37:46.811Z"
   },
   {
    "duration": 4,
    "start_time": "2022-11-10T12:38:06.658Z"
   },
   {
    "duration": 5,
    "start_time": "2022-11-10T12:39:20.515Z"
   },
   {
    "duration": 4,
    "start_time": "2022-11-10T12:39:41.890Z"
   },
   {
    "duration": 5,
    "start_time": "2022-11-10T12:39:58.457Z"
   },
   {
    "duration": 8,
    "start_time": "2022-11-10T12:40:11.698Z"
   },
   {
    "duration": 106,
    "start_time": "2022-11-10T12:40:47.386Z"
   },
   {
    "duration": 11,
    "start_time": "2022-11-10T12:40:53.428Z"
   },
   {
    "duration": 5,
    "start_time": "2022-11-10T12:41:00.560Z"
   },
   {
    "duration": 7,
    "start_time": "2022-11-10T12:41:08.771Z"
   },
   {
    "duration": 94,
    "start_time": "2022-11-10T12:41:20.353Z"
   },
   {
    "duration": 5,
    "start_time": "2022-11-10T12:41:25.796Z"
   },
   {
    "duration": 5,
    "start_time": "2022-11-10T12:41:31.797Z"
   },
   {
    "duration": 4,
    "start_time": "2022-11-10T12:41:35.139Z"
   },
   {
    "duration": 13,
    "start_time": "2022-11-10T12:41:41.324Z"
   },
   {
    "duration": 8,
    "start_time": "2022-11-10T12:47:32.163Z"
   },
   {
    "duration": 7,
    "start_time": "2022-11-10T12:47:40.637Z"
   },
   {
    "duration": 4,
    "start_time": "2022-11-10T12:47:49.005Z"
   },
   {
    "duration": 3,
    "start_time": "2022-11-10T12:48:16.739Z"
   },
   {
    "duration": 7,
    "start_time": "2022-11-10T12:48:37.101Z"
   },
   {
    "duration": 11,
    "start_time": "2022-11-10T12:48:44.747Z"
   },
   {
    "duration": 5,
    "start_time": "2022-11-10T12:49:05.925Z"
   },
   {
    "duration": 4,
    "start_time": "2022-11-10T12:49:38.262Z"
   },
   {
    "duration": 8,
    "start_time": "2022-11-10T12:50:00.445Z"
   },
   {
    "duration": 4,
    "start_time": "2022-11-10T12:50:08.829Z"
   },
   {
    "duration": 4,
    "start_time": "2022-11-10T12:50:17.637Z"
   },
   {
    "duration": 5,
    "start_time": "2022-11-10T12:50:25.412Z"
   },
   {
    "duration": 15,
    "start_time": "2022-11-10T12:50:58.843Z"
   },
   {
    "duration": 20,
    "start_time": "2022-11-10T12:51:10.133Z"
   },
   {
    "duration": 18,
    "start_time": "2022-11-10T12:51:18.995Z"
   },
   {
    "duration": 12,
    "start_time": "2022-11-10T13:03:28.434Z"
   },
   {
    "duration": 4,
    "start_time": "2022-11-10T13:04:03.426Z"
   },
   {
    "duration": 4,
    "start_time": "2022-11-10T13:04:15.081Z"
   },
   {
    "duration": 9,
    "start_time": "2022-11-10T13:10:59.506Z"
   },
   {
    "duration": 42,
    "start_time": "2022-11-10T13:11:12.682Z"
   },
   {
    "duration": 1374,
    "start_time": "2022-11-10T13:11:56.369Z"
   },
   {
    "duration": 37,
    "start_time": "2022-11-10T13:12:06.579Z"
   },
   {
    "duration": 46,
    "start_time": "2022-11-10T13:12:17.961Z"
   },
   {
    "duration": 2,
    "start_time": "2022-11-10T13:29:50.690Z"
   },
   {
    "duration": 34,
    "start_time": "2022-11-10T13:29:51.080Z"
   },
   {
    "duration": 16,
    "start_time": "2022-11-10T13:29:51.116Z"
   },
   {
    "duration": 9,
    "start_time": "2022-11-10T13:33:05.585Z"
   },
   {
    "duration": 9,
    "start_time": "2022-11-10T13:33:11.051Z"
   },
   {
    "duration": 6,
    "start_time": "2022-11-10T13:33:47.603Z"
   },
   {
    "duration": 2,
    "start_time": "2022-11-10T13:33:55.699Z"
   },
   {
    "duration": 11,
    "start_time": "2022-11-10T13:34:20.561Z"
   },
   {
    "duration": 10,
    "start_time": "2022-11-10T13:34:27.331Z"
   },
   {
    "duration": 10,
    "start_time": "2022-11-10T13:52:06.097Z"
   },
   {
    "duration": 3,
    "start_time": "2022-11-10T13:52:09.300Z"
   },
   {
    "duration": 37,
    "start_time": "2022-11-10T13:52:09.743Z"
   },
   {
    "duration": 22,
    "start_time": "2022-11-10T13:52:10.106Z"
   },
   {
    "duration": 12,
    "start_time": "2022-11-10T13:52:10.480Z"
   },
   {
    "duration": 10,
    "start_time": "2022-11-10T13:52:12.231Z"
   },
   {
    "duration": 70,
    "start_time": "2022-11-10T13:52:23.798Z"
   },
   {
    "duration": 30,
    "start_time": "2022-11-10T13:52:34.848Z"
   },
   {
    "duration": 1247,
    "start_time": "2022-11-10T13:53:52.053Z"
   },
   {
    "duration": 23,
    "start_time": "2022-11-10T13:54:32.465Z"
   },
   {
    "duration": 4,
    "start_time": "2022-11-10T13:58:35.566Z"
   },
   {
    "duration": 4,
    "start_time": "2022-11-10T15:05:12.339Z"
   },
   {
    "duration": 73,
    "start_time": "2022-11-10T15:05:13.270Z"
   },
   {
    "duration": 77,
    "start_time": "2022-11-10T15:05:23.918Z"
   },
   {
    "duration": 19,
    "start_time": "2022-11-10T15:05:30.845Z"
   },
   {
    "duration": 692,
    "start_time": "2022-11-10T15:06:31.396Z"
   },
   {
    "duration": 30,
    "start_time": "2022-11-10T15:06:32.090Z"
   },
   {
    "duration": 16,
    "start_time": "2022-11-10T15:06:32.122Z"
   },
   {
    "duration": 11,
    "start_time": "2022-11-10T15:06:32.612Z"
   },
   {
    "duration": 20,
    "start_time": "2022-11-10T15:06:33.340Z"
   },
   {
    "duration": 4,
    "start_time": "2022-11-10T15:06:34.284Z"
   },
   {
    "duration": 33,
    "start_time": "2022-11-10T15:06:34.642Z"
   },
   {
    "duration": 37,
    "start_time": "2022-11-10T15:10:08.374Z"
   },
   {
    "duration": 23,
    "start_time": "2022-11-10T15:10:14.621Z"
   },
   {
    "duration": 8,
    "start_time": "2022-11-10T15:10:17.020Z"
   },
   {
    "duration": 71,
    "start_time": "2022-11-10T15:10:25.723Z"
   },
   {
    "duration": 29,
    "start_time": "2022-11-10T15:10:30.420Z"
   },
   {
    "duration": 9,
    "start_time": "2022-11-10T15:10:54.982Z"
   },
   {
    "duration": 15,
    "start_time": "2022-11-10T15:13:17.796Z"
   },
   {
    "duration": 8,
    "start_time": "2022-11-10T15:13:20.605Z"
   },
   {
    "duration": 4,
    "start_time": "2022-11-10T15:13:30.951Z"
   },
   {
    "duration": 5,
    "start_time": "2022-11-10T15:15:01.438Z"
   },
   {
    "duration": 16,
    "start_time": "2022-11-10T15:15:10.332Z"
   },
   {
    "duration": 4,
    "start_time": "2022-11-10T15:15:11.100Z"
   },
   {
    "duration": 14,
    "start_time": "2022-11-10T15:15:15.693Z"
   },
   {
    "duration": 5,
    "start_time": "2022-11-10T15:15:15.998Z"
   },
   {
    "duration": 989,
    "start_time": "2022-11-10T16:58:42.574Z"
   },
   {
    "duration": 369,
    "start_time": "2022-11-10T16:58:43.565Z"
   },
   {
    "duration": 22,
    "start_time": "2022-11-10T16:58:43.936Z"
   },
   {
    "duration": 16,
    "start_time": "2022-11-10T16:58:44.940Z"
   },
   {
    "duration": 23,
    "start_time": "2022-11-10T16:58:46.031Z"
   },
   {
    "duration": 4,
    "start_time": "2022-11-10T16:58:46.963Z"
   },
   {
    "duration": 24,
    "start_time": "2022-11-10T16:58:47.335Z"
   },
   {
    "duration": 6,
    "start_time": "2022-11-10T16:58:47.752Z"
   },
   {
    "duration": 980,
    "start_time": "2022-11-13T14:42:40.673Z"
   },
   {
    "duration": 72,
    "start_time": "2022-11-13T14:42:42.461Z"
   },
   {
    "duration": 20,
    "start_time": "2022-11-13T14:42:43.421Z"
   },
   {
    "duration": 10,
    "start_time": "2022-11-13T14:42:43.972Z"
   },
   {
    "duration": 22,
    "start_time": "2022-11-13T14:42:44.502Z"
   },
   {
    "duration": 5,
    "start_time": "2022-11-13T14:42:45.084Z"
   },
   {
    "duration": 18,
    "start_time": "2022-11-13T14:42:47.334Z"
   },
   {
    "duration": 5,
    "start_time": "2022-11-13T14:42:47.764Z"
   },
   {
    "duration": 68,
    "start_time": "2022-11-13T14:44:23.632Z"
   },
   {
    "duration": 34,
    "start_time": "2022-11-13T14:44:23.958Z"
   },
   {
    "duration": 16,
    "start_time": "2022-11-13T14:44:24.864Z"
   },
   {
    "duration": 10,
    "start_time": "2022-11-13T14:44:24.881Z"
   },
   {
    "duration": 20,
    "start_time": "2022-11-13T14:44:25.989Z"
   },
   {
    "duration": 5,
    "start_time": "2022-11-13T14:44:26.533Z"
   },
   {
    "duration": 5,
    "start_time": "2022-11-13T14:44:44.776Z"
   },
   {
    "duration": 18,
    "start_time": "2022-11-13T14:44:46.590Z"
   },
   {
    "duration": 4,
    "start_time": "2022-11-13T14:44:46.968Z"
   },
   {
    "duration": 41,
    "start_time": "2022-11-13T15:05:17.437Z"
   },
   {
    "duration": 33,
    "start_time": "2022-11-13T15:05:18.514Z"
   },
   {
    "duration": 24,
    "start_time": "2022-11-13T15:05:19.219Z"
   },
   {
    "duration": 12,
    "start_time": "2022-11-13T15:05:19.948Z"
   },
   {
    "duration": 20,
    "start_time": "2022-11-13T15:05:20.691Z"
   },
   {
    "duration": 5,
    "start_time": "2022-11-13T15:05:21.234Z"
   },
   {
    "duration": 23,
    "start_time": "2022-11-13T15:05:23.320Z"
   },
   {
    "duration": 4,
    "start_time": "2022-11-13T15:05:23.715Z"
   },
   {
    "duration": 101,
    "start_time": "2022-11-13T15:05:24.288Z"
   },
   {
    "duration": 16,
    "start_time": "2022-11-13T15:05:33.940Z"
   },
   {
    "duration": 6,
    "start_time": "2022-11-13T15:07:26.389Z"
   },
   {
    "duration": 23,
    "start_time": "2022-11-13T15:07:31.092Z"
   },
   {
    "duration": 20,
    "start_time": "2022-11-13T15:08:17.298Z"
   },
   {
    "duration": 17,
    "start_time": "2022-11-13T15:11:44.970Z"
   },
   {
    "duration": 3,
    "start_time": "2022-11-13T15:16:55.771Z"
   },
   {
    "duration": 32,
    "start_time": "2022-11-13T15:16:56.172Z"
   },
   {
    "duration": 22,
    "start_time": "2022-11-13T15:16:56.563Z"
   },
   {
    "duration": 14,
    "start_time": "2022-11-13T15:16:57.148Z"
   },
   {
    "duration": 28,
    "start_time": "2022-11-13T15:16:57.900Z"
   },
   {
    "duration": 4,
    "start_time": "2022-11-13T15:16:58.492Z"
   },
   {
    "duration": 17,
    "start_time": "2022-11-13T15:17:00.083Z"
   },
   {
    "duration": 5,
    "start_time": "2022-11-13T15:17:01.332Z"
   },
   {
    "duration": 9,
    "start_time": "2022-11-13T15:17:01.963Z"
   },
   {
    "duration": 17,
    "start_time": "2022-11-13T15:17:02.162Z"
   },
   {
    "duration": 13,
    "start_time": "2022-11-13T15:17:02.410Z"
   },
   {
    "duration": 29,
    "start_time": "2022-11-13T15:17:05.691Z"
   },
   {
    "duration": 16,
    "start_time": "2022-11-13T15:18:33.940Z"
   },
   {
    "duration": 41,
    "start_time": "2022-11-13T15:21:26.077Z"
   },
   {
    "duration": 3,
    "start_time": "2022-11-13T15:21:57.162Z"
   },
   {
    "duration": 33,
    "start_time": "2022-11-13T15:21:58.388Z"
   },
   {
    "duration": 16,
    "start_time": "2022-11-13T15:21:58.765Z"
   },
   {
    "duration": 16,
    "start_time": "2022-11-13T15:21:59.316Z"
   },
   {
    "duration": 26,
    "start_time": "2022-11-13T15:22:00.082Z"
   },
   {
    "duration": 5,
    "start_time": "2022-11-13T15:22:00.661Z"
   },
   {
    "duration": 25,
    "start_time": "2022-11-13T15:22:02.245Z"
   },
   {
    "duration": 6,
    "start_time": "2022-11-13T15:22:02.844Z"
   },
   {
    "duration": 8,
    "start_time": "2022-11-13T15:22:03.429Z"
   },
   {
    "duration": 59,
    "start_time": "2022-11-13T15:22:03.620Z"
   },
   {
    "duration": 16,
    "start_time": "2022-11-13T15:22:04.219Z"
   },
   {
    "duration": 23,
    "start_time": "2022-11-13T15:22:14.108Z"
   },
   {
    "duration": 2,
    "start_time": "2022-11-13T15:25:43.309Z"
   },
   {
    "duration": 32,
    "start_time": "2022-11-13T15:25:44.117Z"
   },
   {
    "duration": 16,
    "start_time": "2022-11-13T15:25:45.170Z"
   },
   {
    "duration": 12,
    "start_time": "2022-11-13T15:25:46.500Z"
   },
   {
    "duration": 195,
    "start_time": "2022-11-13T15:25:47.189Z"
   },
   {
    "duration": 19,
    "start_time": "2022-11-13T15:25:53.990Z"
   },
   {
    "duration": 2536,
    "start_time": "2022-11-13T15:26:04.165Z"
   },
   {
    "duration": 49,
    "start_time": "2022-11-13T15:26:13.446Z"
   },
   {
    "duration": 182,
    "start_time": "2022-11-13T15:26:23.679Z"
   },
   {
    "duration": 4,
    "start_time": "2022-11-13T15:26:27.045Z"
   },
   {
    "duration": 110,
    "start_time": "2022-11-13T15:26:30.893Z"
   },
   {
    "duration": 40,
    "start_time": "2022-11-13T15:26:53.382Z"
   },
   {
    "duration": 21,
    "start_time": "2022-11-13T15:27:02.010Z"
   },
   {
    "duration": 37,
    "start_time": "2022-11-13T15:27:25.134Z"
   },
   {
    "duration": 17,
    "start_time": "2022-11-13T15:27:25.437Z"
   },
   {
    "duration": 231,
    "start_time": "2022-11-13T15:27:27.878Z"
   },
   {
    "duration": 243,
    "start_time": "2022-11-13T15:27:38.463Z"
   },
   {
    "duration": 15,
    "start_time": "2022-11-13T15:28:48.038Z"
   },
   {
    "duration": 161,
    "start_time": "2022-11-13T15:29:36.695Z"
   },
   {
    "duration": 1973,
    "start_time": "2022-11-13T15:29:38.376Z"
   },
   {
    "duration": 31,
    "start_time": "2022-11-13T15:29:41.773Z"
   },
   {
    "duration": 170,
    "start_time": "2022-11-13T15:29:46.294Z"
   },
   {
    "duration": 4,
    "start_time": "2022-11-13T15:29:48.206Z"
   },
   {
    "duration": 81,
    "start_time": "2022-11-13T15:29:52.221Z"
   },
   {
    "duration": 37,
    "start_time": "2022-11-13T15:29:52.877Z"
   },
   {
    "duration": 17,
    "start_time": "2022-11-13T15:29:53.926Z"
   },
   {
    "duration": 26064,
    "start_time": "2022-11-13T15:29:56.647Z"
   },
   {
    "duration": 3,
    "start_time": "2022-11-13T15:33:25.999Z"
   },
   {
    "duration": 32,
    "start_time": "2022-11-13T15:33:26.566Z"
   },
   {
    "duration": 21,
    "start_time": "2022-11-13T15:33:26.930Z"
   },
   {
    "duration": 14,
    "start_time": "2022-11-13T15:33:27.543Z"
   },
   {
    "duration": 153,
    "start_time": "2022-11-13T15:33:27.959Z"
   },
   {
    "duration": 2051,
    "start_time": "2022-11-13T15:33:28.510Z"
   },
   {
    "duration": 33,
    "start_time": "2022-11-13T15:33:30.563Z"
   },
   {
    "duration": 140,
    "start_time": "2022-11-13T15:33:31.762Z"
   },
   {
    "duration": 4,
    "start_time": "2022-11-13T15:33:32.544Z"
   },
   {
    "duration": 73,
    "start_time": "2022-11-13T15:33:33.160Z"
   },
   {
    "duration": 37,
    "start_time": "2022-11-13T15:33:33.372Z"
   },
   {
    "duration": 20,
    "start_time": "2022-11-13T15:33:33.659Z"
   },
   {
    "duration": 25780,
    "start_time": "2022-11-13T15:33:35.534Z"
   },
   {
    "duration": 26031,
    "start_time": "2022-11-13T15:35:27.659Z"
   },
   {
    "duration": 26060,
    "start_time": "2022-11-13T15:37:14.392Z"
   },
   {
    "duration": 31,
    "start_time": "2022-11-13T15:38:13.478Z"
   },
   {
    "duration": 17,
    "start_time": "2022-11-13T15:38:13.830Z"
   },
   {
    "duration": 15,
    "start_time": "2022-11-13T15:38:14.385Z"
   },
   {
    "duration": 138,
    "start_time": "2022-11-13T15:38:14.786Z"
   },
   {
    "duration": 1937,
    "start_time": "2022-11-13T15:38:15.336Z"
   },
   {
    "duration": 37,
    "start_time": "2022-11-13T15:38:17.275Z"
   },
   {
    "duration": 137,
    "start_time": "2022-11-13T15:38:17.407Z"
   },
   {
    "duration": 4,
    "start_time": "2022-11-13T15:38:17.993Z"
   },
   {
    "duration": 75,
    "start_time": "2022-11-13T15:38:18.583Z"
   },
   {
    "duration": 37,
    "start_time": "2022-11-13T15:38:18.790Z"
   },
   {
    "duration": 24,
    "start_time": "2022-11-13T15:38:18.982Z"
   },
   {
    "duration": 25668,
    "start_time": "2022-11-13T15:38:19.562Z"
   },
   {
    "duration": 26203,
    "start_time": "2022-11-13T15:40:13.495Z"
   },
   {
    "duration": 25837,
    "start_time": "2022-11-13T15:40:42.311Z"
   },
   {
    "duration": 3,
    "start_time": "2022-11-13T15:41:26.679Z"
   },
   {
    "duration": 31,
    "start_time": "2022-11-13T15:41:27.024Z"
   },
   {
    "duration": 16,
    "start_time": "2022-11-13T15:41:27.367Z"
   },
   {
    "duration": 14,
    "start_time": "2022-11-13T15:41:27.871Z"
   },
   {
    "duration": 147,
    "start_time": "2022-11-13T15:41:28.210Z"
   },
   {
    "duration": 1957,
    "start_time": "2022-11-13T15:41:28.766Z"
   },
   {
    "duration": 31,
    "start_time": "2022-11-13T15:41:30.725Z"
   },
   {
    "duration": 162,
    "start_time": "2022-11-13T15:41:30.867Z"
   },
   {
    "duration": 5,
    "start_time": "2022-11-13T15:41:31.486Z"
   },
   {
    "duration": 80,
    "start_time": "2022-11-13T15:41:32.070Z"
   },
   {
    "duration": 36,
    "start_time": "2022-11-13T15:41:32.265Z"
   },
   {
    "duration": 17,
    "start_time": "2022-11-13T15:41:32.438Z"
   },
   {
    "duration": 26325,
    "start_time": "2022-11-13T15:41:32.998Z"
   },
   {
    "duration": 150,
    "start_time": "2022-11-13T15:47:04.431Z"
   },
   {
    "duration": 4,
    "start_time": "2022-11-13T15:47:06.538Z"
   },
   {
    "duration": 90,
    "start_time": "2022-11-13T15:47:10.200Z"
   },
   {
    "duration": 18,
    "start_time": "2022-11-13T15:48:11.858Z"
   },
   {
    "duration": 93,
    "start_time": "2022-11-13T15:48:33.466Z"
   },
   {
    "duration": 155,
    "start_time": "2022-11-13T15:49:05.648Z"
   },
   {
    "duration": 144,
    "start_time": "2022-11-13T15:53:25.665Z"
   },
   {
    "duration": 3,
    "start_time": "2022-11-13T15:53:48.966Z"
   },
   {
    "duration": 32,
    "start_time": "2022-11-13T15:53:49.313Z"
   },
   {
    "duration": 15,
    "start_time": "2022-11-13T15:53:49.706Z"
   },
   {
    "duration": 18,
    "start_time": "2022-11-13T15:53:50.274Z"
   },
   {
    "duration": 144,
    "start_time": "2022-11-13T15:53:50.675Z"
   },
   {
    "duration": 2096,
    "start_time": "2022-11-13T15:53:51.707Z"
   },
   {
    "duration": 32,
    "start_time": "2022-11-13T15:53:53.805Z"
   },
   {
    "duration": 137,
    "start_time": "2022-11-13T15:53:54.976Z"
   },
   {
    "duration": 4,
    "start_time": "2022-11-13T15:53:55.592Z"
   },
   {
    "duration": 74,
    "start_time": "2022-11-13T15:53:56.171Z"
   },
   {
    "duration": 14,
    "start_time": "2022-11-13T15:53:56.387Z"
   },
   {
    "duration": 18,
    "start_time": "2022-11-13T15:53:56.587Z"
   },
   {
    "duration": 36,
    "start_time": "2022-11-13T15:54:07.404Z"
   },
   {
    "duration": 81,
    "start_time": "2022-11-13T15:54:27.667Z"
   },
   {
    "duration": 151,
    "start_time": "2022-11-13T15:57:53.563Z"
   },
   {
    "duration": 70,
    "start_time": "2022-11-13T15:57:57.676Z"
   },
   {
    "duration": 33,
    "start_time": "2022-11-13T15:57:58.713Z"
   },
   {
    "duration": 25751,
    "start_time": "2022-11-13T15:58:04.068Z"
   },
   {
    "duration": 8,
    "start_time": "2022-11-13T15:59:52.971Z"
   },
   {
    "duration": 4,
    "start_time": "2022-11-13T15:59:57.962Z"
   },
   {
    "duration": 31,
    "start_time": "2022-11-13T15:59:58.282Z"
   },
   {
    "duration": 18,
    "start_time": "2022-11-13T15:59:58.643Z"
   },
   {
    "duration": 15,
    "start_time": "2022-11-13T15:59:59.187Z"
   },
   {
    "duration": 147,
    "start_time": "2022-11-13T15:59:59.580Z"
   },
   {
    "duration": 2300,
    "start_time": "2022-11-13T16:00:00.170Z"
   },
   {
    "duration": 30,
    "start_time": "2022-11-13T16:00:02.472Z"
   },
   {
    "duration": 163,
    "start_time": "2022-11-13T16:00:02.504Z"
   },
   {
    "duration": 4,
    "start_time": "2022-11-13T16:00:02.891Z"
   },
   {
    "duration": 82,
    "start_time": "2022-11-13T16:00:03.484Z"
   },
   {
    "duration": 142,
    "start_time": "2022-11-13T16:00:03.689Z"
   },
   {
    "duration": 23,
    "start_time": "2022-11-13T16:00:03.899Z"
   },
   {
    "duration": 973,
    "start_time": "2022-11-13T16:00:04.940Z"
   },
   {
    "duration": 953,
    "start_time": "2022-11-13T16:00:37.966Z"
   },
   {
    "duration": 1105,
    "start_time": "2022-11-13T16:02:52.212Z"
   },
   {
    "duration": 4,
    "start_time": "2022-11-13T16:02:58.572Z"
   },
   {
    "duration": 33,
    "start_time": "2022-11-13T16:02:58.923Z"
   },
   {
    "duration": 16,
    "start_time": "2022-11-13T16:02:59.276Z"
   },
   {
    "duration": 13,
    "start_time": "2022-11-13T16:02:59.837Z"
   },
   {
    "duration": 148,
    "start_time": "2022-11-13T16:03:00.211Z"
   },
   {
    "duration": 2091,
    "start_time": "2022-11-13T16:03:00.820Z"
   },
   {
    "duration": 40,
    "start_time": "2022-11-13T16:03:02.913Z"
   },
   {
    "duration": 150,
    "start_time": "2022-11-13T16:03:02.978Z"
   },
   {
    "duration": 4,
    "start_time": "2022-11-13T16:03:03.573Z"
   },
   {
    "duration": 89,
    "start_time": "2022-11-13T16:03:04.172Z"
   },
   {
    "duration": 145,
    "start_time": "2022-11-13T16:03:04.725Z"
   },
   {
    "duration": 22,
    "start_time": "2022-11-13T16:03:04.872Z"
   },
   {
    "duration": 1100,
    "start_time": "2022-11-13T16:03:05.212Z"
   },
   {
    "duration": 172,
    "start_time": "2022-11-13T16:07:55.013Z"
   },
   {
    "duration": 177,
    "start_time": "2022-11-13T16:08:00.309Z"
   },
   {
    "duration": 21,
    "start_time": "2022-11-13T16:08:01.071Z"
   },
   {
    "duration": 934,
    "start_time": "2022-11-13T16:08:01.581Z"
   },
   {
    "duration": 4,
    "start_time": "2022-11-13T16:15:24.958Z"
   },
   {
    "duration": 36,
    "start_time": "2022-11-13T16:15:25.381Z"
   },
   {
    "duration": 15,
    "start_time": "2022-11-13T16:15:25.736Z"
   },
   {
    "duration": 15,
    "start_time": "2022-11-13T16:15:26.280Z"
   },
   {
    "duration": 157,
    "start_time": "2022-11-13T16:15:26.621Z"
   },
   {
    "duration": 2062,
    "start_time": "2022-11-13T16:15:27.197Z"
   },
   {
    "duration": 31,
    "start_time": "2022-11-13T16:15:29.262Z"
   },
   {
    "duration": 90,
    "start_time": "2022-11-13T16:15:29.295Z"
   },
   {
    "duration": 104,
    "start_time": "2022-11-13T16:15:29.387Z"
   },
   {
    "duration": 533,
    "start_time": "2022-11-13T16:15:29.492Z"
   },
   {
    "duration": 400,
    "start_time": "2022-11-13T16:15:30.027Z"
   },
   {
    "duration": 342,
    "start_time": "2022-11-13T16:15:30.429Z"
   },
   {
    "duration": 5,
    "start_time": "2022-11-13T16:15:30.982Z"
   },
   {
    "duration": 121,
    "start_time": "2022-11-13T16:15:31.591Z"
   },
   {
    "duration": 120,
    "start_time": "2022-11-13T16:15:31.822Z"
   },
   {
    "duration": 23,
    "start_time": "2022-11-13T16:15:31.995Z"
   },
   {
    "duration": 826,
    "start_time": "2022-11-13T16:15:32.606Z"
   },
   {
    "duration": 415,
    "start_time": "2022-11-13T16:15:33.434Z"
   },
   {
    "duration": 268,
    "start_time": "2022-11-13T16:17:38.673Z"
   },
   {
    "duration": 859,
    "start_time": "2022-11-13T16:17:41.455Z"
   },
   {
    "duration": 241,
    "start_time": "2022-11-13T16:17:44.308Z"
   },
   {
    "duration": 765,
    "start_time": "2022-11-13T16:19:57.278Z"
   },
   {
    "duration": 295,
    "start_time": "2022-11-13T16:19:59.717Z"
   },
   {
    "duration": 267,
    "start_time": "2022-11-13T16:21:16.246Z"
   },
   {
    "duration": 4,
    "start_time": "2022-11-13T16:21:50.271Z"
   },
   {
    "duration": 32,
    "start_time": "2022-11-13T16:21:50.588Z"
   },
   {
    "duration": 17,
    "start_time": "2022-11-13T16:21:50.956Z"
   },
   {
    "duration": 14,
    "start_time": "2022-11-13T16:21:51.496Z"
   },
   {
    "duration": 156,
    "start_time": "2022-11-13T16:21:51.877Z"
   },
   {
    "duration": 1927,
    "start_time": "2022-11-13T16:21:52.446Z"
   },
   {
    "duration": 41,
    "start_time": "2022-11-13T16:21:54.375Z"
   },
   {
    "duration": 72,
    "start_time": "2022-11-13T16:21:54.418Z"
   },
   {
    "duration": 108,
    "start_time": "2022-11-13T16:21:54.492Z"
   },
   {
    "duration": 529,
    "start_time": "2022-11-13T16:21:54.602Z"
   },
   {
    "duration": 390,
    "start_time": "2022-11-13T16:21:55.133Z"
   },
   {
    "duration": 131,
    "start_time": "2022-11-13T16:21:55.822Z"
   },
   {
    "duration": 5,
    "start_time": "2022-11-13T16:21:56.455Z"
   },
   {
    "duration": 104,
    "start_time": "2022-11-13T16:21:57.093Z"
   },
   {
    "duration": 133,
    "start_time": "2022-11-13T16:21:57.279Z"
   },
   {
    "duration": 21,
    "start_time": "2022-11-13T16:21:57.487Z"
   },
   {
    "duration": 828,
    "start_time": "2022-11-13T16:21:58.286Z"
   },
   {
    "duration": 347,
    "start_time": "2022-11-13T16:22:01.366Z"
   },
   {
    "duration": 1272,
    "start_time": "2022-11-14T13:30:35.058Z"
   },
   {
    "duration": 36,
    "start_time": "2022-11-14T13:30:36.332Z"
   },
   {
    "duration": 19,
    "start_time": "2022-11-14T13:30:36.370Z"
   },
   {
    "duration": 16,
    "start_time": "2022-11-14T13:30:36.391Z"
   },
   {
    "duration": 187,
    "start_time": "2022-11-14T13:30:36.409Z"
   },
   {
    "duration": 2103,
    "start_time": "2022-11-14T13:30:36.597Z"
   },
   {
    "duration": 52,
    "start_time": "2022-11-14T13:30:38.702Z"
   },
   {
    "duration": 187,
    "start_time": "2022-11-14T13:30:38.756Z"
   },
   {
    "duration": 0,
    "start_time": "2022-11-14T13:30:38.945Z"
   },
   {
    "duration": 0,
    "start_time": "2022-11-14T13:30:38.947Z"
   },
   {
    "duration": 0,
    "start_time": "2022-11-14T13:30:38.947Z"
   },
   {
    "duration": 0,
    "start_time": "2022-11-14T13:30:38.949Z"
   },
   {
    "duration": 0,
    "start_time": "2022-11-14T13:30:38.950Z"
   },
   {
    "duration": 0,
    "start_time": "2022-11-14T13:30:38.952Z"
   },
   {
    "duration": 0,
    "start_time": "2022-11-14T13:30:38.953Z"
   },
   {
    "duration": 0,
    "start_time": "2022-11-14T13:30:38.954Z"
   },
   {
    "duration": 0,
    "start_time": "2022-11-14T13:30:38.955Z"
   },
   {
    "duration": 0,
    "start_time": "2022-11-14T13:30:38.956Z"
   },
   {
    "duration": 1340,
    "start_time": "2022-11-14T13:33:09.093Z"
   },
   {
    "duration": 36,
    "start_time": "2022-11-14T13:33:10.435Z"
   },
   {
    "duration": 21,
    "start_time": "2022-11-14T13:33:10.473Z"
   },
   {
    "duration": 18,
    "start_time": "2022-11-14T13:33:10.496Z"
   },
   {
    "duration": 199,
    "start_time": "2022-11-14T13:33:10.516Z"
   },
   {
    "duration": 2388,
    "start_time": "2022-11-14T13:33:10.722Z"
   },
   {
    "duration": 48,
    "start_time": "2022-11-14T13:33:13.112Z"
   },
   {
    "duration": 97,
    "start_time": "2022-11-14T13:33:13.162Z"
   },
   {
    "duration": 122,
    "start_time": "2022-11-14T13:33:13.261Z"
   },
   {
    "duration": 635,
    "start_time": "2022-11-14T13:33:13.386Z"
   },
   {
    "duration": 332,
    "start_time": "2022-11-14T13:33:14.024Z"
   },
   {
    "duration": 333,
    "start_time": "2022-11-14T13:33:14.358Z"
   },
   {
    "duration": 5,
    "start_time": "2022-11-14T13:33:14.692Z"
   },
   {
    "duration": 135,
    "start_time": "2022-11-14T13:33:14.699Z"
   },
   {
    "duration": 174,
    "start_time": "2022-11-14T13:33:14.836Z"
   },
   {
    "duration": 45,
    "start_time": "2022-11-14T13:33:15.012Z"
   },
   {
    "duration": 963,
    "start_time": "2022-11-14T13:33:15.059Z"
   },
   {
    "duration": 404,
    "start_time": "2022-11-14T13:33:16.024Z"
   },
   {
    "duration": 44,
    "start_time": "2022-11-15T05:38:19.405Z"
   },
   {
    "duration": 1058,
    "start_time": "2022-11-15T05:38:24.098Z"
   },
   {
    "duration": 163,
    "start_time": "2022-11-15T05:38:25.158Z"
   },
   {
    "duration": 18,
    "start_time": "2022-11-15T05:38:25.889Z"
   },
   {
    "duration": 7462,
    "start_time": "2022-11-15T05:38:26.763Z"
   },
   {
    "duration": 7181,
    "start_time": "2022-11-15T05:38:40.675Z"
   },
   {
    "duration": 7713,
    "start_time": "2022-11-15T05:39:04.366Z"
   },
   {
    "duration": 8128,
    "start_time": "2022-11-15T05:39:18.440Z"
   },
   {
    "duration": 76,
    "start_time": "2022-11-15T05:40:39.650Z"
   },
   {
    "duration": 52,
    "start_time": "2022-11-15T05:40:57.611Z"
   },
   {
    "duration": 71,
    "start_time": "2022-11-15T05:41:06.094Z"
   },
   {
    "duration": 51,
    "start_time": "2022-11-15T05:41:12.729Z"
   },
   {
    "duration": 7313,
    "start_time": "2022-11-15T05:41:25.803Z"
   },
   {
    "duration": 7673,
    "start_time": "2022-11-15T05:42:12.636Z"
   },
   {
    "duration": 7515,
    "start_time": "2022-11-15T05:42:57.050Z"
   },
   {
    "duration": 7447,
    "start_time": "2022-11-15T05:43:12.809Z"
   },
   {
    "duration": 9,
    "start_time": "2022-11-15T05:45:10.970Z"
   },
   {
    "duration": 17,
    "start_time": "2022-11-15T05:46:10.389Z"
   },
   {
    "duration": 8,
    "start_time": "2022-11-15T05:46:42.454Z"
   },
   {
    "duration": 4,
    "start_time": "2022-11-15T05:47:16.917Z"
   },
   {
    "duration": 40,
    "start_time": "2022-11-15T05:47:17.452Z"
   },
   {
    "duration": 16,
    "start_time": "2022-11-15T05:47:17.804Z"
   },
   {
    "duration": 7339,
    "start_time": "2022-11-15T05:47:18.196Z"
   },
   {
    "duration": 16,
    "start_time": "2022-11-15T05:47:25.537Z"
   },
   {
    "duration": 23,
    "start_time": "2022-11-15T05:47:25.554Z"
   },
   {
    "duration": 11,
    "start_time": "2022-11-15T05:47:25.578Z"
   },
   {
    "duration": 23,
    "start_time": "2022-11-15T05:47:25.590Z"
   },
   {
    "duration": 20,
    "start_time": "2022-11-15T05:47:34.878Z"
   },
   {
    "duration": 111250,
    "start_time": "2022-11-15T05:48:43.103Z"
   },
   {
    "duration": 0,
    "start_time": "2022-11-15T06:02:34.787Z"
   },
   {
    "duration": 4,
    "start_time": "2022-11-15T06:07:30.068Z"
   },
   {
    "duration": 41,
    "start_time": "2022-11-15T06:07:31.542Z"
   },
   {
    "duration": 16,
    "start_time": "2022-11-15T06:07:31.969Z"
   },
   {
    "duration": 7811,
    "start_time": "2022-11-15T06:07:32.320Z"
   },
   {
    "duration": 23,
    "start_time": "2022-11-15T06:07:40.134Z"
   },
   {
    "duration": 22,
    "start_time": "2022-11-15T06:07:40.159Z"
   },
   {
    "duration": 13,
    "start_time": "2022-11-15T06:07:40.184Z"
   },
   {
    "duration": 17,
    "start_time": "2022-11-15T06:07:40.199Z"
   },
   {
    "duration": 21,
    "start_time": "2022-11-15T06:07:40.217Z"
   },
   {
    "duration": 134590,
    "start_time": "2022-11-15T06:07:40.240Z"
   },
   {
    "duration": 6,
    "start_time": "2022-11-15T06:09:54.831Z"
   },
   {
    "duration": 33055,
    "start_time": "2022-11-15T06:09:58.866Z"
   },
   {
    "duration": 203,
    "start_time": "2022-11-15T06:11:00.961Z"
   },
   {
    "duration": 725,
    "start_time": "2022-11-15T06:11:15.186Z"
   },
   {
    "duration": 17,
    "start_time": "2022-11-15T06:11:36.059Z"
   },
   {
    "duration": 78,
    "start_time": "2022-11-15T06:11:39.184Z"
   },
   {
    "duration": 4,
    "start_time": "2022-11-15T06:12:00.288Z"
   },
   {
    "duration": 7,
    "start_time": "2022-11-15T06:12:02.354Z"
   },
   {
    "duration": 4,
    "start_time": "2022-11-15T06:12:55.050Z"
   },
   {
    "duration": 38,
    "start_time": "2022-11-15T06:12:56.075Z"
   },
   {
    "duration": 15,
    "start_time": "2022-11-15T06:12:56.749Z"
   },
   {
    "duration": 9721,
    "start_time": "2022-11-15T06:12:57.122Z"
   },
   {
    "duration": 31,
    "start_time": "2022-11-15T06:13:06.845Z"
   },
   {
    "duration": 8,
    "start_time": "2022-11-15T06:13:06.878Z"
   },
   {
    "duration": 9,
    "start_time": "2022-11-15T06:13:06.889Z"
   },
   {
    "duration": 16,
    "start_time": "2022-11-15T06:13:06.900Z"
   },
   {
    "duration": 23,
    "start_time": "2022-11-15T06:13:06.918Z"
   },
   {
    "duration": 110,
    "start_time": "2022-11-15T06:13:06.943Z"
   },
   {
    "duration": 6,
    "start_time": "2022-11-15T06:13:07.055Z"
   },
   {
    "duration": 24,
    "start_time": "2022-11-15T06:13:07.062Z"
   },
   {
    "duration": 9,
    "start_time": "2022-11-15T06:13:21.838Z"
   },
   {
    "duration": 13,
    "start_time": "2022-11-15T06:13:25.664Z"
   },
   {
    "duration": 8,
    "start_time": "2022-11-15T06:14:42.929Z"
   },
   {
    "duration": 35,
    "start_time": "2022-11-15T06:15:32.944Z"
   },
   {
    "duration": 55,
    "start_time": "2022-11-15T06:15:53.921Z"
   },
   {
    "duration": 15,
    "start_time": "2022-11-15T06:15:56.748Z"
   },
   {
    "duration": 122,
    "start_time": "2022-11-15T06:17:30.363Z"
   },
   {
    "duration": 143,
    "start_time": "2022-11-15T06:17:43.633Z"
   },
   {
    "duration": 62,
    "start_time": "2022-11-15T06:18:28.419Z"
   },
   {
    "duration": 40,
    "start_time": "2022-11-15T06:19:55.426Z"
   },
   {
    "duration": 10,
    "start_time": "2022-11-15T06:20:00.897Z"
   },
   {
    "duration": 5,
    "start_time": "2022-11-15T06:20:05.244Z"
   },
   {
    "duration": 10,
    "start_time": "2022-11-15T06:21:22.291Z"
   },
   {
    "duration": 4,
    "start_time": "2022-11-15T06:21:23.626Z"
   },
   {
    "duration": 8,
    "start_time": "2022-11-15T06:21:29.032Z"
   },
   {
    "duration": 4,
    "start_time": "2022-11-15T06:21:41.086Z"
   },
   {
    "duration": 77,
    "start_time": "2022-11-15T06:22:14.908Z"
   },
   {
    "duration": 10,
    "start_time": "2022-11-15T06:24:00.696Z"
   },
   {
    "duration": 5,
    "start_time": "2022-11-15T06:24:01.508Z"
   },
   {
    "duration": 55,
    "start_time": "2022-11-15T06:24:03.622Z"
   },
   {
    "duration": 22,
    "start_time": "2022-11-15T06:28:34.679Z"
   },
   {
    "duration": 107,
    "start_time": "2022-11-15T06:28:48.768Z"
   },
   {
    "duration": 19,
    "start_time": "2022-11-15T06:28:49.542Z"
   },
   {
    "duration": 21,
    "start_time": "2022-11-15T06:29:01.805Z"
   },
   {
    "duration": 13,
    "start_time": "2022-11-15T06:33:05.278Z"
   },
   {
    "duration": 3675,
    "start_time": "2022-11-15T06:33:19.381Z"
   },
   {
    "duration": 5404,
    "start_time": "2022-11-15T06:35:10.266Z"
   },
   {
    "duration": 5404,
    "start_time": "2022-11-15T06:35:48.607Z"
   },
   {
    "duration": 5327,
    "start_time": "2022-11-15T06:36:08.383Z"
   },
   {
    "duration": 5351,
    "start_time": "2022-11-15T06:36:35.208Z"
   },
   {
    "duration": 20,
    "start_time": "2022-11-15T06:36:58.734Z"
   },
   {
    "duration": 63,
    "start_time": "2022-11-15T06:40:00.614Z"
   },
   {
    "duration": 5562,
    "start_time": "2022-11-15T06:40:01.015Z"
   },
   {
    "duration": 10,
    "start_time": "2022-11-15T06:44:04.451Z"
   },
   {
    "duration": 3,
    "start_time": "2022-11-15T06:44:09.552Z"
   },
   {
    "duration": 39,
    "start_time": "2022-11-15T06:44:10.071Z"
   },
   {
    "duration": 16,
    "start_time": "2022-11-15T06:44:10.423Z"
   },
   {
    "duration": 7095,
    "start_time": "2022-11-15T06:44:10.767Z"
   },
   {
    "duration": 25,
    "start_time": "2022-11-15T06:44:17.863Z"
   },
   {
    "duration": 24,
    "start_time": "2022-11-15T06:44:17.889Z"
   },
   {
    "duration": 22,
    "start_time": "2022-11-15T06:44:17.914Z"
   },
   {
    "duration": 21,
    "start_time": "2022-11-15T06:44:17.938Z"
   },
   {
    "duration": 39,
    "start_time": "2022-11-15T06:44:17.961Z"
   },
   {
    "duration": 75,
    "start_time": "2022-11-15T06:44:18.002Z"
   },
   {
    "duration": 5,
    "start_time": "2022-11-15T06:44:18.078Z"
   },
   {
    "duration": 7,
    "start_time": "2022-11-15T06:44:18.084Z"
   },
   {
    "duration": 8,
    "start_time": "2022-11-15T06:44:18.093Z"
   },
   {
    "duration": 33,
    "start_time": "2022-11-15T06:44:18.102Z"
   },
   {
    "duration": 45,
    "start_time": "2022-11-15T06:44:18.137Z"
   },
   {
    "duration": 193,
    "start_time": "2022-11-15T06:44:18.184Z"
   },
   {
    "duration": 4,
    "start_time": "2022-11-15T06:44:21.516Z"
   },
   {
    "duration": 24,
    "start_time": "2022-11-15T06:44:23.354Z"
   },
   {
    "duration": 32,
    "start_time": "2022-11-15T06:44:23.743Z"
   },
   {
    "duration": 25,
    "start_time": "2022-11-15T06:44:23.953Z"
   },
   {
    "duration": 474,
    "start_time": "2022-11-15T06:44:36.566Z"
   },
   {
    "duration": 689,
    "start_time": "2022-11-15T06:44:47.352Z"
   },
   {
    "duration": 11,
    "start_time": "2022-11-15T06:45:03.315Z"
   },
   {
    "duration": 19,
    "start_time": "2022-11-15T06:45:06.823Z"
   },
   {
    "duration": 24,
    "start_time": "2022-11-15T06:45:23.072Z"
   },
   {
    "duration": 22,
    "start_time": "2022-11-15T06:47:18.031Z"
   },
   {
    "duration": 14,
    "start_time": "2022-11-15T06:47:44.963Z"
   },
   {
    "duration": 5,
    "start_time": "2022-11-15T06:47:52.395Z"
   },
   {
    "duration": 49,
    "start_time": "2022-11-15T06:47:52.859Z"
   },
   {
    "duration": 26,
    "start_time": "2022-11-15T06:47:53.185Z"
   },
   {
    "duration": 7291,
    "start_time": "2022-11-15T06:47:53.522Z"
   },
   {
    "duration": 17,
    "start_time": "2022-11-15T06:48:00.815Z"
   },
   {
    "duration": 9,
    "start_time": "2022-11-15T06:48:00.834Z"
   },
   {
    "duration": 38,
    "start_time": "2022-11-15T06:48:00.845Z"
   },
   {
    "duration": 34,
    "start_time": "2022-11-15T06:48:00.885Z"
   },
   {
    "duration": 40,
    "start_time": "2022-11-15T06:48:00.921Z"
   },
   {
    "duration": 112,
    "start_time": "2022-11-15T06:48:00.963Z"
   },
   {
    "duration": 4,
    "start_time": "2022-11-15T06:48:01.077Z"
   },
   {
    "duration": 39,
    "start_time": "2022-11-15T06:48:01.083Z"
   },
   {
    "duration": 29,
    "start_time": "2022-11-15T06:48:01.124Z"
   },
   {
    "duration": 62,
    "start_time": "2022-11-15T06:48:01.155Z"
   },
   {
    "duration": 60,
    "start_time": "2022-11-15T06:48:01.219Z"
   },
   {
    "duration": 136,
    "start_time": "2022-11-15T06:48:01.281Z"
   },
   {
    "duration": 39,
    "start_time": "2022-11-15T06:48:01.426Z"
   },
   {
    "duration": 22,
    "start_time": "2022-11-15T06:48:02.634Z"
   },
   {
    "duration": 21,
    "start_time": "2022-11-15T06:48:03.017Z"
   },
   {
    "duration": 22,
    "start_time": "2022-11-15T06:48:03.182Z"
   },
   {
    "duration": 12,
    "start_time": "2022-11-15T06:48:04.065Z"
   },
   {
    "duration": 1402,
    "start_time": "2022-11-15T23:29:53.869Z"
   },
   {
    "duration": 86,
    "start_time": "2022-11-15T23:29:55.273Z"
   },
   {
    "duration": 28,
    "start_time": "2022-11-15T23:29:55.361Z"
   },
   {
    "duration": 10350,
    "start_time": "2022-11-15T23:29:55.391Z"
   },
   {
    "duration": 26,
    "start_time": "2022-11-15T23:30:05.750Z"
   },
   {
    "duration": 13,
    "start_time": "2022-11-15T23:30:05.777Z"
   },
   {
    "duration": 22,
    "start_time": "2022-11-15T23:30:05.792Z"
   },
   {
    "duration": 40,
    "start_time": "2022-11-15T23:30:05.815Z"
   },
   {
    "duration": 38,
    "start_time": "2022-11-15T23:30:05.856Z"
   },
   {
    "duration": 101,
    "start_time": "2022-11-15T23:30:05.896Z"
   },
   {
    "duration": 6,
    "start_time": "2022-11-15T23:30:05.999Z"
   },
   {
    "duration": 9,
    "start_time": "2022-11-15T23:30:06.007Z"
   },
   {
    "duration": 38,
    "start_time": "2022-11-15T23:30:06.018Z"
   },
   {
    "duration": 61,
    "start_time": "2022-11-15T23:30:06.061Z"
   },
   {
    "duration": 45,
    "start_time": "2022-11-15T23:30:06.123Z"
   },
   {
    "duration": 91,
    "start_time": "2022-11-15T23:30:06.174Z"
   },
   {
    "duration": 28,
    "start_time": "2022-11-15T23:30:06.267Z"
   },
   {
    "duration": 82,
    "start_time": "2022-11-15T23:30:06.297Z"
   },
   {
    "duration": 117,
    "start_time": "2022-11-15T23:30:06.452Z"
   },
   {
    "duration": 205,
    "start_time": "2022-11-15T23:30:06.571Z"
   },
   {
    "duration": 13,
    "start_time": "2022-11-15T23:30:06.778Z"
   },
   {
    "duration": 1069,
    "start_time": "2022-11-16T04:16:10.612Z"
   },
   {
    "duration": 79,
    "start_time": "2022-11-16T04:16:11.683Z"
   },
   {
    "duration": 18,
    "start_time": "2022-11-16T04:16:11.763Z"
   },
   {
    "duration": 7665,
    "start_time": "2022-11-16T04:16:12.056Z"
   },
   {
    "duration": 17,
    "start_time": "2022-11-16T04:16:19.723Z"
   },
   {
    "duration": 8,
    "start_time": "2022-11-16T04:16:19.742Z"
   },
   {
    "duration": 10,
    "start_time": "2022-11-16T04:16:19.751Z"
   },
   {
    "duration": 16,
    "start_time": "2022-11-16T04:16:19.762Z"
   },
   {
    "duration": 38,
    "start_time": "2022-11-16T04:16:19.779Z"
   },
   {
    "duration": 80,
    "start_time": "2022-11-16T04:16:19.819Z"
   },
   {
    "duration": 12,
    "start_time": "2022-11-16T04:16:19.901Z"
   },
   {
    "duration": 6,
    "start_time": "2022-11-16T04:16:19.914Z"
   },
   {
    "duration": 7,
    "start_time": "2022-11-16T04:16:19.922Z"
   },
   {
    "duration": 35,
    "start_time": "2022-11-16T04:16:19.930Z"
   },
   {
    "duration": 37,
    "start_time": "2022-11-16T04:17:02.450Z"
   },
   {
    "duration": 110,
    "start_time": "2022-11-16T04:17:06.907Z"
   },
   {
    "duration": 10,
    "start_time": "2022-11-16T04:17:23.562Z"
   },
   {
    "duration": 5,
    "start_time": "2022-11-16T04:17:26.737Z"
   },
   {
    "duration": 56,
    "start_time": "2022-11-16T04:17:31.876Z"
   },
   {
    "duration": 28,
    "start_time": "2022-11-16T04:17:32.889Z"
   },
   {
    "duration": 19,
    "start_time": "2022-11-16T04:17:33.281Z"
   },
   {
    "duration": 12,
    "start_time": "2022-11-16T04:18:19.076Z"
   },
   {
    "duration": 17,
    "start_time": "2022-11-16T04:21:34.098Z"
   },
   {
    "duration": 368,
    "start_time": "2022-11-16T04:24:59.906Z"
   },
   {
    "duration": 102,
    "start_time": "2022-11-16T04:27:20.973Z"
   },
   {
    "duration": 69,
    "start_time": "2022-11-16T04:27:33.028Z"
   },
   {
    "duration": 17,
    "start_time": "2022-11-16T04:27:38.563Z"
   },
   {
    "duration": 15,
    "start_time": "2022-11-16T04:28:25.539Z"
   },
   {
    "duration": 16,
    "start_time": "2022-11-16T04:28:45.428Z"
   },
   {
    "duration": 16,
    "start_time": "2022-11-16T04:28:57.916Z"
   },
   {
    "duration": 16,
    "start_time": "2022-11-16T04:29:07.035Z"
   },
   {
    "duration": 16,
    "start_time": "2022-11-16T04:29:15.357Z"
   },
   {
    "duration": 16,
    "start_time": "2022-11-16T04:29:23.597Z"
   },
   {
    "duration": 17,
    "start_time": "2022-11-16T04:29:31.477Z"
   },
   {
    "duration": 15,
    "start_time": "2022-11-16T04:29:55.301Z"
   },
   {
    "duration": 16,
    "start_time": "2022-11-16T04:30:02.262Z"
   },
   {
    "duration": 16,
    "start_time": "2022-11-16T04:30:10.141Z"
   },
   {
    "duration": 16,
    "start_time": "2022-11-16T04:30:18.646Z"
   },
   {
    "duration": 392,
    "start_time": "2022-11-16T04:31:22.845Z"
   },
   {
    "duration": 375,
    "start_time": "2022-11-16T04:31:37.006Z"
   },
   {
    "duration": 380,
    "start_time": "2022-11-16T04:32:12.566Z"
   },
   {
    "duration": 501,
    "start_time": "2022-11-16T04:34:25.885Z"
   },
   {
    "duration": 406,
    "start_time": "2022-11-16T04:37:18.317Z"
   },
   {
    "duration": 4,
    "start_time": "2022-11-16T04:37:36.332Z"
   },
   {
    "duration": 36,
    "start_time": "2022-11-16T04:37:36.886Z"
   },
   {
    "duration": 18,
    "start_time": "2022-11-16T04:37:37.238Z"
   },
   {
    "duration": 7146,
    "start_time": "2022-11-16T04:37:37.614Z"
   },
   {
    "duration": 13,
    "start_time": "2022-11-16T04:37:44.762Z"
   },
   {
    "duration": 7,
    "start_time": "2022-11-16T04:37:44.776Z"
   },
   {
    "duration": 10,
    "start_time": "2022-11-16T04:37:44.784Z"
   },
   {
    "duration": 13,
    "start_time": "2022-11-16T04:37:44.813Z"
   },
   {
    "duration": 19,
    "start_time": "2022-11-16T04:37:44.827Z"
   },
   {
    "duration": 344,
    "start_time": "2022-11-16T04:37:44.847Z"
   },
   {
    "duration": 6,
    "start_time": "2022-11-16T04:37:45.193Z"
   },
   {
    "duration": 16,
    "start_time": "2022-11-16T04:37:45.201Z"
   },
   {
    "duration": 9,
    "start_time": "2022-11-16T04:37:45.220Z"
   },
   {
    "duration": 40,
    "start_time": "2022-11-16T04:37:45.230Z"
   },
   {
    "duration": 47,
    "start_time": "2022-11-16T04:37:45.272Z"
   },
   {
    "duration": 686,
    "start_time": "2022-11-16T04:37:45.321Z"
   },
   {
    "duration": 8,
    "start_time": "2022-11-16T04:37:46.312Z"
   },
   {
    "duration": 5,
    "start_time": "2022-11-16T04:37:47.316Z"
   },
   {
    "duration": 23,
    "start_time": "2022-11-16T04:37:49.196Z"
   },
   {
    "duration": 20,
    "start_time": "2022-11-16T04:37:49.596Z"
   },
   {
    "duration": 543,
    "start_time": "2022-11-16T04:37:49.814Z"
   },
   {
    "duration": 645,
    "start_time": "2022-11-16T04:37:50.359Z"
   },
   {
    "duration": 11,
    "start_time": "2022-11-16T04:37:51.215Z"
   },
   {
    "duration": 907,
    "start_time": "2022-11-16T04:39:38.573Z"
   },
   {
    "duration": 1047,
    "start_time": "2022-11-16T04:39:41.865Z"
   },
   {
    "duration": 868,
    "start_time": "2022-11-16T04:39:52.358Z"
   },
   {
    "duration": 877,
    "start_time": "2022-11-16T04:46:13.385Z"
   },
   {
    "duration": 1086,
    "start_time": "2022-11-16T04:46:14.264Z"
   },
   {
    "duration": 27,
    "start_time": "2022-11-16T04:46:30.382Z"
   },
   {
    "duration": 62,
    "start_time": "2022-11-16T04:46:31.851Z"
   },
   {
    "duration": 852,
    "start_time": "2022-11-16T04:48:37.777Z"
   },
   {
    "duration": 1080,
    "start_time": "2022-11-16T04:48:39.470Z"
   },
   {
    "duration": 15,
    "start_time": "2022-11-16T04:49:02.353Z"
   },
   {
    "duration": 11,
    "start_time": "2022-11-16T04:51:15.614Z"
   },
   {
    "duration": 32,
    "start_time": "2022-11-16T04:51:16.127Z"
   },
   {
    "duration": 15,
    "start_time": "2022-11-16T04:51:16.488Z"
   },
   {
    "duration": 7128,
    "start_time": "2022-11-16T04:51:16.856Z"
   },
   {
    "duration": 13,
    "start_time": "2022-11-16T04:51:23.986Z"
   },
   {
    "duration": 17,
    "start_time": "2022-11-16T04:51:24.000Z"
   },
   {
    "duration": 9,
    "start_time": "2022-11-16T04:51:24.019Z"
   },
   {
    "duration": 13,
    "start_time": "2022-11-16T04:51:24.030Z"
   },
   {
    "duration": 16,
    "start_time": "2022-11-16T04:51:24.044Z"
   },
   {
    "duration": 311,
    "start_time": "2022-11-16T04:51:24.061Z"
   },
   {
    "duration": 5,
    "start_time": "2022-11-16T04:51:24.373Z"
   },
   {
    "duration": 7,
    "start_time": "2022-11-16T04:51:24.379Z"
   },
   {
    "duration": 7,
    "start_time": "2022-11-16T04:51:24.388Z"
   },
   {
    "duration": 36,
    "start_time": "2022-11-16T04:51:24.413Z"
   },
   {
    "duration": 66,
    "start_time": "2022-11-16T04:51:24.451Z"
   },
   {
    "duration": 973,
    "start_time": "2022-11-16T04:51:24.520Z"
   },
   {
    "duration": 8,
    "start_time": "2022-11-16T04:51:25.864Z"
   },
   {
    "duration": 5,
    "start_time": "2022-11-16T04:51:26.904Z"
   },
   {
    "duration": 25,
    "start_time": "2022-11-16T04:51:28.743Z"
   },
   {
    "duration": 96,
    "start_time": "2022-11-16T04:51:29.217Z"
   },
   {
    "duration": 905,
    "start_time": "2022-11-16T04:51:29.584Z"
   },
   {
    "duration": 1070,
    "start_time": "2022-11-16T04:51:30.491Z"
   },
   {
    "duration": 10,
    "start_time": "2022-11-16T04:51:31.563Z"
   },
   {
    "duration": 54337,
    "start_time": "2022-11-16T04:58:58.824Z"
   },
   {
    "duration": 839,
    "start_time": "2022-11-16T04:59:58.617Z"
   },
   {
    "duration": 4,
    "start_time": "2022-11-16T05:01:27.130Z"
   },
   {
    "duration": 34,
    "start_time": "2022-11-16T05:01:27.811Z"
   },
   {
    "duration": 17,
    "start_time": "2022-11-16T05:01:28.163Z"
   },
   {
    "duration": 7408,
    "start_time": "2022-11-16T05:01:28.505Z"
   },
   {
    "duration": 14,
    "start_time": "2022-11-16T05:01:35.915Z"
   },
   {
    "duration": 7,
    "start_time": "2022-11-16T05:01:35.930Z"
   },
   {
    "duration": 16,
    "start_time": "2022-11-16T05:01:35.939Z"
   },
   {
    "duration": 15,
    "start_time": "2022-11-16T05:01:35.956Z"
   },
   {
    "duration": 18,
    "start_time": "2022-11-16T05:01:35.972Z"
   },
   {
    "duration": 82,
    "start_time": "2022-11-16T05:01:36.012Z"
   },
   {
    "duration": 17,
    "start_time": "2022-11-16T05:01:36.096Z"
   },
   {
    "duration": 8,
    "start_time": "2022-11-16T05:01:36.114Z"
   },
   {
    "duration": 7,
    "start_time": "2022-11-16T05:01:36.124Z"
   },
   {
    "duration": 39,
    "start_time": "2022-11-16T05:01:36.132Z"
   },
   {
    "duration": 49,
    "start_time": "2022-11-16T05:01:36.173Z"
   },
   {
    "duration": 1057,
    "start_time": "2022-11-16T05:01:36.224Z"
   },
   {
    "duration": 53246,
    "start_time": "2022-11-16T05:01:37.283Z"
   },
   {
    "duration": 9,
    "start_time": "2022-11-16T05:02:30.531Z"
   },
   {
    "duration": 25,
    "start_time": "2022-11-16T05:02:30.542Z"
   },
   {
    "duration": 55,
    "start_time": "2022-11-16T05:02:30.568Z"
   },
   {
    "duration": 206,
    "start_time": "2022-11-16T05:02:30.624Z"
   },
   {
    "duration": 1028,
    "start_time": "2022-11-16T05:02:30.833Z"
   },
   {
    "duration": 1052,
    "start_time": "2022-11-16T05:02:31.863Z"
   },
   {
    "duration": 13,
    "start_time": "2022-11-16T05:02:32.917Z"
   },
   {
    "duration": 872,
    "start_time": "2022-11-16T05:03:43.771Z"
   },
   {
    "duration": 1097,
    "start_time": "2022-11-16T05:03:48.491Z"
   },
   {
    "duration": 888,
    "start_time": "2022-11-16T05:04:00.291Z"
   },
   {
    "duration": 54037,
    "start_time": "2022-11-16T05:04:09.105Z"
   },
   {
    "duration": 53591,
    "start_time": "2022-11-16T05:08:00.617Z"
   },
   {
    "duration": 55055,
    "start_time": "2022-11-16T05:10:18.658Z"
   },
   {
    "duration": 71433,
    "start_time": "2022-11-16T05:11:51.563Z"
   },
   {
    "duration": 99,
    "start_time": "2022-11-16T05:15:08.971Z"
   },
   {
    "duration": 53839,
    "start_time": "2022-11-16T05:15:19.706Z"
   },
   {
    "duration": 71,
    "start_time": "2022-11-16T05:16:13.548Z"
   },
   {
    "duration": 53835,
    "start_time": "2022-11-16T05:16:25.900Z"
   },
   {
    "duration": 72096,
    "start_time": "2022-11-16T05:17:19.736Z"
   },
   {
    "duration": 25,
    "start_time": "2022-11-16T05:18:38.278Z"
   },
   {
    "duration": 32,
    "start_time": "2022-11-16T05:21:06.998Z"
   },
   {
    "duration": 4,
    "start_time": "2022-11-16T05:21:20.876Z"
   },
   {
    "duration": 34,
    "start_time": "2022-11-16T05:21:21.365Z"
   },
   {
    "duration": 16,
    "start_time": "2022-11-16T05:21:21.669Z"
   },
   {
    "duration": 7328,
    "start_time": "2022-11-16T05:21:22.134Z"
   },
   {
    "duration": 16,
    "start_time": "2022-11-16T05:21:29.465Z"
   },
   {
    "duration": 7,
    "start_time": "2022-11-16T05:21:29.483Z"
   },
   {
    "duration": 8,
    "start_time": "2022-11-16T05:21:29.513Z"
   },
   {
    "duration": 17,
    "start_time": "2022-11-16T05:21:29.522Z"
   },
   {
    "duration": 17,
    "start_time": "2022-11-16T05:21:29.540Z"
   },
   {
    "duration": 98,
    "start_time": "2022-11-16T05:21:29.558Z"
   },
   {
    "duration": 4,
    "start_time": "2022-11-16T05:21:29.658Z"
   },
   {
    "duration": 7,
    "start_time": "2022-11-16T05:21:29.664Z"
   },
   {
    "duration": 9,
    "start_time": "2022-11-16T05:21:29.673Z"
   },
   {
    "duration": 55,
    "start_time": "2022-11-16T05:21:29.684Z"
   },
   {
    "duration": 21,
    "start_time": "2022-11-16T05:21:29.741Z"
   },
   {
    "duration": 988,
    "start_time": "2022-11-16T05:21:29.812Z"
   },
   {
    "duration": 54274,
    "start_time": "2022-11-16T05:21:30.802Z"
   },
   {
    "duration": 9,
    "start_time": "2022-11-16T05:22:25.077Z"
   },
   {
    "duration": 5,
    "start_time": "2022-11-16T05:22:25.087Z"
   },
   {
    "duration": 120,
    "start_time": "2022-11-16T05:22:25.094Z"
   },
   {
    "duration": 115,
    "start_time": "2022-11-16T05:22:25.215Z"
   },
   {
    "duration": 1023,
    "start_time": "2022-11-16T05:22:25.332Z"
   },
   {
    "duration": 1056,
    "start_time": "2022-11-16T05:22:26.357Z"
   },
   {
    "duration": 53818,
    "start_time": "2022-11-16T05:22:27.415Z"
   },
   {
    "duration": 71878,
    "start_time": "2022-11-16T05:23:21.234Z"
   },
   {
    "duration": 32,
    "start_time": "2022-11-16T05:24:33.114Z"
   },
   {
    "duration": 26,
    "start_time": "2022-11-16T05:30:07.789Z"
   },
   {
    "duration": 30,
    "start_time": "2022-11-16T05:30:08.164Z"
   },
   {
    "duration": 3,
    "start_time": "2022-11-16T05:36:10.695Z"
   },
   {
    "duration": 33,
    "start_time": "2022-11-16T05:36:11.221Z"
   },
   {
    "duration": 17,
    "start_time": "2022-11-16T05:36:11.552Z"
   },
   {
    "duration": 7397,
    "start_time": "2022-11-16T05:36:11.920Z"
   },
   {
    "duration": 14,
    "start_time": "2022-11-16T05:36:19.318Z"
   },
   {
    "duration": 7,
    "start_time": "2022-11-16T05:36:19.333Z"
   },
   {
    "duration": 11,
    "start_time": "2022-11-16T05:36:19.342Z"
   },
   {
    "duration": 26,
    "start_time": "2022-11-16T05:36:19.354Z"
   },
   {
    "duration": 40,
    "start_time": "2022-11-16T05:36:19.382Z"
   },
   {
    "duration": 76,
    "start_time": "2022-11-16T05:36:19.423Z"
   },
   {
    "duration": 14,
    "start_time": "2022-11-16T05:36:19.501Z"
   },
   {
    "duration": 6,
    "start_time": "2022-11-16T05:36:19.517Z"
   },
   {
    "duration": 8,
    "start_time": "2022-11-16T05:36:19.525Z"
   },
   {
    "duration": 38,
    "start_time": "2022-11-16T05:36:19.535Z"
   },
   {
    "duration": 50,
    "start_time": "2022-11-16T05:36:19.575Z"
   },
   {
    "duration": 1066,
    "start_time": "2022-11-16T05:36:19.627Z"
   },
   {
    "duration": 52876,
    "start_time": "2022-11-16T05:36:20.695Z"
   },
   {
    "duration": 9,
    "start_time": "2022-11-16T05:37:13.575Z"
   },
   {
    "duration": 5,
    "start_time": "2022-11-16T05:37:13.585Z"
   },
   {
    "duration": 34,
    "start_time": "2022-11-16T05:37:13.592Z"
   },
   {
    "duration": 108,
    "start_time": "2022-11-16T05:37:13.715Z"
   },
   {
    "duration": 1063,
    "start_time": "2022-11-16T05:37:13.825Z"
   },
   {
    "duration": 1060,
    "start_time": "2022-11-16T05:37:14.890Z"
   },
   {
    "duration": 53962,
    "start_time": "2022-11-16T05:37:15.952Z"
   },
   {
    "duration": 72136,
    "start_time": "2022-11-16T05:38:09.915Z"
   },
   {
    "duration": 24,
    "start_time": "2022-11-16T05:39:22.053Z"
   },
   {
    "duration": 39,
    "start_time": "2022-11-16T05:39:22.078Z"
   },
   {
    "duration": 1136,
    "start_time": "2022-11-17T03:08:40.034Z"
   },
   {
    "duration": 42,
    "start_time": "2022-11-17T03:08:41.173Z"
   },
   {
    "duration": 23,
    "start_time": "2022-11-17T03:08:41.216Z"
   },
   {
    "duration": 8446,
    "start_time": "2022-11-17T03:08:41.241Z"
   },
   {
    "duration": 16,
    "start_time": "2022-11-17T03:08:49.690Z"
   },
   {
    "duration": 8,
    "start_time": "2022-11-17T03:08:49.707Z"
   },
   {
    "duration": 34,
    "start_time": "2022-11-17T03:08:49.717Z"
   },
   {
    "duration": 12,
    "start_time": "2022-11-17T03:08:49.753Z"
   },
   {
    "duration": 17,
    "start_time": "2022-11-17T03:08:49.767Z"
   },
   {
    "duration": 107,
    "start_time": "2022-11-17T03:08:49.785Z"
   },
   {
    "duration": 4,
    "start_time": "2022-11-17T03:08:49.894Z"
   },
   {
    "duration": 13,
    "start_time": "2022-11-17T03:08:49.900Z"
   },
   {
    "duration": 9,
    "start_time": "2022-11-17T03:08:49.914Z"
   },
   {
    "duration": 37,
    "start_time": "2022-11-17T03:08:49.926Z"
   },
   {
    "duration": 90,
    "start_time": "2022-11-17T03:08:49.964Z"
   },
   {
    "duration": 1067,
    "start_time": "2022-11-17T03:08:50.057Z"
   },
   {
    "duration": 61479,
    "start_time": "2022-11-17T03:08:51.125Z"
   },
   {
    "duration": 11,
    "start_time": "2022-11-17T03:09:52.606Z"
   },
   {
    "duration": 4,
    "start_time": "2022-11-17T03:09:52.619Z"
   },
   {
    "duration": 45,
    "start_time": "2022-11-17T03:09:52.624Z"
   },
   {
    "duration": 198,
    "start_time": "2022-11-17T03:09:52.753Z"
   },
   {
    "duration": 1085,
    "start_time": "2022-11-17T03:09:52.954Z"
   },
   {
    "duration": 1199,
    "start_time": "2022-11-17T03:09:54.041Z"
   },
   {
    "duration": 60447,
    "start_time": "2022-11-17T03:09:55.242Z"
   },
   {
    "duration": 83341,
    "start_time": "2022-11-17T03:10:55.691Z"
   },
   {
    "duration": 34,
    "start_time": "2022-11-17T03:12:19.034Z"
   },
   {
    "duration": 36,
    "start_time": "2022-11-17T03:12:19.070Z"
   }
  ],
  "kernelspec": {
   "display_name": "Python 3 (ipykernel)",
   "language": "python",
   "name": "python3"
  },
  "language_info": {
   "codemirror_mode": {
    "name": "ipython",
    "version": 3
   },
   "file_extension": ".py",
   "mimetype": "text/x-python",
   "name": "python",
   "nbconvert_exporter": "python",
   "pygments_lexer": "ipython3",
   "version": "3.9.12"
  },
  "toc": {
   "base_numbering": 1,
   "nav_menu": {},
   "number_sections": true,
   "sideBar": true,
   "skip_h1_title": true,
   "title_cell": "Содержание",
   "title_sidebar": "Contents",
   "toc_cell": true,
   "toc_position": {},
   "toc_section_display": true,
   "toc_window_display": true
  }
 },
 "nbformat": 4,
 "nbformat_minor": 2
}
