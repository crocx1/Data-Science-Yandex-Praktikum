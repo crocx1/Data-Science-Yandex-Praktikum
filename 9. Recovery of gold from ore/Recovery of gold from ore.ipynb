{
 "cells": [
  {
   "cell_type": "markdown",
   "metadata": {
    "toc": true
   },
   "source": [
    "<h1>Содержание<span class=\"tocSkip\"></span></h1>\n",
    "<div class=\"toc\"><ul class=\"toc-item\"><li><span><a href=\"#Подготовка-данных\" data-toc-modified-id=\"Подготовка-данных-1\"><span class=\"toc-item-num\">1&nbsp;&nbsp;</span>Подготовка данных</a></span></li><li><span><a href=\"#Анализ-данных\" data-toc-modified-id=\"Анализ-данных-2\"><span class=\"toc-item-num\">2&nbsp;&nbsp;</span>Анализ данных</a></span></li><li><span><a href=\"#Модель\" data-toc-modified-id=\"Модель-3\"><span class=\"toc-item-num\">3&nbsp;&nbsp;</span>Модель</a></span></li><li><span><a href=\"#Чек-лист-готовности-проекта\" data-toc-modified-id=\"Чек-лист-готовности-проекта-4\"><span class=\"toc-item-num\">4&nbsp;&nbsp;</span>Чек-лист готовности проекта</a></span></li></ul></div>"
   ]
  },
  {
   "cell_type": "markdown",
   "metadata": {},
   "source": [
    "# Восстановление золота из руды"
   ]
  },
  {
   "cell_type": "markdown",
   "metadata": {},
   "source": [
    "Подготовьте прототип модели машинного обучения для «Цифры». Компания разрабатывает решения для эффективной работы промышленных предприятий.\n",
    "\n",
    "Модель должна предсказать коэффициент восстановления золота из золотосодержащей руды. Используйте данные с параметрами добычи и очистки. \n",
    "\n",
    "Модель поможет оптимизировать производство, чтобы не запускать предприятие с убыточными характеристиками.\n",
    "\n",
    "Вам нужно:\n",
    "\n",
    "1. Подготовить данные;\n",
    "2. Провести исследовательский анализ данных;\n",
    "3. Построить и обучить модель.\n",
    "\n",
    "Чтобы выполнить проект, обращайтесь к библиотекам *pandas*, *matplotlib* и *sklearn.* Вам поможет их документация."
   ]
  },
  {
   "cell_type": "markdown",
   "metadata": {},
   "source": [
    "Анализ восстановления золота из руды\n",
    "\n",
    "Данный проект направлен на анализ данных по восстановлению различных минералов из исходной руды. \n",
    "\n",
    "Основная задача проекта подготовить данные и выводы, на основе которых возможно понять стоит ли проводить оптимизацию производства. "
   ]
  },
  {
   "cell_type": "markdown",
   "metadata": {},
   "source": [
    "## Подготовка данных"
   ]
  },
  {
   "cell_type": "markdown",
   "metadata": {},
   "source": [
    "Подготавливаем необходимые библиотеки"
   ]
  },
  {
   "cell_type": "code",
   "execution_count": 2,
   "metadata": {},
   "outputs": [],
   "source": [
    "import pandas as pd\n",
    "import numpy as np\n",
    "import sklearn as sk\n",
    "from sklearn.metrics import mean_absolute_error\n",
    "from scipy import stats as st\n",
    "from sklearn.linear_model import LinearRegression\n",
    "from sklearn.model_selection import train_test_split\n",
    "from sklearn.metrics import mean_squared_error\n",
    "from sklearn.linear_model import LinearRegression\n",
    "from sklearn import datasets, linear_model\n",
    "from sklearn.model_selection import cross_validate\n",
    "from sklearn.metrics import make_scorer\n",
    "from sklearn.metrics import confusion_matrix\n",
    "from sklearn.svm import LinearSVC\n",
    "from sklearn.metrics import fbeta_score, make_scorer\n",
    "from sklearn.model_selection import cross_val_score\n",
    "from sklearn.ensemble import RandomForestRegressor\n",
    "from sklearn import linear_model\n",
    "from sklearn.model_selection import GridSearchCV\n",
    "from sklearn.model_selection import RandomizedSearchCV\n",
    "from sklearn.model_selection import StratifiedKFold\n",
    "from sklearn.dummy import DummyRegressor\n",
    "\n",
    "\n",
    "RANDOM = 12345"
   ]
  },
  {
   "cell_type": "markdown",
   "metadata": {},
   "source": [
    "Скачиваем исходные данные"
   ]
  },
  {
   "cell_type": "code",
   "execution_count": 3,
   "metadata": {},
   "outputs": [],
   "source": [
    "train = pd.read_csv('/datasets/gold_recovery_train_new.csv')\n",
    "test = pd.read_csv('/datasets/gold_recovery_test_new.csv')\n",
    "full = pd.read_csv('/datasets/gold_recovery_full_new.csv')\n"
   ]
  },
  {
   "cell_type": "markdown",
   "metadata": {},
   "source": [
    "Анализируем исходные данные и чистим их"
   ]
  },
  {
   "cell_type": "code",
   "execution_count": 4,
   "metadata": {},
   "outputs": [
    {
     "name": "stdout",
     "output_type": "stream",
     "text": [
      "                  date  final.output.concentrate_ag  \\\n",
      "0  2016-01-15 00:00:00                     6.055403   \n",
      "1  2016-01-15 01:00:00                     6.029369   \n",
      "2  2016-01-15 02:00:00                     6.055926   \n",
      "3  2016-01-15 03:00:00                     6.047977   \n",
      "4  2016-01-15 04:00:00                     6.148599   \n",
      "\n",
      "   final.output.concentrate_pb  final.output.concentrate_sol  \\\n",
      "0                     9.889648                      5.507324   \n",
      "1                     9.968944                      5.257781   \n",
      "2                    10.213995                      5.383759   \n",
      "3                     9.977019                      4.858634   \n",
      "4                    10.142511                      4.939416   \n",
      "\n",
      "   final.output.concentrate_au  final.output.recovery  final.output.tail_ag  \\\n",
      "0                    42.192020              70.541216             10.411962   \n",
      "1                    42.701629              69.266198             10.462676   \n",
      "2                    42.657501              68.116445             10.507046   \n",
      "3                    42.689819              68.347543             10.422762   \n",
      "4                    42.774141              66.927016             10.360302   \n",
      "\n",
      "   final.output.tail_pb  final.output.tail_sol  final.output.tail_au  ...  \\\n",
      "0              0.895447              16.904297              2.143149  ...   \n",
      "1              0.927452              16.634514              2.224930  ...   \n",
      "2              0.953716              16.208849              2.257889  ...   \n",
      "3              0.883763              16.532835              2.146849  ...   \n",
      "4              0.792826              16.525686              2.055292  ...   \n",
      "\n",
      "   secondary_cleaner.state.floatbank4_a_air  \\\n",
      "0                                 14.016835   \n",
      "1                                 13.992281   \n",
      "2                                 14.015015   \n",
      "3                                 14.036510   \n",
      "4                                 14.027298   \n",
      "\n",
      "   secondary_cleaner.state.floatbank4_a_level  \\\n",
      "0                                 -502.488007   \n",
      "1                                 -505.503262   \n",
      "2                                 -502.520901   \n",
      "3                                 -500.857308   \n",
      "4                                 -499.838632   \n",
      "\n",
      "   secondary_cleaner.state.floatbank4_b_air  \\\n",
      "0                                 12.099931   \n",
      "1                                 11.950531   \n",
      "2                                 11.912783   \n",
      "3                                 11.999550   \n",
      "4                                 11.953070   \n",
      "\n",
      "   secondary_cleaner.state.floatbank4_b_level  \\\n",
      "0                                 -504.715942   \n",
      "1                                 -501.331529   \n",
      "2                                 -501.133383   \n",
      "3                                 -501.193686   \n",
      "4                                 -501.053894   \n",
      "\n",
      "   secondary_cleaner.state.floatbank5_a_air  \\\n",
      "0                                  9.925633   \n",
      "1                                 10.039245   \n",
      "2                                 10.070913   \n",
      "3                                  9.970366   \n",
      "4                                  9.925709   \n",
      "\n",
      "   secondary_cleaner.state.floatbank5_a_level  \\\n",
      "0                                 -498.310211   \n",
      "1                                 -500.169983   \n",
      "2                                 -500.129135   \n",
      "3                                 -499.201640   \n",
      "4                                 -501.686727   \n",
      "\n",
      "   secondary_cleaner.state.floatbank5_b_air  \\\n",
      "0                                  8.079666   \n",
      "1                                  7.984757   \n",
      "2                                  8.013877   \n",
      "3                                  7.977324   \n",
      "4                                  7.894242   \n",
      "\n",
      "   secondary_cleaner.state.floatbank5_b_level  \\\n",
      "0                                 -500.470978   \n",
      "1                                 -500.582168   \n",
      "2                                 -500.517572   \n",
      "3                                 -500.255908   \n",
      "4                                 -500.356035   \n",
      "\n",
      "   secondary_cleaner.state.floatbank6_a_air  \\\n",
      "0                                 14.151341   \n",
      "1                                 13.998353   \n",
      "2                                 14.028663   \n",
      "3                                 14.005551   \n",
      "4                                 13.996647   \n",
      "\n",
      "   secondary_cleaner.state.floatbank6_a_level  \n",
      "0                                 -605.841980  \n",
      "1                                 -599.787184  \n",
      "2                                 -601.427363  \n",
      "3                                 -599.996129  \n",
      "4                                 -601.496691  \n",
      "\n",
      "[5 rows x 87 columns]\n",
      "(14149, 87)\n",
      "(14149, 87)\n",
      "<class 'pandas.core.frame.DataFrame'>\n",
      "Int64Index: 14149 entries, 0 to 14148\n",
      "Data columns (total 87 columns):\n",
      " #   Column                                              Non-Null Count  Dtype  \n",
      "---  ------                                              --------------  -----  \n",
      " 0   date                                                14149 non-null  object \n",
      " 1   final.output.concentrate_ag                         14148 non-null  float64\n",
      " 2   final.output.concentrate_pb                         14148 non-null  float64\n",
      " 3   final.output.concentrate_sol                        13938 non-null  float64\n",
      " 4   final.output.concentrate_au                         14149 non-null  float64\n",
      " 5   final.output.recovery                               14149 non-null  float64\n",
      " 6   final.output.tail_ag                                14149 non-null  float64\n",
      " 7   final.output.tail_pb                                14049 non-null  float64\n",
      " 8   final.output.tail_sol                               14144 non-null  float64\n",
      " 9   final.output.tail_au                                14149 non-null  float64\n",
      " 10  primary_cleaner.input.sulfate                       14129 non-null  float64\n",
      " 11  primary_cleaner.input.depressant                    14117 non-null  float64\n",
      " 12  primary_cleaner.input.feed_size                     14149 non-null  float64\n",
      " 13  primary_cleaner.input.xanthate                      14049 non-null  float64\n",
      " 14  primary_cleaner.output.concentrate_ag               14149 non-null  float64\n",
      " 15  primary_cleaner.output.concentrate_pb               14063 non-null  float64\n",
      " 16  primary_cleaner.output.concentrate_sol              13863 non-null  float64\n",
      " 17  primary_cleaner.output.concentrate_au               14149 non-null  float64\n",
      " 18  primary_cleaner.output.tail_ag                      14148 non-null  float64\n",
      " 19  primary_cleaner.output.tail_pb                      14134 non-null  float64\n",
      " 20  primary_cleaner.output.tail_sol                     14103 non-null  float64\n",
      " 21  primary_cleaner.output.tail_au                      14149 non-null  float64\n",
      " 22  primary_cleaner.state.floatbank8_a_air              14145 non-null  float64\n",
      " 23  primary_cleaner.state.floatbank8_a_level            14148 non-null  float64\n",
      " 24  primary_cleaner.state.floatbank8_b_air              14145 non-null  float64\n",
      " 25  primary_cleaner.state.floatbank8_b_level            14148 non-null  float64\n",
      " 26  primary_cleaner.state.floatbank8_c_air              14147 non-null  float64\n",
      " 27  primary_cleaner.state.floatbank8_c_level            14148 non-null  float64\n",
      " 28  primary_cleaner.state.floatbank8_d_air              14146 non-null  float64\n",
      " 29  primary_cleaner.state.floatbank8_d_level            14148 non-null  float64\n",
      " 30  rougher.calculation.sulfate_to_au_concentrate       14148 non-null  float64\n",
      " 31  rougher.calculation.floatbank10_sulfate_to_au_feed  14148 non-null  float64\n",
      " 32  rougher.calculation.floatbank11_sulfate_to_au_feed  14148 non-null  float64\n",
      " 33  rougher.calculation.au_pb_ratio                     14149 non-null  float64\n",
      " 34  rougher.input.feed_ag                               14149 non-null  float64\n",
      " 35  rougher.input.feed_pb                               14049 non-null  float64\n",
      " 36  rougher.input.feed_rate                             14141 non-null  float64\n",
      " 37  rougher.input.feed_size                             14005 non-null  float64\n",
      " 38  rougher.input.feed_sol                              14071 non-null  float64\n",
      " 39  rougher.input.feed_au                               14149 non-null  float64\n",
      " 40  rougher.input.floatbank10_sulfate                   14120 non-null  float64\n",
      " 41  rougher.input.floatbank10_xanthate                  14141 non-null  float64\n",
      " 42  rougher.input.floatbank11_sulfate                   14113 non-null  float64\n",
      " 43  rougher.input.floatbank11_xanthate                  13721 non-null  float64\n",
      " 44  rougher.output.concentrate_ag                       14149 non-null  float64\n",
      " 45  rougher.output.concentrate_pb                       14149 non-null  float64\n",
      " 46  rougher.output.concentrate_sol                      14127 non-null  float64\n",
      " 47  rougher.output.concentrate_au                       14149 non-null  float64\n",
      " 48  rougher.output.recovery                             14149 non-null  float64\n",
      " 49  rougher.output.tail_ag                              14148 non-null  float64\n",
      " 50  rougher.output.tail_pb                              14149 non-null  float64\n",
      " 51  rougher.output.tail_sol                             14149 non-null  float64\n",
      " 52  rougher.output.tail_au                              14149 non-null  float64\n",
      " 53  rougher.state.floatbank10_a_air                     14148 non-null  float64\n",
      " 54  rougher.state.floatbank10_a_level                   14148 non-null  float64\n",
      " 55  rougher.state.floatbank10_b_air                     14148 non-null  float64\n",
      " 56  rougher.state.floatbank10_b_level                   14148 non-null  float64\n",
      " 57  rougher.state.floatbank10_c_air                     14148 non-null  float64\n",
      " 58  rougher.state.floatbank10_c_level                   14148 non-null  float64\n",
      " 59  rougher.state.floatbank10_d_air                     14149 non-null  float64\n",
      " 60  rougher.state.floatbank10_d_level                   14149 non-null  float64\n",
      " 61  rougher.state.floatbank10_e_air                     13713 non-null  float64\n",
      " 62  rougher.state.floatbank10_e_level                   14149 non-null  float64\n",
      " 63  rougher.state.floatbank10_f_air                     14149 non-null  float64\n",
      " 64  rougher.state.floatbank10_f_level                   14149 non-null  float64\n",
      " 65  secondary_cleaner.output.tail_ag                    14147 non-null  float64\n",
      " 66  secondary_cleaner.output.tail_pb                    14139 non-null  float64\n",
      " 67  secondary_cleaner.output.tail_sol                   12544 non-null  float64\n",
      " 68  secondary_cleaner.output.tail_au                    14149 non-null  float64\n",
      " 69  secondary_cleaner.state.floatbank2_a_air            13932 non-null  float64\n",
      " 70  secondary_cleaner.state.floatbank2_a_level          14148 non-null  float64\n",
      " 71  secondary_cleaner.state.floatbank2_b_air            14128 non-null  float64\n",
      " 72  secondary_cleaner.state.floatbank2_b_level          14148 non-null  float64\n",
      " 73  secondary_cleaner.state.floatbank3_a_air            14145 non-null  float64\n",
      " 74  secondary_cleaner.state.floatbank3_a_level          14148 non-null  float64\n",
      " 75  secondary_cleaner.state.floatbank3_b_air            14148 non-null  float64\n",
      " 76  secondary_cleaner.state.floatbank3_b_level          14148 non-null  float64\n",
      " 77  secondary_cleaner.state.floatbank4_a_air            14143 non-null  float64\n",
      " 78  secondary_cleaner.state.floatbank4_a_level          14148 non-null  float64\n",
      " 79  secondary_cleaner.state.floatbank4_b_air            14148 non-null  float64\n",
      " 80  secondary_cleaner.state.floatbank4_b_level          14148 non-null  float64\n",
      " 81  secondary_cleaner.state.floatbank5_a_air            14148 non-null  float64\n",
      " 82  secondary_cleaner.state.floatbank5_a_level          14148 non-null  float64\n",
      " 83  secondary_cleaner.state.floatbank5_b_air            14148 non-null  float64\n",
      " 84  secondary_cleaner.state.floatbank5_b_level          14148 non-null  float64\n",
      " 85  secondary_cleaner.state.floatbank6_a_air            14147 non-null  float64\n",
      " 86  secondary_cleaner.state.floatbank6_a_level          14148 non-null  float64\n",
      "dtypes: float64(86), object(1)\n",
      "memory usage: 9.5+ MB\n",
      "\n",
      "                  date  primary_cleaner.input.sulfate  \\\n",
      "0  2016-09-01 00:59:59                     210.800909   \n",
      "1  2016-09-01 01:59:59                     215.392455   \n",
      "2  2016-09-01 02:59:59                     215.259946   \n",
      "3  2016-09-01 03:59:59                     215.336236   \n",
      "4  2016-09-01 04:59:59                     199.099327   \n",
      "\n",
      "   primary_cleaner.input.depressant  primary_cleaner.input.feed_size  \\\n",
      "0                         14.993118                         8.080000   \n",
      "1                         14.987471                         8.080000   \n",
      "2                         12.884934                         7.786667   \n",
      "3                         12.006805                         7.640000   \n",
      "4                         10.682530                         7.530000   \n",
      "\n",
      "   primary_cleaner.input.xanthate  primary_cleaner.state.floatbank8_a_air  \\\n",
      "0                        1.005021                             1398.981301   \n",
      "1                        0.990469                             1398.777912   \n",
      "2                        0.996043                             1398.493666   \n",
      "3                        0.863514                             1399.618111   \n",
      "4                        0.805575                             1401.268123   \n",
      "\n",
      "   primary_cleaner.state.floatbank8_a_level  \\\n",
      "0                               -500.225577   \n",
      "1                               -500.057435   \n",
      "2                               -500.868360   \n",
      "3                               -498.863574   \n",
      "4                               -500.808305   \n",
      "\n",
      "   primary_cleaner.state.floatbank8_b_air  \\\n",
      "0                             1399.144926   \n",
      "1                             1398.055362   \n",
      "2                             1398.860436   \n",
      "3                             1397.440120   \n",
      "4                             1398.128818   \n",
      "\n",
      "   primary_cleaner.state.floatbank8_b_level  \\\n",
      "0                               -499.919735   \n",
      "1                               -499.778182   \n",
      "2                               -499.764529   \n",
      "3                               -499.211024   \n",
      "4                               -499.504543   \n",
      "\n",
      "   primary_cleaner.state.floatbank8_c_air  ...  \\\n",
      "0                             1400.102998  ...   \n",
      "1                             1396.151033  ...   \n",
      "2                             1398.075709  ...   \n",
      "3                             1400.129303  ...   \n",
      "4                             1402.172226  ...   \n",
      "\n",
      "   secondary_cleaner.state.floatbank4_a_air  \\\n",
      "0                                 12.023554   \n",
      "1                                 12.058140   \n",
      "2                                 11.962366   \n",
      "3                                 12.033091   \n",
      "4                                 12.025367   \n",
      "\n",
      "   secondary_cleaner.state.floatbank4_a_level  \\\n",
      "0                                 -497.795834   \n",
      "1                                 -498.695773   \n",
      "2                                 -498.767484   \n",
      "3                                 -498.350935   \n",
      "4                                 -500.786497   \n",
      "\n",
      "   secondary_cleaner.state.floatbank4_b_air  \\\n",
      "0                                  8.016656   \n",
      "1                                  8.130979   \n",
      "2                                  8.096893   \n",
      "3                                  8.074946   \n",
      "4                                  8.054678   \n",
      "\n",
      "   secondary_cleaner.state.floatbank4_b_level  \\\n",
      "0                                 -501.289139   \n",
      "1                                 -499.634209   \n",
      "2                                 -500.827423   \n",
      "3                                 -499.474407   \n",
      "4                                 -500.397500   \n",
      "\n",
      "   secondary_cleaner.state.floatbank5_a_air  \\\n",
      "0                                  7.946562   \n",
      "1                                  7.958270   \n",
      "2                                  8.071056   \n",
      "3                                  7.897085   \n",
      "4                                  8.107890   \n",
      "\n",
      "   secondary_cleaner.state.floatbank5_a_level  \\\n",
      "0                                 -432.317850   \n",
      "1                                 -525.839648   \n",
      "2                                 -500.801673   \n",
      "3                                 -500.868509   \n",
      "4                                 -509.526725   \n",
      "\n",
      "   secondary_cleaner.state.floatbank5_b_air  \\\n",
      "0                                  4.872511   \n",
      "1                                  4.878850   \n",
      "2                                  4.905125   \n",
      "3                                  4.931400   \n",
      "4                                  4.957674   \n",
      "\n",
      "   secondary_cleaner.state.floatbank5_b_level  \\\n",
      "0                                 -500.037437   \n",
      "1                                 -500.162375   \n",
      "2                                 -499.828510   \n",
      "3                                 -499.963623   \n",
      "4                                 -500.360026   \n",
      "\n",
      "   secondary_cleaner.state.floatbank6_a_air  \\\n",
      "0                                 26.705889   \n",
      "1                                 25.019940   \n",
      "2                                 24.994862   \n",
      "3                                 24.948919   \n",
      "4                                 25.003331   \n",
      "\n",
      "   secondary_cleaner.state.floatbank6_a_level  \n",
      "0                                 -499.709414  \n",
      "1                                 -499.819438  \n",
      "2                                 -500.622559  \n",
      "3                                 -498.709987  \n",
      "4                                 -500.856333  \n",
      "\n",
      "[5 rows x 53 columns]\n",
      "(5290, 53)\n",
      "(5290, 53)\n",
      "<class 'pandas.core.frame.DataFrame'>\n",
      "Int64Index: 5290 entries, 0 to 5289\n",
      "Data columns (total 53 columns):\n",
      " #   Column                                      Non-Null Count  Dtype  \n",
      "---  ------                                      --------------  -----  \n",
      " 0   date                                        5290 non-null   object \n",
      " 1   primary_cleaner.input.sulfate               5286 non-null   float64\n",
      " 2   primary_cleaner.input.depressant            5285 non-null   float64\n",
      " 3   primary_cleaner.input.feed_size             5290 non-null   float64\n",
      " 4   primary_cleaner.input.xanthate              5286 non-null   float64\n",
      " 5   primary_cleaner.state.floatbank8_a_air      5290 non-null   float64\n",
      " 6   primary_cleaner.state.floatbank8_a_level    5290 non-null   float64\n",
      " 7   primary_cleaner.state.floatbank8_b_air      5290 non-null   float64\n",
      " 8   primary_cleaner.state.floatbank8_b_level    5290 non-null   float64\n",
      " 9   primary_cleaner.state.floatbank8_c_air      5290 non-null   float64\n",
      " 10  primary_cleaner.state.floatbank8_c_level    5290 non-null   float64\n",
      " 11  primary_cleaner.state.floatbank8_d_air      5290 non-null   float64\n",
      " 12  primary_cleaner.state.floatbank8_d_level    5290 non-null   float64\n",
      " 13  rougher.input.feed_ag                       5290 non-null   float64\n",
      " 14  rougher.input.feed_pb                       5290 non-null   float64\n",
      " 15  rougher.input.feed_rate                     5287 non-null   float64\n",
      " 16  rougher.input.feed_size                     5289 non-null   float64\n",
      " 17  rougher.input.feed_sol                      5269 non-null   float64\n",
      " 18  rougher.input.feed_au                       5290 non-null   float64\n",
      " 19  rougher.input.floatbank10_sulfate           5285 non-null   float64\n",
      " 20  rougher.input.floatbank10_xanthate          5290 non-null   float64\n",
      " 21  rougher.input.floatbank11_sulfate           5282 non-null   float64\n",
      " 22  rougher.input.floatbank11_xanthate          5265 non-null   float64\n",
      " 23  rougher.state.floatbank10_a_air             5290 non-null   float64\n",
      " 24  rougher.state.floatbank10_a_level           5290 non-null   float64\n",
      " 25  rougher.state.floatbank10_b_air             5290 non-null   float64\n",
      " 26  rougher.state.floatbank10_b_level           5290 non-null   float64\n",
      " 27  rougher.state.floatbank10_c_air             5290 non-null   float64\n",
      " 28  rougher.state.floatbank10_c_level           5290 non-null   float64\n",
      " 29  rougher.state.floatbank10_d_air             5290 non-null   float64\n",
      " 30  rougher.state.floatbank10_d_level           5290 non-null   float64\n",
      " 31  rougher.state.floatbank10_e_air             5290 non-null   float64\n",
      " 32  rougher.state.floatbank10_e_level           5290 non-null   float64\n",
      " 33  rougher.state.floatbank10_f_air             5290 non-null   float64\n",
      " 34  rougher.state.floatbank10_f_level           5290 non-null   float64\n",
      " 35  secondary_cleaner.state.floatbank2_a_air    5287 non-null   float64\n",
      " 36  secondary_cleaner.state.floatbank2_a_level  5290 non-null   float64\n",
      " 37  secondary_cleaner.state.floatbank2_b_air    5288 non-null   float64\n",
      " 38  secondary_cleaner.state.floatbank2_b_level  5290 non-null   float64\n",
      " 39  secondary_cleaner.state.floatbank3_a_air    5281 non-null   float64\n",
      " 40  secondary_cleaner.state.floatbank3_a_level  5290 non-null   float64\n",
      " 41  secondary_cleaner.state.floatbank3_b_air    5290 non-null   float64\n",
      " 42  secondary_cleaner.state.floatbank3_b_level  5290 non-null   float64\n",
      " 43  secondary_cleaner.state.floatbank4_a_air    5290 non-null   float64\n",
      " 44  secondary_cleaner.state.floatbank4_a_level  5290 non-null   float64\n",
      " 45  secondary_cleaner.state.floatbank4_b_air    5290 non-null   float64\n",
      " 46  secondary_cleaner.state.floatbank4_b_level  5290 non-null   float64\n",
      " 47  secondary_cleaner.state.floatbank5_a_air    5290 non-null   float64\n",
      " 48  secondary_cleaner.state.floatbank5_a_level  5290 non-null   float64\n",
      " 49  secondary_cleaner.state.floatbank5_b_air    5290 non-null   float64\n",
      " 50  secondary_cleaner.state.floatbank5_b_level  5290 non-null   float64\n",
      " 51  secondary_cleaner.state.floatbank6_a_air    5290 non-null   float64\n",
      " 52  secondary_cleaner.state.floatbank6_a_level  5290 non-null   float64\n",
      "dtypes: float64(52), object(1)\n",
      "memory usage: 2.2+ MB\n",
      "\n",
      "                  date  final.output.concentrate_ag  \\\n",
      "0  2016-01-15 00:00:00                     6.055403   \n",
      "1  2016-01-15 01:00:00                     6.029369   \n",
      "2  2016-01-15 02:00:00                     6.055926   \n",
      "3  2016-01-15 03:00:00                     6.047977   \n",
      "4  2016-01-15 04:00:00                     6.148599   \n",
      "\n",
      "   final.output.concentrate_pb  final.output.concentrate_sol  \\\n",
      "0                     9.889648                      5.507324   \n",
      "1                     9.968944                      5.257781   \n",
      "2                    10.213995                      5.383759   \n",
      "3                     9.977019                      4.858634   \n",
      "4                    10.142511                      4.939416   \n",
      "\n",
      "   final.output.concentrate_au  final.output.recovery  final.output.tail_ag  \\\n",
      "0                    42.192020              70.541216             10.411962   \n",
      "1                    42.701629              69.266198             10.462676   \n",
      "2                    42.657501              68.116445             10.507046   \n",
      "3                    42.689819              68.347543             10.422762   \n",
      "4                    42.774141              66.927016             10.360302   \n",
      "\n",
      "   final.output.tail_pb  final.output.tail_sol  final.output.tail_au  ...  \\\n",
      "0              0.895447              16.904297              2.143149  ...   \n",
      "1              0.927452              16.634514              2.224930  ...   \n",
      "2              0.953716              16.208849              2.257889  ...   \n",
      "3              0.883763              16.532835              2.146849  ...   \n",
      "4              0.792826              16.525686              2.055292  ...   \n",
      "\n",
      "   secondary_cleaner.state.floatbank4_a_air  \\\n",
      "0                                 14.016835   \n",
      "1                                 13.992281   \n",
      "2                                 14.015015   \n",
      "3                                 14.036510   \n",
      "4                                 14.027298   \n",
      "\n",
      "   secondary_cleaner.state.floatbank4_a_level  \\\n",
      "0                                 -502.488007   \n",
      "1                                 -505.503262   \n",
      "2                                 -502.520901   \n",
      "3                                 -500.857308   \n",
      "4                                 -499.838632   \n",
      "\n",
      "   secondary_cleaner.state.floatbank4_b_air  \\\n",
      "0                                 12.099931   \n",
      "1                                 11.950531   \n",
      "2                                 11.912783   \n",
      "3                                 11.999550   \n",
      "4                                 11.953070   \n",
      "\n",
      "   secondary_cleaner.state.floatbank4_b_level  \\\n",
      "0                                 -504.715942   \n",
      "1                                 -501.331529   \n",
      "2                                 -501.133383   \n",
      "3                                 -501.193686   \n",
      "4                                 -501.053894   \n",
      "\n",
      "   secondary_cleaner.state.floatbank5_a_air  \\\n",
      "0                                  9.925633   \n",
      "1                                 10.039245   \n",
      "2                                 10.070913   \n",
      "3                                  9.970366   \n",
      "4                                  9.925709   \n",
      "\n",
      "   secondary_cleaner.state.floatbank5_a_level  \\\n",
      "0                                 -498.310211   \n",
      "1                                 -500.169983   \n",
      "2                                 -500.129135   \n",
      "3                                 -499.201640   \n",
      "4                                 -501.686727   \n",
      "\n",
      "   secondary_cleaner.state.floatbank5_b_air  \\\n",
      "0                                  8.079666   \n",
      "1                                  7.984757   \n",
      "2                                  8.013877   \n",
      "3                                  7.977324   \n",
      "4                                  7.894242   \n",
      "\n",
      "   secondary_cleaner.state.floatbank5_b_level  \\\n",
      "0                                 -500.470978   \n",
      "1                                 -500.582168   \n",
      "2                                 -500.517572   \n",
      "3                                 -500.255908   \n",
      "4                                 -500.356035   \n",
      "\n",
      "   secondary_cleaner.state.floatbank6_a_air  \\\n",
      "0                                 14.151341   \n",
      "1                                 13.998353   \n",
      "2                                 14.028663   \n",
      "3                                 14.005551   \n",
      "4                                 13.996647   \n",
      "\n",
      "   secondary_cleaner.state.floatbank6_a_level  \n",
      "0                                 -605.841980  \n",
      "1                                 -599.787184  \n",
      "2                                 -601.427363  \n",
      "3                                 -599.996129  \n",
      "4                                 -601.496691  \n",
      "\n",
      "[5 rows x 87 columns]\n",
      "(19439, 87)\n",
      "(19439, 87)\n",
      "<class 'pandas.core.frame.DataFrame'>\n",
      "Int64Index: 19439 entries, 0 to 19438\n",
      "Data columns (total 87 columns):\n",
      " #   Column                                              Non-Null Count  Dtype  \n",
      "---  ------                                              --------------  -----  \n",
      " 0   date                                                19439 non-null  object \n",
      " 1   final.output.concentrate_ag                         19438 non-null  float64\n",
      " 2   final.output.concentrate_pb                         19438 non-null  float64\n",
      " 3   final.output.concentrate_sol                        19228 non-null  float64\n",
      " 4   final.output.concentrate_au                         19439 non-null  float64\n",
      " 5   final.output.recovery                               19439 non-null  float64\n",
      " 6   final.output.tail_ag                                19438 non-null  float64\n",
      " 7   final.output.tail_pb                                19338 non-null  float64\n",
      " 8   final.output.tail_sol                               19433 non-null  float64\n",
      " 9   final.output.tail_au                                19439 non-null  float64\n",
      " 10  primary_cleaner.input.sulfate                       19415 non-null  float64\n",
      " 11  primary_cleaner.input.depressant                    19402 non-null  float64\n",
      " 12  primary_cleaner.input.feed_size                     19439 non-null  float64\n",
      " 13  primary_cleaner.input.xanthate                      19335 non-null  float64\n",
      " 14  primary_cleaner.output.concentrate_ag               19439 non-null  float64\n",
      " 15  primary_cleaner.output.concentrate_pb               19323 non-null  float64\n",
      " 16  primary_cleaner.output.concentrate_sol              19069 non-null  float64\n",
      " 17  primary_cleaner.output.concentrate_au               19439 non-null  float64\n",
      " 18  primary_cleaner.output.tail_ag                      19435 non-null  float64\n",
      " 19  primary_cleaner.output.tail_pb                      19418 non-null  float64\n",
      " 20  primary_cleaner.output.tail_sol                     19377 non-null  float64\n",
      " 21  primary_cleaner.output.tail_au                      19439 non-null  float64\n",
      " 22  primary_cleaner.state.floatbank8_a_air              19435 non-null  float64\n",
      " 23  primary_cleaner.state.floatbank8_a_level            19438 non-null  float64\n",
      " 24  primary_cleaner.state.floatbank8_b_air              19435 non-null  float64\n",
      " 25  primary_cleaner.state.floatbank8_b_level            19438 non-null  float64\n",
      " 26  primary_cleaner.state.floatbank8_c_air              19437 non-null  float64\n",
      " 27  primary_cleaner.state.floatbank8_c_level            19438 non-null  float64\n",
      " 28  primary_cleaner.state.floatbank8_d_air              19436 non-null  float64\n",
      " 29  primary_cleaner.state.floatbank8_d_level            19438 non-null  float64\n",
      " 30  rougher.calculation.sulfate_to_au_concentrate       19437 non-null  float64\n",
      " 31  rougher.calculation.floatbank10_sulfate_to_au_feed  19437 non-null  float64\n",
      " 32  rougher.calculation.floatbank11_sulfate_to_au_feed  19437 non-null  float64\n",
      " 33  rougher.calculation.au_pb_ratio                     19439 non-null  float64\n",
      " 34  rougher.input.feed_ag                               19439 non-null  float64\n",
      " 35  rougher.input.feed_pb                               19339 non-null  float64\n",
      " 36  rougher.input.feed_rate                             19428 non-null  float64\n",
      " 37  rougher.input.feed_size                             19294 non-null  float64\n",
      " 38  rougher.input.feed_sol                              19340 non-null  float64\n",
      " 39  rougher.input.feed_au                               19439 non-null  float64\n",
      " 40  rougher.input.floatbank10_sulfate                   19405 non-null  float64\n",
      " 41  rougher.input.floatbank10_xanthate                  19431 non-null  float64\n",
      " 42  rougher.input.floatbank11_sulfate                   19395 non-null  float64\n",
      " 43  rougher.input.floatbank11_xanthate                  18986 non-null  float64\n",
      " 44  rougher.output.concentrate_ag                       19439 non-null  float64\n",
      " 45  rougher.output.concentrate_pb                       19439 non-null  float64\n",
      " 46  rougher.output.concentrate_sol                      19416 non-null  float64\n",
      " 47  rougher.output.concentrate_au                       19439 non-null  float64\n",
      " 48  rougher.output.recovery                             19439 non-null  float64\n",
      " 49  rougher.output.tail_ag                              19438 non-null  float64\n",
      " 50  rougher.output.tail_pb                              19439 non-null  float64\n",
      " 51  rougher.output.tail_sol                             19439 non-null  float64\n",
      " 52  rougher.output.tail_au                              19439 non-null  float64\n",
      " 53  rougher.state.floatbank10_a_air                     19438 non-null  float64\n",
      " 54  rougher.state.floatbank10_a_level                   19438 non-null  float64\n",
      " 55  rougher.state.floatbank10_b_air                     19438 non-null  float64\n",
      " 56  rougher.state.floatbank10_b_level                   19438 non-null  float64\n",
      " 57  rougher.state.floatbank10_c_air                     19438 non-null  float64\n",
      " 58  rougher.state.floatbank10_c_level                   19438 non-null  float64\n",
      " 59  rougher.state.floatbank10_d_air                     19439 non-null  float64\n",
      " 60  rougher.state.floatbank10_d_level                   19439 non-null  float64\n",
      " 61  rougher.state.floatbank10_e_air                     19003 non-null  float64\n",
      " 62  rougher.state.floatbank10_e_level                   19439 non-null  float64\n",
      " 63  rougher.state.floatbank10_f_air                     19439 non-null  float64\n",
      " 64  rougher.state.floatbank10_f_level                   19439 non-null  float64\n",
      " 65  secondary_cleaner.output.tail_ag                    19437 non-null  float64\n",
      " 66  secondary_cleaner.output.tail_pb                    19427 non-null  float64\n",
      " 67  secondary_cleaner.output.tail_sol                   17691 non-null  float64\n",
      " 68  secondary_cleaner.output.tail_au                    19439 non-null  float64\n",
      " 69  secondary_cleaner.state.floatbank2_a_air            19219 non-null  float64\n",
      " 70  secondary_cleaner.state.floatbank2_a_level          19438 non-null  float64\n",
      " 71  secondary_cleaner.state.floatbank2_b_air            19416 non-null  float64\n",
      " 72  secondary_cleaner.state.floatbank2_b_level          19438 non-null  float64\n",
      " 73  secondary_cleaner.state.floatbank3_a_air            19426 non-null  float64\n",
      " 74  secondary_cleaner.state.floatbank3_a_level          19438 non-null  float64\n",
      " 75  secondary_cleaner.state.floatbank3_b_air            19438 non-null  float64\n",
      " 76  secondary_cleaner.state.floatbank3_b_level          19438 non-null  float64\n",
      " 77  secondary_cleaner.state.floatbank4_a_air            19433 non-null  float64\n",
      " 78  secondary_cleaner.state.floatbank4_a_level          19438 non-null  float64\n",
      " 79  secondary_cleaner.state.floatbank4_b_air            19438 non-null  float64\n",
      " 80  secondary_cleaner.state.floatbank4_b_level          19438 non-null  float64\n",
      " 81  secondary_cleaner.state.floatbank5_a_air            19438 non-null  float64\n",
      " 82  secondary_cleaner.state.floatbank5_a_level          19438 non-null  float64\n",
      " 83  secondary_cleaner.state.floatbank5_b_air            19438 non-null  float64\n",
      " 84  secondary_cleaner.state.floatbank5_b_level          19438 non-null  float64\n",
      " 85  secondary_cleaner.state.floatbank6_a_air            19437 non-null  float64\n",
      " 86  secondary_cleaner.state.floatbank6_a_level          19438 non-null  float64\n",
      "dtypes: float64(86), object(1)\n",
      "memory usage: 13.1+ MB\n"
     ]
    }
   ],
   "source": [
    "print(train.head())\n",
    "print(train.shape)\n",
    "train = train.drop_duplicates()\n",
    "print(train.shape)\n",
    "train.info()\n",
    "print()\n",
    "print(test.head())\n",
    "print(test.shape)\n",
    "test = test.drop_duplicates()\n",
    "print(test.shape)\n",
    "test.info()\n",
    "print()\n",
    "print(full.head())\n",
    "print(full.shape)\n",
    "full = full.drop_duplicates()\n",
    "print(full.shape)\n",
    "full.info()"
   ]
  },
  {
   "cell_type": "markdown",
   "metadata": {},
   "source": [
    "Добавляем к тестовому датасету недостающие таргеты. Используем функцию merge, чтобы по индексу даты добавить значения. "
   ]
  },
  {
   "cell_type": "code",
   "execution_count": 5,
   "metadata": {},
   "outputs": [
    {
     "name": "stdout",
     "output_type": "stream",
     "text": [
      "<class 'pandas.core.frame.DataFrame'>\n",
      "Int64Index: 19439 entries, 0 to 19438\n",
      "Data columns (total 3 columns):\n",
      " #   Column                   Non-Null Count  Dtype  \n",
      "---  ------                   --------------  -----  \n",
      " 0   date                     19439 non-null  object \n",
      " 1   rougher.output.recovery  19439 non-null  float64\n",
      " 2   final.output.recovery    19439 non-null  float64\n",
      "dtypes: float64(2), object(1)\n",
      "memory usage: 607.5+ KB\n",
      "None\n",
      "<class 'pandas.core.frame.DataFrame'>\n",
      "Int64Index: 5290 entries, 0 to 5289\n",
      "Data columns (total 55 columns):\n",
      " #   Column                                      Non-Null Count  Dtype  \n",
      "---  ------                                      --------------  -----  \n",
      " 0   date                                        5290 non-null   object \n",
      " 1   primary_cleaner.input.sulfate               5286 non-null   float64\n",
      " 2   primary_cleaner.input.depressant            5285 non-null   float64\n",
      " 3   primary_cleaner.input.feed_size             5290 non-null   float64\n",
      " 4   primary_cleaner.input.xanthate              5286 non-null   float64\n",
      " 5   primary_cleaner.state.floatbank8_a_air      5290 non-null   float64\n",
      " 6   primary_cleaner.state.floatbank8_a_level    5290 non-null   float64\n",
      " 7   primary_cleaner.state.floatbank8_b_air      5290 non-null   float64\n",
      " 8   primary_cleaner.state.floatbank8_b_level    5290 non-null   float64\n",
      " 9   primary_cleaner.state.floatbank8_c_air      5290 non-null   float64\n",
      " 10  primary_cleaner.state.floatbank8_c_level    5290 non-null   float64\n",
      " 11  primary_cleaner.state.floatbank8_d_air      5290 non-null   float64\n",
      " 12  primary_cleaner.state.floatbank8_d_level    5290 non-null   float64\n",
      " 13  rougher.input.feed_ag                       5290 non-null   float64\n",
      " 14  rougher.input.feed_pb                       5290 non-null   float64\n",
      " 15  rougher.input.feed_rate                     5287 non-null   float64\n",
      " 16  rougher.input.feed_size                     5289 non-null   float64\n",
      " 17  rougher.input.feed_sol                      5269 non-null   float64\n",
      " 18  rougher.input.feed_au                       5290 non-null   float64\n",
      " 19  rougher.input.floatbank10_sulfate           5285 non-null   float64\n",
      " 20  rougher.input.floatbank10_xanthate          5290 non-null   float64\n",
      " 21  rougher.input.floatbank11_sulfate           5282 non-null   float64\n",
      " 22  rougher.input.floatbank11_xanthate          5265 non-null   float64\n",
      " 23  rougher.state.floatbank10_a_air             5290 non-null   float64\n",
      " 24  rougher.state.floatbank10_a_level           5290 non-null   float64\n",
      " 25  rougher.state.floatbank10_b_air             5290 non-null   float64\n",
      " 26  rougher.state.floatbank10_b_level           5290 non-null   float64\n",
      " 27  rougher.state.floatbank10_c_air             5290 non-null   float64\n",
      " 28  rougher.state.floatbank10_c_level           5290 non-null   float64\n",
      " 29  rougher.state.floatbank10_d_air             5290 non-null   float64\n",
      " 30  rougher.state.floatbank10_d_level           5290 non-null   float64\n",
      " 31  rougher.state.floatbank10_e_air             5290 non-null   float64\n",
      " 32  rougher.state.floatbank10_e_level           5290 non-null   float64\n",
      " 33  rougher.state.floatbank10_f_air             5290 non-null   float64\n",
      " 34  rougher.state.floatbank10_f_level           5290 non-null   float64\n",
      " 35  secondary_cleaner.state.floatbank2_a_air    5287 non-null   float64\n",
      " 36  secondary_cleaner.state.floatbank2_a_level  5290 non-null   float64\n",
      " 37  secondary_cleaner.state.floatbank2_b_air    5288 non-null   float64\n",
      " 38  secondary_cleaner.state.floatbank2_b_level  5290 non-null   float64\n",
      " 39  secondary_cleaner.state.floatbank3_a_air    5281 non-null   float64\n",
      " 40  secondary_cleaner.state.floatbank3_a_level  5290 non-null   float64\n",
      " 41  secondary_cleaner.state.floatbank3_b_air    5290 non-null   float64\n",
      " 42  secondary_cleaner.state.floatbank3_b_level  5290 non-null   float64\n",
      " 43  secondary_cleaner.state.floatbank4_a_air    5290 non-null   float64\n",
      " 44  secondary_cleaner.state.floatbank4_a_level  5290 non-null   float64\n",
      " 45  secondary_cleaner.state.floatbank4_b_air    5290 non-null   float64\n",
      " 46  secondary_cleaner.state.floatbank4_b_level  5290 non-null   float64\n",
      " 47  secondary_cleaner.state.floatbank5_a_air    5290 non-null   float64\n",
      " 48  secondary_cleaner.state.floatbank5_a_level  5290 non-null   float64\n",
      " 49  secondary_cleaner.state.floatbank5_b_air    5290 non-null   float64\n",
      " 50  secondary_cleaner.state.floatbank5_b_level  5290 non-null   float64\n",
      " 51  secondary_cleaner.state.floatbank6_a_air    5290 non-null   float64\n",
      " 52  secondary_cleaner.state.floatbank6_a_level  5290 non-null   float64\n",
      " 53  rougher.output.recovery                     5290 non-null   float64\n",
      " 54  final.output.recovery                       5290 non-null   float64\n",
      "dtypes: float64(54), object(1)\n",
      "memory usage: 2.3+ MB\n",
      "None\n"
     ]
    }
   ],
   "source": [
    "full_merge = full[['date', 'rougher.output.recovery', 'final.output.recovery']]\n",
    "\n",
    "print(full_merge.info())\n",
    "\n",
    "test = pd.merge(test,\n",
    " full_merge,\n",
    " on ='date',\n",
    " how ='left')\n",
    "\n",
    "print(test.info())"
   ]
  },
  {
   "cell_type": "markdown",
   "metadata": {},
   "source": [
    "Проверяем эффективность обогащения"
   ]
  },
  {
   "cell_type": "markdown",
   "metadata": {},
   "source": [
    "Эффективность обогащения рассчитывается по формуле\n",
    "recovery = ((c*(f-t))/(f*(c-t)))*100%\n",
    "где:\n",
    "C — доля золота в концентрате после флотации/очистки;\n",
    "F — доля золота в сырье/концентрате до флотации/очистки;\n",
    "T — доля золота в отвальных хвостах после флотации/очистки."
   ]
  },
  {
   "cell_type": "markdown",
   "metadata": {},
   "source": [
    "Расчитаем эффективность обогощения - rougher.output.recovery"
   ]
  },
  {
   "cell_type": "code",
   "execution_count": 6,
   "metadata": {},
   "outputs": [],
   "source": [
    "\n",
    "f_o_r = train[\"rougher.output.recovery\"]\n",
    "c = train[\"rougher.output.concentrate_au\"]\n",
    "f = train[\"rougher.input.feed_au\"]\n",
    "t = train[\"rougher.output.tail_au\"]\n",
    "\n",
    "recovery = ((c*(f-t))/(f*(c-t)))*100"
   ]
  },
  {
   "cell_type": "code",
   "execution_count": 7,
   "metadata": {},
   "outputs": [
    {
     "name": "stdout",
     "output_type": "stream",
     "text": [
      "0        87.107763\n",
      "1        86.843261\n",
      "2        86.842308\n",
      "3        87.226430\n",
      "4        86.688794\n",
      "           ...    \n",
      "14144    89.574376\n",
      "14145    87.724007\n",
      "14146    88.890579\n",
      "14147    89.858126\n",
      "14148    89.514960\n",
      "Name: rougher.output.recovery, Length: 14149, dtype: float64\n",
      "0        87.107763\n",
      "1        86.843261\n",
      "2        86.842308\n",
      "3        87.226430\n",
      "4        86.688794\n",
      "           ...    \n",
      "14144    89.574376\n",
      "14145    87.724007\n",
      "14146    88.890579\n",
      "14147    89.858126\n",
      "14148    89.514960\n",
      "Length: 14149, dtype: float64\n",
      "9.73512347450521e-15\n",
      "\n"
     ]
    }
   ],
   "source": [
    "print(f_o_r)\n",
    "print(recovery)\n",
    "print(mean_absolute_error(f_o_r, recovery))\n",
    "print()"
   ]
  },
  {
   "cell_type": "markdown",
   "metadata": {},
   "source": [
    "Довольно большое расхождение в размере\n"
   ]
  },
  {
   "cell_type": "code",
   "execution_count": 8,
   "metadata": {},
   "outputs": [
    {
     "name": "stdout",
     "output_type": "stream",
     "text": [
      "(14149, 87)\n",
      "(5290, 55)\n",
      "\n",
      "Index(['date', 'final.output.concentrate_ag', 'final.output.concentrate_pb',\n",
      "       'final.output.concentrate_sol', 'final.output.concentrate_au',\n",
      "       'final.output.recovery', 'final.output.tail_ag', 'final.output.tail_pb',\n",
      "       'final.output.tail_sol', 'final.output.tail_au',\n",
      "       'primary_cleaner.input.sulfate', 'primary_cleaner.input.depressant',\n",
      "       'primary_cleaner.input.feed_size', 'primary_cleaner.input.xanthate',\n",
      "       'primary_cleaner.output.concentrate_ag',\n",
      "       'primary_cleaner.output.concentrate_pb',\n",
      "       'primary_cleaner.output.concentrate_sol',\n",
      "       'primary_cleaner.output.concentrate_au',\n",
      "       'primary_cleaner.output.tail_ag', 'primary_cleaner.output.tail_pb',\n",
      "       'primary_cleaner.output.tail_sol', 'primary_cleaner.output.tail_au',\n",
      "       'primary_cleaner.state.floatbank8_a_air',\n",
      "       'primary_cleaner.state.floatbank8_a_level',\n",
      "       'primary_cleaner.state.floatbank8_b_air',\n",
      "       'primary_cleaner.state.floatbank8_b_level',\n",
      "       'primary_cleaner.state.floatbank8_c_air',\n",
      "       'primary_cleaner.state.floatbank8_c_level',\n",
      "       'primary_cleaner.state.floatbank8_d_air',\n",
      "       'primary_cleaner.state.floatbank8_d_level',\n",
      "       'rougher.calculation.sulfate_to_au_concentrate',\n",
      "       'rougher.calculation.floatbank10_sulfate_to_au_feed',\n",
      "       'rougher.calculation.floatbank11_sulfate_to_au_feed',\n",
      "       'rougher.calculation.au_pb_ratio', 'rougher.input.feed_ag',\n",
      "       'rougher.input.feed_pb', 'rougher.input.feed_rate',\n",
      "       'rougher.input.feed_size', 'rougher.input.feed_sol',\n",
      "       'rougher.input.feed_au', 'rougher.input.floatbank10_sulfate',\n",
      "       'rougher.input.floatbank10_xanthate',\n",
      "       'rougher.input.floatbank11_sulfate',\n",
      "       'rougher.input.floatbank11_xanthate', 'rougher.output.concentrate_ag',\n",
      "       'rougher.output.concentrate_pb', 'rougher.output.concentrate_sol',\n",
      "       'rougher.output.concentrate_au', 'rougher.output.recovery',\n",
      "       'rougher.output.tail_ag', 'rougher.output.tail_pb',\n",
      "       'rougher.output.tail_sol', 'rougher.output.tail_au',\n",
      "       'rougher.state.floatbank10_a_air', 'rougher.state.floatbank10_a_level',\n",
      "       'rougher.state.floatbank10_b_air', 'rougher.state.floatbank10_b_level',\n",
      "       'rougher.state.floatbank10_c_air', 'rougher.state.floatbank10_c_level',\n",
      "       'rougher.state.floatbank10_d_air', 'rougher.state.floatbank10_d_level',\n",
      "       'rougher.state.floatbank10_e_air', 'rougher.state.floatbank10_e_level',\n",
      "       'rougher.state.floatbank10_f_air', 'rougher.state.floatbank10_f_level',\n",
      "       'secondary_cleaner.output.tail_ag', 'secondary_cleaner.output.tail_pb',\n",
      "       'secondary_cleaner.output.tail_sol', 'secondary_cleaner.output.tail_au',\n",
      "       'secondary_cleaner.state.floatbank2_a_air',\n",
      "       'secondary_cleaner.state.floatbank2_a_level',\n",
      "       'secondary_cleaner.state.floatbank2_b_air',\n",
      "       'secondary_cleaner.state.floatbank2_b_level',\n",
      "       'secondary_cleaner.state.floatbank3_a_air',\n",
      "       'secondary_cleaner.state.floatbank3_a_level',\n",
      "       'secondary_cleaner.state.floatbank3_b_air',\n",
      "       'secondary_cleaner.state.floatbank3_b_level',\n",
      "       'secondary_cleaner.state.floatbank4_a_air',\n",
      "       'secondary_cleaner.state.floatbank4_a_level',\n",
      "       'secondary_cleaner.state.floatbank4_b_air',\n",
      "       'secondary_cleaner.state.floatbank4_b_level',\n",
      "       'secondary_cleaner.state.floatbank5_a_air',\n",
      "       'secondary_cleaner.state.floatbank5_a_level',\n",
      "       'secondary_cleaner.state.floatbank5_b_air',\n",
      "       'secondary_cleaner.state.floatbank5_b_level',\n",
      "       'secondary_cleaner.state.floatbank6_a_air',\n",
      "       'secondary_cleaner.state.floatbank6_a_level'],\n",
      "      dtype='object')\n",
      "\n",
      "Index(['date', 'primary_cleaner.input.sulfate',\n",
      "       'primary_cleaner.input.depressant', 'primary_cleaner.input.feed_size',\n",
      "       'primary_cleaner.input.xanthate',\n",
      "       'primary_cleaner.state.floatbank8_a_air',\n",
      "       'primary_cleaner.state.floatbank8_a_level',\n",
      "       'primary_cleaner.state.floatbank8_b_air',\n",
      "       'primary_cleaner.state.floatbank8_b_level',\n",
      "       'primary_cleaner.state.floatbank8_c_air',\n",
      "       'primary_cleaner.state.floatbank8_c_level',\n",
      "       'primary_cleaner.state.floatbank8_d_air',\n",
      "       'primary_cleaner.state.floatbank8_d_level', 'rougher.input.feed_ag',\n",
      "       'rougher.input.feed_pb', 'rougher.input.feed_rate',\n",
      "       'rougher.input.feed_size', 'rougher.input.feed_sol',\n",
      "       'rougher.input.feed_au', 'rougher.input.floatbank10_sulfate',\n",
      "       'rougher.input.floatbank10_xanthate',\n",
      "       'rougher.input.floatbank11_sulfate',\n",
      "       'rougher.input.floatbank11_xanthate', 'rougher.state.floatbank10_a_air',\n",
      "       'rougher.state.floatbank10_a_level', 'rougher.state.floatbank10_b_air',\n",
      "       'rougher.state.floatbank10_b_level', 'rougher.state.floatbank10_c_air',\n",
      "       'rougher.state.floatbank10_c_level', 'rougher.state.floatbank10_d_air',\n",
      "       'rougher.state.floatbank10_d_level', 'rougher.state.floatbank10_e_air',\n",
      "       'rougher.state.floatbank10_e_level', 'rougher.state.floatbank10_f_air',\n",
      "       'rougher.state.floatbank10_f_level',\n",
      "       'secondary_cleaner.state.floatbank2_a_air',\n",
      "       'secondary_cleaner.state.floatbank2_a_level',\n",
      "       'secondary_cleaner.state.floatbank2_b_air',\n",
      "       'secondary_cleaner.state.floatbank2_b_level',\n",
      "       'secondary_cleaner.state.floatbank3_a_air',\n",
      "       'secondary_cleaner.state.floatbank3_a_level',\n",
      "       'secondary_cleaner.state.floatbank3_b_air',\n",
      "       'secondary_cleaner.state.floatbank3_b_level',\n",
      "       'secondary_cleaner.state.floatbank4_a_air',\n",
      "       'secondary_cleaner.state.floatbank4_a_level',\n",
      "       'secondary_cleaner.state.floatbank4_b_air',\n",
      "       'secondary_cleaner.state.floatbank4_b_level',\n",
      "       'secondary_cleaner.state.floatbank5_a_air',\n",
      "       'secondary_cleaner.state.floatbank5_a_level',\n",
      "       'secondary_cleaner.state.floatbank5_b_air',\n",
      "       'secondary_cleaner.state.floatbank5_b_level',\n",
      "       'secondary_cleaner.state.floatbank6_a_air',\n",
      "       'secondary_cleaner.state.floatbank6_a_level', 'rougher.output.recovery',\n",
      "       'final.output.recovery'],\n",
      "      dtype='object')\n"
     ]
    }
   ],
   "source": [
    "print(train.shape)\n",
    "print(test.shape)\n",
    "print()\n",
    "print(train.columns)\n",
    "print()\n",
    "print(test.columns)\n"
   ]
  },
  {
   "cell_type": "markdown",
   "metadata": {},
   "source": [
    "В тестовой выборке нет финальных признаков. \n",
    "final.output.concentrate_ag'\n",
    "final.output.concentrate_sol'\n",
    "final.output.recovery'\n",
    "final.output.tail_sol'\n",
    "final.output.concentrate_pb'\n",
    "final.output.concentrate_au'\n",
    "final.output.tail_ag'\n",
    "final.output.tail_au'\n",
    "\n",
    "В первом этапе очистки нет параметров продуктов, а также параметра сырья сульфата\n",
    "primary_cleaner.input.sulfate'\n",
    "primary_cleaner.output.concentrate_ag'\n",
    "primary_cleaner.output.concentrate_pb'\n",
    "primary_cleaner.output.concentrate_sol'\n",
    "primary_cleaner.output.concentrate_au'\n",
    "primary_cleaner.output.tail_ag'\n",
    "primary_cleaner.output.tail_sol'\n",
    "primary_cleaner.output.tail_pb'\n",
    "primary_cleaner.output.tail_au'\n",
    "\n",
    "На втором этапе очистки нет параметров подукта - остатков хвостов\n",
    "secondary_cleaner.output.tail_ag'\n",
    "secondary_cleaner.output.tail_sol'\n",
    "secondary_cleaner.output.tail_pb'\n",
    "secondary_cleaner.output.tail_au'\n",
    "\n",
    "Из этапа до обрабокти нет расчетных характеристик, а также некоторых параметров продуктов.\n",
    "rougher.calculation.sulfate_to_au_concentrate'\n",
    "rougher.calculation.floatbank10_sulfate_to_au_feed'\n",
    "rougher.calculation.floatbank11_sulfate_to_au_feed'\n",
    "rougher.calculation.au_pb_ratio'\n",
    "rougher.output.concentrate_pb'\n",
    "rougher.output.concentrate_au'\n",
    "rougher.output.tail_ag'\n",
    "rougher.output.tail_sol'\n",
    "rougher.output.concentrate_ag'\n",
    "rougher.output.concentrate_sol'\n",
    "rougher.output.recovery'\n",
    "rougher.output.tail_pb'\n",
    "rougher.output.tail_au'\n",
    "\n",
    "\n",
    "\n",
    "\n",
    "\n"
   ]
  },
  {
   "cell_type": "markdown",
   "metadata": {},
   "source": [
    "## Анализ данных"
   ]
  },
  {
   "cell_type": "markdown",
   "metadata": {},
   "source": [
    "Проверяем как менялось  концентрация металлов (Au, Ag, Pb) на различных этапах очистки"
   ]
  },
  {
   "cell_type": "code",
   "execution_count": 9,
   "metadata": {},
   "outputs": [
    {
     "name": "stdout",
     "output_type": "stream",
     "text": [
      "   rougher.input.feed_au  rougher.output.concentrate_au  \\\n",
      "0               6.486150                      19.793808   \n",
      "1               6.478583                      20.050975   \n",
      "2               6.362222                      19.737170   \n",
      "3               6.118189                      19.320810   \n",
      "4               5.663707                      19.216101   \n",
      "\n",
      "   primary_cleaner.output.concentrate_au  final.output.concentrate_au  \n",
      "0                              34.174427                    42.192020  \n",
      "1                              34.118526                    42.701629  \n",
      "2                              33.969464                    42.657501  \n",
      "3                              28.260743                    42.689819  \n",
      "4                              33.044932                    42.774141  \n",
      "rougher.input.feed_au                     7.866577\n",
      "rougher.output.concentrate_au            19.439958\n",
      "primary_cleaner.output.concentrate_au    32.386836\n",
      "final.output.concentrate_au              44.003792\n",
      "dtype: float64\n",
      "36.1372147791363\n"
     ]
    },
    {
     "data": {
      "image/png": "[encoded data removed]",
      "text/plain": [
       "<Figure size 792x432 with 1 Axes>"
      ]
     },
     "metadata": {
      "needs_background": "light"
     },
     "output_type": "display_data"
    }
   ],
   "source": [
    "train_au = train[['rougher.input.feed_au', 'rougher.output.concentrate_au', 'primary_cleaner.output.concentrate_au', 'final.output.concentrate_au']]\n",
    "print(train_au.head())\n",
    "print(train_au.mean())\n",
    "print(train_au['final.output.concentrate_au'].mean() - train_au['rougher.input.feed_au'].mean())\n",
    "train['rougher.input.feed_au'].plot.hist(subplots=True, figsize=(11, 6), bins = 20, color = 'pink');\n",
    "train['rougher.output.concentrate_au'].plot.hist(subplots=True, figsize=(11, 6), bins = 20, color = 'yellow');\n",
    "train['primary_cleaner.output.concentrate_au'].plot.hist(subplots=True, figsize=(11, 6), bins = 20, color = 'black');\n",
    "train['final.output.concentrate_au'].plot.hist(subplots=True, figsize=(11, 6), bins = 20, color = 'green');\n",
    "\n",
    "\n"
   ]
  },
  {
   "cell_type": "markdown",
   "metadata": {},
   "source": [
    "Как видно концентрация постоянно растет"
   ]
  },
  {
   "cell_type": "code",
   "execution_count": 10,
   "metadata": {
    "scrolled": false
   },
   "outputs": [
    {
     "name": "stdout",
     "output_type": "stream",
     "text": [
      "   rougher.input.feed_ag  rougher.output.concentrate_ag  \\\n",
      "0               6.100378                      11.500771   \n",
      "1               6.161113                      11.615865   \n",
      "2               6.116455                      11.695753   \n",
      "3               6.043309                      11.915047   \n",
      "4               6.060915                      12.411054   \n",
      "\n",
      "   primary_cleaner.output.concentrate_ag  final.output.concentrate_ag  \n",
      "0                               8.547551                     6.055403  \n",
      "1                               8.558743                     6.029369  \n",
      "2                               8.603505                     6.055926  \n",
      "3                               7.221879                     6.047977  \n",
      "4                               9.089428                     6.148599  \n",
      "rougher.input.feed_ag                     8.579195\n",
      "rougher.output.concentrate_ag            11.775812\n",
      "primary_cleaner.output.concentrate_ag     8.200916\n",
      "final.output.concentrate_ag               5.142034\n",
      "dtype: float64\n",
      "-3.437161550292841\n"
     ]
    },
    {
     "data": {
      "image/png": "[encoded data removed]",
      "text/plain": [
       "<Figure size 792x432 with 1 Axes>"
      ]
     },
     "metadata": {
      "needs_background": "light"
     },
     "output_type": "display_data"
    }
   ],
   "source": [
    "train_ag = train[['rougher.input.feed_ag', 'rougher.output.concentrate_ag', 'primary_cleaner.output.concentrate_ag', 'final.output.concentrate_ag']]\n",
    "print(train_ag.head())\n",
    "print(train_ag.mean())\n",
    "print(train_ag['final.output.concentrate_ag'].mean() - train_ag['rougher.input.feed_ag'].mean())\n",
    "train['rougher.input.feed_ag'].plot.hist(subplots=True, figsize=(11, 6), bins = 20, color = 'pink');\n",
    "train['rougher.output.concentrate_ag'].plot.hist(subplots=True, figsize=(11, 6), bins = 20, color = 'yellow');\n",
    "train['primary_cleaner.output.concentrate_ag'].plot.hist(subplots=True, figsize=(11, 6), bins = 20, color = 'black');\n",
    "train['final.output.concentrate_ag'].plot.hist(subplots=True, figsize=(11, 6), bins = 20, color = 'green');\n",
    "\n"
   ]
  },
  {
   "cell_type": "markdown",
   "metadata": {},
   "source": [
    "В данном материале концентрация растет на первичной обработке, но далее уменьшается"
   ]
  },
  {
   "cell_type": "code",
   "execution_count": 11,
   "metadata": {
    "scrolled": false
   },
   "outputs": [
    {
     "name": "stdout",
     "output_type": "stream",
     "text": [
      "   rougher.input.feed_pb  rougher.output.concentrate_pb  \\\n",
      "0               2.284912                       7.101074   \n",
      "1               2.266033                       7.278807   \n",
      "2               2.159622                       7.216833   \n",
      "3               2.037807                       7.175616   \n",
      "4               1.786875                       7.240205   \n",
      "\n",
      "   primary_cleaner.output.concentrate_pb  final.output.concentrate_pb  \n",
      "0                              10.389648                     9.889648  \n",
      "1                              10.497069                     9.968944  \n",
      "2                              10.354494                    10.213995  \n",
      "3                               8.496563                     9.977019  \n",
      "4                               9.986786                    10.142511  \n",
      "rougher.input.feed_pb                     3.522778\n",
      "rougher.output.concentrate_pb             7.664555\n",
      "primary_cleaner.output.concentrate_pb     9.588862\n",
      "final.output.concentrate_pb              10.132960\n",
      "dtype: float64\n",
      "6.610181564121777\n"
     ]
    },
    {
     "data": {
      "image/png": "[encoded data removed]",
      "text/plain": [
       "<Figure size 792x432 with 1 Axes>"
      ]
     },
     "metadata": {
      "needs_background": "light"
     },
     "output_type": "display_data"
    }
   ],
   "source": [
    "train_pb = train[['rougher.input.feed_pb', 'rougher.output.concentrate_pb', 'primary_cleaner.output.concentrate_pb', 'final.output.concentrate_pb']]\n",
    "print(train_pb.head())\n",
    "print(train_pb.mean())\n",
    "print(train_pb['final.output.concentrate_pb'].mean() - train_pb['rougher.input.feed_pb'].mean())\n",
    "train['rougher.input.feed_pb'].plot.hist(subplots=True, figsize=(11, 6), bins = 20, color = 'pink');\n",
    "train['rougher.output.concentrate_pb'].plot.hist(subplots=True, figsize=(11, 6), bins = 20, color = 'yellow');\n",
    "train['primary_cleaner.output.concentrate_pb'].plot.hist(subplots=True, figsize=(11, 6), bins = 20, color = 'black');\n",
    "train['final.output.concentrate_pb'].plot.hist(subplots=True, figsize=(11, 6), bins = 20, color = 'green');\n",
    "\n",
    "\n"
   ]
  },
  {
   "cell_type": "markdown",
   "metadata": {},
   "source": [
    "Как видно концентрация постоянно растет"
   ]
  },
  {
   "cell_type": "markdown",
   "metadata": {},
   "source": [
    "Сравнение распределения размеров гранул сырья на обучающей и тестовой выборках. "
   ]
  },
  {
   "cell_type": "code",
   "execution_count": 12,
   "metadata": {
    "scrolled": false
   },
   "outputs": [
    {
     "name": "stdout",
     "output_type": "stream",
     "text": [
      "\n"
     ]
    },
    {
     "data": {
      "image/png": "[encoded data removed]",
      "text/plain": [
       "<Figure size 432x288 with 1 Axes>"
      ]
     },
     "metadata": {
      "needs_background": "light"
     },
     "output_type": "display_data"
    }
   ],
   "source": [
    "train_feed = train['rougher.input.feed_size']\n",
    "test_feed = test['rougher.input.feed_size']\n",
    "\n",
    "train_feed.plot.hist(alpha=0.8, density=True, bins = 50 );\n",
    "test_feed.plot.hist(alpha=0.6, density=True, bins = 50);\n",
    "\n",
    "print()\n",
    "\n"
   ]
  },
  {
   "cell_type": "markdown",
   "metadata": {},
   "source": [
    "Тренировочная и тестовая выборки отличаются, но также имеют разный размер. Возьмем рандомно количетсво строчек из тренировочного датасета равное тестовому и посмотрим распределение."
   ]
  },
  {
   "cell_type": "code",
   "execution_count": 13,
   "metadata": {
    "scrolled": false
   },
   "outputs": [
    {
     "name": "stdout",
     "output_type": "stream",
     "text": [
      "(14149,)\n",
      "(5290,)\n",
      "\n",
      "0    77.216490\n",
      "1    65.873226\n",
      "2    52.874070\n",
      "3    71.352716\n",
      "4    62.119436\n",
      "Name: rougher.input.feed_size, dtype: float64\n",
      "(5290,)\n",
      "\n"
     ]
    },
    {
     "data": {
      "image/png": "[encoded data removed]",
      "text/plain": [
       "<Figure size 432x288 with 1 Axes>"
      ]
     },
     "metadata": {
      "needs_background": "light"
     },
     "output_type": "display_data"
    }
   ],
   "source": [
    "print(train_feed.shape)\n",
    "print(test_feed.shape)\n",
    "print()\n",
    "train_feed = train_feed.sample(n=5290).reset_index(drop=True)\n",
    "print(train_feed.head())\n",
    "print(train_feed.shape)\n",
    "print()\n",
    "train_feed.plot();\n",
    "test_feed.plot();\n",
    "\n",
    "\n"
   ]
  },
  {
   "cell_type": "markdown",
   "metadata": {},
   "source": [
    "Как видно на данном графике размер сырья в целом идентичен."
   ]
  },
  {
   "cell_type": "markdown",
   "metadata": {},
   "source": [
    "Исследование суммарной концентрации всех веществ на разных стадиях: в сырье, в черновом и финальном концентратах."
   ]
  },
  {
   "cell_type": "code",
   "execution_count": 14,
   "metadata": {},
   "outputs": [
    {
     "name": "stdout",
     "output_type": "stream",
     "text": [
      "count    14149.000000\n",
      "mean        19.943652\n",
      "std          4.450475\n",
      "min          0.030000\n",
      "25%         16.850944\n",
      "50%         19.179708\n",
      "75%         22.571605\n",
      "max         32.840164\n",
      "dtype: float64\n",
      "\n",
      "282182.73809811356\n"
     ]
    },
    {
     "data": {
      "image/png": "[encoded data removed]",
      "text/plain": [
       "<Figure size 432x288 with 1 Axes>"
      ]
     },
     "metadata": {
      "needs_background": "light"
     },
     "output_type": "display_data"
    }
   ],
   "source": [
    "train_rougher_input_feed = train[['rougher.input.feed_pb', 'rougher.input.feed_au','rougher.input.feed_ag']].sum(axis=1)\n",
    "print(train_rougher_input_feed.describe())\n",
    "print()\n",
    "print(train_rougher_input_feed.sum())\n",
    "train_rougher_input_feed.plot.hist(alpha=0.8, density=True);\n"
   ]
  },
  {
   "cell_type": "markdown",
   "metadata": {},
   "source": [
    "Видно, что в каждом кусочке есть один из отслеживаемых компонентов. Также медиана и среднее примерно совпадают, что значит в сырье нет сильных перекосов в зависимости от гранулы"
   ]
  },
  {
   "cell_type": "code",
   "execution_count": 15,
   "metadata": {
    "scrolled": true
   },
   "outputs": [
    {
     "name": "stdout",
     "output_type": "stream",
     "text": [
      "count    14149.000000\n",
      "mean        38.880325\n",
      "std          6.927062\n",
      "min          0.000000\n",
      "25%         37.925621\n",
      "50%         39.860389\n",
      "75%         41.796805\n",
      "max         55.568687\n",
      "dtype: float64\n",
      "\n",
      "550117.7172545104\n"
     ]
    },
    {
     "data": {
      "image/png": "[encoded data removed]",
      "text/plain": [
       "<Figure size 432x288 with 1 Axes>"
      ]
     },
     "metadata": {
      "needs_background": "light"
     },
     "output_type": "display_data"
    }
   ],
   "source": [
    "train_output_concentrate = train[['rougher.output.concentrate_pb', 'rougher.output.concentrate_au','rougher.output.concentrate_ag']].sum(axis=1)\n",
    "print(train_output_concentrate.describe())\n",
    "print()\n",
    "print(train_output_concentrate.sum())\n",
    "train_output_concentrate.plot.hist(alpha=0.8, density=True);\n",
    "\n"
   ]
  },
  {
   "cell_type": "markdown",
   "metadata": {},
   "source": [
    "В этом и след шагах видно, что существуют кусочки, которые теряют необходимые компоненты при очистке, однако сумарная доля в целом растет."
   ]
  },
  {
   "cell_type": "code",
   "execution_count": 16,
   "metadata": {},
   "outputs": [
    {
     "name": "stdout",
     "output_type": "stream",
     "text": [
      "count    14149.000000\n",
      "mean        50.118331\n",
      "std          7.995327\n",
      "min          0.000000\n",
      "25%         49.613974\n",
      "50%         51.790269\n",
      "75%         53.438138\n",
      "max         60.269003\n",
      "dtype: float64\n",
      "\n",
      "709124.2659857341\n"
     ]
    },
    {
     "data": {
      "image/png": "[encoded data removed]",
      "text/plain": [
       "<Figure size 432x288 with 1 Axes>"
      ]
     },
     "metadata": {
      "needs_background": "light"
     },
     "output_type": "display_data"
    }
   ],
   "source": [
    "train_primary_cleaner_output_concentrate = train[['primary_cleaner.output.concentrate_pb', 'primary_cleaner.output.concentrate_au','primary_cleaner.output.concentrate_ag'  ]].sum(axis=1)\n",
    "print(train_primary_cleaner_output_concentrate.describe())\n",
    "print()\n",
    "print(train_primary_cleaner_output_concentrate.sum())\n",
    "train_primary_cleaner_output_concentrate.plot.hist(alpha=0.8, density=True);\n"
   ]
  },
  {
   "cell_type": "code",
   "execution_count": 17,
   "metadata": {},
   "outputs": [
    {
     "name": "stdout",
     "output_type": "stream",
     "text": [
      "count    14149.000000\n",
      "mean        59.277705\n",
      "std          5.711334\n",
      "min          0.000000\n",
      "25%         59.201505\n",
      "50%         60.260341\n",
      "75%         61.054829\n",
      "max         64.968881\n",
      "dtype: float64\n",
      "\n",
      "838720.2530004559\n"
     ]
    },
    {
     "data": {
      "image/png": "[encoded data removed]",
      "text/plain": [
       "<Figure size 432x288 with 1 Axes>"
      ]
     },
     "metadata": {
      "needs_background": "light"
     },
     "output_type": "display_data"
    }
   ],
   "source": [
    "train_final_output_concentrate = train[['final.output.concentrate_pb', 'final.output.concentrate_au','final.output.concentrate_ag' ]].sum(axis=1)\n",
    "print(train_final_output_concentrate.describe())\n",
    "print()\n",
    "print(train_final_output_concentrate.sum())\n",
    "train_final_output_concentrate.plot.hist(alpha=0.8, density=True);\n",
    "\n",
    "\n",
    "\n"
   ]
  },
  {
   "cell_type": "code",
   "execution_count": 18,
   "metadata": {
    "scrolled": true
   },
   "outputs": [
    {
     "name": "stdout",
     "output_type": "stream",
     "text": [
      "39.33405292970121\n"
     ]
    }
   ],
   "source": [
    "print(train_final_output_concentrate.mean() - train_rougher_input_feed.mean())"
   ]
  },
  {
   "cell_type": "markdown",
   "metadata": {},
   "source": [
    "В среднем рост после очистки, в сравнении с исходым материалом значительно вырос."
   ]
  },
  {
   "cell_type": "markdown",
   "metadata": {},
   "source": [
    "Удалим из выборок значения с около 0й концентраицей.\n"
   ]
  },
  {
   "cell_type": "code",
   "execution_count": 19,
   "metadata": {},
   "outputs": [
    {
     "name": "stdout",
     "output_type": "stream",
     "text": [
      "count    13725.000000\n",
      "mean        59.523187\n",
      "std          4.158036\n",
      "min          0.030000\n",
      "25%         59.203123\n",
      "50%         60.247172\n",
      "75%         61.040789\n",
      "max         64.968881\n",
      "dtype: float64\n",
      "\n",
      "816955.7391635408\n"
     ]
    },
    {
     "data": {
      "image/png": "[encoded data removed]",
      "text/plain": [
       "<Figure size 432x288 with 1 Axes>"
      ]
     },
     "metadata": {
      "needs_background": "light"
     },
     "output_type": "display_data"
    }
   ],
   "source": [
    "train = train.loc[train['rougher.input.feed_pb'] != 0]\n",
    "train = train.loc[train['rougher.input.feed_au'] != 0]\n",
    "train = train.loc[train['rougher.input.feed_ag'] != 0]\n",
    "train = train.loc[train['rougher.input.feed_sol'] != 0]\n",
    "train = train.loc[train['rougher.output.concentrate_pb'] != 0]\n",
    "train = train.loc[train['rougher.output.concentrate_au'] != 0]\n",
    "train = train.loc[train['rougher.output.concentrate_ag'] != 0]\n",
    "train = train.loc[train['rougher.output.concentrate_sol'] != 0]\n",
    "train = train.loc[train['primary_cleaner.output.concentrate_pb'] != 0]\n",
    "train = train.loc[train['primary_cleaner.output.concentrate_au']  != 0]\n",
    "train = train.loc[train['primary_cleaner.output.concentrate_ag'] != 0]\n",
    "train = train.loc[train['primary_cleaner.output.concentrate_sol'] != 0]\n",
    "train = train.loc[train['final.output.concentrate_pb'] != 0]\n",
    "train = train.loc[train['final.output.concentrate_au']  != 0]\n",
    "train = train.loc[train['final.output.concentrate_ag']  != 0]\n",
    "train = train.loc[train['final.output.concentrate_sol'] != 0]\n",
    "train_final_output_concentrate = train[['final.output.concentrate_pb', 'final.output.concentrate_au','final.output.concentrate_ag' ]].sum(axis=1)\n",
    "print(train_final_output_concentrate.describe())\n",
    "print()\n",
    "print(train_final_output_concentrate.sum())\n",
    "train_final_output_concentrate.plot.hist(alpha=0.8, density=True);"
   ]
  },
  {
   "cell_type": "markdown",
   "metadata": {},
   "source": [
    "## Модель"
   ]
  },
  {
   "cell_type": "markdown",
   "metadata": {},
   "source": [
    "Составим меры для нашей модели"
   ]
  },
  {
   "cell_type": "code",
   "execution_count": 20,
   "metadata": {},
   "outputs": [
    {
     "name": "stdout",
     "output_type": "stream",
     "text": [
      "date                                            0\n",
      "final.output.concentrate_ag                     1\n",
      "final.output.concentrate_pb                     1\n",
      "final.output.concentrate_sol                  207\n",
      "final.output.concentrate_au                     0\n",
      "                                             ... \n",
      "secondary_cleaner.state.floatbank5_a_level      1\n",
      "secondary_cleaner.state.floatbank5_b_air        1\n",
      "secondary_cleaner.state.floatbank5_b_level      1\n",
      "secondary_cleaner.state.floatbank6_a_air        1\n",
      "secondary_cleaner.state.floatbank6_a_level      1\n",
      "Length: 87, dtype: int64\n"
     ]
    }
   ],
   "source": [
    "print(train.isna().sum())\n"
   ]
  },
  {
   "cell_type": "code",
   "execution_count": 21,
   "metadata": {},
   "outputs": [
    {
     "name": "stdout",
     "output_type": "stream",
     "text": [
      "date                                          0\n",
      "final.output.concentrate_ag                   0\n",
      "final.output.concentrate_pb                   0\n",
      "final.output.concentrate_sol                  0\n",
      "final.output.concentrate_au                   0\n",
      "                                             ..\n",
      "secondary_cleaner.state.floatbank5_a_level    0\n",
      "secondary_cleaner.state.floatbank5_b_air      0\n",
      "secondary_cleaner.state.floatbank5_b_level    0\n",
      "secondary_cleaner.state.floatbank6_a_air      0\n",
      "secondary_cleaner.state.floatbank6_a_level    0\n",
      "Length: 87, dtype: int64\n"
     ]
    }
   ],
   "source": [
    "train = train.fillna(method='ffill')\n",
    "print(train.isna().sum())"
   ]
  },
  {
   "cell_type": "markdown",
   "metadata": {},
   "source": [
    "Заполнил 0е значения"
   ]
  },
  {
   "cell_type": "code",
   "execution_count": 22,
   "metadata": {},
   "outputs": [],
   "source": [
    "train_model = train.drop(['date'], axis=1)\n",
    "train_model = train_model.dropna()\n",
    "test_model = test.drop(['date'], axis=1)\n",
    "test_model = test_model.dropna()"
   ]
  },
  {
   "cell_type": "code",
   "execution_count": 23,
   "metadata": {},
   "outputs": [],
   "source": [
    "train_model = train_model.drop(['final.output.concentrate_ag',\n",
    "'final.output.concentrate_sol',\n",
    "'final.output.tail_sol',\n",
    "'final.output.concentrate_pb',\n",
    "'final.output.concentrate_au',\n",
    "'final.output.tail_ag',\n",
    "'final.output.tail_au',\n",
    "'primary_cleaner.input.sulfate',\n",
    "'primary_cleaner.output.concentrate_ag',\n",
    "'primary_cleaner.output.concentrate_pb',\n",
    "'primary_cleaner.output.concentrate_sol',\n",
    "'primary_cleaner.output.concentrate_au',\n",
    "'primary_cleaner.output.tail_ag',\n",
    "'primary_cleaner.output.tail_sol',\n",
    "'primary_cleaner.output.tail_pb',\n",
    "'primary_cleaner.output.tail_au',\n",
    "'secondary_cleaner.output.tail_ag',\n",
    "'secondary_cleaner.output.tail_sol',\n",
    "'secondary_cleaner.output.tail_pb',\n",
    "'secondary_cleaner.output.tail_au',\n",
    "'rougher.calculation.sulfate_to_au_concentrate',\n",
    "'rougher.calculation.floatbank10_sulfate_to_au_feed',\n",
    "'rougher.calculation.floatbank11_sulfate_to_au_feed',\n",
    "'rougher.calculation.au_pb_ratio',\n",
    "'rougher.output.concentrate_pb',\n",
    "'rougher.output.concentrate_au',\n",
    "'rougher.output.tail_ag',\n",
    "'rougher.output.tail_sol',\n",
    "'rougher.output.concentrate_ag',\n",
    "'rougher.output.concentrate_sol',\n",
    "'rougher.output.tail_pb',\n",
    "'rougher.output.tail_au',\n",
    "], axis=1)"
   ]
  },
  {
   "cell_type": "markdown",
   "metadata": {},
   "source": [
    "Создадим функцию"
   ]
  },
  {
   "cell_type": "code",
   "execution_count": 24,
   "metadata": {
    "scrolled": true
   },
   "outputs": [],
   "source": [
    "def smape(x, y):\n",
    "    x = np.array(x)\n",
    "    y = np.array(y)\n",
    "\n",
    "    smape = (1/len(x))*sum((abs(x-y)/((abs(x)+abs(y))/2)))*100\n",
    "    return smape"
   ]
  },
  {
   "cell_type": "code",
   "execution_count": 25,
   "metadata": {},
   "outputs": [],
   "source": [
    "features = train_model.drop(['final.output.recovery','rougher.output.recovery'], axis = 1)\n",
    "target_final = train_model['final.output.recovery']\n",
    "target_rougher = train_model['rougher.output.recovery']"
   ]
  },
  {
   "cell_type": "markdown",
   "metadata": {},
   "source": [
    "Проверим модели"
   ]
  },
  {
   "cell_type": "code",
   "execution_count": 26,
   "metadata": {},
   "outputs": [],
   "source": [
    "linearregression = LinearRegression()"
   ]
  },
  {
   "cell_type": "code",
   "execution_count": 27,
   "metadata": {},
   "outputs": [
    {
     "name": "stdout",
     "output_type": "stream",
     "text": [
      "-11.377251205036368\n",
      "-7.3075014086330725\n"
     ]
    }
   ],
   "source": [
    "linearregression_fin = cross_val_score(linearregression, features, target_final,\n",
    "                                  scoring=make_scorer(smape, greater_is_better = False), cv=5) \n",
    "print(linearregression_fin.mean())\n",
    "\n",
    "linearregression_rou = cross_val_score(linearregression, features, target_rougher,\n",
    "                                  scoring=make_scorer(smape, greater_is_better = False), cv=5) \n",
    "print(linearregression_rou.mean())"
   ]
  },
  {
   "cell_type": "code",
   "execution_count": 28,
   "metadata": {},
   "outputs": [
    {
     "name": "stdout",
     "output_type": "stream",
     "text": [
      "Fitting 2 folds for each of 72 candidates, totalling 144 fits\n",
      "[CV] END bootstrap=True, max_depth=20, max_features=2, min_samples_leaf=3, min_samples_split=2, n_estimators=20; total time=   0.3s\n",
      "[CV] END bootstrap=True, max_depth=20, max_features=2, min_samples_leaf=3, min_samples_split=2, n_estimators=20; total time=   0.3s\n",
      "[CV] END bootstrap=True, max_depth=20, max_features=2, min_samples_leaf=3, min_samples_split=2, n_estimators=40; total time=   0.6s\n",
      "[CV] END bootstrap=True, max_depth=20, max_features=2, min_samples_leaf=3, min_samples_split=2, n_estimators=40; total time=   0.5s\n",
      "[CV] END bootstrap=True, max_depth=20, max_features=2, min_samples_leaf=3, min_samples_split=2, n_estimators=60; total time=   0.8s\n",
      "[CV] END bootstrap=True, max_depth=20, max_features=2, min_samples_leaf=3, min_samples_split=2, n_estimators=60; total time=   0.7s\n",
      "[CV] END bootstrap=True, max_depth=20, max_features=2, min_samples_leaf=3, min_samples_split=2, n_estimators=80; total time=   1.0s\n",
      "[CV] END bootstrap=True, max_depth=20, max_features=2, min_samples_leaf=3, min_samples_split=2, n_estimators=80; total time=   1.0s\n",
      "[CV] END bootstrap=True, max_depth=20, max_features=2, min_samples_leaf=3, min_samples_split=2, n_estimators=100; total time=   1.3s\n",
      "[CV] END bootstrap=True, max_depth=20, max_features=2, min_samples_leaf=3, min_samples_split=2, n_estimators=100; total time=   1.3s\n",
      "[CV] END bootstrap=True, max_depth=20, max_features=2, min_samples_leaf=3, min_samples_split=2, n_estimators=120; total time=   1.5s\n",
      "[CV] END bootstrap=True, max_depth=20, max_features=2, min_samples_leaf=3, min_samples_split=2, n_estimators=120; total time=   1.5s\n",
      "[CV] END bootstrap=True, max_depth=20, max_features=2, min_samples_leaf=3, min_samples_split=3, n_estimators=20; total time=   0.3s\n",
      "[CV] END bootstrap=True, max_depth=20, max_features=2, min_samples_leaf=3, min_samples_split=3, n_estimators=20; total time=   0.3s\n",
      "[CV] END bootstrap=True, max_depth=20, max_features=2, min_samples_leaf=3, min_samples_split=3, n_estimators=40; total time=   0.5s\n",
      "[CV] END bootstrap=True, max_depth=20, max_features=2, min_samples_leaf=3, min_samples_split=3, n_estimators=40; total time=   0.5s\n",
      "[CV] END bootstrap=True, max_depth=20, max_features=2, min_samples_leaf=3, min_samples_split=3, n_estimators=60; total time=   0.8s\n",
      "[CV] END bootstrap=True, max_depth=20, max_features=2, min_samples_leaf=3, min_samples_split=3, n_estimators=60; total time=   0.7s\n",
      "[CV] END bootstrap=True, max_depth=20, max_features=2, min_samples_leaf=3, min_samples_split=3, n_estimators=80; total time=   1.0s\n",
      "[CV] END bootstrap=True, max_depth=20, max_features=2, min_samples_leaf=3, min_samples_split=3, n_estimators=80; total time=   1.0s\n",
      "[CV] END bootstrap=True, max_depth=20, max_features=2, min_samples_leaf=3, min_samples_split=3, n_estimators=100; total time=   1.2s\n",
      "[CV] END bootstrap=True, max_depth=20, max_features=2, min_samples_leaf=3, min_samples_split=3, n_estimators=100; total time=   1.2s\n",
      "[CV] END bootstrap=True, max_depth=20, max_features=2, min_samples_leaf=3, min_samples_split=3, n_estimators=120; total time=   1.5s\n",
      "[CV] END bootstrap=True, max_depth=20, max_features=2, min_samples_leaf=3, min_samples_split=3, n_estimators=120; total time=   1.5s\n",
      "[CV] END bootstrap=True, max_depth=20, max_features=3, min_samples_leaf=3, min_samples_split=2, n_estimators=20; total time=   0.4s\n",
      "[CV] END bootstrap=True, max_depth=20, max_features=3, min_samples_leaf=3, min_samples_split=2, n_estimators=20; total time=   0.4s\n",
      "[CV] END bootstrap=True, max_depth=20, max_features=3, min_samples_leaf=3, min_samples_split=2, n_estimators=40; total time=   0.7s\n",
      "[CV] END bootstrap=True, max_depth=20, max_features=3, min_samples_leaf=3, min_samples_split=2, n_estimators=40; total time=   0.7s\n",
      "[CV] END bootstrap=True, max_depth=20, max_features=3, min_samples_leaf=3, min_samples_split=2, n_estimators=60; total time=   1.0s\n",
      "[CV] END bootstrap=True, max_depth=20, max_features=3, min_samples_leaf=3, min_samples_split=2, n_estimators=60; total time=   1.1s\n",
      "[CV] END bootstrap=True, max_depth=20, max_features=3, min_samples_leaf=3, min_samples_split=2, n_estimators=80; total time=   1.4s\n",
      "[CV] END bootstrap=True, max_depth=20, max_features=3, min_samples_leaf=3, min_samples_split=2, n_estimators=80; total time=   1.4s\n",
      "[CV] END bootstrap=True, max_depth=20, max_features=3, min_samples_leaf=3, min_samples_split=2, n_estimators=100; total time=   1.9s\n",
      "[CV] END bootstrap=True, max_depth=20, max_features=3, min_samples_leaf=3, min_samples_split=2, n_estimators=100; total time=   1.8s\n",
      "[CV] END bootstrap=True, max_depth=20, max_features=3, min_samples_leaf=3, min_samples_split=2, n_estimators=120; total time=   2.1s\n",
      "[CV] END bootstrap=True, max_depth=20, max_features=3, min_samples_leaf=3, min_samples_split=2, n_estimators=120; total time=   2.1s\n",
      "[CV] END bootstrap=True, max_depth=20, max_features=3, min_samples_leaf=3, min_samples_split=3, n_estimators=20; total time=   0.4s\n",
      "[CV] END bootstrap=True, max_depth=20, max_features=3, min_samples_leaf=3, min_samples_split=3, n_estimators=20; total time=   0.4s\n",
      "[CV] END bootstrap=True, max_depth=20, max_features=3, min_samples_leaf=3, min_samples_split=3, n_estimators=40; total time=   0.7s\n",
      "[CV] END bootstrap=True, max_depth=20, max_features=3, min_samples_leaf=3, min_samples_split=3, n_estimators=40; total time=   0.7s\n",
      "[CV] END bootstrap=True, max_depth=20, max_features=3, min_samples_leaf=3, min_samples_split=3, n_estimators=60; total time=   1.1s\n",
      "[CV] END bootstrap=True, max_depth=20, max_features=3, min_samples_leaf=3, min_samples_split=3, n_estimators=60; total time=   1.1s\n",
      "[CV] END bootstrap=True, max_depth=20, max_features=3, min_samples_leaf=3, min_samples_split=3, n_estimators=80; total time=   1.5s\n",
      "[CV] END bootstrap=True, max_depth=20, max_features=3, min_samples_leaf=3, min_samples_split=3, n_estimators=80; total time=   1.4s\n",
      "[CV] END bootstrap=True, max_depth=20, max_features=3, min_samples_leaf=3, min_samples_split=3, n_estimators=100; total time=   1.8s\n",
      "[CV] END bootstrap=True, max_depth=20, max_features=3, min_samples_leaf=3, min_samples_split=3, n_estimators=100; total time=   1.7s\n",
      "[CV] END bootstrap=True, max_depth=20, max_features=3, min_samples_leaf=3, min_samples_split=3, n_estimators=120; total time=   2.1s\n",
      "[CV] END bootstrap=True, max_depth=20, max_features=3, min_samples_leaf=3, min_samples_split=3, n_estimators=120; total time=   2.2s\n",
      "[CV] END bootstrap=True, max_depth=30, max_features=2, min_samples_leaf=3, min_samples_split=2, n_estimators=20; total time=   0.3s\n",
      "[CV] END bootstrap=True, max_depth=30, max_features=2, min_samples_leaf=3, min_samples_split=2, n_estimators=20; total time=   0.3s\n",
      "[CV] END bootstrap=True, max_depth=30, max_features=2, min_samples_leaf=3, min_samples_split=2, n_estimators=40; total time=   0.5s\n",
      "[CV] END bootstrap=True, max_depth=30, max_features=2, min_samples_leaf=3, min_samples_split=2, n_estimators=40; total time=   0.5s\n",
      "[CV] END bootstrap=True, max_depth=30, max_features=2, min_samples_leaf=3, min_samples_split=2, n_estimators=60; total time=   0.8s\n",
      "[CV] END bootstrap=True, max_depth=30, max_features=2, min_samples_leaf=3, min_samples_split=2, n_estimators=60; total time=   0.8s\n",
      "[CV] END bootstrap=True, max_depth=30, max_features=2, min_samples_leaf=3, min_samples_split=2, n_estimators=80; total time=   1.1s\n",
      "[CV] END bootstrap=True, max_depth=30, max_features=2, min_samples_leaf=3, min_samples_split=2, n_estimators=80; total time=   1.1s\n",
      "[CV] END bootstrap=True, max_depth=30, max_features=2, min_samples_leaf=3, min_samples_split=2, n_estimators=100; total time=   1.3s\n",
      "[CV] END bootstrap=True, max_depth=30, max_features=2, min_samples_leaf=3, min_samples_split=2, n_estimators=100; total time=   1.3s\n",
      "[CV] END bootstrap=True, max_depth=30, max_features=2, min_samples_leaf=3, min_samples_split=2, n_estimators=120; total time=   1.6s\n",
      "[CV] END bootstrap=True, max_depth=30, max_features=2, min_samples_leaf=3, min_samples_split=2, n_estimators=120; total time=   1.6s\n",
      "[CV] END bootstrap=True, max_depth=30, max_features=2, min_samples_leaf=3, min_samples_split=3, n_estimators=20; total time=   0.3s\n",
      "[CV] END bootstrap=True, max_depth=30, max_features=2, min_samples_leaf=3, min_samples_split=3, n_estimators=20; total time=   0.3s\n",
      "[CV] END bootstrap=True, max_depth=30, max_features=2, min_samples_leaf=3, min_samples_split=3, n_estimators=40; total time=   0.5s\n",
      "[CV] END bootstrap=True, max_depth=30, max_features=2, min_samples_leaf=3, min_samples_split=3, n_estimators=40; total time=   0.5s\n",
      "[CV] END bootstrap=True, max_depth=30, max_features=2, min_samples_leaf=3, min_samples_split=3, n_estimators=60; total time=   0.8s\n",
      "[CV] END bootstrap=True, max_depth=30, max_features=2, min_samples_leaf=3, min_samples_split=3, n_estimators=60; total time=   0.8s\n",
      "[CV] END bootstrap=True, max_depth=30, max_features=2, min_samples_leaf=3, min_samples_split=3, n_estimators=80; total time=   1.1s\n",
      "[CV] END bootstrap=True, max_depth=30, max_features=2, min_samples_leaf=3, min_samples_split=3, n_estimators=80; total time=   1.1s\n",
      "[CV] END bootstrap=True, max_depth=30, max_features=2, min_samples_leaf=3, min_samples_split=3, n_estimators=100; total time=   1.3s\n",
      "[CV] END bootstrap=True, max_depth=30, max_features=2, min_samples_leaf=3, min_samples_split=3, n_estimators=100; total time=   1.3s\n",
      "[CV] END bootstrap=True, max_depth=30, max_features=2, min_samples_leaf=3, min_samples_split=3, n_estimators=120; total time=   1.7s\n",
      "[CV] END bootstrap=True, max_depth=30, max_features=2, min_samples_leaf=3, min_samples_split=3, n_estimators=120; total time=   1.5s\n",
      "[CV] END bootstrap=True, max_depth=30, max_features=3, min_samples_leaf=3, min_samples_split=2, n_estimators=20; total time=   0.4s\n",
      "[CV] END bootstrap=True, max_depth=30, max_features=3, min_samples_leaf=3, min_samples_split=2, n_estimators=20; total time=   0.4s\n",
      "[CV] END bootstrap=True, max_depth=30, max_features=3, min_samples_leaf=3, min_samples_split=2, n_estimators=40; total time=   0.8s\n",
      "[CV] END bootstrap=True, max_depth=30, max_features=3, min_samples_leaf=3, min_samples_split=2, n_estimators=40; total time=   0.7s\n",
      "[CV] END bootstrap=True, max_depth=30, max_features=3, min_samples_leaf=3, min_samples_split=2, n_estimators=60; total time=   1.1s\n",
      "[CV] END bootstrap=True, max_depth=30, max_features=3, min_samples_leaf=3, min_samples_split=2, n_estimators=60; total time=   1.1s\n",
      "[CV] END bootstrap=True, max_depth=30, max_features=3, min_samples_leaf=3, min_samples_split=2, n_estimators=80; total time=   1.5s\n",
      "[CV] END bootstrap=True, max_depth=30, max_features=3, min_samples_leaf=3, min_samples_split=2, n_estimators=80; total time=   1.5s\n",
      "[CV] END bootstrap=True, max_depth=30, max_features=3, min_samples_leaf=3, min_samples_split=2, n_estimators=100; total time=   1.9s\n",
      "[CV] END bootstrap=True, max_depth=30, max_features=3, min_samples_leaf=3, min_samples_split=2, n_estimators=100; total time=   1.8s\n",
      "[CV] END bootstrap=True, max_depth=30, max_features=3, min_samples_leaf=3, min_samples_split=2, n_estimators=120; total time=   2.3s\n",
      "[CV] END bootstrap=True, max_depth=30, max_features=3, min_samples_leaf=3, min_samples_split=2, n_estimators=120; total time=   2.1s\n",
      "[CV] END bootstrap=True, max_depth=30, max_features=3, min_samples_leaf=3, min_samples_split=3, n_estimators=20; total time=   0.4s\n",
      "[CV] END bootstrap=True, max_depth=30, max_features=3, min_samples_leaf=3, min_samples_split=3, n_estimators=20; total time=   0.4s\n",
      "[CV] END bootstrap=True, max_depth=30, max_features=3, min_samples_leaf=3, min_samples_split=3, n_estimators=40; total time=   0.8s\n",
      "[CV] END bootstrap=True, max_depth=30, max_features=3, min_samples_leaf=3, min_samples_split=3, n_estimators=40; total time=   0.8s\n",
      "[CV] END bootstrap=True, max_depth=30, max_features=3, min_samples_leaf=3, min_samples_split=3, n_estimators=60; total time=   1.1s\n",
      "[CV] END bootstrap=True, max_depth=30, max_features=3, min_samples_leaf=3, min_samples_split=3, n_estimators=60; total time=   1.1s\n",
      "[CV] END bootstrap=True, max_depth=30, max_features=3, min_samples_leaf=3, min_samples_split=3, n_estimators=80; total time=   1.4s\n",
      "[CV] END bootstrap=True, max_depth=30, max_features=3, min_samples_leaf=3, min_samples_split=3, n_estimators=80; total time=   1.4s\n",
      "[CV] END bootstrap=True, max_depth=30, max_features=3, min_samples_leaf=3, min_samples_split=3, n_estimators=100; total time=   1.8s\n",
      "[CV] END bootstrap=True, max_depth=30, max_features=3, min_samples_leaf=3, min_samples_split=3, n_estimators=100; total time=   1.8s\n",
      "[CV] END bootstrap=True, max_depth=30, max_features=3, min_samples_leaf=3, min_samples_split=3, n_estimators=120; total time=   2.3s\n",
      "[CV] END bootstrap=True, max_depth=30, max_features=3, min_samples_leaf=3, min_samples_split=3, n_estimators=120; total time=   2.1s\n",
      "[CV] END bootstrap=True, max_depth=40, max_features=2, min_samples_leaf=3, min_samples_split=2, n_estimators=20; total time=   0.3s\n",
      "[CV] END bootstrap=True, max_depth=40, max_features=2, min_samples_leaf=3, min_samples_split=2, n_estimators=20; total time=   0.3s\n",
      "[CV] END bootstrap=True, max_depth=40, max_features=2, min_samples_leaf=3, min_samples_split=2, n_estimators=40; total time=   0.6s\n",
      "[CV] END bootstrap=True, max_depth=40, max_features=2, min_samples_leaf=3, min_samples_split=2, n_estimators=40; total time=   0.5s\n",
      "[CV] END bootstrap=True, max_depth=40, max_features=2, min_samples_leaf=3, min_samples_split=2, n_estimators=60; total time=   0.8s\n",
      "[CV] END bootstrap=True, max_depth=40, max_features=2, min_samples_leaf=3, min_samples_split=2, n_estimators=60; total time=   0.8s\n",
      "[CV] END bootstrap=True, max_depth=40, max_features=2, min_samples_leaf=3, min_samples_split=2, n_estimators=80; total time=   1.1s\n",
      "[CV] END bootstrap=True, max_depth=40, max_features=2, min_samples_leaf=3, min_samples_split=2, n_estimators=80; total time=   1.0s\n",
      "[CV] END bootstrap=True, max_depth=40, max_features=2, min_samples_leaf=3, min_samples_split=2, n_estimators=100; total time=   1.4s\n",
      "[CV] END bootstrap=True, max_depth=40, max_features=2, min_samples_leaf=3, min_samples_split=2, n_estimators=100; total time=   1.3s\n",
      "[CV] END bootstrap=True, max_depth=40, max_features=2, min_samples_leaf=3, min_samples_split=2, n_estimators=120; total time=   1.6s\n",
      "[CV] END bootstrap=True, max_depth=40, max_features=2, min_samples_leaf=3, min_samples_split=2, n_estimators=120; total time=   1.6s\n",
      "[CV] END bootstrap=True, max_depth=40, max_features=2, min_samples_leaf=3, min_samples_split=3, n_estimators=20; total time=   0.3s\n",
      "[CV] END bootstrap=True, max_depth=40, max_features=2, min_samples_leaf=3, min_samples_split=3, n_estimators=20; total time=   0.3s\n",
      "[CV] END bootstrap=True, max_depth=40, max_features=2, min_samples_leaf=3, min_samples_split=3, n_estimators=40; total time=   0.5s\n",
      "[CV] END bootstrap=True, max_depth=40, max_features=2, min_samples_leaf=3, min_samples_split=3, n_estimators=40; total time=   0.5s\n",
      "[CV] END bootstrap=True, max_depth=40, max_features=2, min_samples_leaf=3, min_samples_split=3, n_estimators=60; total time=   0.8s\n",
      "[CV] END bootstrap=True, max_depth=40, max_features=2, min_samples_leaf=3, min_samples_split=3, n_estimators=60; total time=   0.8s\n",
      "[CV] END bootstrap=True, max_depth=40, max_features=2, min_samples_leaf=3, min_samples_split=3, n_estimators=80; total time=   1.1s\n",
      "[CV] END bootstrap=True, max_depth=40, max_features=2, min_samples_leaf=3, min_samples_split=3, n_estimators=80; total time=   1.2s\n",
      "[CV] END bootstrap=True, max_depth=40, max_features=2, min_samples_leaf=3, min_samples_split=3, n_estimators=100; total time=   1.4s\n",
      "[CV] END bootstrap=True, max_depth=40, max_features=2, min_samples_leaf=3, min_samples_split=3, n_estimators=100; total time=   1.3s\n",
      "[CV] END bootstrap=True, max_depth=40, max_features=2, min_samples_leaf=3, min_samples_split=3, n_estimators=120; total time=   1.6s\n",
      "[CV] END bootstrap=True, max_depth=40, max_features=2, min_samples_leaf=3, min_samples_split=3, n_estimators=120; total time=   1.6s\n",
      "[CV] END bootstrap=True, max_depth=40, max_features=3, min_samples_leaf=3, min_samples_split=2, n_estimators=20; total time=   0.4s\n",
      "[CV] END bootstrap=True, max_depth=40, max_features=3, min_samples_leaf=3, min_samples_split=2, n_estimators=20; total time=   0.4s\n",
      "[CV] END bootstrap=True, max_depth=40, max_features=3, min_samples_leaf=3, min_samples_split=2, n_estimators=40; total time=   0.7s\n",
      "[CV] END bootstrap=True, max_depth=40, max_features=3, min_samples_leaf=3, min_samples_split=2, n_estimators=40; total time=   0.7s\n",
      "[CV] END bootstrap=True, max_depth=40, max_features=3, min_samples_leaf=3, min_samples_split=2, n_estimators=60; total time=   1.1s\n",
      "[CV] END bootstrap=True, max_depth=40, max_features=3, min_samples_leaf=3, min_samples_split=2, n_estimators=60; total time=   1.1s\n",
      "[CV] END bootstrap=True, max_depth=40, max_features=3, min_samples_leaf=3, min_samples_split=2, n_estimators=80; total time=   1.4s\n",
      "[CV] END bootstrap=True, max_depth=40, max_features=3, min_samples_leaf=3, min_samples_split=2, n_estimators=80; total time=   1.4s\n",
      "[CV] END bootstrap=True, max_depth=40, max_features=3, min_samples_leaf=3, min_samples_split=2, n_estimators=100; total time=   1.8s\n",
      "[CV] END bootstrap=True, max_depth=40, max_features=3, min_samples_leaf=3, min_samples_split=2, n_estimators=100; total time=   1.8s\n",
      "[CV] END bootstrap=True, max_depth=40, max_features=3, min_samples_leaf=3, min_samples_split=2, n_estimators=120; total time=   2.2s\n",
      "[CV] END bootstrap=True, max_depth=40, max_features=3, min_samples_leaf=3, min_samples_split=2, n_estimators=120; total time=   2.2s\n",
      "[CV] END bootstrap=True, max_depth=40, max_features=3, min_samples_leaf=3, min_samples_split=3, n_estimators=20; total time=   0.4s\n",
      "[CV] END bootstrap=True, max_depth=40, max_features=3, min_samples_leaf=3, min_samples_split=3, n_estimators=20; total time=   0.4s\n",
      "[CV] END bootstrap=True, max_depth=40, max_features=3, min_samples_leaf=3, min_samples_split=3, n_estimators=40; total time=   0.7s\n",
      "[CV] END bootstrap=True, max_depth=40, max_features=3, min_samples_leaf=3, min_samples_split=3, n_estimators=40; total time=   0.7s\n",
      "[CV] END bootstrap=True, max_depth=40, max_features=3, min_samples_leaf=3, min_samples_split=3, n_estimators=60; total time=   1.1s\n",
      "[CV] END bootstrap=True, max_depth=40, max_features=3, min_samples_leaf=3, min_samples_split=3, n_estimators=60; total time=   1.1s\n",
      "[CV] END bootstrap=True, max_depth=40, max_features=3, min_samples_leaf=3, min_samples_split=3, n_estimators=80; total time=   1.6s\n",
      "[CV] END bootstrap=True, max_depth=40, max_features=3, min_samples_leaf=3, min_samples_split=3, n_estimators=80; total time=   1.4s\n",
      "[CV] END bootstrap=True, max_depth=40, max_features=3, min_samples_leaf=3, min_samples_split=3, n_estimators=100; total time=   1.9s\n",
      "[CV] END bootstrap=True, max_depth=40, max_features=3, min_samples_leaf=3, min_samples_split=3, n_estimators=100; total time=   1.7s\n",
      "[CV] END bootstrap=True, max_depth=40, max_features=3, min_samples_leaf=3, min_samples_split=3, n_estimators=120; total time=   2.1s\n",
      "[CV] END bootstrap=True, max_depth=40, max_features=3, min_samples_leaf=3, min_samples_split=3, n_estimators=120; total time=   2.1s\n",
      "{'bootstrap': True, 'max_depth': 20, 'max_features': 3, 'min_samples_leaf': 3, 'min_samples_split': 3, 'n_estimators': 40}\n",
      "-9.617733453022435\n",
      "Fitting 2 folds for each of 72 candidates, totalling 144 fits\n",
      "[CV] END bootstrap=True, max_depth=20, max_features=2, min_samples_leaf=3, min_samples_split=2, n_estimators=20; total time=   0.3s\n",
      "[CV] END bootstrap=True, max_depth=20, max_features=2, min_samples_leaf=3, min_samples_split=2, n_estimators=20; total time=   0.2s\n",
      "[CV] END bootstrap=True, max_depth=20, max_features=2, min_samples_leaf=3, min_samples_split=2, n_estimators=40; total time=   0.5s\n",
      "[CV] END bootstrap=True, max_depth=20, max_features=2, min_samples_leaf=3, min_samples_split=2, n_estimators=40; total time=   0.5s\n",
      "[CV] END bootstrap=True, max_depth=20, max_features=2, min_samples_leaf=3, min_samples_split=2, n_estimators=60; total time=   0.8s\n",
      "[CV] END bootstrap=True, max_depth=20, max_features=2, min_samples_leaf=3, min_samples_split=2, n_estimators=60; total time=   0.7s\n",
      "[CV] END bootstrap=True, max_depth=20, max_features=2, min_samples_leaf=3, min_samples_split=2, n_estimators=80; total time=   1.0s\n",
      "[CV] END bootstrap=True, max_depth=20, max_features=2, min_samples_leaf=3, min_samples_split=2, n_estimators=80; total time=   1.0s\n",
      "[CV] END bootstrap=True, max_depth=20, max_features=2, min_samples_leaf=3, min_samples_split=2, n_estimators=100; total time=   1.3s\n",
      "[CV] END bootstrap=True, max_depth=20, max_features=2, min_samples_leaf=3, min_samples_split=2, n_estimators=100; total time=   1.3s\n",
      "[CV] END bootstrap=True, max_depth=20, max_features=2, min_samples_leaf=3, min_samples_split=2, n_estimators=120; total time=   1.7s\n",
      "[CV] END bootstrap=True, max_depth=20, max_features=2, min_samples_leaf=3, min_samples_split=2, n_estimators=120; total time=   1.5s\n",
      "[CV] END bootstrap=True, max_depth=20, max_features=2, min_samples_leaf=3, min_samples_split=3, n_estimators=20; total time=   0.3s\n",
      "[CV] END bootstrap=True, max_depth=20, max_features=2, min_samples_leaf=3, min_samples_split=3, n_estimators=20; total time=   0.2s\n",
      "[CV] END bootstrap=True, max_depth=20, max_features=2, min_samples_leaf=3, min_samples_split=3, n_estimators=40; total time=   0.5s\n",
      "[CV] END bootstrap=True, max_depth=20, max_features=2, min_samples_leaf=3, min_samples_split=3, n_estimators=40; total time=   0.5s\n",
      "[CV] END bootstrap=True, max_depth=20, max_features=2, min_samples_leaf=3, min_samples_split=3, n_estimators=60; total time=   0.8s\n",
      "[CV] END bootstrap=True, max_depth=20, max_features=2, min_samples_leaf=3, min_samples_split=3, n_estimators=60; total time=   0.7s\n",
      "[CV] END bootstrap=True, max_depth=20, max_features=2, min_samples_leaf=3, min_samples_split=3, n_estimators=80; total time=   1.1s\n",
      "[CV] END bootstrap=True, max_depth=20, max_features=2, min_samples_leaf=3, min_samples_split=3, n_estimators=80; total time=   1.0s\n",
      "[CV] END bootstrap=True, max_depth=20, max_features=2, min_samples_leaf=3, min_samples_split=3, n_estimators=100; total time=   1.3s\n",
      "[CV] END bootstrap=True, max_depth=20, max_features=2, min_samples_leaf=3, min_samples_split=3, n_estimators=100; total time=   1.3s\n",
      "[CV] END bootstrap=True, max_depth=20, max_features=2, min_samples_leaf=3, min_samples_split=3, n_estimators=120; total time=   1.5s\n",
      "[CV] END bootstrap=True, max_depth=20, max_features=2, min_samples_leaf=3, min_samples_split=3, n_estimators=120; total time=   1.4s\n",
      "[CV] END bootstrap=True, max_depth=20, max_features=3, min_samples_leaf=3, min_samples_split=2, n_estimators=20; total time=   0.3s\n",
      "[CV] END bootstrap=True, max_depth=20, max_features=3, min_samples_leaf=3, min_samples_split=2, n_estimators=20; total time=   0.3s\n",
      "[CV] END bootstrap=True, max_depth=20, max_features=3, min_samples_leaf=3, min_samples_split=2, n_estimators=40; total time=   0.7s\n",
      "[CV] END bootstrap=True, max_depth=20, max_features=3, min_samples_leaf=3, min_samples_split=2, n_estimators=40; total time=   0.7s\n",
      "[CV] END bootstrap=True, max_depth=20, max_features=3, min_samples_leaf=3, min_samples_split=2, n_estimators=60; total time=   1.1s\n",
      "[CV] END bootstrap=True, max_depth=20, max_features=3, min_samples_leaf=3, min_samples_split=2, n_estimators=60; total time=   1.0s\n",
      "[CV] END bootstrap=True, max_depth=20, max_features=3, min_samples_leaf=3, min_samples_split=2, n_estimators=80; total time=   1.4s\n",
      "[CV] END bootstrap=True, max_depth=20, max_features=3, min_samples_leaf=3, min_samples_split=2, n_estimators=80; total time=   1.3s\n",
      "[CV] END bootstrap=True, max_depth=20, max_features=3, min_samples_leaf=3, min_samples_split=2, n_estimators=100; total time=   1.8s\n",
      "[CV] END bootstrap=True, max_depth=20, max_features=3, min_samples_leaf=3, min_samples_split=2, n_estimators=100; total time=   1.6s\n",
      "[CV] END bootstrap=True, max_depth=20, max_features=3, min_samples_leaf=3, min_samples_split=2, n_estimators=120; total time=   2.0s\n",
      "[CV] END bootstrap=True, max_depth=20, max_features=3, min_samples_leaf=3, min_samples_split=2, n_estimators=120; total time=   2.0s\n",
      "[CV] END bootstrap=True, max_depth=20, max_features=3, min_samples_leaf=3, min_samples_split=3, n_estimators=20; total time=   0.4s\n",
      "[CV] END bootstrap=True, max_depth=20, max_features=3, min_samples_leaf=3, min_samples_split=3, n_estimators=20; total time=   0.4s\n",
      "[CV] END bootstrap=True, max_depth=20, max_features=3, min_samples_leaf=3, min_samples_split=3, n_estimators=40; total time=   0.7s\n",
      "[CV] END bootstrap=True, max_depth=20, max_features=3, min_samples_leaf=3, min_samples_split=3, n_estimators=40; total time=   0.7s\n",
      "[CV] END bootstrap=True, max_depth=20, max_features=3, min_samples_leaf=3, min_samples_split=3, n_estimators=60; total time=   1.0s\n",
      "[CV] END bootstrap=True, max_depth=20, max_features=3, min_samples_leaf=3, min_samples_split=3, n_estimators=60; total time=   1.0s\n",
      "[CV] END bootstrap=True, max_depth=20, max_features=3, min_samples_leaf=3, min_samples_split=3, n_estimators=80; total time=   1.4s\n",
      "[CV] END bootstrap=True, max_depth=20, max_features=3, min_samples_leaf=3, min_samples_split=3, n_estimators=80; total time=   1.3s\n",
      "[CV] END bootstrap=True, max_depth=20, max_features=3, min_samples_leaf=3, min_samples_split=3, n_estimators=100; total time=   1.7s\n",
      "[CV] END bootstrap=True, max_depth=20, max_features=3, min_samples_leaf=3, min_samples_split=3, n_estimators=100; total time=   1.5s\n",
      "[CV] END bootstrap=True, max_depth=20, max_features=3, min_samples_leaf=3, min_samples_split=3, n_estimators=120; total time=   2.1s\n",
      "[CV] END bootstrap=True, max_depth=20, max_features=3, min_samples_leaf=3, min_samples_split=3, n_estimators=120; total time=   1.9s\n",
      "[CV] END bootstrap=True, max_depth=30, max_features=2, min_samples_leaf=3, min_samples_split=2, n_estimators=20; total time=   0.3s\n",
      "[CV] END bootstrap=True, max_depth=30, max_features=2, min_samples_leaf=3, min_samples_split=2, n_estimators=20; total time=   0.2s\n",
      "[CV] END bootstrap=True, max_depth=30, max_features=2, min_samples_leaf=3, min_samples_split=2, n_estimators=40; total time=   0.5s\n",
      "[CV] END bootstrap=True, max_depth=30, max_features=2, min_samples_leaf=3, min_samples_split=2, n_estimators=40; total time=   0.5s\n",
      "[CV] END bootstrap=True, max_depth=30, max_features=2, min_samples_leaf=3, min_samples_split=2, n_estimators=60; total time=   0.8s\n",
      "[CV] END bootstrap=True, max_depth=30, max_features=2, min_samples_leaf=3, min_samples_split=2, n_estimators=60; total time=   0.7s\n",
      "[CV] END bootstrap=True, max_depth=30, max_features=2, min_samples_leaf=3, min_samples_split=2, n_estimators=80; total time=   1.0s\n",
      "[CV] END bootstrap=True, max_depth=30, max_features=2, min_samples_leaf=3, min_samples_split=2, n_estimators=80; total time=   1.0s\n",
      "[CV] END bootstrap=True, max_depth=30, max_features=2, min_samples_leaf=3, min_samples_split=2, n_estimators=100; total time=   1.2s\n",
      "[CV] END bootstrap=True, max_depth=30, max_features=2, min_samples_leaf=3, min_samples_split=2, n_estimators=100; total time=   1.2s\n",
      "[CV] END bootstrap=True, max_depth=30, max_features=2, min_samples_leaf=3, min_samples_split=2, n_estimators=120; total time=   1.5s\n",
      "[CV] END bootstrap=True, max_depth=30, max_features=2, min_samples_leaf=3, min_samples_split=2, n_estimators=120; total time=   1.4s\n",
      "[CV] END bootstrap=True, max_depth=30, max_features=2, min_samples_leaf=3, min_samples_split=3, n_estimators=20; total time=   0.2s\n",
      "[CV] END bootstrap=True, max_depth=30, max_features=2, min_samples_leaf=3, min_samples_split=3, n_estimators=20; total time=   0.2s\n",
      "[CV] END bootstrap=True, max_depth=30, max_features=2, min_samples_leaf=3, min_samples_split=3, n_estimators=40; total time=   0.5s\n",
      "[CV] END bootstrap=True, max_depth=30, max_features=2, min_samples_leaf=3, min_samples_split=3, n_estimators=40; total time=   0.5s\n",
      "[CV] END bootstrap=True, max_depth=30, max_features=2, min_samples_leaf=3, min_samples_split=3, n_estimators=60; total time=   0.8s\n",
      "[CV] END bootstrap=True, max_depth=30, max_features=2, min_samples_leaf=3, min_samples_split=3, n_estimators=60; total time=   0.7s\n",
      "[CV] END bootstrap=True, max_depth=30, max_features=2, min_samples_leaf=3, min_samples_split=3, n_estimators=80; total time=   1.0s\n",
      "[CV] END bootstrap=True, max_depth=30, max_features=2, min_samples_leaf=3, min_samples_split=3, n_estimators=80; total time=   0.9s\n",
      "[CV] END bootstrap=True, max_depth=30, max_features=2, min_samples_leaf=3, min_samples_split=3, n_estimators=100; total time=   1.2s\n",
      "[CV] END bootstrap=True, max_depth=30, max_features=2, min_samples_leaf=3, min_samples_split=3, n_estimators=100; total time=   1.2s\n",
      "[CV] END bootstrap=True, max_depth=30, max_features=2, min_samples_leaf=3, min_samples_split=3, n_estimators=120; total time=   1.6s\n",
      "[CV] END bootstrap=True, max_depth=30, max_features=2, min_samples_leaf=3, min_samples_split=3, n_estimators=120; total time=   1.4s\n",
      "[CV] END bootstrap=True, max_depth=30, max_features=3, min_samples_leaf=3, min_samples_split=2, n_estimators=20; total time=   0.3s\n",
      "[CV] END bootstrap=True, max_depth=30, max_features=3, min_samples_leaf=3, min_samples_split=2, n_estimators=20; total time=   0.3s\n",
      "[CV] END bootstrap=True, max_depth=30, max_features=3, min_samples_leaf=3, min_samples_split=2, n_estimators=40; total time=   0.7s\n",
      "[CV] END bootstrap=True, max_depth=30, max_features=3, min_samples_leaf=3, min_samples_split=2, n_estimators=40; total time=   0.7s\n",
      "[CV] END bootstrap=True, max_depth=30, max_features=3, min_samples_leaf=3, min_samples_split=2, n_estimators=60; total time=   1.0s\n",
      "[CV] END bootstrap=True, max_depth=30, max_features=3, min_samples_leaf=3, min_samples_split=2, n_estimators=60; total time=   1.0s\n",
      "[CV] END bootstrap=True, max_depth=30, max_features=3, min_samples_leaf=3, min_samples_split=2, n_estimators=80; total time=   1.4s\n",
      "[CV] END bootstrap=True, max_depth=30, max_features=3, min_samples_leaf=3, min_samples_split=2, n_estimators=80; total time=   1.3s\n",
      "[CV] END bootstrap=True, max_depth=30, max_features=3, min_samples_leaf=3, min_samples_split=2, n_estimators=100; total time=   1.8s\n",
      "[CV] END bootstrap=True, max_depth=30, max_features=3, min_samples_leaf=3, min_samples_split=2, n_estimators=100; total time=   1.6s\n",
      "[CV] END bootstrap=True, max_depth=30, max_features=3, min_samples_leaf=3, min_samples_split=2, n_estimators=120; total time=   2.1s\n",
      "[CV] END bootstrap=True, max_depth=30, max_features=3, min_samples_leaf=3, min_samples_split=2, n_estimators=120; total time=   2.0s\n",
      "[CV] END bootstrap=True, max_depth=30, max_features=3, min_samples_leaf=3, min_samples_split=3, n_estimators=20; total time=   0.3s\n",
      "[CV] END bootstrap=True, max_depth=30, max_features=3, min_samples_leaf=3, min_samples_split=3, n_estimators=20; total time=   0.3s\n",
      "[CV] END bootstrap=True, max_depth=30, max_features=3, min_samples_leaf=3, min_samples_split=3, n_estimators=40; total time=   0.7s\n",
      "[CV] END bootstrap=True, max_depth=30, max_features=3, min_samples_leaf=3, min_samples_split=3, n_estimators=40; total time=   0.6s\n",
      "[CV] END bootstrap=True, max_depth=30, max_features=3, min_samples_leaf=3, min_samples_split=3, n_estimators=60; total time=   1.1s\n",
      "[CV] END bootstrap=True, max_depth=30, max_features=3, min_samples_leaf=3, min_samples_split=3, n_estimators=60; total time=   1.0s\n",
      "[CV] END bootstrap=True, max_depth=30, max_features=3, min_samples_leaf=3, min_samples_split=3, n_estimators=80; total time=   1.4s\n",
      "[CV] END bootstrap=True, max_depth=30, max_features=3, min_samples_leaf=3, min_samples_split=3, n_estimators=80; total time=   1.3s\n",
      "[CV] END bootstrap=True, max_depth=30, max_features=3, min_samples_leaf=3, min_samples_split=3, n_estimators=100; total time=   1.7s\n",
      "[CV] END bootstrap=True, max_depth=30, max_features=3, min_samples_leaf=3, min_samples_split=3, n_estimators=100; total time=   1.7s\n",
      "[CV] END bootstrap=True, max_depth=30, max_features=3, min_samples_leaf=3, min_samples_split=3, n_estimators=120; total time=   2.1s\n",
      "[CV] END bootstrap=True, max_depth=30, max_features=3, min_samples_leaf=3, min_samples_split=3, n_estimators=120; total time=   2.1s\n",
      "[CV] END bootstrap=True, max_depth=40, max_features=2, min_samples_leaf=3, min_samples_split=2, n_estimators=20; total time=   0.3s\n",
      "[CV] END bootstrap=True, max_depth=40, max_features=2, min_samples_leaf=3, min_samples_split=2, n_estimators=20; total time=   0.3s\n",
      "[CV] END bootstrap=True, max_depth=40, max_features=2, min_samples_leaf=3, min_samples_split=2, n_estimators=40; total time=   0.5s\n",
      "[CV] END bootstrap=True, max_depth=40, max_features=2, min_samples_leaf=3, min_samples_split=2, n_estimators=40; total time=   0.5s\n",
      "[CV] END bootstrap=True, max_depth=40, max_features=2, min_samples_leaf=3, min_samples_split=2, n_estimators=60; total time=   0.8s\n",
      "[CV] END bootstrap=True, max_depth=40, max_features=2, min_samples_leaf=3, min_samples_split=2, n_estimators=60; total time=   0.8s\n",
      "[CV] END bootstrap=True, max_depth=40, max_features=2, min_samples_leaf=3, min_samples_split=2, n_estimators=80; total time=   1.0s\n",
      "[CV] END bootstrap=True, max_depth=40, max_features=2, min_samples_leaf=3, min_samples_split=2, n_estimators=80; total time=   1.0s\n",
      "[CV] END bootstrap=True, max_depth=40, max_features=2, min_samples_leaf=3, min_samples_split=2, n_estimators=100; total time=   1.4s\n",
      "[CV] END bootstrap=True, max_depth=40, max_features=2, min_samples_leaf=3, min_samples_split=2, n_estimators=100; total time=   1.2s\n",
      "[CV] END bootstrap=True, max_depth=40, max_features=2, min_samples_leaf=3, min_samples_split=2, n_estimators=120; total time=   1.6s\n",
      "[CV] END bootstrap=True, max_depth=40, max_features=2, min_samples_leaf=3, min_samples_split=2, n_estimators=120; total time=   1.5s\n",
      "[CV] END bootstrap=True, max_depth=40, max_features=2, min_samples_leaf=3, min_samples_split=3, n_estimators=20; total time=   0.3s\n",
      "[CV] END bootstrap=True, max_depth=40, max_features=2, min_samples_leaf=3, min_samples_split=3, n_estimators=20; total time=   0.3s\n",
      "[CV] END bootstrap=True, max_depth=40, max_features=2, min_samples_leaf=3, min_samples_split=3, n_estimators=40; total time=   0.5s\n",
      "[CV] END bootstrap=True, max_depth=40, max_features=2, min_samples_leaf=3, min_samples_split=3, n_estimators=40; total time=   0.5s\n",
      "[CV] END bootstrap=True, max_depth=40, max_features=2, min_samples_leaf=3, min_samples_split=3, n_estimators=60; total time=   0.8s\n",
      "[CV] END bootstrap=True, max_depth=40, max_features=2, min_samples_leaf=3, min_samples_split=3, n_estimators=60; total time=   0.8s\n",
      "[CV] END bootstrap=True, max_depth=40, max_features=2, min_samples_leaf=3, min_samples_split=3, n_estimators=80; total time=   1.1s\n",
      "[CV] END bootstrap=True, max_depth=40, max_features=2, min_samples_leaf=3, min_samples_split=3, n_estimators=80; total time=   1.0s\n",
      "[CV] END bootstrap=True, max_depth=40, max_features=2, min_samples_leaf=3, min_samples_split=3, n_estimators=100; total time=   1.3s\n",
      "[CV] END bootstrap=True, max_depth=40, max_features=2, min_samples_leaf=3, min_samples_split=3, n_estimators=100; total time=   1.3s\n",
      "[CV] END bootstrap=True, max_depth=40, max_features=2, min_samples_leaf=3, min_samples_split=3, n_estimators=120; total time=   1.6s\n",
      "[CV] END bootstrap=True, max_depth=40, max_features=2, min_samples_leaf=3, min_samples_split=3, n_estimators=120; total time=   1.5s\n",
      "[CV] END bootstrap=True, max_depth=40, max_features=3, min_samples_leaf=3, min_samples_split=2, n_estimators=20; total time=   0.4s\n",
      "[CV] END bootstrap=True, max_depth=40, max_features=3, min_samples_leaf=3, min_samples_split=2, n_estimators=20; total time=   0.3s\n",
      "[CV] END bootstrap=True, max_depth=40, max_features=3, min_samples_leaf=3, min_samples_split=2, n_estimators=40; total time=   0.7s\n",
      "[CV] END bootstrap=True, max_depth=40, max_features=3, min_samples_leaf=3, min_samples_split=2, n_estimators=40; total time=   0.7s\n",
      "[CV] END bootstrap=True, max_depth=40, max_features=3, min_samples_leaf=3, min_samples_split=2, n_estimators=60; total time=   1.1s\n",
      "[CV] END bootstrap=True, max_depth=40, max_features=3, min_samples_leaf=3, min_samples_split=2, n_estimators=60; total time=   1.0s\n",
      "[CV] END bootstrap=True, max_depth=40, max_features=3, min_samples_leaf=3, min_samples_split=2, n_estimators=80; total time=   1.4s\n",
      "[CV] END bootstrap=True, max_depth=40, max_features=3, min_samples_leaf=3, min_samples_split=2, n_estimators=80; total time=   1.4s\n",
      "[CV] END bootstrap=True, max_depth=40, max_features=3, min_samples_leaf=3, min_samples_split=2, n_estimators=100; total time=   1.9s\n",
      "[CV] END bootstrap=True, max_depth=40, max_features=3, min_samples_leaf=3, min_samples_split=2, n_estimators=100; total time=   1.6s\n",
      "[CV] END bootstrap=True, max_depth=40, max_features=3, min_samples_leaf=3, min_samples_split=2, n_estimators=120; total time=   2.1s\n",
      "[CV] END bootstrap=True, max_depth=40, max_features=3, min_samples_leaf=3, min_samples_split=2, n_estimators=120; total time=   2.0s\n",
      "[CV] END bootstrap=True, max_depth=40, max_features=3, min_samples_leaf=3, min_samples_split=3, n_estimators=20; total time=   0.4s\n",
      "[CV] END bootstrap=True, max_depth=40, max_features=3, min_samples_leaf=3, min_samples_split=3, n_estimators=20; total time=   0.3s\n",
      "[CV] END bootstrap=True, max_depth=40, max_features=3, min_samples_leaf=3, min_samples_split=3, n_estimators=40; total time=   0.7s\n",
      "[CV] END bootstrap=True, max_depth=40, max_features=3, min_samples_leaf=3, min_samples_split=3, n_estimators=40; total time=   0.7s\n",
      "[CV] END bootstrap=True, max_depth=40, max_features=3, min_samples_leaf=3, min_samples_split=3, n_estimators=60; total time=   1.1s\n",
      "[CV] END bootstrap=True, max_depth=40, max_features=3, min_samples_leaf=3, min_samples_split=3, n_estimators=60; total time=   1.0s\n",
      "[CV] END bootstrap=True, max_depth=40, max_features=3, min_samples_leaf=3, min_samples_split=3, n_estimators=80; total time=   1.4s\n",
      "[CV] END bootstrap=True, max_depth=40, max_features=3, min_samples_leaf=3, min_samples_split=3, n_estimators=80; total time=   1.3s\n",
      "[CV] END bootstrap=True, max_depth=40, max_features=3, min_samples_leaf=3, min_samples_split=3, n_estimators=100; total time=   1.7s\n",
      "[CV] END bootstrap=True, max_depth=40, max_features=3, min_samples_leaf=3, min_samples_split=3, n_estimators=100; total time=   1.7s\n",
      "[CV] END bootstrap=True, max_depth=40, max_features=3, min_samples_leaf=3, min_samples_split=3, n_estimators=120; total time=   2.2s\n",
      "[CV] END bootstrap=True, max_depth=40, max_features=3, min_samples_leaf=3, min_samples_split=3, n_estimators=120; total time=   2.0s\n",
      "{'bootstrap': True, 'max_depth': 40, 'max_features': 2, 'min_samples_leaf': 3, 'min_samples_split': 3, 'n_estimators': 20}\n",
      "-9.530394460188226\n"
     ]
    }
   ],
   "source": [
    "param_grid = {\n",
    "    'bootstrap': [True],\n",
    "    'max_depth': [20, 30, 40],\n",
    "    'max_features': [2,3],\n",
    "    'min_samples_leaf': [3],\n",
    "    'min_samples_split': [2,3],\n",
    "    'n_estimators': [20,40,60,80,100,120]\n",
    "}\n",
    "\n",
    "rf = RandomForestRegressor()\n",
    "\n",
    "grid_search_final = GridSearchCV(estimator = rf, param_grid = param_grid, cv = 2, n_jobs = -1, verbose = 2).fit(features, target_final)\n",
    "best_parameters_final = grid_search_final.best_params_\n",
    "best_estimator_final = grid_search_final.best_estimator_\n",
    "cv_rfc_final = cross_val_score(best_estimator_final,features, target_final, scoring=make_scorer(smape, greater_is_better = False), cv=4)\n",
    "print(best_parameters_final)\n",
    "print(cv_rfc_final.mean())\n",
    "\n",
    "grid_search_rougher = GridSearchCV(estimator = rf, param_grid = param_grid, cv = 2, n_jobs = -1, verbose = 2).fit(features, target_rougher)\n",
    "best_parameters_rougher = grid_search_rougher.best_params_\n",
    "best_estimator_rougher = grid_search_rougher.best_estimator_\n",
    "cv_rfc_rougher = cross_val_score(best_estimator_rougher,features, target_final, scoring=make_scorer(smape, greater_is_better = False), cv=4)\n",
    "print(best_parameters_rougher)\n",
    "print(cv_rfc_rougher.mean())\n"
   ]
  },
  {
   "cell_type": "code",
   "execution_count": 29,
   "metadata": {},
   "outputs": [
    {
     "name": "stdout",
     "output_type": "stream",
     "text": [
      "-11.788432036371859\n",
      "-7.285309211956729\n"
     ]
    }
   ],
   "source": [
    "clf = linear_model.ARDRegression()\n",
    "\n",
    "clf_fin = cross_val_score(clf, features, target_final, scoring=make_scorer(smape, greater_is_better = False), cv=5) \n",
    "print(clf_fin.mean())\n",
    "\n",
    "clf_rou = cross_val_score(clf, features, target_rougher, scoring=make_scorer(smape, greater_is_better = False), cv=5) \n",
    "print(clf_rou.mean())"
   ]
  },
  {
   "cell_type": "code",
   "execution_count": 30,
   "metadata": {},
   "outputs": [],
   "source": [
    "test_features = test_model.drop(['final.output.recovery','rougher.output.recovery'], axis = 1)\n",
    "test_target_final = test_model['final.output.recovery']\n",
    "test_target_rougher = test_model['rougher.output.recovery']"
   ]
  },
  {
   "cell_type": "code",
   "execution_count": 31,
   "metadata": {
    "scrolled": true
   },
   "outputs": [
    {
     "name": "stdout",
     "output_type": "stream",
     "text": [
      "69.10248978745568\n",
      "71.23387029926104\n"
     ]
    }
   ],
   "source": [
    "cv_rfc_fin = best_estimator_final.predict(test_features)\n",
    "cv_rfc_rou = best_estimator_rougher.predict(test_features)\n",
    "\n",
    "dummy_regr = DummyRegressor(strategy=\"mean\")\n",
    "cv_dum_fin = dummy_regr.fit(features, target_final)\n",
    "cv_dum_fin = cv_dum_fin.predict(test_features)\n",
    "cv_dum_rou = dummy_regr.fit(features, target_rougher)\n",
    "cv_dum_rou = cv_dum_rou.predict(test_features)\n",
    "\n",
    "\n",
    "\n",
    "print(0.25*cv_rfc_rou.mean() +0.75*cv_rfc_fin.mean())\n",
    "print(0.25*cv_dum_rou.mean() +0.75*cv_dum_fin.mean())\n"
   ]
  },
  {
   "cell_type": "code",
   "execution_count": 39,
   "metadata": {},
   "outputs": [
    {
     "name": "stdout",
     "output_type": "stream",
     "text": [
      "11.233281428602359\n",
      "8.840992712637718\n",
      "10.635209249611197\n",
      "9.408622604727634\n"
     ]
    }
   ],
   "source": [
    "print(smape(test_target_final, cv_rfc_fin))\n",
    "print(smape(test_target_rougher, cv_rfc_rou))\n",
    "\n",
    "\n",
    "\n",
    "print(0.25*smape(test_target_rougher, cv_rfc_rou)+0.75*smape(test_target_final, cv_rfc_fin))\n",
    "print(0.25*smape(test_target_rougher, cv_dum_rou)+0.75*smape(test_target_final, cv_dum_fin))\n",
    "\n"
   ]
  },
  {
   "cell_type": "markdown",
   "metadata": {},
   "source": [
    "Вывод"
   ]
  },
  {
   "cell_type": "markdown",
   "metadata": {},
   "source": [
    "Данный проект был направлен на анализ данных по восстановлению различных минералов из исходной руды. \n",
    "\n",
    "На 1м этапе была проверенна эффективность обогащения рассчитана. Метрика считается корректно.\n",
    "Далее были проверены отсутвующие данные в тестовой выборке, посел проверки были добавлены недостоющие таргеты и удалены лишное столбцы.\n",
    "\n",
    "При проверке эффективности очистки было выявлено, что практически все этапы очистки увеличивают долю необходимого сырья. \n",
    "Также было выявлено, что сырье иммеет примерно схожий размер во всех выборках, что позволяет корректно расчитывать данные в моделях.\n",
    "\n",
    "При проверке моделей наиболее эффективной показала себя модель - RandomForestRegressor. Однако даже данная модель имеет выше вероятноть ошибки чем DummyRegressor, которая просто усредняет данные.  "
   ]
  }
 ],
 "metadata": {
  "ExecuteTimeLog": [
   {
    "duration": 363,
    "start_time": "2022-12-01T08:03:37.270Z"
   },
   {
    "duration": 61,
    "start_time": "2022-12-01T08:03:37.637Z"
   },
   {
    "duration": 2,
    "start_time": "2022-12-01T08:03:46.923Z"
   },
   {
    "duration": 48,
    "start_time": "2022-12-01T08:03:47.082Z"
   },
   {
    "duration": 12,
    "start_time": "2022-12-01T08:04:01.731Z"
   },
   {
    "duration": 42,
    "start_time": "2022-12-01T08:04:11.855Z"
   },
   {
    "duration": 12,
    "start_time": "2022-12-01T08:04:26.035Z"
   },
   {
    "duration": 3,
    "start_time": "2022-12-01T08:04:57.026Z"
   },
   {
    "duration": 2017,
    "start_time": "2022-12-01T08:04:57.197Z"
   },
   {
    "duration": 46,
    "start_time": "2022-12-01T08:07:25.851Z"
   },
   {
    "duration": 28,
    "start_time": "2022-12-01T08:08:01.509Z"
   },
   {
    "duration": 28,
    "start_time": "2022-12-01T08:09:59.532Z"
   },
   {
    "duration": 21,
    "start_time": "2022-12-01T08:13:00.110Z"
   },
   {
    "duration": 18,
    "start_time": "2022-12-01T08:13:21.669Z"
   },
   {
    "duration": 302,
    "start_time": "2022-12-01T08:14:30.430Z"
   },
   {
    "duration": 407,
    "start_time": "2022-12-01T15:58:01.038Z"
   },
   {
    "duration": 2597,
    "start_time": "2022-12-01T15:58:03.645Z"
   },
   {
    "duration": 316,
    "start_time": "2022-12-01T15:58:06.244Z"
   },
   {
    "duration": 1181,
    "start_time": "2022-12-02T03:51:45.977Z"
   },
   {
    "duration": 2021,
    "start_time": "2022-12-02T03:51:54.401Z"
   },
   {
    "duration": 328,
    "start_time": "2022-12-02T03:51:59.816Z"
   },
   {
    "duration": 80,
    "start_time": "2022-12-02T03:52:00.872Z"
   },
   {
    "duration": 111,
    "start_time": "2022-12-02T03:52:01.017Z"
   },
   {
    "duration": 9,
    "start_time": "2022-12-02T03:53:23.832Z"
   },
   {
    "duration": 12,
    "start_time": "2022-12-02T03:53:49.101Z"
   },
   {
    "duration": 9,
    "start_time": "2022-12-02T03:53:54.915Z"
   },
   {
    "duration": 23,
    "start_time": "2022-12-02T03:54:09.425Z"
   },
   {
    "duration": 6,
    "start_time": "2022-12-02T03:54:40.499Z"
   },
   {
    "duration": 17,
    "start_time": "2022-12-02T03:55:00.033Z"
   },
   {
    "duration": 29,
    "start_time": "2022-12-02T04:00:30.564Z"
   },
   {
    "duration": 329,
    "start_time": "2022-12-02T04:01:56.035Z"
   },
   {
    "duration": 3,
    "start_time": "2022-12-02T04:03:19.867Z"
   },
   {
    "duration": 806,
    "start_time": "2022-12-02T04:03:23.475Z"
   },
   {
    "duration": 406,
    "start_time": "2022-12-02T04:03:24.287Z"
   },
   {
    "duration": 7,
    "start_time": "2022-12-02T04:03:27.010Z"
   },
   {
    "duration": 19,
    "start_time": "2022-12-02T04:03:27.747Z"
   },
   {
    "duration": 12,
    "start_time": "2022-12-02T04:05:12.150Z"
   },
   {
    "duration": 13,
    "start_time": "2022-12-02T04:05:12.701Z"
   },
   {
    "duration": 4,
    "start_time": "2022-12-02T04:11:11.616Z"
   },
   {
    "duration": 988,
    "start_time": "2022-12-02T04:11:12.294Z"
   },
   {
    "duration": 667,
    "start_time": "2022-12-02T04:11:13.285Z"
   },
   {
    "duration": 9,
    "start_time": "2022-12-02T04:11:15.549Z"
   },
   {
    "duration": 10,
    "start_time": "2022-12-02T04:11:16.189Z"
   },
   {
    "duration": 44,
    "start_time": "2022-12-02T04:14:45.598Z"
   },
   {
    "duration": 4,
    "start_time": "2022-12-02T04:18:57.230Z"
   },
   {
    "duration": 8,
    "start_time": "2022-12-02T04:20:05.766Z"
   },
   {
    "duration": 9,
    "start_time": "2022-12-02T05:03:27.516Z"
   },
   {
    "duration": 9,
    "start_time": "2022-12-02T05:03:37.268Z"
   },
   {
    "duration": 8,
    "start_time": "2022-12-02T05:07:35.342Z"
   },
   {
    "duration": 8,
    "start_time": "2022-12-02T05:07:36.382Z"
   },
   {
    "duration": 10,
    "start_time": "2022-12-02T05:08:11.615Z"
   },
   {
    "duration": 10,
    "start_time": "2022-12-02T05:14:46.743Z"
   },
   {
    "duration": 11,
    "start_time": "2022-12-02T05:16:51.752Z"
   },
   {
    "duration": 12,
    "start_time": "2022-12-02T05:18:41.551Z"
   },
   {
    "duration": 5872,
    "start_time": "2022-12-02T05:19:40.120Z"
   },
   {
    "duration": 5540,
    "start_time": "2022-12-02T05:20:00.193Z"
   },
   {
    "duration": 6196,
    "start_time": "2022-12-02T05:20:23.552Z"
   },
   {
    "duration": 5877,
    "start_time": "2022-12-02T05:21:48.035Z"
   },
   {
    "duration": 1980,
    "start_time": "2022-12-02T05:21:56.401Z"
   },
   {
    "duration": 2154,
    "start_time": "2022-12-02T05:23:43.665Z"
   },
   {
    "duration": 1796,
    "start_time": "2022-12-02T05:24:30.529Z"
   },
   {
    "duration": 256,
    "start_time": "2022-12-02T12:19:51.549Z"
   },
   {
    "duration": 188,
    "start_time": "2022-12-02T12:20:10.693Z"
   },
   {
    "duration": 171,
    "start_time": "2022-12-02T12:20:25.693Z"
   },
   {
    "duration": 19,
    "start_time": "2022-12-02T12:21:08.822Z"
   },
   {
    "duration": 157,
    "start_time": "2022-12-02T12:21:35.181Z"
   },
   {
    "duration": 159,
    "start_time": "2022-12-02T12:21:46.077Z"
   },
   {
    "duration": 142,
    "start_time": "2022-12-02T12:21:52.526Z"
   },
   {
    "duration": 73,
    "start_time": "2022-12-02T12:22:04.997Z"
   },
   {
    "duration": 150,
    "start_time": "2022-12-02T12:22:07.789Z"
   },
   {
    "duration": 72,
    "start_time": "2022-12-02T12:22:21.382Z"
   },
   {
    "duration": 148,
    "start_time": "2022-12-02T12:22:25.182Z"
   },
   {
    "duration": 197,
    "start_time": "2022-12-02T12:24:20.829Z"
   },
   {
    "duration": 175,
    "start_time": "2022-12-02T12:24:28.966Z"
   },
   {
    "duration": 174,
    "start_time": "2022-12-02T12:24:37.533Z"
   },
   {
    "duration": 241,
    "start_time": "2022-12-02T12:24:41.437Z"
   },
   {
    "duration": 126,
    "start_time": "2022-12-02T12:24:45.877Z"
   },
   {
    "duration": 139,
    "start_time": "2022-12-02T12:27:48.375Z"
   },
   {
    "duration": 136,
    "start_time": "2022-12-02T12:28:05.505Z"
   },
   {
    "duration": 224,
    "start_time": "2022-12-02T12:34:23.936Z"
   },
   {
    "duration": 225,
    "start_time": "2022-12-02T12:34:55.729Z"
   },
   {
    "duration": 247,
    "start_time": "2022-12-02T12:35:22.449Z"
   },
   {
    "duration": 165,
    "start_time": "2022-12-02T12:36:30.552Z"
   },
   {
    "duration": 1136,
    "start_time": "2022-12-04T05:05:58.222Z"
   },
   {
    "duration": 2130,
    "start_time": "2022-12-04T05:05:59.973Z"
   },
   {
    "duration": 345,
    "start_time": "2022-12-04T05:06:02.105Z"
   },
   {
    "duration": 7,
    "start_time": "2022-12-04T05:06:02.452Z"
   },
   {
    "duration": 10,
    "start_time": "2022-12-04T05:06:02.461Z"
   },
   {
    "duration": 20,
    "start_time": "2022-12-04T05:06:02.472Z"
   },
   {
    "duration": 2216,
    "start_time": "2022-12-04T05:06:02.493Z"
   },
   {
    "duration": 1852,
    "start_time": "2022-12-04T05:06:04.711Z"
   },
   {
    "duration": 1915,
    "start_time": "2022-12-04T05:06:06.565Z"
   },
   {
    "duration": 181,
    "start_time": "2022-12-04T05:06:08.482Z"
   },
   {
    "duration": 138,
    "start_time": "2022-12-04T05:06:08.664Z"
   },
   {
    "duration": 1930,
    "start_time": "2022-12-04T05:19:11.056Z"
   },
   {
    "duration": 7,
    "start_time": "2022-12-04T05:20:47.770Z"
   },
   {
    "duration": 7,
    "start_time": "2022-12-04T05:22:41.978Z"
   },
   {
    "duration": 11,
    "start_time": "2022-12-04T05:24:02.473Z"
   },
   {
    "duration": 14,
    "start_time": "2022-12-04T05:25:00.746Z"
   },
   {
    "duration": 13,
    "start_time": "2022-12-04T05:25:15.843Z"
   },
   {
    "duration": 10,
    "start_time": "2022-12-04T05:28:04.170Z"
   },
   {
    "duration": 10,
    "start_time": "2022-12-04T05:28:04.459Z"
   },
   {
    "duration": 20,
    "start_time": "2022-12-04T05:28:04.763Z"
   },
   {
    "duration": 20,
    "start_time": "2022-12-04T05:28:04.970Z"
   },
   {
    "duration": 20,
    "start_time": "2022-12-04T05:28:05.147Z"
   },
   {
    "duration": 20,
    "start_time": "2022-12-04T05:28:05.330Z"
   },
   {
    "duration": 19,
    "start_time": "2022-12-04T05:28:05.491Z"
   },
   {
    "duration": 21,
    "start_time": "2022-12-04T05:28:05.691Z"
   },
   {
    "duration": 10,
    "start_time": "2022-12-04T05:29:33.180Z"
   },
   {
    "duration": 11,
    "start_time": "2022-12-04T05:29:34.747Z"
   },
   {
    "duration": 9,
    "start_time": "2022-12-04T05:29:40.971Z"
   },
   {
    "duration": 10,
    "start_time": "2022-12-04T05:29:42.795Z"
   },
   {
    "duration": 10,
    "start_time": "2022-12-04T05:29:44.923Z"
   },
   {
    "duration": 11,
    "start_time": "2022-12-04T05:29:45.731Z"
   },
   {
    "duration": 10,
    "start_time": "2022-12-04T05:29:46.612Z"
   },
   {
    "duration": 10,
    "start_time": "2022-12-04T05:29:47.843Z"
   },
   {
    "duration": 18,
    "start_time": "2022-12-04T05:46:14.014Z"
   },
   {
    "duration": 128,
    "start_time": "2022-12-04T05:57:32.889Z"
   },
   {
    "duration": 30,
    "start_time": "2022-12-04T05:58:09.154Z"
   },
   {
    "duration": 3,
    "start_time": "2022-12-04T05:58:21.826Z"
   },
   {
    "duration": 846,
    "start_time": "2022-12-04T05:58:21.977Z"
   },
   {
    "duration": 370,
    "start_time": "2022-12-04T05:58:22.826Z"
   },
   {
    "duration": 6,
    "start_time": "2022-12-04T05:58:23.198Z"
   },
   {
    "duration": 17,
    "start_time": "2022-12-04T05:58:23.206Z"
   },
   {
    "duration": 27,
    "start_time": "2022-12-04T05:58:23.225Z"
   },
   {
    "duration": 1897,
    "start_time": "2022-12-04T05:58:23.672Z"
   },
   {
    "duration": 2069,
    "start_time": "2022-12-04T05:58:25.572Z"
   },
   {
    "duration": 2264,
    "start_time": "2022-12-04T05:58:27.650Z"
   },
   {
    "duration": 200,
    "start_time": "2022-12-04T05:58:29.917Z"
   },
   {
    "duration": 163,
    "start_time": "2022-12-04T05:58:30.118Z"
   },
   {
    "duration": 102,
    "start_time": "2022-12-04T05:58:30.284Z"
   },
   {
    "duration": 0,
    "start_time": "2022-12-04T05:58:30.388Z"
   },
   {
    "duration": 0,
    "start_time": "2022-12-04T05:58:30.390Z"
   },
   {
    "duration": 0,
    "start_time": "2022-12-04T05:58:30.392Z"
   },
   {
    "duration": 0,
    "start_time": "2022-12-04T05:58:30.394Z"
   },
   {
    "duration": 0,
    "start_time": "2022-12-04T05:58:30.396Z"
   },
   {
    "duration": 0,
    "start_time": "2022-12-04T05:58:30.397Z"
   },
   {
    "duration": 0,
    "start_time": "2022-12-04T05:58:30.399Z"
   },
   {
    "duration": 0,
    "start_time": "2022-12-04T05:58:30.400Z"
   },
   {
    "duration": 0,
    "start_time": "2022-12-04T05:58:30.402Z"
   },
   {
    "duration": 12,
    "start_time": "2022-12-04T05:58:56.297Z"
   },
   {
    "duration": 11,
    "start_time": "2022-12-04T05:58:56.977Z"
   },
   {
    "duration": 11,
    "start_time": "2022-12-04T05:58:57.153Z"
   },
   {
    "duration": 10,
    "start_time": "2022-12-04T05:58:57.322Z"
   },
   {
    "duration": 11,
    "start_time": "2022-12-04T05:58:57.481Z"
   },
   {
    "duration": 12,
    "start_time": "2022-12-04T05:58:57.648Z"
   },
   {
    "duration": 12,
    "start_time": "2022-12-04T05:58:57.826Z"
   },
   {
    "duration": 11,
    "start_time": "2022-12-04T05:58:58.004Z"
   },
   {
    "duration": 25,
    "start_time": "2022-12-04T05:58:58.369Z"
   },
   {
    "duration": 16,
    "start_time": "2022-12-04T05:59:15.353Z"
   },
   {
    "duration": 3,
    "start_time": "2022-12-04T05:59:54.370Z"
   },
   {
    "duration": 685,
    "start_time": "2022-12-04T05:59:54.761Z"
   },
   {
    "duration": 339,
    "start_time": "2022-12-04T05:59:55.448Z"
   },
   {
    "duration": 6,
    "start_time": "2022-12-04T05:59:55.790Z"
   },
   {
    "duration": 8,
    "start_time": "2022-12-04T05:59:55.854Z"
   },
   {
    "duration": 6,
    "start_time": "2022-12-04T05:59:56.036Z"
   },
   {
    "duration": 1751,
    "start_time": "2022-12-04T05:59:56.562Z"
   },
   {
    "duration": 2168,
    "start_time": "2022-12-04T05:59:58.315Z"
   },
   {
    "duration": 2090,
    "start_time": "2022-12-04T06:00:00.485Z"
   },
   {
    "duration": 196,
    "start_time": "2022-12-04T06:00:02.578Z"
   },
   {
    "duration": 151,
    "start_time": "2022-12-04T06:00:02.775Z"
   },
   {
    "duration": 22,
    "start_time": "2022-12-04T06:00:02.928Z"
   },
   {
    "duration": 21,
    "start_time": "2022-12-04T06:00:02.952Z"
   },
   {
    "duration": 12,
    "start_time": "2022-12-04T06:00:02.974Z"
   },
   {
    "duration": 10,
    "start_time": "2022-12-04T06:00:02.988Z"
   },
   {
    "duration": 10,
    "start_time": "2022-12-04T06:00:03.000Z"
   },
   {
    "duration": 25,
    "start_time": "2022-12-04T06:00:03.011Z"
   },
   {
    "duration": 10,
    "start_time": "2022-12-04T06:00:03.052Z"
   },
   {
    "duration": 9,
    "start_time": "2022-12-04T06:00:03.064Z"
   },
   {
    "duration": 11,
    "start_time": "2022-12-04T06:00:03.074Z"
   },
   {
    "duration": 10,
    "start_time": "2022-12-04T06:03:28.580Z"
   },
   {
    "duration": 27,
    "start_time": "2022-12-04T06:09:39.388Z"
   },
   {
    "duration": 774,
    "start_time": "2022-12-04T06:09:39.707Z"
   },
   {
    "duration": 367,
    "start_time": "2022-12-04T06:09:40.483Z"
   },
   {
    "duration": 6,
    "start_time": "2022-12-04T06:09:40.853Z"
   },
   {
    "duration": 13,
    "start_time": "2022-12-04T06:09:40.860Z"
   },
   {
    "duration": 7,
    "start_time": "2022-12-04T06:09:40.875Z"
   },
   {
    "duration": 2007,
    "start_time": "2022-12-04T06:09:41.380Z"
   },
   {
    "duration": 1914,
    "start_time": "2022-12-04T06:09:43.389Z"
   },
   {
    "duration": 2024,
    "start_time": "2022-12-04T06:09:45.304Z"
   },
   {
    "duration": 187,
    "start_time": "2022-12-04T06:09:47.331Z"
   },
   {
    "duration": 159,
    "start_time": "2022-12-04T06:09:47.519Z"
   },
   {
    "duration": 12,
    "start_time": "2022-12-04T06:09:47.679Z"
   },
   {
    "duration": 13,
    "start_time": "2022-12-04T06:09:47.694Z"
   },
   {
    "duration": 10,
    "start_time": "2022-12-04T06:09:47.709Z"
   },
   {
    "duration": 40,
    "start_time": "2022-12-04T06:09:47.720Z"
   },
   {
    "duration": 10,
    "start_time": "2022-12-04T06:09:47.763Z"
   },
   {
    "duration": 12,
    "start_time": "2022-12-04T06:09:47.775Z"
   },
   {
    "duration": 11,
    "start_time": "2022-12-04T06:09:47.789Z"
   },
   {
    "duration": 10,
    "start_time": "2022-12-04T06:09:47.801Z"
   },
   {
    "duration": 121,
    "start_time": "2022-12-04T06:09:47.812Z"
   },
   {
    "duration": 29,
    "start_time": "2022-12-04T06:10:45.255Z"
   },
   {
    "duration": 59,
    "start_time": "2022-12-04T06:19:29.927Z"
   },
   {
    "duration": 151,
    "start_time": "2022-12-04T06:26:22.521Z"
   },
   {
    "duration": 313,
    "start_time": "2022-12-04T06:26:36.656Z"
   },
   {
    "duration": 316,
    "start_time": "2022-12-04T06:26:50.465Z"
   },
   {
    "duration": 1309,
    "start_time": "2022-12-04T06:40:17.843Z"
   },
   {
    "duration": 36,
    "start_time": "2022-12-04T06:40:35.548Z"
   },
   {
    "duration": 4,
    "start_time": "2022-12-04T06:40:55.307Z"
   },
   {
    "duration": 685,
    "start_time": "2022-12-04T06:40:55.475Z"
   },
   {
    "duration": 354,
    "start_time": "2022-12-04T06:40:56.162Z"
   },
   {
    "duration": 47,
    "start_time": "2022-12-04T06:40:56.518Z"
   },
   {
    "duration": 5,
    "start_time": "2022-12-04T06:40:56.571Z"
   },
   {
    "duration": 8,
    "start_time": "2022-12-04T06:40:56.708Z"
   },
   {
    "duration": 5,
    "start_time": "2022-12-04T06:40:56.900Z"
   },
   {
    "duration": 1835,
    "start_time": "2022-12-04T06:40:57.451Z"
   },
   {
    "duration": 2010,
    "start_time": "2022-12-04T06:40:59.287Z"
   },
   {
    "duration": 2031,
    "start_time": "2022-12-04T06:41:01.299Z"
   },
   {
    "duration": 207,
    "start_time": "2022-12-04T06:41:03.333Z"
   },
   {
    "duration": 160,
    "start_time": "2022-12-04T06:41:03.542Z"
   },
   {
    "duration": 10,
    "start_time": "2022-12-04T06:41:03.704Z"
   },
   {
    "duration": 9,
    "start_time": "2022-12-04T06:41:03.715Z"
   },
   {
    "duration": 30,
    "start_time": "2022-12-04T06:41:03.726Z"
   },
   {
    "duration": 9,
    "start_time": "2022-12-04T06:41:03.758Z"
   },
   {
    "duration": 9,
    "start_time": "2022-12-04T06:41:03.770Z"
   },
   {
    "duration": 9,
    "start_time": "2022-12-04T06:41:03.781Z"
   },
   {
    "duration": 10,
    "start_time": "2022-12-04T06:41:03.791Z"
   },
   {
    "duration": 48,
    "start_time": "2022-12-04T06:41:03.803Z"
   },
   {
    "duration": 63,
    "start_time": "2022-12-04T06:41:03.854Z"
   },
   {
    "duration": 9,
    "start_time": "2022-12-04T06:42:04.516Z"
   },
   {
    "duration": 33,
    "start_time": "2022-12-04T06:42:05.206Z"
   },
   {
    "duration": 13,
    "start_time": "2022-12-04T06:42:35.740Z"
   },
   {
    "duration": 16,
    "start_time": "2022-12-04T06:42:46.339Z"
   },
   {
    "duration": 15,
    "start_time": "2022-12-04T06:43:46.484Z"
   },
   {
    "duration": 16,
    "start_time": "2022-12-04T06:44:21.487Z"
   },
   {
    "duration": 5,
    "start_time": "2022-12-04T06:44:38.460Z"
   },
   {
    "duration": 712,
    "start_time": "2022-12-04T06:44:38.628Z"
   },
   {
    "duration": 445,
    "start_time": "2022-12-04T06:44:39.342Z"
   },
   {
    "duration": 62,
    "start_time": "2022-12-04T06:44:39.789Z"
   },
   {
    "duration": 7,
    "start_time": "2022-12-04T06:44:39.854Z"
   },
   {
    "duration": 14,
    "start_time": "2022-12-04T06:44:39.864Z"
   },
   {
    "duration": 6,
    "start_time": "2022-12-04T06:44:39.965Z"
   },
   {
    "duration": 2034,
    "start_time": "2022-12-04T06:44:40.508Z"
   },
   {
    "duration": 2098,
    "start_time": "2022-12-04T06:44:42.545Z"
   },
   {
    "duration": 2050,
    "start_time": "2022-12-04T06:44:44.645Z"
   },
   {
    "duration": 200,
    "start_time": "2022-12-04T06:44:46.697Z"
   },
   {
    "duration": 171,
    "start_time": "2022-12-04T06:44:46.900Z"
   },
   {
    "duration": 12,
    "start_time": "2022-12-04T06:44:47.074Z"
   },
   {
    "duration": 23,
    "start_time": "2022-12-04T06:44:47.088Z"
   },
   {
    "duration": 15,
    "start_time": "2022-12-04T06:44:47.113Z"
   },
   {
    "duration": 11,
    "start_time": "2022-12-04T06:44:47.151Z"
   },
   {
    "duration": 15,
    "start_time": "2022-12-04T06:44:47.164Z"
   },
   {
    "duration": 22,
    "start_time": "2022-12-04T06:44:47.181Z"
   },
   {
    "duration": 13,
    "start_time": "2022-12-04T06:44:47.205Z"
   },
   {
    "duration": 13,
    "start_time": "2022-12-04T06:44:47.251Z"
   },
   {
    "duration": 21,
    "start_time": "2022-12-04T06:44:47.267Z"
   },
   {
    "duration": 88,
    "start_time": "2022-12-04T06:44:47.290Z"
   },
   {
    "duration": 4,
    "start_time": "2022-12-04T06:45:17.743Z"
   },
   {
    "duration": 691,
    "start_time": "2022-12-04T06:45:17.892Z"
   },
   {
    "duration": 356,
    "start_time": "2022-12-04T06:45:18.585Z"
   },
   {
    "duration": 42,
    "start_time": "2022-12-04T06:45:18.942Z"
   },
   {
    "duration": 7,
    "start_time": "2022-12-04T06:45:18.986Z"
   },
   {
    "duration": 12,
    "start_time": "2022-12-04T06:45:19.151Z"
   },
   {
    "duration": 6,
    "start_time": "2022-12-04T06:45:19.316Z"
   },
   {
    "duration": 2054,
    "start_time": "2022-12-04T06:45:19.868Z"
   },
   {
    "duration": 2007,
    "start_time": "2022-12-04T06:45:21.924Z"
   },
   {
    "duration": 2006,
    "start_time": "2022-12-04T06:45:23.933Z"
   },
   {
    "duration": 190,
    "start_time": "2022-12-04T06:45:25.942Z"
   },
   {
    "duration": 170,
    "start_time": "2022-12-04T06:45:26.134Z"
   },
   {
    "duration": 13,
    "start_time": "2022-12-04T06:45:26.306Z"
   },
   {
    "duration": 12,
    "start_time": "2022-12-04T06:45:26.320Z"
   },
   {
    "duration": 11,
    "start_time": "2022-12-04T06:45:26.352Z"
   },
   {
    "duration": 10,
    "start_time": "2022-12-04T06:45:26.364Z"
   },
   {
    "duration": 12,
    "start_time": "2022-12-04T06:45:26.377Z"
   },
   {
    "duration": 10,
    "start_time": "2022-12-04T06:45:26.391Z"
   },
   {
    "duration": 49,
    "start_time": "2022-12-04T06:45:26.402Z"
   },
   {
    "duration": 11,
    "start_time": "2022-12-04T06:45:26.453Z"
   },
   {
    "duration": 20,
    "start_time": "2022-12-04T06:45:26.466Z"
   },
   {
    "duration": 566,
    "start_time": "2022-12-04T06:45:26.488Z"
   },
   {
    "duration": 6,
    "start_time": "2022-12-04T06:50:57.143Z"
   },
   {
    "duration": 6,
    "start_time": "2022-12-04T06:51:00.085Z"
   },
   {
    "duration": 1867,
    "start_time": "2022-12-04T06:52:17.519Z"
   },
   {
    "duration": 2059,
    "start_time": "2022-12-04T06:52:39.190Z"
   },
   {
    "duration": 1683,
    "start_time": "2022-12-04T06:53:22.861Z"
   },
   {
    "duration": 13,
    "start_time": "2022-12-04T06:54:33.422Z"
   },
   {
    "duration": 13,
    "start_time": "2022-12-04T06:55:15.672Z"
   },
   {
    "duration": 14,
    "start_time": "2022-12-04T06:55:56.230Z"
   },
   {
    "duration": 13,
    "start_time": "2022-12-04T06:57:40.365Z"
   },
   {
    "duration": 12,
    "start_time": "2022-12-04T06:57:41.655Z"
   },
   {
    "duration": 14,
    "start_time": "2022-12-04T06:57:42.606Z"
   },
   {
    "duration": 6,
    "start_time": "2022-12-04T07:05:28.967Z"
   },
   {
    "duration": 5,
    "start_time": "2022-12-04T07:08:59.752Z"
   },
   {
    "duration": 701,
    "start_time": "2022-12-04T07:09:00.088Z"
   },
   {
    "duration": 355,
    "start_time": "2022-12-04T07:09:00.792Z"
   },
   {
    "duration": 50,
    "start_time": "2022-12-04T07:09:01.151Z"
   },
   {
    "duration": 7,
    "start_time": "2022-12-04T07:09:01.408Z"
   },
   {
    "duration": 9,
    "start_time": "2022-12-04T07:09:01.586Z"
   },
   {
    "duration": 6,
    "start_time": "2022-12-04T07:09:01.928Z"
   },
   {
    "duration": 80,
    "start_time": "2022-12-04T07:09:02.448Z"
   },
   {
    "duration": 12,
    "start_time": "2022-12-04T07:09:02.623Z"
   },
   {
    "duration": 14,
    "start_time": "2022-12-04T07:09:03.152Z"
   },
   {
    "duration": 14,
    "start_time": "2022-12-04T07:09:03.506Z"
   },
   {
    "duration": 349,
    "start_time": "2022-12-04T07:09:04.049Z"
   },
   {
    "duration": 168,
    "start_time": "2022-12-04T07:09:04.419Z"
   },
   {
    "duration": 11,
    "start_time": "2022-12-04T07:09:04.992Z"
   },
   {
    "duration": 14,
    "start_time": "2022-12-04T07:09:05.376Z"
   },
   {
    "duration": 15,
    "start_time": "2022-12-04T07:09:05.911Z"
   },
   {
    "duration": 13,
    "start_time": "2022-12-04T07:09:05.929Z"
   },
   {
    "duration": 6,
    "start_time": "2022-12-04T07:09:06.110Z"
   },
   {
    "duration": 23,
    "start_time": "2022-12-04T07:09:06.840Z"
   },
   {
    "duration": 69,
    "start_time": "2022-12-04T07:09:07.023Z"
   },
   {
    "duration": 13,
    "start_time": "2022-12-04T07:09:07.215Z"
   },
   {
    "duration": 662,
    "start_time": "2022-12-04T07:09:07.592Z"
   },
   {
    "duration": 3,
    "start_time": "2022-12-04T07:09:38.024Z"
   },
   {
    "duration": 777,
    "start_time": "2022-12-04T07:09:38.319Z"
   },
   {
    "duration": 388,
    "start_time": "2022-12-04T07:09:39.100Z"
   },
   {
    "duration": 62,
    "start_time": "2022-12-04T07:09:39.489Z"
   },
   {
    "duration": 8,
    "start_time": "2022-12-04T07:09:39.797Z"
   },
   {
    "duration": 13,
    "start_time": "2022-12-04T07:09:39.977Z"
   },
   {
    "duration": 8,
    "start_time": "2022-12-04T07:09:40.344Z"
   },
   {
    "duration": 15,
    "start_time": "2022-12-04T07:09:41.072Z"
   },
   {
    "duration": 14,
    "start_time": "2022-12-04T07:09:41.488Z"
   },
   {
    "duration": 15,
    "start_time": "2022-12-04T07:09:41.824Z"
   },
   {
    "duration": 239,
    "start_time": "2022-12-04T07:09:42.392Z"
   },
   {
    "duration": 180,
    "start_time": "2022-12-04T07:09:42.752Z"
   },
   {
    "duration": 14,
    "start_time": "2022-12-04T07:09:43.319Z"
   },
   {
    "duration": 13,
    "start_time": "2022-12-04T07:09:43.695Z"
   },
   {
    "duration": 14,
    "start_time": "2022-12-04T07:09:44.072Z"
   },
   {
    "duration": 15,
    "start_time": "2022-12-04T07:09:44.256Z"
   },
   {
    "duration": 6,
    "start_time": "2022-12-04T07:09:44.440Z"
   },
   {
    "duration": 23,
    "start_time": "2022-12-04T07:09:45.202Z"
   },
   {
    "duration": 12,
    "start_time": "2022-12-04T07:09:45.583Z"
   },
   {
    "duration": 793,
    "start_time": "2022-12-04T07:09:46.065Z"
   },
   {
    "duration": 1099,
    "start_time": "2022-12-05T05:04:58.455Z"
   },
   {
    "duration": 2002,
    "start_time": "2022-12-05T05:05:00.173Z"
   },
   {
    "duration": 306,
    "start_time": "2022-12-05T05:05:02.177Z"
   },
   {
    "duration": 3,
    "start_time": "2022-12-05T05:05:38.261Z"
   },
   {
    "duration": 652,
    "start_time": "2022-12-05T05:05:38.749Z"
   },
   {
    "duration": 291,
    "start_time": "2022-12-05T05:05:39.630Z"
   },
   {
    "duration": 29,
    "start_time": "2022-12-05T05:05:41.389Z"
   },
   {
    "duration": 6,
    "start_time": "2022-12-05T05:05:44.863Z"
   },
   {
    "duration": 7,
    "start_time": "2022-12-05T05:05:45.836Z"
   },
   {
    "duration": 93,
    "start_time": "2022-12-05T05:08:40.742Z"
   },
   {
    "duration": 9,
    "start_time": "2022-12-05T05:08:49.413Z"
   },
   {
    "duration": 17,
    "start_time": "2022-12-05T05:09:33.277Z"
   },
   {
    "duration": 12,
    "start_time": "2022-12-05T05:10:31.829Z"
   },
   {
    "duration": 574,
    "start_time": "2022-12-05T05:11:16.093Z"
   },
   {
    "duration": 105,
    "start_time": "2022-12-05T05:14:45.723Z"
   },
   {
    "duration": 1226,
    "start_time": "2022-12-05T05:14:49.181Z"
   },
   {
    "duration": 91,
    "start_time": "2022-12-05T05:15:06.110Z"
   },
   {
    "duration": 102,
    "start_time": "2022-12-05T05:15:45.150Z"
   },
   {
    "duration": 101,
    "start_time": "2022-12-05T05:16:01.646Z"
   },
   {
    "duration": 101,
    "start_time": "2022-12-05T05:16:02.477Z"
   },
   {
    "duration": 167,
    "start_time": "2022-12-05T05:16:03.341Z"
   },
   {
    "duration": 148,
    "start_time": "2022-12-05T05:19:41.718Z"
   },
   {
    "duration": 138,
    "start_time": "2022-12-05T05:20:07.551Z"
   },
   {
    "duration": 154,
    "start_time": "2022-12-05T05:20:19.078Z"
   },
   {
    "duration": 127,
    "start_time": "2022-12-05T05:20:28.358Z"
   },
   {
    "duration": 137,
    "start_time": "2022-12-05T05:20:32.574Z"
   },
   {
    "duration": 154,
    "start_time": "2022-12-05T05:20:36.366Z"
   },
   {
    "duration": 84,
    "start_time": "2022-12-05T05:57:21.788Z"
   },
   {
    "duration": 890,
    "start_time": "2022-12-05T05:57:31.053Z"
   },
   {
    "duration": 16,
    "start_time": "2022-12-05T05:57:59.404Z"
   },
   {
    "duration": 142,
    "start_time": "2022-12-05T05:58:42.116Z"
   },
   {
    "duration": 149,
    "start_time": "2022-12-05T06:45:04.859Z"
   },
   {
    "duration": 144,
    "start_time": "2022-12-05T06:45:39.155Z"
   },
   {
    "duration": 133,
    "start_time": "2022-12-05T06:46:21.688Z"
   },
   {
    "duration": 212,
    "start_time": "2022-12-05T06:46:22.032Z"
   },
   {
    "duration": 135,
    "start_time": "2022-12-05T06:46:22.375Z"
   },
   {
    "duration": 134,
    "start_time": "2022-12-05T06:46:22.553Z"
   },
   {
    "duration": 5,
    "start_time": "2022-12-05T06:46:22.735Z"
   },
   {
    "duration": 100,
    "start_time": "2022-12-05T06:54:08.721Z"
   },
   {
    "duration": 19,
    "start_time": "2022-12-05T06:54:19.634Z"
   },
   {
    "duration": 1158,
    "start_time": "2022-12-05T06:54:35.403Z"
   },
   {
    "duration": 14,
    "start_time": "2022-12-05T06:55:02.896Z"
   },
   {
    "duration": 45,
    "start_time": "2022-12-05T06:56:28.578Z"
   },
   {
    "duration": 1177,
    "start_time": "2022-12-05T07:12:14.159Z"
   },
   {
    "duration": 5,
    "start_time": "2022-12-05T07:27:30.370Z"
   },
   {
    "duration": 12,
    "start_time": "2022-12-05T07:27:41.409Z"
   },
   {
    "duration": 13,
    "start_time": "2022-12-05T07:28:00.345Z"
   },
   {
    "duration": 14,
    "start_time": "2022-12-05T07:30:59.860Z"
   },
   {
    "duration": 14,
    "start_time": "2022-12-05T15:53:16.796Z"
   },
   {
    "duration": 20,
    "start_time": "2022-12-05T15:53:48.098Z"
   },
   {
    "duration": 1019,
    "start_time": "2022-12-05T15:53:56.504Z"
   },
   {
    "duration": 2003,
    "start_time": "2022-12-05T15:53:57.525Z"
   },
   {
    "duration": 325,
    "start_time": "2022-12-05T15:53:59.530Z"
   },
   {
    "duration": 38,
    "start_time": "2022-12-05T15:53:59.857Z"
   },
   {
    "duration": 7,
    "start_time": "2022-12-05T15:53:59.896Z"
   },
   {
    "duration": 8,
    "start_time": "2022-12-05T15:53:59.904Z"
   },
   {
    "duration": 6,
    "start_time": "2022-12-05T15:53:59.914Z"
   },
   {
    "duration": 523,
    "start_time": "2022-12-05T15:54:00.455Z"
   },
   {
    "duration": 111,
    "start_time": "2022-12-05T15:54:00.981Z"
   },
   {
    "duration": 110,
    "start_time": "2022-12-05T15:54:01.222Z"
   },
   {
    "duration": 137,
    "start_time": "2022-12-05T15:54:02.199Z"
   },
   {
    "duration": 122,
    "start_time": "2022-12-05T15:54:02.782Z"
   },
   {
    "duration": 227,
    "start_time": "2022-12-05T15:54:03.767Z"
   },
   {
    "duration": 134,
    "start_time": "2022-12-05T15:54:04.207Z"
   },
   {
    "duration": 125,
    "start_time": "2022-12-05T15:54:04.580Z"
   },
   {
    "duration": 123,
    "start_time": "2022-12-05T15:54:04.767Z"
   },
   {
    "duration": 4,
    "start_time": "2022-12-05T15:54:05.019Z"
   },
   {
    "duration": 84,
    "start_time": "2022-12-05T15:54:05.792Z"
   },
   {
    "duration": 177,
    "start_time": "2022-12-05T15:57:10.729Z"
   },
   {
    "duration": 167,
    "start_time": "2022-12-05T15:57:44.857Z"
   },
   {
    "duration": 161,
    "start_time": "2022-12-05T15:58:10.041Z"
   },
   {
    "duration": 168,
    "start_time": "2022-12-05T15:58:49.684Z"
   },
   {
    "duration": 195,
    "start_time": "2022-12-05T15:59:17.369Z"
   },
   {
    "duration": 14,
    "start_time": "2022-12-05T16:01:50.714Z"
   },
   {
    "duration": 8,
    "start_time": "2022-12-05T16:01:58.571Z"
   },
   {
    "duration": 9,
    "start_time": "2022-12-05T16:05:27.299Z"
   },
   {
    "duration": 14,
    "start_time": "2022-12-05T16:05:52.499Z"
   },
   {
    "duration": 7,
    "start_time": "2022-12-05T16:06:00.132Z"
   },
   {
    "duration": 7,
    "start_time": "2022-12-05T16:07:18.420Z"
   },
   {
    "duration": 8,
    "start_time": "2022-12-05T16:07:27.612Z"
   },
   {
    "duration": 10,
    "start_time": "2022-12-05T16:07:35.182Z"
   },
   {
    "duration": 16,
    "start_time": "2022-12-05T16:07:49.236Z"
   },
   {
    "duration": 7,
    "start_time": "2022-12-05T16:11:21.743Z"
   },
   {
    "duration": 4,
    "start_time": "2022-12-05T16:11:31.077Z"
   },
   {
    "duration": 13,
    "start_time": "2022-12-05T16:14:21.422Z"
   },
   {
    "duration": 8,
    "start_time": "2022-12-05T16:14:32.669Z"
   },
   {
    "duration": 10,
    "start_time": "2022-12-05T16:15:17.240Z"
   },
   {
    "duration": 97,
    "start_time": "2022-12-05T16:15:31.139Z"
   },
   {
    "duration": 14,
    "start_time": "2022-12-05T16:15:38.853Z"
   },
   {
    "duration": 5,
    "start_time": "2022-12-05T16:15:54.198Z"
   },
   {
    "duration": 11,
    "start_time": "2022-12-05T16:16:03.339Z"
   },
   {
    "duration": 12,
    "start_time": "2022-12-05T16:16:13.886Z"
   },
   {
    "duration": 5,
    "start_time": "2022-12-05T16:16:28.590Z"
   },
   {
    "duration": 5,
    "start_time": "2022-12-05T16:16:36.806Z"
   },
   {
    "duration": 6,
    "start_time": "2022-12-05T16:18:07.886Z"
   },
   {
    "duration": 9,
    "start_time": "2022-12-05T16:18:20.945Z"
   },
   {
    "duration": 15,
    "start_time": "2022-12-05T16:20:26.959Z"
   },
   {
    "duration": 13,
    "start_time": "2022-12-05T16:21:30.879Z"
   },
   {
    "duration": 5,
    "start_time": "2022-12-05T16:21:48.352Z"
   },
   {
    "duration": 14,
    "start_time": "2022-12-05T16:22:00.807Z"
   },
   {
    "duration": 136,
    "start_time": "2022-12-05T16:22:11.144Z"
   },
   {
    "duration": 6,
    "start_time": "2022-12-05T16:23:14.399Z"
   },
   {
    "duration": 5,
    "start_time": "2022-12-05T16:25:14.873Z"
   },
   {
    "duration": 5,
    "start_time": "2022-12-05T16:26:02.464Z"
   },
   {
    "duration": 6,
    "start_time": "2022-12-05T16:26:52.364Z"
   },
   {
    "duration": 21,
    "start_time": "2022-12-05T16:30:15.810Z"
   },
   {
    "duration": 20,
    "start_time": "2022-12-05T16:30:53.506Z"
   },
   {
    "duration": 21,
    "start_time": "2022-12-05T16:30:59.977Z"
   },
   {
    "duration": 19,
    "start_time": "2022-12-05T16:31:13.305Z"
   },
   {
    "duration": 19,
    "start_time": "2022-12-05T16:31:22.297Z"
   },
   {
    "duration": 19,
    "start_time": "2022-12-05T16:34:28.770Z"
   },
   {
    "duration": 590,
    "start_time": "2022-12-05T16:36:02.362Z"
   },
   {
    "duration": 19,
    "start_time": "2022-12-05T16:36:08.666Z"
   },
   {
    "duration": 18,
    "start_time": "2022-12-05T16:36:13.482Z"
   },
   {
    "duration": 19,
    "start_time": "2022-12-05T16:37:57.636Z"
   },
   {
    "duration": 12,
    "start_time": "2022-12-05T16:38:16.354Z"
   },
   {
    "duration": 10,
    "start_time": "2022-12-05T16:38:25.539Z"
   },
   {
    "duration": 21,
    "start_time": "2022-12-05T16:38:31.570Z"
   },
   {
    "duration": 32,
    "start_time": "2022-12-05T16:38:53.916Z"
   },
   {
    "duration": 17,
    "start_time": "2022-12-05T16:39:27.203Z"
   },
   {
    "duration": 17,
    "start_time": "2022-12-05T16:39:36.038Z"
   },
   {
    "duration": 11,
    "start_time": "2022-12-05T16:40:03.602Z"
   },
   {
    "duration": 12,
    "start_time": "2022-12-05T16:40:10.202Z"
   },
   {
    "duration": 10,
    "start_time": "2022-12-05T16:40:20.052Z"
   },
   {
    "duration": 21,
    "start_time": "2022-12-05T16:40:45.474Z"
   },
   {
    "duration": 23,
    "start_time": "2022-12-05T16:40:55.419Z"
   },
   {
    "duration": 1132,
    "start_time": "2022-12-05T16:41:06.410Z"
   },
   {
    "duration": 10,
    "start_time": "2022-12-05T16:41:16.795Z"
   },
   {
    "duration": 18,
    "start_time": "2022-12-05T16:41:35.291Z"
   },
   {
    "duration": 18,
    "start_time": "2022-12-05T16:41:46.410Z"
   },
   {
    "duration": 23,
    "start_time": "2022-12-05T16:42:03.908Z"
   },
   {
    "duration": 21,
    "start_time": "2022-12-05T16:42:14.986Z"
   },
   {
    "duration": 17,
    "start_time": "2022-12-05T16:42:21.658Z"
   },
   {
    "duration": 19,
    "start_time": "2022-12-05T16:42:30.419Z"
   },
   {
    "duration": 18,
    "start_time": "2022-12-05T16:42:39.115Z"
   },
   {
    "duration": 21,
    "start_time": "2022-12-05T16:42:45.639Z"
   },
   {
    "duration": 18,
    "start_time": "2022-12-05T16:42:51.698Z"
   },
   {
    "duration": 17,
    "start_time": "2022-12-05T16:42:59.643Z"
   },
   {
    "duration": 17,
    "start_time": "2022-12-05T16:43:08.406Z"
   },
   {
    "duration": 18,
    "start_time": "2022-12-05T16:43:12.346Z"
   },
   {
    "duration": 22,
    "start_time": "2022-12-05T16:43:16.339Z"
   },
   {
    "duration": 17,
    "start_time": "2022-12-05T16:43:19.699Z"
   },
   {
    "duration": 19,
    "start_time": "2022-12-05T16:43:25.651Z"
   },
   {
    "duration": 24,
    "start_time": "2022-12-05T16:43:35.707Z"
   },
   {
    "duration": 17,
    "start_time": "2022-12-05T16:43:43.841Z"
   },
   {
    "duration": 16,
    "start_time": "2022-12-05T16:43:54.219Z"
   },
   {
    "duration": 17,
    "start_time": "2022-12-05T16:47:33.684Z"
   },
   {
    "duration": 19,
    "start_time": "2022-12-05T16:47:40.532Z"
   },
   {
    "duration": 18,
    "start_time": "2022-12-05T16:47:44.275Z"
   },
   {
    "duration": 22,
    "start_time": "2022-12-05T16:47:48.452Z"
   },
   {
    "duration": 19,
    "start_time": "2022-12-05T16:47:51.635Z"
   },
   {
    "duration": 18,
    "start_time": "2022-12-05T16:47:54.429Z"
   },
   {
    "duration": 17,
    "start_time": "2022-12-05T16:47:59.395Z"
   },
   {
    "duration": 17,
    "start_time": "2022-12-05T16:48:03.587Z"
   },
   {
    "duration": 17,
    "start_time": "2022-12-05T16:48:09.516Z"
   },
   {
    "duration": 17,
    "start_time": "2022-12-05T16:48:13.436Z"
   },
   {
    "duration": 20,
    "start_time": "2022-12-05T16:48:15.844Z"
   },
   {
    "duration": 17,
    "start_time": "2022-12-05T16:48:22.316Z"
   },
   {
    "duration": 17,
    "start_time": "2022-12-05T16:52:53.365Z"
   },
   {
    "duration": 68,
    "start_time": "2022-12-05T16:54:39.342Z"
   },
   {
    "duration": 1141,
    "start_time": "2022-12-05T16:54:44.070Z"
   },
   {
    "duration": 1089,
    "start_time": "2022-12-05T16:54:54.549Z"
   },
   {
    "duration": 1175,
    "start_time": "2022-12-05T16:55:32.526Z"
   },
   {
    "duration": 1141,
    "start_time": "2022-12-05T16:55:59.398Z"
   },
   {
    "duration": 21,
    "start_time": "2022-12-05T16:56:35.606Z"
   },
   {
    "duration": 14,
    "start_time": "2022-12-05T16:59:23.078Z"
   },
   {
    "duration": 13,
    "start_time": "2022-12-05T16:59:42.726Z"
   },
   {
    "duration": 3,
    "start_time": "2022-12-05T17:11:37.776Z"
   },
   {
    "duration": 156,
    "start_time": "2022-12-05T17:11:38.145Z"
   },
   {
    "duration": 12,
    "start_time": "2022-12-05T17:13:52.393Z"
   },
   {
    "duration": 13,
    "start_time": "2022-12-05T17:13:59.417Z"
   },
   {
    "duration": 19,
    "start_time": "2022-12-05T17:14:00.816Z"
   },
   {
    "duration": 8,
    "start_time": "2022-12-05T17:14:03.000Z"
   },
   {
    "duration": 100,
    "start_time": "2022-12-05T17:14:07.617Z"
   },
   {
    "duration": 5,
    "start_time": "2022-12-05T17:16:05.561Z"
   },
   {
    "duration": 2,
    "start_time": "2022-12-05T17:16:28.170Z"
   },
   {
    "duration": 7824,
    "start_time": "2022-12-05T17:17:29.154Z"
   },
   {
    "duration": 8041,
    "start_time": "2022-12-05T17:19:03.346Z"
   },
   {
    "duration": 9592,
    "start_time": "2022-12-05T17:20:07.690Z"
   },
   {
    "duration": 4,
    "start_time": "2022-12-05T17:22:18.339Z"
   },
   {
    "duration": 9467,
    "start_time": "2022-12-05T17:22:44.515Z"
   },
   {
    "duration": 1271,
    "start_time": "2022-12-05T17:24:52.307Z"
   },
   {
    "duration": 1357,
    "start_time": "2022-12-05T17:25:02.827Z"
   },
   {
    "duration": 6305,
    "start_time": "2022-12-05T17:25:14.475Z"
   },
   {
    "duration": 9,
    "start_time": "2022-12-05T17:33:26.548Z"
   },
   {
    "duration": 9,
    "start_time": "2022-12-05T17:33:33.836Z"
   },
   {
    "duration": 88,
    "start_time": "2022-12-05T17:33:38.308Z"
   },
   {
    "duration": 4,
    "start_time": "2022-12-05T17:33:49.181Z"
   },
   {
    "duration": 21,
    "start_time": "2022-12-05T17:33:53.172Z"
   },
   {
    "duration": 19,
    "start_time": "2022-12-05T17:35:01.142Z"
   },
   {
    "duration": 48,
    "start_time": "2022-12-05T17:38:56.727Z"
   },
   {
    "duration": 3,
    "start_time": "2022-12-05T17:39:02.141Z"
   },
   {
    "duration": 7,
    "start_time": "2022-12-05T17:39:05.723Z"
   },
   {
    "duration": 1135,
    "start_time": "2022-12-05T17:39:09.343Z"
   },
   {
    "duration": 2011,
    "start_time": "2022-12-05T17:39:10.479Z"
   },
   {
    "duration": 301,
    "start_time": "2022-12-05T17:39:12.492Z"
   },
   {
    "duration": 30,
    "start_time": "2022-12-05T17:39:12.795Z"
   },
   {
    "duration": 7,
    "start_time": "2022-12-05T17:39:12.826Z"
   },
   {
    "duration": 11,
    "start_time": "2022-12-05T17:39:12.834Z"
   },
   {
    "duration": 11,
    "start_time": "2022-12-05T17:39:12.847Z"
   },
   {
    "duration": 382,
    "start_time": "2022-12-05T17:39:13.542Z"
   },
   {
    "duration": 134,
    "start_time": "2022-12-05T17:39:13.942Z"
   },
   {
    "duration": 116,
    "start_time": "2022-12-05T17:39:14.333Z"
   },
   {
    "duration": 152,
    "start_time": "2022-12-05T17:39:15.277Z"
   },
   {
    "duration": 155,
    "start_time": "2022-12-05T17:39:15.893Z"
   },
   {
    "duration": 218,
    "start_time": "2022-12-05T17:39:16.708Z"
   },
   {
    "duration": 139,
    "start_time": "2022-12-05T17:39:17.118Z"
   },
   {
    "duration": 150,
    "start_time": "2022-12-05T17:39:17.533Z"
   },
   {
    "duration": 165,
    "start_time": "2022-12-05T17:39:17.733Z"
   },
   {
    "duration": 6,
    "start_time": "2022-12-05T17:39:17.941Z"
   },
   {
    "duration": 178,
    "start_time": "2022-12-05T17:39:18.766Z"
   },
   {
    "duration": 8,
    "start_time": "2022-12-05T17:39:19.582Z"
   },
   {
    "duration": 16,
    "start_time": "2022-12-05T17:39:19.790Z"
   },
   {
    "duration": 20,
    "start_time": "2022-12-05T17:39:20.181Z"
   },
   {
    "duration": 6,
    "start_time": "2022-12-05T17:39:20.584Z"
   },
   {
    "duration": 3,
    "start_time": "2022-12-05T17:39:21.190Z"
   },
   {
    "duration": 5,
    "start_time": "2022-12-05T17:39:21.550Z"
   },
   {
    "duration": 35843,
    "start_time": "2022-12-05T17:39:21.941Z"
   },
   {
    "duration": 6590,
    "start_time": "2022-12-05T17:39:57.789Z"
   },
   {
    "duration": 46,
    "start_time": "2022-12-05T17:40:13.709Z"
   },
   {
    "duration": 1281,
    "start_time": "2022-12-05T17:40:24.094Z"
   },
   {
    "duration": 4,
    "start_time": "2022-12-05T17:40:27.933Z"
   },
   {
    "duration": 2109,
    "start_time": "2022-12-05T17:40:30.424Z"
   },
   {
    "duration": 346,
    "start_time": "2022-12-05T17:40:33.798Z"
   },
   {
    "duration": 31,
    "start_time": "2022-12-05T17:40:34.294Z"
   },
   {
    "duration": 7,
    "start_time": "2022-12-05T17:40:35.222Z"
   },
   {
    "duration": 9,
    "start_time": "2022-12-05T17:40:35.598Z"
   },
   {
    "duration": 7,
    "start_time": "2022-12-05T17:40:36.214Z"
   },
   {
    "duration": 388,
    "start_time": "2022-12-05T17:40:37.206Z"
   },
   {
    "duration": 124,
    "start_time": "2022-12-05T17:40:37.596Z"
   },
   {
    "duration": 99,
    "start_time": "2022-12-05T17:40:37.990Z"
   },
   {
    "duration": 141,
    "start_time": "2022-12-05T17:40:39.222Z"
   },
   {
    "duration": 123,
    "start_time": "2022-12-05T17:40:39.901Z"
   },
   {
    "duration": 206,
    "start_time": "2022-12-05T17:40:40.694Z"
   },
   {
    "duration": 125,
    "start_time": "2022-12-05T17:40:41.085Z"
   },
   {
    "duration": 131,
    "start_time": "2022-12-05T17:40:41.478Z"
   },
   {
    "duration": 143,
    "start_time": "2022-12-05T17:40:41.677Z"
   },
   {
    "duration": 4,
    "start_time": "2022-12-05T17:40:41.902Z"
   },
   {
    "duration": 162,
    "start_time": "2022-12-05T17:40:43.166Z"
   },
   {
    "duration": 7,
    "start_time": "2022-12-05T17:40:44.325Z"
   },
   {
    "duration": 13,
    "start_time": "2022-12-05T17:40:44.894Z"
   },
   {
    "duration": 19,
    "start_time": "2022-12-05T17:40:46.557Z"
   },
   {
    "duration": 8,
    "start_time": "2022-12-05T17:40:48.317Z"
   },
   {
    "duration": 3,
    "start_time": "2022-12-05T17:40:50.102Z"
   },
   {
    "duration": 5,
    "start_time": "2022-12-05T17:40:51.279Z"
   },
   {
    "duration": 36777,
    "start_time": "2022-12-05T17:40:54.011Z"
   },
   {
    "duration": 7082,
    "start_time": "2022-12-05T17:41:40.800Z"
   },
   {
    "duration": 50,
    "start_time": "2022-12-05T17:48:05.575Z"
   },
   {
    "duration": 1218,
    "start_time": "2022-12-05T17:48:10.911Z"
   },
   {
    "duration": 2140,
    "start_time": "2022-12-05T17:48:12.131Z"
   },
   {
    "duration": 342,
    "start_time": "2022-12-05T17:48:14.272Z"
   },
   {
    "duration": 36,
    "start_time": "2022-12-05T17:48:14.616Z"
   },
   {
    "duration": 25,
    "start_time": "2022-12-05T17:48:14.654Z"
   },
   {
    "duration": 8,
    "start_time": "2022-12-05T17:48:14.681Z"
   },
   {
    "duration": 10,
    "start_time": "2022-12-05T17:48:14.690Z"
   },
   {
    "duration": 414,
    "start_time": "2022-12-05T17:48:15.167Z"
   },
   {
    "duration": 138,
    "start_time": "2022-12-05T17:48:15.583Z"
   },
   {
    "duration": 115,
    "start_time": "2022-12-05T17:48:15.911Z"
   },
   {
    "duration": 167,
    "start_time": "2022-12-05T17:48:16.855Z"
   },
   {
    "duration": 153,
    "start_time": "2022-12-05T17:48:17.416Z"
   },
   {
    "duration": 249,
    "start_time": "2022-12-05T17:48:18.152Z"
   },
   {
    "duration": 149,
    "start_time": "2022-12-05T17:48:18.535Z"
   },
   {
    "duration": 147,
    "start_time": "2022-12-05T17:48:18.903Z"
   },
   {
    "duration": 157,
    "start_time": "2022-12-05T17:48:19.102Z"
   },
   {
    "duration": 5,
    "start_time": "2022-12-05T17:48:19.302Z"
   },
   {
    "duration": 175,
    "start_time": "2022-12-05T17:48:20.103Z"
   },
   {
    "duration": 8,
    "start_time": "2022-12-05T17:48:23.767Z"
   },
   {
    "duration": 14,
    "start_time": "2022-12-05T17:48:23.960Z"
   },
   {
    "duration": 19,
    "start_time": "2022-12-05T17:48:24.310Z"
   },
   {
    "duration": 7,
    "start_time": "2022-12-05T17:48:25.951Z"
   },
   {
    "duration": 3,
    "start_time": "2022-12-05T17:48:31.871Z"
   },
   {
    "duration": 10,
    "start_time": "2022-12-05T17:48:35.535Z"
   },
   {
    "duration": 98,
    "start_time": "2022-12-05T17:49:14.463Z"
   },
   {
    "duration": 3,
    "start_time": "2022-12-05T17:50:07.199Z"
   },
   {
    "duration": 3,
    "start_time": "2022-12-05T17:50:09.856Z"
   },
   {
    "duration": 3,
    "start_time": "2022-12-05T17:50:24.927Z"
   },
   {
    "duration": 24,
    "start_time": "2022-12-05T17:50:27.808Z"
   },
   {
    "duration": 3,
    "start_time": "2022-12-05T17:50:49.343Z"
   },
   {
    "duration": 29,
    "start_time": "2022-12-05T17:50:52.828Z"
   },
   {
    "duration": 4,
    "start_time": "2022-12-05T17:51:42.280Z"
   },
   {
    "duration": 27,
    "start_time": "2022-12-05T17:51:45.032Z"
   },
   {
    "duration": 3,
    "start_time": "2022-12-05T17:52:05.002Z"
   },
   {
    "duration": 3,
    "start_time": "2022-12-05T17:52:16.944Z"
   },
   {
    "duration": 18,
    "start_time": "2022-12-05T17:52:19.551Z"
   },
   {
    "duration": 2,
    "start_time": "2022-12-05T17:52:45.456Z"
   },
   {
    "duration": 18,
    "start_time": "2022-12-05T17:52:47.832Z"
   },
   {
    "duration": 3,
    "start_time": "2022-12-05T17:52:55.879Z"
   },
   {
    "duration": 19,
    "start_time": "2022-12-05T17:52:58.711Z"
   },
   {
    "duration": 3,
    "start_time": "2022-12-05T17:53:31.169Z"
   },
   {
    "duration": 28,
    "start_time": "2022-12-05T17:53:36.440Z"
   },
   {
    "duration": 3,
    "start_time": "2022-12-05T17:53:46.417Z"
   },
   {
    "duration": 27,
    "start_time": "2022-12-05T17:53:48.656Z"
   },
   {
    "duration": 3,
    "start_time": "2022-12-05T17:54:13.721Z"
   },
   {
    "duration": 30,
    "start_time": "2022-12-05T17:54:17.505Z"
   },
   {
    "duration": 3,
    "start_time": "2022-12-05T17:54:29.514Z"
   },
   {
    "duration": 32,
    "start_time": "2022-12-05T17:54:31.592Z"
   },
   {
    "duration": 9,
    "start_time": "2022-12-05T17:54:34.592Z"
   },
   {
    "duration": 2,
    "start_time": "2022-12-05T17:54:47.104Z"
   },
   {
    "duration": 1166,
    "start_time": "2022-12-05T17:54:49.920Z"
   },
   {
    "duration": 4,
    "start_time": "2022-12-05T18:01:13.769Z"
   },
   {
    "duration": 33,
    "start_time": "2022-12-05T18:01:18.475Z"
   },
   {
    "duration": 3,
    "start_time": "2022-12-05T18:01:55.081Z"
   },
   {
    "duration": 17,
    "start_time": "2022-12-05T18:01:58.257Z"
   },
   {
    "duration": 3,
    "start_time": "2022-12-05T18:11:29.627Z"
   },
   {
    "duration": 1138,
    "start_time": "2022-12-05T18:11:33.068Z"
   },
   {
    "duration": 4,
    "start_time": "2022-12-05T18:12:13.442Z"
   },
   {
    "duration": 17,
    "start_time": "2022-12-05T18:12:17.556Z"
   },
   {
    "duration": 4,
    "start_time": "2022-12-05T18:15:04.996Z"
   },
   {
    "duration": 14,
    "start_time": "2022-12-05T18:15:09.109Z"
   },
   {
    "duration": 3,
    "start_time": "2022-12-05T18:18:30.829Z"
   },
   {
    "duration": 1579,
    "start_time": "2022-12-05T18:18:35.702Z"
   },
   {
    "duration": 4,
    "start_time": "2022-12-05T18:18:53.252Z"
   },
   {
    "duration": 1513,
    "start_time": "2022-12-05T18:19:03.669Z"
   },
   {
    "duration": 4,
    "start_time": "2022-12-05T18:25:22.982Z"
   },
   {
    "duration": 237,
    "start_time": "2022-12-05T18:25:27.949Z"
   },
   {
    "duration": 2,
    "start_time": "2022-12-05T18:26:24.255Z"
   },
   {
    "duration": 222,
    "start_time": "2022-12-05T18:26:26.880Z"
   },
   {
    "duration": 3,
    "start_time": "2022-12-05T18:26:47.598Z"
   },
   {
    "duration": 1397,
    "start_time": "2022-12-05T18:26:52.695Z"
   },
   {
    "duration": 3,
    "start_time": "2022-12-05T18:27:03.614Z"
   },
   {
    "duration": 220,
    "start_time": "2022-12-05T18:27:07.670Z"
   },
   {
    "duration": 3,
    "start_time": "2022-12-05T18:28:24.583Z"
   },
   {
    "duration": 220,
    "start_time": "2022-12-05T18:28:28.559Z"
   },
   {
    "duration": 18,
    "start_time": "2022-12-05T18:46:44.954Z"
   },
   {
    "duration": 4,
    "start_time": "2022-12-05T18:47:04.546Z"
   },
   {
    "duration": 623,
    "start_time": "2022-12-05T18:47:05.372Z"
   },
   {
    "duration": 290,
    "start_time": "2022-12-05T18:47:05.997Z"
   },
   {
    "duration": 29,
    "start_time": "2022-12-05T18:47:06.298Z"
   },
   {
    "duration": 5,
    "start_time": "2022-12-05T18:47:07.273Z"
   },
   {
    "duration": 6,
    "start_time": "2022-12-05T18:47:07.810Z"
   },
   {
    "duration": 5,
    "start_time": "2022-12-05T18:47:08.443Z"
   },
   {
    "duration": 96,
    "start_time": "2022-12-05T18:47:09.450Z"
   },
   {
    "duration": 107,
    "start_time": "2022-12-05T18:47:09.801Z"
   },
   {
    "duration": 100,
    "start_time": "2022-12-05T18:47:10.202Z"
   },
   {
    "duration": 138,
    "start_time": "2022-12-05T18:47:11.217Z"
   },
   {
    "duration": 122,
    "start_time": "2022-12-05T18:47:11.817Z"
   },
   {
    "duration": 120,
    "start_time": "2022-12-05T18:47:12.745Z"
   },
   {
    "duration": 205,
    "start_time": "2022-12-05T18:47:13.164Z"
   },
   {
    "duration": 144,
    "start_time": "2022-12-05T18:47:13.570Z"
   },
   {
    "duration": 140,
    "start_time": "2022-12-05T18:47:13.760Z"
   },
   {
    "duration": 5,
    "start_time": "2022-12-05T18:47:13.953Z"
   },
   {
    "duration": 14,
    "start_time": "2022-12-05T18:47:15.605Z"
   },
   {
    "duration": 13,
    "start_time": "2022-12-05T18:47:28.642Z"
   },
   {
    "duration": 14,
    "start_time": "2022-12-05T18:47:52.755Z"
   },
   {
    "duration": 26,
    "start_time": "2022-12-05T18:48:53.874Z"
   },
   {
    "duration": 14,
    "start_time": "2022-12-05T18:49:11.522Z"
   },
   {
    "duration": 14,
    "start_time": "2022-12-05T18:51:58.651Z"
   },
   {
    "duration": 4,
    "start_time": "2022-12-05T18:52:09.546Z"
   },
   {
    "duration": 609,
    "start_time": "2022-12-05T18:52:10.051Z"
   },
   {
    "duration": 332,
    "start_time": "2022-12-05T18:52:10.662Z"
   },
   {
    "duration": 38,
    "start_time": "2022-12-05T18:52:10.997Z"
   },
   {
    "duration": 5,
    "start_time": "2022-12-05T18:52:11.898Z"
   },
   {
    "duration": 8,
    "start_time": "2022-12-05T18:52:12.266Z"
   },
   {
    "duration": 6,
    "start_time": "2022-12-05T18:52:12.835Z"
   },
   {
    "duration": 124,
    "start_time": "2022-12-05T18:52:13.835Z"
   },
   {
    "duration": 102,
    "start_time": "2022-12-05T18:52:14.259Z"
   },
   {
    "duration": 120,
    "start_time": "2022-12-05T18:52:14.659Z"
   },
   {
    "duration": 182,
    "start_time": "2022-12-05T18:52:15.643Z"
   },
   {
    "duration": 138,
    "start_time": "2022-12-05T18:52:16.245Z"
   },
   {
    "duration": 151,
    "start_time": "2022-12-05T18:52:17.018Z"
   },
   {
    "duration": 140,
    "start_time": "2022-12-05T18:52:17.427Z"
   },
   {
    "duration": 153,
    "start_time": "2022-12-05T18:52:17.827Z"
   },
   {
    "duration": 158,
    "start_time": "2022-12-05T18:52:18.027Z"
   },
   {
    "duration": 5,
    "start_time": "2022-12-05T18:52:18.251Z"
   },
   {
    "duration": 116,
    "start_time": "2022-12-05T18:52:20.544Z"
   },
   {
    "duration": 12,
    "start_time": "2022-12-05T18:52:51.411Z"
   },
   {
    "duration": 4,
    "start_time": "2022-12-05T18:52:58.450Z"
   },
   {
    "duration": 654,
    "start_time": "2022-12-05T18:52:59.005Z"
   },
   {
    "duration": 320,
    "start_time": "2022-12-05T18:52:59.661Z"
   },
   {
    "duration": 34,
    "start_time": "2022-12-05T18:52:59.983Z"
   },
   {
    "duration": 7,
    "start_time": "2022-12-05T18:53:00.930Z"
   },
   {
    "duration": 9,
    "start_time": "2022-12-05T18:53:01.306Z"
   },
   {
    "duration": 6,
    "start_time": "2022-12-05T18:53:01.899Z"
   },
   {
    "duration": 125,
    "start_time": "2022-12-05T18:53:02.870Z"
   },
   {
    "duration": 106,
    "start_time": "2022-12-05T18:53:03.250Z"
   },
   {
    "duration": 101,
    "start_time": "2022-12-05T18:53:03.698Z"
   },
   {
    "duration": 137,
    "start_time": "2022-12-05T18:53:04.771Z"
   },
   {
    "duration": 138,
    "start_time": "2022-12-05T18:53:05.466Z"
   },
   {
    "duration": 144,
    "start_time": "2022-12-05T18:53:06.314Z"
   },
   {
    "duration": 138,
    "start_time": "2022-12-05T18:53:06.794Z"
   },
   {
    "duration": 136,
    "start_time": "2022-12-05T18:53:07.218Z"
   },
   {
    "duration": 137,
    "start_time": "2022-12-05T18:53:07.410Z"
   },
   {
    "duration": 5,
    "start_time": "2022-12-05T18:53:07.612Z"
   },
   {
    "duration": 20,
    "start_time": "2022-12-05T18:53:09.203Z"
   },
   {
    "duration": 34,
    "start_time": "2022-12-05T18:53:14.411Z"
   },
   {
    "duration": 12,
    "start_time": "2022-12-05T18:53:38.232Z"
   },
   {
    "duration": 13,
    "start_time": "2022-12-05T18:55:35.182Z"
   },
   {
    "duration": 4,
    "start_time": "2022-12-05T18:55:41.219Z"
   },
   {
    "duration": 643,
    "start_time": "2022-12-05T18:55:41.740Z"
   },
   {
    "duration": 310,
    "start_time": "2022-12-05T18:55:42.385Z"
   },
   {
    "duration": 29,
    "start_time": "2022-12-05T18:55:42.697Z"
   },
   {
    "duration": 6,
    "start_time": "2022-12-05T18:55:43.546Z"
   },
   {
    "duration": 16,
    "start_time": "2022-12-05T18:55:43.898Z"
   },
   {
    "duration": 5,
    "start_time": "2022-12-05T18:55:44.451Z"
   },
   {
    "duration": 107,
    "start_time": "2022-12-05T18:55:45.428Z"
   },
   {
    "duration": 101,
    "start_time": "2022-12-05T18:55:45.803Z"
   },
   {
    "duration": 186,
    "start_time": "2022-12-05T18:55:46.178Z"
   },
   {
    "duration": 136,
    "start_time": "2022-12-05T18:55:47.162Z"
   },
   {
    "duration": 124,
    "start_time": "2022-12-05T18:55:47.747Z"
   },
   {
    "duration": 131,
    "start_time": "2022-12-05T18:55:48.515Z"
   },
   {
    "duration": 129,
    "start_time": "2022-12-05T18:55:48.907Z"
   },
   {
    "duration": 151,
    "start_time": "2022-12-05T18:55:49.307Z"
   },
   {
    "duration": 130,
    "start_time": "2022-12-05T18:55:49.515Z"
   },
   {
    "duration": 4,
    "start_time": "2022-12-05T18:55:49.707Z"
   },
   {
    "duration": 172,
    "start_time": "2022-12-05T18:55:51.419Z"
   },
   {
    "duration": 8,
    "start_time": "2022-12-05T18:55:57.979Z"
   },
   {
    "duration": 13,
    "start_time": "2022-12-05T18:56:02.651Z"
   },
   {
    "duration": 16,
    "start_time": "2022-12-05T18:56:04.707Z"
   },
   {
    "duration": 7,
    "start_time": "2022-12-05T18:56:05.674Z"
   },
   {
    "duration": 3,
    "start_time": "2022-12-05T18:56:09.371Z"
   },
   {
    "duration": 4,
    "start_time": "2022-12-05T18:56:23.211Z"
   },
   {
    "duration": 10,
    "start_time": "2022-12-05T18:56:25.883Z"
   },
   {
    "duration": 75774,
    "start_time": "2022-12-05T18:56:28.411Z"
   },
   {
    "duration": 6570,
    "start_time": "2022-12-05T18:58:07.508Z"
   },
   {
    "duration": 276,
    "start_time": "2022-12-05T18:58:16.813Z"
   },
   {
    "duration": 3,
    "start_time": "2022-12-05T19:11:50.286Z"
   },
   {
    "duration": 4,
    "start_time": "2022-12-05T19:12:06.886Z"
   },
   {
    "duration": 173,
    "start_time": "2022-12-05T19:15:03.718Z"
   },
   {
    "duration": 2,
    "start_time": "2022-12-05T19:23:31.463Z"
   },
   {
    "duration": 10,
    "start_time": "2022-12-05T19:23:45.983Z"
   },
   {
    "duration": 1373,
    "start_time": "2022-12-05T19:23:52.815Z"
   },
   {
    "duration": 5,
    "start_time": "2022-12-05T19:25:45.168Z"
   },
   {
    "duration": 644,
    "start_time": "2022-12-05T19:25:45.656Z"
   },
   {
    "duration": 306,
    "start_time": "2022-12-05T19:25:46.302Z"
   },
   {
    "duration": 30,
    "start_time": "2022-12-05T19:25:46.610Z"
   },
   {
    "duration": 5,
    "start_time": "2022-12-05T19:25:47.433Z"
   },
   {
    "duration": 7,
    "start_time": "2022-12-05T19:25:48.008Z"
   },
   {
    "duration": 5,
    "start_time": "2022-12-05T19:25:48.543Z"
   },
   {
    "duration": 97,
    "start_time": "2022-12-05T19:25:49.511Z"
   },
   {
    "duration": 97,
    "start_time": "2022-12-05T19:25:49.895Z"
   },
   {
    "duration": 104,
    "start_time": "2022-12-05T19:25:50.279Z"
   },
   {
    "duration": 130,
    "start_time": "2022-12-05T19:25:51.240Z"
   },
   {
    "duration": 202,
    "start_time": "2022-12-05T19:25:51.839Z"
   },
   {
    "duration": 123,
    "start_time": "2022-12-05T19:25:52.656Z"
   },
   {
    "duration": 121,
    "start_time": "2022-12-05T19:25:53.032Z"
   },
   {
    "duration": 161,
    "start_time": "2022-12-05T19:25:53.407Z"
   },
   {
    "duration": 152,
    "start_time": "2022-12-05T19:25:53.590Z"
   },
   {
    "duration": 4,
    "start_time": "2022-12-05T19:25:53.810Z"
   },
   {
    "duration": 185,
    "start_time": "2022-12-05T19:25:54.583Z"
   },
   {
    "duration": 8,
    "start_time": "2022-12-05T19:25:55.959Z"
   },
   {
    "duration": 15,
    "start_time": "2022-12-05T19:25:56.399Z"
   },
   {
    "duration": 16,
    "start_time": "2022-12-05T19:25:57.488Z"
   },
   {
    "duration": 6,
    "start_time": "2022-12-05T19:25:57.872Z"
   },
   {
    "duration": 3,
    "start_time": "2022-12-05T19:25:59.199Z"
   },
   {
    "duration": 10,
    "start_time": "2022-12-05T19:26:00.609Z"
   },
   {
    "duration": 4,
    "start_time": "2022-12-05T19:26:09.071Z"
   },
   {
    "duration": 296,
    "start_time": "2022-12-05T19:26:25.697Z"
   },
   {
    "duration": 1210,
    "start_time": "2022-12-05T19:26:38.575Z"
   },
   {
    "duration": 1188,
    "start_time": "2022-12-05T19:26:50.191Z"
   },
   {
    "duration": 3,
    "start_time": "2022-12-05T19:29:02.536Z"
   },
   {
    "duration": 1598,
    "start_time": "2022-12-05T19:29:06.383Z"
   },
   {
    "duration": 4,
    "start_time": "2022-12-05T19:29:16.647Z"
   },
   {
    "duration": 379,
    "start_time": "2022-12-05T19:29:20.799Z"
   },
   {
    "duration": 5,
    "start_time": "2022-12-05T19:30:00.944Z"
   },
   {
    "duration": 3,
    "start_time": "2022-12-05T19:30:03.688Z"
   },
   {
    "duration": 6,
    "start_time": "2022-12-05T19:30:05.280Z"
   },
   {
    "duration": 1096,
    "start_time": "2022-12-05T19:30:09.185Z"
   },
   {
    "duration": 990,
    "start_time": "2022-12-05T19:30:24.192Z"
   },
   {
    "duration": 3,
    "start_time": "2022-12-05T19:32:46.089Z"
   },
   {
    "duration": 6,
    "start_time": "2022-12-05T19:32:46.528Z"
   },
   {
    "duration": 3,
    "start_time": "2022-12-05T19:32:47.152Z"
   },
   {
    "duration": 1032,
    "start_time": "2022-12-05T19:32:47.553Z"
   },
   {
    "duration": 26,
    "start_time": "2022-12-05T19:36:56.289Z"
   },
   {
    "duration": 31297,
    "start_time": "2022-12-05T19:37:44.092Z"
   },
   {
    "duration": 31956,
    "start_time": "2022-12-05T19:39:35.419Z"
   },
   {
    "duration": 4201,
    "start_time": "2022-12-05T19:40:07.377Z"
   },
   {
    "duration": 2284,
    "start_time": "2022-12-05T19:41:25.208Z"
   },
   {
    "duration": 34239,
    "start_time": "2022-12-05T19:41:27.504Z"
   },
   {
    "duration": 4435,
    "start_time": "2022-12-05T19:42:01.744Z"
   },
   {
    "duration": 978,
    "start_time": "2022-12-05T19:42:20.507Z"
   },
   {
    "duration": 4,
    "start_time": "2022-12-05T19:42:21.577Z"
   },
   {
    "duration": 31730,
    "start_time": "2022-12-05T19:42:21.583Z"
   },
   {
    "duration": 3762,
    "start_time": "2022-12-05T19:42:53.316Z"
   },
   {
    "duration": 4,
    "start_time": "2022-12-05T19:44:35.099Z"
   },
   {
    "duration": 12,
    "start_time": "2022-12-05T19:47:21.395Z"
   },
   {
    "duration": 4,
    "start_time": "2022-12-05T19:47:25.573Z"
   },
   {
    "duration": 8397,
    "start_time": "2022-12-05T19:47:26.083Z"
   },
   {
    "duration": 5,
    "start_time": "2022-12-05T19:50:10.395Z"
   },
   {
    "duration": 622,
    "start_time": "2022-12-05T19:50:10.891Z"
   },
   {
    "duration": 297,
    "start_time": "2022-12-05T19:50:11.515Z"
   },
   {
    "duration": 30,
    "start_time": "2022-12-05T19:50:11.814Z"
   },
   {
    "duration": 6,
    "start_time": "2022-12-05T19:50:12.699Z"
   },
   {
    "duration": 8,
    "start_time": "2022-12-05T19:50:13.035Z"
   },
   {
    "duration": 5,
    "start_time": "2022-12-05T19:50:13.635Z"
   },
   {
    "duration": 120,
    "start_time": "2022-12-05T19:50:14.611Z"
   },
   {
    "duration": 107,
    "start_time": "2022-12-05T19:50:14.993Z"
   },
   {
    "duration": 116,
    "start_time": "2022-12-05T19:50:15.363Z"
   },
   {
    "duration": 153,
    "start_time": "2022-12-05T19:50:16.308Z"
   },
   {
    "duration": 246,
    "start_time": "2022-12-05T19:50:16.853Z"
   },
   {
    "duration": 146,
    "start_time": "2022-12-05T19:50:17.619Z"
   },
   {
    "duration": 143,
    "start_time": "2022-12-05T19:50:18.188Z"
   },
   {
    "duration": 165,
    "start_time": "2022-12-05T19:50:18.580Z"
   },
   {
    "duration": 150,
    "start_time": "2022-12-05T19:50:18.787Z"
   },
   {
    "duration": 4,
    "start_time": "2022-12-05T19:50:18.987Z"
   },
   {
    "duration": 180,
    "start_time": "2022-12-05T19:50:19.840Z"
   },
   {
    "duration": 8,
    "start_time": "2022-12-05T19:50:20.619Z"
   },
   {
    "duration": 13,
    "start_time": "2022-12-05T19:50:20.787Z"
   },
   {
    "duration": 22,
    "start_time": "2022-12-05T19:50:21.181Z"
   },
   {
    "duration": 8,
    "start_time": "2022-12-05T19:50:21.556Z"
   },
   {
    "duration": 4,
    "start_time": "2022-12-05T19:50:22.163Z"
   },
   {
    "duration": 7,
    "start_time": "2022-12-05T19:50:22.547Z"
   },
   {
    "duration": 3,
    "start_time": "2022-12-05T19:50:23.043Z"
   },
   {
    "duration": 1436,
    "start_time": "2022-12-05T19:50:23.347Z"
   },
   {
    "duration": 32856,
    "start_time": "2022-12-05T19:50:24.785Z"
   },
   {
    "duration": 4642,
    "start_time": "2022-12-05T19:50:57.642Z"
   },
   {
    "duration": 6,
    "start_time": "2022-12-05T19:51:02.377Z"
   },
   {
    "duration": 10191,
    "start_time": "2022-12-05T19:51:02.387Z"
   },
   {
    "duration": 1204,
    "start_time": "2022-12-07T06:18:12.831Z"
   },
   {
    "duration": 2176,
    "start_time": "2022-12-07T06:18:14.039Z"
   },
   {
    "duration": 343,
    "start_time": "2022-12-07T06:18:16.217Z"
   },
   {
    "duration": 34,
    "start_time": "2022-12-07T06:18:16.562Z"
   },
   {
    "duration": 1344,
    "start_time": "2022-12-07T06:18:16.598Z"
   },
   {
    "duration": 0,
    "start_time": "2022-12-07T06:18:17.944Z"
   },
   {
    "duration": 0,
    "start_time": "2022-12-07T06:18:17.945Z"
   },
   {
    "duration": 572,
    "start_time": "2022-12-07T06:18:18.532Z"
   },
   {
    "duration": 137,
    "start_time": "2022-12-07T06:18:19.107Z"
   },
   {
    "duration": 157,
    "start_time": "2022-12-07T06:19:06.445Z"
   },
   {
    "duration": 262,
    "start_time": "2022-12-07T06:19:26.291Z"
   },
   {
    "duration": 33,
    "start_time": "2022-12-07T06:20:56.043Z"
   },
   {
    "duration": 155,
    "start_time": "2022-12-07T06:21:23.378Z"
   },
   {
    "duration": 301,
    "start_time": "2022-12-07T06:22:20.531Z"
   },
   {
    "duration": 19,
    "start_time": "2022-12-07T06:25:05.634Z"
   },
   {
    "duration": 347,
    "start_time": "2022-12-07T06:25:19.627Z"
   },
   {
    "duration": 274,
    "start_time": "2022-12-07T06:28:15.962Z"
   },
   {
    "duration": 191,
    "start_time": "2022-12-07T06:34:42.186Z"
   },
   {
    "duration": 628,
    "start_time": "2022-12-07T06:34:49.203Z"
   },
   {
    "duration": 434,
    "start_time": "2022-12-07T06:35:14.721Z"
   },
   {
    "duration": 444,
    "start_time": "2022-12-07T06:35:42.466Z"
   },
   {
    "duration": 78,
    "start_time": "2022-12-07T06:36:01.828Z"
   },
   {
    "duration": 554,
    "start_time": "2022-12-07T06:36:11.243Z"
   },
   {
    "duration": 2362,
    "start_time": "2022-12-07T06:39:09.493Z"
   },
   {
    "duration": 224,
    "start_time": "2022-12-07T06:39:20.341Z"
   },
   {
    "duration": 183,
    "start_time": "2022-12-07T06:39:31.414Z"
   },
   {
    "duration": 159,
    "start_time": "2022-12-07T06:39:39.838Z"
   },
   {
    "duration": 355,
    "start_time": "2022-12-07T06:39:48.102Z"
   },
   {
    "duration": 149,
    "start_time": "2022-12-07T06:40:02.273Z"
   },
   {
    "duration": 154,
    "start_time": "2022-12-07T06:40:07.815Z"
   },
   {
    "duration": 158,
    "start_time": "2022-12-07T06:40:16.183Z"
   },
   {
    "duration": 5,
    "start_time": "2022-12-07T13:48:21.855Z"
   },
   {
    "duration": 706,
    "start_time": "2022-12-07T13:48:22.528Z"
   },
   {
    "duration": 315,
    "start_time": "2022-12-07T13:48:23.236Z"
   },
   {
    "duration": 44,
    "start_time": "2022-12-07T13:48:23.601Z"
   },
   {
    "duration": 1290,
    "start_time": "2022-12-07T13:48:24.571Z"
   },
   {
    "duration": 0,
    "start_time": "2022-12-07T13:48:25.863Z"
   },
   {
    "duration": 6,
    "start_time": "2022-12-07T13:48:26.473Z"
   },
   {
    "duration": 287,
    "start_time": "2022-12-07T13:48:28.130Z"
   },
   {
    "duration": 285,
    "start_time": "2022-12-07T13:48:28.521Z"
   },
   {
    "duration": 298,
    "start_time": "2022-12-07T13:48:28.908Z"
   },
   {
    "duration": 266,
    "start_time": "2022-12-07T13:48:30.225Z"
   },
   {
    "duration": 136,
    "start_time": "2022-12-07T13:48:30.978Z"
   },
   {
    "duration": 144,
    "start_time": "2022-12-07T13:48:31.737Z"
   },
   {
    "duration": 145,
    "start_time": "2022-12-07T13:48:32.137Z"
   },
   {
    "duration": 142,
    "start_time": "2022-12-07T13:48:32.561Z"
   },
   {
    "duration": 146,
    "start_time": "2022-12-07T13:48:32.760Z"
   },
   {
    "duration": 5,
    "start_time": "2022-12-07T13:48:32.976Z"
   },
   {
    "duration": 196,
    "start_time": "2022-12-07T13:48:33.761Z"
   },
   {
    "duration": 9,
    "start_time": "2022-12-07T13:48:34.762Z"
   },
   {
    "duration": 14,
    "start_time": "2022-12-07T13:48:34.945Z"
   },
   {
    "duration": 20,
    "start_time": "2022-12-07T13:48:35.523Z"
   },
   {
    "duration": 7,
    "start_time": "2022-12-07T13:48:36.097Z"
   },
   {
    "duration": 3,
    "start_time": "2022-12-07T13:48:36.713Z"
   },
   {
    "duration": 6,
    "start_time": "2022-12-07T13:48:37.113Z"
   },
   {
    "duration": 2,
    "start_time": "2022-12-07T13:48:37.480Z"
   },
   {
    "duration": 10,
    "start_time": "2022-12-07T13:48:37.704Z"
   },
   {
    "duration": 4,
    "start_time": "2022-12-07T13:48:38.104Z"
   },
   {
    "duration": 5546,
    "start_time": "2022-12-07T13:48:38.306Z"
   },
   {
    "duration": 96,
    "start_time": "2022-12-07T13:48:43.855Z"
   },
   {
    "duration": 9505,
    "start_time": "2022-12-07T13:48:43.953Z"
   },
   {
    "duration": 6,
    "start_time": "2022-12-07T13:49:00.353Z"
   },
   {
    "duration": 9,
    "start_time": "2022-12-07T13:49:01.537Z"
   },
   {
    "duration": 5,
    "start_time": "2022-12-07T13:49:02.601Z"
   },
   {
    "duration": 285,
    "start_time": "2022-12-07T13:49:05.041Z"
   },
   {
    "duration": 304,
    "start_time": "2022-12-07T13:49:05.394Z"
   },
   {
    "duration": 401,
    "start_time": "2022-12-07T13:49:05.786Z"
   },
   {
    "duration": 250,
    "start_time": "2022-12-07T13:49:06.905Z"
   },
   {
    "duration": 139,
    "start_time": "2022-12-07T13:49:07.730Z"
   },
   {
    "duration": 150,
    "start_time": "2022-12-07T13:49:08.521Z"
   },
   {
    "duration": 144,
    "start_time": "2022-12-07T13:49:08.913Z"
   },
   {
    "duration": 197,
    "start_time": "2022-12-07T13:49:09.281Z"
   },
   {
    "duration": 199,
    "start_time": "2022-12-07T13:49:09.497Z"
   },
   {
    "duration": 6,
    "start_time": "2022-12-07T13:49:09.712Z"
   },
   {
    "duration": 208,
    "start_time": "2022-12-07T13:49:10.722Z"
   },
   {
    "duration": 9,
    "start_time": "2022-12-07T13:49:11.865Z"
   },
   {
    "duration": 15,
    "start_time": "2022-12-07T13:49:12.073Z"
   },
   {
    "duration": 16,
    "start_time": "2022-12-07T13:49:12.657Z"
   },
   {
    "duration": 8,
    "start_time": "2022-12-07T13:49:13.066Z"
   },
   {
    "duration": 4,
    "start_time": "2022-12-07T13:49:13.665Z"
   },
   {
    "duration": 6,
    "start_time": "2022-12-07T13:49:14.083Z"
   },
   {
    "duration": 2,
    "start_time": "2022-12-07T13:49:14.465Z"
   },
   {
    "duration": 10,
    "start_time": "2022-12-07T13:49:14.688Z"
   },
   {
    "duration": 3,
    "start_time": "2022-12-07T13:49:15.137Z"
   },
   {
    "duration": 6840,
    "start_time": "2022-12-07T13:49:15.321Z"
   },
   {
    "duration": 90,
    "start_time": "2022-12-07T13:49:22.164Z"
   },
   {
    "duration": 12796,
    "start_time": "2022-12-07T13:49:22.256Z"
   },
   {
    "duration": 6,
    "start_time": "2022-12-07T13:49:59.122Z"
   },
   {
    "duration": 3,
    "start_time": "2022-12-07T13:49:59.753Z"
   },
   {
    "duration": 1080,
    "start_time": "2022-12-07T13:50:00.172Z"
   },
   {
    "duration": 4,
    "start_time": "2022-12-07T13:50:48.842Z"
   },
   {
    "duration": 4,
    "start_time": "2022-12-07T13:51:08.732Z"
   },
   {
    "duration": 73,
    "start_time": "2022-12-07T13:54:14.311Z"
   },
   {
    "duration": 11,
    "start_time": "2022-12-07T13:54:25.395Z"
   },
   {
    "duration": 13,
    "start_time": "2022-12-07T13:58:08.101Z"
   },
   {
    "duration": 5,
    "start_time": "2022-12-07T13:58:37.635Z"
   },
   {
    "duration": 704,
    "start_time": "2022-12-07T13:58:38.314Z"
   },
   {
    "duration": 355,
    "start_time": "2022-12-07T13:58:39.021Z"
   },
   {
    "duration": 31,
    "start_time": "2022-12-07T13:58:39.378Z"
   },
   {
    "duration": 6,
    "start_time": "2022-12-07T13:58:40.441Z"
   },
   {
    "duration": 7,
    "start_time": "2022-12-07T13:58:40.810Z"
   },
   {
    "duration": 5,
    "start_time": "2022-12-07T13:58:41.762Z"
   },
   {
    "duration": 261,
    "start_time": "2022-12-07T13:58:42.698Z"
   },
   {
    "duration": 358,
    "start_time": "2022-12-07T13:58:43.064Z"
   },
   {
    "duration": 273,
    "start_time": "2022-12-07T13:58:43.510Z"
   },
   {
    "duration": 171,
    "start_time": "2022-12-07T13:58:44.594Z"
   },
   {
    "duration": 159,
    "start_time": "2022-12-07T13:58:45.347Z"
   },
   {
    "duration": 138,
    "start_time": "2022-12-07T13:58:46.083Z"
   },
   {
    "duration": 136,
    "start_time": "2022-12-07T13:58:46.482Z"
   },
   {
    "duration": 142,
    "start_time": "2022-12-07T13:58:46.907Z"
   },
   {
    "duration": 137,
    "start_time": "2022-12-07T13:58:47.283Z"
   },
   {
    "duration": 4,
    "start_time": "2022-12-07T13:58:47.507Z"
   },
   {
    "duration": 189,
    "start_time": "2022-12-07T13:58:48.325Z"
   },
   {
    "duration": 9,
    "start_time": "2022-12-07T13:58:49.291Z"
   },
   {
    "duration": 15,
    "start_time": "2022-12-07T13:58:49.509Z"
   },
   {
    "duration": 17,
    "start_time": "2022-12-07T13:58:50.155Z"
   },
   {
    "duration": 7,
    "start_time": "2022-12-07T13:58:50.546Z"
   },
   {
    "duration": 3,
    "start_time": "2022-12-07T13:58:51.186Z"
   },
   {
    "duration": 6,
    "start_time": "2022-12-07T13:58:51.638Z"
   },
   {
    "duration": 3,
    "start_time": "2022-12-07T13:58:52.033Z"
   },
   {
    "duration": 1653,
    "start_time": "2022-12-07T13:58:52.226Z"
   },
   {
    "duration": 12,
    "start_time": "2022-12-07T13:58:53.952Z"
   },
   {
    "duration": 0,
    "start_time": "2022-12-07T13:58:53.966Z"
   },
   {
    "duration": 0,
    "start_time": "2022-12-07T13:58:53.967Z"
   },
   {
    "duration": 0,
    "start_time": "2022-12-07T13:58:53.969Z"
   },
   {
    "duration": 12906,
    "start_time": "2022-12-07T13:58:54.058Z"
   },
   {
    "duration": 12,
    "start_time": "2022-12-07T13:59:14.514Z"
   },
   {
    "duration": 0,
    "start_time": "2022-12-07T14:05:36.217Z"
   },
   {
    "duration": 1,
    "start_time": "2022-12-07T14:05:36.218Z"
   },
   {
    "duration": 17,
    "start_time": "2022-12-07T14:05:38.940Z"
   },
   {
    "duration": 6,
    "start_time": "2022-12-07T14:05:44.131Z"
   },
   {
    "duration": 10,
    "start_time": "2022-12-07T14:06:11.787Z"
   },
   {
    "duration": 6,
    "start_time": "2022-12-07T14:07:09.363Z"
   },
   {
    "duration": 14,
    "start_time": "2022-12-07T14:07:50.675Z"
   },
   {
    "duration": 0,
    "start_time": "2022-12-07T14:10:04.333Z"
   },
   {
    "duration": 14873,
    "start_time": "2022-12-07T14:11:03.652Z"
   },
   {
    "duration": 280439,
    "start_time": "2022-12-07T14:11:22.900Z"
   },
   {
    "duration": 585728,
    "start_time": "2022-12-07T14:16:43.398Z"
   },
   {
    "duration": 4987996,
    "start_time": "2022-12-07T14:27:12.222Z"
   },
   {
    "duration": 103,
    "start_time": "2022-12-07T16:25:13.076Z"
   },
   {
    "duration": 1190295,
    "start_time": "2022-12-07T16:25:22.190Z"
   },
   {
    "duration": 1135464,
    "start_time": "2022-12-07T16:46:19.537Z"
   },
   {
    "duration": 1138427,
    "start_time": "2022-12-07T17:45:17.597Z"
   },
   {
    "duration": 243978,
    "start_time": "2022-12-07T18:16:28.918Z"
   },
   {
    "duration": 128,
    "start_time": "2022-12-07T18:37:15.180Z"
   },
   {
    "duration": 105,
    "start_time": "2022-12-07T18:38:01.393Z"
   },
   {
    "duration": 12,
    "start_time": "2022-12-07T18:38:36.722Z"
   },
   {
    "duration": 5,
    "start_time": "2022-12-07T18:38:42.465Z"
   },
   {
    "duration": 17,
    "start_time": "2022-12-07T18:38:48.050Z"
   },
   {
    "duration": 19,
    "start_time": "2022-12-07T18:38:59.778Z"
   },
   {
    "duration": 26,
    "start_time": "2022-12-07T18:39:25.842Z"
   },
   {
    "duration": 267327,
    "start_time": "2022-12-07T18:39:54.339Z"
   },
   {
    "duration": 47288,
    "start_time": "2022-12-07T18:46:14.131Z"
   },
   {
    "duration": 61384,
    "start_time": "2022-12-07T18:47:42.444Z"
   },
   {
    "duration": 15458,
    "start_time": "2022-12-07T18:51:45.988Z"
   },
   {
    "duration": 15436,
    "start_time": "2022-12-07T18:55:07.164Z"
   },
   {
    "duration": 46404,
    "start_time": "2022-12-07T18:56:35.669Z"
   },
   {
    "duration": 15236,
    "start_time": "2022-12-07T18:58:02.508Z"
   },
   {
    "duration": 61367,
    "start_time": "2022-12-07T18:58:47.093Z"
   },
   {
    "duration": 178304,
    "start_time": "2022-12-07T19:00:02.813Z"
   },
   {
    "duration": 6,
    "start_time": "2022-12-07T19:05:57.742Z"
   },
   {
    "duration": 119498,
    "start_time": "2022-12-07T19:05:58.198Z"
   },
   {
    "duration": 180081,
    "start_time": "2022-12-07T19:09:32.199Z"
   },
   {
    "duration": 965,
    "start_time": "2022-12-07T19:13:04.458Z"
   },
   {
    "duration": 6,
    "start_time": "2022-12-07T19:22:50.665Z"
   },
   {
    "duration": 4,
    "start_time": "2022-12-07T19:22:55.528Z"
   },
   {
    "duration": 940,
    "start_time": "2022-12-07T19:22:55.792Z"
   },
   {
    "duration": 7,
    "start_time": "2022-12-07T19:23:30.880Z"
   },
   {
    "duration": 661,
    "start_time": "2022-12-07T19:23:31.832Z"
   },
   {
    "duration": 348,
    "start_time": "2022-12-07T19:23:32.496Z"
   },
   {
    "duration": 37,
    "start_time": "2022-12-07T19:23:33.053Z"
   },
   {
    "duration": 6,
    "start_time": "2022-12-07T19:23:33.920Z"
   },
   {
    "duration": 7,
    "start_time": "2022-12-07T19:23:34.264Z"
   },
   {
    "duration": 5,
    "start_time": "2022-12-07T19:23:35.379Z"
   },
   {
    "duration": 297,
    "start_time": "2022-12-07T19:23:36.041Z"
   },
   {
    "duration": 363,
    "start_time": "2022-12-07T19:23:36.393Z"
   },
   {
    "duration": 290,
    "start_time": "2022-12-07T19:23:36.776Z"
   },
   {
    "duration": 185,
    "start_time": "2022-12-07T19:23:37.888Z"
   },
   {
    "duration": 160,
    "start_time": "2022-12-07T19:23:38.616Z"
   },
   {
    "duration": 153,
    "start_time": "2022-12-07T19:23:39.352Z"
   },
   {
    "duration": 180,
    "start_time": "2022-12-07T19:23:39.716Z"
   },
   {
    "duration": 146,
    "start_time": "2022-12-07T19:23:40.080Z"
   },
   {
    "duration": 154,
    "start_time": "2022-12-07T19:23:40.256Z"
   },
   {
    "duration": 5,
    "start_time": "2022-12-07T19:23:40.440Z"
   },
   {
    "duration": 220,
    "start_time": "2022-12-07T19:23:41.168Z"
   },
   {
    "duration": 9,
    "start_time": "2022-12-07T19:23:42.152Z"
   },
   {
    "duration": 14,
    "start_time": "2022-12-07T19:23:42.364Z"
   },
   {
    "duration": 18,
    "start_time": "2022-12-07T19:23:42.944Z"
   },
   {
    "duration": 8,
    "start_time": "2022-12-07T19:23:43.344Z"
   },
   {
    "duration": 3,
    "start_time": "2022-12-07T19:23:43.930Z"
   },
   {
    "duration": 7,
    "start_time": "2022-12-07T19:23:44.319Z"
   },
   {
    "duration": 2,
    "start_time": "2022-12-07T19:23:44.696Z"
   },
   {
    "duration": 1266,
    "start_time": "2022-12-07T19:23:44.888Z"
   },
   {
    "duration": 331130,
    "start_time": "2022-12-07T19:23:46.156Z"
   },
   {
    "duration": 0,
    "start_time": "2022-12-07T19:29:17.288Z"
   },
   {
    "duration": 0,
    "start_time": "2022-12-07T19:29:17.289Z"
   },
   {
    "duration": 0,
    "start_time": "2022-12-07T19:29:17.290Z"
   },
   {
    "duration": 5,
    "start_time": "2022-12-07T19:29:46.618Z"
   },
   {
    "duration": 699,
    "start_time": "2022-12-07T19:29:47.290Z"
   },
   {
    "duration": 362,
    "start_time": "2022-12-07T19:29:47.991Z"
   },
   {
    "duration": 42,
    "start_time": "2022-12-07T19:29:48.386Z"
   },
   {
    "duration": 7,
    "start_time": "2022-12-07T19:29:49.289Z"
   },
   {
    "duration": 9,
    "start_time": "2022-12-07T19:29:49.668Z"
   },
   {
    "duration": 6,
    "start_time": "2022-12-07T19:29:50.401Z"
   },
   {
    "duration": 317,
    "start_time": "2022-12-07T19:29:51.337Z"
   },
   {
    "duration": 322,
    "start_time": "2022-12-07T19:29:51.714Z"
   },
   {
    "duration": 325,
    "start_time": "2022-12-07T19:29:52.097Z"
   },
   {
    "duration": 271,
    "start_time": "2022-12-07T19:29:53.209Z"
   },
   {
    "duration": 210,
    "start_time": "2022-12-07T19:29:54.000Z"
   },
   {
    "duration": 140,
    "start_time": "2022-12-07T19:29:54.769Z"
   },
   {
    "duration": 144,
    "start_time": "2022-12-07T19:29:55.121Z"
   },
   {
    "duration": 143,
    "start_time": "2022-12-07T19:29:55.460Z"
   },
   {
    "duration": 151,
    "start_time": "2022-12-07T19:29:55.633Z"
   },
   {
    "duration": 4,
    "start_time": "2022-12-07T19:29:55.829Z"
   },
   {
    "duration": 206,
    "start_time": "2022-12-07T19:29:56.601Z"
   },
   {
    "duration": 10,
    "start_time": "2022-12-07T19:29:57.531Z"
   },
   {
    "duration": 15,
    "start_time": "2022-12-07T19:29:57.750Z"
   },
   {
    "duration": 18,
    "start_time": "2022-12-07T19:29:58.529Z"
   },
   {
    "duration": 6,
    "start_time": "2022-12-07T19:29:58.930Z"
   },
   {
    "duration": 4,
    "start_time": "2022-12-07T19:29:59.513Z"
   },
   {
    "duration": 7,
    "start_time": "2022-12-07T19:29:59.992Z"
   },
   {
    "duration": 3,
    "start_time": "2022-12-07T19:30:00.393Z"
   },
   {
    "duration": 1683,
    "start_time": "2022-12-07T19:30:00.571Z"
   },
   {
    "duration": 151909,
    "start_time": "2022-12-07T19:30:02.258Z"
   },
   {
    "duration": 20,
    "start_time": "2022-12-07T19:32:34.169Z"
   },
   {
    "duration": 0,
    "start_time": "2022-12-07T19:32:34.192Z"
   },
   {
    "duration": 0,
    "start_time": "2022-12-07T19:32:34.193Z"
   },
   {
    "duration": 15,
    "start_time": "2022-12-07T19:33:22.379Z"
   },
   {
    "duration": 5903,
    "start_time": "2022-12-07T19:33:33.258Z"
   },
   {
    "duration": 4,
    "start_time": "2022-12-07T19:33:48.467Z"
   },
   {
    "duration": 2710,
    "start_time": "2022-12-07T19:33:49.554Z"
   },
   {
    "duration": 2783,
    "start_time": "2022-12-07T19:34:29.875Z"
   },
   {
    "duration": 2850,
    "start_time": "2022-12-07T19:35:48.452Z"
   },
   {
    "duration": 2699,
    "start_time": "2022-12-07T19:36:51.155Z"
   },
   {
    "duration": 3014,
    "start_time": "2022-12-07T19:37:48.964Z"
   },
   {
    "duration": 2856,
    "start_time": "2022-12-07T19:38:07.187Z"
   },
   {
    "duration": 938194,
    "start_time": "2022-12-07T20:02:05.567Z"
   },
   {
    "duration": 1155,
    "start_time": "2022-12-07T21:21:04.885Z"
   },
   {
    "duration": 781,
    "start_time": "2022-12-07T21:21:09.317Z"
   },
   {
    "duration": 367,
    "start_time": "2022-12-07T21:21:10.100Z"
   },
   {
    "duration": 33,
    "start_time": "2022-12-07T21:21:10.469Z"
   },
   {
    "duration": 6,
    "start_time": "2022-12-07T21:21:11.205Z"
   },
   {
    "duration": 8,
    "start_time": "2022-12-07T21:21:11.564Z"
   },
   {
    "duration": 5,
    "start_time": "2022-12-07T21:21:12.325Z"
   },
   {
    "duration": 639,
    "start_time": "2022-12-07T21:21:13.212Z"
   },
   {
    "duration": 290,
    "start_time": "2022-12-07T21:21:13.853Z"
   },
   {
    "duration": 393,
    "start_time": "2022-12-07T21:21:14.154Z"
   },
   {
    "duration": 176,
    "start_time": "2022-12-07T21:21:15.109Z"
   },
   {
    "duration": 144,
    "start_time": "2022-12-07T21:21:15.877Z"
   },
   {
    "duration": 146,
    "start_time": "2022-12-07T21:21:16.645Z"
   },
   {
    "duration": 138,
    "start_time": "2022-12-07T21:21:17.036Z"
   },
   {
    "duration": 144,
    "start_time": "2022-12-07T21:21:17.436Z"
   },
   {
    "duration": 146,
    "start_time": "2022-12-07T21:21:17.625Z"
   },
   {
    "duration": 5,
    "start_time": "2022-12-07T21:21:17.804Z"
   },
   {
    "duration": 200,
    "start_time": "2022-12-07T21:21:18.597Z"
   },
   {
    "duration": 10,
    "start_time": "2022-12-07T21:21:19.605Z"
   },
   {
    "duration": 17,
    "start_time": "2022-12-07T21:21:19.804Z"
   },
   {
    "duration": 19,
    "start_time": "2022-12-07T21:21:20.380Z"
   },
   {
    "duration": 7,
    "start_time": "2022-12-07T21:21:20.764Z"
   },
   {
    "duration": 3,
    "start_time": "2022-12-07T21:21:21.356Z"
   },
   {
    "duration": 6,
    "start_time": "2022-12-07T21:21:21.747Z"
   },
   {
    "duration": 3,
    "start_time": "2022-12-07T21:21:22.156Z"
   },
   {
    "duration": 1389,
    "start_time": "2022-12-07T21:21:22.364Z"
   },
   {
    "duration": 154785,
    "start_time": "2022-12-07T21:21:23.756Z"
   },
   {
    "duration": 6810,
    "start_time": "2022-12-07T21:23:58.543Z"
   },
   {
    "duration": 0,
    "start_time": "2022-12-07T21:25:35.801Z"
   },
   {
    "duration": 244309,
    "start_time": "2022-12-07T21:25:37.521Z"
   },
   {
    "duration": 311566,
    "start_time": "2022-12-07T21:30:27.998Z"
   },
   {
    "duration": 6344,
    "start_time": "2022-12-07T21:35:46.815Z"
   },
   {
    "duration": 5,
    "start_time": "2022-12-07T21:35:57.342Z"
   },
   {
    "duration": 27874,
    "start_time": "2022-12-07T21:35:59.015Z"
   },
   {
    "duration": 1165,
    "start_time": "2022-12-08T16:22:24.413Z"
   },
   {
    "duration": 2647,
    "start_time": "2022-12-08T16:22:25.580Z"
   },
   {
    "duration": 315,
    "start_time": "2022-12-08T16:22:28.229Z"
   },
   {
    "duration": 28,
    "start_time": "2022-12-08T16:22:28.547Z"
   },
   {
    "duration": 8,
    "start_time": "2022-12-08T16:22:28.577Z"
   },
   {
    "duration": 14,
    "start_time": "2022-12-08T16:22:28.586Z"
   },
   {
    "duration": 5,
    "start_time": "2022-12-08T16:22:30.140Z"
   },
   {
    "duration": 664,
    "start_time": "2022-12-08T16:22:31.218Z"
   },
   {
    "duration": 383,
    "start_time": "2022-12-08T16:22:31.883Z"
   },
   {
    "duration": 299,
    "start_time": "2022-12-08T16:22:32.268Z"
   },
   {
    "duration": 228,
    "start_time": "2022-12-08T16:22:33.313Z"
   },
   {
    "duration": 128,
    "start_time": "2022-12-08T16:22:34.322Z"
   },
   {
    "duration": 124,
    "start_time": "2022-12-08T16:22:35.122Z"
   },
   {
    "duration": 122,
    "start_time": "2022-12-08T16:22:35.494Z"
   },
   {
    "duration": 128,
    "start_time": "2022-12-08T16:22:35.884Z"
   },
   {
    "duration": 128,
    "start_time": "2022-12-08T16:22:36.096Z"
   },
   {
    "duration": 8,
    "start_time": "2022-12-08T16:22:36.297Z"
   },
   {
    "duration": 177,
    "start_time": "2022-12-08T16:22:37.105Z"
   },
   {
    "duration": 8,
    "start_time": "2022-12-08T16:22:38.103Z"
   },
   {
    "duration": 15,
    "start_time": "2022-12-08T16:22:38.304Z"
   },
   {
    "duration": 18,
    "start_time": "2022-12-08T16:22:38.881Z"
   },
   {
    "duration": 6,
    "start_time": "2022-12-08T16:22:39.273Z"
   },
   {
    "duration": 4,
    "start_time": "2022-12-08T16:22:39.912Z"
   },
   {
    "duration": 6,
    "start_time": "2022-12-08T16:22:40.352Z"
   },
   {
    "duration": 2,
    "start_time": "2022-12-08T16:22:40.751Z"
   },
   {
    "duration": 1365,
    "start_time": "2022-12-08T16:22:40.953Z"
   },
   {
    "duration": 20636,
    "start_time": "2022-12-08T16:22:42.321Z"
   },
   {
    "duration": 0,
    "start_time": "2022-12-08T16:23:02.958Z"
   },
   {
    "duration": 0,
    "start_time": "2022-12-08T16:23:02.960Z"
   },
   {
    "duration": 0,
    "start_time": "2022-12-08T16:23:02.961Z"
   },
   {
    "duration": 20247,
    "start_time": "2022-12-08T16:23:21.689Z"
   },
   {
    "duration": 101194,
    "start_time": "2022-12-08T16:24:54.609Z"
   },
   {
    "duration": 100825,
    "start_time": "2022-12-08T16:27:06.930Z"
   },
   {
    "duration": 6062,
    "start_time": "2022-12-08T16:28:59.256Z"
   },
   {
    "duration": 5756,
    "start_time": "2022-12-08T16:29:28.066Z"
   },
   {
    "duration": 4,
    "start_time": "2022-12-08T16:29:40.601Z"
   },
   {
    "duration": 10,
    "start_time": "2022-12-08T16:29:42.289Z"
   },
   {
    "duration": 124,
    "start_time": "2022-12-08T16:30:11.952Z"
   },
   {
    "duration": 209,
    "start_time": "2022-12-08T16:30:27.033Z"
   },
   {
    "duration": 211,
    "start_time": "2022-12-08T16:30:47.496Z"
   },
   {
    "duration": 207,
    "start_time": "2022-12-08T16:31:20.112Z"
   },
   {
    "duration": 5114,
    "start_time": "2022-12-08T16:31:52.417Z"
   },
   {
    "duration": 14,
    "start_time": "2022-12-08T16:32:27.912Z"
   },
   {
    "duration": 3,
    "start_time": "2022-12-08T16:32:42.569Z"
   },
   {
    "duration": 3771,
    "start_time": "2022-12-08T16:32:43.249Z"
   },
   {
    "duration": 6120,
    "start_time": "2022-12-08T16:32:58.202Z"
   },
   {
    "duration": 11264,
    "start_time": "2022-12-08T16:33:20.057Z"
   },
   {
    "duration": 0,
    "start_time": "2022-12-08T16:35:00.167Z"
   },
   {
    "duration": 0,
    "start_time": "2022-12-08T16:35:00.168Z"
   },
   {
    "duration": 9,
    "start_time": "2022-12-08T16:35:02.033Z"
   },
   {
    "duration": 666,
    "start_time": "2022-12-08T16:35:03.368Z"
   },
   {
    "duration": 316,
    "start_time": "2022-12-08T16:35:04.036Z"
   },
   {
    "duration": 30,
    "start_time": "2022-12-08T16:35:04.509Z"
   },
   {
    "duration": 6,
    "start_time": "2022-12-08T16:35:05.416Z"
   },
   {
    "duration": 7,
    "start_time": "2022-12-08T16:35:05.761Z"
   },
   {
    "duration": 5,
    "start_time": "2022-12-08T16:35:06.457Z"
   },
   {
    "duration": 259,
    "start_time": "2022-12-08T16:35:07.377Z"
   },
   {
    "duration": 245,
    "start_time": "2022-12-08T16:35:07.753Z"
   },
   {
    "duration": 259,
    "start_time": "2022-12-08T16:35:08.113Z"
   },
   {
    "duration": 310,
    "start_time": "2022-12-08T16:35:09.633Z"
   },
   {
    "duration": 161,
    "start_time": "2022-12-08T16:35:10.584Z"
   },
   {
    "duration": 126,
    "start_time": "2022-12-08T16:35:11.353Z"
   },
   {
    "duration": 117,
    "start_time": "2022-12-08T16:35:11.738Z"
   },
   {
    "duration": 136,
    "start_time": "2022-12-08T16:35:12.129Z"
   },
   {
    "duration": 146,
    "start_time": "2022-12-08T16:35:12.328Z"
   },
   {
    "duration": 4,
    "start_time": "2022-12-08T16:35:12.476Z"
   },
   {
    "duration": 197,
    "start_time": "2022-12-08T16:35:13.273Z"
   },
   {
    "duration": 8,
    "start_time": "2022-12-08T16:35:14.304Z"
   },
   {
    "duration": 13,
    "start_time": "2022-12-08T16:35:14.496Z"
   },
   {
    "duration": 16,
    "start_time": "2022-12-08T16:35:15.097Z"
   },
   {
    "duration": 6,
    "start_time": "2022-12-08T16:35:15.481Z"
   },
   {
    "duration": 3,
    "start_time": "2022-12-08T16:35:16.097Z"
   },
   {
    "duration": 5,
    "start_time": "2022-12-08T16:35:16.457Z"
   },
   {
    "duration": 2,
    "start_time": "2022-12-08T16:35:17.040Z"
   },
   {
    "duration": 2658,
    "start_time": "2022-12-08T16:35:17.257Z"
   },
   {
    "duration": 304702,
    "start_time": "2022-12-08T16:35:19.918Z"
   },
   {
    "duration": 10600,
    "start_time": "2022-12-08T16:40:24.621Z"
   },
   {
    "duration": 94,
    "start_time": "2022-12-08T16:40:35.226Z"
   },
   {
    "duration": 77,
    "start_time": "2022-12-08T16:40:35.322Z"
   },
   {
    "duration": 48,
    "start_time": "2022-12-09T14:57:01.789Z"
   },
   {
    "duration": 1205,
    "start_time": "2022-12-09T14:57:07.521Z"
   },
   {
    "duration": 4007,
    "start_time": "2022-12-09T14:57:08.728Z"
   },
   {
    "duration": 357,
    "start_time": "2022-12-09T14:57:12.737Z"
   },
   {
    "duration": 30,
    "start_time": "2022-12-09T14:57:13.096Z"
   },
   {
    "duration": 7,
    "start_time": "2022-12-09T14:57:13.127Z"
   },
   {
    "duration": 25,
    "start_time": "2022-12-09T14:57:13.135Z"
   },
   {
    "duration": 12,
    "start_time": "2022-12-09T14:57:13.162Z"
   },
   {
    "duration": 787,
    "start_time": "2022-12-09T14:57:13.176Z"
   },
   {
    "duration": 385,
    "start_time": "2022-12-09T14:57:13.966Z"
   },
   {
    "duration": 338,
    "start_time": "2022-12-09T14:57:14.354Z"
   },
   {
    "duration": 283,
    "start_time": "2022-12-09T14:57:14.694Z"
   },
   {
    "duration": 151,
    "start_time": "2022-12-09T14:57:14.979Z"
   },
   {
    "duration": 140,
    "start_time": "2022-12-09T14:57:15.544Z"
   },
   {
    "duration": 143,
    "start_time": "2022-12-09T14:57:15.912Z"
   },
   {
    "duration": 148,
    "start_time": "2022-12-09T14:57:16.263Z"
   },
   {
    "duration": 154,
    "start_time": "2022-12-09T14:57:16.439Z"
   },
   {
    "duration": 5,
    "start_time": "2022-12-09T14:57:16.616Z"
   },
   {
    "duration": 199,
    "start_time": "2022-12-09T14:57:17.321Z"
   },
   {
    "duration": 11,
    "start_time": "2022-12-09T14:57:18.218Z"
   },
   {
    "duration": 22,
    "start_time": "2022-12-09T14:57:18.408Z"
   },
   {
    "duration": 21,
    "start_time": "2022-12-09T14:57:18.960Z"
   },
   {
    "duration": 6,
    "start_time": "2022-12-09T14:57:19.336Z"
   },
   {
    "duration": 3,
    "start_time": "2022-12-09T14:57:20.056Z"
   },
   {
    "duration": 6,
    "start_time": "2022-12-09T14:57:20.401Z"
   },
   {
    "duration": 3,
    "start_time": "2022-12-09T14:57:20.790Z"
   },
   {
    "duration": 2592,
    "start_time": "2022-12-09T14:57:20.963Z"
   },
   {
    "duration": 315494,
    "start_time": "2022-12-09T14:57:23.655Z"
   },
   {
    "duration": 8304,
    "start_time": "2022-12-09T15:02:39.154Z"
   },
   {
    "duration": 95,
    "start_time": "2022-12-09T15:02:47.461Z"
   },
   {
    "duration": 112,
    "start_time": "2022-12-09T15:02:47.558Z"
   },
   {
    "duration": 7,
    "start_time": "2022-12-09T15:02:47.672Z"
   },
   {
    "duration": 5,
    "start_time": "2022-12-09T15:03:18.122Z"
   },
   {
    "duration": 7,
    "start_time": "2022-12-09T15:03:39.987Z"
   },
   {
    "duration": 53,
    "start_time": "2022-12-09T15:06:04.043Z"
   },
   {
    "duration": 7,
    "start_time": "2022-12-09T15:06:23.332Z"
   },
   {
    "duration": 8,
    "start_time": "2022-12-09T15:06:38.235Z"
   },
   {
    "duration": 9,
    "start_time": "2022-12-09T15:09:29.948Z"
   },
   {
    "duration": 12,
    "start_time": "2022-12-09T15:09:41.549Z"
   }
  ],
  "kernelspec": {
   "display_name": "Python 3 (ipykernel)",
   "language": "python",
   "name": "python3"
  },
  "language_info": {
   "codemirror_mode": {
    "name": "ipython",
    "version": 3
   },
   "file_extension": ".py",
   "mimetype": "text/x-python",
   "name": "python",
   "nbconvert_exporter": "python",
   "pygments_lexer": "ipython3",
   "version": "3.9.12"
  },
  "toc": {
   "base_numbering": 1,
   "nav_menu": {},
   "number_sections": true,
   "sideBar": true,
   "skip_h1_title": true,
   "title_cell": "Содержание",
   "title_sidebar": "Contents",
   "toc_cell": true,
   "toc_position": {
    "height": "calc(100% - 180px)",
    "left": "10px",
    "top": "150px",
    "width": "165px"
   },
   "toc_section_display": true,
   "toc_window_display": true
  }
 },
 "nbformat": 4,
 "nbformat_minor": 2
}
