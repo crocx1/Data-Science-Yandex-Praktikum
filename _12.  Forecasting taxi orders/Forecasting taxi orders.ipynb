{
 "cells": [
  {
   "cell_type": "markdown",
   "metadata": {
    "toc": true
   },
   "source": [
    "<h1>Содержание<span class=\"tocSkip\"></span></h1>\n",
    "<div class=\"toc\"><ul class=\"toc-item\"><li><span><a href=\"#Подготовка\" data-toc-modified-id=\"Подготовка-1\"><span class=\"toc-item-num\">1&nbsp;&nbsp;</span>Подготовка</a></span></li><li><span><a href=\"#Анализ\" data-toc-modified-id=\"Анализ-2\"><span class=\"toc-item-num\">2&nbsp;&nbsp;</span>Анализ</a></span></li><li><span><a href=\"#Обучение\" data-toc-modified-id=\"Обучение-3\"><span class=\"toc-item-num\">3&nbsp;&nbsp;</span>Обучение</a></span></li><li><span><a href=\"#Тестирование\" data-toc-modified-id=\"Тестирование-4\"><span class=\"toc-item-num\">4&nbsp;&nbsp;</span>Тестирование</a></span></li><li><span><a href=\"#Чек-лист-проверки\" data-toc-modified-id=\"Чек-лист-проверки-5\"><span class=\"toc-item-num\">5&nbsp;&nbsp;</span>Чек-лист проверки</a></span></li></ul></div>"
   ]
  },
  {
   "cell_type": "markdown",
   "metadata": {},
   "source": [
    "#  Прогнозирование заказов такси"
   ]
  },
  {
   "cell_type": "markdown",
   "metadata": {},
   "source": [
    "Компания «Чётенькое такси» собрала исторические данные о заказах такси в аэропортах. Чтобы привлекать больше водителей в период пиковой нагрузки, нужно спрогнозировать количество заказов такси на следующий час. Постройте модель для такого предсказания.\n",
    "\n",
    "Значение метрики *RMSE* на тестовой выборке должно быть не больше 48.\n",
    "\n",
    "Вам нужно:\n",
    "\n",
    "1. Загрузить данные и выполнить их ресемплирование по одному часу.\n",
    "2. Проанализировать данные.\n",
    "3. Обучить разные модели с различными гиперпараметрами. Сделать тестовую выборку размером 10% от исходных данных.\n",
    "4. Проверить данные на тестовой выборке и сделать выводы.\n",
    "\n",
    "\n",
    "Данные лежат в файле `taxi.csv`. Количество заказов находится в столбце `num_orders` (от англ. *number of orders*, «число заказов»)."
   ]
  },
  {
   "cell_type": "markdown",
   "metadata": {},
   "source": [
    "Данные проект направлен на вычисление объема зказов в сфере такси на ближайший час. "
   ]
  },
  {
   "cell_type": "markdown",
   "metadata": {},
   "source": [
    "## Подготовка"
   ]
  },
  {
   "cell_type": "markdown",
   "metadata": {},
   "source": [
    "Импорт библиотек"
   ]
  },
  {
   "cell_type": "code",
   "execution_count": 55,
   "metadata": {},
   "outputs": [],
   "source": [
    "import pandas as pd\n",
    "import numpy as np\n",
    "import seaborn as sns\n",
    "import matplotlib.pyplot as plt\n",
    "from sklearn.impute import SimpleImputer\n",
    "from sklearn.preprocessing import OrdinalEncoder, StandardScaler\n",
    "from sklearn.metrics import (\n",
    "    mean_absolute_error,\n",
    "    make_scorer,\n",
    "    confusion_matrix,\n",
    "    fbeta_score,\n",
    "    mean_squared_error,\n",
    ")\n",
    "from scipy import stats as st\n",
    "from sklearn.linear_model import LinearRegression\n",
    "from sklearn import datasets, linear_model\n",
    "from sklearn.svm import LinearSVC\n",
    "from sklearn.ensemble import RandomForestRegressor\n",
    "from sklearn.model_selection import (\n",
    "    GridSearchCV,\n",
    "    RandomizedSearchCV,\n",
    "    StratifiedKFold,\n",
    "    cross_val_score,\n",
    "    cross_validate,\n",
    "    train_test_split,\n",
    ")\n",
    "from sklearn.dummy import DummyRegressor\n",
    "import lightgbm as lgb\n",
    "from sklearn.datasets import load_boston\n",
    "import matplotlib.pyplot as plt\n",
    "from pandas import DataFrame\n",
    "import matplotlib.pyplot as plt\n",
    "import time\n",
    "import lightgbm\n",
    "from lightgbm import LGBMRegressor\n",
    "from catboost import CatBoostRegressor\n",
    "from statsmodels.tsa.seasonal import seasonal_decompose\n",
    "from sklearn.model_selection import TimeSeriesSplit\n"
   ]
  },
  {
   "cell_type": "markdown",
   "metadata": {},
   "source": [
    "Загрузка датасета"
   ]
  },
  {
   "cell_type": "code",
   "execution_count": 56,
   "metadata": {
    "scrolled": true
   },
   "outputs": [],
   "source": [
    "data = pd.read_csv('/datasets/taxi.csv', index_col=[0], parse_dates=[0])\n",
    "data.sort_index(inplace=True)\n",
    "data = data.resample('1H').sum()"
   ]
  },
  {
   "cell_type": "code",
   "execution_count": 57,
   "metadata": {
    "scrolled": true
   },
   "outputs": [
    {
     "name": "stdout",
     "output_type": "stream",
     "text": [
      "<class 'pandas.core.frame.DataFrame'>\n",
      "DatetimeIndex: 4416 entries, 2018-03-01 00:00:00 to 2018-08-31 23:00:00\n",
      "Freq: H\n",
      "Data columns (total 1 columns):\n",
      " #   Column      Non-Null Count  Dtype\n",
      "---  ------      --------------  -----\n",
      " 0   num_orders  4416 non-null   int64\n",
      "dtypes: int64(1)\n",
      "memory usage: 69.0 KB\n"
     ]
    }
   ],
   "source": [
    "data.shape\n",
    "data.info()"
   ]
  },
  {
   "cell_type": "code",
   "execution_count": 58,
   "metadata": {
    "scrolled": true
   },
   "outputs": [
    {
     "name": "stdout",
     "output_type": "stream",
     "text": [
      "                     num_orders\n",
      "datetime                       \n",
      "2018-03-01 00:00:00         124\n",
      "2018-03-01 01:00:00          85\n",
      "2018-03-01 02:00:00          71\n",
      "2018-03-01 03:00:00          66\n",
      "2018-03-01 04:00:00          43\n"
     ]
    }
   ],
   "source": [
    "print(data.head())"
   ]
  },
  {
   "cell_type": "code",
   "execution_count": 59,
   "metadata": {},
   "outputs": [
    {
     "data": {
      "text/plain": [
       "num_orders    0\n",
       "dtype: int64"
      ]
     },
     "execution_count": 59,
     "metadata": {},
     "output_type": "execute_result"
    }
   ],
   "source": [
    "data.isnull().sum()"
   ]
  },
  {
   "cell_type": "markdown",
   "metadata": {},
   "source": [
    "## Анализ"
   ]
  },
  {
   "cell_type": "code",
   "execution_count": 60,
   "metadata": {},
   "outputs": [
    {
     "data": {
      "text/html": [
       "<div>\n",
       "<style scoped>\n",
       "    .dataframe tbody tr th:only-of-type {\n",
       "        vertical-align: middle;\n",
       "    }\n",
       "\n",
       "    .dataframe tbody tr th {\n",
       "        vertical-align: top;\n",
       "    }\n",
       "\n",
       "    .dataframe thead th {\n",
       "        text-align: right;\n",
       "    }\n",
       "</style>\n",
       "<table border=\"1\" class=\"dataframe\">\n",
       "  <thead>\n",
       "    <tr style=\"text-align: right;\">\n",
       "      <th></th>\n",
       "      <th>num_orders</th>\n",
       "    </tr>\n",
       "  </thead>\n",
       "  <tbody>\n",
       "    <tr>\n",
       "      <th>count</th>\n",
       "      <td>4416.000000</td>\n",
       "    </tr>\n",
       "    <tr>\n",
       "      <th>mean</th>\n",
       "      <td>84.422781</td>\n",
       "    </tr>\n",
       "    <tr>\n",
       "      <th>std</th>\n",
       "      <td>45.023853</td>\n",
       "    </tr>\n",
       "    <tr>\n",
       "      <th>min</th>\n",
       "      <td>0.000000</td>\n",
       "    </tr>\n",
       "    <tr>\n",
       "      <th>25%</th>\n",
       "      <td>54.000000</td>\n",
       "    </tr>\n",
       "    <tr>\n",
       "      <th>50%</th>\n",
       "      <td>78.000000</td>\n",
       "    </tr>\n",
       "    <tr>\n",
       "      <th>75%</th>\n",
       "      <td>107.000000</td>\n",
       "    </tr>\n",
       "    <tr>\n",
       "      <th>max</th>\n",
       "      <td>462.000000</td>\n",
       "    </tr>\n",
       "  </tbody>\n",
       "</table>\n",
       "</div>"
      ],
      "text/plain": [
       "        num_orders\n",
       "count  4416.000000\n",
       "mean     84.422781\n",
       "std      45.023853\n",
       "min       0.000000\n",
       "25%      54.000000\n",
       "50%      78.000000\n",
       "75%     107.000000\n",
       "max     462.000000"
      ]
     },
     "execution_count": 60,
     "metadata": {},
     "output_type": "execute_result"
    }
   ],
   "source": [
    "data.describe()"
   ]
  },
  {
   "cell_type": "markdown",
   "metadata": {},
   "source": [
    "На основе таблиц выше видно, что нет значений сильно выбивающихся из нормального распределения. "
   ]
  },
  {
   "cell_type": "code",
   "execution_count": 61,
   "metadata": {
    "scrolled": true
   },
   "outputs": [
    {
     "data": {
      "text/plain": [
       "<AxesSubplot:xlabel='datetime'>"
      ]
     },
     "execution_count": 61,
     "metadata": {},
     "output_type": "execute_result"
    },
    {
     "data": {
      "image/png": "[encoded data removed]",
      "text/plain": [
       "<Figure size 432x288 with 1 Axes>"
      ]
     },
     "metadata": {
      "needs_background": "light"
     },
     "output_type": "display_data"
    }
   ],
   "source": [
    "data.plot()\n"
   ]
  },
  {
   "cell_type": "code",
   "execution_count": 62,
   "metadata": {},
   "outputs": [],
   "source": [
    "decomposed = seasonal_decompose(data)"
   ]
  },
  {
   "cell_type": "markdown",
   "metadata": {},
   "source": [
    "На данном графике видно, что с каждым месяцем растет объем заказов."
   ]
  },
  {
   "cell_type": "code",
   "execution_count": 63,
   "metadata": {
    "scrolled": true
   },
   "outputs": [
    {
     "data": {
      "text/plain": [
       "Text(0.5, 0.98, 'Seasonal Day')"
      ]
     },
     "execution_count": 63,
     "metadata": {},
     "output_type": "execute_result"
    },
    {
     "data": {
      "image/png": "[encoded data removed]",
      "text/plain": [
       "<Figure size 432x288 with 1 Axes>"
      ]
     },
     "metadata": {
      "needs_background": "light"
     },
     "output_type": "display_data"
    }
   ],
   "source": [
    "decomposed.seasonal['2018-04-01': '2018-04-01'].plot(ax=plt.gca())\n",
    "plt.xlabel('Day')\n",
    "plt.ylabel('num_orders')\n",
    "plt.suptitle('Seasonal Day')\n"
   ]
  },
  {
   "cell_type": "code",
   "execution_count": 64,
   "metadata": {
    "scrolled": true
   },
   "outputs": [
    {
     "data": {
      "text/plain": [
       "Text(0.5, 0.98, 'Seasonal Week')"
      ]
     },
     "execution_count": 64,
     "metadata": {},
     "output_type": "execute_result"
    },
    {
     "data": {
      "image/png": "[encoded data removed]",
      "text/plain": [
       "<Figure size 432x288 with 1 Axes>"
      ]
     },
     "metadata": {
      "needs_background": "light"
     },
     "output_type": "display_data"
    }
   ],
   "source": [
    "decomposed.seasonal['2018-04-01': '2018-04-07'].plot(ax=plt.gca())\n",
    "plt.xlabel('Day')\n",
    "plt.ylabel('num_orders')\n",
    "plt.suptitle('Seasonal Week')"
   ]
  },
  {
   "cell_type": "code",
   "execution_count": 65,
   "metadata": {},
   "outputs": [
    {
     "data": {
      "text/plain": [
       "Text(0.5, 0.98, 'Trend Data')"
      ]
     },
     "execution_count": 65,
     "metadata": {},
     "output_type": "execute_result"
    },
    {
     "data": {
      "image/png": "[encoded data removed]",
      "text/plain": [
       "<Figure size 432x288 with 1 Axes>"
      ]
     },
     "metadata": {
      "needs_background": "light"
     },
     "output_type": "display_data"
    }
   ],
   "source": [
    "decomposed.trend['2018-03-01': '2018-08-31'].plot(ax=plt.gca(), x = 'Day', y = 'num_orders')\n",
    "plt.xlabel('Day')\n",
    "plt.ylabel('num_orders')\n",
    "plt.suptitle('Trend Data')"
   ]
  },
  {
   "cell_type": "markdown",
   "metadata": {},
   "source": [
    "Вывод:\n",
    "1. Были проанализированные данные по количеству заказов\n",
    "2. Сезоналость в течении дня - с 5ти до 8ми наблюдается спад в заказах. Оснавная нагрузка с 15:00 до 00:00\n",
    "3. Что касается тренда  - График тренда постепенно растет наибольший рост наблюдается начиная с августа. "
   ]
  },
  {
   "cell_type": "markdown",
   "metadata": {},
   "source": [
    "## Обучение"
   ]
  },
  {
   "cell_type": "markdown",
   "metadata": {},
   "source": [
    "Необходимо создать признаки для модели."
   ]
  },
  {
   "cell_type": "code",
   "execution_count": 66,
   "metadata": {},
   "outputs": [],
   "source": [
    "def make_features(data, max_lag, rolling_mean_size):\n",
    "    data[\"day\"] = data.index.day\n",
    "    data[\"dayofweek\"] = data.index.dayofweek\n",
    "\n",
    "    for lag in range(1, max_lag + 1):\n",
    "        data[\"lag_{}\".format(lag)] = data[\"num_orders\"].shift(lag)\n",
    "\n",
    "    data[\"rolling_mean\"] = data[\"num_orders\"].shift().rolling(rolling_mean_size).mean()\n",
    "\n",
    "\n",
    "make_features(data, 24, 24)\n",
    "\n",
    "train, test = train_test_split(data, shuffle=False, test_size=0.1)\n",
    "\n",
    "train = train.dropna()\n",
    "\n",
    "features_train = train.drop([\"num_orders\"], axis=1)\n",
    "target_train = train[\"num_orders\"]\n",
    "features_test = test.drop([\"num_orders\"], axis=1)\n",
    "target_test = test[\"num_orders\"]\n"
   ]
  },
  {
   "cell_type": "code",
   "execution_count": 67,
   "metadata": {},
   "outputs": [],
   "source": [
    "tscv = TimeSeriesSplit(n_splits=5)\n"
   ]
  },
  {
   "cell_type": "code",
   "execution_count": 68,
   "metadata": {},
   "outputs": [
    {
     "name": "stdout",
     "output_type": "stream",
     "text": [
      "Fitting 5 folds for each of 120 candidates, totalling 600 fits\n",
      "[CV] END bootstrap=True, max_depth=20, max_features=2, min_samples_leaf=2, min_samples_split=2, n_estimators=20; total time=   0.0s\n",
      "[CV] END bootstrap=True, max_depth=20, max_features=2, min_samples_leaf=2, min_samples_split=2, n_estimators=20; total time=   0.1s\n",
      "[CV] END bootstrap=True, max_depth=20, max_features=2, min_samples_leaf=2, min_samples_split=2, n_estimators=20; total time=   0.1s\n",
      "[CV] END bootstrap=True, max_depth=20, max_features=2, min_samples_leaf=2, min_samples_split=2, n_estimators=20; total time=   0.1s\n",
      "[CV] END bootstrap=True, max_depth=20, max_features=2, min_samples_leaf=2, min_samples_split=2, n_estimators=20; total time=   0.1s\n",
      "[CV] END bootstrap=True, max_depth=20, max_features=2, min_samples_leaf=2, min_samples_split=2, n_estimators=40; total time=   0.1s\n",
      "[CV] END bootstrap=True, max_depth=20, max_features=2, min_samples_leaf=2, min_samples_split=2, n_estimators=40; total time=   0.1s\n",
      "[CV] END bootstrap=True, max_depth=20, max_features=2, min_samples_leaf=2, min_samples_split=2, n_estimators=40; total time=   0.1s\n",
      "[CV] END bootstrap=True, max_depth=20, max_features=2, min_samples_leaf=2, min_samples_split=2, n_estimators=40; total time=   0.2s\n",
      "[CV] END bootstrap=True, max_depth=20, max_features=2, min_samples_leaf=2, min_samples_split=2, n_estimators=40; total time=   0.2s\n",
      "[CV] END bootstrap=True, max_depth=20, max_features=2, min_samples_leaf=2, min_samples_split=3, n_estimators=20; total time=   0.0s\n",
      "[CV] END bootstrap=True, max_depth=20, max_features=2, min_samples_leaf=2, min_samples_split=3, n_estimators=20; total time=   0.0s\n",
      "[CV] END bootstrap=True, max_depth=20, max_features=2, min_samples_leaf=2, min_samples_split=3, n_estimators=20; total time=   0.1s\n",
      "[CV] END bootstrap=True, max_depth=20, max_features=2, min_samples_leaf=2, min_samples_split=3, n_estimators=20; total time=   0.1s\n",
      "[CV] END bootstrap=True, max_depth=20, max_features=2, min_samples_leaf=2, min_samples_split=3, n_estimators=20; total time=   0.1s\n",
      "[CV] END bootstrap=True, max_depth=20, max_features=2, min_samples_leaf=2, min_samples_split=3, n_estimators=40; total time=   0.1s\n",
      "[CV] END bootstrap=True, max_depth=20, max_features=2, min_samples_leaf=2, min_samples_split=3, n_estimators=40; total time=   0.1s\n",
      "[CV] END bootstrap=True, max_depth=20, max_features=2, min_samples_leaf=2, min_samples_split=3, n_estimators=40; total time=   0.1s\n",
      "[CV] END bootstrap=True, max_depth=20, max_features=2, min_samples_leaf=2, min_samples_split=3, n_estimators=40; total time=   0.2s\n",
      "[CV] END bootstrap=True, max_depth=20, max_features=2, min_samples_leaf=2, min_samples_split=3, n_estimators=40; total time=   0.2s\n",
      "[CV] END bootstrap=True, max_depth=20, max_features=2, min_samples_leaf=3, min_samples_split=2, n_estimators=20; total time=   0.0s\n",
      "[CV] END bootstrap=True, max_depth=20, max_features=2, min_samples_leaf=3, min_samples_split=2, n_estimators=20; total time=   0.1s\n",
      "[CV] END bootstrap=True, max_depth=20, max_features=2, min_samples_leaf=3, min_samples_split=2, n_estimators=20; total time=   0.1s\n",
      "[CV] END bootstrap=True, max_depth=20, max_features=2, min_samples_leaf=3, min_samples_split=2, n_estimators=20; total time=   0.1s\n",
      "[CV] END bootstrap=True, max_depth=20, max_features=2, min_samples_leaf=3, min_samples_split=2, n_estimators=20; total time=   0.1s\n",
      "[CV] END bootstrap=True, max_depth=20, max_features=2, min_samples_leaf=3, min_samples_split=2, n_estimators=40; total time=   0.1s\n",
      "[CV] END bootstrap=True, max_depth=20, max_features=2, min_samples_leaf=3, min_samples_split=2, n_estimators=40; total time=   0.1s\n",
      "[CV] END bootstrap=True, max_depth=20, max_features=2, min_samples_leaf=3, min_samples_split=2, n_estimators=40; total time=   0.1s\n",
      "[CV] END bootstrap=True, max_depth=20, max_features=2, min_samples_leaf=3, min_samples_split=2, n_estimators=40; total time=   0.2s\n",
      "[CV] END bootstrap=True, max_depth=20, max_features=2, min_samples_leaf=3, min_samples_split=2, n_estimators=40; total time=   0.2s\n",
      "[CV] END bootstrap=True, max_depth=20, max_features=2, min_samples_leaf=3, min_samples_split=3, n_estimators=20; total time=   0.0s\n",
      "[CV] END bootstrap=True, max_depth=20, max_features=2, min_samples_leaf=3, min_samples_split=3, n_estimators=20; total time=   0.0s\n",
      "[CV] END bootstrap=True, max_depth=20, max_features=2, min_samples_leaf=3, min_samples_split=3, n_estimators=20; total time=   0.1s\n",
      "[CV] END bootstrap=True, max_depth=20, max_features=2, min_samples_leaf=3, min_samples_split=3, n_estimators=20; total time=   0.1s\n",
      "[CV] END bootstrap=True, max_depth=20, max_features=2, min_samples_leaf=3, min_samples_split=3, n_estimators=20; total time=   0.1s\n",
      "[CV] END bootstrap=True, max_depth=20, max_features=2, min_samples_leaf=3, min_samples_split=3, n_estimators=40; total time=   0.1s\n",
      "[CV] END bootstrap=True, max_depth=20, max_features=2, min_samples_leaf=3, min_samples_split=3, n_estimators=40; total time=   0.1s\n",
      "[CV] END bootstrap=True, max_depth=20, max_features=2, min_samples_leaf=3, min_samples_split=3, n_estimators=40; total time=   0.1s\n",
      "[CV] END bootstrap=True, max_depth=20, max_features=2, min_samples_leaf=3, min_samples_split=3, n_estimators=40; total time=   0.2s\n",
      "[CV] END bootstrap=True, max_depth=20, max_features=2, min_samples_leaf=3, min_samples_split=3, n_estimators=40; total time=   0.2s\n",
      "[CV] END bootstrap=True, max_depth=20, max_features=3, min_samples_leaf=2, min_samples_split=2, n_estimators=20; total time=   0.0s\n",
      "[CV] END bootstrap=True, max_depth=20, max_features=3, min_samples_leaf=2, min_samples_split=2, n_estimators=20; total time=   0.1s\n",
      "[CV] END bootstrap=True, max_depth=20, max_features=3, min_samples_leaf=2, min_samples_split=2, n_estimators=20; total time=   0.1s\n",
      "[CV] END bootstrap=True, max_depth=20, max_features=3, min_samples_leaf=2, min_samples_split=2, n_estimators=20; total time=   0.1s\n",
      "[CV] END bootstrap=True, max_depth=20, max_features=3, min_samples_leaf=2, min_samples_split=2, n_estimators=20; total time=   0.1s\n",
      "[CV] END bootstrap=True, max_depth=20, max_features=3, min_samples_leaf=2, min_samples_split=2, n_estimators=40; total time=   0.1s\n",
      "[CV] END bootstrap=True, max_depth=20, max_features=3, min_samples_leaf=2, min_samples_split=2, n_estimators=40; total time=   0.1s\n",
      "[CV] END bootstrap=True, max_depth=20, max_features=3, min_samples_leaf=2, min_samples_split=2, n_estimators=40; total time=   0.2s\n",
      "[CV] END bootstrap=True, max_depth=20, max_features=3, min_samples_leaf=2, min_samples_split=2, n_estimators=40; total time=   0.2s\n",
      "[CV] END bootstrap=True, max_depth=20, max_features=3, min_samples_leaf=2, min_samples_split=2, n_estimators=40; total time=   0.3s\n",
      "[CV] END bootstrap=True, max_depth=20, max_features=3, min_samples_leaf=2, min_samples_split=3, n_estimators=20; total time=   0.0s\n",
      "[CV] END bootstrap=True, max_depth=20, max_features=3, min_samples_leaf=2, min_samples_split=3, n_estimators=20; total time=   0.1s\n",
      "[CV] END bootstrap=True, max_depth=20, max_features=3, min_samples_leaf=2, min_samples_split=3, n_estimators=20; total time=   0.1s\n",
      "[CV] END bootstrap=True, max_depth=20, max_features=3, min_samples_leaf=2, min_samples_split=3, n_estimators=20; total time=   0.1s\n",
      "[CV] END bootstrap=True, max_depth=20, max_features=3, min_samples_leaf=2, min_samples_split=3, n_estimators=20; total time=   0.1s\n",
      "[CV] END bootstrap=True, max_depth=20, max_features=3, min_samples_leaf=2, min_samples_split=3, n_estimators=40; total time=   0.1s\n",
      "[CV] END bootstrap=True, max_depth=20, max_features=3, min_samples_leaf=2, min_samples_split=3, n_estimators=40; total time=   0.1s\n",
      "[CV] END bootstrap=True, max_depth=20, max_features=3, min_samples_leaf=2, min_samples_split=3, n_estimators=40; total time=   0.2s\n",
      "[CV] END bootstrap=True, max_depth=20, max_features=3, min_samples_leaf=2, min_samples_split=3, n_estimators=40; total time=   0.2s\n",
      "[CV] END bootstrap=True, max_depth=20, max_features=3, min_samples_leaf=2, min_samples_split=3, n_estimators=40; total time=   0.3s\n",
      "[CV] END bootstrap=True, max_depth=20, max_features=3, min_samples_leaf=3, min_samples_split=2, n_estimators=20; total time=   0.0s\n",
      "[CV] END bootstrap=True, max_depth=20, max_features=3, min_samples_leaf=3, min_samples_split=2, n_estimators=20; total time=   0.1s\n",
      "[CV] END bootstrap=True, max_depth=20, max_features=3, min_samples_leaf=3, min_samples_split=2, n_estimators=20; total time=   0.1s\n",
      "[CV] END bootstrap=True, max_depth=20, max_features=3, min_samples_leaf=3, min_samples_split=2, n_estimators=20; total time=   0.1s\n",
      "[CV] END bootstrap=True, max_depth=20, max_features=3, min_samples_leaf=3, min_samples_split=2, n_estimators=20; total time=   0.1s\n",
      "[CV] END bootstrap=True, max_depth=20, max_features=3, min_samples_leaf=3, min_samples_split=2, n_estimators=40; total time=   0.1s\n",
      "[CV] END bootstrap=True, max_depth=20, max_features=3, min_samples_leaf=3, min_samples_split=2, n_estimators=40; total time=   0.1s\n",
      "[CV] END bootstrap=True, max_depth=20, max_features=3, min_samples_leaf=3, min_samples_split=2, n_estimators=40; total time=   0.1s\n",
      "[CV] END bootstrap=True, max_depth=20, max_features=3, min_samples_leaf=3, min_samples_split=2, n_estimators=40; total time=   0.2s\n",
      "[CV] END bootstrap=True, max_depth=20, max_features=3, min_samples_leaf=3, min_samples_split=2, n_estimators=40; total time=   0.2s\n",
      "[CV] END bootstrap=True, max_depth=20, max_features=3, min_samples_leaf=3, min_samples_split=3, n_estimators=20; total time=   0.0s\n",
      "[CV] END bootstrap=True, max_depth=20, max_features=3, min_samples_leaf=3, min_samples_split=3, n_estimators=20; total time=   0.1s\n",
      "[CV] END bootstrap=True, max_depth=20, max_features=3, min_samples_leaf=3, min_samples_split=3, n_estimators=20; total time=   0.1s\n",
      "[CV] END bootstrap=True, max_depth=20, max_features=3, min_samples_leaf=3, min_samples_split=3, n_estimators=20; total time=   0.1s\n",
      "[CV] END bootstrap=True, max_depth=20, max_features=3, min_samples_leaf=3, min_samples_split=3, n_estimators=20; total time=   0.1s\n",
      "[CV] END bootstrap=True, max_depth=20, max_features=3, min_samples_leaf=3, min_samples_split=3, n_estimators=40; total time=   0.1s\n",
      "[CV] END bootstrap=True, max_depth=20, max_features=3, min_samples_leaf=3, min_samples_split=3, n_estimators=40; total time=   0.1s\n",
      "[CV] END bootstrap=True, max_depth=20, max_features=3, min_samples_leaf=3, min_samples_split=3, n_estimators=40; total time=   0.2s\n",
      "[CV] END bootstrap=True, max_depth=20, max_features=3, min_samples_leaf=3, min_samples_split=3, n_estimators=40; total time=   0.2s\n",
      "[CV] END bootstrap=True, max_depth=20, max_features=3, min_samples_leaf=3, min_samples_split=3, n_estimators=40; total time=   0.2s\n",
      "[CV] END bootstrap=True, max_depth=20, max_features=4, min_samples_leaf=2, min_samples_split=2, n_estimators=20; total time=   0.1s\n",
      "[CV] END bootstrap=True, max_depth=20, max_features=4, min_samples_leaf=2, min_samples_split=2, n_estimators=20; total time=   0.1s\n",
      "[CV] END bootstrap=True, max_depth=20, max_features=4, min_samples_leaf=2, min_samples_split=2, n_estimators=20; total time=   0.1s\n",
      "[CV] END bootstrap=True, max_depth=20, max_features=4, min_samples_leaf=2, min_samples_split=2, n_estimators=20; total time=   0.1s\n",
      "[CV] END bootstrap=True, max_depth=20, max_features=4, min_samples_leaf=2, min_samples_split=2, n_estimators=20; total time=   0.1s\n",
      "[CV] END bootstrap=True, max_depth=20, max_features=4, min_samples_leaf=2, min_samples_split=2, n_estimators=40; total time=   0.1s\n",
      "[CV] END bootstrap=True, max_depth=20, max_features=4, min_samples_leaf=2, min_samples_split=2, n_estimators=40; total time=   0.1s\n",
      "[CV] END bootstrap=True, max_depth=20, max_features=4, min_samples_leaf=2, min_samples_split=2, n_estimators=40; total time=   0.2s\n",
      "[CV] END bootstrap=True, max_depth=20, max_features=4, min_samples_leaf=2, min_samples_split=2, n_estimators=40; total time=   0.2s\n",
      "[CV] END bootstrap=True, max_depth=20, max_features=4, min_samples_leaf=2, min_samples_split=2, n_estimators=40; total time=   0.3s\n",
      "[CV] END bootstrap=True, max_depth=20, max_features=4, min_samples_leaf=2, min_samples_split=3, n_estimators=20; total time=   0.1s\n",
      "[CV] END bootstrap=True, max_depth=20, max_features=4, min_samples_leaf=2, min_samples_split=3, n_estimators=20; total time=   0.1s\n",
      "[CV] END bootstrap=True, max_depth=20, max_features=4, min_samples_leaf=2, min_samples_split=3, n_estimators=20; total time=   0.1s\n",
      "[CV] END bootstrap=True, max_depth=20, max_features=4, min_samples_leaf=2, min_samples_split=3, n_estimators=20; total time=   0.1s\n",
      "[CV] END bootstrap=True, max_depth=20, max_features=4, min_samples_leaf=2, min_samples_split=3, n_estimators=20; total time=   0.1s\n",
      "[CV] END bootstrap=True, max_depth=20, max_features=4, min_samples_leaf=2, min_samples_split=3, n_estimators=40; total time=   0.1s\n",
      "[CV] END bootstrap=True, max_depth=20, max_features=4, min_samples_leaf=2, min_samples_split=3, n_estimators=40; total time=   0.1s\n",
      "[CV] END bootstrap=True, max_depth=20, max_features=4, min_samples_leaf=2, min_samples_split=3, n_estimators=40; total time=   0.2s\n",
      "[CV] END bootstrap=True, max_depth=20, max_features=4, min_samples_leaf=2, min_samples_split=3, n_estimators=40; total time=   0.3s\n",
      "[CV] END bootstrap=True, max_depth=20, max_features=4, min_samples_leaf=2, min_samples_split=3, n_estimators=40; total time=   0.3s\n",
      "[CV] END bootstrap=True, max_depth=20, max_features=4, min_samples_leaf=3, min_samples_split=2, n_estimators=20; total time=   0.1s\n",
      "[CV] END bootstrap=True, max_depth=20, max_features=4, min_samples_leaf=3, min_samples_split=2, n_estimators=20; total time=   0.1s\n",
      "[CV] END bootstrap=True, max_depth=20, max_features=4, min_samples_leaf=3, min_samples_split=2, n_estimators=20; total time=   0.1s\n",
      "[CV] END bootstrap=True, max_depth=20, max_features=4, min_samples_leaf=3, min_samples_split=2, n_estimators=20; total time=   0.1s\n",
      "[CV] END bootstrap=True, max_depth=20, max_features=4, min_samples_leaf=3, min_samples_split=2, n_estimators=20; total time=   0.2s\n",
      "[CV] END bootstrap=True, max_depth=20, max_features=4, min_samples_leaf=3, min_samples_split=2, n_estimators=40; total time=   0.1s\n",
      "[CV] END bootstrap=True, max_depth=20, max_features=4, min_samples_leaf=3, min_samples_split=2, n_estimators=40; total time=   0.2s\n",
      "[CV] END bootstrap=True, max_depth=20, max_features=4, min_samples_leaf=3, min_samples_split=2, n_estimators=40; total time=   0.2s\n",
      "[CV] END bootstrap=True, max_depth=20, max_features=4, min_samples_leaf=3, min_samples_split=2, n_estimators=40; total time=   0.2s\n",
      "[CV] END bootstrap=True, max_depth=20, max_features=4, min_samples_leaf=3, min_samples_split=2, n_estimators=40; total time=   0.3s\n",
      "[CV] END bootstrap=True, max_depth=20, max_features=4, min_samples_leaf=3, min_samples_split=3, n_estimators=20; total time=   0.0s\n",
      "[CV] END bootstrap=True, max_depth=20, max_features=4, min_samples_leaf=3, min_samples_split=3, n_estimators=20; total time=   0.1s\n",
      "[CV] END bootstrap=True, max_depth=20, max_features=4, min_samples_leaf=3, min_samples_split=3, n_estimators=20; total time=   0.1s\n",
      "[CV] END bootstrap=True, max_depth=20, max_features=4, min_samples_leaf=3, min_samples_split=3, n_estimators=20; total time=   0.1s\n",
      "[CV] END bootstrap=True, max_depth=20, max_features=4, min_samples_leaf=3, min_samples_split=3, n_estimators=20; total time=   0.1s\n",
      "[CV] END bootstrap=True, max_depth=20, max_features=4, min_samples_leaf=3, min_samples_split=3, n_estimators=40; total time=   0.1s\n",
      "[CV] END bootstrap=True, max_depth=20, max_features=4, min_samples_leaf=3, min_samples_split=3, n_estimators=40; total time=   0.1s\n",
      "[CV] END bootstrap=True, max_depth=20, max_features=4, min_samples_leaf=3, min_samples_split=3, n_estimators=40; total time=   0.2s\n",
      "[CV] END bootstrap=True, max_depth=20, max_features=4, min_samples_leaf=3, min_samples_split=3, n_estimators=40; total time=   0.2s\n",
      "[CV] END bootstrap=True, max_depth=20, max_features=4, min_samples_leaf=3, min_samples_split=3, n_estimators=40; total time=   0.3s\n",
      "[CV] END bootstrap=True, max_depth=20, max_features=5, min_samples_leaf=2, min_samples_split=2, n_estimators=20; total time=   0.1s\n",
      "[CV] END bootstrap=True, max_depth=20, max_features=5, min_samples_leaf=2, min_samples_split=2, n_estimators=20; total time=   0.1s\n",
      "[CV] END bootstrap=True, max_depth=20, max_features=5, min_samples_leaf=2, min_samples_split=2, n_estimators=20; total time=   0.1s\n",
      "[CV] END bootstrap=True, max_depth=20, max_features=5, min_samples_leaf=2, min_samples_split=2, n_estimators=20; total time=   0.2s\n",
      "[CV] END bootstrap=True, max_depth=20, max_features=5, min_samples_leaf=2, min_samples_split=2, n_estimators=20; total time=   0.2s\n",
      "[CV] END bootstrap=True, max_depth=20, max_features=5, min_samples_leaf=2, min_samples_split=2, n_estimators=40; total time=   0.1s\n",
      "[CV] END bootstrap=True, max_depth=20, max_features=5, min_samples_leaf=2, min_samples_split=2, n_estimators=40; total time=   0.2s\n",
      "[CV] END bootstrap=True, max_depth=20, max_features=5, min_samples_leaf=2, min_samples_split=2, n_estimators=40; total time=   0.2s\n",
      "[CV] END bootstrap=True, max_depth=20, max_features=5, min_samples_leaf=2, min_samples_split=2, n_estimators=40; total time=   0.3s\n",
      "[CV] END bootstrap=True, max_depth=20, max_features=5, min_samples_leaf=2, min_samples_split=2, n_estimators=40; total time=   0.4s\n",
      "[CV] END bootstrap=True, max_depth=20, max_features=5, min_samples_leaf=2, min_samples_split=3, n_estimators=20; total time=   0.1s\n",
      "[CV] END bootstrap=True, max_depth=20, max_features=5, min_samples_leaf=2, min_samples_split=3, n_estimators=20; total time=   0.1s\n",
      "[CV] END bootstrap=True, max_depth=20, max_features=5, min_samples_leaf=2, min_samples_split=3, n_estimators=20; total time=   0.1s\n",
      "[CV] END bootstrap=True, max_depth=20, max_features=5, min_samples_leaf=2, min_samples_split=3, n_estimators=20; total time=   0.1s\n",
      "[CV] END bootstrap=True, max_depth=20, max_features=5, min_samples_leaf=2, min_samples_split=3, n_estimators=20; total time=   0.2s\n",
      "[CV] END bootstrap=True, max_depth=20, max_features=5, min_samples_leaf=2, min_samples_split=3, n_estimators=40; total time=   0.1s\n",
      "[CV] END bootstrap=True, max_depth=20, max_features=5, min_samples_leaf=2, min_samples_split=3, n_estimators=40; total time=   0.2s\n",
      "[CV] END bootstrap=True, max_depth=20, max_features=5, min_samples_leaf=2, min_samples_split=3, n_estimators=40; total time=   0.2s\n",
      "[CV] END bootstrap=True, max_depth=20, max_features=5, min_samples_leaf=2, min_samples_split=3, n_estimators=40; total time=   0.3s\n",
      "[CV] END bootstrap=True, max_depth=20, max_features=5, min_samples_leaf=2, min_samples_split=3, n_estimators=40; total time=   0.4s\n",
      "[CV] END bootstrap=True, max_depth=20, max_features=5, min_samples_leaf=3, min_samples_split=2, n_estimators=20; total time=   0.0s\n",
      "[CV] END bootstrap=True, max_depth=20, max_features=5, min_samples_leaf=3, min_samples_split=2, n_estimators=20; total time=   0.1s\n",
      "[CV] END bootstrap=True, max_depth=20, max_features=5, min_samples_leaf=3, min_samples_split=2, n_estimators=20; total time=   0.1s\n",
      "[CV] END bootstrap=True, max_depth=20, max_features=5, min_samples_leaf=3, min_samples_split=2, n_estimators=20; total time=   0.1s\n",
      "[CV] END bootstrap=True, max_depth=20, max_features=5, min_samples_leaf=3, min_samples_split=2, n_estimators=20; total time=   0.2s\n",
      "[CV] END bootstrap=True, max_depth=20, max_features=5, min_samples_leaf=3, min_samples_split=2, n_estimators=40; total time=   0.1s\n",
      "[CV] END bootstrap=True, max_depth=20, max_features=5, min_samples_leaf=3, min_samples_split=2, n_estimators=40; total time=   0.2s\n",
      "[CV] END bootstrap=True, max_depth=20, max_features=5, min_samples_leaf=3, min_samples_split=2, n_estimators=40; total time=   0.2s\n",
      "[CV] END bootstrap=True, max_depth=20, max_features=5, min_samples_leaf=3, min_samples_split=2, n_estimators=40; total time=   0.3s\n",
      "[CV] END bootstrap=True, max_depth=20, max_features=5, min_samples_leaf=3, min_samples_split=2, n_estimators=40; total time=   0.3s\n",
      "[CV] END bootstrap=True, max_depth=20, max_features=5, min_samples_leaf=3, min_samples_split=3, n_estimators=20; total time=   0.0s\n",
      "[CV] END bootstrap=True, max_depth=20, max_features=5, min_samples_leaf=3, min_samples_split=3, n_estimators=20; total time=   0.1s\n",
      "[CV] END bootstrap=True, max_depth=20, max_features=5, min_samples_leaf=3, min_samples_split=3, n_estimators=20; total time=   0.1s\n",
      "[CV] END bootstrap=True, max_depth=20, max_features=5, min_samples_leaf=3, min_samples_split=3, n_estimators=20; total time=   0.1s\n",
      "[CV] END bootstrap=True, max_depth=20, max_features=5, min_samples_leaf=3, min_samples_split=3, n_estimators=20; total time=   0.2s\n",
      "[CV] END bootstrap=True, max_depth=20, max_features=5, min_samples_leaf=3, min_samples_split=3, n_estimators=40; total time=   0.1s\n",
      "[CV] END bootstrap=True, max_depth=20, max_features=5, min_samples_leaf=3, min_samples_split=3, n_estimators=40; total time=   0.2s\n",
      "[CV] END bootstrap=True, max_depth=20, max_features=5, min_samples_leaf=3, min_samples_split=3, n_estimators=40; total time=   0.2s\n",
      "[CV] END bootstrap=True, max_depth=20, max_features=5, min_samples_leaf=3, min_samples_split=3, n_estimators=40; total time=   0.3s\n",
      "[CV] END bootstrap=True, max_depth=20, max_features=5, min_samples_leaf=3, min_samples_split=3, n_estimators=40; total time=   0.3s\n",
      "[CV] END bootstrap=True, max_depth=20, max_features=6, min_samples_leaf=2, min_samples_split=2, n_estimators=20; total time=   0.1s\n",
      "[CV] END bootstrap=True, max_depth=20, max_features=6, min_samples_leaf=2, min_samples_split=2, n_estimators=20; total time=   0.1s\n",
      "[CV] END bootstrap=True, max_depth=20, max_features=6, min_samples_leaf=2, min_samples_split=2, n_estimators=20; total time=   0.1s\n",
      "[CV] END bootstrap=True, max_depth=20, max_features=6, min_samples_leaf=2, min_samples_split=2, n_estimators=20; total time=   0.2s\n",
      "[CV] END bootstrap=True, max_depth=20, max_features=6, min_samples_leaf=2, min_samples_split=2, n_estimators=20; total time=   0.2s\n",
      "[CV] END bootstrap=True, max_depth=20, max_features=6, min_samples_leaf=2, min_samples_split=2, n_estimators=40; total time=   0.1s\n",
      "[CV] END bootstrap=True, max_depth=20, max_features=6, min_samples_leaf=2, min_samples_split=2, n_estimators=40; total time=   0.2s\n",
      "[CV] END bootstrap=True, max_depth=20, max_features=6, min_samples_leaf=2, min_samples_split=2, n_estimators=40; total time=   0.3s\n",
      "[CV] END bootstrap=True, max_depth=20, max_features=6, min_samples_leaf=2, min_samples_split=2, n_estimators=40; total time=   0.4s\n",
      "[CV] END bootstrap=True, max_depth=20, max_features=6, min_samples_leaf=2, min_samples_split=2, n_estimators=40; total time=   0.5s\n",
      "[CV] END bootstrap=True, max_depth=20, max_features=6, min_samples_leaf=2, min_samples_split=3, n_estimators=20; total time=   0.1s\n",
      "[CV] END bootstrap=True, max_depth=20, max_features=6, min_samples_leaf=2, min_samples_split=3, n_estimators=20; total time=   0.1s\n",
      "[CV] END bootstrap=True, max_depth=20, max_features=6, min_samples_leaf=2, min_samples_split=3, n_estimators=20; total time=   0.2s\n",
      "[CV] END bootstrap=True, max_depth=20, max_features=6, min_samples_leaf=2, min_samples_split=3, n_estimators=20; total time=   0.2s\n",
      "[CV] END bootstrap=True, max_depth=20, max_features=6, min_samples_leaf=2, min_samples_split=3, n_estimators=20; total time=   0.2s\n",
      "[CV] END bootstrap=True, max_depth=20, max_features=6, min_samples_leaf=2, min_samples_split=3, n_estimators=40; total time=   0.1s\n",
      "[CV] END bootstrap=True, max_depth=20, max_features=6, min_samples_leaf=2, min_samples_split=3, n_estimators=40; total time=   0.2s\n",
      "[CV] END bootstrap=True, max_depth=20, max_features=6, min_samples_leaf=2, min_samples_split=3, n_estimators=40; total time=   0.3s\n",
      "[CV] END bootstrap=True, max_depth=20, max_features=6, min_samples_leaf=2, min_samples_split=3, n_estimators=40; total time=   0.4s\n",
      "[CV] END bootstrap=True, max_depth=20, max_features=6, min_samples_leaf=2, min_samples_split=3, n_estimators=40; total time=   0.4s\n",
      "[CV] END bootstrap=True, max_depth=20, max_features=6, min_samples_leaf=3, min_samples_split=2, n_estimators=20; total time=   0.1s\n",
      "[CV] END bootstrap=True, max_depth=20, max_features=6, min_samples_leaf=3, min_samples_split=2, n_estimators=20; total time=   0.1s\n",
      "[CV] END bootstrap=True, max_depth=20, max_features=6, min_samples_leaf=3, min_samples_split=2, n_estimators=20; total time=   0.2s\n",
      "[CV] END bootstrap=True, max_depth=20, max_features=6, min_samples_leaf=3, min_samples_split=2, n_estimators=20; total time=   0.2s\n",
      "[CV] END bootstrap=True, max_depth=20, max_features=6, min_samples_leaf=3, min_samples_split=2, n_estimators=20; total time=   0.2s\n",
      "[CV] END bootstrap=True, max_depth=20, max_features=6, min_samples_leaf=3, min_samples_split=2, n_estimators=40; total time=   0.1s\n",
      "[CV] END bootstrap=True, max_depth=20, max_features=6, min_samples_leaf=3, min_samples_split=2, n_estimators=40; total time=   0.2s\n",
      "[CV] END bootstrap=True, max_depth=20, max_features=6, min_samples_leaf=3, min_samples_split=2, n_estimators=40; total time=   0.3s\n",
      "[CV] END bootstrap=True, max_depth=20, max_features=6, min_samples_leaf=3, min_samples_split=2, n_estimators=40; total time=   0.4s\n",
      "[CV] END bootstrap=True, max_depth=20, max_features=6, min_samples_leaf=3, min_samples_split=2, n_estimators=40; total time=   0.4s\n",
      "[CV] END bootstrap=True, max_depth=20, max_features=6, min_samples_leaf=3, min_samples_split=3, n_estimators=20; total time=   0.1s\n",
      "[CV] END bootstrap=True, max_depth=20, max_features=6, min_samples_leaf=3, min_samples_split=3, n_estimators=20; total time=   0.1s\n",
      "[CV] END bootstrap=True, max_depth=20, max_features=6, min_samples_leaf=3, min_samples_split=3, n_estimators=20; total time=   0.1s\n",
      "[CV] END bootstrap=True, max_depth=20, max_features=6, min_samples_leaf=3, min_samples_split=3, n_estimators=20; total time=   0.2s\n",
      "[CV] END bootstrap=True, max_depth=20, max_features=6, min_samples_leaf=3, min_samples_split=3, n_estimators=20; total time=   0.2s\n",
      "[CV] END bootstrap=True, max_depth=20, max_features=6, min_samples_leaf=3, min_samples_split=3, n_estimators=40; total time=   0.1s\n",
      "[CV] END bootstrap=True, max_depth=20, max_features=6, min_samples_leaf=3, min_samples_split=3, n_estimators=40; total time=   0.2s\n",
      "[CV] END bootstrap=True, max_depth=20, max_features=6, min_samples_leaf=3, min_samples_split=3, n_estimators=40; total time=   0.2s\n",
      "[CV] END bootstrap=True, max_depth=20, max_features=6, min_samples_leaf=3, min_samples_split=3, n_estimators=40; total time=   0.3s\n",
      "[CV] END bootstrap=True, max_depth=20, max_features=6, min_samples_leaf=3, min_samples_split=3, n_estimators=40; total time=   0.4s\n",
      "[CV] END bootstrap=True, max_depth=30, max_features=2, min_samples_leaf=2, min_samples_split=2, n_estimators=20; total time=   0.0s\n",
      "[CV] END bootstrap=True, max_depth=30, max_features=2, min_samples_leaf=2, min_samples_split=2, n_estimators=20; total time=   0.1s\n",
      "[CV] END bootstrap=True, max_depth=30, max_features=2, min_samples_leaf=2, min_samples_split=2, n_estimators=20; total time=   0.1s\n",
      "[CV] END bootstrap=True, max_depth=30, max_features=2, min_samples_leaf=2, min_samples_split=2, n_estimators=20; total time=   0.1s\n",
      "[CV] END bootstrap=True, max_depth=30, max_features=2, min_samples_leaf=2, min_samples_split=2, n_estimators=20; total time=   0.1s\n",
      "[CV] END bootstrap=True, max_depth=30, max_features=2, min_samples_leaf=2, min_samples_split=2, n_estimators=40; total time=   0.1s\n",
      "[CV] END bootstrap=True, max_depth=30, max_features=2, min_samples_leaf=2, min_samples_split=2, n_estimators=40; total time=   0.1s\n",
      "[CV] END bootstrap=True, max_depth=30, max_features=2, min_samples_leaf=2, min_samples_split=2, n_estimators=40; total time=   0.1s\n",
      "[CV] END bootstrap=True, max_depth=30, max_features=2, min_samples_leaf=2, min_samples_split=2, n_estimators=40; total time=   0.2s\n",
      "[CV] END bootstrap=True, max_depth=30, max_features=2, min_samples_leaf=2, min_samples_split=2, n_estimators=40; total time=   0.2s\n",
      "[CV] END bootstrap=True, max_depth=30, max_features=2, min_samples_leaf=2, min_samples_split=3, n_estimators=20; total time=   0.0s\n",
      "[CV] END bootstrap=True, max_depth=30, max_features=2, min_samples_leaf=2, min_samples_split=3, n_estimators=20; total time=   0.0s\n",
      "[CV] END bootstrap=True, max_depth=30, max_features=2, min_samples_leaf=2, min_samples_split=3, n_estimators=20; total time=   0.1s\n",
      "[CV] END bootstrap=True, max_depth=30, max_features=2, min_samples_leaf=2, min_samples_split=3, n_estimators=20; total time=   0.1s\n",
      "[CV] END bootstrap=True, max_depth=30, max_features=2, min_samples_leaf=2, min_samples_split=3, n_estimators=20; total time=   0.1s\n",
      "[CV] END bootstrap=True, max_depth=30, max_features=2, min_samples_leaf=2, min_samples_split=3, n_estimators=40; total time=   0.1s\n",
      "[CV] END bootstrap=True, max_depth=30, max_features=2, min_samples_leaf=2, min_samples_split=3, n_estimators=40; total time=   0.1s\n",
      "[CV] END bootstrap=True, max_depth=30, max_features=2, min_samples_leaf=2, min_samples_split=3, n_estimators=40; total time=   0.1s\n",
      "[CV] END bootstrap=True, max_depth=30, max_features=2, min_samples_leaf=2, min_samples_split=3, n_estimators=40; total time=   0.2s\n",
      "[CV] END bootstrap=True, max_depth=30, max_features=2, min_samples_leaf=2, min_samples_split=3, n_estimators=40; total time=   0.2s\n",
      "[CV] END bootstrap=True, max_depth=30, max_features=2, min_samples_leaf=3, min_samples_split=2, n_estimators=20; total time=   0.0s\n",
      "[CV] END bootstrap=True, max_depth=30, max_features=2, min_samples_leaf=3, min_samples_split=2, n_estimators=20; total time=   0.1s\n",
      "[CV] END bootstrap=True, max_depth=30, max_features=2, min_samples_leaf=3, min_samples_split=2, n_estimators=20; total time=   0.1s\n",
      "[CV] END bootstrap=True, max_depth=30, max_features=2, min_samples_leaf=3, min_samples_split=2, n_estimators=20; total time=   0.1s\n",
      "[CV] END bootstrap=True, max_depth=30, max_features=2, min_samples_leaf=3, min_samples_split=2, n_estimators=20; total time=   0.1s\n",
      "[CV] END bootstrap=True, max_depth=30, max_features=2, min_samples_leaf=3, min_samples_split=2, n_estimators=40; total time=   0.1s\n",
      "[CV] END bootstrap=True, max_depth=30, max_features=2, min_samples_leaf=3, min_samples_split=2, n_estimators=40; total time=   0.1s\n",
      "[CV] END bootstrap=True, max_depth=30, max_features=2, min_samples_leaf=3, min_samples_split=2, n_estimators=40; total time=   0.1s\n",
      "[CV] END bootstrap=True, max_depth=30, max_features=2, min_samples_leaf=3, min_samples_split=2, n_estimators=40; total time=   0.2s\n",
      "[CV] END bootstrap=True, max_depth=30, max_features=2, min_samples_leaf=3, min_samples_split=2, n_estimators=40; total time=   0.2s\n",
      "[CV] END bootstrap=True, max_depth=30, max_features=2, min_samples_leaf=3, min_samples_split=3, n_estimators=20; total time=   0.0s\n",
      "[CV] END bootstrap=True, max_depth=30, max_features=2, min_samples_leaf=3, min_samples_split=3, n_estimators=20; total time=   0.0s\n",
      "[CV] END bootstrap=True, max_depth=30, max_features=2, min_samples_leaf=3, min_samples_split=3, n_estimators=20; total time=   0.1s\n",
      "[CV] END bootstrap=True, max_depth=30, max_features=2, min_samples_leaf=3, min_samples_split=3, n_estimators=20; total time=   0.1s\n",
      "[CV] END bootstrap=True, max_depth=30, max_features=2, min_samples_leaf=3, min_samples_split=3, n_estimators=20; total time=   0.1s\n",
      "[CV] END bootstrap=True, max_depth=30, max_features=2, min_samples_leaf=3, min_samples_split=3, n_estimators=40; total time=   0.1s\n",
      "[CV] END bootstrap=True, max_depth=30, max_features=2, min_samples_leaf=3, min_samples_split=3, n_estimators=40; total time=   0.1s\n",
      "[CV] END bootstrap=True, max_depth=30, max_features=2, min_samples_leaf=3, min_samples_split=3, n_estimators=40; total time=   0.1s\n",
      "[CV] END bootstrap=True, max_depth=30, max_features=2, min_samples_leaf=3, min_samples_split=3, n_estimators=40; total time=   0.2s\n",
      "[CV] END bootstrap=True, max_depth=30, max_features=2, min_samples_leaf=3, min_samples_split=3, n_estimators=40; total time=   0.2s\n",
      "[CV] END bootstrap=True, max_depth=30, max_features=3, min_samples_leaf=2, min_samples_split=2, n_estimators=20; total time=   0.0s\n",
      "[CV] END bootstrap=True, max_depth=30, max_features=3, min_samples_leaf=2, min_samples_split=2, n_estimators=20; total time=   0.1s\n",
      "[CV] END bootstrap=True, max_depth=30, max_features=3, min_samples_leaf=2, min_samples_split=2, n_estimators=20; total time=   0.1s\n",
      "[CV] END bootstrap=True, max_depth=30, max_features=3, min_samples_leaf=2, min_samples_split=2, n_estimators=20; total time=   0.1s\n",
      "[CV] END bootstrap=True, max_depth=30, max_features=3, min_samples_leaf=2, min_samples_split=2, n_estimators=20; total time=   0.1s\n",
      "[CV] END bootstrap=True, max_depth=30, max_features=3, min_samples_leaf=2, min_samples_split=2, n_estimators=40; total time=   0.1s\n",
      "[CV] END bootstrap=True, max_depth=30, max_features=3, min_samples_leaf=2, min_samples_split=2, n_estimators=40; total time=   0.1s\n",
      "[CV] END bootstrap=True, max_depth=30, max_features=3, min_samples_leaf=2, min_samples_split=2, n_estimators=40; total time=   0.2s\n",
      "[CV] END bootstrap=True, max_depth=30, max_features=3, min_samples_leaf=2, min_samples_split=2, n_estimators=40; total time=   0.2s\n",
      "[CV] END bootstrap=True, max_depth=30, max_features=3, min_samples_leaf=2, min_samples_split=2, n_estimators=40; total time=   0.3s\n",
      "[CV] END bootstrap=True, max_depth=30, max_features=3, min_samples_leaf=2, min_samples_split=3, n_estimators=20; total time=   0.0s\n",
      "[CV] END bootstrap=True, max_depth=30, max_features=3, min_samples_leaf=2, min_samples_split=3, n_estimators=20; total time=   0.1s\n",
      "[CV] END bootstrap=True, max_depth=30, max_features=3, min_samples_leaf=2, min_samples_split=3, n_estimators=20; total time=   0.1s\n",
      "[CV] END bootstrap=True, max_depth=30, max_features=3, min_samples_leaf=2, min_samples_split=3, n_estimators=20; total time=   0.1s\n",
      "[CV] END bootstrap=True, max_depth=30, max_features=3, min_samples_leaf=2, min_samples_split=3, n_estimators=20; total time=   0.1s\n",
      "[CV] END bootstrap=True, max_depth=30, max_features=3, min_samples_leaf=2, min_samples_split=3, n_estimators=40; total time=   0.1s\n",
      "[CV] END bootstrap=True, max_depth=30, max_features=3, min_samples_leaf=2, min_samples_split=3, n_estimators=40; total time=   0.1s\n",
      "[CV] END bootstrap=True, max_depth=30, max_features=3, min_samples_leaf=2, min_samples_split=3, n_estimators=40; total time=   0.2s\n",
      "[CV] END bootstrap=True, max_depth=30, max_features=3, min_samples_leaf=2, min_samples_split=3, n_estimators=40; total time=   0.2s\n",
      "[CV] END bootstrap=True, max_depth=30, max_features=3, min_samples_leaf=2, min_samples_split=3, n_estimators=40; total time=   0.3s\n",
      "[CV] END bootstrap=True, max_depth=30, max_features=3, min_samples_leaf=3, min_samples_split=2, n_estimators=20; total time=   0.0s\n",
      "[CV] END bootstrap=True, max_depth=30, max_features=3, min_samples_leaf=3, min_samples_split=2, n_estimators=20; total time=   0.1s\n",
      "[CV] END bootstrap=True, max_depth=30, max_features=3, min_samples_leaf=3, min_samples_split=2, n_estimators=20; total time=   0.1s\n",
      "[CV] END bootstrap=True, max_depth=30, max_features=3, min_samples_leaf=3, min_samples_split=2, n_estimators=20; total time=   0.1s\n",
      "[CV] END bootstrap=True, max_depth=30, max_features=3, min_samples_leaf=3, min_samples_split=2, n_estimators=20; total time=   0.1s\n",
      "[CV] END bootstrap=True, max_depth=30, max_features=3, min_samples_leaf=3, min_samples_split=2, n_estimators=40; total time=   0.1s\n",
      "[CV] END bootstrap=True, max_depth=30, max_features=3, min_samples_leaf=3, min_samples_split=2, n_estimators=40; total time=   0.1s\n",
      "[CV] END bootstrap=True, max_depth=30, max_features=3, min_samples_leaf=3, min_samples_split=2, n_estimators=40; total time=   0.2s\n",
      "[CV] END bootstrap=True, max_depth=30, max_features=3, min_samples_leaf=3, min_samples_split=2, n_estimators=40; total time=   0.2s\n",
      "[CV] END bootstrap=True, max_depth=30, max_features=3, min_samples_leaf=3, min_samples_split=2, n_estimators=40; total time=   0.2s\n",
      "[CV] END bootstrap=True, max_depth=30, max_features=3, min_samples_leaf=3, min_samples_split=3, n_estimators=20; total time=   0.0s\n",
      "[CV] END bootstrap=True, max_depth=30, max_features=3, min_samples_leaf=3, min_samples_split=3, n_estimators=20; total time=   0.1s\n",
      "[CV] END bootstrap=True, max_depth=30, max_features=3, min_samples_leaf=3, min_samples_split=3, n_estimators=20; total time=   0.1s\n",
      "[CV] END bootstrap=True, max_depth=30, max_features=3, min_samples_leaf=3, min_samples_split=3, n_estimators=20; total time=   0.1s\n",
      "[CV] END bootstrap=True, max_depth=30, max_features=3, min_samples_leaf=3, min_samples_split=3, n_estimators=20; total time=   0.1s\n",
      "[CV] END bootstrap=True, max_depth=30, max_features=3, min_samples_leaf=3, min_samples_split=3, n_estimators=40; total time=   0.1s\n",
      "[CV] END bootstrap=True, max_depth=30, max_features=3, min_samples_leaf=3, min_samples_split=3, n_estimators=40; total time=   0.1s\n",
      "[CV] END bootstrap=True, max_depth=30, max_features=3, min_samples_leaf=3, min_samples_split=3, n_estimators=40; total time=   0.1s\n",
      "[CV] END bootstrap=True, max_depth=30, max_features=3, min_samples_leaf=3, min_samples_split=3, n_estimators=40; total time=   0.2s\n",
      "[CV] END bootstrap=True, max_depth=30, max_features=3, min_samples_leaf=3, min_samples_split=3, n_estimators=40; total time=   0.2s\n",
      "[CV] END bootstrap=True, max_depth=30, max_features=4, min_samples_leaf=2, min_samples_split=2, n_estimators=20; total time=   0.1s\n",
      "[CV] END bootstrap=True, max_depth=30, max_features=4, min_samples_leaf=2, min_samples_split=2, n_estimators=20; total time=   0.1s\n",
      "[CV] END bootstrap=True, max_depth=30, max_features=4, min_samples_leaf=2, min_samples_split=2, n_estimators=20; total time=   0.1s\n",
      "[CV] END bootstrap=True, max_depth=30, max_features=4, min_samples_leaf=2, min_samples_split=2, n_estimators=20; total time=   0.1s\n",
      "[CV] END bootstrap=True, max_depth=30, max_features=4, min_samples_leaf=2, min_samples_split=2, n_estimators=20; total time=   0.2s\n",
      "[CV] END bootstrap=True, max_depth=30, max_features=4, min_samples_leaf=2, min_samples_split=2, n_estimators=40; total time=   0.1s\n",
      "[CV] END bootstrap=True, max_depth=30, max_features=4, min_samples_leaf=2, min_samples_split=2, n_estimators=40; total time=   0.2s\n",
      "[CV] END bootstrap=True, max_depth=30, max_features=4, min_samples_leaf=2, min_samples_split=2, n_estimators=40; total time=   0.2s\n",
      "[CV] END bootstrap=True, max_depth=30, max_features=4, min_samples_leaf=2, min_samples_split=2, n_estimators=40; total time=   0.3s\n",
      "[CV] END bootstrap=True, max_depth=30, max_features=4, min_samples_leaf=2, min_samples_split=2, n_estimators=40; total time=   0.3s\n",
      "[CV] END bootstrap=True, max_depth=30, max_features=4, min_samples_leaf=2, min_samples_split=3, n_estimators=20; total time=   0.0s\n",
      "[CV] END bootstrap=True, max_depth=30, max_features=4, min_samples_leaf=2, min_samples_split=3, n_estimators=20; total time=   0.1s\n",
      "[CV] END bootstrap=True, max_depth=30, max_features=4, min_samples_leaf=2, min_samples_split=3, n_estimators=20; total time=   0.1s\n",
      "[CV] END bootstrap=True, max_depth=30, max_features=4, min_samples_leaf=2, min_samples_split=3, n_estimators=20; total time=   0.1s\n",
      "[CV] END bootstrap=True, max_depth=30, max_features=4, min_samples_leaf=2, min_samples_split=3, n_estimators=20; total time=   0.2s\n",
      "[CV] END bootstrap=True, max_depth=30, max_features=4, min_samples_leaf=2, min_samples_split=3, n_estimators=40; total time=   0.1s\n",
      "[CV] END bootstrap=True, max_depth=30, max_features=4, min_samples_leaf=2, min_samples_split=3, n_estimators=40; total time=   0.1s\n",
      "[CV] END bootstrap=True, max_depth=30, max_features=4, min_samples_leaf=2, min_samples_split=3, n_estimators=40; total time=   0.2s\n",
      "[CV] END bootstrap=True, max_depth=30, max_features=4, min_samples_leaf=2, min_samples_split=3, n_estimators=40; total time=   0.3s\n",
      "[CV] END bootstrap=True, max_depth=30, max_features=4, min_samples_leaf=2, min_samples_split=3, n_estimators=40; total time=   0.3s\n",
      "[CV] END bootstrap=True, max_depth=30, max_features=4, min_samples_leaf=3, min_samples_split=2, n_estimators=20; total time=   0.0s\n",
      "[CV] END bootstrap=True, max_depth=30, max_features=4, min_samples_leaf=3, min_samples_split=2, n_estimators=20; total time=   0.1s\n",
      "[CV] END bootstrap=True, max_depth=30, max_features=4, min_samples_leaf=3, min_samples_split=2, n_estimators=20; total time=   0.1s\n",
      "[CV] END bootstrap=True, max_depth=30, max_features=4, min_samples_leaf=3, min_samples_split=2, n_estimators=20; total time=   0.1s\n",
      "[CV] END bootstrap=True, max_depth=30, max_features=4, min_samples_leaf=3, min_samples_split=2, n_estimators=20; total time=   0.1s\n",
      "[CV] END bootstrap=True, max_depth=30, max_features=4, min_samples_leaf=3, min_samples_split=2, n_estimators=40; total time=   0.1s\n",
      "[CV] END bootstrap=True, max_depth=30, max_features=4, min_samples_leaf=3, min_samples_split=2, n_estimators=40; total time=   0.1s\n",
      "[CV] END bootstrap=True, max_depth=30, max_features=4, min_samples_leaf=3, min_samples_split=2, n_estimators=40; total time=   0.2s\n",
      "[CV] END bootstrap=True, max_depth=30, max_features=4, min_samples_leaf=3, min_samples_split=2, n_estimators=40; total time=   0.2s\n",
      "[CV] END bootstrap=True, max_depth=30, max_features=4, min_samples_leaf=3, min_samples_split=2, n_estimators=40; total time=   0.3s\n",
      "[CV] END bootstrap=True, max_depth=30, max_features=4, min_samples_leaf=3, min_samples_split=3, n_estimators=20; total time=   0.0s\n",
      "[CV] END bootstrap=True, max_depth=30, max_features=4, min_samples_leaf=3, min_samples_split=3, n_estimators=20; total time=   0.1s\n",
      "[CV] END bootstrap=True, max_depth=30, max_features=4, min_samples_leaf=3, min_samples_split=3, n_estimators=20; total time=   0.1s\n",
      "[CV] END bootstrap=True, max_depth=30, max_features=4, min_samples_leaf=3, min_samples_split=3, n_estimators=20; total time=   0.1s\n",
      "[CV] END bootstrap=True, max_depth=30, max_features=4, min_samples_leaf=3, min_samples_split=3, n_estimators=20; total time=   0.1s\n",
      "[CV] END bootstrap=True, max_depth=30, max_features=4, min_samples_leaf=3, min_samples_split=3, n_estimators=40; total time=   0.1s\n",
      "[CV] END bootstrap=True, max_depth=30, max_features=4, min_samples_leaf=3, min_samples_split=3, n_estimators=40; total time=   0.1s\n",
      "[CV] END bootstrap=True, max_depth=30, max_features=4, min_samples_leaf=3, min_samples_split=3, n_estimators=40; total time=   0.2s\n",
      "[CV] END bootstrap=True, max_depth=30, max_features=4, min_samples_leaf=3, min_samples_split=3, n_estimators=40; total time=   0.2s\n",
      "[CV] END bootstrap=True, max_depth=30, max_features=4, min_samples_leaf=3, min_samples_split=3, n_estimators=40; total time=   0.3s\n",
      "[CV] END bootstrap=True, max_depth=30, max_features=5, min_samples_leaf=2, min_samples_split=2, n_estimators=20; total time=   0.0s\n",
      "[CV] END bootstrap=True, max_depth=30, max_features=5, min_samples_leaf=2, min_samples_split=2, n_estimators=20; total time=   0.1s\n",
      "[CV] END bootstrap=True, max_depth=30, max_features=5, min_samples_leaf=2, min_samples_split=2, n_estimators=20; total time=   0.1s\n",
      "[CV] END bootstrap=True, max_depth=30, max_features=5, min_samples_leaf=2, min_samples_split=2, n_estimators=20; total time=   0.2s\n",
      "[CV] END bootstrap=True, max_depth=30, max_features=5, min_samples_leaf=2, min_samples_split=2, n_estimators=20; total time=   0.2s\n",
      "[CV] END bootstrap=True, max_depth=30, max_features=5, min_samples_leaf=2, min_samples_split=2, n_estimators=40; total time=   0.1s\n",
      "[CV] END bootstrap=True, max_depth=30, max_features=5, min_samples_leaf=2, min_samples_split=2, n_estimators=40; total time=   0.2s\n",
      "[CV] END bootstrap=True, max_depth=30, max_features=5, min_samples_leaf=2, min_samples_split=2, n_estimators=40; total time=   0.2s\n",
      "[CV] END bootstrap=True, max_depth=30, max_features=5, min_samples_leaf=2, min_samples_split=2, n_estimators=40; total time=   0.3s\n",
      "[CV] END bootstrap=True, max_depth=30, max_features=5, min_samples_leaf=2, min_samples_split=2, n_estimators=40; total time=   0.3s\n",
      "[CV] END bootstrap=True, max_depth=30, max_features=5, min_samples_leaf=2, min_samples_split=3, n_estimators=20; total time=   0.0s\n",
      "[CV] END bootstrap=True, max_depth=30, max_features=5, min_samples_leaf=2, min_samples_split=3, n_estimators=20; total time=   0.1s\n",
      "[CV] END bootstrap=True, max_depth=30, max_features=5, min_samples_leaf=2, min_samples_split=3, n_estimators=20; total time=   0.1s\n",
      "[CV] END bootstrap=True, max_depth=30, max_features=5, min_samples_leaf=2, min_samples_split=3, n_estimators=20; total time=   0.1s\n",
      "[CV] END bootstrap=True, max_depth=30, max_features=5, min_samples_leaf=2, min_samples_split=3, n_estimators=20; total time=   0.2s\n",
      "[CV] END bootstrap=True, max_depth=30, max_features=5, min_samples_leaf=2, min_samples_split=3, n_estimators=40; total time=   0.1s\n",
      "[CV] END bootstrap=True, max_depth=30, max_features=5, min_samples_leaf=2, min_samples_split=3, n_estimators=40; total time=   0.2s\n",
      "[CV] END bootstrap=True, max_depth=30, max_features=5, min_samples_leaf=2, min_samples_split=3, n_estimators=40; total time=   0.2s\n",
      "[CV] END bootstrap=True, max_depth=30, max_features=5, min_samples_leaf=2, min_samples_split=3, n_estimators=40; total time=   0.4s\n",
      "[CV] END bootstrap=True, max_depth=30, max_features=5, min_samples_leaf=2, min_samples_split=3, n_estimators=40; total time=   0.4s\n",
      "[CV] END bootstrap=True, max_depth=30, max_features=5, min_samples_leaf=3, min_samples_split=2, n_estimators=20; total time=   0.1s\n",
      "[CV] END bootstrap=True, max_depth=30, max_features=5, min_samples_leaf=3, min_samples_split=2, n_estimators=20; total time=   0.1s\n",
      "[CV] END bootstrap=True, max_depth=30, max_features=5, min_samples_leaf=3, min_samples_split=2, n_estimators=20; total time=   0.1s\n",
      "[CV] END bootstrap=True, max_depth=30, max_features=5, min_samples_leaf=3, min_samples_split=2, n_estimators=20; total time=   0.1s\n",
      "[CV] END bootstrap=True, max_depth=30, max_features=5, min_samples_leaf=3, min_samples_split=2, n_estimators=20; total time=   0.2s\n",
      "[CV] END bootstrap=True, max_depth=30, max_features=5, min_samples_leaf=3, min_samples_split=2, n_estimators=40; total time=   0.1s\n",
      "[CV] END bootstrap=True, max_depth=30, max_features=5, min_samples_leaf=3, min_samples_split=2, n_estimators=40; total time=   0.2s\n",
      "[CV] END bootstrap=True, max_depth=30, max_features=5, min_samples_leaf=3, min_samples_split=2, n_estimators=40; total time=   0.2s\n",
      "[CV] END bootstrap=True, max_depth=30, max_features=5, min_samples_leaf=3, min_samples_split=2, n_estimators=40; total time=   0.3s\n",
      "[CV] END bootstrap=True, max_depth=30, max_features=5, min_samples_leaf=3, min_samples_split=2, n_estimators=40; total time=   0.3s\n",
      "[CV] END bootstrap=True, max_depth=30, max_features=5, min_samples_leaf=3, min_samples_split=3, n_estimators=20; total time=   0.1s\n",
      "[CV] END bootstrap=True, max_depth=30, max_features=5, min_samples_leaf=3, min_samples_split=3, n_estimators=20; total time=   0.1s\n",
      "[CV] END bootstrap=True, max_depth=30, max_features=5, min_samples_leaf=3, min_samples_split=3, n_estimators=20; total time=   0.1s\n",
      "[CV] END bootstrap=True, max_depth=30, max_features=5, min_samples_leaf=3, min_samples_split=3, n_estimators=20; total time=   0.1s\n",
      "[CV] END bootstrap=True, max_depth=30, max_features=5, min_samples_leaf=3, min_samples_split=3, n_estimators=20; total time=   0.2s\n",
      "[CV] END bootstrap=True, max_depth=30, max_features=5, min_samples_leaf=3, min_samples_split=3, n_estimators=40; total time=   0.1s\n",
      "[CV] END bootstrap=True, max_depth=30, max_features=5, min_samples_leaf=3, min_samples_split=3, n_estimators=40; total time=   0.2s\n",
      "[CV] END bootstrap=True, max_depth=30, max_features=5, min_samples_leaf=3, min_samples_split=3, n_estimators=40; total time=   0.2s\n",
      "[CV] END bootstrap=True, max_depth=30, max_features=5, min_samples_leaf=3, min_samples_split=3, n_estimators=40; total time=   0.3s\n",
      "[CV] END bootstrap=True, max_depth=30, max_features=5, min_samples_leaf=3, min_samples_split=3, n_estimators=40; total time=   0.4s\n",
      "[CV] END bootstrap=True, max_depth=30, max_features=6, min_samples_leaf=2, min_samples_split=2, n_estimators=20; total time=   0.1s\n",
      "[CV] END bootstrap=True, max_depth=30, max_features=6, min_samples_leaf=2, min_samples_split=2, n_estimators=20; total time=   0.1s\n",
      "[CV] END bootstrap=True, max_depth=30, max_features=6, min_samples_leaf=2, min_samples_split=2, n_estimators=20; total time=   0.1s\n",
      "[CV] END bootstrap=True, max_depth=30, max_features=6, min_samples_leaf=2, min_samples_split=2, n_estimators=20; total time=   0.2s\n",
      "[CV] END bootstrap=True, max_depth=30, max_features=6, min_samples_leaf=2, min_samples_split=2, n_estimators=20; total time=   0.2s\n",
      "[CV] END bootstrap=True, max_depth=30, max_features=6, min_samples_leaf=2, min_samples_split=2, n_estimators=40; total time=   0.1s\n",
      "[CV] END bootstrap=True, max_depth=30, max_features=6, min_samples_leaf=2, min_samples_split=2, n_estimators=40; total time=   0.2s\n",
      "[CV] END bootstrap=True, max_depth=30, max_features=6, min_samples_leaf=2, min_samples_split=2, n_estimators=40; total time=   0.2s\n",
      "[CV] END bootstrap=True, max_depth=30, max_features=6, min_samples_leaf=2, min_samples_split=2, n_estimators=40; total time=   0.3s\n",
      "[CV] END bootstrap=True, max_depth=30, max_features=6, min_samples_leaf=2, min_samples_split=2, n_estimators=40; total time=   0.4s\n",
      "[CV] END bootstrap=True, max_depth=30, max_features=6, min_samples_leaf=2, min_samples_split=3, n_estimators=20; total time=   0.1s\n",
      "[CV] END bootstrap=True, max_depth=30, max_features=6, min_samples_leaf=2, min_samples_split=3, n_estimators=20; total time=   0.1s\n",
      "[CV] END bootstrap=True, max_depth=30, max_features=6, min_samples_leaf=2, min_samples_split=3, n_estimators=20; total time=   0.1s\n",
      "[CV] END bootstrap=True, max_depth=30, max_features=6, min_samples_leaf=2, min_samples_split=3, n_estimators=20; total time=   0.2s\n",
      "[CV] END bootstrap=True, max_depth=30, max_features=6, min_samples_leaf=2, min_samples_split=3, n_estimators=20; total time=   0.2s\n",
      "[CV] END bootstrap=True, max_depth=30, max_features=6, min_samples_leaf=2, min_samples_split=3, n_estimators=40; total time=   0.1s\n",
      "[CV] END bootstrap=True, max_depth=30, max_features=6, min_samples_leaf=2, min_samples_split=3, n_estimators=40; total time=   0.2s\n",
      "[CV] END bootstrap=True, max_depth=30, max_features=6, min_samples_leaf=2, min_samples_split=3, n_estimators=40; total time=   0.3s\n",
      "[CV] END bootstrap=True, max_depth=30, max_features=6, min_samples_leaf=2, min_samples_split=3, n_estimators=40; total time=   0.3s\n",
      "[CV] END bootstrap=True, max_depth=30, max_features=6, min_samples_leaf=2, min_samples_split=3, n_estimators=40; total time=   0.4s\n",
      "[CV] END bootstrap=True, max_depth=30, max_features=6, min_samples_leaf=3, min_samples_split=2, n_estimators=20; total time=   0.1s\n",
      "[CV] END bootstrap=True, max_depth=30, max_features=6, min_samples_leaf=3, min_samples_split=2, n_estimators=20; total time=   0.1s\n",
      "[CV] END bootstrap=True, max_depth=30, max_features=6, min_samples_leaf=3, min_samples_split=2, n_estimators=20; total time=   0.1s\n",
      "[CV] END bootstrap=True, max_depth=30, max_features=6, min_samples_leaf=3, min_samples_split=2, n_estimators=20; total time=   0.2s\n",
      "[CV] END bootstrap=True, max_depth=30, max_features=6, min_samples_leaf=3, min_samples_split=2, n_estimators=20; total time=   0.2s\n",
      "[CV] END bootstrap=True, max_depth=30, max_features=6, min_samples_leaf=3, min_samples_split=2, n_estimators=40; total time=   0.1s\n",
      "[CV] END bootstrap=True, max_depth=30, max_features=6, min_samples_leaf=3, min_samples_split=2, n_estimators=40; total time=   0.2s\n",
      "[CV] END bootstrap=True, max_depth=30, max_features=6, min_samples_leaf=3, min_samples_split=2, n_estimators=40; total time=   0.3s\n",
      "[CV] END bootstrap=True, max_depth=30, max_features=6, min_samples_leaf=3, min_samples_split=2, n_estimators=40; total time=   0.3s\n",
      "[CV] END bootstrap=True, max_depth=30, max_features=6, min_samples_leaf=3, min_samples_split=2, n_estimators=40; total time=   0.4s\n",
      "[CV] END bootstrap=True, max_depth=30, max_features=6, min_samples_leaf=3, min_samples_split=3, n_estimators=20; total time=   0.1s\n",
      "[CV] END bootstrap=True, max_depth=30, max_features=6, min_samples_leaf=3, min_samples_split=3, n_estimators=20; total time=   0.1s\n",
      "[CV] END bootstrap=True, max_depth=30, max_features=6, min_samples_leaf=3, min_samples_split=3, n_estimators=20; total time=   0.2s\n",
      "[CV] END bootstrap=True, max_depth=30, max_features=6, min_samples_leaf=3, min_samples_split=3, n_estimators=20; total time=   0.2s\n",
      "[CV] END bootstrap=True, max_depth=30, max_features=6, min_samples_leaf=3, min_samples_split=3, n_estimators=20; total time=   0.2s\n",
      "[CV] END bootstrap=True, max_depth=30, max_features=6, min_samples_leaf=3, min_samples_split=3, n_estimators=40; total time=   0.1s\n",
      "[CV] END bootstrap=True, max_depth=30, max_features=6, min_samples_leaf=3, min_samples_split=3, n_estimators=40; total time=   0.2s\n",
      "[CV] END bootstrap=True, max_depth=30, max_features=6, min_samples_leaf=3, min_samples_split=3, n_estimators=40; total time=   0.2s\n",
      "[CV] END bootstrap=True, max_depth=30, max_features=6, min_samples_leaf=3, min_samples_split=3, n_estimators=40; total time=   0.3s\n",
      "[CV] END bootstrap=True, max_depth=30, max_features=6, min_samples_leaf=3, min_samples_split=3, n_estimators=40; total time=   0.4s\n",
      "[CV] END bootstrap=True, max_depth=40, max_features=2, min_samples_leaf=2, min_samples_split=2, n_estimators=20; total time=   0.0s\n",
      "[CV] END bootstrap=True, max_depth=40, max_features=2, min_samples_leaf=2, min_samples_split=2, n_estimators=20; total time=   0.1s\n",
      "[CV] END bootstrap=True, max_depth=40, max_features=2, min_samples_leaf=2, min_samples_split=2, n_estimators=20; total time=   0.1s\n",
      "[CV] END bootstrap=True, max_depth=40, max_features=2, min_samples_leaf=2, min_samples_split=2, n_estimators=20; total time=   0.1s\n",
      "[CV] END bootstrap=True, max_depth=40, max_features=2, min_samples_leaf=2, min_samples_split=2, n_estimators=20; total time=   0.1s\n",
      "[CV] END bootstrap=True, max_depth=40, max_features=2, min_samples_leaf=2, min_samples_split=2, n_estimators=40; total time=   0.1s\n",
      "[CV] END bootstrap=True, max_depth=40, max_features=2, min_samples_leaf=2, min_samples_split=2, n_estimators=40; total time=   0.1s\n",
      "[CV] END bootstrap=True, max_depth=40, max_features=2, min_samples_leaf=2, min_samples_split=2, n_estimators=40; total time=   0.1s\n",
      "[CV] END bootstrap=True, max_depth=40, max_features=2, min_samples_leaf=2, min_samples_split=2, n_estimators=40; total time=   0.2s\n",
      "[CV] END bootstrap=True, max_depth=40, max_features=2, min_samples_leaf=2, min_samples_split=2, n_estimators=40; total time=   0.2s\n",
      "[CV] END bootstrap=True, max_depth=40, max_features=2, min_samples_leaf=2, min_samples_split=3, n_estimators=20; total time=   0.0s\n",
      "[CV] END bootstrap=True, max_depth=40, max_features=2, min_samples_leaf=2, min_samples_split=3, n_estimators=20; total time=   0.1s\n",
      "[CV] END bootstrap=True, max_depth=40, max_features=2, min_samples_leaf=2, min_samples_split=3, n_estimators=20; total time=   0.1s\n",
      "[CV] END bootstrap=True, max_depth=40, max_features=2, min_samples_leaf=2, min_samples_split=3, n_estimators=20; total time=   0.1s\n",
      "[CV] END bootstrap=True, max_depth=40, max_features=2, min_samples_leaf=2, min_samples_split=3, n_estimators=20; total time=   0.1s\n",
      "[CV] END bootstrap=True, max_depth=40, max_features=2, min_samples_leaf=2, min_samples_split=3, n_estimators=40; total time=   0.1s\n",
      "[CV] END bootstrap=True, max_depth=40, max_features=2, min_samples_leaf=2, min_samples_split=3, n_estimators=40; total time=   0.1s\n",
      "[CV] END bootstrap=True, max_depth=40, max_features=2, min_samples_leaf=2, min_samples_split=3, n_estimators=40; total time=   0.1s\n",
      "[CV] END bootstrap=True, max_depth=40, max_features=2, min_samples_leaf=2, min_samples_split=3, n_estimators=40; total time=   0.2s\n",
      "[CV] END bootstrap=True, max_depth=40, max_features=2, min_samples_leaf=2, min_samples_split=3, n_estimators=40; total time=   0.2s\n",
      "[CV] END bootstrap=True, max_depth=40, max_features=2, min_samples_leaf=3, min_samples_split=2, n_estimators=20; total time=   0.0s\n",
      "[CV] END bootstrap=True, max_depth=40, max_features=2, min_samples_leaf=3, min_samples_split=2, n_estimators=20; total time=   0.1s\n",
      "[CV] END bootstrap=True, max_depth=40, max_features=2, min_samples_leaf=3, min_samples_split=2, n_estimators=20; total time=   0.1s\n",
      "[CV] END bootstrap=True, max_depth=40, max_features=2, min_samples_leaf=3, min_samples_split=2, n_estimators=20; total time=   0.1s\n",
      "[CV] END bootstrap=True, max_depth=40, max_features=2, min_samples_leaf=3, min_samples_split=2, n_estimators=20; total time=   0.1s\n",
      "[CV] END bootstrap=True, max_depth=40, max_features=2, min_samples_leaf=3, min_samples_split=2, n_estimators=40; total time=   0.1s\n",
      "[CV] END bootstrap=True, max_depth=40, max_features=2, min_samples_leaf=3, min_samples_split=2, n_estimators=40; total time=   0.1s\n",
      "[CV] END bootstrap=True, max_depth=40, max_features=2, min_samples_leaf=3, min_samples_split=2, n_estimators=40; total time=   0.1s\n",
      "[CV] END bootstrap=True, max_depth=40, max_features=2, min_samples_leaf=3, min_samples_split=2, n_estimators=40; total time=   0.2s\n",
      "[CV] END bootstrap=True, max_depth=40, max_features=2, min_samples_leaf=3, min_samples_split=2, n_estimators=40; total time=   0.2s\n",
      "[CV] END bootstrap=True, max_depth=40, max_features=2, min_samples_leaf=3, min_samples_split=3, n_estimators=20; total time=   0.0s\n",
      "[CV] END bootstrap=True, max_depth=40, max_features=2, min_samples_leaf=3, min_samples_split=3, n_estimators=20; total time=   0.1s\n",
      "[CV] END bootstrap=True, max_depth=40, max_features=2, min_samples_leaf=3, min_samples_split=3, n_estimators=20; total time=   0.1s\n",
      "[CV] END bootstrap=True, max_depth=40, max_features=2, min_samples_leaf=3, min_samples_split=3, n_estimators=20; total time=   0.1s\n",
      "[CV] END bootstrap=True, max_depth=40, max_features=2, min_samples_leaf=3, min_samples_split=3, n_estimators=20; total time=   0.1s\n",
      "[CV] END bootstrap=True, max_depth=40, max_features=2, min_samples_leaf=3, min_samples_split=3, n_estimators=40; total time=   0.1s\n",
      "[CV] END bootstrap=True, max_depth=40, max_features=2, min_samples_leaf=3, min_samples_split=3, n_estimators=40; total time=   0.1s\n",
      "[CV] END bootstrap=True, max_depth=40, max_features=2, min_samples_leaf=3, min_samples_split=3, n_estimators=40; total time=   0.1s\n",
      "[CV] END bootstrap=True, max_depth=40, max_features=2, min_samples_leaf=3, min_samples_split=3, n_estimators=40; total time=   0.2s\n",
      "[CV] END bootstrap=True, max_depth=40, max_features=2, min_samples_leaf=3, min_samples_split=3, n_estimators=40; total time=   0.2s\n",
      "[CV] END bootstrap=True, max_depth=40, max_features=3, min_samples_leaf=2, min_samples_split=2, n_estimators=20; total time=   0.0s\n",
      "[CV] END bootstrap=True, max_depth=40, max_features=3, min_samples_leaf=2, min_samples_split=2, n_estimators=20; total time=   0.1s\n",
      "[CV] END bootstrap=True, max_depth=40, max_features=3, min_samples_leaf=2, min_samples_split=2, n_estimators=20; total time=   0.1s\n",
      "[CV] END bootstrap=True, max_depth=40, max_features=3, min_samples_leaf=2, min_samples_split=2, n_estimators=20; total time=   0.1s\n",
      "[CV] END bootstrap=True, max_depth=40, max_features=3, min_samples_leaf=2, min_samples_split=2, n_estimators=20; total time=   0.1s\n",
      "[CV] END bootstrap=True, max_depth=40, max_features=3, min_samples_leaf=2, min_samples_split=2, n_estimators=40; total time=   0.1s\n",
      "[CV] END bootstrap=True, max_depth=40, max_features=3, min_samples_leaf=2, min_samples_split=2, n_estimators=40; total time=   0.1s\n",
      "[CV] END bootstrap=True, max_depth=40, max_features=3, min_samples_leaf=2, min_samples_split=2, n_estimators=40; total time=   0.2s\n",
      "[CV] END bootstrap=True, max_depth=40, max_features=3, min_samples_leaf=2, min_samples_split=2, n_estimators=40; total time=   0.2s\n",
      "[CV] END bootstrap=True, max_depth=40, max_features=3, min_samples_leaf=2, min_samples_split=2, n_estimators=40; total time=   0.3s\n",
      "[CV] END bootstrap=True, max_depth=40, max_features=3, min_samples_leaf=2, min_samples_split=3, n_estimators=20; total time=   0.0s\n",
      "[CV] END bootstrap=True, max_depth=40, max_features=3, min_samples_leaf=2, min_samples_split=3, n_estimators=20; total time=   0.1s\n",
      "[CV] END bootstrap=True, max_depth=40, max_features=3, min_samples_leaf=2, min_samples_split=3, n_estimators=20; total time=   0.1s\n",
      "[CV] END bootstrap=True, max_depth=40, max_features=3, min_samples_leaf=2, min_samples_split=3, n_estimators=20; total time=   0.1s\n",
      "[CV] END bootstrap=True, max_depth=40, max_features=3, min_samples_leaf=2, min_samples_split=3, n_estimators=20; total time=   0.1s\n",
      "[CV] END bootstrap=True, max_depth=40, max_features=3, min_samples_leaf=2, min_samples_split=3, n_estimators=40; total time=   0.1s\n",
      "[CV] END bootstrap=True, max_depth=40, max_features=3, min_samples_leaf=2, min_samples_split=3, n_estimators=40; total time=   0.1s\n",
      "[CV] END bootstrap=True, max_depth=40, max_features=3, min_samples_leaf=2, min_samples_split=3, n_estimators=40; total time=   0.2s\n",
      "[CV] END bootstrap=True, max_depth=40, max_features=3, min_samples_leaf=2, min_samples_split=3, n_estimators=40; total time=   0.2s\n",
      "[CV] END bootstrap=True, max_depth=40, max_features=3, min_samples_leaf=2, min_samples_split=3, n_estimators=40; total time=   0.2s\n",
      "[CV] END bootstrap=True, max_depth=40, max_features=3, min_samples_leaf=3, min_samples_split=2, n_estimators=20; total time=   0.1s\n",
      "[CV] END bootstrap=True, max_depth=40, max_features=3, min_samples_leaf=3, min_samples_split=2, n_estimators=20; total time=   0.1s\n",
      "[CV] END bootstrap=True, max_depth=40, max_features=3, min_samples_leaf=3, min_samples_split=2, n_estimators=20; total time=   0.1s\n",
      "[CV] END bootstrap=True, max_depth=40, max_features=3, min_samples_leaf=3, min_samples_split=2, n_estimators=20; total time=   0.1s\n",
      "[CV] END bootstrap=True, max_depth=40, max_features=3, min_samples_leaf=3, min_samples_split=2, n_estimators=20; total time=   0.1s\n",
      "[CV] END bootstrap=True, max_depth=40, max_features=3, min_samples_leaf=3, min_samples_split=2, n_estimators=40; total time=   0.1s\n",
      "[CV] END bootstrap=True, max_depth=40, max_features=3, min_samples_leaf=3, min_samples_split=2, n_estimators=40; total time=   0.1s\n",
      "[CV] END bootstrap=True, max_depth=40, max_features=3, min_samples_leaf=3, min_samples_split=2, n_estimators=40; total time=   0.2s\n",
      "[CV] END bootstrap=True, max_depth=40, max_features=3, min_samples_leaf=3, min_samples_split=2, n_estimators=40; total time=   0.2s\n",
      "[CV] END bootstrap=True, max_depth=40, max_features=3, min_samples_leaf=3, min_samples_split=2, n_estimators=40; total time=   0.3s\n",
      "[CV] END bootstrap=True, max_depth=40, max_features=3, min_samples_leaf=3, min_samples_split=3, n_estimators=20; total time=   0.1s\n",
      "[CV] END bootstrap=True, max_depth=40, max_features=3, min_samples_leaf=3, min_samples_split=3, n_estimators=20; total time=   0.1s\n",
      "[CV] END bootstrap=True, max_depth=40, max_features=3, min_samples_leaf=3, min_samples_split=3, n_estimators=20; total time=   0.1s\n",
      "[CV] END bootstrap=True, max_depth=40, max_features=3, min_samples_leaf=3, min_samples_split=3, n_estimators=20; total time=   0.1s\n",
      "[CV] END bootstrap=True, max_depth=40, max_features=3, min_samples_leaf=3, min_samples_split=3, n_estimators=20; total time=   0.1s\n",
      "[CV] END bootstrap=True, max_depth=40, max_features=3, min_samples_leaf=3, min_samples_split=3, n_estimators=40; total time=   0.1s\n",
      "[CV] END bootstrap=True, max_depth=40, max_features=3, min_samples_leaf=3, min_samples_split=3, n_estimators=40; total time=   0.1s\n",
      "[CV] END bootstrap=True, max_depth=40, max_features=3, min_samples_leaf=3, min_samples_split=3, n_estimators=40; total time=   0.1s\n",
      "[CV] END bootstrap=True, max_depth=40, max_features=3, min_samples_leaf=3, min_samples_split=3, n_estimators=40; total time=   0.2s\n",
      "[CV] END bootstrap=True, max_depth=40, max_features=3, min_samples_leaf=3, min_samples_split=3, n_estimators=40; total time=   0.3s\n",
      "[CV] END bootstrap=True, max_depth=40, max_features=4, min_samples_leaf=2, min_samples_split=2, n_estimators=20; total time=   0.0s\n",
      "[CV] END bootstrap=True, max_depth=40, max_features=4, min_samples_leaf=2, min_samples_split=2, n_estimators=20; total time=   0.1s\n",
      "[CV] END bootstrap=True, max_depth=40, max_features=4, min_samples_leaf=2, min_samples_split=2, n_estimators=20; total time=   0.1s\n",
      "[CV] END bootstrap=True, max_depth=40, max_features=4, min_samples_leaf=2, min_samples_split=2, n_estimators=20; total time=   0.1s\n",
      "[CV] END bootstrap=True, max_depth=40, max_features=4, min_samples_leaf=2, min_samples_split=2, n_estimators=20; total time=   0.2s\n",
      "[CV] END bootstrap=True, max_depth=40, max_features=4, min_samples_leaf=2, min_samples_split=2, n_estimators=40; total time=   0.1s\n",
      "[CV] END bootstrap=True, max_depth=40, max_features=4, min_samples_leaf=2, min_samples_split=2, n_estimators=40; total time=   0.1s\n",
      "[CV] END bootstrap=True, max_depth=40, max_features=4, min_samples_leaf=2, min_samples_split=2, n_estimators=40; total time=   0.2s\n",
      "[CV] END bootstrap=True, max_depth=40, max_features=4, min_samples_leaf=2, min_samples_split=2, n_estimators=40; total time=   0.3s\n",
      "[CV] END bootstrap=True, max_depth=40, max_features=4, min_samples_leaf=2, min_samples_split=2, n_estimators=40; total time=   0.3s\n",
      "[CV] END bootstrap=True, max_depth=40, max_features=4, min_samples_leaf=2, min_samples_split=3, n_estimators=20; total time=   0.1s\n",
      "[CV] END bootstrap=True, max_depth=40, max_features=4, min_samples_leaf=2, min_samples_split=3, n_estimators=20; total time=   0.1s\n",
      "[CV] END bootstrap=True, max_depth=40, max_features=4, min_samples_leaf=2, min_samples_split=3, n_estimators=20; total time=   0.1s\n",
      "[CV] END bootstrap=True, max_depth=40, max_features=4, min_samples_leaf=2, min_samples_split=3, n_estimators=20; total time=   0.1s\n",
      "[CV] END bootstrap=True, max_depth=40, max_features=4, min_samples_leaf=2, min_samples_split=3, n_estimators=20; total time=   0.2s\n",
      "[CV] END bootstrap=True, max_depth=40, max_features=4, min_samples_leaf=2, min_samples_split=3, n_estimators=40; total time=   0.1s\n",
      "[CV] END bootstrap=True, max_depth=40, max_features=4, min_samples_leaf=2, min_samples_split=3, n_estimators=40; total time=   0.1s\n",
      "[CV] END bootstrap=True, max_depth=40, max_features=4, min_samples_leaf=2, min_samples_split=3, n_estimators=40; total time=   0.2s\n",
      "[CV] END bootstrap=True, max_depth=40, max_features=4, min_samples_leaf=2, min_samples_split=3, n_estimators=40; total time=   0.3s\n",
      "[CV] END bootstrap=True, max_depth=40, max_features=4, min_samples_leaf=2, min_samples_split=3, n_estimators=40; total time=   0.4s\n",
      "[CV] END bootstrap=True, max_depth=40, max_features=4, min_samples_leaf=3, min_samples_split=2, n_estimators=20; total time=   0.1s\n",
      "[CV] END bootstrap=True, max_depth=40, max_features=4, min_samples_leaf=3, min_samples_split=2, n_estimators=20; total time=   0.1s\n",
      "[CV] END bootstrap=True, max_depth=40, max_features=4, min_samples_leaf=3, min_samples_split=2, n_estimators=20; total time=   0.1s\n",
      "[CV] END bootstrap=True, max_depth=40, max_features=4, min_samples_leaf=3, min_samples_split=2, n_estimators=20; total time=   0.1s\n",
      "[CV] END bootstrap=True, max_depth=40, max_features=4, min_samples_leaf=3, min_samples_split=2, n_estimators=20; total time=   0.1s\n",
      "[CV] END bootstrap=True, max_depth=40, max_features=4, min_samples_leaf=3, min_samples_split=2, n_estimators=40; total time=   0.1s\n",
      "[CV] END bootstrap=True, max_depth=40, max_features=4, min_samples_leaf=3, min_samples_split=2, n_estimators=40; total time=   0.1s\n",
      "[CV] END bootstrap=True, max_depth=40, max_features=4, min_samples_leaf=3, min_samples_split=2, n_estimators=40; total time=   0.2s\n",
      "[CV] END bootstrap=True, max_depth=40, max_features=4, min_samples_leaf=3, min_samples_split=2, n_estimators=40; total time=   0.2s\n",
      "[CV] END bootstrap=True, max_depth=40, max_features=4, min_samples_leaf=3, min_samples_split=2, n_estimators=40; total time=   0.3s\n",
      "[CV] END bootstrap=True, max_depth=40, max_features=4, min_samples_leaf=3, min_samples_split=3, n_estimators=20; total time=   0.0s\n",
      "[CV] END bootstrap=True, max_depth=40, max_features=4, min_samples_leaf=3, min_samples_split=3, n_estimators=20; total time=   0.1s\n",
      "[CV] END bootstrap=True, max_depth=40, max_features=4, min_samples_leaf=3, min_samples_split=3, n_estimators=20; total time=   0.1s\n",
      "[CV] END bootstrap=True, max_depth=40, max_features=4, min_samples_leaf=3, min_samples_split=3, n_estimators=20; total time=   0.1s\n",
      "[CV] END bootstrap=True, max_depth=40, max_features=4, min_samples_leaf=3, min_samples_split=3, n_estimators=20; total time=   0.2s\n",
      "[CV] END bootstrap=True, max_depth=40, max_features=4, min_samples_leaf=3, min_samples_split=3, n_estimators=40; total time=   0.1s\n",
      "[CV] END bootstrap=True, max_depth=40, max_features=4, min_samples_leaf=3, min_samples_split=3, n_estimators=40; total time=   0.1s\n",
      "[CV] END bootstrap=True, max_depth=40, max_features=4, min_samples_leaf=3, min_samples_split=3, n_estimators=40; total time=   0.2s\n",
      "[CV] END bootstrap=True, max_depth=40, max_features=4, min_samples_leaf=3, min_samples_split=3, n_estimators=40; total time=   0.2s\n",
      "[CV] END bootstrap=True, max_depth=40, max_features=4, min_samples_leaf=3, min_samples_split=3, n_estimators=40; total time=   0.3s\n",
      "[CV] END bootstrap=True, max_depth=40, max_features=5, min_samples_leaf=2, min_samples_split=2, n_estimators=20; total time=   0.1s\n",
      "[CV] END bootstrap=True, max_depth=40, max_features=5, min_samples_leaf=2, min_samples_split=2, n_estimators=20; total time=   0.1s\n",
      "[CV] END bootstrap=True, max_depth=40, max_features=5, min_samples_leaf=2, min_samples_split=2, n_estimators=20; total time=   0.1s\n",
      "[CV] END bootstrap=True, max_depth=40, max_features=5, min_samples_leaf=2, min_samples_split=2, n_estimators=20; total time=   0.2s\n",
      "[CV] END bootstrap=True, max_depth=40, max_features=5, min_samples_leaf=2, min_samples_split=2, n_estimators=20; total time=   0.2s\n",
      "[CV] END bootstrap=True, max_depth=40, max_features=5, min_samples_leaf=2, min_samples_split=2, n_estimators=40; total time=   0.1s\n",
      "[CV] END bootstrap=True, max_depth=40, max_features=5, min_samples_leaf=2, min_samples_split=2, n_estimators=40; total time=   0.2s\n",
      "[CV] END bootstrap=True, max_depth=40, max_features=5, min_samples_leaf=2, min_samples_split=2, n_estimators=40; total time=   0.2s\n",
      "[CV] END bootstrap=True, max_depth=40, max_features=5, min_samples_leaf=2, min_samples_split=2, n_estimators=40; total time=   0.3s\n",
      "[CV] END bootstrap=True, max_depth=40, max_features=5, min_samples_leaf=2, min_samples_split=2, n_estimators=40; total time=   0.4s\n",
      "[CV] END bootstrap=True, max_depth=40, max_features=5, min_samples_leaf=2, min_samples_split=3, n_estimators=20; total time=   0.0s\n",
      "[CV] END bootstrap=True, max_depth=40, max_features=5, min_samples_leaf=2, min_samples_split=3, n_estimators=20; total time=   0.1s\n",
      "[CV] END bootstrap=True, max_depth=40, max_features=5, min_samples_leaf=2, min_samples_split=3, n_estimators=20; total time=   0.1s\n",
      "[CV] END bootstrap=True, max_depth=40, max_features=5, min_samples_leaf=2, min_samples_split=3, n_estimators=20; total time=   0.2s\n",
      "[CV] END bootstrap=True, max_depth=40, max_features=5, min_samples_leaf=2, min_samples_split=3, n_estimators=20; total time=   0.2s\n",
      "[CV] END bootstrap=True, max_depth=40, max_features=5, min_samples_leaf=2, min_samples_split=3, n_estimators=40; total time=   0.1s\n",
      "[CV] END bootstrap=True, max_depth=40, max_features=5, min_samples_leaf=2, min_samples_split=3, n_estimators=40; total time=   0.2s\n",
      "[CV] END bootstrap=True, max_depth=40, max_features=5, min_samples_leaf=2, min_samples_split=3, n_estimators=40; total time=   0.2s\n",
      "[CV] END bootstrap=True, max_depth=40, max_features=5, min_samples_leaf=2, min_samples_split=3, n_estimators=40; total time=   0.3s\n",
      "[CV] END bootstrap=True, max_depth=40, max_features=5, min_samples_leaf=2, min_samples_split=3, n_estimators=40; total time=   0.4s\n",
      "[CV] END bootstrap=True, max_depth=40, max_features=5, min_samples_leaf=3, min_samples_split=2, n_estimators=20; total time=   0.1s\n",
      "[CV] END bootstrap=True, max_depth=40, max_features=5, min_samples_leaf=3, min_samples_split=2, n_estimators=20; total time=   0.1s\n",
      "[CV] END bootstrap=True, max_depth=40, max_features=5, min_samples_leaf=3, min_samples_split=2, n_estimators=20; total time=   0.1s\n",
      "[CV] END bootstrap=True, max_depth=40, max_features=5, min_samples_leaf=3, min_samples_split=2, n_estimators=20; total time=   0.1s\n",
      "[CV] END bootstrap=True, max_depth=40, max_features=5, min_samples_leaf=3, min_samples_split=2, n_estimators=20; total time=   0.2s\n",
      "[CV] END bootstrap=True, max_depth=40, max_features=5, min_samples_leaf=3, min_samples_split=2, n_estimators=40; total time=   0.1s\n",
      "[CV] END bootstrap=True, max_depth=40, max_features=5, min_samples_leaf=3, min_samples_split=2, n_estimators=40; total time=   0.2s\n",
      "[CV] END bootstrap=True, max_depth=40, max_features=5, min_samples_leaf=3, min_samples_split=2, n_estimators=40; total time=   0.2s\n",
      "[CV] END bootstrap=True, max_depth=40, max_features=5, min_samples_leaf=3, min_samples_split=2, n_estimators=40; total time=   0.3s\n",
      "[CV] END bootstrap=True, max_depth=40, max_features=5, min_samples_leaf=3, min_samples_split=2, n_estimators=40; total time=   0.3s\n",
      "[CV] END bootstrap=True, max_depth=40, max_features=5, min_samples_leaf=3, min_samples_split=3, n_estimators=20; total time=   0.1s\n",
      "[CV] END bootstrap=True, max_depth=40, max_features=5, min_samples_leaf=3, min_samples_split=3, n_estimators=20; total time=   0.1s\n",
      "[CV] END bootstrap=True, max_depth=40, max_features=5, min_samples_leaf=3, min_samples_split=3, n_estimators=20; total time=   0.1s\n",
      "[CV] END bootstrap=True, max_depth=40, max_features=5, min_samples_leaf=3, min_samples_split=3, n_estimators=20; total time=   0.1s\n",
      "[CV] END bootstrap=True, max_depth=40, max_features=5, min_samples_leaf=3, min_samples_split=3, n_estimators=20; total time=   0.2s\n",
      "[CV] END bootstrap=True, max_depth=40, max_features=5, min_samples_leaf=3, min_samples_split=3, n_estimators=40; total time=   0.1s\n",
      "[CV] END bootstrap=True, max_depth=40, max_features=5, min_samples_leaf=3, min_samples_split=3, n_estimators=40; total time=   0.2s\n",
      "[CV] END bootstrap=True, max_depth=40, max_features=5, min_samples_leaf=3, min_samples_split=3, n_estimators=40; total time=   0.2s\n",
      "[CV] END bootstrap=True, max_depth=40, max_features=5, min_samples_leaf=3, min_samples_split=3, n_estimators=40; total time=   0.3s\n",
      "[CV] END bootstrap=True, max_depth=40, max_features=5, min_samples_leaf=3, min_samples_split=3, n_estimators=40; total time=   0.3s\n",
      "[CV] END bootstrap=True, max_depth=40, max_features=6, min_samples_leaf=2, min_samples_split=2, n_estimators=20; total time=   0.1s\n",
      "[CV] END bootstrap=True, max_depth=40, max_features=6, min_samples_leaf=2, min_samples_split=2, n_estimators=20; total time=   0.1s\n",
      "[CV] END bootstrap=True, max_depth=40, max_features=6, min_samples_leaf=2, min_samples_split=2, n_estimators=20; total time=   0.1s\n",
      "[CV] END bootstrap=True, max_depth=40, max_features=6, min_samples_leaf=2, min_samples_split=2, n_estimators=20; total time=   0.2s\n",
      "[CV] END bootstrap=True, max_depth=40, max_features=6, min_samples_leaf=2, min_samples_split=2, n_estimators=20; total time=   0.2s\n",
      "[CV] END bootstrap=True, max_depth=40, max_features=6, min_samples_leaf=2, min_samples_split=2, n_estimators=40; total time=   0.1s\n",
      "[CV] END bootstrap=True, max_depth=40, max_features=6, min_samples_leaf=2, min_samples_split=2, n_estimators=40; total time=   0.2s\n",
      "[CV] END bootstrap=True, max_depth=40, max_features=6, min_samples_leaf=2, min_samples_split=2, n_estimators=40; total time=   0.3s\n",
      "[CV] END bootstrap=True, max_depth=40, max_features=6, min_samples_leaf=2, min_samples_split=2, n_estimators=40; total time=   0.3s\n",
      "[CV] END bootstrap=True, max_depth=40, max_features=6, min_samples_leaf=2, min_samples_split=2, n_estimators=40; total time=   0.4s\n",
      "[CV] END bootstrap=True, max_depth=40, max_features=6, min_samples_leaf=2, min_samples_split=3, n_estimators=20; total time=   0.1s\n",
      "[CV] END bootstrap=True, max_depth=40, max_features=6, min_samples_leaf=2, min_samples_split=3, n_estimators=20; total time=   0.1s\n",
      "[CV] END bootstrap=True, max_depth=40, max_features=6, min_samples_leaf=2, min_samples_split=3, n_estimators=20; total time=   0.1s\n",
      "[CV] END bootstrap=True, max_depth=40, max_features=6, min_samples_leaf=2, min_samples_split=3, n_estimators=20; total time=   0.2s\n",
      "[CV] END bootstrap=True, max_depth=40, max_features=6, min_samples_leaf=2, min_samples_split=3, n_estimators=20; total time=   0.2s\n",
      "[CV] END bootstrap=True, max_depth=40, max_features=6, min_samples_leaf=2, min_samples_split=3, n_estimators=40; total time=   0.1s\n",
      "[CV] END bootstrap=True, max_depth=40, max_features=6, min_samples_leaf=2, min_samples_split=3, n_estimators=40; total time=   0.2s\n",
      "[CV] END bootstrap=True, max_depth=40, max_features=6, min_samples_leaf=2, min_samples_split=3, n_estimators=40; total time=   0.3s\n",
      "[CV] END bootstrap=True, max_depth=40, max_features=6, min_samples_leaf=2, min_samples_split=3, n_estimators=40; total time=   0.3s\n",
      "[CV] END bootstrap=True, max_depth=40, max_features=6, min_samples_leaf=2, min_samples_split=3, n_estimators=40; total time=   0.4s\n",
      "[CV] END bootstrap=True, max_depth=40, max_features=6, min_samples_leaf=3, min_samples_split=2, n_estimators=20; total time=   0.0s\n",
      "[CV] END bootstrap=True, max_depth=40, max_features=6, min_samples_leaf=3, min_samples_split=2, n_estimators=20; total time=   0.1s\n",
      "[CV] END bootstrap=True, max_depth=40, max_features=6, min_samples_leaf=3, min_samples_split=2, n_estimators=20; total time=   0.1s\n",
      "[CV] END bootstrap=True, max_depth=40, max_features=6, min_samples_leaf=3, min_samples_split=2, n_estimators=20; total time=   0.2s\n",
      "[CV] END bootstrap=True, max_depth=40, max_features=6, min_samples_leaf=3, min_samples_split=2, n_estimators=20; total time=   0.2s\n",
      "[CV] END bootstrap=True, max_depth=40, max_features=6, min_samples_leaf=3, min_samples_split=2, n_estimators=40; total time=   0.1s\n",
      "[CV] END bootstrap=True, max_depth=40, max_features=6, min_samples_leaf=3, min_samples_split=2, n_estimators=40; total time=   0.2s\n",
      "[CV] END bootstrap=True, max_depth=40, max_features=6, min_samples_leaf=3, min_samples_split=2, n_estimators=40; total time=   0.2s\n",
      "[CV] END bootstrap=True, max_depth=40, max_features=6, min_samples_leaf=3, min_samples_split=2, n_estimators=40; total time=   0.3s\n",
      "[CV] END bootstrap=True, max_depth=40, max_features=6, min_samples_leaf=3, min_samples_split=2, n_estimators=40; total time=   0.4s\n",
      "[CV] END bootstrap=True, max_depth=40, max_features=6, min_samples_leaf=3, min_samples_split=3, n_estimators=20; total time=   0.1s\n",
      "[CV] END bootstrap=True, max_depth=40, max_features=6, min_samples_leaf=3, min_samples_split=3, n_estimators=20; total time=   0.1s\n",
      "[CV] END bootstrap=True, max_depth=40, max_features=6, min_samples_leaf=3, min_samples_split=3, n_estimators=20; total time=   0.1s\n",
      "[CV] END bootstrap=True, max_depth=40, max_features=6, min_samples_leaf=3, min_samples_split=3, n_estimators=20; total time=   0.2s\n",
      "[CV] END bootstrap=True, max_depth=40, max_features=6, min_samples_leaf=3, min_samples_split=3, n_estimators=20; total time=   0.2s\n",
      "[CV] END bootstrap=True, max_depth=40, max_features=6, min_samples_leaf=3, min_samples_split=3, n_estimators=40; total time=   0.1s\n",
      "[CV] END bootstrap=True, max_depth=40, max_features=6, min_samples_leaf=3, min_samples_split=3, n_estimators=40; total time=   0.2s\n",
      "[CV] END bootstrap=True, max_depth=40, max_features=6, min_samples_leaf=3, min_samples_split=3, n_estimators=40; total time=   0.2s\n",
      "[CV] END bootstrap=True, max_depth=40, max_features=6, min_samples_leaf=3, min_samples_split=3, n_estimators=40; total time=   0.3s\n",
      "[CV] END bootstrap=True, max_depth=40, max_features=6, min_samples_leaf=3, min_samples_split=3, n_estimators=40; total time=   0.4s\n",
      "RMSE: -25.708761503505105\n"
     ]
    }
   ],
   "source": [
    "param_grid = {\n",
    "    \"bootstrap\": [True],\n",
    "    \"max_depth\": [20, 30, 40],\n",
    "    \"max_features\": [2, 3, 4, 5, 6],\n",
    "    \"min_samples_leaf\": [2, 3],\n",
    "    \"min_samples_split\": [2, 3],\n",
    "    \"n_estimators\": [20, 40],\n",
    "}\n",
    "\n",
    "rf = RandomForestRegressor()\n",
    "\n",
    "grid_search_rfr = GridSearchCV(\n",
    "    estimator=rf,\n",
    "    param_grid=param_grid,\n",
    "    scoring=\"neg_root_mean_squared_error\",\n",
    "    cv=tscv,\n",
    "    n_jobs=-1,\n",
    "    verbose=2,\n",
    ")\n",
    "grid_search_rfr.fit(features_train, target_train)\n",
    "\n",
    "best_score_rfr = grid_search_rfr.best_score_\n",
    "\n",
    "print(\"RMSE:\", best_score_rfr)"
   ]
  },
  {
   "cell_type": "code",
   "execution_count": 69,
   "metadata": {},
   "outputs": [
    {
     "data": {
      "text/plain": [
       "GridSearchCV(cv=TimeSeriesSplit(gap=0, max_train_size=None, n_splits=5, test_size=None),\n",
       "             estimator=LGBMRegressor(n_jobs=4), n_jobs=-1,\n",
       "             param_grid={'learning_rate': [0.1, 0.3], 'max_depth': [15, 20]},\n",
       "             scoring='neg_root_mean_squared_error')"
      ]
     },
     "execution_count": 69,
     "metadata": {},
     "output_type": "execute_result"
    }
   ],
   "source": [
    "train_data = lightgbm.Dataset(\n",
    "    features_train,\n",
    "    label=target_train,\n",
    "    free_raw_data=False,\n",
    ")\n",
    "\n",
    "param_grid = {\n",
    "    \"learning_rate\": [0.1, 0.3],\n",
    "    \"max_depth\": [15, 20],\n",
    "}\n",
    "\n",
    "lgbm = lightgbm.LGBMRegressor(n_jobs=4)\n",
    "\n",
    "grid_search_lgbm = GridSearchCV(\n",
    "    estimator=lgbm,\n",
    "    param_grid=param_grid,\n",
    "    cv=tscv,\n",
    "    n_jobs=-1,\n",
    "    verbose=0,\n",
    "    scoring=\"neg_root_mean_squared_error\",\n",
    ")\n",
    "grid_search_lgbm.fit(features_train, target_train)\n"
   ]
  },
  {
   "cell_type": "code",
   "execution_count": 70,
   "metadata": {
    "scrolled": false
   },
   "outputs": [
    {
     "name": "stdout",
     "output_type": "stream",
     "text": [
      "RMSE: -25.94125146138324\n"
     ]
    }
   ],
   "source": [
    "best_score_lgbm = grid_search_lgbm.best_score_\n",
    "print(\"RMSE:\",best_score_lgbm)"
   ]
  },
  {
   "cell_type": "code",
   "execution_count": 71,
   "metadata": {
    "scrolled": false
   },
   "outputs": [
    {
     "name": "stdout",
     "output_type": "stream",
     "text": [
      "RandomForestRegressor - RMSE: -25.708761503505105\n",
      "LightGBM - RMSE: -25.94125146138324\n"
     ]
    }
   ],
   "source": [
    "print(\"RandomForestRegressor - RMSE:\",best_score_rfr)\n",
    "print(\"LightGBM - RMSE:\", best_score_lgbm)"
   ]
  },
  {
   "cell_type": "markdown",
   "metadata": {},
   "source": [
    "Лучшая модель - RandomForestRegressor. Будем использовать ее для тестирования данных. "
   ]
  },
  {
   "cell_type": "markdown",
   "metadata": {},
   "source": [
    "## Тестирование"
   ]
  },
  {
   "cell_type": "code",
   "execution_count": 72,
   "metadata": {},
   "outputs": [
    {
     "name": "stdout",
     "output_type": "stream",
     "text": [
      "RMSE: 43.709371801366494\n"
     ]
    }
   ],
   "source": [
    "predict_rfr = grid_search_rfr.predict(features_test)\n",
    "print('RMSE:', mean_squared_error(target_test,predict_rfr)**0.5)"
   ]
  },
  {
   "cell_type": "code",
   "execution_count": 73,
   "metadata": {},
   "outputs": [
    {
     "name": "stdout",
     "output_type": "stream",
     "text": [
      "RMSE dummy: 84.6499381993622\n"
     ]
    }
   ],
   "source": [
    "dummy_regr = DummyRegressor(strategy=\"mean\")\n",
    "fin = dummy_regr.fit(features_train, target_train)\n",
    "fin = fin.predict(features_test)\n",
    "result = mean_squared_error(target_test, fin)**0.5 \n",
    "print(\"RMSE dummy:\", result)"
   ]
  },
  {
   "cell_type": "markdown",
   "metadata": {},
   "source": [
    "Показатель нашей модели 43.709371801366494. Что достаточно для условия модели. "
   ]
  },
  {
   "cell_type": "markdown",
   "metadata": {},
   "source": [
    "Вывод:\n",
    "    1. Были выгружены данные и библиотеки\n",
    "    2. Проанализированны и обработаны данные\n",
    "    3. Проверены несколько моделей\n",
    "    4. Протестирована лучшая модель\n",
    "    "
   ]
  }
 ],
 "metadata": {
  "ExecuteTimeLog": [
   {
    "duration": 1682,
    "start_time": "2023-01-22T07:34:07.740Z"
   },
   {
    "duration": 115,
    "start_time": "2023-01-22T07:34:09.424Z"
   },
   {
    "duration": 0,
    "start_time": "2023-01-22T07:34:09.542Z"
   },
   {
    "duration": 7,
    "start_time": "2023-01-22T07:34:17.035Z"
   },
   {
    "duration": 132,
    "start_time": "2023-01-22T07:34:17.355Z"
   },
   {
    "duration": 13,
    "start_time": "2023-01-22T07:34:17.887Z"
   },
   {
    "duration": 55,
    "start_time": "2023-01-22T07:35:56.975Z"
   },
   {
    "duration": 10,
    "start_time": "2023-01-22T07:35:57.752Z"
   },
   {
    "duration": 7,
    "start_time": "2023-01-22T09:38:04.076Z"
   },
   {
    "duration": 8,
    "start_time": "2023-01-22T09:39:08.777Z"
   },
   {
    "duration": 246,
    "start_time": "2023-01-22T09:41:56.668Z"
   },
   {
    "duration": 219,
    "start_time": "2023-01-22T09:42:32.699Z"
   },
   {
    "duration": 301,
    "start_time": "2023-01-22T09:42:45.323Z"
   },
   {
    "duration": 14,
    "start_time": "2023-01-22T09:43:06.176Z"
   },
   {
    "duration": 243,
    "start_time": "2023-01-22T09:45:11.074Z"
   },
   {
    "duration": 242,
    "start_time": "2023-01-22T09:45:14.890Z"
   },
   {
    "duration": 275,
    "start_time": "2023-01-22T09:45:32.371Z"
   },
   {
    "duration": 56,
    "start_time": "2023-01-22T09:49:27.180Z"
   },
   {
    "duration": 52,
    "start_time": "2023-01-22T09:49:35.037Z"
   },
   {
    "duration": 5,
    "start_time": "2023-01-22T09:49:38.733Z"
   },
   {
    "duration": 51,
    "start_time": "2023-01-22T09:49:38.906Z"
   },
   {
    "duration": 12,
    "start_time": "2023-01-22T09:49:39.106Z"
   },
   {
    "duration": 5,
    "start_time": "2023-01-22T09:49:39.274Z"
   },
   {
    "duration": 8,
    "start_time": "2023-01-22T09:49:39.473Z"
   },
   {
    "duration": 12,
    "start_time": "2023-01-22T09:49:39.851Z"
   },
   {
    "duration": 208,
    "start_time": "2023-01-22T09:49:40.052Z"
   },
   {
    "duration": 360,
    "start_time": "2023-01-22T09:49:40.269Z"
   },
   {
    "duration": 6,
    "start_time": "2023-01-22T09:49:40.676Z"
   },
   {
    "duration": 5,
    "start_time": "2023-01-22T09:49:59.941Z"
   },
   {
    "duration": 9,
    "start_time": "2023-01-22T09:52:49.107Z"
   },
   {
    "duration": 7,
    "start_time": "2023-01-22T09:54:31.663Z"
   },
   {
    "duration": 115,
    "start_time": "2023-01-22T09:57:03.683Z"
   },
   {
    "duration": 5,
    "start_time": "2023-01-22T09:58:06.644Z"
   },
   {
    "duration": 60,
    "start_time": "2023-01-22T09:58:06.827Z"
   },
   {
    "duration": 13,
    "start_time": "2023-01-22T09:58:06.988Z"
   },
   {
    "duration": 5,
    "start_time": "2023-01-22T09:58:07.172Z"
   },
   {
    "duration": 7,
    "start_time": "2023-01-22T09:58:07.362Z"
   },
   {
    "duration": 52,
    "start_time": "2023-01-22T09:58:21.922Z"
   },
   {
    "duration": 51,
    "start_time": "2023-01-22T09:59:03.027Z"
   },
   {
    "duration": 6,
    "start_time": "2023-01-22T09:59:20.180Z"
   },
   {
    "duration": 53,
    "start_time": "2023-01-22T09:59:21.203Z"
   },
   {
    "duration": 11,
    "start_time": "2023-01-22T09:59:22.107Z"
   },
   {
    "duration": 5,
    "start_time": "2023-01-22T09:59:22.930Z"
   },
   {
    "duration": 6,
    "start_time": "2023-01-22T09:59:23.386Z"
   },
   {
    "duration": 15,
    "start_time": "2023-01-22T09:59:23.795Z"
   },
   {
    "duration": 206,
    "start_time": "2023-01-22T09:59:23.947Z"
   },
   {
    "duration": 290,
    "start_time": "2023-01-22T09:59:24.172Z"
   },
   {
    "duration": 6,
    "start_time": "2023-01-22T09:59:24.514Z"
   },
   {
    "duration": 123,
    "start_time": "2023-01-22T09:59:24.717Z"
   },
   {
    "duration": 785,
    "start_time": "2023-01-22T10:00:00.323Z"
   },
   {
    "duration": 123,
    "start_time": "2023-01-22T10:00:01.166Z"
   },
   {
    "duration": 14,
    "start_time": "2023-01-22T10:00:29.484Z"
   },
   {
    "duration": 992,
    "start_time": "2023-01-22T10:00:31.046Z"
   },
   {
    "duration": 14,
    "start_time": "2023-01-22T10:00:51.063Z"
   },
   {
    "duration": 2516,
    "start_time": "2023-01-22T10:00:52.071Z"
   },
   {
    "duration": 2656,
    "start_time": "2023-01-22T10:01:35.891Z"
   },
   {
    "duration": 19,
    "start_time": "2023-01-22T10:01:52.597Z"
   },
   {
    "duration": 2705,
    "start_time": "2023-01-22T10:01:53.962Z"
   },
   {
    "duration": 17957,
    "start_time": "2023-01-22T10:03:42.309Z"
   },
   {
    "duration": 11496,
    "start_time": "2023-01-22T10:07:22.666Z"
   },
   {
    "duration": 0,
    "start_time": "2023-01-22T10:15:00.996Z"
   },
   {
    "duration": 15369,
    "start_time": "2023-01-22T10:15:01.339Z"
   },
   {
    "duration": 18607,
    "start_time": "2023-01-22T10:16:13.051Z"
   },
   {
    "duration": 16849,
    "start_time": "2023-01-22T10:16:31.960Z"
   },
   {
    "duration": 11,
    "start_time": "2023-01-22T10:17:20.478Z"
   },
   {
    "duration": 665,
    "start_time": "2023-01-22T10:17:51.881Z"
   },
   {
    "duration": 523,
    "start_time": "2023-01-22T10:18:06.436Z"
   },
   {
    "duration": 52,
    "start_time": "2023-01-22T10:18:29.917Z"
   },
   {
    "duration": 4,
    "start_time": "2023-01-22T10:19:36.076Z"
   },
   {
    "duration": 750,
    "start_time": "2023-01-22T10:19:38.004Z"
   },
   {
    "duration": 6,
    "start_time": "2023-01-22T10:19:48.805Z"
   },
   {
    "duration": 8,
    "start_time": "2023-01-22T10:21:49.693Z"
   },
   {
    "duration": 5,
    "start_time": "2023-01-22T10:23:30.753Z"
   },
   {
    "duration": 61,
    "start_time": "2023-01-22T10:23:30.932Z"
   },
   {
    "duration": 11,
    "start_time": "2023-01-22T10:23:32.785Z"
   },
   {
    "duration": 15,
    "start_time": "2023-01-22T10:23:32.799Z"
   },
   {
    "duration": 13,
    "start_time": "2023-01-22T10:23:32.816Z"
   },
   {
    "duration": 17,
    "start_time": "2023-01-22T10:23:33.265Z"
   },
   {
    "duration": 255,
    "start_time": "2023-01-22T10:23:33.283Z"
   },
   {
    "duration": 434,
    "start_time": "2023-01-22T10:23:33.540Z"
   },
   {
    "duration": 22,
    "start_time": "2023-01-22T10:23:33.976Z"
   },
   {
    "duration": 16676,
    "start_time": "2023-01-22T10:23:34.001Z"
   },
   {
    "duration": 559,
    "start_time": "2023-01-22T10:23:50.679Z"
   },
   {
    "duration": 4,
    "start_time": "2023-01-22T10:23:51.240Z"
   },
   {
    "duration": 899,
    "start_time": "2023-01-22T10:23:51.247Z"
   },
   {
    "duration": 6,
    "start_time": "2023-01-22T10:23:52.149Z"
   },
   {
    "duration": 16,
    "start_time": "2023-01-22T10:23:52.157Z"
   },
   {
    "duration": 947,
    "start_time": "2023-01-22T10:40:41.961Z"
   },
   {
    "duration": 954,
    "start_time": "2023-01-22T10:40:59.008Z"
   },
   {
    "duration": 23,
    "start_time": "2023-01-22T10:41:22.464Z"
   },
   {
    "duration": 53,
    "start_time": "2023-01-22T10:41:22.862Z"
   },
   {
    "duration": 10,
    "start_time": "2023-01-22T10:41:23.048Z"
   },
   {
    "duration": 6,
    "start_time": "2023-01-22T10:41:23.229Z"
   },
   {
    "duration": 7,
    "start_time": "2023-01-22T10:41:23.426Z"
   },
   {
    "duration": 13,
    "start_time": "2023-01-22T10:41:24.164Z"
   },
   {
    "duration": 195,
    "start_time": "2023-01-22T10:41:25.051Z"
   },
   {
    "duration": 23,
    "start_time": "2023-01-22T10:41:30.351Z"
   },
   {
    "duration": 15954,
    "start_time": "2023-01-22T10:41:34.549Z"
   },
   {
    "duration": 530,
    "start_time": "2023-01-22T10:41:50.506Z"
   },
   {
    "duration": 4,
    "start_time": "2023-01-22T10:41:51.039Z"
   },
   {
    "duration": 709,
    "start_time": "2023-01-22T10:41:51.046Z"
   },
   {
    "duration": 6,
    "start_time": "2023-01-22T10:41:51.757Z"
   },
   {
    "duration": 76,
    "start_time": "2023-01-22T10:41:51.764Z"
   },
   {
    "duration": 5,
    "start_time": "2023-01-22T10:45:37.560Z"
   },
   {
    "duration": 51,
    "start_time": "2023-01-22T10:45:37.903Z"
   },
   {
    "duration": 10,
    "start_time": "2023-01-22T10:45:38.079Z"
   },
   {
    "duration": 7,
    "start_time": "2023-01-22T10:45:38.259Z"
   },
   {
    "duration": 7,
    "start_time": "2023-01-22T10:45:38.436Z"
   },
   {
    "duration": 12,
    "start_time": "2023-01-22T10:45:38.791Z"
   },
   {
    "duration": 224,
    "start_time": "2023-01-22T10:45:39.167Z"
   },
   {
    "duration": 30,
    "start_time": "2023-01-22T10:45:39.913Z"
   },
   {
    "duration": 16429,
    "start_time": "2023-01-22T10:45:40.118Z"
   },
   {
    "duration": 497,
    "start_time": "2023-01-22T10:45:56.549Z"
   },
   {
    "duration": 4,
    "start_time": "2023-01-22T10:45:57.048Z"
   },
   {
    "duration": 890,
    "start_time": "2023-01-22T10:45:57.055Z"
   },
   {
    "duration": 6,
    "start_time": "2023-01-22T10:45:57.947Z"
   },
   {
    "duration": 8,
    "start_time": "2023-01-22T10:45:57.954Z"
   },
   {
    "duration": 9,
    "start_time": "2023-01-22T10:45:57.963Z"
   },
   {
    "duration": 10,
    "start_time": "2023-01-22T10:46:48.155Z"
   },
   {
    "duration": 5,
    "start_time": "2023-01-22T10:47:41.281Z"
   },
   {
    "duration": 56,
    "start_time": "2023-01-22T10:47:41.631Z"
   },
   {
    "duration": 11,
    "start_time": "2023-01-22T10:47:41.810Z"
   },
   {
    "duration": 5,
    "start_time": "2023-01-22T10:47:41.994Z"
   },
   {
    "duration": 6,
    "start_time": "2023-01-22T10:47:42.165Z"
   },
   {
    "duration": 13,
    "start_time": "2023-01-22T10:47:42.518Z"
   },
   {
    "duration": 215,
    "start_time": "2023-01-22T10:47:42.879Z"
   },
   {
    "duration": 17,
    "start_time": "2023-01-22T10:47:43.653Z"
   },
   {
    "duration": 16236,
    "start_time": "2023-01-22T10:47:43.859Z"
   },
   {
    "duration": 150,
    "start_time": "2023-01-22T10:48:00.097Z"
   },
   {
    "duration": 5,
    "start_time": "2023-01-22T10:48:00.248Z"
   },
   {
    "duration": 798,
    "start_time": "2023-01-22T10:48:00.255Z"
   },
   {
    "duration": 5,
    "start_time": "2023-01-22T10:48:01.055Z"
   },
   {
    "duration": 46,
    "start_time": "2023-01-22T10:48:01.061Z"
   },
   {
    "duration": 62,
    "start_time": "2023-01-22T10:48:01.108Z"
   },
   {
    "duration": 60,
    "start_time": "2023-01-22T12:11:43.901Z"
   },
   {
    "duration": 11,
    "start_time": "2023-01-22T12:16:21.404Z"
   },
   {
    "duration": 10,
    "start_time": "2023-01-22T12:16:31.997Z"
   },
   {
    "duration": 26,
    "start_time": "2023-01-22T12:18:29.958Z"
   },
   {
    "duration": 52,
    "start_time": "2023-01-22T12:18:30.518Z"
   },
   {
    "duration": 11,
    "start_time": "2023-01-22T12:18:31.456Z"
   },
   {
    "duration": 5,
    "start_time": "2023-01-22T12:18:31.658Z"
   },
   {
    "duration": 6,
    "start_time": "2023-01-22T12:18:31.857Z"
   },
   {
    "duration": 12,
    "start_time": "2023-01-22T12:18:32.287Z"
   },
   {
    "duration": 227,
    "start_time": "2023-01-22T12:18:32.701Z"
   },
   {
    "duration": 218,
    "start_time": "2023-01-22T12:18:36.364Z"
   },
   {
    "duration": 170,
    "start_time": "2023-01-22T12:18:49.225Z"
   },
   {
    "duration": 176,
    "start_time": "2023-01-22T12:19:51.856Z"
   },
   {
    "duration": 161,
    "start_time": "2023-01-22T12:20:11.928Z"
   },
   {
    "duration": 140,
    "start_time": "2023-01-22T12:21:05.657Z"
   },
   {
    "duration": 162,
    "start_time": "2023-01-22T12:21:30.787Z"
   },
   {
    "duration": 49,
    "start_time": "2023-01-22T12:22:15.870Z"
   },
   {
    "duration": 158,
    "start_time": "2023-01-22T12:22:52.270Z"
   },
   {
    "duration": 157,
    "start_time": "2023-01-22T12:23:11.591Z"
   },
   {
    "duration": 266,
    "start_time": "2023-01-22T12:23:41.232Z"
   },
   {
    "duration": 169,
    "start_time": "2023-01-22T12:24:30.791Z"
   },
   {
    "duration": 156,
    "start_time": "2023-01-22T12:24:31.559Z"
   },
   {
    "duration": 221,
    "start_time": "2023-01-22T12:24:32.280Z"
   },
   {
    "duration": 207,
    "start_time": "2023-01-22T12:25:16.239Z"
   },
   {
    "duration": 356,
    "start_time": "2023-01-22T12:27:37.946Z"
   },
   {
    "duration": 27,
    "start_time": "2023-01-22T12:29:00.160Z"
   },
   {
    "duration": 29,
    "start_time": "2023-01-22T12:29:24.552Z"
   },
   {
    "duration": 6,
    "start_time": "2023-01-22T12:35:20.219Z"
   },
   {
    "duration": 54,
    "start_time": "2023-01-22T12:35:20.764Z"
   },
   {
    "duration": 5,
    "start_time": "2023-01-22T12:35:23.736Z"
   },
   {
    "duration": 59,
    "start_time": "2023-01-22T12:35:23.743Z"
   },
   {
    "duration": 9,
    "start_time": "2023-01-22T12:35:23.819Z"
   },
   {
    "duration": 9,
    "start_time": "2023-01-22T12:35:23.831Z"
   },
   {
    "duration": 16,
    "start_time": "2023-01-22T12:35:23.842Z"
   },
   {
    "duration": 29,
    "start_time": "2023-01-22T12:35:23.859Z"
   },
   {
    "duration": 239,
    "start_time": "2023-01-22T12:35:23.890Z"
   },
   {
    "duration": 175,
    "start_time": "2023-01-22T12:35:24.136Z"
   },
   {
    "duration": 188,
    "start_time": "2023-01-22T12:35:24.312Z"
   },
   {
    "duration": 246,
    "start_time": "2023-01-22T12:35:24.502Z"
   },
   {
    "duration": 222,
    "start_time": "2023-01-22T12:35:24.749Z"
   },
   {
    "duration": 31,
    "start_time": "2023-01-22T12:35:24.973Z"
   },
   {
    "duration": 143320,
    "start_time": "2023-01-22T12:35:25.006Z"
   },
   {
    "duration": 1412,
    "start_time": "2023-01-22T12:37:48.328Z"
   },
   {
    "duration": 97,
    "start_time": "2023-01-22T12:37:49.742Z"
   },
   {
    "duration": 6615,
    "start_time": "2023-01-22T12:37:49.842Z"
   },
   {
    "duration": 5,
    "start_time": "2023-01-22T12:37:56.459Z"
   },
   {
    "duration": 75,
    "start_time": "2023-01-22T12:37:56.466Z"
   },
   {
    "duration": 13,
    "start_time": "2023-01-22T12:37:56.543Z"
   },
   {
    "duration": 51,
    "start_time": "2023-01-22T12:37:56.558Z"
   },
   {
    "duration": 0,
    "start_time": "2023-01-22T12:43:09.740Z"
   },
   {
    "duration": 85415,
    "start_time": "2023-01-22T12:44:36.468Z"
   },
   {
    "duration": 85708,
    "start_time": "2023-01-22T12:47:36.803Z"
   },
   {
    "duration": 3,
    "start_time": "2023-01-22T12:51:08.956Z"
   },
   {
    "duration": 2599,
    "start_time": "2023-01-22T12:53:13.138Z"
   },
   {
    "duration": 5,
    "start_time": "2023-01-22T12:54:21.362Z"
   },
   {
    "duration": 4,
    "start_time": "2023-01-22T12:54:28.666Z"
   },
   {
    "duration": 6,
    "start_time": "2023-01-22T12:55:54.540Z"
   },
   {
    "duration": 50,
    "start_time": "2023-01-22T12:56:03.072Z"
   },
   {
    "duration": 8271,
    "start_time": "2023-01-22T12:56:09.170Z"
   },
   {
    "duration": 72,
    "start_time": "2023-01-22T12:57:52.101Z"
   },
   {
    "duration": 9,
    "start_time": "2023-01-22T12:57:58.890Z"
   },
   {
    "duration": 87163,
    "start_time": "2023-01-22T12:58:07.064Z"
   },
   {
    "duration": 3,
    "start_time": "2023-01-22T12:59:48.005Z"
   },
   {
    "duration": 86868,
    "start_time": "2023-01-22T13:05:42.237Z"
   },
   {
    "duration": 7,
    "start_time": "2023-01-22T13:07:25.813Z"
   },
   {
    "duration": 70,
    "start_time": "2023-01-22T13:07:25.822Z"
   },
   {
    "duration": 11,
    "start_time": "2023-01-22T13:07:25.895Z"
   },
   {
    "duration": 21,
    "start_time": "2023-01-22T13:07:25.909Z"
   },
   {
    "duration": 29,
    "start_time": "2023-01-22T13:07:25.932Z"
   },
   {
    "duration": 19,
    "start_time": "2023-01-22T13:07:25.963Z"
   },
   {
    "duration": 220,
    "start_time": "2023-01-22T13:07:25.983Z"
   },
   {
    "duration": 163,
    "start_time": "2023-01-22T13:07:26.205Z"
   },
   {
    "duration": 168,
    "start_time": "2023-01-22T13:07:26.371Z"
   },
   {
    "duration": 238,
    "start_time": "2023-01-22T13:07:26.541Z"
   },
   {
    "duration": 227,
    "start_time": "2023-01-22T13:07:26.781Z"
   },
   {
    "duration": 42,
    "start_time": "2023-01-22T13:07:27.010Z"
   },
   {
    "duration": 3,
    "start_time": "2023-01-22T13:07:27.054Z"
   },
   {
    "duration": 79216,
    "start_time": "2023-01-22T13:07:27.059Z"
   },
   {
    "duration": 0,
    "start_time": "2023-01-22T13:08:46.276Z"
   },
   {
    "duration": 0,
    "start_time": "2023-01-22T13:08:46.278Z"
   },
   {
    "duration": 0,
    "start_time": "2023-01-22T13:08:46.279Z"
   },
   {
    "duration": 0,
    "start_time": "2023-01-22T13:08:46.280Z"
   },
   {
    "duration": 0,
    "start_time": "2023-01-22T13:08:46.281Z"
   },
   {
    "duration": 0,
    "start_time": "2023-01-22T13:08:46.282Z"
   },
   {
    "duration": 20,
    "start_time": "2023-01-22T13:10:22.437Z"
   },
   {
    "duration": 19,
    "start_time": "2023-01-22T13:11:11.228Z"
   },
   {
    "duration": 85816,
    "start_time": "2023-01-22T13:11:35.723Z"
   },
   {
    "duration": 2156,
    "start_time": "2023-01-22T13:15:07.681Z"
   },
   {
    "duration": 978,
    "start_time": "2023-01-22T13:15:39.363Z"
   },
   {
    "duration": 1299,
    "start_time": "2023-01-22T13:15:58.340Z"
   },
   {
    "duration": 4,
    "start_time": "2023-01-22T13:16:38.938Z"
   },
   {
    "duration": 7728,
    "start_time": "2023-01-22T13:16:40.809Z"
   },
   {
    "duration": 2125,
    "start_time": "2023-01-22T13:18:31.412Z"
   },
   {
    "duration": 23,
    "start_time": "2023-01-22T13:19:40.387Z"
   },
   {
    "duration": 1306,
    "start_time": "2023-01-22T13:20:37.733Z"
   },
   {
    "duration": 6,
    "start_time": "2023-01-22T13:26:08.412Z"
   },
   {
    "duration": 5,
    "start_time": "2023-01-22T13:26:09.867Z"
   },
   {
    "duration": 60,
    "start_time": "2023-01-22T13:26:09.874Z"
   },
   {
    "duration": 10,
    "start_time": "2023-01-22T13:26:09.936Z"
   },
   {
    "duration": 6,
    "start_time": "2023-01-22T13:26:09.948Z"
   },
   {
    "duration": 10,
    "start_time": "2023-01-22T13:26:09.955Z"
   },
   {
    "duration": 12,
    "start_time": "2023-01-22T13:26:09.966Z"
   },
   {
    "duration": 242,
    "start_time": "2023-01-22T13:26:09.979Z"
   },
   {
    "duration": 164,
    "start_time": "2023-01-22T13:26:10.223Z"
   },
   {
    "duration": 168,
    "start_time": "2023-01-22T13:26:10.388Z"
   },
   {
    "duration": 232,
    "start_time": "2023-01-22T13:26:10.559Z"
   },
   {
    "duration": 215,
    "start_time": "2023-01-22T13:26:10.792Z"
   },
   {
    "duration": 41,
    "start_time": "2023-01-22T13:26:11.008Z"
   },
   {
    "duration": 2,
    "start_time": "2023-01-22T13:26:11.051Z"
   },
   {
    "duration": 86346,
    "start_time": "2023-01-22T13:26:11.055Z"
   },
   {
    "duration": 2244,
    "start_time": "2023-01-22T13:27:37.403Z"
   },
   {
    "duration": 8611,
    "start_time": "2023-01-22T13:27:39.737Z"
   },
   {
    "duration": 3,
    "start_time": "2023-01-22T13:27:48.350Z"
   },
   {
    "duration": 6,
    "start_time": "2023-01-22T13:27:48.355Z"
   },
   {
    "duration": 78,
    "start_time": "2023-01-22T13:27:48.363Z"
   },
   {
    "duration": 67,
    "start_time": "2023-01-22T13:27:48.443Z"
   },
   {
    "duration": 5,
    "start_time": "2023-01-22T13:36:49.493Z"
   },
   {
    "duration": 7,
    "start_time": "2023-01-22T13:36:53.632Z"
   },
   {
    "duration": 54,
    "start_time": "2023-01-22T13:36:53.642Z"
   },
   {
    "duration": 10,
    "start_time": "2023-01-22T13:36:53.698Z"
   },
   {
    "duration": 9,
    "start_time": "2023-01-22T13:36:53.710Z"
   },
   {
    "duration": 9,
    "start_time": "2023-01-22T13:36:53.721Z"
   },
   {
    "duration": 18,
    "start_time": "2023-01-22T13:36:53.732Z"
   },
   {
    "duration": 218,
    "start_time": "2023-01-22T13:36:53.751Z"
   },
   {
    "duration": 173,
    "start_time": "2023-01-22T13:36:53.971Z"
   },
   {
    "duration": 157,
    "start_time": "2023-01-22T13:36:54.146Z"
   },
   {
    "duration": 253,
    "start_time": "2023-01-22T13:36:54.306Z"
   },
   {
    "duration": 219,
    "start_time": "2023-01-22T13:36:54.563Z"
   },
   {
    "duration": 31,
    "start_time": "2023-01-22T13:36:54.784Z"
   },
   {
    "duration": 3,
    "start_time": "2023-01-22T13:36:54.816Z"
   },
   {
    "duration": 85597,
    "start_time": "2023-01-22T13:36:54.821Z"
   },
   {
    "duration": 917,
    "start_time": "2023-01-22T13:38:20.420Z"
   },
   {
    "duration": 7919,
    "start_time": "2023-01-22T13:38:21.339Z"
   },
   {
    "duration": 5,
    "start_time": "2023-01-22T13:38:29.336Z"
   },
   {
    "duration": 26,
    "start_time": "2023-01-22T13:38:29.342Z"
   },
   {
    "duration": 33,
    "start_time": "2023-01-22T13:38:29.370Z"
   },
   {
    "duration": 0,
    "start_time": "2023-01-22T13:38:29.405Z"
   },
   {
    "duration": 0,
    "start_time": "2023-01-22T13:38:29.407Z"
   },
   {
    "duration": 0,
    "start_time": "2023-01-22T13:38:29.407Z"
   },
   {
    "duration": 12,
    "start_time": "2023-01-22T13:40:01.133Z"
   },
   {
    "duration": 14,
    "start_time": "2023-01-22T13:40:10.655Z"
   },
   {
    "duration": 14,
    "start_time": "2023-01-22T13:40:13.413Z"
   },
   {
    "duration": 10,
    "start_time": "2023-01-22T13:43:03.020Z"
   },
   {
    "duration": 48854,
    "start_time": "2023-01-22T13:49:07.510Z"
   },
   {
    "duration": 88856,
    "start_time": "2023-01-22T13:49:57.560Z"
   },
   {
    "duration": 17,
    "start_time": "2023-01-22T13:52:01.958Z"
   },
   {
    "duration": 15,
    "start_time": "2023-01-22T13:53:29.355Z"
   },
   {
    "duration": 11,
    "start_time": "2023-01-22T13:53:46.077Z"
   },
   {
    "duration": 86210,
    "start_time": "2023-01-22T13:53:50.229Z"
   },
   {
    "duration": 14,
    "start_time": "2023-01-22T13:55:22.414Z"
   },
   {
    "duration": 732,
    "start_time": "2023-01-22T13:56:00.807Z"
   },
   {
    "duration": 10,
    "start_time": "2023-01-22T13:56:05.591Z"
   },
   {
    "duration": 1540,
    "start_time": "2023-01-22T13:56:22.999Z"
   },
   {
    "duration": 10,
    "start_time": "2023-01-22T13:56:31.807Z"
   },
   {
    "duration": 11,
    "start_time": "2023-01-22T13:56:49.255Z"
   },
   {
    "duration": 1135,
    "start_time": "2023-01-22T13:56:53.903Z"
   },
   {
    "duration": 4,
    "start_time": "2023-01-22T13:57:28.252Z"
   },
   {
    "duration": 25,
    "start_time": "2023-01-22T13:59:31.702Z"
   },
   {
    "duration": 8808,
    "start_time": "2023-01-22T14:00:59.549Z"
   },
   {
    "duration": 3,
    "start_time": "2023-01-22T14:01:18.888Z"
   },
   {
    "duration": 4,
    "start_time": "2023-01-22T14:01:20.298Z"
   },
   {
    "duration": 8,
    "start_time": "2023-01-22T14:02:12.824Z"
   },
   {
    "duration": 6,
    "start_time": "2023-01-22T14:02:26.702Z"
   },
   {
    "duration": 45,
    "start_time": "2023-01-22T14:03:30.983Z"
   },
   {
    "duration": 5,
    "start_time": "2023-01-22T14:03:37.988Z"
   },
   {
    "duration": 77,
    "start_time": "2023-01-22T14:03:37.996Z"
   },
   {
    "duration": 10,
    "start_time": "2023-01-22T14:03:38.075Z"
   },
   {
    "duration": 27,
    "start_time": "2023-01-22T14:03:38.087Z"
   },
   {
    "duration": 41,
    "start_time": "2023-01-22T14:03:38.116Z"
   },
   {
    "duration": 36,
    "start_time": "2023-01-22T14:03:38.159Z"
   },
   {
    "duration": 304,
    "start_time": "2023-01-22T14:03:38.196Z"
   },
   {
    "duration": 198,
    "start_time": "2023-01-22T14:03:38.502Z"
   },
   {
    "duration": 165,
    "start_time": "2023-01-22T14:03:38.702Z"
   },
   {
    "duration": 239,
    "start_time": "2023-01-22T14:03:38.870Z"
   },
   {
    "duration": 223,
    "start_time": "2023-01-22T14:03:39.111Z"
   },
   {
    "duration": 38,
    "start_time": "2023-01-22T14:03:39.337Z"
   },
   {
    "duration": 3,
    "start_time": "2023-01-22T14:03:39.378Z"
   },
   {
    "duration": 86381,
    "start_time": "2023-01-22T14:03:39.382Z"
   },
   {
    "duration": 7692,
    "start_time": "2023-01-22T14:05:05.764Z"
   },
   {
    "duration": 3,
    "start_time": "2023-01-22T14:05:13.458Z"
   },
   {
    "duration": 3,
    "start_time": "2023-01-22T14:05:13.537Z"
   },
   {
    "duration": 40,
    "start_time": "2023-01-22T14:05:13.542Z"
   },
   {
    "duration": 7,
    "start_time": "2023-01-22T14:05:13.584Z"
   },
   {
    "duration": 34,
    "start_time": "2023-01-22T14:05:13.592Z"
   },
   {
    "duration": 2075,
    "start_time": "2023-01-23T08:13:02.047Z"
   },
   {
    "duration": 135,
    "start_time": "2023-01-23T08:13:04.123Z"
   },
   {
    "duration": 16,
    "start_time": "2023-01-23T08:13:04.260Z"
   },
   {
    "duration": 12,
    "start_time": "2023-01-23T08:13:04.279Z"
   },
   {
    "duration": 12,
    "start_time": "2023-01-23T08:13:04.292Z"
   },
   {
    "duration": 16,
    "start_time": "2023-01-23T08:13:04.305Z"
   },
   {
    "duration": 229,
    "start_time": "2023-01-23T08:13:04.323Z"
   },
   {
    "duration": 126,
    "start_time": "2023-01-23T08:13:04.553Z"
   },
   {
    "duration": 0,
    "start_time": "2023-01-23T08:13:04.680Z"
   },
   {
    "duration": 0,
    "start_time": "2023-01-23T08:13:04.681Z"
   },
   {
    "duration": 0,
    "start_time": "2023-01-23T08:13:04.682Z"
   },
   {
    "duration": 0,
    "start_time": "2023-01-23T08:13:04.683Z"
   },
   {
    "duration": 0,
    "start_time": "2023-01-23T08:13:04.684Z"
   },
   {
    "duration": 0,
    "start_time": "2023-01-23T08:13:04.686Z"
   },
   {
    "duration": 0,
    "start_time": "2023-01-23T08:13:04.687Z"
   },
   {
    "duration": 0,
    "start_time": "2023-01-23T08:13:04.688Z"
   },
   {
    "duration": 0,
    "start_time": "2023-01-23T08:13:04.690Z"
   },
   {
    "duration": 0,
    "start_time": "2023-01-23T08:13:04.691Z"
   },
   {
    "duration": 0,
    "start_time": "2023-01-23T08:13:04.692Z"
   },
   {
    "duration": 0,
    "start_time": "2023-01-23T08:13:04.693Z"
   },
   {
    "duration": 6,
    "start_time": "2023-01-23T08:13:28.802Z"
   },
   {
    "duration": 72,
    "start_time": "2023-01-23T08:13:28.811Z"
   },
   {
    "duration": 11,
    "start_time": "2023-01-23T08:13:28.885Z"
   },
   {
    "duration": 14,
    "start_time": "2023-01-23T08:13:28.898Z"
   },
   {
    "duration": 12,
    "start_time": "2023-01-23T08:13:28.913Z"
   },
   {
    "duration": 83,
    "start_time": "2023-01-23T08:13:28.927Z"
   },
   {
    "duration": 218,
    "start_time": "2023-01-23T08:13:29.011Z"
   },
   {
    "duration": 12,
    "start_time": "2023-01-23T08:13:29.231Z"
   },
   {
    "duration": 142,
    "start_time": "2023-01-23T08:13:29.249Z"
   },
   {
    "duration": 147,
    "start_time": "2023-01-23T08:13:29.393Z"
   },
   {
    "duration": 221,
    "start_time": "2023-01-23T08:13:29.542Z"
   },
   {
    "duration": 221,
    "start_time": "2023-01-23T08:13:29.765Z"
   },
   {
    "duration": 32,
    "start_time": "2023-01-23T08:13:29.988Z"
   },
   {
    "duration": 3,
    "start_time": "2023-01-23T08:13:30.022Z"
   },
   {
    "duration": 82125,
    "start_time": "2023-01-23T08:13:30.026Z"
   },
   {
    "duration": 7296,
    "start_time": "2023-01-23T08:14:52.153Z"
   },
   {
    "duration": 4,
    "start_time": "2023-01-23T08:14:59.451Z"
   },
   {
    "duration": 8,
    "start_time": "2023-01-23T08:14:59.456Z"
   },
   {
    "duration": 14,
    "start_time": "2023-01-23T08:14:59.466Z"
   },
   {
    "duration": 7,
    "start_time": "2023-01-23T08:14:59.481Z"
   },
   {
    "duration": 7,
    "start_time": "2023-01-23T08:14:59.489Z"
   },
   {
    "duration": 170,
    "start_time": "2023-01-23T08:14:59.498Z"
   },
   {
    "duration": 134,
    "start_time": "2023-01-23T08:15:23.862Z"
   },
   {
    "duration": 43,
    "start_time": "2023-01-23T08:15:40.656Z"
   },
   {
    "duration": 226,
    "start_time": "2023-01-23T08:15:46.969Z"
   },
   {
    "duration": 135,
    "start_time": "2023-01-23T08:16:28.854Z"
   },
   {
    "duration": 147,
    "start_time": "2023-01-23T08:18:26.032Z"
   },
   {
    "duration": 129,
    "start_time": "2023-01-23T08:18:28.557Z"
   },
   {
    "duration": 194,
    "start_time": "2023-01-23T08:18:32.927Z"
   },
   {
    "duration": 49,
    "start_time": "2023-01-23T08:20:38.830Z"
   },
   {
    "duration": 140,
    "start_time": "2023-01-23T08:20:59.991Z"
   },
   {
    "duration": 133,
    "start_time": "2023-01-23T08:21:09.135Z"
   },
   {
    "duration": 128,
    "start_time": "2023-01-23T08:21:14.169Z"
   },
   {
    "duration": 134,
    "start_time": "2023-01-23T08:21:18.294Z"
   },
   {
    "duration": 135,
    "start_time": "2023-01-23T08:22:25.705Z"
   },
   {
    "duration": 129,
    "start_time": "2023-01-23T08:22:34.816Z"
   },
   {
    "duration": 144,
    "start_time": "2023-01-23T08:22:44.280Z"
   },
   {
    "duration": 135,
    "start_time": "2023-01-23T08:23:08.329Z"
   },
   {
    "duration": 138,
    "start_time": "2023-01-23T08:23:52.306Z"
   },
   {
    "duration": 136,
    "start_time": "2023-01-23T08:23:57.479Z"
   },
   {
    "duration": 163,
    "start_time": "2023-01-23T08:24:01.849Z"
   },
   {
    "duration": 134,
    "start_time": "2023-01-23T08:24:03.720Z"
   },
   {
    "duration": 189,
    "start_time": "2023-01-23T08:24:04.563Z"
   },
   {
    "duration": 43,
    "start_time": "2023-01-23T08:25:09.606Z"
   },
   {
    "duration": 48,
    "start_time": "2023-01-23T08:25:39.600Z"
   },
   {
    "duration": 300,
    "start_time": "2023-01-23T08:25:54.434Z"
   },
   {
    "duration": 6,
    "start_time": "2023-01-23T08:46:37.417Z"
   },
   {
    "duration": 60,
    "start_time": "2023-01-23T08:46:37.425Z"
   },
   {
    "duration": 8,
    "start_time": "2023-01-23T08:46:37.487Z"
   },
   {
    "duration": 6,
    "start_time": "2023-01-23T08:46:37.497Z"
   },
   {
    "duration": 7,
    "start_time": "2023-01-23T08:46:37.505Z"
   },
   {
    "duration": 15,
    "start_time": "2023-01-23T08:46:37.513Z"
   },
   {
    "duration": 223,
    "start_time": "2023-01-23T08:46:37.529Z"
   },
   {
    "duration": 10,
    "start_time": "2023-01-23T08:46:37.753Z"
   },
   {
    "duration": 158,
    "start_time": "2023-01-23T08:46:37.765Z"
   },
   {
    "duration": 150,
    "start_time": "2023-01-23T08:46:37.925Z"
   },
   {
    "duration": 217,
    "start_time": "2023-01-23T08:46:38.077Z"
   },
   {
    "duration": 28,
    "start_time": "2023-01-23T08:46:38.296Z"
   },
   {
    "duration": 2,
    "start_time": "2023-01-23T08:46:38.326Z"
   },
   {
    "duration": 89648,
    "start_time": "2023-01-23T08:46:38.329Z"
   },
   {
    "duration": 14703,
    "start_time": "2023-01-23T08:48:07.978Z"
   },
   {
    "duration": 3,
    "start_time": "2023-01-23T08:48:22.682Z"
   },
   {
    "duration": 4,
    "start_time": "2023-01-23T08:48:22.748Z"
   },
   {
    "duration": 28,
    "start_time": "2023-01-23T08:48:22.754Z"
   },
   {
    "duration": 5,
    "start_time": "2023-01-23T08:48:22.784Z"
   }
  ],
  "kernelspec": {
   "display_name": "Python 3 (ipykernel)",
   "language": "python",
   "name": "python3"
  },
  "language_info": {
   "codemirror_mode": {
    "name": "ipython",
    "version": 3
   },
   "file_extension": ".py",
   "mimetype": "text/x-python",
   "name": "python",
   "nbconvert_exporter": "python",
   "pygments_lexer": "ipython3",
   "version": "3.9.12"
  },
  "toc": {
   "base_numbering": 1,
   "nav_menu": {},
   "number_sections": true,
   "sideBar": true,
   "skip_h1_title": true,
   "title_cell": "Содержание",
   "title_sidebar": "Contents",
   "toc_cell": true,
   "toc_position": {},
   "toc_section_display": true,
   "toc_window_display": true
  }
 },
 "nbformat": 4,
 "nbformat_minor": 2
}
